{
 "cells": [
  {
   "cell_type": "code",
   "execution_count": 1,
   "metadata": {
    "collapsed": false
   },
   "outputs": [],
   "source": [
    "import spotipy\n",
    "from spotipy.oauth2 import SpotifyClientCredentials\n",
    "import json\n",
    "from googleapiclient.discovery import build\n",
    "from google.oauth2.service_account import Credentials"
   ]
  },
  {
   "cell_type": "code",
   "execution_count": 2,
   "metadata": {
    "collapsed": false
   },
   "outputs": [],
   "source": [
    "import pandas as pd\n",
    "import re\n",
    "import pprint"
   ]
  },
  {
   "cell_type": "code",
   "execution_count": 3,
   "metadata": {
    "collapsed": false
   },
   "outputs": [],
   "source": [
    "# autoreload custom modules\n",
    "%load_ext autoreload\n",
    "%autoreload 2"
   ]
  },
  {
   "cell_type": "code",
   "execution_count": 13,
   "metadata": {
    "collapsed": false
   },
   "outputs": [],
   "source": [
    "from prototyping.data import load_from_api\n",
    "from prototyping.playlist import create_playlist"
   ]
  },
  {
   "cell_type": "markdown",
   "metadata": {
    "collapsed": false
   },
   "source": [
    "## Connexion a spotify"
   ]
  },
  {
   "cell_type": "code",
   "execution_count": 16,
   "metadata": {
    "collapsed": false
   },
   "outputs": [],
   "source": [
    "CRED_PATH_SPOTIFY = \"credentials-spotify.json\""
   ]
  },
  {
   "cell_type": "code",
   "execution_count": 17,
   "metadata": {
    "collapsed": false
   },
   "outputs": [],
   "source": [
    "with open(CRED_PATH_SPOTIFY, 'r') as handle:\n",
    "    data = json.load(handle)"
   ]
  },
  {
   "cell_type": "code",
   "execution_count": 18,
   "metadata": {
    "collapsed": false
   },
   "outputs": [],
   "source": [
    "spotify = spotipy.Spotify(auth_manager=SpotifyClientCredentials(\n",
    "    **data\n",
    "))"
   ]
  },
  {
   "cell_type": "markdown",
   "metadata": {
    "collapsed": false
   },
   "source": [
    "## Connexion a google"
   ]
  },
  {
   "cell_type": "code",
   "execution_count": 19,
   "metadata": {
    "collapsed": false
   },
   "outputs": [],
   "source": [
    "df = load_from_api()"
   ]
  },
  {
   "cell_type": "code",
   "execution_count": 20,
   "metadata": {
    "collapsed": false
   },
   "outputs": [
    {
     "name": "stdout",
     "output_type": "stream",
     "text": [
      "Loading data from API...\n"
     ]
    },
    {
     "name": "stdout",
     "output_type": "stream",
     "text": [
      "Analyzing data...\n",
      "Creating playlist...\n"
     ]
    }
   ],
   "source": [
    "playlist = create_playlist()"
   ]
  },
  {
   "cell_type": "code",
   "execution_count": 21,
   "metadata": {
    "collapsed": false
   },
   "outputs": [
    {
     "data": {
      "text/html": [
       "<div>\n",
       "<style scoped>\n",
       "    .dataframe tbody tr th:only-of-type {\n",
       "        vertical-align: middle;\n",
       "    }\n",
       "\n",
       "    .dataframe tbody tr th {\n",
       "        vertical-align: top;\n",
       "    }\n",
       "\n",
       "    .dataframe thead th {\n",
       "        text-align: right;\n",
       "    }\n",
       "</style>\n",
       "<table border=\"1\" class=\"dataframe\">\n",
       "  <thead>\n",
       "    <tr style=\"text-align: right;\">\n",
       "      <th></th>\n",
       "      <th></th>\n",
       "      <th></th>\n",
       "      <th></th>\n",
       "      <th></th>\n",
       "      <th>Qu</th>\n",
       "      <th>Gr</th>\n",
       "      <th>Vi</th>\n",
       "      <th>Ro</th>\n",
       "      <th>mean</th>\n",
       "      <th>count</th>\n",
       "      <th>score</th>\n",
       "      <th>rank</th>\n",
       "    </tr>\n",
       "    <tr>\n",
       "      <th>genre</th>\n",
       "      <th>sub_genre</th>\n",
       "      <th>artist</th>\n",
       "      <th>album</th>\n",
       "      <th>song</th>\n",
       "      <th></th>\n",
       "      <th></th>\n",
       "      <th></th>\n",
       "      <th></th>\n",
       "      <th></th>\n",
       "      <th></th>\n",
       "      <th></th>\n",
       "      <th></th>\n",
       "    </tr>\n",
       "  </thead>\n",
       "  <tbody>\n",
       "    <tr>\n",
       "      <th>Folk</th>\n",
       "      <th>Indie</th>\n",
       "      <th>Vance Joy</th>\n",
       "      <th>God Loves You When You're Dancing</th>\n",
       "      <th>Riptide</th>\n",
       "      <td>6.50</td>\n",
       "      <td>NaN</td>\n",
       "      <td>NaN</td>\n",
       "      <td>NaN</td>\n",
       "      <td>6.500000</td>\n",
       "      <td>1</td>\n",
       "      <td>6.400000</td>\n",
       "      <td>121.0</td>\n",
       "    </tr>\n",
       "    <tr>\n",
       "      <th>House</th>\n",
       "      <th>Disco</th>\n",
       "      <th>Daft Punk</th>\n",
       "      <th>Discovery</th>\n",
       "      <th>Aerodynamic</th>\n",
       "      <td>9.00</td>\n",
       "      <td>8.25</td>\n",
       "      <td>8.75</td>\n",
       "      <td>NaN</td>\n",
       "      <td>8.666667</td>\n",
       "      <td>3</td>\n",
       "      <td>8.766667</td>\n",
       "      <td>1516.0</td>\n",
       "    </tr>\n",
       "    <tr>\n",
       "      <th rowspan=\"3\" valign=\"top\">Disco</th>\n",
       "      <th rowspan=\"2\" valign=\"top\">Funk</th>\n",
       "      <th rowspan=\"2\" valign=\"top\">Flamingosis</th>\n",
       "      <th rowspan=\"2\" valign=\"top\">A Groovy Thing</th>\n",
       "      <th>A Groovy Intro</th>\n",
       "      <td>7.75</td>\n",
       "      <td>NaN</td>\n",
       "      <td>7.00</td>\n",
       "      <td>NaN</td>\n",
       "      <td>7.375000</td>\n",
       "      <td>2</td>\n",
       "      <td>7.375000</td>\n",
       "      <td>396.0</td>\n",
       "    </tr>\n",
       "    <tr>\n",
       "      <th>Persevere</th>\n",
       "      <td>8.25</td>\n",
       "      <td>NaN</td>\n",
       "      <td>8.50</td>\n",
       "      <td>NaN</td>\n",
       "      <td>8.375000</td>\n",
       "      <td>2</td>\n",
       "      <td>8.375000</td>\n",
       "      <td>1181.0</td>\n",
       "    </tr>\n",
       "    <tr>\n",
       "      <th></th>\n",
       "      <th>George McCrae</th>\n",
       "      <th>Rock Your Baby</th>\n",
       "      <th>Rock Your Baby</th>\n",
       "      <td>7.75</td>\n",
       "      <td>NaN</td>\n",
       "      <td>NaN</td>\n",
       "      <td>NaN</td>\n",
       "      <td>7.750000</td>\n",
       "      <td>1</td>\n",
       "      <td>7.650000</td>\n",
       "      <td>603.0</td>\n",
       "    </tr>\n",
       "    <tr>\n",
       "      <th>...</th>\n",
       "      <th>...</th>\n",
       "      <th>...</th>\n",
       "      <th>...</th>\n",
       "      <th>...</th>\n",
       "      <td>...</td>\n",
       "      <td>...</td>\n",
       "      <td>...</td>\n",
       "      <td>...</td>\n",
       "      <td>...</td>\n",
       "      <td>...</td>\n",
       "      <td>...</td>\n",
       "      <td>...</td>\n",
       "    </tr>\n",
       "    <tr>\n",
       "      <th rowspan=\"4\" valign=\"top\">Electro</th>\n",
       "      <th>Alternative</th>\n",
       "      <th>Gorillaz</th>\n",
       "      <th>Demon Days</th>\n",
       "      <th>Every Planet We Reach Is Dead</th>\n",
       "      <td>8.25</td>\n",
       "      <td>NaN</td>\n",
       "      <td>8.50</td>\n",
       "      <td>NaN</td>\n",
       "      <td>8.375000</td>\n",
       "      <td>2</td>\n",
       "      <td>8.375000</td>\n",
       "      <td>1181.0</td>\n",
       "    </tr>\n",
       "    <tr>\n",
       "      <th rowspan=\"3\" valign=\"top\">Pop</th>\n",
       "      <th rowspan=\"3\" valign=\"top\">Parcels</th>\n",
       "      <th rowspan=\"3\" valign=\"top\">Live Vol. 1</th>\n",
       "      <th>Redline</th>\n",
       "      <td>8.00</td>\n",
       "      <td>NaN</td>\n",
       "      <td>8.75</td>\n",
       "      <td>NaN</td>\n",
       "      <td>8.375000</td>\n",
       "      <td>2</td>\n",
       "      <td>8.375000</td>\n",
       "      <td>1181.0</td>\n",
       "    </tr>\n",
       "    <tr>\n",
       "      <th>Gamesofluck</th>\n",
       "      <td>8.00</td>\n",
       "      <td>NaN</td>\n",
       "      <td>8.75</td>\n",
       "      <td>NaN</td>\n",
       "      <td>8.375000</td>\n",
       "      <td>2</td>\n",
       "      <td>8.375000</td>\n",
       "      <td>1181.0</td>\n",
       "    </tr>\n",
       "    <tr>\n",
       "      <th>Overnight</th>\n",
       "      <td>8.25</td>\n",
       "      <td>NaN</td>\n",
       "      <td>9.00</td>\n",
       "      <td>NaN</td>\n",
       "      <td>8.625000</td>\n",
       "      <td>2</td>\n",
       "      <td>8.625000</td>\n",
       "      <td>1398.0</td>\n",
       "    </tr>\n",
       "    <tr>\n",
       "      <th>Country</th>\n",
       "      <th></th>\n",
       "      <th>John Denver</th>\n",
       "      <th>Poems, Prayers &amp; Promises</th>\n",
       "      <th>Take Me Home, Country Roads</th>\n",
       "      <td>7.75</td>\n",
       "      <td>NaN</td>\n",
       "      <td>NaN</td>\n",
       "      <td>NaN</td>\n",
       "      <td>7.750000</td>\n",
       "      <td>1</td>\n",
       "      <td>7.650000</td>\n",
       "      <td>603.0</td>\n",
       "    </tr>\n",
       "  </tbody>\n",
       "</table>\n",
       "<p>300 rows × 8 columns</p>\n",
       "</div>"
      ],
      "text/plain": [
       "                                                                                                     Qu  \\\n",
       "genre   sub_genre   artist        album                             song                                  \n",
       "Folk    Indie       Vance Joy     God Loves You When You're Dancing Riptide                        6.50   \n",
       "House   Disco       Daft Punk     Discovery                         Aerodynamic                    9.00   \n",
       "Disco   Funk        Flamingosis   A Groovy Thing                    A Groovy Intro                 7.75   \n",
       "                                                                    Persevere                      8.25   \n",
       "                    George McCrae Rock Your Baby                    Rock Your Baby                 7.75   \n",
       "...                                                                                                 ...   \n",
       "Electro Alternative Gorillaz      Demon Days                        Every Planet We Reach Is Dead  8.25   \n",
       "        Pop         Parcels       Live Vol. 1                       Redline                        8.00   \n",
       "                                                                    Gamesofluck                    8.00   \n",
       "                                                                    Overnight                      8.25   \n",
       "Country             John Denver   Poems, Prayers & Promises         Take Me Home, Country Roads    7.75   \n",
       "\n",
       "                                                                                                     Gr  \\\n",
       "genre   sub_genre   artist        album                             song                                  \n",
       "Folk    Indie       Vance Joy     God Loves You When You're Dancing Riptide                         NaN   \n",
       "House   Disco       Daft Punk     Discovery                         Aerodynamic                    8.25   \n",
       "Disco   Funk        Flamingosis   A Groovy Thing                    A Groovy Intro                  NaN   \n",
       "                                                                    Persevere                       NaN   \n",
       "                    George McCrae Rock Your Baby                    Rock Your Baby                  NaN   \n",
       "...                                                                                                 ...   \n",
       "Electro Alternative Gorillaz      Demon Days                        Every Planet We Reach Is Dead   NaN   \n",
       "        Pop         Parcels       Live Vol. 1                       Redline                         NaN   \n",
       "                                                                    Gamesofluck                     NaN   \n",
       "                                                                    Overnight                       NaN   \n",
       "Country             John Denver   Poems, Prayers & Promises         Take Me Home, Country Roads     NaN   \n",
       "\n",
       "                                                                                                     Vi  \\\n",
       "genre   sub_genre   artist        album                             song                                  \n",
       "Folk    Indie       Vance Joy     God Loves You When You're Dancing Riptide                         NaN   \n",
       "House   Disco       Daft Punk     Discovery                         Aerodynamic                    8.75   \n",
       "Disco   Funk        Flamingosis   A Groovy Thing                    A Groovy Intro                 7.00   \n",
       "                                                                    Persevere                      8.50   \n",
       "                    George McCrae Rock Your Baby                    Rock Your Baby                  NaN   \n",
       "...                                                                                                 ...   \n",
       "Electro Alternative Gorillaz      Demon Days                        Every Planet We Reach Is Dead  8.50   \n",
       "        Pop         Parcels       Live Vol. 1                       Redline                        8.75   \n",
       "                                                                    Gamesofluck                    8.75   \n",
       "                                                                    Overnight                      9.00   \n",
       "Country             John Denver   Poems, Prayers & Promises         Take Me Home, Country Roads     NaN   \n",
       "\n",
       "                                                                                                   Ro  \\\n",
       "genre   sub_genre   artist        album                             song                                \n",
       "Folk    Indie       Vance Joy     God Loves You When You're Dancing Riptide                       NaN   \n",
       "House   Disco       Daft Punk     Discovery                         Aerodynamic                   NaN   \n",
       "Disco   Funk        Flamingosis   A Groovy Thing                    A Groovy Intro                NaN   \n",
       "                                                                    Persevere                     NaN   \n",
       "                    George McCrae Rock Your Baby                    Rock Your Baby                NaN   \n",
       "...                                                                                                ..   \n",
       "Electro Alternative Gorillaz      Demon Days                        Every Planet We Reach Is Dead NaN   \n",
       "        Pop         Parcels       Live Vol. 1                       Redline                       NaN   \n",
       "                                                                    Gamesofluck                   NaN   \n",
       "                                                                    Overnight                     NaN   \n",
       "Country             John Denver   Poems, Prayers & Promises         Take Me Home, Country Roads   NaN   \n",
       "\n",
       "                                                                                                       mean  \\\n",
       "genre   sub_genre   artist        album                             song                                      \n",
       "Folk    Indie       Vance Joy     God Loves You When You're Dancing Riptide                        6.500000   \n",
       "House   Disco       Daft Punk     Discovery                         Aerodynamic                    8.666667   \n",
       "Disco   Funk        Flamingosis   A Groovy Thing                    A Groovy Intro                 7.375000   \n",
       "                                                                    Persevere                      8.375000   \n",
       "                    George McCrae Rock Your Baby                    Rock Your Baby                 7.750000   \n",
       "...                                                                                                     ...   \n",
       "Electro Alternative Gorillaz      Demon Days                        Every Planet We Reach Is Dead  8.375000   \n",
       "        Pop         Parcels       Live Vol. 1                       Redline                        8.375000   \n",
       "                                                                    Gamesofluck                    8.375000   \n",
       "                                                                    Overnight                      8.625000   \n",
       "Country             John Denver   Poems, Prayers & Promises         Take Me Home, Country Roads    7.750000   \n",
       "\n",
       "                                                                                                   count  \\\n",
       "genre   sub_genre   artist        album                             song                                   \n",
       "Folk    Indie       Vance Joy     God Loves You When You're Dancing Riptide                            1   \n",
       "House   Disco       Daft Punk     Discovery                         Aerodynamic                        3   \n",
       "Disco   Funk        Flamingosis   A Groovy Thing                    A Groovy Intro                     2   \n",
       "                                                                    Persevere                          2   \n",
       "                    George McCrae Rock Your Baby                    Rock Your Baby                     1   \n",
       "...                                                                                                  ...   \n",
       "Electro Alternative Gorillaz      Demon Days                        Every Planet We Reach Is Dead      2   \n",
       "        Pop         Parcels       Live Vol. 1                       Redline                            2   \n",
       "                                                                    Gamesofluck                        2   \n",
       "                                                                    Overnight                          2   \n",
       "Country             John Denver   Poems, Prayers & Promises         Take Me Home, Country Roads        1   \n",
       "\n",
       "                                                                                                      score  \\\n",
       "genre   sub_genre   artist        album                             song                                      \n",
       "Folk    Indie       Vance Joy     God Loves You When You're Dancing Riptide                        6.400000   \n",
       "House   Disco       Daft Punk     Discovery                         Aerodynamic                    8.766667   \n",
       "Disco   Funk        Flamingosis   A Groovy Thing                    A Groovy Intro                 7.375000   \n",
       "                                                                    Persevere                      8.375000   \n",
       "                    George McCrae Rock Your Baby                    Rock Your Baby                 7.650000   \n",
       "...                                                                                                     ...   \n",
       "Electro Alternative Gorillaz      Demon Days                        Every Planet We Reach Is Dead  8.375000   \n",
       "        Pop         Parcels       Live Vol. 1                       Redline                        8.375000   \n",
       "                                                                    Gamesofluck                    8.375000   \n",
       "                                                                    Overnight                      8.625000   \n",
       "Country             John Denver   Poems, Prayers & Promises         Take Me Home, Country Roads    7.650000   \n",
       "\n",
       "                                                                                                     rank  \n",
       "genre   sub_genre   artist        album                             song                                   \n",
       "Folk    Indie       Vance Joy     God Loves You When You're Dancing Riptide                         121.0  \n",
       "House   Disco       Daft Punk     Discovery                         Aerodynamic                    1516.0  \n",
       "Disco   Funk        Flamingosis   A Groovy Thing                    A Groovy Intro                  396.0  \n",
       "                                                                    Persevere                      1181.0  \n",
       "                    George McCrae Rock Your Baby                    Rock Your Baby                  603.0  \n",
       "...                                                                                                   ...  \n",
       "Electro Alternative Gorillaz      Demon Days                        Every Planet We Reach Is Dead  1181.0  \n",
       "        Pop         Parcels       Live Vol. 1                       Redline                        1181.0  \n",
       "                                                                    Gamesofluck                    1181.0  \n",
       "                                                                    Overnight                      1398.0  \n",
       "Country             John Denver   Poems, Prayers & Promises         Take Me Home, Country Roads     603.0  \n",
       "\n",
       "[300 rows x 8 columns]"
      ]
     },
     "execution_count": 21,
     "metadata": {},
     "output_type": "execute_result"
    }
   ],
   "source": [
    "playlist"
   ]
  },
  {
   "cell_type": "markdown",
   "metadata": {
    "collapsed": false
   },
   "source": [
    "# DF preprocessing"
   ]
  },
  {
   "cell_type": "code",
   "execution_count": 22,
   "metadata": {
    "collapsed": false
   },
   "outputs": [],
   "source": [
    "df.set_index(['genre', 'sub_genre', 'artist', 'album', 'song'], inplace=True)\n",
    "df = df.apply(lambda s: s.str.replace(\",\", \".\"))\n",
    "df = df.apply(lambda s: pd.to_numeric(s, errors='coerce'))"
   ]
  },
  {
   "cell_type": "code",
   "execution_count": 23,
   "metadata": {
    "collapsed": false
   },
   "outputs": [
    {
     "data": {
      "text/html": [
       "<div>\n",
       "<style scoped>\n",
       "    .dataframe tbody tr th:only-of-type {\n",
       "        vertical-align: middle;\n",
       "    }\n",
       "\n",
       "    .dataframe tbody tr th {\n",
       "        vertical-align: top;\n",
       "    }\n",
       "\n",
       "    .dataframe thead th {\n",
       "        text-align: right;\n",
       "    }\n",
       "</style>\n",
       "<table border=\"1\" class=\"dataframe\">\n",
       "  <thead>\n",
       "    <tr style=\"text-align: right;\">\n",
       "      <th></th>\n",
       "      <th>Qu</th>\n",
       "      <th>Gr</th>\n",
       "      <th>Vi</th>\n",
       "      <th>Ro</th>\n",
       "      <th>Sa</th>\n",
       "      <th>Gl</th>\n",
       "      <th>Rx</th>\n",
       "      <th>Cl</th>\n",
       "      <th>Lu</th>\n",
       "    </tr>\n",
       "  </thead>\n",
       "  <tbody>\n",
       "    <tr>\n",
       "      <th>count</th>\n",
       "      <td>1549.000000</td>\n",
       "      <td>754.000000</td>\n",
       "      <td>738.000000</td>\n",
       "      <td>308.000000</td>\n",
       "      <td>251.000000</td>\n",
       "      <td>113.000000</td>\n",
       "      <td>19.000000</td>\n",
       "      <td>20.000000</td>\n",
       "      <td>15.000000</td>\n",
       "    </tr>\n",
       "    <tr>\n",
       "      <th>mean</th>\n",
       "      <td>7.650904</td>\n",
       "      <td>8.084019</td>\n",
       "      <td>7.389566</td>\n",
       "      <td>7.783929</td>\n",
       "      <td>6.653586</td>\n",
       "      <td>7.484513</td>\n",
       "      <td>7.973684</td>\n",
       "      <td>6.435000</td>\n",
       "      <td>7.131333</td>\n",
       "    </tr>\n",
       "    <tr>\n",
       "      <th>std</th>\n",
       "      <td>1.370406</td>\n",
       "      <td>0.868319</td>\n",
       "      <td>1.343169</td>\n",
       "      <td>1.563314</td>\n",
       "      <td>1.945438</td>\n",
       "      <td>1.724949</td>\n",
       "      <td>2.288095</td>\n",
       "      <td>1.805044</td>\n",
       "      <td>3.034325</td>\n",
       "    </tr>\n",
       "    <tr>\n",
       "      <th>min</th>\n",
       "      <td>0.000000</td>\n",
       "      <td>1.000000</td>\n",
       "      <td>0.000000</td>\n",
       "      <td>0.100000</td>\n",
       "      <td>0.050000</td>\n",
       "      <td>0.000000</td>\n",
       "      <td>2.000000</td>\n",
       "      <td>0.000000</td>\n",
       "      <td>0.000000</td>\n",
       "    </tr>\n",
       "    <tr>\n",
       "      <th>25%</th>\n",
       "      <td>7.250000</td>\n",
       "      <td>7.750000</td>\n",
       "      <td>7.000000</td>\n",
       "      <td>7.300000</td>\n",
       "      <td>5.000000</td>\n",
       "      <td>7.000000</td>\n",
       "      <td>7.500000</td>\n",
       "      <td>5.950000</td>\n",
       "      <td>7.195000</td>\n",
       "    </tr>\n",
       "    <tr>\n",
       "      <th>50%</th>\n",
       "      <td>8.000000</td>\n",
       "      <td>8.250000</td>\n",
       "      <td>7.500000</td>\n",
       "      <td>8.100000</td>\n",
       "      <td>7.000000</td>\n",
       "      <td>7.500000</td>\n",
       "      <td>8.000000</td>\n",
       "      <td>6.625000</td>\n",
       "      <td>8.000000</td>\n",
       "    </tr>\n",
       "    <tr>\n",
       "      <th>75%</th>\n",
       "      <td>8.500000</td>\n",
       "      <td>8.750000</td>\n",
       "      <td>8.500000</td>\n",
       "      <td>8.762500</td>\n",
       "      <td>8.000000</td>\n",
       "      <td>8.500000</td>\n",
       "      <td>10.000000</td>\n",
       "      <td>7.375000</td>\n",
       "      <td>9.000000</td>\n",
       "    </tr>\n",
       "    <tr>\n",
       "      <th>max</th>\n",
       "      <td>10.000000</td>\n",
       "      <td>9.500000</td>\n",
       "      <td>9.750000</td>\n",
       "      <td>9.700000</td>\n",
       "      <td>10.000000</td>\n",
       "      <td>10.000000</td>\n",
       "      <td>10.000000</td>\n",
       "      <td>8.750000</td>\n",
       "      <td>9.750000</td>\n",
       "    </tr>\n",
       "  </tbody>\n",
       "</table>\n",
       "</div>"
      ],
      "text/plain": [
       "                Qu          Gr          Vi          Ro          Sa  \\\n",
       "count  1549.000000  754.000000  738.000000  308.000000  251.000000   \n",
       "mean      7.650904    8.084019    7.389566    7.783929    6.653586   \n",
       "std       1.370406    0.868319    1.343169    1.563314    1.945438   \n",
       "min       0.000000    1.000000    0.000000    0.100000    0.050000   \n",
       "25%       7.250000    7.750000    7.000000    7.300000    5.000000   \n",
       "50%       8.000000    8.250000    7.500000    8.100000    7.000000   \n",
       "75%       8.500000    8.750000    8.500000    8.762500    8.000000   \n",
       "max      10.000000    9.500000    9.750000    9.700000   10.000000   \n",
       "\n",
       "               Gl         Rx         Cl         Lu  \n",
       "count  113.000000  19.000000  20.000000  15.000000  \n",
       "mean     7.484513   7.973684   6.435000   7.131333  \n",
       "std      1.724949   2.288095   1.805044   3.034325  \n",
       "min      0.000000   2.000000   0.000000   0.000000  \n",
       "25%      7.000000   7.500000   5.950000   7.195000  \n",
       "50%      7.500000   8.000000   6.625000   8.000000  \n",
       "75%      8.500000  10.000000   7.375000   9.000000  \n",
       "max     10.000000  10.000000   8.750000   9.750000  "
      ]
     },
     "execution_count": 23,
     "metadata": {},
     "output_type": "execute_result"
    }
   ],
   "source": [
    "df.describe()"
   ]
  },
  {
   "cell_type": "code",
   "execution_count": 24,
   "metadata": {
    "collapsed": false
   },
   "outputs": [
    {
     "name": "stdout",
     "output_type": "stream",
     "text": [
      "{'tracks': {'href': 'https://api.spotify.com/v1/search?query=artist%3A%22Creedence+Clearwater+Revival%22+album%3A%22Cosmos+Factory%22+track%3A%22I+Heard+It+Through+The+Grapevine%22&type=track&market=US&offset=0&limit=10',\n",
      "            'items': [{'album': {'album_type': 'album',\n",
      "                                 'artists': [{'external_urls': {'spotify': 'https://open.spotify.com/artist/3IYUhFvPQItj6xySrBmZkd'},\n",
      "                                              'href': 'https://api.spotify.com/v1/artists/3IYUhFvPQItj6xySrBmZkd',\n",
      "                                              'id': '3IYUhFvPQItj6xySrBmZkd',\n",
      "                                              'name': 'Creedence Clearwater '\n",
      "                                                      'Revival',\n",
      "                                              'type': 'artist',\n",
      "                                              'uri': 'spotify:artist:3IYUhFvPQItj6xySrBmZkd'}],\n",
      "                                 'external_urls': {'spotify': 'https://open.spotify.com/album/4GLxEXWI3JiRKp6H7bfTIK'},\n",
      "                                 'href': 'https://api.spotify.com/v1/albums/4GLxEXWI3JiRKp6H7bfTIK',\n",
      "                                 'id': '4GLxEXWI3JiRKp6H7bfTIK',\n",
      "                                 'images': [{'height': 640,\n",
      "                                             'url': 'https://i.scdn.co/image/ab67616d0000b27361834aa14b97a7d9c693134f',\n",
      "                                             'width': 640},\n",
      "                                            {'height': 300,\n",
      "                                             'url': 'https://i.scdn.co/image/ab67616d00001e0261834aa14b97a7d9c693134f',\n",
      "                                             'width': 300},\n",
      "                                            {'height': 64,\n",
      "                                             'url': 'https://i.scdn.co/image/ab67616d0000485161834aa14b97a7d9c693134f',\n",
      "                                             'width': 64}],\n",
      "                                 'name': \"Cosmo's Factory (40th Anniversary \"\n",
      "                                         'Edition)',\n",
      "                                 'release_date': '1970-07-25',\n",
      "                                 'release_date_precision': 'day',\n",
      "                                 'total_tracks': 14,\n",
      "                                 'type': 'album',\n",
      "                                 'uri': 'spotify:album:4GLxEXWI3JiRKp6H7bfTIK'},\n",
      "                       'artists': [{'external_urls': {'spotify': 'https://open.spotify.com/artist/3IYUhFvPQItj6xySrBmZkd'},\n",
      "                                    'href': 'https://api.spotify.com/v1/artists/3IYUhFvPQItj6xySrBmZkd',\n",
      "                                    'id': '3IYUhFvPQItj6xySrBmZkd',\n",
      "                                    'name': 'Creedence Clearwater Revival',\n",
      "                                    'type': 'artist',\n",
      "                                    'uri': 'spotify:artist:3IYUhFvPQItj6xySrBmZkd'}],\n",
      "                       'disc_number': 1,\n",
      "                       'duration_ms': 662773,\n",
      "                       'explicit': False,\n",
      "                       'external_ids': {'isrc': 'USC4R0817635'},\n",
      "                       'external_urls': {'spotify': 'https://open.spotify.com/track/0HHIbFhmTXsIzz2VUmkH96'},\n",
      "                       'href': 'https://api.spotify.com/v1/tracks/0HHIbFhmTXsIzz2VUmkH96',\n",
      "                       'id': '0HHIbFhmTXsIzz2VUmkH96',\n",
      "                       'is_local': False,\n",
      "                       'is_playable': True,\n",
      "                       'name': 'I Heard It Through The Grapevine',\n",
      "                       'popularity': 49,\n",
      "                       'preview_url': None,\n",
      "                       'track_number': 10,\n",
      "                       'type': 'track',\n",
      "                       'uri': 'spotify:track:0HHIbFhmTXsIzz2VUmkH96'}],\n",
      "            'limit': 10,\n",
      "            'next': None,\n",
      "            'offset': 0,\n",
      "            'previous': None,\n",
      "            'total': 1}}\n"
     ]
    }
   ],
   "source": [
    "search = \"artist:\\\"Black Sabbath\\\" track:\\\"Evil Woman\\\" album:\\\"Black Sabbath\\\"\"\n",
    "search = \"artist:\\\"Creedence Clearwater Revival\\\" album:\\\"Cosmos Factory\\\" track:\\\"I Heard It Through The Grapevine\\\"\"\n",
    "# search = \"artist:\\\"Creedence Clearwater Revival\\\" album:\\\"Co\\\" track:\\\"I Heard It Through The Grapevine\\\"\"\n",
    "# search = \"artist:\\\"Creedence Clearwater Revival\\\" track:\\\"I Heard It Through The Grapevine\\\"\"\n",
    "# search = \"artist:\\\"Black\\%20Sabbath\\\"%20track:\\\"Evil%20Woman\\\"%20album:\\\"Black%20Sabbath\\\"\"\n",
    "pprint.pp(spotify.search(search, market=\"US\"))\n",
    "# pprint.pp(spotify.search(search, market=\"FR\"))"
   ]
  },
  {
   "cell_type": "code",
   "execution_count": 25,
   "metadata": {
    "collapsed": false
   },
   "outputs": [
    {
     "name": "stdout",
     "output_type": "stream",
     "text": [
      "{'tracks': {'href': 'https://api.spotify.com/v1/search?query=artist%3A%22The+Who%22+album%3A%22Who%27s+Next%22+track%3A%22Baba+O+Riley%22&type=track&market=FR&offset=0&limit=10',\n",
      "            'items': [],\n",
      "            'limit': 10,\n",
      "            'next': None,\n",
      "            'offset': 0,\n",
      "            'previous': None,\n",
      "            'total': 0}}\n"
     ]
    }
   ],
   "source": [
    "searches = ['artist:\"The Who\" album:\"Who\\'s Next\" track:\"Baba O Riley\"',\n",
    "  'artist:\"The Who\" album:\"Whos Next\" track:\"Baba O Riley\"']\n",
    "i = 0\n",
    "search = searches[i]\n",
    "pprint.pp(spotify.search(search, market=\"FR\"))"
   ]
  },
  {
   "cell_type": "code",
   "execution_count": 26,
   "metadata": {
    "collapsed": false
   },
   "outputs": [],
   "source": [
    "markets = [\"FR\", \"US\"]\n",
    "def search_string(row):\n",
    "    search = \"\"\n",
    "    # artists\n",
    "    artists = list(map(str.strip, row.artist.split(\",\")))\n",
    "    if len(artists) > 1:\n",
    "        sep = '\" AND \"'\n",
    "        search += f\"artist:\\\"{sep.join(artists)}\\\"\"\n",
    "    else:\n",
    "        search += f\"artist:\\\"{artists[0]}\\\"\"\n",
    "    # album\n",
    "    if row.album != \"N/A\":\n",
    "        search += f\" album:\\\"{row.album}\\\"\"\n",
    "    # track name\n",
    "    search += f\" track:\\\"{row.song}\\\"\"\n",
    "    # dealing with \"'\"\"\n",
    "    # sometimes it will work with the \"'\" and sometimes not\n",
    "    if \"'\" in search:\n",
    "        searches_s = [search, search.replace(\"'\", \"\")]\n",
    "    else:\n",
    "        searches_s = [search]\n",
    "    searches = []\n",
    "    for market in markets:\n",
    "        for search in searches_s:\n",
    "            searches.append((search, market))\n",
    "    return searches"
   ]
  },
  {
   "cell_type": "code",
   "execution_count": 31,
   "metadata": {
    "collapsed": false
   },
   "outputs": [],
   "source": [
    "ids = pd.Series(index=df.index, dtype=str, name=\"ids\")"
   ]
  },
  {
   "cell_type": "code",
   "execution_count": 32,
   "metadata": {
    "collapsed": false
   },
   "outputs": [
    {
     "name": "stdout",
     "output_type": "stream",
     "text": [
      "0   /1755 : 0x5BKBAcia1th7UzcoHnD1 I Do, I Do, I Do, I Do, I Do ABBA Abba\n",
      "1   /1755 : 2TxCwUlqaOH3TIyJqGgR91 Mamma Mia ABBA Abba\n",
      "2   /1755 : 5pMmWfuL0FTGshYt7HVJ8P SOS ABBA ABBA Gold\n"
     ]
    },
    {
     "name": "stdout",
     "output_type": "stream",
     "text": [
      "3   /1755 : 798cuJeotvXP8UVa8GJPnD Knowing Me, Knowing You ABBA Arrival\n",
      "4   /1755 : 4euAGZTszWPrriggYK0HG9 Lay All Your Love On Me ABBA Super Trouper\n",
      "5   /1755 : 0J2p4KYdr6Mg4ET6JPlbe1 Super Trouper ABBA Super Trouper\n",
      "6   /1755 : 3oEkrIfXfSh9zGnE7eBzSV The Winner Takes It All ABBA Super Trouper\n"
     ]
    },
    {
     "name": "stdout",
     "output_type": "stream",
     "text": [
      "7   /1755 : 5BckPAYcKEJuYs1eV1BHHe Take A Chance On Me ABBA The Album\n",
      "8   /1755 : 3Dy4REq8O09IlgiwuHQ3sk Waterloo ABBA Waterloo\n",
      "9   /1755 : 7LRMbd3LEoV5wZJvXT1Lwb T.N.T. AC/DC High Voltage\n",
      "10  /1755 : 2zYzyRzz6pRmhPzyfMEC8s Highway to Hell AC/DC Highway to Hell\n"
     ]
    },
    {
     "name": "stdout",
     "output_type": "stream",
     "text": [
      "11  /1755 : 5jCp5VtcpUlHtW8Dwlx13Y Angry Chair Alice In Chains Dirt\n",
      "12  /1755 : 22Ntyke0ZDZy2Uuf8BEDkU Dam That River Alice In Chains Dirt\n",
      "13  /1755 : 2QjkH9q5Mypj6m38u7Ni9o Dirt Alice In Chains Dirt\n",
      "14  /1755 : 7FRfYOql61DGDp9VPPe2qA Down In A Hole Alice In Chains Dirt\n"
     ]
    },
    {
     "name": "stdout",
     "output_type": "stream",
     "text": [
      "15  /1755 : 1klrDyGRsCBPofZdqdaZp6 God Smack Alice In Chains Dirt\n",
      "16  /1755 : 0rglK8l5QBSADvao8n4d2N Hate To Feel Alice In Chains Dirt\n",
      "17  /1755 : 1mvEbRAlocvkJvqZIj3zHu Junkhead Alice In Chains Dirt\n",
      "18  /1755 : 6a9SPVrXyrlVh5Fh08f8Bz Rain When I Die Alice In Chains Dirt\n"
     ]
    },
    {
     "name": "stdout",
     "output_type": "stream",
     "text": [
      "19  /1755 : 0wvIGFIgbyz4JNwQhZgTv2 Rooster Alice In Chains Dirt\n",
      "20  /1755 : 5EnYdTx0BWhWM5YDcPkGAa Sickman Alice In Chains Dirt\n",
      "21  /1755 : 4A065x9kJt955eGVqf813g Them Bones Alice In Chains Dirt\n",
      "22  /1755 : 2s9xt247uEa0sXmAH0GvL3 Untitled Alice In Chains Dirt\n"
     ]
    },
    {
     "name": "stdout",
     "output_type": "stream",
     "text": [
      "23  /1755 : 5sFDReWLrZHLFZFjHsjUTS Would? Alice In Chains Dirt\n",
      "24  /1755 : 1j3YarHURr6L7JYhPoVRTg Plus haut - Les marches de l’empereur Saison 3 / épisode 1 Alkpote Plus haut (Les marches de l’empereur Saison 3 / épisode 1)\n",
      "25  /1755 : 7gARZ2i5u5DHC1b1n1fML5 Breezeblocks alt-J An Awesome Wave\n",
      "26  /1755 : 6an29bD9C79IMFKB7xUr33 Crack the Sky Amon Amarth Berserker\n"
     ]
    },
    {
     "name": "stdout",
     "output_type": "stream",
     "text": [
      "27  /1755 : 0Ov6o6FSQLOlllOm10ESwQ Raven's Flight Amon Amarth Berserker\n",
      "28  /1755 : 0sObxZUKqdPfgjG9ahSlP5 The Pursuit Of Vikings Amon Amarth Fate of Norns\n",
      "29  /1755 : 5gNyrx8elXaXXs3vFC1ufZ Raise Your Horns Amon Amarth Jomsviking\n",
      "30  /1755 : 4BQuuaTsdUNCcbReYb6RC7 Masters Of War Amon Amarth The Crusher\n"
     ]
    },
    {
     "name": "stdout",
     "output_type": "stream",
     "text": [
      "31  /1755 : 5u3l2TONYacJgmRPQVaF9y Twilight Of The Thunder God Amon Amarth Twilight Of The Thunder God\n",
      "32  /1755 : 0Yx5mSfgA9XsyKkpmAxV2A Tin Foiled Andrew Bird Things Are Really Great Here, Sort Of...\n",
      "33  /1755 : 53ErZun9BFfUwC6UNKdxiE Silent Wars Arch Enemy Anthems of Rebellion\n",
      "34  /1755 : 7uqohNjCnZ8sZd5S2vh5vx First Day in Hell Arch Enemy Will To Power\n"
     ]
    },
    {
     "name": "stdout",
     "output_type": "stream",
     "text": [
      "35  /1755 : 6gXNdxtSOcErDuXagBUdkz Saturnine Arch Enemy Will To Power\n",
      "36  /1755 : 1Qdnvn4XlmZANCVy3XjrQo Show Me How to Live Audioslave Audioslave\n",
      "37  /1755 : 0wxR6vA8Je5JHiTsZSmG01 #1 Zero Audioslave Out of Exile\n",
      "artist:\"Auracle\" album:\"City Slickers\" track:\"Bombs Away Ballet\" not in spotify\n"
     ]
    },
    {
     "name": "stdout",
     "output_type": "stream",
     "text": [
      "artist:\"Auracle\" album:\"City Slickers\" track:\"Bombs Away Ballet\" not in spotify\n",
      "artist:\"Auracle\" album:\"City Slickers\" track:\"City of Penetrating Light\" not in spotify\n",
      "artist:\"Auracle\" album:\"City Slickers\" track:\"City of Penetrating Light\" not in spotify\n",
      "artist:\"Auracle\" album:\"City Slickers\" track:\"Honey\" not in spotify\n"
     ]
    },
    {
     "name": "stdout",
     "output_type": "stream",
     "text": [
      "artist:\"Auracle\" album:\"City Slickers\" track:\"Honey\" not in spotify\n",
      "artist:\"Auracle\" album:\"City Slickers\" track:\"Little City Slickers\" not in spotify\n",
      "artist:\"Auracle\" album:\"City Slickers\" track:\"Little City Slickers\" not in spotify\n",
      "artist:\"Auracle\" album:\"City Slickers\" track:\"Rotary Andy's Raggedy\" not in spotify\n"
     ]
    },
    {
     "name": "stdout",
     "output_type": "stream",
     "text": [
      "artist:\"Auracle\" album:\"City Slickers\" track:\"Rotary Andys Raggedy\" not in spotify\n",
      "artist:\"Auracle\" album:\"City Slickers\" track:\"Rotary Andy's Raggedy\" not in spotify\n",
      "artist:\"Auracle\" album:\"City Slickers\" track:\"Rotary Andys Raggedy\" not in spotify\n",
      "artist:\"Auracle\" album:\"City Slickers\" track:\"Sambanana\" not in spotify\n"
     ]
    },
    {
     "name": "stdout",
     "output_type": "stream",
     "text": [
      "artist:\"Auracle\" album:\"City Slickers\" track:\"Sambanana\" not in spotify\n",
      "artist:\"Auracle\" album:\"City Slickers\" track:\"Tied Shoes\" not in spotify\n",
      "artist:\"Auracle\" album:\"City Slickers\" track:\"Tied Shoes\" not in spotify\n",
      "artist:\"B.J. Thomas\" album:\"Rain Drops Keep Fallin' On My Head\" track:\"Rain Drops Keep Falling on My Head\" not in spotify\n"
     ]
    },
    {
     "name": "stdout",
     "output_type": "stream",
     "text": [
      "artist:\"B.J. Thomas\" album:\"Rain Drops Keep Fallin On My Head\" track:\"Rain Drops Keep Falling on My Head\" not in spotify\n",
      "artist:\"B.J. Thomas\" album:\"Rain Drops Keep Fallin' On My Head\" track:\"Rain Drops Keep Falling on My Head\" not in spotify\n",
      "artist:\"B.J. Thomas\" album:\"Rain Drops Keep Fallin On My Head\" track:\"Rain Drops Keep Falling on My Head\" not in spotify\n",
      "46  /1755 : 6OcE7aXYmNEwF6H7Ei9Y3q King for a Day Battle Beast Bringer of Pain\n"
     ]
    },
    {
     "name": "stdout",
     "output_type": "stream",
     "text": [
      "artist:\"Bill Withers\" album:\"Just as I am\" track:\"Ain't No Sunshine\" not in spotify\n",
      "47  /1755 : 1k1Bqnv2R0uJXQN4u6LKYt Ain't No Sunshine Bill Withers Just As I Am\n",
      "48  /1755 : 3jUTjCISntIUFL8jnAjzgc Fallen Leaves Billy Talent Billy Talent II\n",
      "49  /1755 : 2RZWdE8kYPlCAcRUYDeuLC Red Flag Billy Talent Billy Talent II\n"
     ]
    },
    {
     "name": "stdout",
     "output_type": "stream",
     "text": [
      "50  /1755 : 7eXYekcOIQCxDJNS50JjQa Behind the Wall of Sleep Black Sabbath Black Sabbath (2009 Remastered Version)\n",
      "51  /1755 : 1udmPvJoBnqitbeYKKc9mc Black Sabbath Black Sabbath Black Sabbath (2009 Remastered Version)\n",
      "52  /1755 : 2KtpzJOCmJa29vBLwDUGHQ Evil Woman Black Sabbath Black Sabbath (2009 Remastered Version)\n",
      "53  /1755 : 62oNfnQqObaqARM0DTibAL N.I.B. Black Sabbath Black Sabbath (2009 Remastered Version)\n"
     ]
    },
    {
     "name": "stdout",
     "output_type": "stream",
     "text": [
      "54  /1755 : 0KHeKEA1pf0YtlCcGVCGce Sleeping Village Black Sabbath Black Sabbath (2009 Remastered Version)\n",
      "55  /1755 : 3JvMig6Sc8XRLqHseNsccM The Wizard Black Sabbath Black Sabbath (2009 Remastered Version)\n",
      "56  /1755 : 4JW2yU9lIb8jCNv47PpTfZ Warning Black Sabbath Black Sabbath (2009 Remastered Version)\n",
      "57  /1755 : 4chUb38ZUuvL1OST3aa063 Into the Void Black Sabbath Master of Reality (2009 Remastered Version)\n"
     ]
    },
    {
     "name": "stdout",
     "output_type": "stream",
     "text": [
      "58  /1755 : 39eKdJcCdYYRdKEZRfKJDJ Electric Funeral Black Sabbath Paranoid (2009 Remastered Version)\n",
      "59  /1755 : 6Kfyg9nl3TWbtrUFEF4yr5 Fairies Wear Boots Black Sabbath Paranoid (2009 Remastered Version)\n",
      "60  /1755 : 40W1V3aU3g6lEGZVwsxAcO Hand of Doom Black Sabbath Paranoid (2009 Remastered Version)\n",
      "61  /1755 : 0TI8TP4FitVPoEHPTySx48 Iron Man Black Sabbath Paranoid (2009 Remastered Version)\n"
     ]
    },
    {
     "name": "stdout",
     "output_type": "stream",
     "text": [
      "62  /1755 : 1jzDzZWeSDBg5fhNc3tczV Paranoid Black Sabbath Paranoid (2009 Remastered Version)\n",
      "63  /1755 : 7wqF3BU0ykeKch6BcNqGiT Planet Caravan Black Sabbath Paranoid (2009 Remastered Version)\n",
      "64  /1755 : 1uPH6mPMlbB4SqrHmRqnlE Rat Salad Black Sabbath Paranoid (2009 Remastered Version)\n",
      "65  /1755 : 0W35nxtHtFlseSojmygEsf War Pigs Black Sabbath Paranoid (2009 Remastered Version)\n"
     ]
    },
    {
     "name": "stdout",
     "output_type": "stream",
     "text": [
      "66  /1755 : 172u95XX2JxIfBZi1v0vKN Banquet Bloc Party Silent Alarm\n",
      "artist:\"Blue Öyster Cult\" album:\"Agents of Fortune\" track:\"(Don't Fear) The Reaper\" not in spotify\n",
      "67  /1755 : 5QTxFnGygVM4jFQiBovmRo (Don't Fear) The Reaper Blue Öyster Cult Agents Of Fortune\n",
      "68  /1755 : 05jJZgRiXxBfQPNRlrObEI He Was a Steppenwolf Boney M. Nightflight to Venus\n"
     ]
    },
    {
     "name": "stdout",
     "output_type": "stream",
     "text": [
      "69  /1755 : 4gmJjjVWv9rfK4Nl8wDNVR Nightflight to Venus Boney M. Nightflight to Venus\n",
      "70  /1755 : 5seKua5Mu2wMK1qUhdHwt1 Painter Man Boney M. Nightflight to Venus\n",
      "71  /1755 : 5jkFvD4UJrmdoezzT1FRoP Rasputin Boney M. Nightflight to Venus\n",
      "artist:\"Breakbot\" album:\"By Your Side\" track:\"Baby I'm Yours\" not in spotify\n"
     ]
    },
    {
     "name": "stdout",
     "output_type": "stream",
     "text": [
      "72  /1755 : 0tZkVZ9DeAa0MNK2gY5NtV Baby I'm Yours Breakbot By Your Side\n",
      "73  /1755 : 1A7Nb5XVAJzXmbkk5S59t3 Release the Beast Breakwater Splashdown\n",
      "74  /1755 : 56lhDZNQ5J47aog6mGKeGk Thunder Road Bruce Springsteen Born To Run\n",
      "75  /1755 : 55h7vJchibLdUkxdlX3fK7 Treasure Bruno Mars Unorthodox Jukebox\n"
     ]
    },
    {
     "name": "stdout",
     "output_type": "stream",
     "text": [
      "76  /1755 : 0A6PfIp2V8Z5L8rqKUpDvG Hand Of Blood Bullet For My Valentine Hand Of Blood / 4 Words\n",
      "77  /1755 : 0N10gGHn8GYH8QYyFFnqRa The Huntsman Butcher Babies Lilith\n",
      "78  /1755 : 7ek0WEbzMQ0iKXzxsDJiXg Aight Caballero Laisse Nous Faire Vol. 1\n",
      "79  /1755 : 7fLtcNaBtwMLx1by2vczEy Baby Funk Caballero Laisse Nous Faire Vol. 1\n"
     ]
    },
    {
     "name": "stdout",
     "output_type": "stream",
     "text": [
      "80  /1755 : 2Jq2YNqNU4zdlNIISW6BjB Bout Du Tunnel (feat. Jcr) Caballero Laisse Nous Faire Vol. 1\n",
      "artist:\"Caballero\" album:\"Laisse Nous Faire Vol.1\" track:\"C'est Aussi Simple Que Ça\" not in spotify\n",
      "81  /1755 : 1QXNFb6gNLIvgUhJWJZsLu C'est Aussi Simple Que ça Caballero Laisse Nous Faire Vol. 1\n"
     ]
    },
    {
     "name": "stdout",
     "output_type": "stream",
     "text": [
      "82  /1755 : 5YCgn8qR7z0Oi2TeFvCB6L Chiens Des Villes Caballero Laisse Nous Faire Vol. 1\n",
      "83  /1755 : 1FH4bwLfjNMbgSC5UMQyyQ Discret Mais Efficace (feat. Seven & Sima) Caballero Laisse Nous Faire Vol. 1\n",
      "84  /1755 : 5gPzd9ClcSNOD1pXzZkPd6 Flottements (feat. Tonino) Caballero Laisse Nous Faire Vol. 1\n",
      "85  /1755 : 2ZxW0Z5ua6h89t8ZprzgAo Foume ça Caballero Laisse Nous Faire Vol. 1\n"
     ]
    },
    {
     "name": "stdout",
     "output_type": "stream",
     "text": [
      "86  /1755 : 3r1sjHzXbwLjOikglWnOUM Il Suffit (feat. Jeanjass) Caballero Laisse Nous Faire Vol. 1\n",
      "87  /1755 : 6KdNDBWPRoHwXyyaS8u8AR Inner Démons (feat. Alpha Wann) Caballero Laisse Nous Faire Vol. 1\n",
      "88  /1755 : 494q3O9UXgoO5Ny8sU8jUY Le Freestyle De La Cigarette Fumante Caballero Laisse Nous Faire Vol. 1\n",
      "89  /1755 : 3sLc3RUuVw3yq225J8pTaf Mailles Du Filet (feat. Lomepal) Caballero Laisse Nous Faire Vol. 1\n"
     ]
    },
    {
     "name": "stdout",
     "output_type": "stream",
     "text": [
      "artist:\"Caballero\" album:\"Laisse Nous Faire Vol.1\" track:\"Médaille d'Or\" not in spotify\n",
      "90  /1755 : 7nipxhnG4w62JAtOI5W3VC Médaille D'or (feat. Lomepal & Doums) Caballero Laisse Nous Faire Vol. 1\n",
      "91  /1755 : 6vG43ypSsKjo82VqE90a0w Medley Goku Caballero Laisse Nous Faire Vol. 1\n",
      "92  /1755 : 2Nvq8DdvQaooWm5SXTWFG5 Medley Vegeta Caballero Laisse Nous Faire Vol. 1\n"
     ]
    },
    {
     "name": "stdout",
     "output_type": "stream",
     "text": [
      "93  /1755 : 76ja4bAH6llTY7s1lkwWoQ Mission Accomplie Caballero Laisse Nous Faire Vol. 1\n",
      "94  /1755 : 14t6TOsH17hobA3iE1iszr Otaku (feat. Neshga & Senamo) Caballero Laisse Nous Faire Vol. 1\n",
      "95  /1755 : 4TxBA5CECuHyPFPFFq6mJE Patinoire (feat. Sima) Caballero Laisse Nous Faire Vol. 1\n"
     ]
    },
    {
     "name": "stdout",
     "output_type": "stream",
     "text": [
      "96  /1755 : 6QjDQONUpk41pUsaHcqHh6 Profondeurs (feat. Jeanjass) Caballero Laisse Nous Faire Vol. 1\n",
      "artist:\"Caballero\" album:\"Laisse Nous Faire Vol.1\" track:\"Qu'est-ce que tu nous Proposes?\" not in spotify\n",
      "97  /1755 : 1p1Kz4or5x37QvxZ1dQE0q Qu'est-Ce Que Tu Nous Proposes ? (feat. Jeanjass, Alpha Wann & Ysha) Caballero Laisse Nous Faire Vol. 1\n",
      "98  /1755 : 43GwFZxQHKGw3CVnM29wTT Sortez Couverts (feat. Arabesk) Caballero Laisse Nous Faire Vol. 1\n",
      "99  /1755 : 5fjuEHSIGyNgyW5ynEPlgb Téléportation (feat. Les Corbeaux) Caballero Laisse Nous Faire Vol. 1\n"
     ]
    },
    {
     "name": "stdout",
     "output_type": "stream",
     "text": [
      "100 /1755 : 0uXKTY1IaVHaVpcdFsiHWv Viens Voir (feat. Perso) Caballero Laisse Nous Faire Vol. 1\n",
      "101 /1755 : 0xMEF2WiqKWTIG7Krjungw The Distance Cake Fashion Nugget\n",
      "102 /1755 : 74jZhGv0fdLaf9q8AZZ15k Please Mr. Postman Carpenters Horizon\n"
     ]
    },
    {
     "name": "stdout",
     "output_type": "stream",
     "text": [
      "artist:\"Casiopea\" album:\"Crosspoint\" track:\"Galactic Funk\" not in spotify\n",
      "artist:\"Casiopea\" album:\"Crosspoint\" track:\"Galactic Funk\" not in spotify\n",
      "artist:\"Casiopea\" album:\"Mint Jams\" track:\"Swear!\" not in spotify\n",
      "artist:\"Casiopea\" album:\"Mint Jams\" track:\"Swear!\" not in spotify\n"
     ]
    },
    {
     "name": "stdout",
     "output_type": "stream",
     "text": [
      "105 /1755 : 0KJ8O3NjYF3ypDAUSEVFfg I Married an Angel Chet Baker Chet Baker & Strings\n",
      "106 /1755 : 71wcOsCw1N0Vgj2cGcqdBp Strollin' Chet Baker Strollin'\n",
      "107 /1755 : 7GqIDx2QVGOpd4r1fZaUUW 25 or 6 to 4 - 2002 Remaster Chicago Chicago II\n",
      "108 /1755 : 6GTz60YoNqDoAKkOFwEjEJ Friends Chick Corea Friends\n"
     ]
    },
    {
     "name": "stdout",
     "output_type": "stream",
     "text": [
      "109 /1755 : 1jji1sWxZOo7eWnXifT7yP Spain Chick Corea Light As A Feather\n",
      "110 /1755 : 69yYDgM8sCrUsD56AHyOt9 Hold Tight Chinese Man The Groove Sessions, Vol. 5\n",
      "111 /1755 : 36kbjtiNbROJkkm8mV36Fu Complainer Choir Boy Complainer\n",
      "artist:\"Claude François\" album:\"C'est la Même Chanson\" track:\"C'est la même chanson\" not in spotify\n"
     ]
    },
    {
     "name": "stdout",
     "output_type": "stream",
     "text": [
      "112 /1755 : 4SbBP9BeFelHkh9yg0eX1v C'est la même chanson Claude François C'Est La Meme Chanson\n",
      "artist:\"Claude François\" album:\"Chanson Populaire\" track:\"Chanson Populaire (ça s'en va et ça revient)\" not in spotify\n",
      "113 /1755 : 6xuxkfM6waS1sCubmjJtCl Chanson populaire (Ça s'en va et ça revient) Claude François Chanson populaire\n",
      "114 /1755 : 4QPVhcAfVufCbhAvmJrfsS 17 ans Claude François Chansons Françaises\n"
     ]
    },
    {
     "name": "stdout",
     "output_type": "stream",
     "text": [
      "115 /1755 : 5EMqO0RbL4pm5uVBnE8pTo Je vais à Rio Claude François Claude François\n",
      "116 /1755 : 3chyZYjRR2aUiUmNiojk0H Toi et le soleil Claude François Claude François\n",
      "artist:\"Claude François\" album:\"Comme D'Habitude\" track:\"Comme D'Habitude\" not in spotify\n"
     ]
    },
    {
     "name": "stdout",
     "output_type": "stream",
     "text": [
      "117 /1755 : 1q45QwMLVx6hSQx7cdRpBP Comme d'habitude Claude François Comme D'Habitude\n",
      "118 /1755 : 2LXF7O6Gpznsh9uqlDGUnz Il fait beau, il fait bon Claude François Il fait beau, il fait bon\n",
      "artist:\"Claude François\" album:\"J'attendrai\" track:\"J'attendrai\" not in spotify\n",
      "119 /1755 : 2O9TBdIe0Q7Wsrr6gPwbhN J'attendrai - Version mono Claude François J'attendrai\n"
     ]
    },
    {
     "name": "stdout",
     "output_type": "stream",
     "text": [
      "120 /1755 : 2fbEcU3yS5eqXCusyZRBIU La musique américaine Claude François Le Chanteur Malheureux\n",
      "121 /1755 : 0z0oXm4kKS1DCuGv68qN2M Le chanteur malheureux Claude François Le Chanteur Malheureux\n",
      "122 /1755 : 3HiPDGrE4Bys0Xy4m82wQ1 Bélinda Claude François Le lundi au soleil\n"
     ]
    },
    {
     "name": "stdout",
     "output_type": "stream",
     "text": [
      "123 /1755 : 75HyZlo5ameA4sr8aOjUSU Le lundi au soleil Claude François Le lundi au soleil\n",
      "124 /1755 : 36JTsxq9ywTGHpBjg3Wf4J Le mal aimé Claude François Le mal aimé / Le téléphone pleure\n",
      "125 /1755 : 1lzMEPWr0S8o0JMFCXdPoH Le téléphone pleure Claude François Le Telephone Pleure\n"
     ]
    },
    {
     "name": "stdout",
     "output_type": "stream",
     "text": [
      "126 /1755 : 3R4rbnUNQKpKo588EFOqTl Cette année-là Claude François Le Vagabond\n",
      "127 /1755 : 4HwxZ611aUxRupP5SC3mMK Le Vagabond Claude François Le Vagabond\n",
      "128 /1755 : 2e9Sa881KIjKK0y86iNZ6C Alexandrie Alexandra Claude François Magnolias For Ever\n",
      "129 /1755 : 1zcFnMc6ULvzH8npblFGvy Magnolias for Ever Claude François Magnolias For Ever\n"
     ]
    },
    {
     "name": "stdout",
     "output_type": "stream",
     "text": [
      "130 /1755 : 2k1G4V6Mg6XAg8Xg2YV3ll Je sais Claude François Meme Si Tu Revenais\n",
      "131 /1755 : 46eooWtxMwu8PrLXmTZtpR Même si tu revenais Claude François Meme Si Tu Revenais\n",
      "artist:\"Claude François\" album:\"Si j'avais un marteau\" track:\"Belles belles belles\" not in spotify\n"
     ]
    },
    {
     "name": "stdout",
     "output_type": "stream",
     "text": [
      "132 /1755 : 5nY0lSKJYjm0hsptrH93ai Belles belles belles Claude François Si J'Avais Un Marteau\n",
      "artist:\"Claude François\" album:\"Si j'avais un marteau\" track:\"Si j'avais un marteau\" not in spotify\n",
      "133 /1755 : 02lck9tVsjUPDNSJtdiO6l Si j'avais un marteau Claude François Si J'Avais Un Marteau\n",
      "134 /1755 : 75JFxkI2RXiU7L9VXzMkle The Scientist Coldplay A Rush of Blood to the Head\n"
     ]
    },
    {
     "name": "stdout",
     "output_type": "stream",
     "text": [
      "135 /1755 : 6FRwDxXsvSasw0y2eDArsz Sunshine Of Your Love Cream Disraeli Gears\n",
      "136 /1755 : 587bVBCHYW5Q2VNRLig4AS Born On The Bayou Creedence Clearwater Revival Bayou Country (40th Anniversary Edition)\n",
      "artist:\"Creedence Clearwater Revival\" album:\"Cosmo's Factory\" track:\"I Heard It Through The Grapevine\" not in spotify\n",
      "artist:\"Creedence Clearwater Revival\" album:\"Cosmos Factory\" track:\"I Heard It Through The Grapevine\" not in spotify\n"
     ]
    },
    {
     "name": "stdout",
     "output_type": "stream",
     "text": [
      "137 /1755 : 0HHIbFhmTXsIzz2VUmkH96 I Heard It Through The Grapevine Creedence Clearwater Revival Cosmo's Factory (40th Anniversary Edition)\n",
      "138 /1755 : 11DjZQEZ69EXLo77HVj6yW Green River Creedence Clearwater Revival Green River (40th Anniversary Edition)\n",
      "139 /1755 : 4BP3uh0hFLFRb5cjsgLqDh Fortunate Son Creedence Clearwater Revival Willy And The Poor Boys\n",
      "140 /1755 : 3H3cOQ6LBLSvmcaV7QkZEu Aerodynamic Daft Punk Discovery\n"
     ]
    },
    {
     "name": "stdout",
     "output_type": "stream",
     "text": [
      "141 /1755 : 6vuPZX9fWESg5js2JFTQRJ Crescendolls Daft Punk Discovery\n",
      "142 /1755 : 2VEZx7NWsZ1D0eJ4uv5Fym Digital Love Daft Punk Discovery\n",
      "143 /1755 : 7v9Q0dAb9t7h8gJOkcJHay Face to Face Daft Punk Discovery\n",
      "144 /1755 : 5W3cjX2J3tjhG8zb6u0qHn Harder, Better, Faster, Stronger Daft Punk Discovery\n"
     ]
    },
    {
     "name": "stdout",
     "output_type": "stream",
     "text": [
      "145 /1755 : 098ttCNmncrO4YvqWUNMvn High Life Daft Punk Discovery\n",
      "146 /1755 : 63JXZZRbmzooashakb0zbu Nightvision Daft Punk Discovery\n",
      "147 /1755 : 0DiWol3AO6WpXZgp0goxAV One More Time Daft Punk Discovery\n",
      "148 /1755 : 4npMbTuxrUA3Wd7edACZ2L Short Circuit Daft Punk Discovery\n"
     ]
    },
    {
     "name": "stdout",
     "output_type": "stream",
     "text": [
      "149 /1755 : 1NeLwFETswx8Fzxl2AFl91 Something About Us Daft Punk Discovery\n",
      "150 /1755 : 186hvCTyrni4KT9nwIQ7zS Superheroes Daft Punk Discovery\n",
      "151 /1755 : 3zMvotMEQK3xvH01vA9wAP Too Long Daft Punk Discovery\n",
      "152 /1755 : 2LD2gT7gwAurzdQDQtILds Veridis Quo Daft Punk Discovery\n"
     ]
    },
    {
     "name": "stdout",
     "output_type": "stream",
     "text": [
      "153 /1755 : 7cMFjxhbXBpOlais7KMF3j Voyager Daft Punk Discovery\n",
      "154 /1755 : 0k1xMUwn9sb7bZiqdT9ygx Beyond Daft Punk Random Access Memories\n",
      "155 /1755 : 2KHRENHQzTIQ001nlP9Gdc Contact Daft Punk Random Access Memories\n",
      "156 /1755 : 36c4JohayB9qd64eidQMBi Doin' it Right (feat. Panda Bear) Daft Punk Random Access Memories\n"
     ]
    },
    {
     "name": "stdout",
     "output_type": "stream",
     "text": [
      "157 /1755 : 0IedgQjjJ8Ad4B3UDQ5Lyn Fragments of Time (feat. Todd Edwards) Daft Punk Random Access Memories\n",
      "158 /1755 : 69kOkLUCkxIZYexIgSG8rq Get Lucky (feat. Pharrell Williams & Nile Rodgers) Daft Punk Random Access Memories\n",
      "159 /1755 : 0oks4FnzhNp5QPTZtoet7c Giorgio by Moroder Daft Punk Random Access Memories\n",
      "160 /1755 : 0dEIca2nhcxDUV8C5QkPYb Give Life Back to Music Daft Punk Random Access Memories\n"
     ]
    },
    {
     "name": "stdout",
     "output_type": "stream",
     "text": [
      "161 /1755 : 2cGxRwrMyEAp8dEbuZaVv6 Instant Crush (feat. Julian Casablancas) Daft Punk Random Access Memories\n",
      "162 /1755 : 5CMjjywI0eZMixPeqNd75R Lose Yourself to Dance (feat. Pharrell Williams) Daft Punk Random Access Memories\n",
      "163 /1755 : 79koEJRtKOOGJ0VSAF3FMk Motherboard Daft Punk Random Access Memories\n"
     ]
    },
    {
     "name": "stdout",
     "output_type": "stream",
     "text": [
      "164 /1755 : 3ctALmweZBapfBdFiIVpji The Game of Love Daft Punk Random Access Memories\n",
      "165 /1755 : 7oaEjLP2dTJLJsITbAxTOz Touch (feat. Paul Williams) Daft Punk Random Access Memories\n",
      "166 /1755 : 7Bxv0WL7UC6WwQpk9TzdMJ Within Daft Punk Random Access Memories\n"
     ]
    },
    {
     "name": "stdout",
     "output_type": "stream",
     "text": [
      "167 /1755 : 72Z17vmmeQKAg8bptWvpVG Space Oddity - 2015 Remaster David Bowie David Bowie (aka Space Oddity) [2015 Remaster]\n",
      "168 /1755 : 3ZE3wv8V3w2T2f7nOCjV0N Life on Mars? - 2015 Remaster David Bowie Hunky Dory (2015 Remaster)\n",
      "169 /1755 : 7uHO4AmKtyGa5v5fsElGoC You Spin Me Round (Like a Record) Dead Or Alive Youthquake\n",
      "artist:\"Début de Soirée\" album:\"Jardins d'enfants\" track:\"Nuit de Folie\" not in spotify\n"
     ]
    },
    {
     "name": "stdout",
     "output_type": "stream",
     "text": [
      "artist:\"Début de Soirée\" album:\"Jardins denfants\" track:\"Nuit de Folie\" not in spotify\n",
      "artist:\"Début de Soirée\" album:\"Jardins d'enfants\" track:\"Nuit de Folie\" not in spotify\n",
      "artist:\"Début de Soirée\" album:\"Jardins denfants\" track:\"Nuit de Folie\" not in spotify\n",
      "171 /1755 : 1iW2ktyrQHNKZwFTvgP0Ta Burn - Remastered 2004 Deep Purple Burn (30th Anniversary Edition)\n"
     ]
    },
    {
     "name": "stdout",
     "output_type": "stream",
     "text": [
      "172 /1755 : 1rbWklbXlVEDjCL5uuWuVg You Fool No One - Remastered 2008 Deep Purple Burn (30th Anniversary Edition)\n",
      "173 /1755 : 573Z2Dty5epeNgKsgoDOlr Child in Time - 1995 Remaster Deep Purple Deep Purple in Rock (Anniversary Edition)\n",
      "174 /1755 : 18URo35acNKRTHfEdjTcGn Photograph Def Leppard Pyromania\n",
      "175 /1755 : 1cBxAm8a0fENn2ix3Dfm3u Precious Depeche Mode Playing the Angel (Deluxe)\n"
     ]
    },
    {
     "name": "stdout",
     "output_type": "stream",
     "text": [
      "176 /1755 : 2kkvB3RNRzwjFdGhaUA0tz Layla - 40th Anniversary Version / 2010 Remastered Derek & The Dominos Layla And Other Assorted Love Songs (40th Anniversary / 2010 Remastered)\n",
      "177 /1755 : 5jAV3dThaNqdy1pUzO5Xpi Ist das noch Punkrock? Die Ärzte auch\n",
      "178 /1755 : 4lRH3aAhNnyC144Bmn3Y1o Arob@se Dinos Taciturne\n",
      "179 /1755 : 0CzeAbfKFnxnWjwo5iYiCG Brothers In Arms Dire Straits Brothers In Arms\n"
     ]
    },
    {
     "name": "stdout",
     "output_type": "stream",
     "text": [
      "180 /1755 : 31DvHUCSioX0JD7B4kZMJ9 Money For Nothing Dire Straits Brothers In Arms\n",
      "181 /1755 : 0lFnN31Rw1x5Mx1kojwQQY Single Handed Sailor Dire Straits Communique\n",
      "182 /1755 : 37Tmv4NnfQeb0ZgUC4fOJj Sultans Of Swing Dire Straits Dire Straits\n",
      "183 /1755 : 7btwmzYKStDASnnx0vubga Industrial Disease Dire Straits Love Over Gold\n"
     ]
    },
    {
     "name": "stdout",
     "output_type": "stream",
     "text": [
      "184 /1755 : 5o4VFWeGJeCDaNNBdIXcVY It Never Rains Dire Straits Love Over Gold\n",
      "185 /1755 : 0K8tOSa1LE1Ue784z6qwWZ Love Over Gold Dire Straits Love Over Gold\n",
      "186 /1755 : 5KVak7r5YKcnkmARc0hy0Q Private Investigations Dire Straits Love Over Gold\n"
     ]
    },
    {
     "name": "stdout",
     "output_type": "stream",
     "text": [
      "187 /1755 : 0Bg100ruK1ZD7H96rNo6fR Telegraph Road Dire Straits Love Over Gold\n",
      "188 /1755 : 0PNt5WTw092eED0ru9SuIp Romeo And Juliet Dire Straits Making Movies\n",
      "189 /1755 : 4ZSDreApKOo6eQYFx9qXfD Tunnel Of Love Dire Straits Making Movies\n"
     ]
    },
    {
     "name": "stdout",
     "output_type": "stream",
     "text": [
      "190 /1755 : 5g6o2ZEegnAI3MczbwZaTZ Calling Elvis Dire Straits On Every Street\n",
      "191 /1755 : 1ydZRag9jS1VAXcUs8DAu9 Heavy Fuel Dire Straits On Every Street\n",
      "192 /1755 : 4TUC13vLPzZCFSKe5JOJD5 Planet Of New Orleans Dire Straits On Every Street\n",
      "artist:\"Disiz La Peste\" album:\"Le collector, Vol. 1\" track:\"J'pète les plombs\" not in spotify\n"
     ]
    },
    {
     "name": "stdout",
     "output_type": "stream",
     "text": [
      "193 /1755 : 5onlhFwHJhp0ff2tPju2X6 J'pète les plombs Disiz La Peste Le collector, Vol. 1\n",
      "194 /1755 : 1No3SDMTneCwu3R0gKZqpI Les 10 Commandements du MC Disiz La Peste Rap Machine\n",
      "195 /1755 : 32VjGZWrYx3fB0Ma1Qjydq X Gon' Give It To Ya DMX Cradle 2 The Grave\n",
      "196 /1755 : 4BtVjkj3QpWYFgbcCss37B Bloodflower Draconian Turning Season Within\n"
     ]
    },
    {
     "name": "stdout",
     "output_type": "stream",
     "text": [
      "197 /1755 : 5YhsZ983k2uUlBsgJIKEY7 Earthbound Draconian Turning Season Within\n",
      "198 /1755 : 7fC3F1YvSEtuSUslLHVak3 Morphine Cloud Draconian Turning Season Within\n",
      "199 /1755 : 3r0doKGGtYDCf0hYPabVrN Not Breathing Draconian Turning Season Within\n"
     ]
    },
    {
     "name": "stdout",
     "output_type": "stream",
     "text": [
      "200 /1755 : 75vdaU4ZsUSEGbuGquKZJe Seasons Apart Draconian Turning Season Within\n",
      "artist:\"Draconian\" album:\"Turning Season Within\" track:\"The Empy Stare / September Ashes\" not in spotify\n",
      "artist:\"Draconian\" album:\"Turning Season Within\" track:\"The Empy Stare / September Ashes\" not in spotify\n",
      "202 /1755 : 4Til7SHt88u8WTQgpP4WHb The Failure Epiphany Draconian Turning Season Within\n"
     ]
    },
    {
     "name": "stdout",
     "output_type": "stream",
     "text": [
      "203 /1755 : 4O5vckx9mXuBcchbAqLux3 When I Wake Draconian Turning Season Within\n",
      "204 /1755 : 7Cuk8jsPPoNYQWXK9XRFvG September Earth, Wind & Fire September\n",
      "205 /1755 : 1TF8mSG5YHyaS4o3NeBSAo Munich Editors The Back Room\n"
     ]
    },
    {
     "name": "stdout",
     "output_type": "stream",
     "text": [
      "206 /1755 : 42COu0u76ahdsby0hKfMPH Was ist hier los? Eisbrecher Sturmfahrt\n",
      "207 /1755 : 6xE6ZWzK1YDDSYzqOCoQlz Last Train to London Electric Light Orchestra Discovery\n",
      "208 /1755 : 6rQG8QH1rGoCOeGHdrnYhb Funeralopolis Electric Wizard Dopethrone (Remaster)\n",
      "209 /1755 : 6BYULU1d4pbArOI3Y67k1N Tarkus - i. Eruption, ii. Stones of Years, iii. Iconoclast, iv. Mass, v. Manticore, vi. Battlefield, vii. Aquatarkus; 2012 Stereo Mix Emerson, Lake & Palmer Tarkus (Deluxe Version)\n"
     ]
    },
    {
     "name": "stdout",
     "output_type": "stream",
     "text": [
      "210 /1755 : 6MqMbqvS7UhcgMuIlru9VL Colour Of The Sunset Eric Burdon When I Was Young\n",
      "211 /1755 : 2udGjDmpK1dH9VGyw7nrei Cocaine Eric Clapton Slowhand 35th Anniversary\n",
      "212 /1755 : 3BEZCNZSmVv30vsMNSOCri Layla - Acoustic; Live at MTV Unplugged, Bray Film Studios, Windsor, England, UK, 1/16/1992; 2013 Remaster Eric Clapton Unplugged (Deluxe Edition)\n",
      "213 /1755 : 7lS4Kp6wf8oKDhvRquyQ81 Hurra Hurra Die Pest Ist Da Feuerschwanz Metvernichter\n"
     ]
    },
    {
     "name": "stdout",
     "output_type": "stream",
     "text": [
      "artist:\"Flamingosis\" album:\"A Groovy Thing\" track:\"A Groovy Intro\" not in spotify\n",
      "artist:\"Flamingosis\" album:\"A Groovy Thing\" track:\"A Groovy Intro\" not in spotify\n",
      "artist:\"Flamingosis\" album:\"A Groovy Thing\" track:\"A Groovy Thing\" not in spotify\n",
      "artist:\"Flamingosis\" album:\"A Groovy Thing\" track:\"A Groovy Thing\" not in spotify\n"
     ]
    },
    {
     "name": "stdout",
     "output_type": "stream",
     "text": [
      "artist:\"Flamingosis\" album:\"A Groovy Thing\" track:\"Breezy\" not in spotify\n",
      "artist:\"Flamingosis\" album:\"A Groovy Thing\" track:\"Breezy\" not in spotify\n",
      "artist:\"Flamingosis\" album:\"A Groovy Thing\" track:\"Come & Get it\" not in spotify\n",
      "artist:\"Flamingosis\" album:\"A Groovy Thing\" track:\"Come & Get it\" not in spotify\n"
     ]
    },
    {
     "name": "stdout",
     "output_type": "stream",
     "text": [
      "artist:\"Flamingosis\" album:\"A Groovy Thing\" track:\"Don’t Lose the Feeling\" not in spotify\n",
      "artist:\"Flamingosis\" album:\"A Groovy Thing\" track:\"Don’t Lose the Feeling\" not in spotify\n",
      "artist:\"Flamingosis\" album:\"A Groovy Thing\" track:\"Flute Salad\" not in spotify\n",
      "artist:\"Flamingosis\" album:\"A Groovy Thing\" track:\"Flute Salad\" not in spotify\n"
     ]
    },
    {
     "name": "stdout",
     "output_type": "stream",
     "text": [
      "artist:\"Flamingosis\" album:\"A Groovy Thing\" track:\"Get Yourself Together\" not in spotify\n",
      "artist:\"Flamingosis\" album:\"A Groovy Thing\" track:\"Get Yourself Together\" not in spotify\n",
      "artist:\"Flamingosis\" album:\"A Groovy Thing\" track:\"Guilty Pleasure\" not in spotify\n",
      "artist:\"Flamingosis\" album:\"A Groovy Thing\" track:\"Guilty Pleasure\" not in spotify\n"
     ]
    },
    {
     "name": "stdout",
     "output_type": "stream",
     "text": [
      "artist:\"Flamingosis\" album:\"A Groovy Thing\" track:\"High Tide\" not in spotify\n",
      "artist:\"Flamingosis\" album:\"A Groovy Thing\" track:\"High Tide\" not in spotify\n",
      "artist:\"Flamingosis\" album:\"A Groovy Thing\" track:\"Keep Shining\" not in spotify\n",
      "artist:\"Flamingosis\" album:\"A Groovy Thing\" track:\"Keep Shining\" not in spotify\n"
     ]
    },
    {
     "name": "stdout",
     "output_type": "stream",
     "text": [
      "artist:\"Flamingosis\" album:\"A Groovy Thing\" track:\"Long Distance\" not in spotify\n",
      "artist:\"Flamingosis\" album:\"A Groovy Thing\" track:\"Long Distance\" not in spotify\n",
      "artist:\"Flamingosis\" album:\"A Groovy Thing\" track:\"Never Felt a Feeling Like This\" not in spotify\n",
      "artist:\"Flamingosis\" album:\"A Groovy Thing\" track:\"Never Felt a Feeling Like This\" not in spotify\n"
     ]
    },
    {
     "name": "stdout",
     "output_type": "stream",
     "text": [
      "artist:\"Flamingosis\" album:\"A Groovy Thing\" track:\"Not Like the Others\" not in spotify\n",
      "artist:\"Flamingosis\" album:\"A Groovy Thing\" track:\"Not Like the Others\" not in spotify\n",
      "artist:\"Flamingosis\" album:\"A Groovy Thing\" track:\"Otaku Mode\" not in spotify\n",
      "artist:\"Flamingosis\" album:\"A Groovy Thing\" track:\"Otaku Mode\" not in spotify\n"
     ]
    },
    {
     "name": "stdout",
     "output_type": "stream",
     "text": [
      "artist:\"Flamingosis\" album:\"A Groovy Thing\" track:\"Persevere\" not in spotify\n",
      "artist:\"Flamingosis\" album:\"A Groovy Thing\" track:\"Persevere\" not in spotify\n",
      "artist:\"Flamingosis\" album:\"A Groovy Thing\" track:\"Soul Crusade\" not in spotify\n",
      "artist:\"Flamingosis\" album:\"A Groovy Thing\" track:\"Soul Crusade\" not in spotify\n"
     ]
    },
    {
     "name": "stdout",
     "output_type": "stream",
     "text": [
      "artist:\"Flamingosis\" album:\"A Groovy Thing\" track:\"That’s Cold\" not in spotify\n",
      "artist:\"Flamingosis\" album:\"A Groovy Thing\" track:\"That’s Cold\" not in spotify\n",
      "artist:\"Flamingosis\" album:\"A Groovy Thing\" track:\"Want Me (Need Me)\" not in spotify\n",
      "artist:\"Flamingosis\" album:\"A Groovy Thing\" track:\"Want Me (Need Me)\" not in spotify\n"
     ]
    },
    {
     "name": "stdout",
     "output_type": "stream",
     "text": [
      "232 /1755 : 5e9TFTbltYBg2xThimr0rU The Chain - 2004 Remaster Fleetwood Mac Rumours (Super Deluxe)\n",
      "artist:\"François Valéry\" album:\"Mon pote le DJ\" track:\"Mon pote le DJ\" not in spotify\n",
      "artist:\"François Valéry\" album:\"Mon pote le DJ\" track:\"Mon pote le DJ\" not in spotify\n",
      "234 /1755 : 20I8RduZC2PWMWTDCZuuAN Take Me Out Franz Ferdinand Franz Ferdinand\n"
     ]
    },
    {
     "name": "stdout",
     "output_type": "stream",
     "text": [
      "artist:\"Franzl Lang\" track:\"Auf und auf voll Lebenslust\" not in spotify\n",
      "artist:\"Franzl Lang\" track:\"Auf und auf voll Lebenslust\" not in spotify\n",
      "236 /1755 : 7dEQgmYcZSVWsHmutkOLDF All Right Now - Single Version Free The Free Story\n",
      "237 /1755 : 0mLJdJPzeWzBegRrfmeiwM 1979 French 79 Olympic\n"
     ]
    },
    {
     "name": "stdout",
     "output_type": "stream",
     "text": [
      "238 /1755 : 6NNg7SJpg7p9VCZXhSqiaE After Party French 79 Olympic\n"
     ]
    },
    {
     "name": "stdout",
     "output_type": "stream",
     "text": [
      "239 /1755 : 1LpZP3BXZokmhMi0IN73yY Between the Buttons French 79 Olympic\n",
      "240 /1755 : 4ZNpdroEGIgnr3O7IvlUsB DDROPP French 79 Olympic\n",
      "241 /1755 : 5G0oVoL309pqsvGDzhMOwx Diamond Veins (feat. Sarah Rebecca) French 79 Olympic\n"
     ]
    },
    {
     "name": "stdout",
     "output_type": "stream",
     "text": [
      "242 /1755 : 559C5y1XbfhzB8xYjleIQQ Golden Times French 79 Olympic\n",
      "243 /1755 : 2AQxYyQR0gi5mNb0QsFOQJ Hush Hush French 79 Olympic\n",
      "244 /1755 : 5e1kNatja9w74M4PU8Ki6d Invisible Moon French 79 Olympic\n",
      "245 /1755 : 5pxtj7cCnv2hZe6mbS2MBx Lovin' Feeling French 79 Olympic\n"
     ]
    },
    {
     "name": "stdout",
     "output_type": "stream",
     "text": [
      "246 /1755 : 5HCYfovH50URGDvpfH571V Olympic French 79 Olympic\n",
      "247 /1755 : 25Yj5EDimlbwUWEFXJmAmw Pantheon Neon French 79 Olympic\n",
      "248 /1755 : 5leH1cR5UPBWT3MFmOXyGl Vertigo Valley French 79 Olympic\n",
      "249 /1755 : 46bxbxG8YnnjZvjfGvZXbj Blank Tapes From Indian Lakes Everything Feels Better Now\n"
     ]
    },
    {
     "name": "stdout",
     "output_type": "stream",
     "text": [
      "250 /1755 : 1SOECNmtGKx3yW14505Wfu La danse des parasites Full dub Rewind\n",
      "251 /1755 : 7e7y5y7GPhCm6GtjBO2jMk After The Ordeal - Remastered 2008 Genesis Selling England By The Pound\n",
      "252 /1755 : 2tQfSfnEFo9OnhYm3mNMj8 Aisle Of Plenty - Remastered 2008 Genesis Selling England By The Pound\n"
     ]
    },
    {
     "name": "stdout",
     "output_type": "stream",
     "text": [
      "253 /1755 : 75n6R38rfp87ElycXr7OJq Dancing With The Moonlit Knight - Remastered 2008 Genesis Selling England By The Pound\n",
      "254 /1755 : 5OBptQtIlGOG94la7qil6c Firth Of Fifth - Remastered 2008 Genesis Selling England By The Pound\n",
      "255 /1755 : 1WyzlXMywoEPl8VzIo34dJ I Know What I Like (In Your Wardrobe) - Remastered 2008 Genesis Selling England By The Pound\n"
     ]
    },
    {
     "name": "stdout",
     "output_type": "stream",
     "text": [
      "256 /1755 : 7D2IzfbAKvXD7tZxyV5JxD More Fool Me - Remastered 2008 Genesis Selling England By The Pound\n",
      "257 /1755 : 3nhVfuweeVgS7Yr0Pd9Dgz The Battle Of Epping Forest - Remastered 2008 Genesis Selling England By The Pound\n",
      "258 /1755 : 3WBXyS9Isg4aQBPCuX2GwL The Cinema Show - Remastered 2008 Genesis Selling England By The Pound\n"
     ]
    },
    {
     "name": "stdout",
     "output_type": "stream",
     "text": [
      "259 /1755 : 0lNaytiCORnMNZTEBQxlPv Affirmation George Benson Breezin'\n",
      "260 /1755 : 5gaUkg5JNk8c4mr2jnpX8H Give Me the Night George Benson Give Me the Night\n",
      "261 /1755 : 37y1QZW0uSeMjTztnjjoOV It's On George Duke After Hours\n",
      "262 /1755 : 2gGUCK6eNm4qoayset0wJ4 Le Pornographe Georges Brassens Le Pornographe-Vol 5\n"
     ]
    },
    {
     "name": "stdout",
     "output_type": "stream",
     "text": [
      "artist:\"Georges Brassens\" album:\"Le Vent\" track:\"Brave Margot\" not in spotify\n",
      "artist:\"Georges Brassens\" album:\"Le Vent\" track:\"Brave Margot\" not in spotify\n",
      "artist:\"Georges Brassens\" album:\"Les Copains D'Abord\" track:\"Les 4 z'arts\" not in spotify\n",
      "artist:\"Georges Brassens\" album:\"Les Copains DAbord\" track:\"Les 4 zarts\" not in spotify\n"
     ]
    },
    {
     "name": "stdout",
     "output_type": "stream",
     "text": [
      "artist:\"Georges Brassens\" album:\"Les Copains D'Abord\" track:\"Les 4 z'arts\" not in spotify\n",
      "artist:\"Georges Brassens\" album:\"Les Copains DAbord\" track:\"Les 4 zarts\" not in spotify\n",
      "artist:\"Georges Brassens\" album:\"Les Copains D'Abord\" track:\"Les Copains d'abord\" not in spotify\n",
      "265 /1755 : 5MRyPM2k1lvwt3noWp0GXJ Les copains d'abord Georges Brassens Les Copains D'Abord\n"
     ]
    },
    {
     "name": "stdout",
     "output_type": "stream",
     "text": [
      "artist:\"Georges Brassens\" album:\"Les Funérailles d'antan\" track:\"Le Bistrot\" not in spotify\n",
      "artist:\"Georges Brassens\" album:\"Les Funérailles dantan\" track:\"Le Bistrot\" not in spotify\n",
      "artist:\"Georges Brassens\" album:\"Les Funérailles d'antan\" track:\"Le Bistrot\" not in spotify\n",
      "artist:\"Georges Brassens\" album:\"Les Funérailles dantan\" track:\"Le Bistrot\" not in spotify\n"
     ]
    },
    {
     "name": "stdout",
     "output_type": "stream",
     "text": [
      "267 /1755 : 5XgsBMyNBUQeDyYokC1vKg Absolution Ghost Meliora (Deluxe Edition)\n",
      "268 /1755 : 5j3iBuHq6vv7VcBo4Y2QrK Cirice Ghost Meliora\n",
      "269 /1755 : 5GjH3tVjg5xR50B9bZ75UR Deus In Absentia Ghost Meliora (Deluxe Edition)\n",
      "270 /1755 : 3fONTzb0YbrERyL1fCgXzH Devil Church Ghost Meliora (Deluxe Edition)\n"
     ]
    },
    {
     "name": "stdout",
     "output_type": "stream",
     "text": [
      "271 /1755 : 68OVKwrzkwGqQZIm9MVwUK From The Pinnacle To The Pit Ghost Meliora\n",
      "272 /1755 : 6NFKy0jg3S6x380iuF47jX He Is Ghost Meliora\n",
      "273 /1755 : 59mBIMw5eSIRG6U2vqBMOY Majesty Ghost Meliora (Deluxe Edition)\n",
      "274 /1755 : 0zL2CizOnEyMoT90JIZ8FF Mummy Dust Ghost Meliora (Deluxe Edition)\n"
     ]
    },
    {
     "name": "stdout",
     "output_type": "stream",
     "text": [
      "275 /1755 : 49c3XYYNNAiXrvv19F88I4 Spirit Ghost Meliora (Deluxe Edition)\n",
      "276 /1755 : 5yLxJlzVcyXXFhljuklZx6 Spöksonat Ghost Meliora (Deluxe Edition)\n",
      "277 /1755 : 3XNPRJeE1ssODmXDS7hP22 Square Hammer Ghost Popestar\n",
      "278 /1755 : 7rIovIsXE6kMn629b7kDig I Will Survive Gloria Gaynor Love Tracks\n"
     ]
    },
    {
     "name": "stdout",
     "output_type": "stream",
     "text": [
      "artist:\"GoGo Penguin\" album:\"Man Made Object\" track:\"Unspeakable Word\" not in spotify\n",
      "artist:\"GoGo Penguin\" album:\"Man Made Object\" track:\"Unspeakable Word\" not in spotify\n",
      "280 /1755 : 3cFZcbBhNihxFL2qReV5Nz Backbone Gojira From Mars to Sirius\n",
      "281 /1755 : 6SJ2LK3yMdGzC4AEcXJZo4 Flying Whales Gojira From Mars to Sirius\n"
     ]
    },
    {
     "name": "stdout",
     "output_type": "stream",
     "text": [
      "282 /1755 : 66zWscDn7cl5osZGXOKNuv From Mars Gojira From Mars to Sirius\n",
      "283 /1755 : 4Kos2MfSvR8JbBtWnhABqe From the Sky Gojira From Mars to Sirius\n",
      "284 /1755 : 0R4bveklUijKCsor0MwO4s Global Warming Gojira From Mars to Sirius\n",
      "285 /1755 : 5AQ0M1m445kYASuGuGGM5F In the Wilderness Gojira From Mars to Sirius\n"
     ]
    },
    {
     "name": "stdout",
     "output_type": "stream",
     "text": [
      "286 /1755 : 1ZNlVOjJrqkrgsEWd8jrGd Ocean Planet Gojira From Mars to Sirius\n",
      "287 /1755 : 4ahFbXso4kfpQcqTixdJWJ The Heaviest Matter of the Universe Gojira From Mars to Sirius\n",
      "288 /1755 : 0UqumIKa2ORkRjKMDsWn97 To Sirius Gojira From Mars to Sirius\n",
      "289 /1755 : 2Nt8pTK334DxK2nFjJx7hS Unicorn Gojira From Mars to Sirius\n"
     ]
    },
    {
     "name": "stdout",
     "output_type": "stream",
     "text": [
      "290 /1755 : 60QIEgDTd2zsu4jvaorx5P Where Dragons Dwell Gojira From Mars to Sirius\n",
      "291 /1755 : 1dnYxJzry3CTGceBEWXXKP World to Come Gojira From Mars to Sirius\n",
      "artist:\"Gojira\" album:\"L'enfant Sauvage\" track:\"Born in Winter\" not in spotify\n",
      "292 /1755 : 1rDzUqMRA9VdGCIwzgfeh9 Born in Winter Gojira L'Enfant Sauvage (Special Edition)\n"
     ]
    },
    {
     "name": "stdout",
     "output_type": "stream",
     "text": [
      "artist:\"Gojira\" album:\"L'enfant Sauvage\" track:\"Explosia\" not in spotify\n",
      "293 /1755 : 7f7AkrOCmi5X6Eovd3TiNq Explosia Gojira L'Enfant Sauvage (Special Edition)\n",
      "artist:\"Gojira\" album:\"L'enfant Sauvage\" track:\"L'Enfant Sauvage\" not in spotify\n",
      "294 /1755 : 4PWxt9Fy949kUtkEi2GI5V L'enfant sauvage Gojira L'Enfant Sauvage (Special Edition)\n"
     ]
    },
    {
     "name": "stdout",
     "output_type": "stream",
     "text": [
      "artist:\"Gojira\" album:\"L'enfant Sauvage\" track:\"Liquid Fire\" not in spotify\n",
      "295 /1755 : 5BHLmCLntTLjSFGl8MG5wZ Liquid Fire Gojira L'Enfant Sauvage (Special Edition)\n",
      "artist:\"Gojira\" album:\"L'enfant Sauvage\" track:\"Mouth of Kala\" not in spotify\n",
      "296 /1755 : 3YVwGFmSc1ycqsk6qLNAK3 Mouth of Kala Gojira L'Enfant Sauvage (Special Edition)\n"
     ]
    },
    {
     "name": "stdout",
     "output_type": "stream",
     "text": [
      "artist:\"Gojira\" album:\"L'enfant Sauvage\" track:\"My Last Creation\" not in spotify\n",
      "297 /1755 : 6TEDqADSZjLJ8sH1q8yQDt My Last Creation Gojira L'Enfant Sauvage (Special Edition)\n",
      "artist:\"Gojira\" album:\"L'enfant Sauvage\" track:\"Pain is a Master\" not in spotify\n"
     ]
    },
    {
     "name": "stdout",
     "output_type": "stream",
     "text": [
      "298 /1755 : 341EpTlTyC2YbVAxPurQon Pain Is a Master Gojira L'Enfant Sauvage (Special Edition)\n",
      "artist:\"Gojira\" album:\"L'enfant Sauvage\" track:\"Planned Obsolescence\" not in spotify\n",
      "299 /1755 : 57caEZCym7upL7k7wt5h4o Planned Obsolescence Gojira L'Enfant Sauvage (Special Edition)\n"
     ]
    },
    {
     "name": "stdout",
     "output_type": "stream",
     "text": [
      "artist:\"Gojira\" album:\"L'enfant Sauvage\" track:\"The Axe\" not in spotify\n",
      "300 /1755 : 25I6CiICRyGB0K7E9c7Ho0 The Axe Gojira L'Enfant Sauvage (Special Edition)\n",
      "artist:\"Gojira\" album:\"L'enfant Sauvage\" track:\"The Fall\" not in spotify\n",
      "301 /1755 : 6WwjzD7ZnIgzWHKyOvGqG1 The Fall Gojira L'Enfant Sauvage (Special Edition)\n"
     ]
    },
    {
     "name": "stdout",
     "output_type": "stream",
     "text": [
      "artist:\"Gojira\" album:\"L'enfant Sauvage\" track:\"The Gift of Guilt\" not in spotify\n",
      "302 /1755 : 1mjC68qU0Q9HlCIZHZAEko The Gift of Guilt Gojira L'Enfant Sauvage (Special Edition)\n",
      "artist:\"Gojira\" album:\"L'enfant Sauvage\" track:\"The Wild Healer\" not in spotify\n",
      "303 /1755 : 1Pa0DVjBUGreCBHIh81G50 The Wild Healer Gojira L'Enfant Sauvage (Special Edition)\n"
     ]
    },
    {
     "name": "stdout",
     "output_type": "stream",
     "text": [
      "artist:\"Gojira\" album:\"L'enfant Sauvage\" track:\"This Emptiness\" not in spotify\n",
      "304 /1755 : 5HTPySHVzKat76M1IbiNml This Emptiness Gojira L'Enfant Sauvage (Special Edition)\n",
      "305 /1755 : 5uunXHE4kIW6uS4HWAXaOQ Silvera Gojira Magma\n"
     ]
    },
    {
     "name": "stdout",
     "output_type": "stream",
     "text": [
      "306 /1755 : 5yLOyGXa8YQgV3UdSeA5VT Connected Gojira The Link\n",
      "307 /1755 : 3vWeB1ny6gATCESvbxQmNY Dawn Gojira The Link\n",
      "308 /1755 : 4HRPlBGRFhJY30ebslYUJp Death of Me Gojira The Link\n"
     ]
    },
    {
     "name": "stdout",
     "output_type": "stream",
     "text": [
      "309 /1755 : 3NJI0y0seJPfaEbtd0wl50 Embrace the World Gojira The Link\n",
      "310 /1755 : 5OpGKsl636zTBBc2XS1FpY Indians Gojira The Link\n",
      "311 /1755 : 0y2N10hggEXX7w56N8lgj6 Inward Movement Gojira The Link\n",
      "312 /1755 : 6qIbi5Ei6YZX3SFNtpxr7C Over the Flows Gojira The Link\n"
     ]
    },
    {
     "name": "stdout",
     "output_type": "stream",
     "text": [
      "313 /1755 : 59U4m6s68QyGKIpLAln8Fn Remembrance Gojira The Link\n",
      "314 /1755 : 7EEmkoMA3IbFTmmSyMU28A The Link Gojira The Link\n",
      "315 /1755 : 7iFhazAnC4DQ4iVllaX06G Torii Gojira The Link\n",
      "316 /1755 : 7L2GlyA2Kprss5C2UPz1oS Wisdom Comes Gojira The Link\n"
     ]
    },
    {
     "name": "stdout",
     "output_type": "stream",
     "text": [
      "317 /1755 : 2fA5O6Fs60rtXxIfelVKcH A sight to behold Gojira The way of all flesh\n",
      "318 /1755 : 3l5h9gjuQDSC6CI0N6Fr0v Adoration for none Gojira The way of all flesh\n"
     ]
    },
    {
     "name": "stdout",
     "output_type": "stream",
     "text": [
      "319 /1755 : 5teKBipvWxQLE4p2pbDnfg All the tears Gojira The way of all flesh\n",
      "320 /1755 : 7bUcTW0mHg4Ec0kgdXemEG Esoteric surgery Gojira The way of all flesh\n",
      "321 /1755 : 6WUNfk8ULz9ZdmC9f315Qp Oroborus Gojira The way of all flesh\n",
      "322 /1755 : 7iMQChXFK33TS49QWhE4tt The art of dying Gojira The way of all flesh\n"
     ]
    },
    {
     "name": "stdout",
     "output_type": "stream",
     "text": [
      "323 /1755 : 60wIvuNq3tkIZIkXxWuzn5 The silver cord Gojira The way of all flesh\n",
      "324 /1755 : 0HdiTgG4G5TYhz14IkGa0p The way of all flesh Gojira The way of all flesh\n",
      "325 /1755 : 5e0OSsSpWpQ2kS7Z9CGLDu Toxic garbage island Gojira The way of all flesh\n",
      "326 /1755 : 16yvB7exWWUBkZ9fFkLVMI Vacuity Gojira The way of all flesh\n"
     ]
    },
    {
     "name": "stdout",
     "output_type": "stream",
     "text": [
      "327 /1755 : 368sgQMnEzwo5mpShvPFJm Wolf down the earth Gojira The way of all flesh\n",
      "328 /1755 : 67dGM4VgqZwmWUKGAVYO5o Yama's messengers Gojira The way of all flesh\n",
      "329 /1755 : 5NYKOiiSD0iC5BaBFyOiFP Are You Receiving Me Golden Earring Moontan\n",
      "330 /1755 : 5t7tuBGnmy1AegGj6WMvqt Candy's Going Bad Golden Earring Moontan\n"
     ]
    },
    {
     "name": "stdout",
     "output_type": "stream",
     "text": [
      "331 /1755 : 4ENwYjiCcpOHXLQ2SM2M0E Just Like Vince Taylor Golden Earring Moontan\n",
      "332 /1755 : 5tU9JM1v72X7oM808Am6Fq Radar Love Golden Earring Moontan\n",
      "333 /1755 : 5ld7iP4kXPPBFRL4Q65M9s Suzy Lunacy - Mental Rock Golden Earring Moontan\n",
      "334 /1755 : 5cpKDL7ArW8F2JtUk0wuQM The Vanilla Queen Golden Earring Moontan\n"
     ]
    },
    {
     "name": "stdout",
     "output_type": "stream",
     "text": [
      "335 /1755 : 76Ug1q4l6rGwJ2ubV5wh3X All Alone Gorillaz Demon Days\n",
      "336 /1755 : 4Hff1IjRbLGeLgFgxvHflk DARE Gorillaz Demon Days\n",
      "337 /1755 : 2k6hpKTyubRVOmQR11ViY3 Demon Days Gorillaz Demon Days\n",
      "338 /1755 : 2bfGNzdiRa1jXZRdfssSzR Dirty Harry Gorillaz Demon Days\n"
     ]
    },
    {
     "name": "stdout",
     "output_type": "stream",
     "text": [
      "artist:\"Gorillaz\" album:\"Demon Days\" track:\"Don't Get Lost in Heaven\" not in spotify\n",
      "339 /1755 : 4hjGZN8poACfjWCK3Og6vY Don't Get Lost in Heaven Gorillaz Demon Days\n",
      "340 /1755 : 0dcMqjeDpwqB2xhzMsld0p El Mañana Gorillaz Demon Days\n",
      "341 /1755 : 2pw9RZWZibttZzoFhwjuy6 Every Planet We Reach Is Dead Gorillaz Demon Days\n"
     ]
    },
    {
     "name": "stdout",
     "output_type": "stream",
     "text": [
      "342 /1755 : 0d28khcov6AiegSCpG5TuT Feel Good Inc. Gorillaz Demon Days\n",
      "343 /1755 : 1S9tfxdFr4TqoqA14gnKj3 Fire Coming out of the Monkey's Head Gorillaz Demon Days\n",
      "344 /1755 : 2zavoMfVVPJMikH57fd8yK Intro Gorillaz Demon Days\n"
     ]
    },
    {
     "name": "stdout",
     "output_type": "stream",
     "text": [
      "345 /1755 : 0eEgMbSzOHmkOeVuNC3E0k Kids with Guns Gorillaz Demon Days\n",
      "346 /1755 : 7JzmCjvB6bk48JghLyrg8N Last Living Souls Gorillaz Demon Days\n",
      "347 /1755 : 6lrDckuosGpwEHtm1hHBcf November Has Come Gorillaz Demon Days\n"
     ]
    },
    {
     "name": "stdout",
     "output_type": "stream",
     "text": [
      "348 /1755 : 4hNPMfFHauPIbOKvdYqFt7 O Green World Gorillaz Demon Days\n",
      "349 /1755 : 7hnW9af7GuGH5lyUUTa8UH White Light Gorillaz Demon Days\n",
      "350 /1755 : 3THFKx88trZuOFlssVLJ5G Broken Gorillaz Plastic Beach\n"
     ]
    },
    {
     "name": "stdout",
     "output_type": "stream",
     "text": [
      "351 /1755 : 0NDOVMOT6ah2k6HuXLrq5x Cloud of Unknowing (feat. Bobby Womack and Sinfonia ViVA) Gorillaz Plastic Beach\n",
      "352 /1755 : 0OFQwUVOYXn4E8scJq0PAc Doncamatic (feat. Daley) Gorillaz Doncamatic (feat. Daley) [The Joker Remix]\n",
      "353 /1755 : 3a6PN6BRB8PP3ms48s7kU1 Empire Ants (feat. Little Dragon) Gorillaz Plastic Beach\n",
      "354 /1755 : 4EJFCpthcrP6oOUUXQZ22Z Glitter Freeze (feat. Mark E Smith) Gorillaz Plastic Beach\n"
     ]
    },
    {
     "name": "stdout",
     "output_type": "stream",
     "text": [
      "355 /1755 : 0q6LuUqGLUiCPP1cbdwFs3 On Melancholy Hill Gorillaz Plastic Beach\n",
      "356 /1755 : 3s2f6XU5sJ6aqEe7GgDBta Orchestral Intro (feat. Sinfonia ViVA) Gorillaz Plastic Beach\n",
      "357 /1755 : 0xSF7iHZQxaZYMAiBfobms Pirate Jet Gorillaz Plastic Beach\n",
      "artist:\"Gorillaz\" album:\"Plastic Beach\" track:\"Pirate's Progress\" not in spotify\n"
     ]
    },
    {
     "name": "stdout",
     "output_type": "stream",
     "text": [
      "artist:\"Gorillaz\" album:\"Plastic Beach\" track:\"Pirates Progress\" not in spotify\n",
      "artist:\"Gorillaz\" album:\"Plastic Beach\" track:\"Pirate's Progress\" not in spotify\n",
      "artist:\"Gorillaz\" album:\"Plastic Beach\" track:\"Pirates Progress\" not in spotify\n",
      "359 /1755 : 2nZ33CKRbgpJQJJQKHuGXb Plastic Beach (feat. Mick Jones and Paul Simonon) Gorillaz Plastic Beach\n"
     ]
    },
    {
     "name": "stdout",
     "output_type": "stream",
     "text": [
      "360 /1755 : 1foMv2HQwfQ2vntFf9HFeG Rhinestone Eyes Gorillaz Plastic Beach\n",
      "361 /1755 : 4M88Wd7Aps5LGRWMOC7gSH Some Kind of Nature (feat. Lou Reed) Gorillaz Plastic Beach\n",
      "362 /1755 : 6LUfuyLgvgqrykiTE6sJHY Stylo (feat. Mos Def and Bobby Womack) Gorillaz Plastic Beach\n"
     ]
    },
    {
     "name": "stdout",
     "output_type": "stream",
     "text": [
      "363 /1755 : 1UJNbgfTzG1gZZTWFJdMf1 Superfast Jellyfish (feat. Gruff Rhys and De La Soul) Gorillaz Plastic Beach\n",
      "364 /1755 : 5SM5amC17V4itA5jxIICjS Sweepstakes (feat. Mos Def and Hypnotic Brass Ensemble) Gorillaz Plastic Beach\n",
      "365 /1755 : 1dvOwoHwZB9SwvRw2Gv3nz To Binge (feat. Little Dragon) Gorillaz Plastic Beach\n"
     ]
    },
    {
     "name": "stdout",
     "output_type": "stream",
     "text": [
      "366 /1755 : 46WOptLnXUtH3LOyYvmMO1 Welcome to the World of the Plastic Beach (feat. Snoop Dogg and Hypnotic Brass Ensemble) Gorillaz Plastic Beach\n",
      "367 /1755 : 3famfyGuWw5QFcVO5Xk1uW White Flag (feat. Bashy, Kano and the National Orchestra for Arabic Music) Gorillaz Plastic Beach\n",
      "368 /1755 : 2haIfONRw1Bhi2zSp67MYU Aries (feat. Peter Hook and Georgia) Gorillaz Song Machine Episode 3\n",
      "369 /1755 : 6xbDAaVUnQ2kaPAg5GXjFW Detroit Gorillaz The Fall\n"
     ]
    },
    {
     "name": "stdout",
     "output_type": "stream",
     "text": [
      "370 /1755 : 6nTiIhLmQ3FWhvrGafw2zj American Idiot Green Day American Idiot\n",
      "371 /1755 : 3YBZIN3rekqsKxbJc9FZko Paradise City Guns N' Roses Appetite For Destruction\n",
      "372 /1755 : 7o2CTH4ctstm8TNelqjb51 Sweet Child O' Mine Guns N' Roses Appetite For Destruction\n",
      "373 /1755 : 3Llikc7f9KKGYwbrEfAYtk 1985 Haken Affinity\n"
     ]
    },
    {
     "name": "stdout",
     "output_type": "stream",
     "text": [
      "artist:\"Haken\" album:\"Affinity\" track:\"affinity.exe / Initiate\" not in spotify\n",
      "artist:\"Haken\" album:\"Affinity\" track:\"affinity.exe / Initiate\" not in spotify\n",
      "375 /1755 : 48yGP7ecT6JknKUZzLbu6e Bound by Gravity Haken Affinity\n"
     ]
    },
    {
     "name": "stdout",
     "output_type": "stream",
     "text": [
      "376 /1755 : 1OtGh4nRaCYGisPJwubjvz Earthrise Haken Affinity\n",
      "377 /1755 : 4eS9umlLK4MYscFl5qXxBQ Lapse Haken Affinity\n",
      "378 /1755 : 7B2T9UwGKfbUg2ChxyiMI6 Red Giant Haken Affinity\n",
      "379 /1755 : 2sApFpOvdX7RKiHbShekNL The Architect Haken Affinity\n"
     ]
    },
    {
     "name": "stdout",
     "output_type": "stream",
     "text": [
      "380 /1755 : 1ux3tUN5QnfnFlyDTCxELH The Endless Knot Haken Affinity\n",
      "artist:\"Happy End\" album:\"Kazemachi Roman\" track:\"Aiga wo\" not in spotify\n",
      "artist:\"Happy End\" album:\"Kazemachi Roman\" track:\"Aiga wo\" not in spotify\n",
      "artist:\"Happy End\" album:\"Kazemachi Roman\" track:\"Ashita tenki ni Naare\" not in spotify\n"
     ]
    },
    {
     "name": "stdout",
     "output_type": "stream",
     "text": [
      "artist:\"Happy End\" album:\"Kazemachi Roman\" track:\"Ashita tenki ni Naare\" not in spotify\n",
      "artist:\"Happy End\" album:\"Kazemachi Roman\" track:\"Dakishimetai\" not in spotify\n",
      "artist:\"Happy End\" album:\"Kazemachi Roman\" track:\"Dakishimetai\" not in spotify\n",
      "artist:\"Happy End\" album:\"Kazemachi Roman\" track:\"Haikara Beautiful\" not in spotify\n"
     ]
    },
    {
     "name": "stdout",
     "output_type": "stream",
     "text": [
      "artist:\"Happy End\" album:\"Kazemachi Roman\" track:\"Haikara Beautiful\" not in spotify\n",
      "artist:\"Happy End\" album:\"Kazemachi Roman\" track:\"Haikara Hakuchi\" not in spotify\n",
      "artist:\"Happy End\" album:\"Kazemachi Roman\" track:\"Haikara Hakuchi\" not in spotify\n",
      "artist:\"Happy End\" album:\"Kazemachi Roman\" track:\"Hanaichimonme\" not in spotify\n"
     ]
    },
    {
     "name": "stdout",
     "output_type": "stream",
     "text": [
      "artist:\"Happy End\" album:\"Kazemachi Roman\" track:\"Hanaichimonme\" not in spotify\n",
      "artist:\"Happy End\" album:\"Kazemachi Roman\" track:\"Haru Ranman\" not in spotify\n",
      "artist:\"Happy End\" album:\"Kazemachi Roman\" track:\"Haru Ranman\" not in spotify\n",
      "artist:\"Happy End\" album:\"Kazemachi Roman\" track:\"Kaze wo Atsumete\" not in spotify\n"
     ]
    },
    {
     "name": "stdout",
     "output_type": "stream",
     "text": [
      "artist:\"Happy End\" album:\"Kazemachi Roman\" track:\"Kaze wo Atsumete\" not in spotify\n",
      "artist:\"Happy End\" album:\"Kazemachi Roman\" track:\"Kurayamizaka Musasabi Henka\" not in spotify\n",
      "artist:\"Happy End\" album:\"Kazemachi Roman\" track:\"Kurayamizaka Musasabi Henka\" not in spotify\n"
     ]
    },
    {
     "name": "stdout",
     "output_type": "stream",
     "text": [
      "artist:\"Happy End\" album:\"Kazemachi Roman\" track:\"Natsu nandesu\" not in spotify\n",
      "artist:\"Happy End\" album:\"Kazemachi Roman\" track:\"Natsu nandesu\" not in spotify\n",
      "artist:\"Happy End\" album:\"Kazemachi Roman\" track:\"Sorairo no Crayon\" not in spotify\n",
      "artist:\"Happy End\" album:\"Kazemachi Roman\" track:\"Sorairo no Crayon\" not in spotify\n"
     ]
    },
    {
     "name": "stdout",
     "output_type": "stream",
     "text": [
      "artist:\"Happy End\" album:\"Kazemachi Roman\" track:\"Taifuu\" not in spotify\n",
      "artist:\"Happy End\" album:\"Kazemachi Roman\" track:\"Taifuu\" not in spotify\n",
      "393 /1755 : 20zOIoex7YchUh87d8tlvg Boogie Nights Heatwave Too Hot To Handle\n"
     ]
    },
    {
     "name": "stdout",
     "output_type": "stream",
     "text": [
      "394 /1755 : 4Ce66JznW8QbeyTdSzdGwR Chameleon Herbie Hancock Head Hunters\n",
      "395 /1755 : 4WyVRn3L2uXnSUkY762gqN Sly Herbie Hancock Head Hunters\n",
      "396 /1755 : 6c0ziyel6ZMTQ37vKRooGZ Vein Melter Herbie Hancock Head Hunters\n",
      "397 /1755 : 2zQl59dZMzwhrmeSBEgiXY Watermelon Man Herbie Hancock Head Hunters\n"
     ]
    },
    {
     "name": "stdout",
     "output_type": "stream",
     "text": [
      "398 /1755 : 24hwI6OhnNKAOpRDmoSi3q Hidden Shadows Herbie Hancock Sextant\n",
      "399 /1755 : 0sJyW4f7X5YvmrG0cPBLzI Hornets Herbie Hancock Sextant\n",
      "400 /1755 : 5c5F0rVz812oUbgRUq5HcR Rain Dance Herbie Hancock Sextant\n",
      "401 /1755 : 4QPFsGzN0Z4yh1NchgpeOk The One I Call Hey Hey My My British Hawaii\n"
     ]
    },
    {
     "name": "stdout",
     "output_type": "stream",
     "text": [
      "402 /1755 : 3QQgR5v0nGHNxMsMqVLrnW Périmètre Hugo TSR Périmètre\n",
      "artist:\"IAM\" album:\"L'École du Micro d'Argent\" track:\"Bouger la tête\" not in spotify\n",
      "403 /1755 : 3vb3cuNO0q8qL4fni4gTxn Bouger la tête Iam L'école du micro d'argent\n"
     ]
    },
    {
     "name": "stdout",
     "output_type": "stream",
     "text": [
      "artist:\"IAM\" album:\"L'École du Micro d'Argent\" track:\"Chez le mac\" not in spotify\n",
      "404 /1755 : 2D7I6bbfc2Vvz4zYBGWvW1 Chez le mac Iam L'école du micro d'argent\n",
      "artist:\"IAM\" album:\"L'École du Micro d'Argent\" track:\"Dangereux\" not in spotify\n"
     ]
    },
    {
     "name": "stdout",
     "output_type": "stream",
     "text": [
      "405 /1755 : 3ivCKJqe7y23kebjJnb2Ua Dangereux Iam L'école du micro d'argent\n",
      "artist:\"IAM\" album:\"L'École du Micro d'Argent\" track:\"Demain, c'est loin\" not in spotify\n",
      "406 /1755 : 0QtKyWOrV5Vhw2n5Yf7LcF Demain, c'est loin Iam L'école du micro d'argent\n",
      "artist:\"IAM\" album:\"L'École du Micro d'Argent\" track:\"Elle donne son corps avant son nom\" not in spotify\n"
     ]
    },
    {
     "name": "stdout",
     "output_type": "stream",
     "text": [
      "407 /1755 : 0BdZEQpJDKgj0DWBfiG1DH Elle donne son corps avant son nom Iam L'école du micro d'argent\n",
      "artist:\"IAM\" album:\"L'École du Micro d'Argent\" track:\"L'École du Micro d'Argent\" not in spotify\n",
      "408 /1755 : 1Y1lbYkWGFBZSgQmF5TXaU L'école du micro d'argent Iam L'école du micro d'argent\n",
      "artist:\"IAM\" album:\"L'École du Micro d'Argent\" track:\"L'empire du côté obscur\" not in spotify\n"
     ]
    },
    {
     "name": "stdout",
     "output_type": "stream",
     "text": [
      "409 /1755 : 2I5S4UqzgMdooPBc31EmgX L'empire du côté obscur Iam L'école du micro d'argent\n",
      "artist:\"IAM\" album:\"L'École du Micro d'Argent\" track:\"L'enfer\" not in spotify\n",
      "410 /1755 : 5kpqjjwrI3GIVR2qMBqr3D L'enfer (feat. East & Fabe) Iam L'école du micro d'argent\n",
      "artist:\"IAM\" album:\"L'École du Micro d'Argent\" track:\"La Saga\" not in spotify\n"
     ]
    },
    {
     "name": "stdout",
     "output_type": "stream",
     "text": [
      "411 /1755 : 3mFHyDEPrWnc29OlWUBtPI La saga Iam L'école du micro d'argent\n",
      "artist:\"IAM\" album:\"L'École du Micro d'Argent\" track:\"Libère mon imagination\" not in spotify\n",
      "412 /1755 : 2qfrNd9xxV6Axycd3F5Eqb Libère mon imagination Iam L'école Du Micro D'argent (Edition Collector)\n",
      "artist:\"IAM\" album:\"L'École du Micro d'Argent\" track:\"Nés sous la même étoile\" not in spotify\n"
     ]
    },
    {
     "name": "stdout",
     "output_type": "stream",
     "text": [
      "413 /1755 : 66ZtqKhYSA8XyPr0aAUFsm Nés sous la même étoile Iam L'école du micro d'argent\n",
      "artist:\"IAM\" album:\"L'École du Micro d'Argent\" track:\"Petit Frère\" not in spotify\n",
      "414 /1755 : 3jqBLwtTiUYismDiZgAgPE Petit frère Iam L'école du micro d'argent\n",
      "artist:\"IAM\" album:\"L'École du Micro d'Argent\" track:\"Quand tu allais, on revenait\" not in spotify\n"
     ]
    },
    {
     "name": "stdout",
     "output_type": "stream",
     "text": [
      "415 /1755 : 7CNYKkmluWbxcBZluX05Mb Quand tu allais, on revenait Iam L'école du micro d'argent\n",
      "artist:\"IAM\" album:\"L'École du Micro d'Argent\" track:\"Regarde\" not in spotify\n",
      "416 /1755 : 6Fu77zQJkRBzzCPRnSMWgI Regarde Iam L'école du micro d'argent\n",
      "artist:\"IAM\" album:\"L'École du Micro d'Argent\" track:\"Un bon son brut pour les truands\" not in spotify\n"
     ]
    },
    {
     "name": "stdout",
     "output_type": "stream",
     "text": [
      "417 /1755 : 3gN0dANbfEdlK3p31pqgw9 Un bon son brut pour les truands Iam L'école du micro d'argent\n",
      "artist:\"IAM\" album:\"L'École du Micro d'Argent\" track:\"Un cri court dans la nuit\" not in spotify\n",
      "418 /1755 : 35wUBvwdtylu6S1QO5cUur Un cri court dans la nuit (feat. Nuttea) Iam L'école du micro d'argent\n",
      "419 /1755 : 79xLxZrpdURjzJmdHKB85a Downgrade Desert Igorrr Spirituality and Distortion\n"
     ]
    },
    {
     "name": "stdout",
     "output_type": "stream",
     "text": [
      "420 /1755 : 0JBQnLKfLXmlkquabLtAgd Only for the Weak In Flames Clayman\n",
      "artist:\"Incantation\" album:\"Pan Pipes of the Andes\" track:\"Cacharpaya\" not in spotify\n",
      "artist:\"Incantation\" album:\"Pan Pipes of the Andes\" track:\"Cacharpaya\" not in spotify\n",
      "422 /1755 : 6HEUfzCyqifQFu2ni9aTLV No More Lies - 2015 Remaster Iron Maiden Dance of Death (2015 Remaster)\n"
     ]
    },
    {
     "name": "stdout",
     "output_type": "stream",
     "text": [
      "artist:\"Jake Chudnow\" album:\"Short Stories\" track:\"Poodles\" not in spotify\n",
      "artist:\"Jake Chudnow\" album:\"Short Stories\" track:\"Poodles\" not in spotify\n",
      "artist:\"Jake Chudnow\" album:\"Short Stories\" track:\"Turquoise\" not in spotify\n",
      "artist:\"Jake Chudnow\" album:\"Short Stories\" track:\"Turquoise\" not in spotify\n"
     ]
    },
    {
     "name": "stdout",
     "output_type": "stream",
     "text": [
      "425 /1755 : 2Cdvbe2G4hZsnhNMKyGrie I Love Rock 'N Roll Joan Jett & The Blackhearts I Love Rock 'N' Roll (Expanded Edition)\n",
      "426 /1755 : 2jgbxmCRAbqK1dSMY33g6A Les Champs-Elysées Joe Dassin Joe Dassin Éternel...\n",
      "427 /1755 : 5Fj0n0wENSFbch3J8GrHZM Toccata and Fugue in D Minor, BWV 565 Johann Sebastian Bach Bach Famous Pieces\n"
     ]
    },
    {
     "name": "stdout",
     "output_type": "stream",
     "text": [
      "428 /1755 : 5431KRbZtVF3tVgMR1lIYS An der schönen blauen Donau, Walzer, Op. 314 Johann Strauss II Neujahrskonzert 2020 / New Year's Concert 2020 / Concert du Nouvel An 2020\n",
      "429 /1755 : 3FX6GRtdDjwVmY70vp1bQ6 Finale John Adams I WAS LOOKING AT THE CEILING AND THEN I SAW THE SKY\n",
      "430 /1755 : 1YYhDizHx7PnDhAhko6cDS Take Me Home, Country Roads John Denver Poems, Prayers and Promises\n"
     ]
    },
    {
     "name": "stdout",
     "output_type": "stream",
     "text": [
      "431 /1755 : 7pKfPomDEeI4TPT6EOYjn9 Imagine - 2010 Mix John Lennon Imagine\n",
      "432 /1755 : 2hfoyc7ve6xM4ZEiNIiU1B Gimme Love Joji Gimme Love\n",
      "433 /1755 : 3zbZNJ1yewL5HqjvIEjjUD Folie Jul La machine\n",
      "434 /1755 : 3dyoo6UNb2VlMTISBqrDb1 Sousou Jul Sousou\n"
     ]
    },
    {
     "name": "stdout",
     "output_type": "stream",
     "text": [
      "artist:\"Jun Fukamachi\" album:\"Quark\" track:\"Desillusion\" not in spotify\n",
      "artist:\"Jun Fukamachi\" album:\"Quark\" track:\"Desillusion\" not in spotify\n",
      "artist:\"Jun Fukamachi\" album:\"Quark\" track:\"Insight\" not in spotify\n",
      "artist:\"Jun Fukamachi\" album:\"Quark\" track:\"Insight\" not in spotify\n"
     ]
    },
    {
     "name": "stdout",
     "output_type": "stream",
     "text": [
      "artist:\"Jun Fukamachi\" album:\"Quark\" track:\"Perpetual (Movement)\" not in spotify\n",
      "artist:\"Jun Fukamachi\" album:\"Quark\" track:\"Perpetual (Movement)\" not in spotify\n",
      "artist:\"Jun Fukamachi\" album:\"Quark\" track:\"Quark\" not in spotify\n",
      "artist:\"Jun Fukamachi\" album:\"Quark\" track:\"Quark\" not in spotify\n"
     ]
    },
    {
     "name": "stdout",
     "output_type": "stream",
     "text": [
      "439 /1755 : 7nrcCWHUVLM307ZJBWE2Y8 Pronostic Kalash Criminel Pronostic\n",
      "artist:\"Kelly Bailey\" album:\"Half Life 2\" track:\"CP Violation\" not in spotify\n",
      "artist:\"Kelly Bailey\" album:\"Half Life 2\" track:\"CP Violation\" not in spotify\n",
      "441 /1755 : 2WFggVC84b18ZkJTNgFnGP believe Kenichiro Nishihara Jazzy Folklore\n"
     ]
    },
    {
     "name": "stdout",
     "output_type": "stream",
     "text": [
      "artist:\"Kenichiro Nishihara\" album:\"Jazzy Folklore\" track:\"Magazine\" not in spotify\n",
      "artist:\"Kenichiro Nishihara\" album:\"Jazzy Folklore\" track:\"Magazine\" not in spotify\n",
      "443 /1755 : 6b6D94SnWcbNYYcw7ky7YL my leaving Kenichiro Nishihara Jazzy Folklore\n",
      "444 /1755 : 2gR2zWHWq1mGEraOgZvEuW my love my life Kenichiro Nishihara Jazzy Folklore\n"
     ]
    },
    {
     "name": "stdout",
     "output_type": "stream",
     "text": [
      "445 /1755 : 69mJOQRpKgvq8dZX1jaeKZ pass the tea Kenichiro Nishihara Jazzy Folklore\n",
      "446 /1755 : 6PPDZSjl29m4SpQbJqTBQZ piano choir Kenichiro Nishihara Jazzy Folklore\n",
      "447 /1755 : 3b6G3g3cB34x1sMggyffbS prism tale Kenichiro Nishihara Jazzy Folklore\n",
      "artist:\"Kenichiro Nishihara\" album:\"Jazzy Folklore\" track:\"The Vibe\" not in spotify\n"
     ]
    },
    {
     "name": "stdout",
     "output_type": "stream",
     "text": [
      "artist:\"Kenichiro Nishihara\" album:\"Jazzy Folklore\" track:\"The Vibe\" not in spotify\n",
      "449 /1755 : 6pUjl3qNOXV9fbVIFQWtG3 waves Kenichiro Nishihara Jazzy Folklore\n",
      "450 /1755 : 5YERFmdgHxsgCS9JbVJUrp yesternow immigrants Kenichiro Nishihara Jazzy Folklore\n",
      "451 /1755 : 07q0QVgO56EorrSGHC48y3 I Was Made For Lovin' You KISS Dynasty\n"
     ]
    },
    {
     "name": "stdout",
     "output_type": "stream",
     "text": [
      "artist:\"Koji Kondo\" album:\"Ocarina of Time\" track:\"Kokiri Forest\" not in spotify\n",
      "artist:\"Koji Kondo\" album:\"Ocarina of Time\" track:\"Kokiri Forest\" not in spotify\n",
      "453 /1755 : 1mMYaXpT65iZDtvfRA9EkE Fresh Kool & The Gang Emergency (Reissue)\n",
      "454 /1755 : 4Cv6ongCvJy9JfSkWVnb5D Get Down On It Kool & The Gang Something Special\n"
     ]
    },
    {
     "name": "stdout",
     "output_type": "stream",
     "text": [
      "455 /1755 : 1pr9TZGOXeJUggIal1Wq3R Blind Korn Korn\n",
      "456 /1755 : 2sofatcLrRA6B6tju4a31K Alone I Break Korn Untouchables\n",
      "457 /1755 : 1M6gLLL90qPYbwJg2AkIcI Beat It Upright Korn Untouchables\n",
      "458 /1755 : 23AoAi4ac2u44LZfa22OLa Blame Korn Untouchables\n"
     ]
    },
    {
     "name": "stdout",
     "output_type": "stream",
     "text": [
      "459 /1755 : 2XTcRVYXMn9sM03YXONZbO Bottled Up Inside Korn Untouchables\n",
      "460 /1755 : 1KRsEJXVV7nCNMYRgcbMgJ Embrace Korn Untouchables\n",
      "461 /1755 : 43IfqzeXxzmSdnSxFf4e9i Hating Korn Untouchables\n"
     ]
    },
    {
     "name": "stdout",
     "output_type": "stream",
     "text": [
      "462 /1755 : 66LT15XEqCaWiMG44NGQRE Here To Stay Korn Untouchables\n",
      "463 /1755 : 0FbBTiMe8HEUiru528vFbR Hollow Life Korn Untouchables\n",
      "artist:\"Korn\" album:\"Untouchables\" track:\"I'm Hiding\" not in spotify\n",
      "464 /1755 : 5cC34hP5DxvsY6oZhGuJLz I'm Hiding Korn Untouchables\n"
     ]
    },
    {
     "name": "stdout",
     "output_type": "stream",
     "text": [
      "465 /1755 : 57pB5sr8AvUmgW33ed6j4v Make Believe Korn Untouchables\n",
      "artist:\"Korn\" album:\"Untouchables\" track:\"No One's There\" not in spotify\n",
      "466 /1755 : 1a6R7HnO53lOtE1PHRqsTB No One's There Korn Untouchables\n",
      "467 /1755 : 04C3AU7hOnj3AUdPncgCeH One More Time Korn Untouchables\n"
     ]
    },
    {
     "name": "stdout",
     "output_type": "stream",
     "text": [
      "468 /1755 : 43NFMbNBTnIFDV0BKy9Sdz Thoughtless Korn Untouchables\n",
      "469 /1755 : 1HKEhWWqyNnxmpYpGoSjhL Wake Up Hate Korn Untouchables\n",
      "470 /1755 : 0keNORyUWidCWh1I0gli6D A Quick Break Kristofer Maddigan Cuphead (Original Soundtrack)\n",
      "471 /1755 : 6xjSxW2xKQX60VQEuV5ce0 Admission to Perdition Kristofer Maddigan Cuphead (Original Soundtrack)\n"
     ]
    },
    {
     "name": "stdout",
     "output_type": "stream",
     "text": [
      "472 /1755 : 0lR96n5ReVvMnSpeymAHIh All Bets Are Off Kristofer Maddigan Cuphead (Original Soundtrack)\n",
      "473 /1755 : 4fxY3i5FNyP3LUzixUS7CD Aviary Action Kristofer Maddigan Cuphead (Original Soundtrack)\n",
      "474 /1755 : 0YBHCNZipJmhgykFFInajM Botanic Panic Kristofer Maddigan Cuphead (Original Soundtrack)\n",
      "475 /1755 : 5AMlkhfcb7TEVghsY4ymdD Carnival Kerfuffle Kristofer Maddigan Cuphead (Original Soundtrack)\n"
     ]
    },
    {
     "name": "stdout",
     "output_type": "stream",
     "text": [
      "476 /1755 : 4HSbWc9sk1fi7CbCxjYvda Chief Evil Officer Kristofer Maddigan Cuphead (Original Soundtrack)\n",
      "477 /1755 : 7uVpjihhrP2plvxnSzP6JY Clip Joint Calamity Kristofer Maddigan Cuphead (Original Soundtrack)\n",
      "478 /1755 : 5MsrxyKk8Pwwij03I8QHDs Closing Credits Kristofer Maddigan Cuphead (Original Soundtrack)\n"
     ]
    },
    {
     "name": "stdout",
     "output_type": "stream",
     "text": [
      "479 /1755 : 3xy2j2CjDQph91gUK71oHz Coin-Op Bop Kristofer Maddigan Cuphead (Original Soundtrack)\n",
      "480 /1755 : 3HpvQ7aZ5338LLRxPjUawN Die House Kristofer Maddigan Cuphead (Original Soundtrack)\n",
      "artist:\"Kristofer Maddigan\" album:\"Cuphead\" track:\"Don't Deal With The Devil (Instrumental)\" not in spotify\n",
      "481 /1755 : 55lscnv23cvuEyaf0xSxed Don't Deal with the Devil (Instrumental) Kristofer Maddigan Cuphead (Original Soundtrack)\n"
     ]
    },
    {
     "name": "stdout",
     "output_type": "stream",
     "text": [
      "482 /1755 : 7Hd76FhngTrK6KK8TNVnFb Dramatic Fanatic Kristofer Maddigan Cuphead (Original Soundtrack)\n",
      "483 /1755 : 6ktFdl272RBi7uk8FTPeuQ Elder Kettle Kristofer Maddigan Cuphead (Original Soundtrack)\n",
      "484 /1755 : 6oNYc9y8DfgEDh4HzPupAS Elder Kettle (Piano) Kristofer Maddigan Cuphead (Original Soundtrack)\n",
      "485 /1755 : 02h2lqTc872LnYQ7TOFMmF Fiery Frolic Kristofer Maddigan Cuphead (Original Soundtrack)\n"
     ]
    },
    {
     "name": "stdout",
     "output_type": "stream",
     "text": [
      "486 /1755 : 3zD0YE28NZ9qTHvfVl6imU Floral Fury Kristofer Maddigan Cuphead (Original Soundtrack)\n",
      "487 /1755 : 70THn7YYfyk1U4zozH3bUy Forest Follies Kristofer Maddigan Cuphead (Original Soundtrack)\n",
      "488 /1755 : 7sJxeev8KjB8HXjA4pxy3E Funfair Fever Kristofer Maddigan Cuphead (Original Soundtrack)\n",
      "489 /1755 : 18glzC2ulLjpZAGRMt4eoA Funhouse Frazzle Kristofer Maddigan Cuphead (Original Soundtrack)\n"
     ]
    },
    {
     "name": "stdout",
     "output_type": "stream",
     "text": [
      "490 /1755 : 33bdiZAAiUu9MkwELMztV2 High Score Kristofer Maddigan Cuphead (Original Soundtrack)\n",
      "491 /1755 : 7MOLuGHl3msefPDQF8MeKG High Seas Hi-Jinx Kristofer Maddigan Cuphead (Original Soundtrack)\n",
      "492 /1755 : 0nKZsdHAqChEd0jwynrfoW Honeycomb Herald Kristofer Maddigan Cuphead (Original Soundtrack)\n",
      "493 /1755 : 2AvPs6sbcDQQgXhRgmUufp Hurry Up Kristofer Maddigan Cuphead (Original Soundtrack)\n"
     ]
    },
    {
     "name": "stdout",
     "output_type": "stream",
     "text": [
      "494 /1755 : 4IIhfvn5exIXltV9sznYtR Inkwell Hell Kristofer Maddigan Cuphead (Original Soundtrack)\n",
      "495 /1755 : 0wdquw14LO4V24Oi5Fildy Inkwell Hell (Piano) Kristofer Maddigan Cuphead (Original Soundtrack)\n",
      "496 /1755 : 6UehmCQPTPaZk5R0VXQ5eE Inkwell Isle One Kristofer Maddigan Cuphead (Original Soundtrack)\n"
     ]
    },
    {
     "name": "stdout",
     "output_type": "stream",
     "text": [
      "497 /1755 : 4mSI8DMnuj3JKXJwhaN9DM Inkwell Isle One (Piano) Kristofer Maddigan Cuphead (Original Soundtrack)\n",
      "498 /1755 : 7MToKxeepujquHIVLya6jt Inkwell Isle Three Kristofer Maddigan Cuphead (Original Soundtrack)\n",
      "499 /1755 : 6JLAE1sWylNmvJU7283CGE Inkwell Isle Three (Piano) Kristofer Maddigan Cuphead (Original Soundtrack)\n",
      "500 /1755 : 2ZWRAljvtZIirVQWvcBGkD Inkwell Isle Two Kristofer Maddigan Cuphead (Original Soundtrack)\n"
     ]
    },
    {
     "name": "stdout",
     "output_type": "stream",
     "text": [
      "501 /1755 : 7IcqrOolPAgqxcK55hvqZk Inkwell Isle Two (Piano) Kristofer Maddigan Cuphead (Original Soundtrack)\n",
      "502 /1755 : 2ufr0Gs4OWL1Uo22EsJDSx Introduction Kristofer Maddigan Cuphead (Original Soundtrack)\n",
      "503 /1755 : 3LbC5JsZ1Sa4HGfhMFSS3o Junkyard Jive Kristofer Maddigan Cuphead (Original Soundtrack)\n",
      "504 /1755 : 4TvuAd18ViTQJ19QAbezDT Legendary Ghost Kristofer Maddigan Cuphead (Original Soundtrack)\n"
     ]
    },
    {
     "name": "stdout",
     "output_type": "stream",
     "text": [
      "505 /1755 : 0HBseo5ADohKTaH6JK3rn1 Murine Corps Kristofer Maddigan Cuphead (Original Soundtrack)\n",
      "506 /1755 : 20KOgZJtB7XOButnyAsLQR Ominous Interlude Kristofer Maddigan Cuphead (Original Soundtrack)\n",
      "507 /1755 : 2PMX8sBBrT0q7B4sQkBR7a One Hell of a Time Kristofer Maddigan Cuphead (Original Soundtrack)\n",
      "artist:\"Kristofer Maddigan\" album:\"Cuphead\" track:\"Perilious Piers\" not in spotify\n"
     ]
    },
    {
     "name": "stdout",
     "output_type": "stream",
     "text": [
      "artist:\"Kristofer Maddigan\" album:\"Cuphead\" track:\"Perilious Piers\" not in spotify\n",
      "509 /1755 : 5vUWXPgS8kCAOP4tZ0o6vI Porkrind's Shop Kristofer Maddigan Cuphead (Original Soundtrack)\n",
      "510 /1755 : 0MX6VvRcqrvJXRLzfZUOmk Pyramid Peril Kristofer Maddigan Cuphead (Original Soundtrack)\n",
      "511 /1755 : 0v3uNqdn2dHuSCQLFperyZ Railroad Wrath Kristofer Maddigan Cuphead (Original Soundtrack)\n"
     ]
    },
    {
     "name": "stdout",
     "output_type": "stream",
     "text": [
      "512 /1755 : 7yHJxwR8NEZZzjcTdPWq5e Rugged Ridge Kristofer Maddigan Cuphead (Original Soundtrack)\n",
      "513 /1755 : 0dvxG9bYKI4ZUCYwcF3c5N Ruse of an Ooze Kristofer Maddigan Cuphead (Original Soundtrack)\n",
      "514 /1755 : 4w4qrHEm4Olj1K070PKgvZ Shootin' 'n' Lootin' Kristofer Maddigan Cuphead (Original Soundtrack)\n",
      "515 /1755 : 7eVPSl96DJOMSc9rIBn6ft Sugarland Shimmy Kristofer Maddigan Cuphead (Original Soundtrack)\n"
     ]
    },
    {
     "name": "stdout",
     "output_type": "stream",
     "text": [
      "516 /1755 : 3Mk62kPEDmcXpEvAM8ng72 The Airship Kristofer Maddigan Cuphead (Original Soundtrack)\n",
      "517 /1755 : 6i6cXgQLeEH40MwUnaIxSJ The End Kristofer Maddigan Cuphead (Original Soundtrack)\n",
      "518 /1755 : 3Q1ihQlFp9V9VDYxlWb25u The King's Court Kristofer Maddigan Cuphead (Original Soundtrack)\n",
      "519 /1755 : 1MpjMyBxY45fY5mUaqrdxj The Mausoleum Kristofer Maddigan Cuphead (Original Soundtrack)\n"
     ]
    },
    {
     "name": "stdout",
     "output_type": "stream",
     "text": [
      "520 /1755 : 3cShnBQsJ2zLR6iya0V3z1 Threatenin' Zeppelin Kristofer Maddigan Cuphead (Original Soundtrack)\n",
      "521 /1755 : 7D4cP3Hn1VepH9ZpcP0t8R Treetop Trouble Kristofer Maddigan Cuphead (Original Soundtrack)\n",
      "522 /1755 : 3b283GyxalGqsqCqLNw8xR Tutorial Kristofer Maddigan Cuphead (Original Soundtrack)\n",
      "523 /1755 : 4ZaUqU13ynXcIkfoznfU3n Victory Tune Kristofer Maddigan Cuphead (Original Soundtrack)\n"
     ]
    },
    {
     "name": "stdout",
     "output_type": "stream",
     "text": [
      "524 /1755 : 4JdlT1FxsyGCKqaWxcSEfI Winner Takes All Kristofer Maddigan Cuphead (Original Soundtrack)\n",
      "525 /1755 : 3frUvGrmGcay91lvFbOgsN Like It Is Kygo Like It Is\n",
      "artist:\"La P'tite Fumée\" track:\"Thunderbreizh\" not in spotify\n"
     ]
    },
    {
     "name": "stdout",
     "output_type": "stream",
     "text": [
      "526 /1755 : 715bpdFomgaPE1PgnLCf5f Thunderbreizh La P'tite Fumée Thunderbird\n",
      "527 /1755 : 2uWYOq36wrjC3UstoI1lRV Stupid Love - Vitaclub Warehouse Mix Lady Gaga Stupid Love (Vitaclub Warehouse Mix)\n",
      "artist:\"Lalo Schifrin\" album:\"Steal Away\" track:\"Serenata\" not in spotify\n",
      "artist:\"Lalo Schifrin\" album:\"Steal Away\" track:\"Serenata\" not in spotify\n"
     ]
    },
    {
     "name": "stdout",
     "output_type": "stream",
     "text": [
      "529 /1755 : 1WWq2DUV0UbO4XJda2usuv 512 Lamb of God VII: Sturm und Drang\n",
      "530 /1755 : 2fQ2iALVbAZ7MkH6PaaIJ6 No Quarter - 1990 Remaster Led Zeppelin Houses of the Holy (1994 Remaster)\n",
      "531 /1755 : 62p6fF2r4NY6pwZbxxvmr8 Fool in the Rain - 1990 Remaster Led Zeppelin In Through the out Door (1994 Remaster)\n"
     ]
    },
    {
     "name": "stdout",
     "output_type": "stream",
     "text": [
      "532 /1755 : 1rxD34LAtkafrMUHqHIV76 Bring It on Home - 2012 Remaster Led Zeppelin Led Zeppelin II (Remaster)\n",
      "533 /1755 : 6WE7jSshLCuVKoCmobVKVf Heartbreaker - 1990 Remaster Led Zeppelin Led Zeppelin II (1994 Remaster)\n",
      "534 /1755 : 49C6EGQhCUSgyADHYvJ7ez Living Loving Maid (She's Just a Woman) - 2012 Remaster Led Zeppelin Led Zeppelin II (Remaster)\n"
     ]
    },
    {
     "name": "stdout",
     "output_type": "stream",
     "text": [
      "535 /1755 : 0h2gzJQBt6duqZD6kWiz4s Moby Dick Led Zeppelin Led Zeppelin II (1994 Remaster)\n",
      "536 /1755 : 3MODES4TNtygekLl146Dxd Ramble On - 1990 Remaster Led Zeppelin Led Zeppelin II (1994 Remaster)\n",
      "537 /1755 : 4ZkhFcoS3apzze9w2yI9NO Thank You - 1990 Remaster Led Zeppelin Led Zeppelin II (1994 Remaster)\n"
     ]
    },
    {
     "name": "stdout",
     "output_type": "stream",
     "text": [
      "538 /1755 : 5qbVkwfy0RYGFA6hAiIL90 The Lemon Song - 1993 Remaster Led Zeppelin Led Zeppelin II (1994 Remaster)\n",
      "539 /1755 : 5G7uLHtoEW140QOcBpJlfz What Is and What Should Never Be - 1990 Remaster Led Zeppelin Led Zeppelin II (1994 Remaster)\n",
      "540 /1755 : 0hCB0YR03f6AmQaHbwWDe8 Whole Lotta Love - 1990 Remaster Led Zeppelin Led Zeppelin II (1994 Remaster)\n"
     ]
    },
    {
     "name": "stdout",
     "output_type": "stream",
     "text": [
      "541 /1755 : 78MXICbE7bD4cuPKFh1EFO Celebration Day - 2012 Remaster Led Zeppelin Led Zeppelin III (Remaster)\n",
      "542 /1755 : 4PRGxHpCpF2yoOHYKQIEwD Rock and Roll - 2012 Remaster Led Zeppelin Led Zeppelin IV (Deluxe Edition; Remaster)\n",
      "543 /1755 : 5tRb0Y2bloJGI8uskuAtRL Bonneville Leprous Malina\n"
     ]
    },
    {
     "name": "stdout",
     "output_type": "stream",
     "text": [
      "544 /1755 : 5Yd4WNmT89T5wsafIMRjfA Captive Leprous Malina\n",
      "545 /1755 : 3DsQZKycCle3aiZf6Tax3P Coma Leprous Malina\n",
      "546 /1755 : 1tBxs9BqNlBXbIxVaCBrv5 From the Flame Leprous Malina\n",
      "547 /1755 : 2N3vUnZi5Nj54ELyI8wAJ7 Illuminate Leprous Malina\n"
     ]
    },
    {
     "name": "stdout",
     "output_type": "stream",
     "text": [
      "548 /1755 : 43UDvLX76YlPWlXnMnzIUJ Leashes Leprous Malina\n",
      "549 /1755 : 46KeFeHERSkT34TbIZsWRy Malina Leprous Malina\n",
      "550 /1755 : 2v5frKIhRuyDA9lgaaesR6 Mirage Leprous Malina\n",
      "551 /1755 : 74vy9v25MuoqNVBdAjGwJC Stuck Leprous Malina\n"
     ]
    },
    {
     "name": "stdout",
     "output_type": "stream",
     "text": [
      "552 /1755 : 2BeVytGUGVlT1vxFo0AowH The Last Milestone Leprous Malina\n",
      "553 /1755 : 35OyuK76YVYWrokOGBA1Ln The Weight of Disaster Leprous Malina\n",
      "554 /1755 : 0mdiu7UpUOr5Non3kZt4uO Down Leprous The Congregation\n",
      "555 /1755 : 3IJVVQUPhLMlrr1cQu2u3B Lower Leprous The Congregation\n"
     ]
    },
    {
     "name": "stdout",
     "output_type": "stream",
     "text": [
      "556 /1755 : 2phdVu3rv0cAslwuG9Xydn Moon Leprous The Congregation\n",
      "artist:\"Leprous\" album:\"The Congregation\" track:\"Pixel\" not in spotify\n",
      "artist:\"Leprous\" album:\"The Congregation\" track:\"Pixel\" not in spotify\n"
     ]
    },
    {
     "name": "stdout",
     "output_type": "stream",
     "text": [
      "558 /1755 : 1Cd0PU3AYHdd4tKGGmkIHx Red Leprous The Congregation\n",
      "559 /1755 : 12NwYmQT1Mm7gkrCjIuq0d Rewind Leprous The Congregation\n",
      "560 /1755 : 6RYWCMf5LvlUlgyYPTtplQ Slave Leprous The Congregation\n",
      "561 /1755 : 3ta3S0R3EZYW0pTcopZP5P The Flood Leprous The Congregation\n"
     ]
    },
    {
     "name": "stdout",
     "output_type": "stream",
     "text": [
      "562 /1755 : 134I0qT6UrkDjhbI6bx0x3 The Price Leprous The Congregation\n",
      "563 /1755 : 77fpiSyauWmfvdQy2y02Bu Third Law Leprous The Congregation\n",
      "564 /1755 : 44KzUMe9Kn2xVxD5v7jisb Triumphant Leprous The Congregation\n",
      "565 /1755 : 2HA08a69UHthb1g8JMqkn3 Within My Fence Leprous The Congregation\n"
     ]
    },
    {
     "name": "stdout",
     "output_type": "stream",
     "text": [
      "566 /1755 : 60a0Rd6pjrkxjPbaKzXjfq In the End Linkin Park Hybrid Theory (Bonus Edition)\n",
      "567 /1755 : 2nLtzopw4rPReszdYBJU6h Numb Linkin Park Meteora\n",
      "artist:\"Lipps Inc.\" album:\"Mouth to Mouth\" track:\"Funkytown\" not in spotify\n",
      "artist:\"Lipps Inc.\" album:\"Mouth to Mouth\" track:\"Funkytown\" not in spotify\n"
     ]
    },
    {
     "name": "stdout",
     "output_type": "stream",
     "text": [
      "569 /1755 : 0FVbbb6EDyCckexuU1QRD4 Undecided Ludivine Issambourg Outlaws\n"
     ]
    },
    {
     "name": "stdout",
     "output_type": "stream",
     "text": [
      "570 /1755 : 4gIyQ374qO8nTttl6AuOeR Arnold Luke Million Arnold / Sun Splash\n",
      "artist:\"Luke Million\" track:\"Ice Ice Arnie (Cool Party)\" not in spotify\n",
      "artist:\"Luke Million\" track:\"Ice Ice Arnie (Cool Party)\" not in spotify\n",
      "572 /1755 : 7e89621JPkKaeDSTQ3avtg Sweet Home Alabama Lynyrd Skynyrd Second Helping\n"
     ]
    },
    {
     "name": "stdout",
     "output_type": "stream",
     "text": [
      "573 /1755 : 5U4ByJt0IvLu3bpF2DdDQT A Farewell to Arms Machine Head The Blackening\n",
      "574 /1755 : 2dy8eXtNCrLcpT006adx5g Aesthetics of Hate Machine Head The Blackening\n",
      "575 /1755 : 5Cs6AftcanvD6Ib7YJ1otT Beautiful Mourning Machine Head The Blackening\n",
      "576 /1755 : 7ao9MKmhkjeFxw0alndkdM Clenching the Fists of Dissent Machine Head The Blackening\n"
     ]
    },
    {
     "name": "stdout",
     "output_type": "stream",
     "text": [
      "577 /1755 : 5nksa8EqKHSWO9WBj6DnmS Halo Machine Head The Blackening\n",
      "578 /1755 : 65GqoNsz3q6GMW9AXjv8mz Now I Lay Thee Down Machine Head The Blackening\n",
      "579 /1755 : 4tH51l243jr1ZIrdHgXlQm Slanderous Machine Head The Blackening\n",
      "580 /1755 : 07xghD8AXeVlCHfnD18HM0 Wolves Machine Head The Blackening\n"
     ]
    },
    {
     "name": "stdout",
     "output_type": "stream",
     "text": [
      "artist:\"Mahito Yokota\" album:\"Super Mario Galaxy\" track:\"Gusty Gardens\" not in spotify\n",
      "artist:\"Mahito Yokota\" album:\"Super Mario Galaxy\" track:\"Gusty Gardens\" not in spotify\n",
      "582 /1755 : 2vruJV9zbgg0CE1x14vVFW Reste Maître Gims Ceinture noire (Transcendance)\n",
      "583 /1755 : 6Coa0F6vD2l3JBYK7cmY2X I Can’t Breathe Marcus Miller Afrodeezia\n"
     ]
    },
    {
     "name": "stdout",
     "output_type": "stream",
     "text": [
      "584 /1755 : 62ubbkWAhTOftwgRjHS1UH All Night Long Mary Jane Girls Mary Jane Girls\n",
      "585 /1755 : 2HuMQkNVpFIsur2cRWWQmX Exchange Massive Attack Mezzanine\n",
      "586 /1755 : 7uv632EkfwYhXoqf8rhYrg Angel Massive Attack Mezzanine\n",
      "587 /1755 : 1Rezzt36ybaT2ZbDZpv83D Black Milk Massive Attack Mezzanine\n"
     ]
    },
    {
     "name": "stdout",
     "output_type": "stream",
     "text": [
      "588 /1755 : 0oeEqyEAavgPfFxDYvjAP6 Dissolved Girl Massive Attack Mezzanine\n",
      "589 /1755 : 2HuMQkNVpFIsur2cRWWQmX Exchange Massive Attack Mezzanine\n",
      "590 /1755 : 0pWrU4My52DJ75GnZKDlv8 Group Four Massive Attack Mezzanine\n"
     ]
    },
    {
     "name": "stdout",
     "output_type": "stream",
     "text": [
      "591 /1755 : 3N2UhXZI4Gf64Ku3cCjz2g Inertia Creeps Massive Attack Mezzanine\n",
      "592 /1755 : 2Tz5THgkMOQeaW6DlqAlIa Man Next Door Massive Attack Mezzanine\n",
      "593 /1755 : 4IfHYniNBoAATWV6iLEXRs Mezzanine Massive Attack Mezzanine\n",
      "594 /1755 : 6ggJ6MceyHGWtUg1KLp3M1 Risingson Massive Attack Mezzanine\n"
     ]
    },
    {
     "name": "stdout",
     "output_type": "stream",
     "text": [
      "595 /1755 : 67Hna13dNDkZvBpTXRIaOJ Teardrop Massive Attack Mezzanine\n",
      "596 /1755 : 4nwwFLQqopxAL0g2L0Fg0B Crack the Skye Mastodon Crack the Skye\n"
     ]
    },
    {
     "name": "stdout",
     "output_type": "stream",
     "text": [
      "597 /1755 : 6HZ8zBamcVKjO46vsLj9vh Divinations Mastodon Crack the Skye\n",
      "598 /1755 : 2VzyWKHUmuxUq7J7I8wbng Ghost of Karelia Mastodon Crack the Skye\n",
      "599 /1755 : 4Ynr1SPCeUI0W0YPeSFSIK Oblivion Mastodon Crack the Skye\n"
     ]
    },
    {
     "name": "stdout",
     "output_type": "stream",
     "text": [
      "600 /1755 : 7n2K9HW8OhwFpWEdzeYu79 Quintessence Mastodon Crack the Skye\n",
      "601 /1755 : 2LMjQnKH7sQzOD0l8q6eWz The Czar: Usurper / Escape / Martyr / Spiral Mastodon Crack the Skye\n",
      "602 /1755 : 6MUc3qu8WOqO7hAY6gdhJY The Last Baron Mastodon Crack the Skye\n"
     ]
    },
    {
     "name": "stdout",
     "output_type": "stream",
     "text": [
      "603 /1755 : 0k8CNAD5ADcMCOdTOMxUHk Ancient Kingdom Mastodon Emperor of Sand\n",
      "604 /1755 : 6asbKxqMe9pxI3rxax74Yr Andromeda Mastodon Emperor of Sand\n",
      "605 /1755 : 6ZWzCxc7bBSPYZPem17HbW Clandestiny Mastodon Emperor of Sand\n",
      "606 /1755 : 7lGOFEVWK0jzpLMFuR4ANh Jaguar God Mastodon Emperor of Sand\n"
     ]
    },
    {
     "name": "stdout",
     "output_type": "stream",
     "text": [
      "607 /1755 : 4GPne3vf5okCDszbmeCUZz Precious Stones Mastodon Emperor of Sand\n",
      "608 /1755 : 5llEJFL6NzKYgMTEb68XtL Roots Remain Mastodon Emperor of Sand\n",
      "609 /1755 : 36dvfTxi43vTmGQOAnxsi5 Scorpion Breath Mastodon Emperor of Sand\n",
      "610 /1755 : 1dfHpGeaXunLRNvzSZOZtc Show Yourself Mastodon Emperor of Sand\n"
     ]
    },
    {
     "name": "stdout",
     "output_type": "stream",
     "text": [
      "611 /1755 : 4Ut80ggQbyiJN2pGCs7VfB Steambreather Mastodon Emperor of Sand\n",
      "612 /1755 : 4X5g2t99BTuLQIRdjGw1Fn Sultan's Curse Mastodon Emperor of Sand\n",
      "613 /1755 : 2aYtAI8xvZLUTZPYZMC6ad Word to the Wise Mastodon Emperor of Sand\n",
      "614 /1755 : 53cErbouOYnogzx9s3SqE2 All the Heavy Lifting Mastodon The Hunter\n"
     ]
    },
    {
     "name": "stdout",
     "output_type": "stream",
     "text": [
      "615 /1755 : 53pXJYRPcZG4DZxqJZmXTm Bedazzled Fingernails Mastodon The Hunter\n",
      "616 /1755 : 0KdjtHI5Acg6SMoomxQaCb Black Tongue Mastodon The Hunter\n",
      "617 /1755 : 2NkR1oSWfqfopqj6S3hOsu Blasteroid Mastodon The Hunter\n",
      "618 /1755 : 3pke4nikd8PcQUZHyilUGb Creature Lives Mastodon The Hunter\n"
     ]
    },
    {
     "name": "stdout",
     "output_type": "stream",
     "text": [
      "619 /1755 : 3Uc1CPfIuy8jQs5CntJeTd Curl of the Burl Mastodon The Hunter\n",
      "620 /1755 : 3ozDffAKu3Y6aahqAUZr83 Dry Bone Valley Mastodon The Hunter\n",
      "621 /1755 : 2ney6xZreFub9dHkI4vnIb Octopus Has No Friends Mastodon The Hunter\n",
      "622 /1755 : 1MTuSPR63Sm149T8vgE8xF Spectrelight Mastodon The Hunter\n"
     ]
    },
    {
     "name": "stdout",
     "output_type": "stream",
     "text": [
      "623 /1755 : 5QMcwznMFieF1zUUElE5TR Stargasm Mastodon The Hunter\n",
      "624 /1755 : 1LCkCkRfvuHMkWaAdXggkP The Hunter Mastodon The Hunter\n",
      "625 /1755 : 68LvFcDLqo1cejJi9oVVOV The Sparrow Mastodon The Hunter (Deluxe)\n",
      "626 /1755 : 6FIaHmTtFxLxP7OYwVTTNe Thickening Mastodon The Hunter\n"
     ]
    },
    {
     "name": "stdout",
     "output_type": "stream",
     "text": [
      "627 /1755 : 6EmOoRAay8RoEeQ7eNrJXJ Boléro, M. 81 Maurice Ravel Ravel : Concerto pour la main gauche, Boléro, Ma mère l'Oye, Le Tombeau de Couperin\n",
      "artist:\"MC Hammer\" album:\"Please Hammer Don't Hurt 'Em\" track:\"U Can't Touch This\" not in spotify\n",
      "628 /1755 : 1B75hgRqe7A4fwee3g3Wmu U Can't Touch This MC Hammer Please Hammer Don't Hurt 'Em\n",
      "629 /1755 : 3mCeeoBvTTpg8Xy2Wuvirw Bat Out of Hell Meat Loaf Bat Out Of Hell\n"
     ]
    },
    {
     "name": "stdout",
     "output_type": "stream",
     "text": [
      "630 /1755 : 1BbocHcTYAu0wCS4NqgRsI Architecture Of Aggression Megadeth Countdown To Extinction\n",
      "631 /1755 : 2Fkgr7LZTAjakkceB7PwN5 Ashes In Your Mouth - Remastered Megadeth Countdown To Extinction\n",
      "632 /1755 : 3hUTwUiS7H79Po2hnErd8H Captive Honour Megadeth Countdown To Extinction\n",
      "633 /1755 : 1Mt6BsusgJJln2FMyGFLg1 Countdown To Extinction Megadeth Countdown To Extinction\n"
     ]
    },
    {
     "name": "stdout",
     "output_type": "stream",
     "text": [
      "634 /1755 : 4goJhfQRbNfYybpYf9xmbL Foreclosure Of A Dream - Remastered Megadeth Countdown To Extinction\n",
      "635 /1755 : 0rzFlOXHVVmL8CvXPL0Fb3 High Speed Dirt Megadeth Countdown To Extinction\n",
      "636 /1755 : 6HyVffzF6uXt9NHMgEkQpJ Psychotron Megadeth Countdown To Extinction\n"
     ]
    },
    {
     "name": "stdout",
     "output_type": "stream",
     "text": [
      "637 /1755 : 7EFho37SrizYaQ2NVxLejd Skin O' My Teeth - Remastered Megadeth Countdown To Extinction\n",
      "638 /1755 : 6i7IXg8j7ZngiEOgBYjkhw Sweating Bullets - Remastered 2004 Megadeth Countdown To Extinction\n",
      "639 /1755 : 51TG9W3y9qyO8BY5RXKgnZ Symphony Of Destruction Megadeth Countdown To Extinction\n",
      "640 /1755 : 0Ad43GBuMZqdInDrwp2HHL This Was My Life Megadeth Countdown To Extinction\n"
     ]
    },
    {
     "name": "stdout",
     "output_type": "stream",
     "text": [
      "641 /1755 : 1IbxJ3jbvSLmaecRamvtui Bad Omen - Remastered Megadeth Peace Sells...But Who's Buying?\n",
      "642 /1755 : 009aJqwtazpcpmOW3YbwDx Devils Island - Remastered Megadeth Peace Sells...But Who's Buying?\n",
      "643 /1755 : 36gQBgUJjbRbrMTyQUNl56 Good Mourning / Black Friday - Remastered Megadeth Peace Sells...But Who's Buying?\n",
      "artist:\"Megadeth\" album:\"Peace Sells... But Who's Buying\" track:\"I Ain't Superstitious\" not in spotify\n"
     ]
    },
    {
     "name": "stdout",
     "output_type": "stream",
     "text": [
      "644 /1755 : 43gM0PIvpgqv19nFZWRlN3 I Ain't Superstitious - Remastered Megadeth Peace Sells...But Who's Buying?\n",
      "645 /1755 : 6VdoivAOy8oRR6Pmpw4Ux4 My Last Words - Remastered Megadeth Peace Sells...But Who's Buying?\n",
      "646 /1755 : 5a2hIQWInPjqkkFiUEgxoX Peace Sells - Remastered Megadeth Peace Sells...But Who's Buying (25th Anniversary)\n"
     ]
    },
    {
     "name": "stdout",
     "output_type": "stream",
     "text": [
      "647 /1755 : 0pv49erP5wxMZMnprRCqXT The Conjuring - Remastered Megadeth Peace Sells...But Who's Buying?\n",
      "648 /1755 : 1I3qfFMraXE0kAPtRERpok Wake Up Dead - Remastered Megadeth Peace Sells...But Who's Buying?\n",
      "649 /1755 : 4NwFxag85AYdCel47a3Yhi Dawn Patrol - Remastered 2004 Megadeth Rust In Peace\n"
     ]
    },
    {
     "name": "stdout",
     "output_type": "stream",
     "text": [
      "650 /1755 : 3tISv448Ikxvpq2ZrFyGG2 Five Magics - Remastered 2004 Megadeth Rust In Peace\n",
      "651 /1755 : 6b6uLZsoGhObYexIxnRbIb Hangar 18 - Remastered 2004 Megadeth Rust In Peace\n",
      "652 /1755 : 5LyRtsQLhcXmy50VXhQXXS Holy Wars...The Punishment Due - Remastered 2004 Megadeth Rust In Peace\n",
      "653 /1755 : 1Bi6Me45Xiqy4kYUGGwBTv Lucretia - Remastered 2004 Megadeth Rust In Peace\n"
     ]
    },
    {
     "name": "stdout",
     "output_type": "stream",
     "text": [
      "654 /1755 : 6bz32FHJGzO5SFYDnLBmG7 My Creation - Remastered 2004 Megadeth Rust In Peace\n",
      "655 /1755 : 6HqnBoikcyjy7I1kbrfhlr Poison Was The Cure - Remastered 2004 Megadeth Rust In Peace\n",
      "656 /1755 : 0803SWqmIJGvZ15B8zsewn Rust In Peace...Polaris - Remastered 2004 Megadeth Rust In Peace\n"
     ]
    },
    {
     "name": "stdout",
     "output_type": "stream",
     "text": [
      "657 /1755 : 1XFSSbQ9fApWNXZMAKllb6 Take No Prisoners - Remastered 2004 Megadeth Rust In Peace\n",
      "658 /1755 : 4E5xVW505akJX0wcKj8Mpd Tornado Of Souls - Remastered 2004 Megadeth Rust In Peace\n",
      "659 /1755 : 0eXz8pS25MoeUguNPR9VvD ...And Justice For All Metallica ...And Justice For All\n"
     ]
    },
    {
     "name": "stdout",
     "output_type": "stream",
     "text": [
      "660 /1755 : 0Tp7uSZK21LZTbZRBNb9ud Blackened Metallica ...And Justice For All\n",
      "661 /1755 : 2517AuTvR5dMxc7IKG1ThD Dyers Eve Metallica ...And Justice For All\n",
      "662 /1755 : 7p2yIOf8YXJUSmUnG3TAWr Eye Of The Beholder Metallica ...And Justice For All\n"
     ]
    },
    {
     "name": "stdout",
     "output_type": "stream",
     "text": [
      "663 /1755 : 1V3wAgMB4ESaN4rStlrUNz Harvester Of Sorrow Metallica ...And Justice For All\n",
      "664 /1755 : 5IX4TbIR5mMHGE4wiWwKW0 One Metallica ...And Justice For All\n",
      "665 /1755 : 5LnIyDJU1d1dDlsbhZq60l The Frayed Ends Of Sanity Metallica ...And Justice For All\n"
     ]
    },
    {
     "name": "stdout",
     "output_type": "stream",
     "text": [
      "666 /1755 : 2Aqz0jTeEsS6DZbQYqHRGh The Shortest Straw Metallica ...And Justice For All\n",
      "667 /1755 : 6jv5Og00Okb2IMEHuzNTkV To Live Is To Die Metallica ...And Justice For All\n",
      "artist:\"Metallica\" album:\"Metallica\" track:\"Don't tread on me\" not in spotify\n",
      "668 /1755 : 2b7r6fN91KiHnp00aqHZ7x Don't Tread On Me Metallica Metallica\n"
     ]
    },
    {
     "name": "stdout",
     "output_type": "stream",
     "text": [
      "669 /1755 : 5sICkBXVmaCQk5aISGR3x1 Enter Sandman Metallica Metallica\n",
      "670 /1755 : 5YMJoplBWvIa2LHUPoGqb5 Holier Than Thou Metallica Metallica\n",
      "671 /1755 : 0R9GrbRcpBRdwDlVPj2wEQ My Friend Of Misery Metallica Metallica\n",
      "672 /1755 : 0nLiqZ6A27jJri2VCalIUs Nothing Else Matters Metallica Metallica\n"
     ]
    },
    {
     "name": "stdout",
     "output_type": "stream",
     "text": [
      "673 /1755 : 2J8jdenoxkPXs44G9xcncc Of Wolf And Man Metallica Metallica\n",
      "674 /1755 : 1PhLYngBKbeDtdmDzCg3Pb Sad But True Metallica Metallica\n",
      "675 /1755 : 7tyc1pcOE4FOVIQTBzvxeF The God That Failed Metallica Metallica\n"
     ]
    },
    {
     "name": "stdout",
     "output_type": "stream",
     "text": [
      "676 /1755 : 4R4uSnvRFeVdLQcX2zj8aU The Struggle Within Metallica Metallica\n",
      "677 /1755 : 4aYLAF6ckQ5ooGGGM7sWAa The Unforgiven Metallica Metallica\n",
      "678 /1755 : 2VAQuXC01B2eJAEnkjIj7z Through The Never Metallica Metallica\n",
      "679 /1755 : 22GbAGb80ZZNgm2yrBMnpR Wherever I May Roam Metallica Metallica\n"
     ]
    },
    {
     "name": "stdout",
     "output_type": "stream",
     "text": [
      "680 /1755 : 1Gn1FeIYUMZ2a7PrbaaQhl Creeping Death - Creeping Death EP Version / Remastered Metallica Ride The Lightning (Deluxe / Remastered)\n",
      "681 /1755 : 4ERK3MXPXLWxy0UazrDKup Escape - Remastered Metallica Ride The Lightning (Deluxe / Remastered)\n",
      "682 /1755 : 5nekfiTN45vlxG0eNJQQye Fade To Black - Remastered Metallica Ride The Lightning (Deluxe / Remastered)\n",
      "683 /1755 : 6ckozbGmOusAnLT2LEbERy Fight Fire With Fire - Remastered Metallica Ride The Lightning (Remastered)\n"
     ]
    },
    {
     "name": "stdout",
     "output_type": "stream",
     "text": [
      "684 /1755 : 2dXsILW8gzkosqleHAvl0v For Whom The Bell Tolls - Remastered Metallica Ride The Lightning (Remastered)\n",
      "685 /1755 : 2O7UGwJPVlix15Wn4sa5vw Ride The Lightning - Remastered Metallica Ride The Lightning (Deluxe / Remastered)\n",
      "686 /1755 : 4qPgSwPUGigsmx6gUV2dnU The Call Of Ktulu - Remastered Metallica Ride The Lightning (Deluxe / Remastered)\n"
     ]
    },
    {
     "name": "stdout",
     "output_type": "stream",
     "text": [
      "687 /1755 : 3J8jTThxk8GtxyoupHtyrb Trapped Under Ice - Remastered Metallica Ride The Lightning (Remastered)\n",
      "688 /1755 : 3I4tEaOcF0wtl6179DqbZb Devil's Dance - Live Metallica S&M\n",
      "689 /1755 : 1JOkHtzr0DBLFKpccLO5Yq For Whom The Bell Tolls - Live Metallica S&M\n",
      "690 /1755 : 6z8LLgG81xuNzqJO5XjWPP Fuel - Live Metallica S&M\n"
     ]
    },
    {
     "name": "stdout",
     "output_type": "stream",
     "text": [
      "691 /1755 : 4zfEDLbmmI7V9Yt12s0DQH Master Of Puppets - Live Metallica S&M\n",
      "692 /1755 : 2UIuYNBg8r5pkoG2MjdLZT No Leaf Clover - Live Metallica S&M\n",
      "693 /1755 : 3wHjbDGFrHN17FWg4owTkc Of Wolf And Man - Live Metallica S&M\n",
      "694 /1755 : 7vxLun2SVGuJII6DkbyMso The Call Of Ktulu - Live Metallica S&M\n"
     ]
    },
    {
     "name": "stdout",
     "output_type": "stream",
     "text": [
      "695 /1755 : 4lmSiv5xEJJZsO40XtSK1J The Memory Remains - Live Metallica S&M\n",
      "696 /1755 : 4y9IRABVc2TzATl8mTkexk The Thing That Should Not Be - Live Metallica S&M\n",
      "697 /1755 : 21VCYxPZ8A2XpSNUyQCT3B Another Part of Me - 2012 Remaster Michael Jackson Bad 25th Anniversary\n"
     ]
    },
    {
     "name": "stdout",
     "output_type": "stream",
     "text": [
      "698 /1755 : 5lWFrW5T3JtxVCLDb7etPu Bad - 2012 Remaster Michael Jackson Bad 25th Anniversary\n",
      "699 /1755 : 3yBlJtq86wROQpHi1goEKT Dirty Diana - 2012 Remaster Michael Jackson Bad 25th Anniversary\n",
      "artist:\"Michael Jackson\" album:\"Bad\" track:\"I Just Can't Stop Loving You\" not in spotify\n"
     ]
    },
    {
     "name": "stdout",
     "output_type": "stream",
     "text": [
      "700 /1755 : 2fytePz8UsbUr8n33QBEcm I Just Can't Stop Loving You (feat. Siedah Garrett) - 2012 Remaster Michael Jackson Bad 25th Anniversary\n",
      "701 /1755 : 75Rv9SkGILm24kmhAYvjZg Just Good Friends - 2012 Remaster Michael Jackson Bad 25th Anniversary\n",
      "702 /1755 : 2jQfozDpitT8lVEYoOjmeR Leave Me Alone - 2012 Remaster Michael Jackson Bad 25th Anniversary\n"
     ]
    },
    {
     "name": "stdout",
     "output_type": "stream",
     "text": [
      "703 /1755 : 5OoRmdDfAiDztSwrhe7wuE Liberian Girl - 2012 Remastered Version Michael Jackson Bad 25th Anniversary\n",
      "704 /1755 : 1kiNatIrwDusOZfR29W0LJ Man in the Mirror - 2012 Remaster Michael Jackson Bad 25th Anniversary\n",
      "705 /1755 : 2bCQHF9gdG5BNDVuEIEnNk Smooth Criminal - 2012 Remaster Michael Jackson Bad 25th Anniversary\n",
      "706 /1755 : 2w7VEWHtt8WW88Yt5H9ibZ Speed Demon - 2012 Remaster Michael Jackson Bad 25th Anniversary\n"
     ]
    },
    {
     "name": "stdout",
     "output_type": "stream",
     "text": [
      "707 /1755 : 0sKlV58cODrjxGFOyf9IXY The Way You Make Me Feel - 2012 Remaster Michael Jackson Bad 25th Anniversary\n",
      "708 /1755 : 6XYbMGvtl6tlPoGWaiH7EY Baby Be Mine Michael Jackson Thriller\n",
      "709 /1755 : 1OOtq8tRnDM8kG2gqUPjAj Beat It - Single Version Michael Jackson Thriller 25 Super Deluxe Edition\n"
     ]
    },
    {
     "name": "stdout",
     "output_type": "stream",
     "text": [
      "710 /1755 : 5ChkMS8OtdzJeqyybCc9R5 Billie Jean Michael Jackson Thriller 25 Super Deluxe Edition\n",
      "711 /1755 : 35lAjvsvS9k9HHuP1fjDT8 Human Nature Michael Jackson Thriller 25 Super Deluxe Edition\n",
      "712 /1755 : 5lA3pwMkBdd24StM90QrNR P.Y.T. (Pretty Young Thing) Michael Jackson Thriller 25 Super Deluxe Edition\n"
     ]
    },
    {
     "name": "stdout",
     "output_type": "stream",
     "text": [
      "713 /1755 : 1diEQsD8PJC9hXB5Gpfgtn The Girl Is Mine (with Paul McCartney) Michael Jackson Thriller 25 Super Deluxe Edition\n",
      "714 /1755 : 07L1pzoVerhRSSaDGZHrKy The Lady in My Life Michael Jackson Thriller\n",
      "715 /1755 : 3S2R0EVwBSAVMd5UMgKTL0 Thriller Michael Jackson Thriller 25 Super Deluxe Edition\n"
     ]
    },
    {
     "name": "stdout",
     "output_type": "stream",
     "text": [
      "716 /1755 : 2kulOHR2XY6YDZCWXb38hn Wanna Be Startin' Somethin' Michael Jackson Thriller 25 Super Deluxe Edition\n",
      "717 /1755 : 5jJ69cMDMC0aeWPjZo6VP2 Lampshades on Fire Modest Mouse Strangers to Ourselves\n",
      "718 /1755 : 1hqrYSqvNc9x3BETX1cZhk Shout At The Devil Mötley Crüe Shout At The Devil\n",
      "719 /1755 : 6fFmld6h30MwhwwSvoantM Requiem Mass in D Minor, K. 626: 1. Introitus Requiem aeternam Wolfgang Amadeus Mozart Requiem Mass at Organ in D Minor, K. 626\n"
     ]
    },
    {
     "name": "stdout",
     "output_type": "stream",
     "text": [
      "artist:\"Mozart\" album:\"Requiem in D minor K 626\" track:\"2. Kyrie Eleison\" not in spotify\n",
      "artist:\"Mozart\" album:\"Requiem in D minor K 626\" track:\"2. Kyrie Eleison\" not in spotify\n",
      "artist:\"Mozart\" album:\"Requiem in D minor K 626\" track:\"3. Sequenta: Confutatis\" not in spotify\n",
      "artist:\"Mozart\" album:\"Requiem in D minor K 626\" track:\"3. Sequenta: Confutatis\" not in spotify\n"
     ]
    },
    {
     "name": "stdout",
     "output_type": "stream",
     "text": [
      "artist:\"Mozart\" album:\"Requiem in D minor K 626\" track:\"3. Sequenta: Lacrimosa\" not in spotify\n",
      "artist:\"Mozart\" album:\"Requiem in D minor K 626\" track:\"3. Sequenta: Lacrimosa\" not in spotify\n",
      "artist:\"Mozart\" album:\"Requiem in D minor K 626\" track:\"3. Sequenta: Recordare\" not in spotify\n"
     ]
    },
    {
     "name": "stdout",
     "output_type": "stream",
     "text": [
      "artist:\"Mozart\" album:\"Requiem in D minor K 626\" track:\"3. Sequenta: Recordare\" not in spotify\n",
      "artist:\"Mozart\" album:\"Requiem in D minor K 626\" track:\"3. Sequenta: Rex tremendae\" not in spotify\n",
      "artist:\"Mozart\" album:\"Requiem in D minor K 626\" track:\"3. Sequenta: Rex tremendae\" not in spotify\n",
      "artist:\"Mozart\" album:\"Requiem in D minor K 626\" track:\"3. Sequentia: Tubamirum\" not in spotify\n"
     ]
    },
    {
     "name": "stdout",
     "output_type": "stream",
     "text": [
      "artist:\"Mozart\" album:\"Requiem in D minor K 626\" track:\"3. Sequentia: Tubamirum\" not in spotify\n",
      "artist:\"Mozart\" album:\"Requiem in D minor K 626\" track:\"3a. Sequienta: Dies irae\" not in spotify\n",
      "artist:\"Mozart\" album:\"Requiem in D minor K 626\" track:\"3a. Sequienta: Dies irae\" not in spotify\n",
      "727 /1755 : 51G6UbIulTMRh5ftk8uILE Requiem Mass in D Minor, K. 626: 4. Offertorium: Domine Jesu Christe Wolfgang Amadeus Mozart Requiem Mass at Organ in D Minor, K. 626\n"
     ]
    },
    {
     "name": "stdout",
     "output_type": "stream",
     "text": [
      "728 /1755 : 203t1EsfbkcIjdu2QK8cOe Requiem Mass in D Minor, K. 626: 4. Offertorium: Hostias et preces Wolfgang Amadeus Mozart Requiem Mass at Organ in D Minor, K. 626\n",
      "729 /1755 : 0eMrgBFDHxIKQzj9619bWZ Requiem Mass in D Minor, K. 626: 5. Sanctus Wolfgang Amadeus Mozart Requiem Mass at Organ in D Minor, K. 626\n",
      "730 /1755 : 2L0Rzg96KGcqPVVSoBh9Ag Requiem in D Minor, K. 626: VI. Benedictus Wolfgang Amadeus Mozart Mozart: Requiem in D Minor, K. 626\n"
     ]
    },
    {
     "name": "stdout",
     "output_type": "stream",
     "text": [
      "731 /1755 : 0RUTE4mOfNLiZXk49jrDyC Requiem Mass in D Minor, K. 626: 7. Agnus Dei Wolfgang Amadeus Mozart Requiem Mass at Organ in D Minor, K. 626\n",
      "artist:\"Mozart\" album:\"Requiem in D minor K 626\" track:\"8. Communio: Lux aeterna\" not in spotify\n",
      "732 /1755 : 6ga4OJC7jAaupDJDclY9AE Requiem In D Minor, K.626: 8.Communio: Lux aeterna Wolfgang Amadeus Mozart Mozart: Requiem In D Minor K.626\n",
      "733 /1755 : 6JnFVmPyJvjnfBag0hhIFa Assassin Muse Black Holes and Revelations\n"
     ]
    },
    {
     "name": "stdout",
     "output_type": "stream",
     "text": [
      "734 /1755 : 3Sno9FE8r2uz8QP0MtnTPL City of Delusion Muse Black Holes and Revelations\n",
      "735 /1755 : 20vZII9Yu52czI9Fk4p39r Exo-Politics Muse Black Holes and Revelations\n",
      "736 /1755 : 6IfitwQQ1Gu9g9QnLWDHRY Glorious Muse Black Holes and Revelations\n"
     ]
    },
    {
     "name": "stdout",
     "output_type": "stream",
     "text": [
      "737 /1755 : 0EkE0ripJ9OFNzvZANzo5C Hoodoo Muse Black Holes and Revelations\n",
      "738 /1755 : 2zmR3FG7iOGDAdwrVPzdg9 Invincible Muse Black Holes and Revelations\n",
      "739 /1755 : 7ouMYWpwJ422jRcDASZB7P Knights of Cydonia Muse Black Holes and Revelations\n",
      "740 /1755 : 5YXr4AGfUQpLSxtFSsKUh6 Map of the Problematique Muse Black Holes and Revelations\n"
     ]
    },
    {
     "name": "stdout",
     "output_type": "stream",
     "text": [
      "741 /1755 : 6jH5aCuXgtygWpx7BF54at Soldier's Poem Muse Black Holes and Revelations\n",
      "742 /1755 : 3skn2lauGk7Dx6bVIt5DVj Starlight Muse Black Holes and Revelations\n",
      "743 /1755 : 3lPr8ghNDBLc2uZovNyLs9 Supermassive Black Hole Muse Black Holes and Revelations\n",
      "744 /1755 : 4jrCMOG9OPe6iF4vWFxatb Take a Bow Muse Black Holes and Revelations\n"
     ]
    },
    {
     "name": "stdout",
     "output_type": "stream",
     "text": [
      "745 /1755 : 4Y7fEQ4PAzhlLnLviRw2P4 Rockin' in the Free World Neil Young Freedom\n",
      "746 /1755 : 1vGmdXBUWksAsi2NlhMNwR Aeon Neurosis Through Silver In Blood\n",
      "747 /1755 : 1BpIsdibg1tudFkLDPerzQ Become the Ocean Neurosis Through Silver In Blood\n"
     ]
    },
    {
     "name": "stdout",
     "output_type": "stream",
     "text": [
      "748 /1755 : 6LfseiBqkTtyONP8SztCcD Enclosure In Flame Neurosis Through Silver In Blood\n",
      "749 /1755 : 56bAgMY066gE5GoWAqcxcg Eye Neurosis Through Silver In Blood\n",
      "750 /1755 : 1Sb2dgS6ruZnJYNQ3SxLHd Locust Star Neurosis Through Silver In Blood\n",
      "751 /1755 : 7lxlrqS1dCBmdAgXI4cR9P Purify Neurosis Through Silver In Blood\n"
     ]
    },
    {
     "name": "stdout",
     "output_type": "stream",
     "text": [
      "752 /1755 : 5BBfllI8hk4r2GK7bWtCzl Rehumanize Neurosis Through Silver In Blood\n",
      "753 /1755 : 6O3NHOrGfwf7KXM1EsTtHf Strength of Fates Neurosis Through Silver In Blood\n",
      "754 /1755 : 7eyK2gnvdlOwqHv8YH9bK7 Through Silver In Blood Neurosis Through Silver In Blood\n",
      "755 /1755 : 0gmbgwZ8iqyMPmXefof8Yf How You Remind Me Nickelback Silver Side Up\n"
     ]
    },
    {
     "name": "stdout",
     "output_type": "stream",
     "text": [
      "756 /1755 : 4qTS7lHi2MDoxlO3LAwf2l 7 Days to the Wolves Nightwish Dark Passion Play\n",
      "757 /1755 : 1sXdW94CrEIrYdbfON4Sxt Amaranth Nightwish Dark Passion Play\n",
      "758 /1755 : 6uwjUM0Y0NfPmLBKVAbUXW Bye Bye Beautiful Nightwish Dark Passion Play\n",
      "759 /1755 : 7zB8Cw0VENTthNva0K3uzm Cadence of Her Last Breath Nightwish Dark Passion Play\n"
     ]
    },
    {
     "name": "stdout",
     "output_type": "stream",
     "text": [
      "760 /1755 : 2HvpDl7hp6JLH4UtKp3fTp Eva Nightwish Dark Passion Play\n",
      "761 /1755 : 5RaCXgP9HVUw0zQtr6Qf8f For the Heart I Once Had Nightwish Dark Passion Play\n",
      "762 /1755 : 1TVFphEyfjzEIir70656d4 Last of the Wilds Nightwish Dark Passion Play\n"
     ]
    },
    {
     "name": "stdout",
     "output_type": "stream",
     "text": [
      "763 /1755 : 647ZOCT2zAk0o4KsUw3kmn Master Passion Greed Nightwish Dark Passion Play\n",
      "764 /1755 : 1LB1yhk1rfoBUUDo6n4fYT Meadows of Heaven Nightwish Dark Passion Play\n",
      "765 /1755 : 0sbrHwbICNCN5xoyUoqvnp Sahara Nightwish Dark Passion Play\n",
      "766 /1755 : 7Ce61NyQM0XfGbVHSUBBOG The Islander Nightwish Dark Passion Play\n"
     ]
    },
    {
     "name": "stdout",
     "output_type": "stream",
     "text": [
      "767 /1755 : 5sDDSdsBa15i2IDhJ7HsYV The Poet and the Pendulum Nightwish Dark Passion Play\n",
      "768 /1755 : 6eayl3fqJ4gjFzgvF0wnuZ Whoever Brings the Night Nightwish Dark Passion Play\n",
      "769 /1755 : 6utuFCvF34xhmwwwFAYntF Endlessness Nightwish HUMAN. :II: NATURE.\n"
     ]
    },
    {
     "name": "stdout",
     "output_type": "stream",
     "text": [
      "770 /1755 : 06h4HxzQkqx45lCRxDe4lA Harvest Nightwish HUMAN. :II: NATURE.\n",
      "771 /1755 : 6lkVbijlh932FSS2I0gDrR How's the Heart? Nightwish HUMAN. :II: NATURE.\n",
      "772 /1755 : 49LQq6RoFTWFk5d6hBGEKt Music Nightwish HUMAN. :II: NATURE.\n"
     ]
    },
    {
     "name": "stdout",
     "output_type": "stream",
     "text": [
      "773 /1755 : 0RZVAhyB8vhxQz6ITjiuyA Noise Nightwish HUMAN. :II: NATURE.\n",
      "774 /1755 : 1XcTT3XqNalzJMamAiIqOW Pan Nightwish HUMAN. :II: NATURE.\n",
      "775 /1755 : 7aIxfEHjebCNbs6bpKv9Go Procession Nightwish HUMAN. :II: NATURE.\n"
     ]
    },
    {
     "name": "stdout",
     "output_type": "stream",
     "text": [
      "776 /1755 : 5xITcnqoMdILDBNCwHGr5v Shoemaker Nightwish HUMAN. :II: NATURE.\n",
      "777 /1755 : 5tN4bKhtt6klkkB0GVt9i1 Tribal Nightwish HUMAN. :II: NATURE.\n",
      "778 /1755 : 0HKNlsZ0zFlSqUqWj1nVVG Réseaux Niska Commando\n"
     ]
    },
    {
     "name": "stdout",
     "output_type": "stream",
     "text": [
      "779 /1755 : 4vJr55lngvhSM8WIh9CjQc Cemetery Gates Pantera Cowboys from Hell\n",
      "780 /1755 : 2SgbR6ttzoNlCRGQOKjrop Cowboys from Hell Pantera Cowboys from Hell\n",
      "781 /1755 : 769cLRTw2y6KRdkFWFkxtu Domination Pantera Cowboys from Hell\n"
     ]
    },
    {
     "name": "stdout",
     "output_type": "stream",
     "text": [
      "782 /1755 : 4c6yZLnA730uJgQf9fTW2M Heresy Pantera Cowboys from Hell\n",
      "783 /1755 : 6lJJcUjhsp0TJRuzUIPOYO Primal Concrete Sledge Pantera Cowboys from Hell\n",
      "784 /1755 : 5JCZHWdFLg2rXtg684rTHt Psycho Holiday Pantera Cowboys from Hell\n"
     ]
    },
    {
     "name": "stdout",
     "output_type": "stream",
     "text": [
      "785 /1755 : 5APqyicPSWwJgFH8D9a8i3 Shattered Pantera Cowboys from Hell\n",
      "786 /1755 : 59dUIzMJxeMVzLDW7efLic Elusive Cure Paradise Lost Draconian Times\n",
      "787 /1755 : 4tTLo644XcmhYRzpDZdnlb Enchantment - 2011 Remasterred Paradise Lost Draconian Times (Legacy Edition)\n",
      "788 /1755 : 5OTOUyo18hGb3p1QeLOsp8 Forever Failure Paradise Lost Draconian Times\n"
     ]
    },
    {
     "name": "stdout",
     "output_type": "stream",
     "text": [
      "789 /1755 : 0ibuggkWTSDXHo25S0Qqvj Hallowed Land Paradise Lost Draconian Times\n",
      "790 /1755 : 41eLsM7dWBxeHJg2mO5PYY Hands Of Reason Paradise Lost Draconian Times\n",
      "791 /1755 : 4SlBn3adjzgtT0rEW1wdKJ I See Your Face Paradise Lost Draconian Times\n",
      "792 /1755 : 4ojsxsOZL3HBXALCCQV2Dg Jaded Paradise Lost Draconian Times\n"
     ]
    },
    {
     "name": "stdout",
     "output_type": "stream",
     "text": [
      "793 /1755 : 613fYhrrubkEQAjkfHREt4 Once Solemn Paradise Lost Draconian Times\n",
      "794 /1755 : 0e5X7i3AtGbg0P8Ui4RKVN Shades Of God Paradise Lost Draconian Times\n",
      "795 /1755 : 4YdNlZSNrJhNCfqYhI1ENF Shadowkings Paradise Lost Draconian Times\n",
      "796 /1755 : 76bUvHShiaBaCOpeMMP8F0 The Last Time Paradise Lost Draconian Times\n"
     ]
    },
    {
     "name": "stdout",
     "output_type": "stream",
     "text": [
      "797 /1755 : 7L4ruNa5TK7ykKr6zfBn6q Yearn For Change Paradise Lost Draconian Times\n",
      "798 /1755 : 3R1DPDoWdFdPeBj4aLwqBo Bemyself - from Hansa Studios, Berlin Parcels Live Vol. 1\n",
      "799 /1755 : 4Y668YELGKHZ36nfTE3eBu Closetowhy - from Hansa Studios, Berlin Parcels Live Vol. 1\n"
     ]
    },
    {
     "name": "stdout",
     "output_type": "stream",
     "text": [
      "800 /1755 : 6GQEhwaBBC1E2pzlRlGity Comedown - from Hansa Studios, Berlin Parcels Live Vol. 1\n",
      "801 /1755 : 04YsaTosW9B6i4yaTp766U Elude - from Hansa Studios, Berlin Parcels Live Vol. 1\n",
      "802 /1755 : 55ePH4TKRkvSBmg5kI8K1m Enter - from Hansa Studios, Berlin Parcels Live Vol. 1\n",
      "803 /1755 : 2s7nxagCl9fnFUoNIQxjnp Everyroad - from Hansa Studios, Berlin Parcels Live Vol. 1\n"
     ]
    },
    {
     "name": "stdout",
     "output_type": "stream",
     "text": [
      "804 /1755 : 53ElE1J1DwuwVxpINXYJpb Gamesofluck - from Hansa Studios, Berlin Parcels Live Vol. 1\n",
      "805 /1755 : 4M3MUIXtQLN2qRPcwcpHzW IknowhowIfeel - from Hansa Studios, Berlin Parcels Live Vol. 1\n",
      "806 /1755 : 4l9uFziLnJgpdBoBqUtoum Intrude - from Hansa Studios, Berlin Parcels Live Vol. 1\n"
     ]
    },
    {
     "name": "stdout",
     "output_type": "stream",
     "text": [
      "807 /1755 : 0ZcOprrr9ubO9ORfjbHjsx Lightenup - from Hansa Studios, Berlin Parcels Live Vol. 1\n",
      "808 /1755 : 0oEUagxKUH6rKFYlqNC7rz Myenemy - from Hansa Studios, Berlin Parcels Live Vol. 1\n",
      "809 /1755 : 0ax2Np3bXCUXCcYmcX5x1x Overnight - from Hansa Studios, Berlin Parcels Live Vol. 1\n",
      "810 /1755 : 0QugsGHunz3peiUxRg51WE Redline - from Hansa Studios, Berlin Parcels Live Vol. 1\n"
     ]
    },
    {
     "name": "stdout",
     "output_type": "stream",
     "text": [
      "811 /1755 : 35kZ2D9sADNOZ53zWOljkQ Retuned - from Hansa Studios, Berlin Parcels Live Vol. 1\n",
      "812 /1755 : 4cyygA6kLAF2H6QqwmACHd Tieduprightnow - from Hansa Studios, Berlin Parcels Live Vol. 1\n",
      "813 /1755 : 6VQDFodEZkjmfAqCCcVLOm Untried - from Hansa Studios, Berlin Parcels Live Vol. 1\n",
      "814 /1755 : 6GGXja13qA0BYNNAqgXQxS Withorwithout - from Hansa Studios, Berlin Parcels Live Vol. 1\n"
     ]
    },
    {
     "name": "stdout",
     "output_type": "stream",
     "text": [
      "815 /1755 : 2TeGrk8lm2DhSnAx63KAqv Yourfault - from Hansa Studios, Berlin Parcels Live Vol. 1\n",
      "816 /1755 : 7lMFAK8dv0QkWpIlZcWQlJ Prey Parkway Drive Reverence\n",
      "817 /1755 : 7yWdsy6UHRTun4hkJZJYNq Dogs - 2011 Remastered Version Pink Floyd Animals (2011 Remastered Version)\n",
      "818 /1755 : 23dTQ4fjLrPPbYHamkJDzo Pigs (Three Different Ones) [2011 - Remaster] Pink Floyd Animals (2011 Remastered Version)\n"
     ]
    },
    {
     "name": "stdout",
     "output_type": "stream",
     "text": [
      "819 /1755 : 1t8pPoX4Pj7Gdy07gxlKgM A Pillow Of Winds - 2011 Remastered Version Pink Floyd Meddle (2011 Remastered Version)\n",
      "820 /1755 : 1Mzm1CNqVxtwbCYhOo843s Echoes - 2011 Remastered Version Pink Floyd Meddle (2011 Remastered Version)\n",
      "821 /1755 : 5WEOx4ZXcfX3wvbfxsAoDO Fearless - 2011 Remastered Version Pink Floyd Meddle (2011 Remastered Version)\n",
      "822 /1755 : 0Ga3szKsJOeZ0eAfydm1WV One Of These Days - 2011 Remastered Version Pink Floyd Meddle (2011 Remastered Version)\n"
     ]
    },
    {
     "name": "stdout",
     "output_type": "stream",
     "text": [
      "823 /1755 : 4FIas3biBpCzz8bAUVow0P San Tropez - 2011 Remastered Version Pink Floyd Meddle (2011 Remastered Version)\n",
      "824 /1755 : 4OxoxJKAaVG0i0PKk6bF1p Seamus - 2011 Remastered Version Pink Floyd Meddle (2011 Remastered Version)\n",
      "825 /1755 : 3z7dWKRsjDNM24ohLKZBnA Astronomy Domine - 2011 Remastered Version Pink Floyd The Piper At The Gates Of Dawn [2011 - Remaster] (2011 Remastered Version)\n",
      "826 /1755 : 1vabhOqRbqjFvBomw3jouZ Bike - 2011 Remastered Version Pink Floyd The Piper At The Gates Of Dawn [2011 - Remaster] (2011 Remastered Version)\n"
     ]
    },
    {
     "name": "stdout",
     "output_type": "stream",
     "text": [
      "827 /1755 : 7yCtmJ43qJYUF9si7sxult Chapter 24 - 2011 Remastered Version Pink Floyd The Piper At The Gates Of Dawn [2011 - Remaster] (2011 Remastered Version)\n",
      "828 /1755 : 1hFQbot8ooII597Rh1nHYc Flaming - 2011 Remastered Version Pink Floyd The Piper At The Gates Of Dawn [2011 - Remaster] (2011 Remastered Version)\n",
      "829 /1755 : 63KHfOzsogBZO5LPmxCyVF Interstellar Overdrive - 2011 Remastered Version Pink Floyd The Piper At The Gates Of Dawn [2011 - Remaster] (2011 Remastered Version)\n",
      "830 /1755 : 2WGkeBfg0nDPSLAUJeDOfJ Lucifer Sam - 2011 Remastered Version Pink Floyd The Piper At The Gates Of Dawn [2011 - Remaster] (2011 Remastered Version)\n"
     ]
    },
    {
     "name": "stdout",
     "output_type": "stream",
     "text": [
      "831 /1755 : 6zl3hCQaaE5HqojSOu9Xlo Matilda Mother - 2011 Remastered Version Pink Floyd The Piper At The Gates Of Dawn [2011 - Remaster] (2011 Remastered Version)\n",
      "832 /1755 : 57toaBm2LfTPmq2DYdtHog Pow R. Toc. H - 2011 Remastered Version Pink Floyd The Piper At The Gates Of Dawn [2011 - Remaster] (2011 Remastered Version)\n",
      "833 /1755 : 2ETeOretrw09zSKcXTtroC Scarecrow - 2011 Remastered Version Pink Floyd The Piper At The Gates Of Dawn [2011 - Remaster] (2011 Remastered Version)\n",
      "834 /1755 : 3ewGfQu14g6zFwSdI7D2wL Take Up Thy Stethoscope And Walk - 2011 Remastered Version Pink Floyd The Piper At The Gates Of Dawn [2011 - Remaster] (2011 Remastered Version)\n"
     ]
    },
    {
     "name": "stdout",
     "output_type": "stream",
     "text": [
      "835 /1755 : 0bSHWVsZ0kmDOY5oehzA92 The Gnome - 2011 Remastered Version Pink Floyd The Piper At The Gates Of Dawn [2011 - Remaster] (2011 Remastered Version)\n",
      "836 /1755 : 5nfMtk9Zty1AITVo4YDhbb Have A Cigar - 2011 Remastered Version Pink Floyd Wish You Were Here [Remastered] (Remastered Version)\n",
      "837 /1755 : 32dnKMni3I3gwUbWp4mi45 Shine On You Crazy Diamond, Pts. 1-5 - 2011 Remastered Version Pink Floyd Wish You Were Here [Remastered] (Remastered Version)\n",
      "838 /1755 : 2YMN5C5XDSsqCHSoJIbOzj Shine On You Crazy Diamond, Pts. 6-9 - 2011 Remastered Version Pink Floyd Wish You Were Here [Remastered] (Remastered Version)\n"
     ]
    },
    {
     "name": "stdout",
     "output_type": "stream",
     "text": [
      "839 /1755 : 0i8ztWwkzwBJxviDMqYdMA Welcome To The Machine - 2011 Remastered Version Pink Floyd Wish You Were Here [Remastered] (Remastered Version)\n",
      "840 /1755 : 7aE5WXu5sFeNRh3Z05wwu4 Wish You Were Here - 2011 Remastered Version Pink Floyd Wish You Were Here [Remastered] (Remastered Version)\n",
      "841 /1755 : 5IJbTPhcj0IjdzUaYqwe2I Stfu Pink Guy Pink Season\n"
     ]
    },
    {
     "name": "stdout",
     "output_type": "stream",
     "text": [
      "842 /1755 : 3dPmG97SN3qgYlkBA205x8 .3 Porcupine Tree In Absentia\n",
      "843 /1755 : 2WObDBPZ4UZ8yBBf1R41QL Blackest Eyes Porcupine Tree In Absentia\n",
      "artist:\"Porcupine Tree\" album:\"In Absentia\" track:\"Chloroform\" not in spotify\n",
      "artist:\"Porcupine Tree\" album:\"In Absentia\" track:\"Chloroform\" not in spotify\n"
     ]
    },
    {
     "name": "stdout",
     "output_type": "stream",
     "text": [
      "845 /1755 : 31ZT15OJPYjl1kqLeWssC9 Collapse The Light Into Earth Porcupine Tree In Absentia\n",
      "artist:\"Porcupine Tree\" album:\"In Absentia\" track:\"Drown With Me\" not in spotify\n",
      "artist:\"Porcupine Tree\" album:\"In Absentia\" track:\"Drown With Me\" not in spotify\n"
     ]
    },
    {
     "name": "stdout",
     "output_type": "stream",
     "text": [
      "847 /1755 : 49vKZifxRayUeUQ0TIEX0l Gravity Eyelids Porcupine Tree In Absentia\n",
      "artist:\"Porcupine Tree\" album:\"In Absentia\" track:\"Heartattack in a Lay By\" not in spotify\n"
     ]
    },
    {
     "name": "stdout",
     "output_type": "stream",
     "text": [
      "artist:\"Porcupine Tree\" album:\"In Absentia\" track:\"Heartattack in a Lay By\" not in spotify\n",
      "849 /1755 : 1UrogDOQaZOJbeiGDGqGwm Lips Of Ashes Porcupine Tree In Absentia\n"
     ]
    },
    {
     "name": "stdout",
     "output_type": "stream",
     "text": [
      "850 /1755 : 013rp6MswL21Cq25JorvOI Prodigal Porcupine Tree In Absentia\n",
      "851 /1755 : 7ajEtAFkT5vPxx1YTePSz2 Strip The Soul Porcupine Tree In Absentia\n",
      "852 /1755 : 2YF8IpCJWnrT0pZgZzehgH The Creator Has A Mastertape Porcupine Tree In Absentia\n"
     ]
    },
    {
     "name": "stdout",
     "output_type": "stream",
     "text": [
      "853 /1755 : 3OMCZSG5TbqJBKKRmtJciA The Sound Of Muzak Porcupine Tree In Absentia\n",
      "854 /1755 : 5lBQ3mnWsYIt5aCdgz1U9n Trains Porcupine Tree In Absentia\n",
      "855 /1755 : 4jiUX9HRDTbTgEIGHDarfr Wedding Nails Porcupine Tree In Absentia\n",
      "856 /1755 : 6QgjcU0zLnzq5OrUoSZ3OK Feel It Still Portugal. The Man Woodstock\n"
     ]
    },
    {
     "name": "stdout",
     "output_type": "stream",
     "text": [
      "857 /1755 : 2fAMN1ElznJ0EbFEJ7QdFz Feel It Still Scott Bradlee's Postmodern Jukebox Sepia Is The New Orange\n",
      "858 /1755 : 0bl73LuASBW1UkFWxFjJiU Midnight Madonna Powerwolf Midnight Madonna\n",
      "859 /1755 : 2ArOs9tz8SC5cP6SIMD3P5 Amen & Attack Powerwolf Preachers of the Night\n",
      "860 /1755 : 4dgPz6THNVaAi5lscQtmoy Cardinal Sin Powerwolf Preachers of the Night\n"
     ]
    },
    {
     "name": "stdout",
     "output_type": "stream",
     "text": [
      "861 /1755 : 15zg9OP8HRg15VU83VYxXj Coleus Sanctus Powerwolf Preachers of the Night\n",
      "862 /1755 : 2OGFA0kVMXzIR5XJI9EpBK Extatum Et Oratum Powerwolf Preachers of the Night\n",
      "863 /1755 : 27krtJL99aNMCkqPdkSqii In the Name of God (Deus Vult) Powerwolf Preachers of the Night\n",
      "864 /1755 : 4amCtzl5B27wFaVIdqet7H Kreuzfeuer Powerwolf Preachers of the Night\n"
     ]
    },
    {
     "name": "stdout",
     "output_type": "stream",
     "text": [
      "865 /1755 : 3ES0nR0gv5vRrdRBxO36zN Last of the Living Dead Powerwolf Preachers of the Night\n",
      "866 /1755 : 4vtjBupNjcXWhS839SGbLX Lust for Blood Powerwolf Preachers of the Night\n",
      "867 /1755 : 3bg6QFD884mBSw3S0n55do Nochnoi Dozor Powerwolf Preachers of the Night\n",
      "868 /1755 : 5ATVg0SUVCIs8ZdnmMO0w9 Sacred & Wild Powerwolf Preachers of the Night\n"
     ]
    },
    {
     "name": "stdout",
     "output_type": "stream",
     "text": [
      "869 /1755 : 4otKbT9jxX0VQ7Y5mOcB3p Secrets of the Sacristy Powerwolf Preachers of the Night\n",
      "870 /1755 : 1KCDsPKFISNM2YZFFAoI7s Demons Are a Girl's Best Friend Powerwolf The Sacrament of Sin\n",
      "871 /1755 : 3mvpP1Pp34joJxGDq11ECz Fire & Forgive Powerwolf The Sacrament of Sin\n",
      "872 /1755 : 430trbbOVAdcOuMVeQz3YU Fist by Fist (Sacralize or Strike) Powerwolf The Sacrament of Sin\n"
     ]
    },
    {
     "name": "stdout",
     "output_type": "stream",
     "text": [
      "873 /1755 : 5KDcHol0FbJZCmNivYabkJ Incense & Iron Powerwolf The Sacrament of Sin\n",
      "874 /1755 : 6OrMblzPzh6Z0pIKVeWwd3 Killers with the Cross Powerwolf The Sacrament of Sin\n",
      "875 /1755 : 7HaFpr7q7T01mW2YSL9ZhT Nightside of Siberia Powerwolf The Sacrament of Sin\n",
      "876 /1755 : 5y45tlGrk7lNcIzeu6xJXF Nighttime Rebel Powerwolf The Sacrament of Sin\n"
     ]
    },
    {
     "name": "stdout",
     "output_type": "stream",
     "text": [
      "877 /1755 : 7JIESJ31lSor1CO4W1expA Stossgebet Powerwolf The Sacrament of Sin\n",
      "878 /1755 : 5fBINwkFHK78VlJhV9vHGY The Sacrament of Sin Powerwolf The Sacrament of Sin\n",
      "879 /1755 : 4cHC6wUiJ0XF1siHpWUSPv Venom of Venus Powerwolf The Sacrament of Sin\n",
      "880 /1755 : 0YrUDBOsnIiUNISpGOtwCA Where the Wild Wolves Have Gone Powerwolf The Sacrament of Sin\n"
     ]
    },
    {
     "name": "stdout",
     "output_type": "stream",
     "text": [
      "881 /1755 : 62LJFaYihsdVrrkgUOJC05 Kiss Prince Parade - Music from the Motion Picture Under the Cherry Moon\n",
      "882 /1755 : 5DS5aMoVYgmZkULtzN6VCv Hymn for a Droid Psychedelic Porn Crumpets And Now for the Whatchamacallit\n",
      "883 /1755 : 3038NH8wdXx0owuMdVTTrI ..and the Addled Abstraction of Being Psychedelic Porn Crumpets High Visceral, Pt. 1\n",
      "884 /1755 : 2SPI1dXVaZvR4qlwbzxdcC Cornflake Psychedelic Porn Crumpets High Visceral, Pt. 1\n"
     ]
    },
    {
     "name": "stdout",
     "output_type": "stream",
     "text": [
      "885 /1755 : 6pmnLlu0OhMNFXEEgkiYEX Cubensis Lenses Psychedelic Porn Crumpets High Visceral, Pt. 1\n",
      "886 /1755 : 7sP57RtB31LWReHyQ02RxX Denmark / Van Gogh & Gone Psychedelic Porn Crumpets High Visceral, Pt. 1\n"
     ]
    },
    {
     "name": "stdout",
     "output_type": "stream",
     "text": [
      "887 /1755 : 61iUB6sUL3ARJ0phDHaCGK Entropy Psychedelic Porn Crumpets High Visceral, Pt. 1\n",
      "888 /1755 : 4xBFKgS6VAmpmeoG0WJ9Pl Found God in a Tomato Psychedelic Porn Crumpets High Visceral, Pt. 1\n",
      "889 /1755 : 2acY3t1ZKAi3t6xVjWVktd Gallop to Southport Psychedelic Porn Crumpets High Visceral, Pt. 1\n"
     ]
    },
    {
     "name": "stdout",
     "output_type": "stream",
     "text": [
      "890 /1755 : 33nIAkg5UqyXSmfRpfKW3V High Visceral Psychedelic Porn Crumpets High Visceral, Pt. 1\n",
      "891 /1755 : 19n2inOfXSxHlBuygEdCZV Marmalade March Psychedelic Porn Crumpets High Visceral, Pt. 1\n"
     ]
    },
    {
     "name": "stdout",
     "output_type": "stream",
     "text": [
      "892 /1755 : 0NBcMaT9LFP0CQ87NqTiVC Surf's Up Psychedelic Porn Crumpets High Visceral, Pt. 1\n",
      "artist:\"Pulko\" track:\"Du Lourd\" not in spotify\n",
      "artist:\"Pulko\" track:\"Du Lourd\" not in spotify\n"
     ]
    },
    {
     "name": "stdout",
     "output_type": "stream",
     "text": [
      "894 /1755 : 1EtdV2ZH74Y3j7iZjQMLpF Drowse - Remastered 2011 Queen A Day At The Races (Deluxe Edition 2011 Remaster)\n",
      "895 /1755 : 1n7xFAY4xoPeqRvrkzAtsw Good Old-Fashioned Lover Boy - 2011 Mix Queen A Day At The Races (Deluxe Edition 2011 Remaster)\n",
      "896 /1755 : 69P2hzg6gWob5xbgyJMYwL Long Away - Remastered 2011 Queen A Day At The Races (Deluxe Edition 2011 Remaster)\n",
      "897 /1755 : 4rDbp1vnvEhieiccprPMdI Somebody To Love - 2011 Mix Queen A Day At The Races (Deluxe Edition 2011 Remaster)\n"
     ]
    },
    {
     "name": "stdout",
     "output_type": "stream",
     "text": [
      "898 /1755 : 39j04METolm8GSqMYXWDlG Teo Torriatte (Let Us Cling Together) - 2011 Mix Queen A Day At The Races (Deluxe Edition 2011 Remaster)\n",
      "899 /1755 : 4byYaWrhnyZO5hujb3Qx53 The Millionaire Waltz - Remastered 2011 Queen A Day At The Races (Deluxe Edition 2011 Remaster)\n",
      "900 /1755 : 4mLKx7zsUdyT4Ax7rI7KXu Tie Your Mother Down - Remastered 2011 Queen A Day At The Races (Deluxe Edition 2011 Remaster)\n",
      "901 /1755 : 2ekdPqGg9Ta3jDN1I8dm3z White Man - Remastered 2011 Queen A Day At The Races (Deluxe Edition 2011 Remaster)\n"
     ]
    },
    {
     "name": "stdout",
     "output_type": "stream",
     "text": [
      "902 /1755 : 4QxuI0R23qSGf4nipuOV6h You And I - Remastered 2011 Queen A Day At The Races (Deluxe Edition 2011 Remaster)\n",
      "903 /1755 : 46Ms1kGRWhOZGtQRQydDio You Take My Breath Away - Remastered 2011 Queen A Day At The Races (Deluxe Edition 2011 Remaster)\n",
      "904 /1755 : 6C45qCZ1D6rmK3dmLBAWYZ I’m In Love With My Car - Guitar & Vocal Mix / 2011 Queen A Night At The Opera (Deluxe Edition 2011 Remaster)\n"
     ]
    },
    {
     "name": "stdout",
     "output_type": "stream",
     "text": [
      "905 /1755 : 2AkmdLbVKS1steeZdy8H1l I Want To Break Free - Single Remix Queen The Works (Deluxe Edition 2011 Remaster)\n",
      "artist:\"Queens of the Stone Age\" album:\"Songs for the Deaf\" track:\"You Think I Ain't Worth a Dollar But I Feel Like a Millionaire\" not in spotify\n",
      "906 /1755 : 48OJGqiTSwiUmDwLpAlGZ6 You Think I Ain't Worth A Dollar, But I Feel Like A Millionaire - Album Version (With Interlude) Queens of the Stone Age Songs For The Deaf\n",
      "907 /1755 : 2ZOTtG7v1OrSNs6EINIGb4 Black Betty Ram Jam The Very Best Of Ram Jam\n"
     ]
    },
    {
     "name": "stdout",
     "output_type": "stream",
     "text": [
      "908 /1755 : 72FYliCNWAriQ9P45MC9zI Asche zu Asche Rammstein Herzeleid\n",
      "909 /1755 : 0nUOhgS27O4MlB9J300g8Y Das alte Leid Rammstein Herzeleid\n",
      "910 /1755 : 2lNnADFJHaxkH95Rm1CQhW Der Meister Rammstein Herzeleid\n"
     ]
    },
    {
     "name": "stdout",
     "output_type": "stream",
     "text": [
      "911 /1755 : 1hNE737dkYD9ZM1J8H9chv Du riechst so gut Rammstein Herzeleid\n",
      "912 /1755 : 4JaHt4zXuGtU6sSfEPQ2Es Heirate mich Rammstein Herzeleid\n",
      "913 /1755 : 27RXyWoS42uatQG7Nwucks Herzeleid Rammstein Herzeleid\n"
     ]
    },
    {
     "name": "stdout",
     "output_type": "stream",
     "text": [
      "914 /1755 : 5f3UoaZUSo43xsKve2ePgF Laichzeit Rammstein Herzeleid\n",
      "915 /1755 : 176mKgRpX9i9v81eNcsxzf Rammstein Rammstein Herzeleid\n",
      "916 /1755 : 2FJQyteNdmYjgE9sUMri1O Seemann Rammstein Herzeleid\n"
     ]
    },
    {
     "name": "stdout",
     "output_type": "stream",
     "text": [
      "917 /1755 : 0ydEdAQOjO1PuHCqpmTUx8 Weisses Fleisch Rammstein Herzeleid\n",
      "918 /1755 : 26dOCdbA4tZIJh9pGOLuHx Wollt ihr das Bett in Flammen sehen Rammstein Herzeleid\n",
      "919 /1755 : 3zPvL6ZCSVAHvSZXNoAbkl Adios Rammstein Mutter\n",
      "920 /1755 : 5aNH8inF5BsbThDeOLs7zs Feuer frei! Rammstein Mutter\n"
     ]
    },
    {
     "name": "stdout",
     "output_type": "stream",
     "text": [
      "921 /1755 : 3X0K6fII7VIwL1URPrp8Ko Ich will Rammstein Mutter\n",
      "922 /1755 : 52XYwQKlXp7scE7KrBBCID Links 2 3 4 Rammstein Mutter\n",
      "923 /1755 : 5ArNGisLzrNOIVwWajRRdt Mein Herz brennt Rammstein Mutter\n",
      "924 /1755 : 7jfZybgHr6yzp4iuMS2K8u Mutter Rammstein Mutter\n"
     ]
    },
    {
     "name": "stdout",
     "output_type": "stream",
     "text": [
      "925 /1755 : 6DxTbdswlgfUp2mJ3vtptB Nebel Rammstein Mutter\n",
      "926 /1755 : 4fPrxIohi60EZfNy2TlD44 Rein raus Rammstein Mutter\n",
      "927 /1755 : 3gVhsZtseYtY1fMuyYq06F Sonne Rammstein Mutter\n",
      "928 /1755 : 0KFwkmCpsFqUs09Bs8iVFP Spieluhr Rammstein Mutter\n"
     ]
    },
    {
     "name": "stdout",
     "output_type": "stream",
     "text": [
      "929 /1755 : 3Q70zeuBGJzhCOtzeBXoPS Zwitter Rammstein Mutter\n",
      "930 /1755 : 15f16lrsDzFeNpHYBTzHLI SEX Rammstein RAMMSTEIN\n",
      "931 /1755 : 1a8JpAL3vbAdXYrEABvOtb AMERIKA Rammstein REISE, REISE\n",
      "932 /1755 : 1pOkWIJCshtoREcAcXmYSk AMOUR Rammstein REISE, REISE\n"
     ]
    },
    {
     "name": "stdout",
     "output_type": "stream",
     "text": [
      "933 /1755 : 7fL0Tc5DGA7wLeXzkckiLW DALAI LAMA Rammstein REISE, REISE\n",
      "934 /1755 : 7eeDeUM9E7b0vkDfRz20Zt KEINE LUST Rammstein REISE, REISE\n",
      "935 /1755 : 6IUhPMJf4iJQ3Go1CkHDsa LOS Rammstein REISE, REISE\n"
     ]
    },
    {
     "name": "stdout",
     "output_type": "stream",
     "text": [
      "936 /1755 : 39RKlCfLoqb8o2aXfpVfjW MEIN TEIL Rammstein REISE, REISE\n",
      "937 /1755 : 0gf9HMeZDXRexbuM5CihZg MORGENSTERN Rammstein REISE, REISE\n"
     ]
    },
    {
     "name": "stdout",
     "output_type": "stream",
     "text": [
      "938 /1755 : 4L9UGREMQBfYLmGwlACgTV MOSKAU Rammstein REISE, REISE\n",
      "939 /1755 : 4aFC7Mes7CW5vHcb8ZApAx OHNE DICH Rammstein REISE, REISE\n",
      "940 /1755 : 6bvTzuFABmFnAAmVZ3nlMh REISE, REISE Rammstein REISE, REISE\n"
     ]
    },
    {
     "name": "stdout",
     "output_type": "stream",
     "text": [
      "941 /1755 : 20hfLWeQSJnJ2CiPxmjzsj STEIN UM STEIN Rammstein REISE, REISE\n",
      "942 /1755 : 1XanLfYUUBB6bLbnSh1KyU BENZIN Rammstein ROSENROT\n",
      "943 /1755 : 2gYAXMfRklQwZPAcQmFAzR EIN LIED Rammstein ROSENROT\n"
     ]
    },
    {
     "name": "stdout",
     "output_type": "stream",
     "text": [
      "944 /1755 : 4LoFzVisVHdPh9K7Q54ST5 FEUER UND WASSER Rammstein ROSENROT\n",
      "945 /1755 : 2STUa7rb27i7mCX7eOvr5K HILF MIR Rammstein ROSENROT\n",
      "946 /1755 : 0GxIAMtKFYTQZpR1avO6HB MANN GEGEN MANN Rammstein ROSENROT\n",
      "947 /1755 : 50LmbBKCBeDRKYvpR7ApjG ROSENROT Rammstein ROSENROT\n"
     ]
    },
    {
     "name": "stdout",
     "output_type": "stream",
     "text": [
      "948 /1755 : 0Z8q59waoxGjcRZDC3ffhH SPRING Rammstein ROSENROT\n",
      "949 /1755 : 0xv6NzfBHZhbZ5MWLzdh3T STIRB NICHT VOR MIR (DON'T DIE BEFORE I DO) Rammstein ROSENROT\n",
      "950 /1755 : 0KwqP13BnZMIycfxnqWtK1 TE QUIERO PUTA! Rammstein ROSENROT\n"
     ]
    },
    {
     "name": "stdout",
     "output_type": "stream",
     "text": [
      "951 /1755 : 2mZ7SXzf5mZkohPfDFIUET WO BIST DU Rammstein ROSENROT\n",
      "952 /1755 : 4HLcqGelHzQY7nAhxhh1hO ZERSTÖREN Rammstein ROSENROT\n",
      "953 /1755 : 2jZxjkVESS9tepcceOJesB Alter Mann Rammstein Sehnsucht\n",
      "954 /1755 : 5QueZSIpWUbH4nLZlkjjkP Bestrafe mich Rammstein Sehnsucht\n"
     ]
    },
    {
     "name": "stdout",
     "output_type": "stream",
     "text": [
      "955 /1755 : 0HSVba6oa1QdUkco67C3e3 Bück dich Rammstein Sehnsucht\n",
      "956 /1755 : 5awDvzxWfd53SSrsRZ8pXO Du hast Rammstein Sehnsucht\n",
      "957 /1755 : 2R5Zsb2TtsjHAEJFUZvf7v Eifersucht Rammstein Sehnsucht\n",
      "958 /1755 : 0xrkyEMkG4dVa5OMLQZOX8 Engel Rammstein Sehnsucht\n"
     ]
    },
    {
     "name": "stdout",
     "output_type": "stream",
     "text": [
      "959 /1755 : 2TfSwSYe7N7gaHFtlWvuZg Klavier Rammstein Sehnsucht\n",
      "960 /1755 : 7ublZG5PXnJo5haa7lrhfL Küss mich (Fellfrosch) Rammstein Sehnsucht\n",
      "961 /1755 : 3oWFQPp5lL5x907hCcCRa9 Sehnsucht Rammstein Sehnsucht\n",
      "962 /1755 : 2VR7EqYSBdqPVW5u3gcotK Spiel mit mir Rammstein Sehnsucht\n"
     ]
    },
    {
     "name": "stdout",
     "output_type": "stream",
     "text": [
      "963 /1755 : 0S2UfCA5A275xChEi9a6vU Tier Rammstein Sehnsucht\n",
      "964 /1755 : 48UPSzbZjgc449aqz8bxox Californication Red Hot Chili Peppers Californication (Deluxe Edition)\n",
      "965 /1755 : 1G391cbiT3v3Cywg8T7DM1 Scar Tissue Red Hot Chili Peppers Californication (Deluxe Edition)\n",
      "966 /1755 : 3SoDB59Y7dSZLSDBiNJ6o2 Charlie Red Hot Chili Peppers Stadium Arcadium\n"
     ]
    },
    {
     "name": "stdout",
     "output_type": "stream",
     "text": [
      "967 /1755 : 10Nmj3JCNoMeBQ87uw5j8k Dani California Red Hot Chili Peppers Stadium Arcadium\n",
      "968 /1755 : 1ylzYcU6FGnuBqqdqqH7QL Especially in Michigan Red Hot Chili Peppers Stadium Arcadium\n",
      "969 /1755 : 5f2ZVFERwwh3asebmurZEf Hump de Bump Red Hot Chili Peppers Stadium Arcadium\n"
     ]
    },
    {
     "name": "stdout",
     "output_type": "stream",
     "text": [
      "970 /1755 : 3gvyksxkLbyKwi0WjCiPXE She's Only 18 Red Hot Chili Peppers Stadium Arcadium\n",
      "971 /1755 : 06wTEKL2rSrSaOjFtgG8fj Slow Cheetah Red Hot Chili Peppers Stadium Arcadium\n",
      "972 /1755 : 2aibwv5hGXSgw7Yru8IYTO Snow (Hey Oh) Red Hot Chili Peppers Stadium Arcadium\n",
      "973 /1755 : 4y84ILALZSa4LyP6H7NVjR Stadium Arcadium Red Hot Chili Peppers Stadium Arcadium\n"
     ]
    },
    {
     "name": "stdout",
     "output_type": "stream",
     "text": [
      "974 /1755 : 0J3ytriezGZ3KCREfHKDOI Strip My Mind Red Hot Chili Peppers Stadium Arcadium\n",
      "975 /1755 : 5ZISTTuh3YIBtYsCvBKk5w Torture Me Red Hot Chili Peppers Stadium Arcadium\n",
      "976 /1755 : 4nriBQlagNNqEfkvHFVWVz Baby-Sitting Blues Renaud Mistral gagnant\n",
      "977 /1755 : 6jO6o0h4BjZqqGCetHpYln Fatigué Renaud Mistral gagnant\n"
     ]
    },
    {
     "name": "stdout",
     "output_type": "stream",
     "text": [
      "978 /1755 : 1ZlG9VQSUfSw0gJBzy7eEV La pêche à la ligne Renaud Mistral gagnant\n",
      "979 /1755 : 4KL0TurAerOq7bnGiFRm0z Le retour de la pépette Renaud Mistral gagnant\n",
      "980 /1755 : 3mrD89s4Ua9IS3Aw5kxMU7 Miss Maggie Renaud Mistral gagnant\n",
      "981 /1755 : 1MOSRjdAbUhvLNnHCdUEL5 Mistral gagnant Renaud Mistral gagnant\n"
     ]
    },
    {
     "name": "stdout",
     "output_type": "stream",
     "text": [
      "982 /1755 : 6yb2oQW16NzCT1o8p0q5y9 Morts les enfants Renaud Mistral gagnant\n",
      "artist:\"Renaud\" album:\"Mistral Gagnant\" track:\"P'tite conne\" not in spotify\n",
      "983 /1755 : 4yksBrqsVlu6D5EgfEo9cC P'tite conne Renaud Mistral gagnant\n",
      "artist:\"Renaud\" album:\"Mistral Gagnant\" track:\"Si t'es mon pote\" not in spotify\n"
     ]
    },
    {
     "name": "stdout",
     "output_type": "stream",
     "text": [
      "984 /1755 : 3LvcjcEsF1y1zX39Yhz6ds Si t'es mon pote Renaud Mistral gagnant\n",
      "985 /1755 : 2kdaKCgDmuFyFAS534yG8w Trois matelots Renaud Mistral gagnant\n",
      "986 /1755 : 04O7ZO0DIjFhv5Pl1wYiLf Tu vas au bal ? Renaud Mistral gagnant\n",
      "987 /1755 : 0wHNrrefyaeVewm4NxjxrX Make It Stop (September's Children) Rise Against Endgame\n"
     ]
    },
    {
     "name": "stdout",
     "output_type": "stream",
     "text": [
      "artist:\"Rob Zombie\" album:\"The Sinister Urge\" track:\"Demon Speeding\" not in spotify\n",
      "988 /1755 : 605hJIiMrdsUjr4Vx4BFD6 Demon Speeding Rob Zombie The Sinister Urge\n",
      "989 /1755 : 0KemK8FzVjVRuFdpaDZWzD 11:11 Rodrigo y Gabriela 11:11\n"
     ]
    },
    {
     "name": "stdout",
     "output_type": "stream",
     "text": [
      "990 /1755 : 4Lw32q8k7qWJlIUIT0ZZLk Atman Rodrigo y Gabriela 11:11\n",
      "991 /1755 : 31HfaigUhnwVGXw2sQgr79 Buster Voodoo Rodrigo y Gabriela 11:11\n",
      "992 /1755 : 5e4lOGcil90qQgWKUSHXnh Chac Mool Rodrigo y Gabriela 11:11\n",
      "993 /1755 : 5n8TyNbAwd44RZU7AlCHEk Hanuman Rodrigo y Gabriela 11:11\n"
     ]
    },
    {
     "name": "stdout",
     "output_type": "stream",
     "text": [
      "994 /1755 : 7qzhkbplGIuhF6LAq3zZuI Hora Zero Rodrigo y Gabriela 11:11\n",
      "995 /1755 : 2y3AZkOlC7PG3EDFHFkV7O Logos Rodrigo y Gabriela 11:11\n",
      "996 /1755 : 6FttOMUGGp8EOr3oOLAQXn Master Maqui Rodrigo y Gabriela 11:11\n",
      "997 /1755 : 6c4JlOY7bIa7ffYXcBLjAx Santo Domingo Rodrigo y Gabriela 11:11\n"
     ]
    },
    {
     "name": "stdout",
     "output_type": "stream",
     "text": [
      "998 /1755 : 6Q99AauXfzXAw0WnyTFiXx Savitri Rodrigo y Gabriela 11:11\n",
      "999 /1755 : 2J3Mnv95lmW3CkArFeFC2J Triveni Rodrigo y Gabriela 11:11\n",
      "1000/1755 : 3KM8FglBeca4LchGzUdyDU Hybride Exo Roi Heenok Hybride Exo\n",
      "1001/1755 : 62VWmsNoDmqT0Mj9oHHFVh Strasbourg / St. Denis Roy Hargrove Earfood\n"
     ]
    },
    {
     "name": "stdout",
     "output_type": "stream",
     "text": [
      "1002/1755 : 4zvXVO0SrMYIMHVGdOm0DA 82nd All the Way Sabaton The Great War\n",
      "1003/1755 : 6wWnwIrwPV32hKQouXpasL A Ghost in the Trenches Sabaton The Great War\n",
      "1004/1755 : 0pjIkwwUFLCGqLY90Jp3bH Devil Dogs Sabaton The Great War\n"
     ]
    },
    {
     "name": "stdout",
     "output_type": "stream",
     "text": [
      "1005/1755 : 2VS1jveuhfU7Latlgfh62T Fields of Verdun Sabaton The Great War\n",
      "1006/1755 : 4fmr8c3rh0dUKjw14UGfaH Great War Sabaton The Great War\n",
      "1007/1755 : 5RhPNWj5NCJO0rYYpvban5 In Flanders Fields Sabaton The Great War\n"
     ]
    },
    {
     "name": "stdout",
     "output_type": "stream",
     "text": [
      "1008/1755 : 6kiASFX63DwJ7grwKG2HUX Seven Pillars of Wisdom Sabaton The Great War\n",
      "1009/1755 : 2K2NeVnP853rkR5ese8ZLP The Attack of the Dead Men Sabaton The Great War\n",
      "1010/1755 : 6aQBOvi6WUZK1l62Umun8L The End of the War to End All Wars Sabaton The Great War\n"
     ]
    },
    {
     "name": "stdout",
     "output_type": "stream",
     "text": [
      "1011/1755 : 25UznYxMoMzQd4S963GMkp The Future of Warfare Sabaton The Great War\n",
      "1012/1755 : 0ePmfd8y7g4zs3E6ew7pDB The Red Baron Sabaton The Great War\n",
      "1013/1755 : 24Yi9hE78yPEbZ4kxyoXAI Roses - Imanbek Remix SAINt JHN Roses (Imanbek Remix)\n",
      "1014/1755 : 3LJpQ7GdTjP72BjA12ly6n All Night Dinner Santo & Johnny Santo & Johnny\n"
     ]
    },
    {
     "name": "stdout",
     "output_type": "stream",
     "text": [
      "1015/1755 : 0oLcoVcleWgnCeR6dx6rOm Blue Moon Santo & Johnny Santo & Johnny\n",
      "1016/1755 : 0frQYnCdLDMydbz5RBjccn Canadian Sunset Santo & Johnny Santo & Johnny\n",
      "1017/1755 : 3pkyrLqyGH1CqR2hy7pX0O Caravan Santo & Johnny Santo & Johnny\n"
     ]
    },
    {
     "name": "stdout",
     "output_type": "stream",
     "text": [
      "1018/1755 : 7JaUXqtO22DJPLCyoQSITO Dream Santo & Johnny Santo & Johnny\n",
      "1019/1755 : 4oU5ZYLLiGBFPQ9SLGMtT5 Harbor Lights Santo & Johnny Santo & Johnny\n",
      "1020/1755 : 2GAXZVZ1lGbIqNJxE1Skyx Raunchy Santo & Johnny Santo & Johnny\n"
     ]
    },
    {
     "name": "stdout",
     "output_type": "stream",
     "text": [
      "1021/1755 : 2exexdBC1YN4lJE4g0DSbL School Day Santo & Johnny Santo & Johnny\n",
      "1022/1755 : 5Ww5z9hMFbMIm5X6zrszBi Slave Girl Santo & Johnny Santo & Johnny\n"
     ]
    },
    {
     "name": "stdout",
     "output_type": "stream",
     "text": [
      "artist:\"Santo & Johnny\" album:\"Santo & Johnny\" track:\"Sleep Walk\" not in spotify\n",
      "artist:\"Santo & Johnny\" album:\"Santo & Johnny\" track:\"Sleep Walk\" not in spotify\n",
      "1024/1755 : 3aS6CmpIMgG1uKuDJQCCDu Summertime Santo & Johnny Santo & Johnny\n"
     ]
    },
    {
     "name": "stdout",
     "output_type": "stream",
     "text": [
      "1025/1755 : 1lZbh3DZ1SAvNtf2w08d6r Tenderly Santo & Johnny Santo & Johnny\n",
      "1026/1755 : 623rRTKwGmgjH6sjE9uWLh Scatman (ski-ba-bop-ba-dop-bop) Scatman John Scatman's World\n",
      "1027/1755 : 6dugx9WBSS8TDxbKqp9zmj Scatman's World Scatman John Scatman's World\n"
     ]
    },
    {
     "name": "stdout",
     "output_type": "stream",
     "text": [
      "1028/1755 : 1gKcpNIXhmHx2EHI5IPhte Fusil SCH A7\n",
      "1029/1755 : 64PEUiFFmMrVZhuhFKGJ66 Rooftops of Berlin - Niko Schwind Remix Matthias Schuell Rooftops of Berlin\n",
      "1030/1755 : 7cUKT1Wiwve4E5iRFOLVmz La javanaise Serge Gainsbourg N°4\n",
      "1031/1755 : 3nvREfeASA91U3atMsVO3H Bad Kids To The Back Snarky Puppy Immigrance\n"
     ]
    },
    {
     "name": "stdout",
     "output_type": "stream",
     "text": [
      "artist:\"Snowy White And The White Flames\" album:\"No Faith Required\" track:\"Midnight Blues\" not in spotify\n",
      "artist:\"Snowy White And The White Flames\" album:\"No Faith Required\" track:\"Midnight Blues\" not in spotify\n",
      "artist:\"Stand High Patrol\" album:\"Summer on Mars\" track:\"Atmosphere\" not in spotify\n",
      "artist:\"Stand High Patrol\" album:\"Summer on Mars\" track:\"Atmosphere\" not in spotify\n"
     ]
    },
    {
     "name": "stdout",
     "output_type": "stream",
     "text": [
      "artist:\"Stand High Patrol\" album:\"Summer on Mars\" track:\"Dreamcatcher\" not in spotify\n",
      "artist:\"Stand High Patrol\" album:\"Summer on Mars\" track:\"Dreamcatcher\" not in spotify\n",
      "artist:\"Stand High Patrol\" album:\"Summer on Mars\" track:\"Fragile\" not in spotify\n",
      "artist:\"Stand High Patrol\" album:\"Summer on Mars\" track:\"Fragile\" not in spotify\n"
     ]
    },
    {
     "name": "stdout",
     "output_type": "stream",
     "text": [
      "artist:\"Stand High Patrol\" album:\"Summer on Mars\" track:\"Landlord\" not in spotify\n",
      "artist:\"Stand High Patrol\" album:\"Summer on Mars\" track:\"Landlord\" not in spotify\n",
      "artist:\"Stand High Patrol\" album:\"Summer on Mars\" track:\"Raw Lines\" not in spotify\n",
      "artist:\"Stand High Patrol\" album:\"Summer on Mars\" track:\"Raw Lines\" not in spotify\n"
     ]
    },
    {
     "name": "stdout",
     "output_type": "stream",
     "text": [
      "artist:\"Stand High Patrol\" album:\"Summer on Mars\" track:\"Rosetta\" not in spotify\n",
      "artist:\"Stand High Patrol\" album:\"Summer on Mars\" track:\"Rosetta\" not in spotify\n",
      "artist:\"Stand High Patrol\" album:\"Summer on Mars\" track:\"Spring Rain\" not in spotify\n"
     ]
    },
    {
     "name": "stdout",
     "output_type": "stream",
     "text": [
      "artist:\"Stand High Patrol\" album:\"Summer on Mars\" track:\"Spring Rain\" not in spotify\n",
      "artist:\"Stand High Patrol\" album:\"Summer on Mars\" track:\"Summer on Mars\" not in spotify\n",
      "artist:\"Stand High Patrol\" album:\"Summer on Mars\" track:\"Summer on Mars\" not in spotify\n"
     ]
    },
    {
     "name": "stdout",
     "output_type": "stream",
     "text": [
      "artist:\"Stand High Patrol\" album:\"Summer on Mars\" track:\"Working Class\" not in spotify\n",
      "artist:\"Stand High Patrol\" album:\"Summer on Mars\" track:\"Working Class\" not in spotify\n",
      "1042/1755 : 3aAuIvgJGdp4wWd60riWfB Valerie Steve Winwood Talking Back To The Night\n",
      "artist:\"Steve'n'Seagulls\" album:\"Farm Machine\" track:\"Thunderstruck\" not in spotify\n"
     ]
    },
    {
     "name": "stdout",
     "output_type": "stream",
     "text": [
      "artist:\"StevenSeagulls\" album:\"Farm Machine\" track:\"Thunderstruck\" not in spotify\n",
      "artist:\"Steve'n'Seagulls\" album:\"Farm Machine\" track:\"Thunderstruck\" not in spotify\n",
      "artist:\"StevenSeagulls\" album:\"Farm Machine\" track:\"Thunderstruck\" not in spotify\n",
      "1044/1755 : 38punNoJGGFWOgOjm8eMRJ First Regret / 3 Years Older Steven Wilson Hand Cannot Erase\n"
     ]
    },
    {
     "name": "stdout",
     "output_type": "stream",
     "text": [
      "1045/1755 : 4ceTCJPLBQBOogseivMuhL Ancestral Steven Wilson Hand Cannot Erase\n",
      "1046/1755 : 37TyzXvVbPD2JIZEm65x9h Happy Returns / Ascendant Here on... Steven Wilson Hand Cannot Erase\n",
      "1047/1755 : 38punNoJGGFWOgOjm8eMRJ First Regret / 3 Years Older Steven Wilson Hand Cannot Erase\n"
     ]
    },
    {
     "name": "stdout",
     "output_type": "stream",
     "text": [
      "1048/1755 : 3L6iaRFenZmnkepJ4Ey9Cm Hand Cannot Erase Steven Wilson Hand Cannot Erase\n",
      "1049/1755 : 37TyzXvVbPD2JIZEm65x9h Happy Returns / Ascendant Here on... Steven Wilson Hand Cannot Erase\n",
      "1050/1755 : 1a6uHU6uqREaMMgkrKijLC Home Invasion / Regret #9 Steven Wilson Hand Cannot Erase\n",
      "1051/1755 : 7GVrWak6y01P1t8bwbZW8e Perfect Life Steven Wilson Hand Cannot Erase\n"
     ]
    },
    {
     "name": "stdout",
     "output_type": "stream",
     "text": [
      "1052/1755 : 1a6uHU6uqREaMMgkrKijLC Home Invasion / Regret #9 Steven Wilson Hand Cannot Erase\n",
      "1053/1755 : 5cxmpBhMn4Wxs4ZyHLv4mR Routine Steven Wilson Hand Cannot Erase\n",
      "artist:\"Steven Wilson\" album:\"Hand. Cannot. Erase.\" track:\"Transcience\" not in spotify\n",
      "artist:\"Steven Wilson\" album:\"Hand. Cannot. Erase.\" track:\"Transcience\" not in spotify\n"
     ]
    },
    {
     "name": "stdout",
     "output_type": "stream",
     "text": [
      "1055/1755 : 0PaCLduwMvGn19BNUHq0L1 Blank Tapes Steven Wilson To The Bone\n",
      "1056/1755 : 5ZcxDZkfflzvZ5nJPyzXZs Detonation Steven Wilson To The Bone\n",
      "1057/1755 : 6IyWD0fAwt05ee3emHHXkn Nowhere Now Steven Wilson To The Bone\n",
      "1058/1755 : 7CcaktZZsdb8AWPdhDM38f Pariah Steven Wilson To The Bone\n"
     ]
    },
    {
     "name": "stdout",
     "output_type": "stream",
     "text": [
      "1059/1755 : 5LlhPAV6Wtwc3veHr4u2ZB People Who Eat Darkness Steven Wilson To The Bone\n",
      "1060/1755 : 1tzCbOeyoKtCNkynz4HmQk Permanating Steven Wilson To The Bone\n",
      "1061/1755 : 3lxD0l11Oog4UUZe24SrkG Refuge Steven Wilson To The Bone\n",
      "1062/1755 : 0rHyrUwNjEJKRywss2MvTm Song Of I Steven Wilson To The Bone\n"
     ]
    },
    {
     "name": "stdout",
     "output_type": "stream",
     "text": [
      "1063/1755 : 6bHiGzAT6lxyWRBXd6lVRF Song Of Unborn Steven Wilson To The Bone\n",
      "1064/1755 : 5EYEOZLyr1XuHzW5ZPLkFD The Same Asylum As Before Steven Wilson To The Bone\n",
      "1065/1755 : 3aTmXPZxyXcB7kDVEzhyLv To The Bone Steven Wilson To The Bone\n",
      "1066/1755 : 4N0TP4Rmj6QQezWV88ARNJ Superstition Stevie Wonder Talking Book\n"
     ]
    },
    {
     "name": "stdout",
     "output_type": "stream",
     "text": [
      "artist:\"Stupeflip\" album:\"Terror Maxi\" track:\"Les Ronces\" not in spotify\n",
      "artist:\"Stupeflip\" album:\"Terror Maxi\" track:\"Les Ronces\" not in spotify\n",
      "artist:\"Stupeflip\" album:\"Terror Maxi\" track:\"Stupeflip Vite !!!\" not in spotify\n",
      "artist:\"Stupeflip\" album:\"Terror Maxi\" track:\"Stupeflip Vite !!!\" not in spotify\n"
     ]
    },
    {
     "name": "stdout",
     "output_type": "stream",
     "text": [
      "1069/1755 : 3xcgl1k29fKcDNowRJbMq6 72.8 mhz - Interlude 3 Stupeflip The Hypnoflip Invasion\n",
      "1070/1755 : 626KJ8oTkNs9znR1nDqq1k Ancienne prophétie - Interlude 5 Stupeflip The Hypnoflip Invasion\n",
      "1071/1755 : 0A6FdQB9XVIbjP6Kr4vsa1 Apocalypse 894 Stupeflip The Hypnoflip Invasion\n"
     ]
    },
    {
     "name": "stdout",
     "output_type": "stream",
     "text": [
      "artist:\"Stupeflip\" album:\"The Hypnoflip Invasion\" track:\"C'est un Tube\" not in spotify\n",
      "artist:\"Stupeflip\" album:\"The Hypnoflip Invasion\" track:\"Cest un Tube\" not in spotify\n",
      "artist:\"Stupeflip\" album:\"The Hypnoflip Invasion\" track:\"C'est un Tube\" not in spotify\n",
      "artist:\"Stupeflip\" album:\"The Hypnoflip Invasion\" track:\"Cest un Tube\" not in spotify\n"
     ]
    },
    {
     "name": "stdout",
     "output_type": "stream",
     "text": [
      "1073/1755 : 3dLIduwK5uQmKMH7TFsDlF Ce petit blouson en daim Stupeflip The Hypnoflip Invasion\n",
      "1074/1755 : 1cNm3Y37Hhe493MfKuNwGW Check da Crou Stupeflip The Hypnoflip Invasion\n",
      "artist:\"Stupeflip\" album:\"The Hypnoflip Invasion\" track:\"Cold World\" not in spotify\n",
      "artist:\"Stupeflip\" album:\"The Hypnoflip Invasion\" track:\"Cold World\" not in spotify\n"
     ]
    },
    {
     "name": "stdout",
     "output_type": "stream",
     "text": [
      "1076/1755 : 0R8ei1Ja9TCnSpElFhryZS Dangereux !! - Interlude 1 Stupeflip The Hypnoflip Invasion\n",
      "1077/1755 : 51NbezCtFMJR5283vWxH8J Dark Warriors - Interlude 4 Stupeflip The Hypnoflip Invasion\n",
      "1078/1755 : 57XHpRax8ytkhXrotxu8uE Gaëlle Stupeflip The Hypnoflip Invasion\n"
     ]
    },
    {
     "name": "stdout",
     "output_type": "stream",
     "text": [
      "1079/1755 : 4nxLQxln8uOLYL9pU1bpRG Gem lé moch' Stupeflip The Hypnoflip Invasion\n",
      "1080/1755 : 3a2eEFpPmvKxadRGpOXzr9 Hater's Killah Stupeflip The Hypnoflip Invasion\n",
      "1081/1755 : 4pMfDkHab6PU8yjAxSoHCd Invasion Stupeflip The Hypnoflip Invasion\n",
      "1082/1755 : 6Rpg1cBjDXDGlbbalRPU84 La menuiserie Stupeflip The Hypnoflip Invasion\n"
     ]
    },
    {
     "name": "stdout",
     "output_type": "stream",
     "text": [
      "1083/1755 : 6IkpQyY8TcaMM0Cx4OCf2N La mort à Pop Hip - Interlude 6 Stupeflip The Hypnoflip Invasion\n",
      "1084/1755 : 2nGwLNOOfOFWMpETHiwJIP Le coeur qui cogne Stupeflip The Hypnoflip Invasion\n",
      "1085/1755 : 0dtzevwOURr9R7tYIlWTOo Le spleen des petits Stupeflip The Hypnoflip Invasion\n",
      "1086/1755 : 57RPJrjsYcFj1kC7L41U1Z Lettre à Mylène Stupeflip The Hypnoflip Invasion\n"
     ]
    },
    {
     "name": "stdout",
     "output_type": "stream",
     "text": [
      "1087/1755 : 3XUkRMMrrn7x7OQAQJUCF4 Région est Stupeflip The Hypnoflip Invasion\n",
      "1088/1755 : 4rzapbR90qjU0mOr3RszP3 Sinode pibouin Stupeflip The Hypnoflip Invasion\n",
      "1089/1755 : 4lixC8ILNVVsP2880K7fKl Strange Pain - Interlude 2 Stupeflip The Hypnoflip Invasion\n",
      "1090/1755 : 178zd1WV9MN2rVab2TsfDE Stupeflip vite !!! Stupeflip The Hypnoflip Invasion\n"
     ]
    },
    {
     "name": "stdout",
     "output_type": "stream",
     "text": [
      "1091/1755 : 4a5pNRjwmzYQuEY1E7O6pj Breakfast In America - Remastered Supertramp Breakfast In America (Deluxe Edition)\n",
      "1092/1755 : 5gLJZBGkpvRXWbEbTcLIz8 Casual Conversations - 2010 Remastered Supertramp Breakfast In America (Deluxe Edition)\n",
      "1093/1755 : 7hHTyS1QG0TcX5iQ0sa1Tk Child Of Vision - 2010 Remastered Supertramp Breakfast In America (Deluxe Edition)\n",
      "1094/1755 : 43BVfHr7mkNDtNIGVp1vff Gone Hollywood - 2010 Remastered Supertramp Breakfast In America (Deluxe Edition)\n"
     ]
    },
    {
     "name": "stdout",
     "output_type": "stream",
     "text": [
      "1095/1755 : 67oyFnjJnn78fZP9KjeZx0 Goodbye Stranger - 2010 Remastered Supertramp Breakfast In America (Deluxe Edition)\n",
      "1096/1755 : 6o8nZVzweaEOLDLOgaogX5 Just Another Nervous Wreck - 2010 Remastered Supertramp Breakfast In America (Deluxe Edition)\n",
      "1097/1755 : 3AUpYeScJOpYf8psTIz62l Lord Is It Mine - 2010 Remastered Supertramp Breakfast In America (Deluxe Edition)\n",
      "1098/1755 : 089NMLhXz421ohFN55A3yo Oh Darling - 2010 Remastered Supertramp Breakfast In America (Deluxe Edition)\n"
     ]
    },
    {
     "name": "stdout",
     "output_type": "stream",
     "text": [
      "1099/1755 : 0v0XYK0pLgsPiq5u4FKHaw Take The Long Way Home - 2010 Remastered Supertramp Breakfast In America (Deluxe Edition)\n",
      "1100/1755 : 6mHOcVtsHLMuesJkswc0GZ The Logical Song - Remastered 2010 Supertramp Breakfast In America (Deluxe Edition)\n",
      "artist:\"System Of A Down\" album:\"Dracula 2000\" track:\"The Metro\" not in spotify\n",
      "artist:\"System Of A Down\" album:\"Dracula 2000\" track:\"The Metro\" not in spotify\n"
     ]
    },
    {
     "name": "stdout",
     "output_type": "stream",
     "text": [
      "1102/1755 : 0dxPHMZTI8TWMYRucsAFNd Attack System Of A Down Hypnotize\n",
      "1103/1755 : 7lLN9V4aZWHBppDgN6dSfW Dreaming System Of A Down Hypnotize\n",
      "1104/1755 : 4mj2UMyJTBTaO7pffAK29j Holy Mountains System Of A Down Hypnotize\n"
     ]
    },
    {
     "name": "stdout",
     "output_type": "stream",
     "text": [
      "1105/1755 : 6oO7WMjD6kEvCITLbVj0mu Hypnotize System Of A Down Hypnotize\n",
      "1106/1755 : 28TReO2Mxk9Q3GA4K98YSz Kill Rock 'n Roll System Of A Down Hypnotize\n",
      "1107/1755 : 1VNWaY3uNfoeWqb5U8x2QX Lonely Day System Of A Down Hypnotize\n",
      "1108/1755 : 3oh1Uo11pk7qRHnx3hKxbb She's Like Heroin System Of A Down Hypnotize\n"
     ]
    },
    {
     "name": "stdout",
     "output_type": "stream",
     "text": [
      "1109/1755 : 1ez4uWPnJwYufNhYTLVsJr Soldier Side System Of A Down Hypnotize\n",
      "1110/1755 : 27RWYht1l6tD5ITFurwwFL Stealing Society System Of A Down Hypnotize\n",
      "1111/1755 : 6LJ4cC9tJc3En13Hil6g0C Tentative System Of A Down Hypnotize\n",
      "1112/1755 : 2PmhYj5KyeluGXa1ClmIri U-Fig System Of A Down Hypnotize\n"
     ]
    },
    {
     "name": "stdout",
     "output_type": "stream",
     "text": [
      "1113/1755 : 6IdKZeYIfmsnPOVbI0O94p Vicinity Of Obscenity System Of A Down Hypnotize\n",
      "1114/1755 : 0EYOdF5FCkgOJJla8DI2Md B.Y.O.B. System Of A Down Mezmerize\n",
      "1115/1755 : 47EqCQZG5v4o0WFMufGf5S Cigaro System Of A Down Mezmerize\n",
      "1116/1755 : 0GrHWVTDsaWcD4nrCGr7VE Lost In Hollywood System Of A Down Mezmerize\n"
     ]
    },
    {
     "name": "stdout",
     "output_type": "stream",
     "text": [
      "1117/1755 : 6iFVJGxSVdFkzYQJL7Rgdk Old School Hollywood System Of A Down Mezmerize\n",
      "1118/1755 : 6y2DHyCYf6azhUfXmnuH6w Question! System Of A Down Mezmerize\n",
      "1119/1755 : 41pOIT2t1rvr2Trg1HQChZ Radio/Video System Of A Down Mezmerize\n",
      "1120/1755 : 577mOFb1LAvSANIUZ4mbQ7 Revenga System Of A Down Mezmerize\n"
     ]
    },
    {
     "name": "stdout",
     "output_type": "stream",
     "text": [
      "1121/1755 : 1wGRSG94dLt8fIZWhR3rGG Sad Statue System Of A Down Mezmerize\n",
      "1122/1755 : 6f1HJMVJ1CgUeCIM6r795H Soldier Side - Intro System Of A Down Mezmerize\n",
      "artist:\"System Of A Down\" album:\"Mezmerize\" track:\"This Cocaine Makes Me Feel Like I'm On This Song\" not in spotify\n",
      "1123/1755 : 0DVHR5FQ0Gp2dsZJz7hfdy This Cocaine Makes Me Feel Like I'm On This Song System Of A Down Mezmerize\n"
     ]
    },
    {
     "name": "stdout",
     "output_type": "stream",
     "text": [
      "1124/1755 : 249Z7XT6mf8B2zuI0RaeS0 Violent Pornography System Of A Down Mezmerize\n"
     ]
    },
    {
     "name": "stdout",
     "output_type": "stream",
     "text": [
      "1125/1755 : 3F385pf2JrVgSwcyqBDZEu CUBErt System Of A Down System Of A Down\n",
      "1126/1755 : 0GIvGfgr68OGkcCNFBAdrX Darts System Of A Down System Of A Down\n",
      "1127/1755 : 1Cu3MCxugh9oia9betnm8i DDevil System Of A Down System Of A Down\n"
     ]
    },
    {
     "name": "stdout",
     "output_type": "stream",
     "text": [
      "1128/1755 : 1ByE7lUw6wWMTbCb3woHdK Know System Of A Down System Of A Down\n",
      "1129/1755 : 658IQdgfrqSIf58I1AkWyz Mind System Of A Down System Of A Down\n",
      "1130/1755 : 5ZjfvGPEW7AZ00QZR2XQBJ P.L.U.C.K. System Of A Down System Of A Down\n",
      "1131/1755 : 53QqFzAWnl7D8IVBvCmRtc Peephole System Of A Down System Of A Down\n"
     ]
    },
    {
     "name": "stdout",
     "output_type": "stream",
     "text": [
      "1132/1755 : 3gY25vepRvvspuoAfxCyRO Soil System Of A Down System Of A Down\n",
      "1133/1755 : 4vAHXnJ5YWLq5hbIVzZS1h Spiders System Of A Down System Of A Down\n",
      "1134/1755 : 31RTFPrB7wmYBhlkM2ILXG Sugar System Of A Down System Of A Down\n"
     ]
    },
    {
     "name": "stdout",
     "output_type": "stream",
     "text": [
      "1135/1755 : 7phMc88qiwpKzOAIiR3xIU Suggestions System Of A Down System Of A Down\n",
      "1136/1755 : 1qGmxIGEuBEkj7bft72Kh0 Suite-Pee System Of A Down System Of A Down\n",
      "1137/1755 : 5Q7m1Km199HHMB926xxbrs War? System Of A Down System Of A Down\n",
      "1138/1755 : 4e9eGQYsOiBcftrWXwsVco Aerials System Of A Down Toxicity\n"
     ]
    },
    {
     "name": "stdout",
     "output_type": "stream",
     "text": [
      "1139/1755 : 0aueluj36PA9LNoj7d9SFb Arto System Of A Down Toxicity\n",
      "1140/1755 : 6gCVA6ja6g0foIsWv0RuSZ ATWA System Of A Down Toxicity\n",
      "1141/1755 : 6dr2T6DRymdT1jfSUxDgut Bounce System Of A Down Toxicity\n",
      "1142/1755 : 2DlHlPMa4M17kufBvI2lEN Chop Suey! System Of A Down Toxicity\n"
     ]
    },
    {
     "name": "stdout",
     "output_type": "stream",
     "text": [
      "1143/1755 : 2SpGXD7EbexndFmmThrnsy Deer Dance System Of A Down Toxicity\n",
      "1144/1755 : 1B5Y9I5wPfvD3C2A81A36C Forest System Of A Down Toxicity\n",
      "1145/1755 : 0a2kVvbCbk52gmeFQFHNaG Jet Pilot System Of A Down Toxicity\n",
      "1146/1755 : 6V8oQXzymTzpEZOsiBiyJT Needles System Of A Down Toxicity\n"
     ]
    },
    {
     "name": "stdout",
     "output_type": "stream",
     "text": [
      "1147/1755 : 3AwLxSqo1jOOMpNsgxqRNE Prison Song System Of A Down Toxicity\n",
      "1148/1755 : 6VzV6RI7641o57TuqfGRpj Psycho System Of A Down Toxicity\n",
      "1149/1755 : 58lcznIKSNlOVdmklrPA99 Science System Of A Down Toxicity\n",
      "1150/1755 : 1a3X8Y882vwSnlnHqf9ztF Shimmy System Of A Down Toxicity\n"
     ]
    },
    {
     "name": "stdout",
     "output_type": "stream",
     "text": [
      "1151/1755 : 0snQkGI5qnAmohLE7jTsTn Toxicity System Of A Down Toxicity\n",
      "1152/1755 : 4HIKcEKSijQLW5YNLsdLzt X System Of A Down Toxicity\n",
      "artist:\"Tangerine Stoned\" album:\"Tangerine Stoned\" track:\"l'Urlo Della Strega\" not in spotify\n",
      "1153/1755 : 5QRfoW5XLqBM2oCPRg2Sr7 L'urlo della strega Tangerine Stoned Tangerine Stoned\n"
     ]
    },
    {
     "name": "stdout",
     "output_type": "stream",
     "text": [
      "1154/1755 : 0aF9m87P8Tja3NUMv4DfHt Head Over Heels / Broken Tears For Fears Songs From The Big Chair\n",
      "1155/1755 : 4RvWPyQ5RL0ao9LPZeSouE Everybody Wants To Rule The World Tears For Fears Songs From The Big Chair (Super Deluxe Edition)\n",
      "1156/1755 : 0aF9m87P8Tja3NUMv4DfHt Head Over Heels / Broken Tears For Fears Songs From The Big Chair\n"
     ]
    },
    {
     "name": "stdout",
     "output_type": "stream",
     "text": [
      "1157/1755 : 2iwXxZD87p1Q3ISveQteiJ I Believe Tears For Fears Songs From The Big Chair\n",
      "1158/1755 : 6eAPuRbhPyTwY0xTBkHHtH Listen Tears For Fears Songs From The Big Chair\n",
      "1159/1755 : 2p87CAEgL7eJzVgNZt2M0J Mothers Talk Tears For Fears Songs From The Big Chair\n"
     ]
    },
    {
     "name": "stdout",
     "output_type": "stream",
     "text": [
      "1160/1755 : 2gQaQUhDCNGfBVXTvxAmXQ Shout Tears For Fears Songs From The Big Chair\n",
      "1161/1755 : 23DKn3AP0fpx1aAYth2Pax The Working Hour Tears For Fears Songs From The Big Chair\n",
      "artist:\"Ten Years After\" album:\"A Space In Time\" track:\"I'd Love to Change the World\" not in spotify\n",
      "1162/1755 : 19HjHUjCfDrEYhVSIKG6nK I'd Love to Change the World - 2004 Remaster Ten Years After A Space in Time (Deluxe Version)\n"
     ]
    },
    {
     "name": "stdout",
     "output_type": "stream",
     "text": [
      "1163/1755 : 478d70Vg2ljAG28eeDp2w5 Rize of the Fenix Tenacious D Rize Of The Fenix\n",
      "1164/1755 : 7x86D0wH2PrWgSLz8Wtnzf Business Suits and Combat Boots The Agonist Once Only Imagined\n",
      "1165/1755 : 0uMhYGXAgnP2Y7TMyUPUgd See See Rider (Bonus Track) The Animals Animalisms\n",
      "1166/1755 : 1rxoyGj1QuPoVi8fOft1Kt Because - Remastered 2009 The Beatles Abbey Road (Remastered)\n"
     ]
    },
    {
     "name": "stdout",
     "output_type": "stream",
     "text": [
      "1167/1755 : 5eZrW59C3UgBhkqNlowEID Carry That Weight - Remastered 2009 The Beatles Abbey Road (Remastered)\n",
      "1168/1755 : 2EqlS6tkEnglzr7tkKAAYD Come Together - Remastered 2009 The Beatles Abbey Road (Remastered)\n",
      "1169/1755 : 01SfTM5nfCou5gQL70r6gs Golden Slumbers - Remastered 2009 The Beatles Abbey Road (Remastered)\n"
     ]
    },
    {
     "name": "stdout",
     "output_type": "stream",
     "text": [
      "1170/1755 : 52hm7o5MPKymBUmSJadwve Her Majesty - Takes 1-3 The Beatles Abbey Road (Super Deluxe Edition)\n",
      "1171/1755 : 6dGnYIeXmHdcikdzNNDMm2 Here Comes The Sun - Remastered 2009 The Beatles Abbey Road (Remastered)\n",
      "1172/1755 : 3Z25k4ZF6QENy2d9YatsM5 I Want You (She's So Heavy) - Remastered 2009 The Beatles Abbey Road (Remastered)\n"
     ]
    },
    {
     "name": "stdout",
     "output_type": "stream",
     "text": [
      "1173/1755 : 2S8xyNRJX1XQdo3qnTuovI Maxwell's Silver Hammer - Remastered 2009 The Beatles Abbey Road (Remastered)\n",
      "1174/1755 : 4JOyMhad5dD81uGYLGgKrS Mean Mr Mustard - Remastered 2009 The Beatles Abbey Road (Remastered)\n",
      "1175/1755 : 0suLngfo7rJoetk7Ub6N8l Octopus's Garden - Remastered 2009 The Beatles Abbey Road (Remastered)\n"
     ]
    },
    {
     "name": "stdout",
     "output_type": "stream",
     "text": [
      "1176/1755 : 2mxByJWOajjiVsLWjNXvDJ Oh! Darling - Remastered 2009 The Beatles Abbey Road (Remastered)\n",
      "1177/1755 : 1FTCA6wQwulQFokDddKE68 Polythene Pam - Remastered 2009 The Beatles Abbey Road (Remastered)\n",
      "1178/1755 : 2jtUGFsqanQ82zqDlhiKIp She Came In Through The Bathroom Window - Remastered 2009 The Beatles Abbey Road (Remastered)\n"
     ]
    },
    {
     "name": "stdout",
     "output_type": "stream",
     "text": [
      "1179/1755 : 0pNeVovbiZHkulpGeOx1Gj Something - Remastered 2009 The Beatles Abbey Road (Remastered)\n",
      "1180/1755 : 4nwKdZID1ht0lDBJ5h2p87 Sun King - Remastered 2009 The Beatles Abbey Road (Remastered)\n",
      "1181/1755 : 5aHHf6jrqDRb1fcBmue2kn The End - Remastered 2009 The Beatles Abbey Road (Remastered)\n"
     ]
    },
    {
     "name": "stdout",
     "output_type": "stream",
     "text": [
      "1182/1755 : 1jOLTO379yIu9aMnCkpMQl You Never Give Me Your Money - Remastered 2009 The Beatles Abbey Road (Remastered)\n",
      "1183/1755 : 68BTFws92cRztMS1oQ7Ewj All You Need Is Love - Remastered 2009 The Beatles Magical Mystery Tour (Remastered)\n",
      "artist:\"The Beatles\" album:\"Magical Mystery Tour\" track:\"Baby, You're A Rich Man\" not in spotify\n",
      "1184/1755 : 0JBvtprXP2Z0LP3jmzA7Xp Baby, You're A Rich Man - Remastered 2009 The Beatles Magical Mystery Tour (Remastered)\n"
     ]
    },
    {
     "name": "stdout",
     "output_type": "stream",
     "text": [
      "1185/1755 : 0QIX9BS0AUCQcHYvyrsMkV Blue Jay Way - Remastered 2009 The Beatles Magical Mystery Tour (Remastered)\n",
      "1186/1755 : 1itLKsCWHtLnxALkgBk1Fa Flying - Remastered 2009 The Beatles Magical Mystery Tour (Remastered)\n",
      "1187/1755 : 0vZ97gHhemKm6c64hTfJNA Hello, Goodbye - Remastered 2009 The Beatles Magical Mystery Tour (Remastered)\n",
      "1188/1755 : 6Pq9MmkDQYZiiCDpxnvrf6 I Am The Walrus - Remastered 2009 The Beatles Magical Mystery Tour (Remastered)\n"
     ]
    },
    {
     "name": "stdout",
     "output_type": "stream",
     "text": [
      "1189/1755 : 0qHMhBZqYb99yhX9BHcIkV Magical Mystery Tour - Remastered 2009 The Beatles Magical Mystery Tour (Remastered)\n",
      "1190/1755 : 1h04XMpzGzmAudoI6VHBgA Penny Lane - Remastered 2009 The Beatles Magical Mystery Tour (Remastered)\n",
      "1191/1755 : 3Am0IbOxmvlSXro7N5iSfZ Strawberry Fields Forever - Remastered 2009 The Beatles Magical Mystery Tour (Remastered)\n",
      "1192/1755 : 6rHh8urosEFRI67xVa6fzU The Fool On The Hill - Remastered 2009 The Beatles Magical Mystery Tour (Remastered)\n"
     ]
    },
    {
     "name": "stdout",
     "output_type": "stream",
     "text": [
      "1193/1755 : 1dxbAIfCASqv6jix2R1Taj Your Mother Should Know - Remastered 2009 The Beatles Magical Mystery Tour (Remastered)\n",
      "1194/1755 : 4KRgqwb4kvBuTz1utbYxfb And Your Bird Can Sing - Remastered 2009 The Beatles Revolver (Remastered)\n",
      "1195/1755 : 1ob06Ol8FMIPQgjpg7bMyk Doctor Robert - Remastered 2009 The Beatles Revolver (Remastered)\n",
      "1196/1755 : 5GjPQ0eI7AgmOnADn1EO6Q Eleanor Rigby - Remastered 2009 The Beatles Revolver (Remastered)\n"
     ]
    },
    {
     "name": "stdout",
     "output_type": "stream",
     "text": [
      "1197/1755 : 1kDkaFlmkdEZiVUogaP9OZ For No One - Remastered 2009 The Beatles Revolver (Remastered)\n",
      "1198/1755 : 7HTH1ppjkkOe7RLoBDKXYJ Good Day Sunshine - Remastered 2009 The Beatles Revolver (Remastered)\n",
      "1199/1755 : 3tGhRLgcCP6SIZU3tbGl7l Got To Get You Into My Life - Remastered 2009 The Beatles Revolver (Remastered)\n",
      "1200/1755 : 2B4Y9u4ERAFiMo13XPJyGP Here, There And Everywhere - Remastered 2009 The Beatles Revolver (Remastered)\n"
     ]
    },
    {
     "name": "stdout",
     "output_type": "stream",
     "text": [
      "1201/1755 : 7orb0y6ySGdsYZywMoQtsD I Want To Tell You - Remastered 2009 The Beatles Revolver (Remastered)\n",
      "artist:\"The Beatles\" album:\"Revolver\" track:\"I'm Only Sleeping\" not in spotify\n",
      "1202/1755 : 2ylCrFiBu98SC0vFfaCent I'm Only Sleeping - Remastered 2009 The Beatles Revolver (Remastered)\n"
     ]
    },
    {
     "name": "stdout",
     "output_type": "stream",
     "text": [
      "1203/1755 : 4RdJFhfLQcezwN5LsXl4qP Love You To - Remastered 2009 The Beatles Revolver (Remastered)\n",
      "1204/1755 : 3VSuWxZM6x6V3ig5nYtikL She Said She Said - Remastered 2009 The Beatles Revolver (Remastered)\n",
      "1205/1755 : 4BRkPBUxOYffM2QXVlq7aC Taxman - Remastered 2009 The Beatles Revolver (Remastered)\n"
     ]
    },
    {
     "name": "stdout",
     "output_type": "stream",
     "text": [
      "1206/1755 : 00oZhqZIQfL9P5CjOP6JsO Tomorrow Never Knows - Remastered 2009 The Beatles Revolver (Remastered)\n",
      "1207/1755 : 50xwQXPtfNZFKFeZ0XePWc Yellow Submarine - Remastered 2009 The Beatles Revolver (Remastered)\n",
      "1208/1755 : 0hKRSZhUGEhKU6aNSPBACZ A Day In The Life - Remastered 2009 The Beatles Sgt. Pepper's Lonely Hearts Club Band (Remastered)\n"
     ]
    },
    {
     "name": "stdout",
     "output_type": "stream",
     "text": [
      "1209/1755 : 6W35n1UlkvqhfMZstB4BXs Being For The Benefit Of Mr. Kite! - Remastered 2009 The Beatles Sgt. Pepper's Lonely Hearts Club Band (Remastered)\n",
      "1210/1755 : 3pKKxkeB1pOUMHwWBmKc3Y Fixing A Hole - Remastered 2009 The Beatles Sgt. Pepper's Lonely Hearts Club Band (Remastered)\n",
      "1211/1755 : 3LtOmWpTXLhilL5odoKysR Getting Better - Remastered 2009 The Beatles Sgt. Pepper's Lonely Hearts Club Band (Remastered)\n"
     ]
    },
    {
     "name": "stdout",
     "output_type": "stream",
     "text": [
      "1212/1755 : 0xIuNHHcKI1JDuBPlSwzb1 Good Morning Good Morning - Remastered 2009 The Beatles Sgt. Pepper's Lonely Hearts Club Band (Remastered)\n",
      "1213/1755 : 6h9W5FxX4E9lUFsyq8j1AD Lovely Rita - Remastered 2009 The Beatles Sgt. Pepper's Lonely Hearts Club Band (Remastered)\n",
      "1214/1755 : 25yQPHgC35WNnnOUqFhgVR Lucy In The Sky With Diamonds - Remastered 2009 The Beatles Sgt. Pepper's Lonely Hearts Club Band (Remastered)\n"
     ]
    },
    {
     "name": "stdout",
     "output_type": "stream",
     "text": [
      "1215/1755 : 4fUKE8EULjQdHF4zb0M8FO Sgt. Pepper's Lonely Hearts Club Band - Remastered 2009 The Beatles Sgt. Pepper's Lonely Hearts Club Band (Remastered)\n",
      "1216/1755 : 42ocGQCOT0xYtV3f5kJDsD Sgt. Pepper's Lonely Hearts Club Band - Reprise / Remastered 2009 The Beatles Sgt. Pepper's Lonely Hearts Club Band (Remastered)\n",
      "1217/1755 : 3PjMtNzwhDHqxoKudm6GvF She's Leaving Home - Remastered 2009 The Beatles Sgt. Pepper's Lonely Hearts Club Band (Remastered)\n"
     ]
    },
    {
     "name": "stdout",
     "output_type": "stream",
     "text": [
      "artist:\"The Beatles\" album:\"Sgt Pepper's Lonely Hearts Club Band\" track:\"When I'm sixty four\" not in spotify\n",
      "1218/1755 : 1NrbnHlR2BFREcyWXHIHip When I'm Sixty Four - Remastered 2009 The Beatles Sgt. Pepper's Lonely Hearts Club Band (Remastered)\n",
      "1219/1755 : 2RnPATK99oGOZygnD2GTO6 With A Little Help From My Friends - Remastered 2009 The Beatles Sgt. Pepper's Lonely Hearts Club Band (Remastered)\n"
     ]
    },
    {
     "name": "stdout",
     "output_type": "stream",
     "text": [
      "1220/1755 : 3Umg8CDhO8dOSj7yBTInYb Within You Without You - Remastered 2009 The Beatles Sgt. Pepper's Lonely Hearts Club Band (Remastered)\n",
      "1221/1755 : 0j3p1p06deJ7f9xmJ9yG22 Back In The U.S.S.R. - Remastered 2009 The Beatles The Beatles (Remastered)\n",
      "1222/1755 : 1ABegtCPBMMJaMpfDyATjE Birthday - Remastered 2009 The Beatles The Beatles (Remastered)\n",
      "1223/1755 : 5jgFfDIR6FR0gvlA56Nakr Blackbird - Remastered 2009 The Beatles The Beatles (Remastered)\n"
     ]
    },
    {
     "name": "stdout",
     "output_type": "stream",
     "text": [
      "1224/1755 : 5XmetMMUFNXClbiYnGdVmP Cry Baby Cry - Remastered 2009 The Beatles The Beatles (Remastered)\n",
      "1225/1755 : 5NQYyej46WQkgCbnzGD21W Dear Prudence - Remastered 2009 The Beatles The Beatles (Remastered)\n",
      "1226/1755 : 4uKyLqJHDjT6mdA22ofxuM A Beginning (Take 4) / Don’t Pass Me By (Take 7) The Beatles The Beatles\n",
      "1227/1755 : 64P3zpRsDHIk7YTpRtaKYL Everybody's Got Something To Hide Except Me And My Monkey - Remastered 2009 The Beatles The Beatles (Remastered)\n"
     ]
    },
    {
     "name": "stdout",
     "output_type": "stream",
     "text": [
      "1228/1755 : 2jAojvUaPoHPFSPpF0UNRo Glass Onion - Remastered 2009 The Beatles The Beatles (Remastered)\n",
      "1229/1755 : 3T4Kt51PV4k8tx6YCtBgcl Good Night - Remastered 2009 The Beatles The Beatles (Remastered)\n",
      "1230/1755 : 71LsKf3xISiOlY1mj7FFPP Happiness Is A Warm Gun - Remastered 2009 The Beatles The Beatles (Remastered)\n",
      "1231/1755 : 0Bs0hUYxz7REyIHH7tRhL2 Helter Skelter - Remastered 2009 The Beatles The Beatles (Remastered)\n"
     ]
    },
    {
     "name": "stdout",
     "output_type": "stream",
     "text": [
      "1232/1755 : 1TPcNcmuKlq0PKpYOBgP1U Honey Pie - Remastered 2009 The Beatles The Beatles (Remastered)\n",
      "1233/1755 : 09x9v1o51dbqi5H0u7UGfp I Will - Remastered 2009 The Beatles The Beatles (Remastered)\n",
      "artist:\"The Beatles\" album:\"The Beatles\" track:\"I'm So Tired\" not in spotify\n",
      "1234/1755 : 2X9H5BokS1u5O46YpNYNsZ I'm So Tired - Remastered 2009 The Beatles The Beatles (Remastered)\n"
     ]
    },
    {
     "name": "stdout",
     "output_type": "stream",
     "text": [
      "1235/1755 : 2fS3WRUilBxRoFMk3HVaoW Julia - 2018 Mix The Beatles The Beatles\n",
      "1236/1755 : 40d2EcaOOCUjDzzo2YvUWn Long, Long, Long - Remastered 2009 The Beatles The Beatles (Remastered)\n",
      "1237/1755 : 1swmf4hFMJYRNA8Rq9PVaW Martha My Dear - Remastered 2009 The Beatles The Beatles (Remastered)\n",
      "1238/1755 : 6TjUg1cTUzWHbal6yQAi7c Mother Nature's Son - Remastered 2009 The Beatles The Beatles (Remastered)\n"
     ]
    },
    {
     "name": "stdout",
     "output_type": "stream",
     "text": [
      "1239/1755 : 1gFNm7cXfG1vSMcxPpSxec Ob-La-Di, Ob-La-Da - Remastered 2009 The Beatles The Beatles (Remastered)\n",
      "1240/1755 : 4ZmjfLdJXbqjAENqk7eWSE Piggies - Remastered 2009 The Beatles The Beatles (Remastered)\n",
      "1241/1755 : 5dZ8PeKKZJLIQAWNTdp8WX Revolution 9 - Remastered 2009 The Beatles The Beatles (Remastered)\n",
      "1242/1755 : 0xulhqNI2L3CoAe0CLe65V Revolution - Take 14 / Instrumental Backing Track The Beatles The Beatles\n"
     ]
    },
    {
     "name": "stdout",
     "output_type": "stream",
     "text": [
      "1243/1755 : 1ITQbrueGLl581a25XXm9c Rocky Raccoon - Remastered 2009 The Beatles The Beatles (Remastered)\n",
      "1244/1755 : 5iyCSUM7zzficwaGo8GIoc Savoy Truffle - Remastered 2009 The Beatles The Beatles (Remastered)\n",
      "1245/1755 : 2tBv9tAdqEbLNDi5smSjbg Sexy Sadie - Remastered 2009 The Beatles The Beatles (Remastered)\n",
      "1246/1755 : 5Z3Rd1fMcaty8g5Pn7yhBQ The Continuing Story Of Bungalow Bill - Remastered 2009 The Beatles The Beatles (Remastered)\n"
     ]
    },
    {
     "name": "stdout",
     "output_type": "stream",
     "text": [
      "1247/1755 : 389QX9Q1eUOEZ19vtzzI9O While My Guitar Gently Weeps - Remastered 2009 The Beatles The Beatles (Remastered)\n",
      "1248/1755 : 3BOMaaOFlOXCu00eyMbajU Why Don’t We Do It In The Road? - Take 5 The Beatles The Beatles\n",
      "1249/1755 : 6j67aNAPeQ31uw4qw4rpLa Wild Honey Pie - Remastered 2009 The Beatles The Beatles (Remastered)\n"
     ]
    },
    {
     "name": "stdout",
     "output_type": "stream",
     "text": [
      "1250/1755 : 2AsGApoUuN8pTM17Lq9eUd Yer Blues - Remastered 2009 The Beatles The Beatles (Remastered)\n",
      "1251/1755 : 4t0Pj3iBnSCZv5pDEPNmzG Jive Talkin' - From \"Saturday Night Fever\" Soundtrack Bee Gees Main Course\n",
      "1252/1755 : 2xSXw1EqGSAKc1e4TPaQvV Stayin' Alive - From \"Saturday Night Fever\" Soundtrack Bee Gees Saturday Night Fever (The Original Movie Soundtrack Deluxe Edition)\n",
      "1253/1755 : 5lN1EH25gdiqT1SFALMAq1 Gold on the Ceiling The Black Keys El Camino\n"
     ]
    },
    {
     "name": "stdout",
     "output_type": "stream",
     "text": [
      "1254/1755 : 5G1sTBGbZT5o4PNRc75RKI Lonely Boy The Black Keys El Camino\n",
      "1255/1755 : 2bMDlEQZBcci86Mh5iaf2O Sweet home chicago The Blues Brothers Tribute Band Chicago Blues (Music from the 'Blues Brothers' films)\n",
      "1256/1755 : 2yBVeksU2EtrPJbTu4ZslK What a Fool Believes The Doobie Brothers Minute by Minute\n",
      "1257/1755 : 2yBVeksU2EtrPJbTu4ZslK What a Fool Believes The Doobie Brothers Minute by Minute\n"
     ]
    },
    {
     "name": "stdout",
     "output_type": "stream",
     "text": [
      "artist:\"The Doors\" album:\"Weird Scenes Inside the Gold Mine\" track:\"(You Need Meat) Don't Go No Further\" not in spotify\n",
      "1258/1755 : 4tXaOxgfCzuiZoDwzQF4nh (You Need Meat) Don't Go No Further The Doors Weird Scenes Inside the Gold Mine\n",
      "1259/1755 : 1E7qCptwRPfvZrIDyDDgjh Been down so Long The Doors L.A. Woman\n"
     ]
    },
    {
     "name": "stdout",
     "output_type": "stream",
     "text": [
      "1260/1755 : 2Sjez1CwJv8Pz018CxKjWa Cars Hiss by My Window The Doors L.A. Woman\n",
      "1261/1755 : 14qbY7LbhcXwECCGqH2z7U Crawling King Snake The Doors L.A. Woman\n",
      "1262/1755 : 4nKmlUaUiUN4rpMGYnUPAu Hyacinth House The Doors L.A. Woman\n"
     ]
    },
    {
     "name": "stdout",
     "output_type": "stream",
     "text": [
      "1263/1755 : 6DmfWj5kOa1fX8AwN9byOn L.A. Woman The Doors L.A. Woman\n",
      "artist:\"The Doors\" album:\"L.A. Woman\" track:\"L'America\" not in spotify\n",
      "1264/1755 : 4RE79d7ACKfTPC7qE65xpi L'America The Doors L.A. Woman\n",
      "1265/1755 : 3MFFDRC4wTN9JNGtzXsZlN Love Her Madly The Doors L.A. Woman\n"
     ]
    },
    {
     "name": "stdout",
     "output_type": "stream",
     "text": [
      "1266/1755 : 14XWXWv5FoCbFzLksawpEe Riders on the Storm The Doors L.A. Woman\n",
      "1267/1755 : 3uqxwLp7Hs9sJhm4uVF8li The Changeling The Doors L.A. Woman\n",
      "1268/1755 : 6ieXnWm8uineF8k9Ugn5DG The WASP (Texas Radio and the Big Beat) The Doors L.A. Woman\n"
     ]
    },
    {
     "name": "stdout",
     "output_type": "stream",
     "text": [
      "1269/1755 : 42dsUTJpzMWUJfEkzsbKWl When the Music's Over The Doors Strange Days\n",
      "1270/1755 : 0JNZGIavoUrdup1NsgJOQs Alabama Song (Whisky Bar) The Doors The Doors\n",
      "1271/1755 : 03By6gD02qhtvIQiK8KidK Back Door Man The Doors The Doors\n"
     ]
    },
    {
     "name": "stdout",
     "output_type": "stream",
     "text": [
      "1272/1755 : 6ToM0uwxtPKo9CMpbPGYvM Break on Through (To the Other Side) The Doors The Doors\n",
      "1273/1755 : 09ezgACZuwWZt6CtQSSLRG End of the Night The Doors The Doors\n",
      "1274/1755 : 6vCLIvOIabRk1XQfMb6RXi I Looked at You The Doors The Doors\n",
      "1275/1755 : 5uvosCdMlFdTXhoazkTI5R Light My Fire The Doors The Doors\n",
      "1276/1755 : 2Xdc6qyaFBJZ8QW1KhpVci Soul Kitchen The Doors The Doors\n"
     ]
    },
    {
     "name": "stdout",
     "output_type": "stream",
     "text": [
      "1277/1755 : 4pxHVL0syMQwYK3BxDaTIs Take It as It Comes The Doors The Doors\n",
      "1278/1755 : 0gWvVB4bGvADocoPMEDy3K The Crystal Ship The Doors The Doors\n",
      "1279/1755 : 5UgT7w6zVZjP3oyawMzbiK The End The Doors The Doors\n",
      "1280/1755 : 7mc2TP4Vzuyw2vNf1bLW9f Twentieth Century Fox The Doors The Doors\n"
     ]
    },
    {
     "name": "stdout",
     "output_type": "stream",
     "text": [
      "1281/1755 : 55eILhe6Yr58TuLxHskVh1 Dawn Patrol The Eliminators Unleashed\n",
      "artist:\"The Killers\" album:\"Hot Fuss\" track:\"Somedy Told Me\" not in spotify\n",
      "artist:\"The Killers\" album:\"Hot Fuss\" track:\"Somedy Told Me\" not in spotify\n",
      "1283/1755 : 6jX5mso4x00c1EiNMrTU9U Please Mr. Postman The Marvelettes Please Mr. Postman\n"
     ]
    },
    {
     "name": "stdout",
     "output_type": "stream",
     "text": [
      "1284/1755 : 5JJDu0Z5DKe7mR31MGksSg Come Out and Play The Offspring Smash\n",
      "artist:\"The Police\" album:\"Outlandos d'Amour\" track:\"Be My Girl - Sally\" not in spotify\n",
      "1285/1755 : 4cHObLf8gg0XIvi7AsUPuJ Be My Girl - Sally The Police Outlandos D'Amour (Remastered 2003)\n",
      "artist:\"The Police\" album:\"Outlandos d'Amour\" track:\"Born In The 50's\" not in spotify\n"
     ]
    },
    {
     "name": "stdout",
     "output_type": "stream",
     "text": [
      "1286/1755 : 0RxrsIXyGkeV8JwEFUZMhg Born In The 50's The Police Outlandos D'Amour (Remastered 2003)\n",
      "artist:\"The Police\" album:\"Outlandos d'Amour\" track:\"Can't Stand Losing You\" not in spotify\n",
      "1287/1755 : 6DjKJgwe9c90Bd2iya0fre Can't Stand Losing You The Police Outlandos D'Amour (Remastered 2003)\n",
      "artist:\"The Police\" album:\"Outlandos d'Amour\" track:\"Hole In My Life\" not in spotify\n"
     ]
    },
    {
     "name": "stdout",
     "output_type": "stream",
     "text": [
      "1288/1755 : 25McPIqh9oSdPSP36Gu7Jp Hole In My Life The Police Outlandos D'Amour (Remastered 2003)\n",
      "artist:\"The Police\" album:\"Outlandos d'Amour\" track:\"Masoko Tanga\" not in spotify\n",
      "1289/1755 : 4i4zjkLYGOwHXbNTnsesGe Masoko Tanga The Police Outlandos D'Amour (Remastered 2003)\n",
      "artist:\"The Police\" album:\"Outlandos d'Amour\" track:\"Next To You\" not in spotify\n"
     ]
    },
    {
     "name": "stdout",
     "output_type": "stream",
     "text": [
      "1290/1755 : 7HjipY3Vy2HAN11D2juKHT Next To You The Police Outlandos D'Amour (Remastered 2003)\n",
      "artist:\"The Police\" album:\"Outlandos d'Amour\" track:\"Peanuts\" not in spotify\n",
      "1291/1755 : 7Jsli31ZTv3TI28qcXzEkE Peanuts The Police Outlandos D'Amour (Remastered 2003)\n",
      "artist:\"The Police\" album:\"Outlandos d'Amour\" track:\"Roxanne\" not in spotify\n"
     ]
    },
    {
     "name": "stdout",
     "output_type": "stream",
     "text": [
      "1292/1755 : 3EYOJ48Et32uATr9ZmLnAo Roxanne The Police Outlandos D'Amour (Remastered 2003)\n",
      "artist:\"The Police\" album:\"Outlandos d'Amour\" track:\"So Lonely\" not in spotify\n",
      "1293/1755 : 2wnsBaxrmkthIFAm6vqCuX So Lonely The Police Outlandos D'Amour (Remastered 2003)\n",
      "artist:\"The Police\" album:\"Outlandos d'Amour\" track:\"Truth Hits Everybody\" not in spotify\n"
     ]
    },
    {
     "name": "stdout",
     "output_type": "stream",
     "text": [
      "1294/1755 : 4pLhVO0JuMiFDSJYDiGP7S Truth Hits Everybody The Police Outlandos D'Amour (Remastered 2003)\n",
      "artist:\"The Pretenders\" album:\"Break Up the Concrete\" track:\"Almost Perfect\" not in spotify\n",
      "artist:\"The Pretenders\" album:\"Break Up the Concrete\" track:\"Almost Perfect\" not in spotify\n",
      "artist:\"The Pretenders\" album:\"Break Up the Concrete\" track:\"Boots of Chinese Plastic\" not in spotify\n"
     ]
    },
    {
     "name": "stdout",
     "output_type": "stream",
     "text": [
      "artist:\"The Pretenders\" album:\"Break Up the Concrete\" track:\"Boots of Chinese Plastic\" not in spotify\n",
      "artist:\"The Pretenders\" album:\"Break Up the Concrete\" track:\"Break Up the Concrete\" not in spotify\n",
      "artist:\"The Pretenders\" album:\"Break Up the Concrete\" track:\"Break Up the Concrete\" not in spotify\n",
      "artist:\"The Pretenders\" album:\"Break Up the Concrete\" track:\"Don't Cut Your Hair\" not in spotify\n"
     ]
    },
    {
     "name": "stdout",
     "output_type": "stream",
     "text": [
      "artist:\"The Pretenders\" album:\"Break Up the Concrete\" track:\"Dont Cut Your Hair\" not in spotify\n",
      "artist:\"The Pretenders\" album:\"Break Up the Concrete\" track:\"Don't Cut Your Hair\" not in spotify\n",
      "artist:\"The Pretenders\" album:\"Break Up the Concrete\" track:\"Dont Cut Your Hair\" not in spotify\n",
      "artist:\"The Pretenders\" album:\"Break Up the Concrete\" track:\"Don't Lose Faith in Me\" not in spotify\n"
     ]
    },
    {
     "name": "stdout",
     "output_type": "stream",
     "text": [
      "artist:\"The Pretenders\" album:\"Break Up the Concrete\" track:\"Dont Lose Faith in Me\" not in spotify\n",
      "artist:\"The Pretenders\" album:\"Break Up the Concrete\" track:\"Don't Lose Faith in Me\" not in spotify\n",
      "artist:\"The Pretenders\" album:\"Break Up the Concrete\" track:\"Dont Lose Faith in Me\" not in spotify\n",
      "artist:\"The Pretenders\" album:\"Break Up the Concrete\" track:\"Love's a Mystery\" not in spotify\n"
     ]
    },
    {
     "name": "stdout",
     "output_type": "stream",
     "text": [
      "artist:\"The Pretenders\" album:\"Break Up the Concrete\" track:\"Loves a Mystery\" not in spotify\n",
      "artist:\"The Pretenders\" album:\"Break Up the Concrete\" track:\"Love's a Mystery\" not in spotify\n",
      "artist:\"The Pretenders\" album:\"Break Up the Concrete\" track:\"Loves a Mystery\" not in spotify\n",
      "artist:\"The Pretenders\" album:\"Break Up the Concrete\" track:\"One thing never changed\" not in spotify\n"
     ]
    },
    {
     "name": "stdout",
     "output_type": "stream",
     "text": [
      "artist:\"The Pretenders\" album:\"Break Up the Concrete\" track:\"One thing never changed\" not in spotify\n",
      "artist:\"The Pretenders\" album:\"Break Up the Concrete\" track:\"Rosalee\" not in spotify\n",
      "artist:\"The Pretenders\" album:\"Break Up the Concrete\" track:\"Rosalee\" not in spotify\n",
      "artist:\"The Pretenders\" album:\"Break Up the Concrete\" track:\"The Last Ride\" not in spotify\n"
     ]
    },
    {
     "name": "stdout",
     "output_type": "stream",
     "text": [
      "artist:\"The Pretenders\" album:\"Break Up the Concrete\" track:\"The Last Ride\" not in spotify\n",
      "artist:\"The Pretenders\" album:\"Break Up the Concrete\" track:\"The Nothing Maker\" not in spotify\n",
      "artist:\"The Pretenders\" album:\"Break Up the Concrete\" track:\"The Nothing Maker\" not in spotify\n",
      "artist:\"The Pretenders\" album:\"Break Up the Concrete\" track:\"You Didn't Have To\" not in spotify\n"
     ]
    },
    {
     "name": "stdout",
     "output_type": "stream",
     "text": [
      "artist:\"The Pretenders\" album:\"Break Up the Concrete\" track:\"You Didnt Have To\" not in spotify\n",
      "artist:\"The Pretenders\" album:\"Break Up the Concrete\" track:\"You Didn't Have To\" not in spotify\n",
      "artist:\"The Pretenders\" album:\"Break Up the Concrete\" track:\"You Didnt Have To\" not in spotify\n",
      "artist:\"The Ramones\" album:\"Ramones\" track:\"Blitzkrieg Bop\" not in spotify\n"
     ]
    },
    {
     "name": "stdout",
     "output_type": "stream",
     "text": [
      "artist:\"The Ramones\" album:\"Ramones\" track:\"Blitzkrieg Bop\" not in spotify\n",
      "1307/1755 : 63T7DJ1AFDD6Bn8VzG6JE8 Paint It, Black The Rolling Stones Aftermath\n",
      "artist:\"The Rolling Stones\" album:\"Out of Our Heads\" track:\"(I Can't Get No) Satisfaction\" not in spotify\n",
      "1308/1755 : 2PzU4IB8Dr6mxV3lHuaG34 (I Can't Get No) Satisfaction - Mono Version The Rolling Stones Out Of Our Heads\n"
     ]
    },
    {
     "name": "stdout",
     "output_type": "stream",
     "text": [
      "1309/1755 : 77oU2rjC5XbjQfNe3bD6so Beast Of Burden - Remastered The Rolling Stones Some Girls\n",
      "artist:\"The Shutes\" album:\"Bright Blue Berlin Sky\" track:\"Echo Of Love\" not in spotify\n",
      "artist:\"The Shutes\" album:\"Bright Blue Berlin Sky\" track:\"Echo Of Love\" not in spotify\n",
      "1311/1755 : 3OU1TaxefnJrxm7gVpZq51 Armageddon The Skints Swimming Lessons\n"
     ]
    },
    {
     "name": "stdout",
     "output_type": "stream",
     "text": [
      "1312/1755 : 6Kk46fXJWriWBwTh6rfay2 Donkey Brain The Skints Swimming Lessons\n",
      "1313/1755 : 2QZ0rJCSCfuo2cRsoptO4a Gets on Top The Skints Swimming Lessons\n",
      "artist:\"The Skints\" album:\"Swimming Lessons\" track:\"I'm a Fool\" not in spotify\n"
     ]
    },
    {
     "name": "stdout",
     "output_type": "stream",
     "text": [
      "1314/1755 : 2D6Q5wQg2vaEuAfgnQRKhR I'm a Fool The Skints Swimming Lessons\n",
      "1315/1755 : 2F1ysPPYrlI4RIHwSd7qd9 La La La The Skints Swimming Lessons\n",
      "1316/1755 : 5XHGZcIrXtjvoh4rqv4bjT Learning to Swim The Skints Swimming Lessons\n",
      "1317/1755 : 0cakdPE5dWLVpmixFmp6TH Love Is the Devil The Skints Swimming Lessons\n"
     ]
    },
    {
     "name": "stdout",
     "output_type": "stream",
     "text": [
      "1318/1755 : 2yw3rO5pGDWn3dMfCyJRSo New Kind of Friend The Skints Swimming Lessons\n",
      "1319/1755 : 0Fv9n1TzpaTeVwLnelLOR1 Oh My Love The Skints Swimming Lessons\n",
      "1320/1755 : 7jvC2woJfi3u84ddfKVgz2 Restless The Skints Swimming Lessons\n"
     ]
    },
    {
     "name": "stdout",
     "output_type": "stream",
     "text": [
      "1321/1755 : 3RgRfFiwW1KeFwtjkeoqgN Stop Looking Back The Skints Swimming Lessons\n",
      "1322/1755 : 4zbfrfveOvsjCK6M8IPh0F The Island The Skints Swimming Lessons\n",
      "1323/1755 : 698welLY3osMJ3j2d8RBD3 This Is an Interlude The Skints Swimming Lessons\n",
      "artist:\"The Skints\" album:\"Swimming Lessons\" track:\"What Did I Learned Today?\" not in spotify\n"
     ]
    },
    {
     "name": "stdout",
     "output_type": "stream",
     "text": [
      "artist:\"The Skints\" album:\"Swimming Lessons\" track:\"What Did I Learned Today?\" not in spotify\n",
      "1325/1755 : 7ledv9CTjqdwnvHgRmETyZ Flowers On the Wall The Statler Brothers Flowers On The Wall: The Essential Statler Brothers 1964-1969\n",
      "1326/1755 : 57Xjny5yNzAcsxnusKmAfA Reptilia The Strokes Room On Fire\n"
     ]
    },
    {
     "name": "stdout",
     "output_type": "stream",
     "text": [
      "1327/1755 : 5jUA1njy3h6ynHLvPdEVHt Disco Inferno - LP / 12\" Version The Trammps Disco Inferno\n",
      "1328/1755 : 1JO1xLtVc8mWhIoE3YaCL0 Happy Together The Turtles Happy Together\n",
      "1329/1755 : 47wPvRG8FEwbZP22UBgTQr Seven Nation Army The White Stripes Elephant\n",
      "artist:\"The Who\" album:\"Who's Next\" track:\"Baba O'Riley\" not in spotify\n"
     ]
    },
    {
     "name": "stdout",
     "output_type": "stream",
     "text": [
      "1330/1755 : 3qiyyUfYe7CRYLucrPmulD Baba O'Riley The Who Who's Next\n",
      "artist:\"The Who\" album:\"Who's Next\" track:\"Won't Get Fooled Again\" not in spotify\n",
      "1331/1755 : 0cJPLFrlV7TTCyPLupHzcH Won't Get Fooled Again - Original Album Version The Who Who's Next\n",
      "1332/1755 : 43DeSV93pJPT4lCZaWZ6b1 The Boys Are Back In Town Thin Lizzy Jailbreak (Deluxe Edition)\n"
     ]
    },
    {
     "name": "stdout",
     "output_type": "stream",
     "text": [
      "1333/1755 : 6rUp7v3l8yC4TKxAAR5Bmx I Hate Everything About You Three Days Grace Three Days Grace (Deluxe Version)\n",
      "artist:\"Todd Terje\" album:\"It's Album Time\" track:\"Alfonso Muskender\" not in spotify\n",
      "artist:\"Todd Terje\" album:\"Its Album Time\" track:\"Alfonso Muskender\" not in spotify\n",
      "artist:\"Todd Terje\" album:\"It's Album Time\" track:\"Alfonso Muskender\" not in spotify\n"
     ]
    },
    {
     "name": "stdout",
     "output_type": "stream",
     "text": [
      "artist:\"Todd Terje\" album:\"Its Album Time\" track:\"Alfonso Muskender\" not in spotify\n",
      "artist:\"Todd Terje\" album:\"It's Album Time\" track:\"Dolorean Dynamite\" not in spotify\n",
      "artist:\"Todd Terje\" album:\"Its Album Time\" track:\"Dolorean Dynamite\" not in spotify\n",
      "artist:\"Todd Terje\" album:\"It's Album Time\" track:\"Dolorean Dynamite\" not in spotify\n"
     ]
    },
    {
     "name": "stdout",
     "output_type": "stream",
     "text": [
      "artist:\"Todd Terje\" album:\"Its Album Time\" track:\"Dolorean Dynamite\" not in spotify\n",
      "1336/1755 : 01txDiOnBPfMrVQwPQtDHR Inspector Norse Todd Terje It's Album Time\n",
      "1337/1755 : 60EtWSoDRJSFmg99MKZi0x Intro (It's Album Time) Todd Terje It's Album Time\n"
     ]
    },
    {
     "name": "stdout",
     "output_type": "stream",
     "text": [
      "1338/1755 : 07Wr8BA8v4hsvczK43fZw4 Oh Joy Todd Terje It's Album Time\n",
      "1339/1755 : 7vUbnU8XibkKccpuoyWqIm Preben Goes to Acapulco Todd Terje It's Album Time\n",
      "1340/1755 : 6reLfBSO38qmFgHgz6kAs0 Strandbar Todd Terje It's Album Time\n",
      "1341/1755 : 0Def9GQnjyliBmy7LmoXvn Svensk Sås Todd Terje It's Album Time\n"
     ]
    },
    {
     "name": "stdout",
     "output_type": "stream",
     "text": [
      "1342/1755 : 0z6QVQ6FbgHFi6qVyh8xSh Swing Star, Pt. 1 Todd Terje It's Album Time\n",
      "1343/1755 : 2z6OostMhIFP6JmpQazDIL Swing Star, Pt. 2 Todd Terje It's Album Time\n",
      "1344/1755 : 1zkdB1DXcduNBqtESrvRAj Mjøndalen Diskoklubb Todd Terje Mjøndalen Diskoklubb\n",
      "1345/1755 : 7nNKbWdmUqKHGfgipRborS A Distant Closeness Tommy Guerrero Road to Knowhere\n"
     ]
    },
    {
     "name": "stdout",
     "output_type": "stream",
     "text": [
      "1346/1755 : 46TKHBSVXIOYjfi3pp6X7F El camino negro Tommy Guerrero Road to Knowhere\n",
      "1347/1755 : 2Rh8lX6vMw4gPWbB9hyEO3 Headin West - Bonus Track Tommy Guerrero Road to Knowhere\n",
      "1348/1755 : 4gvwWBH2sM1nK8Jf0MJNK1 Heat in the Streets Tommy Guerrero Road to Knowhere\n"
     ]
    },
    {
     "name": "stdout",
     "output_type": "stream",
     "text": [
      "1349/1755 : 1rJaiv1oQkEL0DdBoKarPA Highway Hustle Tommy Guerrero Road to Knowhere\n",
      "1350/1755 : 7l5DDOzlf8q5S87KbrNI16 Los padres Tommy Guerrero Road to Knowhere\n",
      "1351/1755 : 2u4sit6Khr9SMHDAzLNzPs Postcard Home Tommy Guerrero Road to Knowhere\n",
      "1352/1755 : 2fllsdGix2LLcVYufzKtMq Sidewalk Soul Tommy Guerrero Road to Knowhere\n"
     ]
    },
    {
     "name": "stdout",
     "output_type": "stream",
     "text": [
      "1353/1755 : 5RuoRiA2VuewUvCBn3Tqrp Silent Miles - Bonus Track Tommy Guerrero Road to Knowhere\n",
      "1354/1755 : 1f6zaaYNBHcEDi8flDfsSg Slow Roll Tommy Guerrero Road to Knowhere\n",
      "1355/1755 : 7D96SLwZnOBC0v3dpOPsEt The Endless Road Tommy Guerrero Road to Knowhere\n",
      "1356/1755 : 75WWE2KDn0vU9kWoYl8T9S Where Water Once Was Tommy Guerrero Road to Knowhere\n"
     ]
    },
    {
     "name": "stdout",
     "output_type": "stream",
     "text": [
      "1357/1755 : 3EhuEeTQP2tAICvTakOEYF White Sands Tommy Guerrero Road to Knowhere\n",
      "1358/1755 : 4OhqsmPMreC0EFCo3OmDSm 10,000 Days (Wings Pt 2) TOOL 10,000 Days\n",
      "1359/1755 : 2ae6mkuD2gJnJQADl488et Intension TOOL 10,000 Days\n",
      "1360/1755 : 2gbPu2QNqhnnqtfK3yyeZ0 Jambi TOOL 10,000 Days\n"
     ]
    },
    {
     "name": "stdout",
     "output_type": "stream",
     "text": [
      "1361/1755 : 7dP42zpNCIsEHlnRLZGo0i Lipan Conjuring TOOL 10,000 Days\n",
      "1362/1755 : 0PLtBp8VchqMaJMl4abJaZ Lost Keys (Blame Hofman) TOOL 10,000 Days\n",
      "1363/1755 : 0NLDZzVke3Qu7vDhWyGzRk Right In Two TOOL 10,000 Days\n",
      "1364/1755 : 0D8l86LXxKcgKAO17DfQsl Rosetta Stoned TOOL 10,000 Days\n"
     ]
    },
    {
     "name": "stdout",
     "output_type": "stream",
     "text": [
      "1365/1755 : 1lATXTBJDHwawvT1UfxWu3 The Pot TOOL 10,000 Days\n",
      "1366/1755 : 65ShmiE5aLBdcIGr7tHX35 Vicarious TOOL 10,000 Days\n",
      "1367/1755 : 1A00hgLu1S7Q3GNMAjs5mX Viginti Tres TOOL 10,000 Days\n",
      "1368/1755 : 1BDuMlv8zbeBmwFEBmE6N9 Wings For Marie (Pt 1) TOOL 10,000 Days\n"
     ]
    },
    {
     "name": "stdout",
     "output_type": "stream",
     "text": [
      "1369/1755 : 0KCdkjFn7as5rME8dInqGQ (-) Ions TOOL Ænima\n",
      "1370/1755 : 0nLOl4fSiBZKGFla5pLUtf Ænema TOOL Ænima\n",
      "1371/1755 : 6xttnk5U2VMVCaihaD0RPE Cesaro Summability TOOL Ænima\n",
      "1372/1755 : 2uzCJ4ckvFhv6F9Q1CMkys Die Eier von Satan TOOL Ænima\n"
     ]
    },
    {
     "name": "stdout",
     "output_type": "stream",
     "text": [
      "1373/1755 : 0RVFjx2HwbHcl5SCSADpFP Eulogy TOOL Ænima\n"
     ]
    },
    {
     "name": "stdout",
     "output_type": "stream",
     "text": [
      "1374/1755 : 6AioOohg4bQZFA4jIYQQ2r Forty Six & 2 TOOL Ænima\n",
      "1375/1755 : 3S4G4SL15Cp4CvAfmye8um Hooker With A Penis TOOL Ænima\n"
     ]
    },
    {
     "name": "stdout",
     "output_type": "stream",
     "text": [
      "1376/1755 : 3S4G4SL15Cp4CvAfmye8um Hooker With A Penis TOOL Ænima\n",
      "1377/1755 : 56IPgOpV9w1suGl7Lu9qeZ Intermission TOOL Ænima\n",
      "1378/1755 : 09KJ3XQZ9RQ5prbSp59Wbc Jimmy TOOL Ænima\n"
     ]
    },
    {
     "name": "stdout",
     "output_type": "stream",
     "text": [
      "1379/1755 : 13aTOYQ4xvj84VACPu9zur Message To Harry Manback TOOL Ænima\n",
      "1380/1755 : 4CbHM5bpfOfMNxNgVDHJRw Pushit TOOL Ænima\n",
      "1381/1755 : 0pwObEOHolQZSldJ2q1wpy Stinkfist TOOL Ænima\n",
      "1382/1755 : 2Dqg2mRbfIVKhBZleNrgmH Third Eye TOOL Ænima\n"
     ]
    },
    {
     "name": "stdout",
     "output_type": "stream",
     "text": [
      "1383/1755 : 5Ca9qZBftB2kGmuUOoJoea Useful Idiot TOOL Ænima\n",
      "1384/1755 : 0gGfmw4csswZmFPj9YK8GW 7empest TOOL Fear Inoculum\n",
      "1385/1755 : 3VcEEhf6NL8oq2e1IxFUVM Chocolate Chip Trip TOOL Fear Inoculum\n",
      "1386/1755 : 3gPxMQWDMSEyPXMtzbcDdQ Culling Voices TOOL Fear Inoculum\n"
     ]
    },
    {
     "name": "stdout",
     "output_type": "stream",
     "text": [
      "1387/1755 : 0aTiUssEOy0Mt69bsavj6K Descending TOOL Fear Inoculum\n",
      "1388/1755 : 39zWYYZStDgWi32sOU9AX4 Fear Inoculum TOOL Fear Inoculum\n",
      "1389/1755 : 2xKDKtJBLDPd7BF3VmSQQO Invincible TOOL Fear Inoculum\n",
      "1390/1755 : 48C0O5CXfQdfjUCUhOs1YP Legion Inoculant TOOL Fear Inoculum\n"
     ]
    },
    {
     "name": "stdout",
     "output_type": "stream",
     "text": [
      "1391/1755 : 4qE9yOgBNsARadpZTAb6RH Litanie contre la Peur TOOL Fear Inoculum\n",
      "1392/1755 : 5aDylkK93g6SvfTPJTXq4L Mockingbeat TOOL Fear Inoculum\n",
      "1393/1755 : 03sEzk1VyrUZSgyhoQR0LZ Pneuma TOOL Fear Inoculum\n"
     ]
    },
    {
     "name": "stdout",
     "output_type": "stream",
     "text": [
      "1394/1755 : 1FRlNrHd4OGNIEVgFuX9Fu Disposition TOOL Lateralus\n",
      "1395/1755 : 5aVJ5rv7ghWSkQaqP726tE Eon Blue Apocalypse TOOL Lateralus\n",
      "1396/1755 : 3oEgMtjTzGgXTFdO0IW2M7 Faaip De Oiad TOOL Lateralus\n",
      "1397/1755 : 7tvuLLroI0n6uYBWuFig5d Lateralus TOOL Lateralus\n"
     ]
    },
    {
     "name": "stdout",
     "output_type": "stream",
     "text": [
      "1398/1755 : 4KVTRIZIj1WWIxitbREDnK Mantra TOOL Lateralus\n",
      "1399/1755 : 1vxu8vMNshg5J8z3oA7QJZ Parabola TOOL Lateralus\n",
      "1400/1755 : 1vxu8vMNshg5J8z3oA7QJZ Parabola TOOL Lateralus\n",
      "1401/1755 : 0R7HFX1LW3E0ZR5BnAJLHz Reflection TOOL Lateralus\n"
     ]
    },
    {
     "name": "stdout",
     "output_type": "stream",
     "text": [
      "1402/1755 : 55mJleti2WfWEFNFcBduhc Schism TOOL Lateralus\n",
      "1403/1755 : 6ZsZxNP4Iwdyp3kd5oFFQN The Grudge TOOL Lateralus\n",
      "1404/1755 : 0Klbxk3g96Qae4DbCnUNcT The Patient TOOL Lateralus\n",
      "1405/1755 : 0Cnx6PGogxIE2RnDcnoeK8 Ticks & Leeches TOOL Lateralus\n"
     ]
    },
    {
     "name": "stdout",
     "output_type": "stream",
     "text": [
      "1406/1755 : 2D9rd6TIpqmDkog5Mx8kxl Triad TOOL Lateralus\n",
      "1407/1755 : 4aVuWgvD0X63hcOCnZtNFA Hold the Line TOTO Toto\n",
      "1408/1755 : 15RB3lFt2Mhc16m5fTTYkh Hey Oh - Radio Edit Tragédie Tragédie (Édition Deluxe)\n",
      "artist:\"Twenty One Pilots\" album:\"Blurry Face\" track:\"Ride\" not in spotify\n"
     ]
    },
    {
     "name": "stdout",
     "output_type": "stream",
     "text": [
      "artist:\"Twenty One Pilots\" album:\"Blurry Face\" track:\"Ride\" not in spotify\n",
      "1410/1755 : 4o6dYxgEN6ZIlY8rwdrSPz Panama - 2004 Remaster Van Halen The Very Best of Van Halen (UK Release)\n",
      "artist:\"Vance Joy\" album:\"God Loves You When You're Dancing\" track:\"Riptide\" not in spotify\n",
      "1411/1755 : 423RKXolCbgBbkF8WanOwA Riptide Vance Joy God Loves You When You're Dancing\n"
     ]
    },
    {
     "name": "stdout",
     "output_type": "stream",
     "text": [
      "1412/1755 : 2QKYfkH616UOHRQJlxWaVu Heaven Nor Hell Volbeat Beyond Hell / Above Heaven\n",
      "1413/1755 : 48wH8bAxvBJO2l14GmNLz7 Wait for the Moment Vulfpeck My First Car\n",
      "1414/1755 : 6ZyuNGpj7FQDT9vklQlmJA 1 for 1, DiMaggio Vulfpeck The Beautiful Game\n",
      "1415/1755 : 1SHA4IJyiyNobDOrQzFFXy Animal Spirits Vulfpeck The Beautiful Game\n"
     ]
    },
    {
     "name": "stdout",
     "output_type": "stream",
     "text": [
      "1416/1755 : 6vzRQHItVGIT94q33HvRZx Aunt Leslie Vulfpeck The Beautiful Game\n",
      "1417/1755 : 5vmFVIJV9XN1l01YsFuKL3 Conscious Club Vulfpeck The Beautiful Game\n",
      "1418/1755 : 1L9qsoNnyT3r8fgr2Pr7Ty Cory Wong Vulfpeck The Beautiful Game\n",
      "1419/1755 : 2WbKDH7BbDUHqACsZH0KVW Daddy, He Got a Tesla Vulfpeck The Beautiful Game\n"
     ]
    },
    {
     "name": "stdout",
     "output_type": "stream",
     "text": [
      "1420/1755 : 1oOD1pV43cV9sHg97aBdLs Dean Town Vulfpeck The Beautiful Game\n",
      "1421/1755 : 4dwUJK6Za2KRrj8z0BM2Ab El Chepe Vulfpeck The Beautiful Game\n",
      "1422/1755 : 5h3MfjJrSPqKTZ7F4wyHg9 Margery, My First Car Vulfpeck The Beautiful Game\n",
      "1423/1755 : 73bJahLiTR2RAfXd3aNn1p The Sweet Science Vulfpeck The Beautiful Game\n"
     ]
    },
    {
     "name": "stdout",
     "output_type": "stream",
     "text": [
      "1424/1755 : 1DrlLvlYd1FIjNavRm6NdX Back Pocket Vulfpeck Thrill of the Arts\n",
      "1425/1755 : 1CyAxM93XN2atUBykXFWPX Game Winner Vulfpeck Thrill of the Arts\n",
      "1426/1755 : 7LygtNjQ65PSdzVjUnHXQb Cherry Pie Warrant Cherry Pie\n",
      "artist:\"Weezer\" album:\"Weezer (Blue Album)\" track:\"Say It Ain't So\" not in spotify\n"
     ]
    },
    {
     "name": "stdout",
     "output_type": "stream",
     "text": [
      "artist:\"Weezer\" album:\"Weezer (Blue Album)\" track:\"Say It Aint So\" not in spotify\n",
      "artist:\"Weezer\" album:\"Weezer (Blue Album)\" track:\"Say It Ain't So\" not in spotify\n",
      "artist:\"Weezer\" album:\"Weezer (Blue Album)\" track:\"Say It Aint So\" not in spotify\n",
      "1428/1755 : 2MLHyLy5z5l5YRp7momlgw Island In The Sun Weezer Weezer (Green Album)\n"
     ]
    },
    {
     "name": "stdout",
     "output_type": "stream",
     "text": [
      "1429/1755 : 62Pp6exz0ywSlBqvNqiY6Z Anissa Wejdene Anissa\n",
      "1430/1755 : 4jeOc5YrcgFdjgOQqSahd1 Caged Within Temptation Mother Earth\n",
      "1431/1755 : 5cEc0OHUUMfD5MVfFdizR6 Dark Wings Within Temptation Mother Earth\n"
     ]
    },
    {
     "name": "stdout",
     "output_type": "stream",
     "text": [
      "1432/1755 : 5aygztsY9IOUz4lBd0M4Ru Deceiver Of Fools Within Temptation Mother Earth\n",
      "1433/1755 : 4GbYLpSqf2Trkwqgb7p1os Ice Queen Within Temptation Mother Earth\n",
      "1434/1755 : 0HltrGBDkljdqfsK7ZlKPB In Perfect Harmony Within Temptation Mother Earth\n"
     ]
    },
    {
     "name": "stdout",
     "output_type": "stream",
     "text": [
      "1435/1755 : 0Ggzy6UEomashfAkKHzcQr Mother Earth Within Temptation Mother Earth\n",
      "1436/1755 : 6eb2kEFO4SsyUTlFMU1ZZF Never Ending Story - Extended Version Within Temptation Mother Earth\n",
      "1437/1755 : 0ClEsmX3to1Rb4tcHkYmOL Our Farewell Within Temptation Mother Earth\n",
      "1438/1755 : 6gjIe22qtRjVv22mU3spo3 The Promise Within Temptation Mother Earth\n"
     ]
    },
    {
     "name": "stdout",
     "output_type": "stream",
     "text": [
      "1439/1755 : 4BhqnM5lktowwfHqq2JYhg All I Need Within Temptation The Heart of Everything\n",
      "1440/1755 : 3nehrTMRyizLW3WgRcbNTQ Final Destination Within Temptation The Heart of Everything\n",
      "1441/1755 : 5JY8IIwlpMZnSvL20SKpGp Forgiven Within Temptation The Heart of Everything\n",
      "1442/1755 : 0QAvJ73wGHw7IC3sis4nLE Frozen Within Temptation The Heart of Everything\n"
     ]
    },
    {
     "name": "stdout",
     "output_type": "stream",
     "text": [
      "1443/1755 : 61i8W3gHpGUAIDlQj5UUAE Hand of Sorrow Within Temptation The Heart of Everything\n",
      "1444/1755 : 1jCPzDzUzhCVX75KLqrzCw Our Solemn Hour Within Temptation The Heart of Everything\n",
      "1445/1755 : 19NDUvqNirVCmuANBl8RDA Stand My Ground - Acoustic Within Temptation The Heart Of Everything\n",
      "1446/1755 : 1KevyDCwAT6BV74uNrz6CS The Cross Within Temptation The Heart Of Everything\n"
     ]
    },
    {
     "name": "stdout",
     "output_type": "stream",
     "text": [
      "1447/1755 : 2JLdwAyDK1rkd4KAlw39XT The Heart of Everything Within Temptation The Heart Of Everything\n",
      "1448/1755 : 6HQWzxzoM0d3KSOHRREDie The Howling Within Temptation The Heart of Everything\n",
      "1449/1755 : 1hVoVHuzYmnLWGZ557vlBf The Truth Beneath the Rose Within Temptation The Heart of Everything\n",
      "1450/1755 : 66wcihY2Y8ZSqux6EivMWa What Have You Done (feat. Keith Caputo) Within Temptation The Heart of Everything\n"
     ]
    },
    {
     "name": "stdout",
     "output_type": "stream",
     "text": [
      "1451/1755 : 6ivwIJGFnzTRPG2dHvKA07 A Demon's Fate Within Temptation The Unforgiving\n",
      "1452/1755 : 28HX0PibeXSL6cfAsvwSgD Faster Within Temptation The Unforgiving\n",
      "1453/1755 : 6csM0wZoLKtrPcgcTjCW66 Fire and Ice Within Temptation The Unforgiving\n",
      "1454/1755 : 05CT0U9WFHAaVHtIB7VGRW In the Middle of the Night Within Temptation The Unforgiving\n"
     ]
    },
    {
     "name": "stdout",
     "output_type": "stream",
     "text": [
      "1455/1755 : 1JVF9NpxbaonRnkahl21HB Iron Within Temptation The Unforgiving\n",
      "1456/1755 : 0v2Ad5NPKP8LKv48m0pVHx Lost Within Temptation The Unforgiving\n",
      "1457/1755 : 2jqY8obpAxIp0cjg3kwlH8 Murder Within Temptation The Unforgiving\n"
     ]
    },
    {
     "name": "stdout",
     "output_type": "stream",
     "text": [
      "1458/1755 : 26YgbkXAjVMrR4Wqokh5HN Shot in the Dark Within Temptation The Unforgiving\n",
      "1459/1755 : 5cDxKJn3hVPesXaZZZChPY Sinéad Within Temptation The Unforgiving\n",
      "1460/1755 : 57H1nsxngz6OnXLLOzXZTf Stairway to the Skies Within Temptation The Unforgiving\n",
      "1461/1755 : 3MGoTdExMjBuJzaaFv8HbY Where Is the Edge Within Temptation The Unforgiving\n"
     ]
    },
    {
     "name": "stdout",
     "output_type": "stream",
     "text": [
      "1462/1755 : 4syPlsQHh78fTKEIEzzSAc Cans and Brahms - 2003 Remaster Yes Fragile (Deluxe Edition)\n",
      "1463/1755 : 5geV4ZJrvcQtbKIixrnwB6 Five per Cent for Nothing - 2003 Remaster Yes Fragile (Deluxe Edition)\n",
      "1464/1755 : 7gC6Rbllqf1yXNC02e5jz2 Heart of the Sunrise - 2003 Remaster Yes Fragile (Deluxe Edition)\n",
      "1465/1755 : 5vfoqFiW6wXwhwa7r523Iq Long Distance Runaround - 2003 Remaster Yes Fragile (Deluxe Edition)\n"
     ]
    },
    {
     "name": "stdout",
     "output_type": "stream",
     "text": [
      "1466/1755 : 7nxmJPzgJZIG2dGBEV0U0G Mood for a Day - 2003 Remaster Yes Fragile (Deluxe Edition)\n",
      "1467/1755 : 0YveezON7jpiaHA8fnUHxN Roundabout - 2003 Remaster Yes Fragile (Deluxe Edition)\n",
      "1468/1755 : 1Bey85529sRbLZHMLsrhAd South Side of the Sky - 2003 Remaster Yes Fragile (Deluxe Edition)\n"
     ]
    },
    {
     "name": "stdout",
     "output_type": "stream",
     "text": [
      "1469/1755 : 6VGX9kEqcMZfAzfETmSn9h The Fish (Schindleria Praemeturus) - 2003 Remaster Yes Fragile (Deluxe Edition)\n",
      "1470/1755 : 6avltRfZeoNa2zWipWNIyp We Have Heaven - 2003 Remaster Yes Fragile (Deluxe Edition)\n",
      "1471/1755 : 2wopeXgCUOGbTMNXChWSuZ Owner of a Lonely Heart - Todd Terry Mix Yes Owner of a Lonely Heart (Todd Terry Remixes)\n"
     ]
    },
    {
     "name": "stdout",
     "output_type": "stream",
     "text": [
      "1472/1755 : 6A2AD12l1jNH9MIeMBtQEx Into the Light Yuksek Into the Light\n",
      "1473/1755 : 2VuykAwip0RSzJOrXVOdKg Ayla Yussef Kamaal Black Focus\n",
      "1474/1755 : 7Llu8SZBe5UuhJn4Jos5Qt Black Focus Yussef Kamaal Black Focus\n"
     ]
    },
    {
     "name": "stdout",
     "output_type": "stream",
     "text": [
      "1475/1755 : 2CCmWJZGzxAvLnMks8y4Li Joint 17 Yussef Kamaal Black Focus\n",
      "1476/1755 : 7gHdjudTKmgDcWSKPpJk9h Lowrider Yussef Kamaal Black Focus\n",
      "1477/1755 : 49Ph39DWn4CETSjSXYS0KA Mansur's Message Yussef Kamaal Black Focus\n"
     ]
    },
    {
     "name": "stdout",
     "output_type": "stream",
     "text": [
      "1478/1755 : 5EqkuCTZTSMhZm2sLhA7JN O.G. Yussef Kamaal Black Focus\n",
      "1479/1755 : 1k7B553lUeQY3cyltjRWCH Remembrance Yussef Kamaal Black Focus\n",
      "1480/1755 : 2sEmZge5ZfzrFrDGFJbkyP Strings of Light Yussef Kamaal Black Focus\n",
      "1481/1755 : 5n5icrh7DMNcQUQYuZb6WZ WingTai Drums Yussef Kamaal Black Focus\n"
     ]
    },
    {
     "name": "stdout",
     "output_type": "stream",
     "text": [
      "1482/1755 : 4doeILSOpBXjzWsiJiSS8a Yo Chavez Yussef Kamaal Black Focus\n",
      "1483/1755 : 6xjNioXsWUYOduKYUrjuEX Bad Girl - 2008 Remaster ZZ Top Eliminator\n",
      "1484/1755 : 0OBwxFLu6Yj61s2OagYbgY Gimme All Your Lovin' ZZ Top Eliminator\n"
     ]
    },
    {
     "name": "stdout",
     "output_type": "stream",
     "text": [
      "1485/1755 : 1jzZZsfzxsebFa6KpWXaAr Got Me Under Pressure - 2008 Remaster ZZ Top Eliminator\n",
      "1486/1755 : 2WcnvJKsp1aYs8xp2nJyDN I Got the Six - 2008 Remaster ZZ Top Eliminator\n",
      "1487/1755 : 4s22XSQoOFvN5HrXk9YZ3I I Need You Tonight - 2008 Remaster ZZ Top Eliminator\n"
     ]
    },
    {
     "name": "stdout",
     "output_type": "stream",
     "text": [
      "1488/1755 : 12kRyzNezk2nE2EzJ2nq2l If I Could Only Flag Her Down - 2008 Remaster ZZ Top Eliminator\n",
      "1489/1755 : 7t6CAWplijBj4sdl0q3z0e Legs - 2008 Remaster ZZ Top Eliminator\n",
      "1490/1755 : 1UBQ5GK8JaQjm5VbkBZY66 Sharp Dressed Man - 2008 Remaster ZZ Top Eliminator\n",
      "1491/1755 : 2pOk2SDsJhO7o8xtfXf1jy Thug - 2008 Remaster ZZ Top Eliminator\n"
     ]
    },
    {
     "name": "stdout",
     "output_type": "stream",
     "text": [
      "1492/1755 : 4c0IaYoW94OEFhJE40zcQb TV Dinners - 2008 Remaster ZZ Top Eliminator\n",
      "1493/1755 : 3v9xlH6BpmRbqL7hgNJhfT I Get Around (Mono) The Beach Boys All Summer Long\n",
      "artist:\"Marvin Gaye\" album:\"United\" track:\"Ain't No Mountain High Enough\" not in spotify\n",
      "1494/1755 : 7tqhbajSfrz2F7E1Z75ASX Ain't No Mountain High Enough Marvin Gaye United\n"
     ]
    },
    {
     "name": "stdout",
     "output_type": "stream",
     "text": [
      "1495/1755 : 5pSSEkT0963muzzIjsVkrs Fool's Overture Supertramp Even In The Quietest Moments\n",
      "1496/1755 : 1JekRMGQ8iN4G1AAdh0SBa Enjoy the Silence Depeche Mode Violator (Deluxe)\n",
      "1497/1755 : 3ovjw5HZZv43SxTwApooCM Wind Of Change Scorpions Crazy World\n",
      "1498/1755 : 2g3vNQR6q7EFl7HZSaKFQn Das elfte Gebot Feuerschwanz Das elfte Gebot\n"
     ]
    },
    {
     "name": "stdout",
     "output_type": "stream",
     "text": [
      "1499/1755 : 0Qrb3L8JgreLBW8g4qyan9 Back to School (Mini Maggit) Deftones White Pony\n",
      "1500/1755 : 0FpYnuKYFJXHAmHbS1CycY Feiticeira Deftones White Pony\n",
      "1501/1755 : 2jSJm3Gv6GLxduWLenmjKS Digital Bath Deftones White Pony\n",
      "1502/1755 : 7IoK6jZBxY7NMoQPoPXZCF Passenger Deftones White Pony\n"
     ]
    },
    {
     "name": "stdout",
     "output_type": "stream",
     "text": [
      "1503/1755 : 51c94ac31swyDQj9B3Lzs3 Change (In the House of Flies) Deftones White Pony\n",
      "1504/1755 : 2fICdpdRotwfmGYzvs8Ngf Rock You Like a Hurricane - 2015 - Remaster Scorpions Love At First Sting (Deluxe Edition)\n",
      "1505/1755 : 5Z4FppKv32CM2LK3bUMSL5 Still Loving You - 2015 - Remaster Scorpions Love At First Sting (Deluxe Edition)\n"
     ]
    },
    {
     "name": "stdout",
     "output_type": "stream",
     "text": [
      "1506/1755 : 2cF1W1G0sERJu0Y49tGjnx Intolerance TOOL Undertow\n",
      "1507/1755 : 6bBfqZW47dwndIfYQcB0VR Prison Sex TOOL Undertow\n",
      "1508/1755 : 6DyywdbmTzlmXBzG9ym7Rt Sober TOOL Undertow\n",
      "1509/1755 : 46XOHK5QfCC83yg5SOGjZk Bottom TOOL Undertow\n"
     ]
    },
    {
     "name": "stdout",
     "output_type": "stream",
     "text": [
      "1510/1755 : 1KCndc1SfLo9i9YWXdjy9D Crawl Away TOOL Undertow\n",
      "1511/1755 : 5q4L6JyoEY3VN5pOSbgjS8 Swamp Song TOOL Undertow\n",
      "1512/1755 : 4Wvnm0J3Zz9cmMdEMMghGA Undertow TOOL Undertow\n",
      "1513/1755 : 1LXQ7xqksXo4q4r5oCxW7M 4° TOOL Undertow\n"
     ]
    },
    {
     "name": "stdout",
     "output_type": "stream",
     "text": [
      "1514/1755 : 1ZzzgXjX1bHroTSMoShdMe Flood TOOL Undertow\n",
      "1515/1755 : 4rEMNX61UlQInnHB8f3SX1 Disgustipated TOOL Undertow\n",
      "1516/1755 : 59WN2psjkt1tyaxjspN8fp Killing In The Name Rage Against The Machine Rage Against The Machine - XX (20th Anniversary Special Edition)\n"
     ]
    },
    {
     "name": "stdout",
     "output_type": "stream",
     "text": [
      "1517/1755 : 45Ia1U4KtIjAPPU7Wv1Sea Are You Gonna Go My Way Lenny Kravitz Are You Gonna Go My Way\n",
      "1518/1755 : 5vdp5UmvTsnMEMESIF2Ym7 Another One Bites The Dust - Remastered 2011 Queen The Game (2011 Remaster)\n",
      "1519/1755 : 3OXc6xDxasnl4uj2jl1q4Y Fire of Unknown Origin Blue Öyster Cult Fire of Unknown Origin\n",
      "1520/1755 : 7AW4T7G3e8VsZ8D7jV1hMr Cannonball Supertramp Brother Where You Bound (Remastered)\n"
     ]
    },
    {
     "name": "stdout",
     "output_type": "stream",
     "text": [
      "1521/1755 : 3MrRksHupTVEQ7YbA0FsZK The Final Countdown Europe The Final Countdown (Expanded Edition)\n",
      "1522/1755 : 4YtuhhgpKwckVZNGzjpxBh Streamline System Of A Down Steal This Album!\n",
      "1523/1755 : 69QHm3pustz01CJRwdo20z Hells Bells AC/DC Back In Black\n",
      "1524/1755 : 2HHtWyy5CgaQbC7XSoOb0e Eye of the Tiger Survivor Eye Of The Tiger\n"
     ]
    },
    {
     "name": "stdout",
     "output_type": "stream",
     "text": [
      "1525/1755 : 0vOkmmJEtjuFZDzrQSFzEE Hit Me With Your Best Shot Pat Benatar Crimes Of Passion\n",
      "1526/1755 : 7HKez549fwJQDzx3zLjHKC Start Me Up - Remastered The Rolling Stones Tattoo You (2009 Re-Mastered)\n",
      "artist:\"The Animals\" album:\"The Animals\" track:\"I've Been Around\" not in spotify\n",
      "1527/1755 : 45EHhwqhUcO61OFbzSq8Du I've Been Around The Animals The Complete Animals\n"
     ]
    },
    {
     "name": "stdout",
     "output_type": "stream",
     "text": [
      "1528/1755 : 70YvYr2hGlS01bKRIho1HM La Grange - 2005 Remaster ZZ Top Tres Hombres (Expanded 2006 Remaster)\n",
      "1529/1755 : 3Ud6fFep5ZlXzRWw6Sm8no Walk Of Life Dire Straits Brothers In Arms\n",
      "1530/1755 : 5jzma6gCzYtKB1DbEwFZKH London Calling - Remastered The Clash London Calling (Remastered)\n"
     ]
    },
    {
     "name": "stdout",
     "output_type": "stream",
     "text": [
      "1531/1755 : 5XJ1J9QPxaOzdpkGxKU4lA Heart Of Glass [24-Bit Digitally Remastered 01] - Remastered 2001 Blondie Parallel Lines (Remastered)\n",
      "1532/1755 : 7cDxjUnMitNKQC5c8RQUko Black Magic Woman / Gypsy Queen Santana Abraxas\n",
      "1533/1755 : 2rBHnIxbhkMGLpqmsNX91M Bombtrack Rage Against The Machine Rage Against The Machine - XX (20th Anniversary Special Edition)\n"
     ]
    },
    {
     "name": "stdout",
     "output_type": "stream",
     "text": [
      "1534/1755 : 25CbtOzU8Pn17SAaXFjIR3 Take The Power Back Rage Against The Machine Rage Against The Machine - XX (20th Anniversary Special Edition)\n",
      "1535/1755 : 1CbG6oKKrYEw3W1DnddDFv Settle For Nothing Rage Against The Machine Rage Against The Machine - XX (20th Anniversary Special Edition)\n",
      "1536/1755 : 1WWgMk8nD79p8VeKFGYrOw Bullet In The Head Rage Against The Machine Rage Against The Machine - XX (20th Anniversary Special Edition)\n",
      "1537/1755 : 1XTGyfJeMiZXrZ1W3NolcB Know Your Enemy Rage Against The Machine Rage Against The Machine - XX (20th Anniversary Special Edition)\n"
     ]
    },
    {
     "name": "stdout",
     "output_type": "stream",
     "text": [
      "1538/1755 : 2QiqwOVUctPRVggO9G1Zs5 Wake Up Rage Against The Machine Rage Against The Machine - XX (20th Anniversary Special Edition)\n",
      "1539/1755 : 67qdozSgFFHL6VGW85KmtD Fistful Of Steel Rage Against The Machine Rage Against The Machine - XX (20th Anniversary Special Edition)\n",
      "1540/1755 : 4BOOsIe7Zx3SKJAEXgt1YH Township Rebellion Rage Against The Machine Rage Against The Machine - XX (20th Anniversary Special Edition)\n",
      "1541/1755 : 48lQegoLqGAzaRLnMwK0mO Freedom Rage Against The Machine Rage Against The Machine - XX (20th Anniversary Special Edition)\n"
     ]
    },
    {
     "name": "stdout",
     "output_type": "stream",
     "text": [
      "1542/1755 : 4rQYDXfKFikLX4ad674jhg Speak To Me - 2011 Remastered Version Pink Floyd The Dark Side Of The Moon [Remastered] (Remastered Version)\n",
      "1543/1755 : 3zJRvtQkHQRTNEXSY8jQPR Breathe (In The Air) - 2011 Remastered Version Pink Floyd The Dark Side Of The Moon [Remastered] (Remastered Version)\n",
      "1544/1755 : 51rylCDfKusBQcpo2iem6u On The Run - 2011 Remastered Version Pink Floyd The Dark Side Of The Moon [Remastered] (Remastered Version)\n",
      "1545/1755 : 4xHWH1jwV5j4mBYRhxPbwZ Time - 2011 Remastered Version Pink Floyd The Dark Side Of The Moon [Remastered] (Remastered Version)\n"
     ]
    },
    {
     "name": "stdout",
     "output_type": "stream",
     "text": [
      "1546/1755 : 25tZHMv3ctlzqDaHAeuU9c The Great Gig In The Sky - 2011 Remastered Version Pink Floyd The Dark Side Of The Moon [Remastered] (Remastered Version)\n",
      "1547/1755 : 7Gx2q0ueNwvDp2BOZYGCMO Money - 2011 Remastered Version Pink Floyd The Dark Side Of The Moon [Remastered] (Remastered Version)\n",
      "1548/1755 : 626wlz3bovvpH06PYht5R0 Us And Them - 2011 Remastered Version Pink Floyd The Dark Side Of The Moon [Remastered] (Remastered Version)\n",
      "1549/1755 : 1wGoqD0vrf7njGvxm8CEf5 Any Colour You Like - 2011 Remastered Version Pink Floyd The Dark Side Of The Moon [Remastered] (Remastered Version)\n"
     ]
    },
    {
     "name": "stdout",
     "output_type": "stream",
     "text": [
      "1550/1755 : 7EUEl5wJb8VI777UAUvRnH Brain Damage - 2011 Remastered Version Pink Floyd The Dark Side Of The Moon [Remastered] (Remastered Version)\n",
      "1551/1755 : 3Z2RsIdWm4BNbT0LsFBuoN Eclipse - 2011 Remastered Version Pink Floyd The Dark Side Of The Moon [Remastered] (Remastered Version)\n",
      "1552/1755 : 1GcVa4jFySlun4jLSuMhiq Angie The Rolling Stones Goats Head Soup (Remastered 2009)\n",
      "1553/1755 : 2fuCquhmrzHpu5xcA1ci9x Under Pressure - Remastered Queen Hot Space (2011 Remaster)\n"
     ]
    },
    {
     "name": "stdout",
     "output_type": "stream",
     "text": [
      "1554/1755 : 4XRkQloZFcRrCONN7ZQ49Y Give Up The Funk (Tear The Roof Off The Sucker) Parliament Mothership Connection\n",
      "1555/1755 : 5W5FVsgGCe3T9nIMkiXqNo Sing a Song Earth, Wind & Fire Gratitude\n",
      "1556/1755 : 0tkUg2KCEKWlcPJNcey8Nw Main Girl Charlotte Cardin Main Girl\n",
      "artist:\"Johnny \"Guitar\" Watson\" album:\"Love Jones\" track:\"Booty Ooty\" not in spotify\n"
     ]
    },
    {
     "name": "stdout",
     "output_type": "stream",
     "text": [
      "artist:\"Johnny \"Guitar\" Watson\" album:\"Love Jones\" track:\"Booty Ooty\" not in spotify\n",
      "1558/1755 : 7IwURvEfVcdxUCjLKUu6sv Shame On a Nigga Wu-Tang Clan Enter The Wu-Tang (36 Chambers) [Expanded Edition]\n",
      "artist:\"Surface\" album:\"Falling In Love\" track:\"Falling In Love\" not in spotify\n",
      "artist:\"Surface\" album:\"Falling In Love\" track:\"Falling In Love\" not in spotify\n"
     ]
    },
    {
     "name": "stdout",
     "output_type": "stream",
     "text": [
      "1560/1755 : 3pf96IFggfQuT6Gafqx2rt Sunny Boney M. Take The Heat Off Me\n",
      "1561/1755 : 78His8pbKjbDQF7aX5asgv Rivers of Babylon Boney M. Nightflight to Venus\n",
      "1562/1755 : 7a00cQDulg05uPkHuFoQiS Smile Meditation Vulfpeck Thrill of the Arts\n",
      "1563/1755 : 5zQyqgNXKzhifkivumzxDS My Girl Otis Redding Otis Blue: Otis Redding Sings Soul (Collector's Edition)\n"
     ]
    },
    {
     "name": "stdout",
     "output_type": "stream",
     "text": [
      "artist:\"Chic\" album:\"C'est Chic\" track:\"Le Freak\" not in spotify\n"
     ]
    },
    {
     "name": "stdout",
     "output_type": "stream",
     "text": [
      "1564/1755 : 7Kszjzps0xbQXyo1pO4KfE Le Freak - 2018 Remaster CHIC C'est Chic (2018 Remaster)\n",
      "1565/1755 : 15ifyO8wYntwyXAptfxhKr Everybody Dance - 2018 Remaster CHIC Chic (2018 Remaster)\n",
      "1566/1755 : 5jwrYhbcVggJnZO9LETUkU Deadline Blue Öyster Cult Cultosaurus Erectus\n",
      "1567/1755 : 78lgmZwycJ3nzsdgmPPGNx Immigrant Song - 2012 Remaster Led Zeppelin Led Zeppelin III (Remaster)\n"
     ]
    },
    {
     "name": "stdout",
     "output_type": "stream",
     "text": [
      "1568/1755 : 0cKk8BKEi7zXbdrYdyqBP5 Behind Blue Eyes The Who Who's Next\n",
      "1569/1755 : 6Xz7FeyE8HTP90HecgHV57 Wild World Yusuf / Cat Stevens Tea For The Tillerman (Remastered)\n",
      "1570/1755 : 0ofHAoxe9vBkTCp2UQIavz Dreams - 2004 Remaster Fleetwood Mac Rumours (Super Deluxe)\n"
     ]
    },
    {
     "name": "stdout",
     "output_type": "stream",
     "text": [
      "1571/1755 : 0iOZM63lendWRTTeKhZBSC Mrs. Robinson - From \"The Graduate\" Soundtrack Simon & Garfunkel Bookends\n",
      "1572/1755 : 3YuaBvuZqcwN3CEAyyoaei Like a Stone Audioslave Audioslave\n",
      "1573/1755 : 0L7zm6afBEtrNKo6C6Gj08 Painkiller Judas Priest Painkiller\n"
     ]
    },
    {
     "name": "stdout",
     "output_type": "stream",
     "text": [
      "1574/1755 : 2b9lp5A6CqSzwOrBfAFhof Crazy Train Ozzy Osbourne Blizzard of Ozz (Expanded Edition)\n",
      "1575/1755 : 0S90LE5Z8FOdbui3tLak6t The Evil That Men Do - 2015 Remaster Iron Maiden Seventh Son of a Seventh Son (2015 Remaster)\n",
      "1576/1755 : 3HzWxmvpQU3QHQ59zw1X4V Heaven and Hell - 2009 Remaster Black Sabbath Heaven & Hell\n",
      "1577/1755 : 54yLLvpezvPO1lA3GspiZj Holy Diver Dio Holy Diver\n"
     ]
    },
    {
     "name": "stdout",
     "output_type": "stream",
     "text": [
      "1578/1755 : 6ursmCnbc9oDRGa2yHKkoZ Roots Bloody Roots Sepultura Roots\n",
      "1579/1755 : 5qFxuUIAwJlzO60vqOiL7y Rainbow In The Dark Dio Holy Diver\n",
      "1580/1755 : 4VymMhILk4DSwghPkLUPVS Critical Acclaim Avenged Sevenfold Avenged Sevenfold\n",
      "1581/1755 : 0DkmhHO4yyqCJFjosmmWPU Almost Easy Avenged Sevenfold Avenged Sevenfold\n"
     ]
    },
    {
     "name": "stdout",
     "output_type": "stream",
     "text": [
      "1582/1755 : 297d7PwfSFHQXCjqqDXQT2 Scream Avenged Sevenfold Avenged Sevenfold\n",
      "1583/1755 : 7zAt4tdL44D3VuzsvM0N8n Afterlife Avenged Sevenfold Avenged Sevenfold\n",
      "1584/1755 : 7MOQrtXMNImAq5TrPZzC0w Gunslinger Avenged Sevenfold Avenged Sevenfold\n"
     ]
    },
    {
     "name": "stdout",
     "output_type": "stream",
     "text": [
      "1585/1755 : 63KJgtNcHRii4aHvUlmtSx Unbound (The Wild Ride) Avenged Sevenfold Avenged Sevenfold\n",
      "1586/1755 : 3H2VmsXSSxjIv1UUPEQ30d Brompton Cocktail Avenged Sevenfold Avenged Sevenfold\n",
      "1587/1755 : 0EtXiKDaHJcVFFvhWpSfiN Lost Avenged Sevenfold Avenged Sevenfold\n"
     ]
    },
    {
     "name": "stdout",
     "output_type": "stream",
     "text": [
      "1588/1755 : 1BLfQ6dPXmuDrFmbdfW7Jl A Little Piece of Heaven Avenged Sevenfold Avenged Sevenfold\n",
      "1589/1755 : 2FML7gk7ac6quGFIjvkDb3 Dear God Avenged Sevenfold Avenged Sevenfold\n",
      "1590/1755 : 2TVxnKdb3tqe1nhQWwwZCO Tiny Dancer Elton John Madman Across The Water\n",
      "1591/1755 : 3gdewACMIVMEWVbyb8O9sY Rocket Man (I Think It's Going To Be A Long, Long Time) Elton John Honky Chateau\n"
     ]
    },
    {
     "name": "stdout",
     "output_type": "stream",
     "text": [
      "1592/1755 : 5Wj1rJnCLpMHdLaxsFtJLs Bennie And The Jets - Remastered 2014 Elton John Goodbye Yellow Brick Road (Remastered)\n",
      "1593/1755 : 4IRHwIZHzlHT1FQpRa5RdE Goodbye Yellow Brick Road - Remastered 2014 Elton John Goodbye Yellow Brick Road (Remastered)\n",
      "1594/1755 : 5KlCWDbatUCBhvN7ZwyeEF Can You Feel The Love Tonight - Remastered Elton John Diamonds (Deluxe)\n"
     ]
    },
    {
     "name": "stdout",
     "output_type": "stream",
     "text": [
      "1595/1755 : 38zsOOcu31XbbYj9BIPUF1 Your Song Elton John Elton John\n",
      "artist:\"Elton John\" album:\"Too Low For Zero\" track:\"I'm Still Standing\" not in spotify\n",
      "1596/1755 : 1jDJFeK9x3OZboIAHsY9k2 I'm Still Standing Elton John Too Low For Zero\n"
     ]
    },
    {
     "name": "stdout",
     "output_type": "stream",
     "text": [
      "1597/1755 : 1t055EdeL1r5DfORFy0UXX Circle Of Life - Remastered Elton John Diamonds (Deluxe)\n",
      "1598/1755 : 71zJRiAG1f817v9R9tYMvg Song For Guy Elton John A Single Man\n",
      "1599/1755 : 1L9fzw2pXprOqtemTwtxXF Candle In The Wind - Remastered 2014 Elton John Goodbye Yellow Brick Road (Remastered)\n",
      "1600/1755 : 23l1kVpqMVREiwU1YAlcr4 I Guess That's Why They Call It The Blues Elton John Too Low For Zero\n"
     ]
    },
    {
     "name": "stdout",
     "output_type": "stream",
     "text": [
      "artist:\"Elton John\" album:\"Don't Shoot Me I'm Only The Piano Player\" track:\"Crocodile Rock\" not in spotify\n",
      "1601/1755 : 6WCeFNVAXUtNczb7lqLiZU Crocodile Rock Elton John Don't Shoot Me I'm Only The Piano Player\n",
      "artist:\"Elton John\" album:\"Don't Shoot Me I'm Only The Piano Player\" track:\"Daniel\" not in spotify\n",
      "1602/1755 : 1BvJmtaXsqtH438BcDPeBb Daniel Elton John Don't Shoot Me I'm Only The Piano Player\n"
     ]
    },
    {
     "name": "stdout",
     "output_type": "stream",
     "text": [
      "1603/1755 : 12yHvSYFXI7PGzNecUvIDu Saturday Night’s Alright (For Fighting) - Remastered 2014 Elton John Goodbye Yellow Brick Road (Remastered)\n",
      "1604/1755 : 0e3yhVeNaTfKIWQRw9U9sY Sacrifice Elton John Sleeping With The Past (Remastered with bonus tracks)\n",
      "1605/1755 : 6XfxmT5QNCXvpZA6PKfWVL Sorry Seems To Be The Hardest Word Elton John Blue Moves\n"
     ]
    },
    {
     "name": "stdout",
     "output_type": "stream",
     "text": [
      "1606/1755 : 5B7vsRJRBNkCAgAgNybQ4h Chic 'N' Stu System Of A Down System Of A Down/Steal This Album\n",
      "1607/1755 : 0Xmbtw7NhNiDnL4BWy5wDh Innervision System Of A Down Steal This Album!\n",
      "1608/1755 : 4dJMoLxnO93Ys7SqZNIxlg Bubbles System Of A Down Steal This Album!\n"
     ]
    },
    {
     "name": "stdout",
     "output_type": "stream",
     "text": [
      "1609/1755 : 5en63QU81VfRQIsoqBcfde Boom! System Of A Down Steal This Album!\n",
      "1610/1755 : 0ognkBvJqaov2gWDgaMzvz Nüguns System Of A Down Steal This Album!\n",
      "1611/1755 : 7gZX4vZqjJJWsdosIB0h6P A.D.D. (American Dream Denial) System Of A Down Steal This Album!\n"
     ]
    },
    {
     "name": "stdout",
     "output_type": "stream",
     "text": [
      "1612/1755 : 4JJwzJCIWREU7u9xobKTfd Mr. Jack System Of A Down System Of A Down/Steal This Album\n",
      "1613/1755 : 7q6dQPgSSH1dsu4qTNkaGp I-E-A-I-A-I-O System Of A Down System Of A Down/Steal This Album\n",
      "1614/1755 : 2TyFfQ1OuubEwfxFvapfzC 36 System Of A Down Steal This Album!\n"
     ]
    },
    {
     "name": "stdout",
     "output_type": "stream",
     "text": [
      "1615/1755 : 3A5E8GUX5bdPGxxJP1IrYx Pictures System Of A Down Steal This Album!\n",
      "1616/1755 : 4TRPgtjVmqg7EAWZe1T94E Highway Song System Of A Down Steal This Album!\n",
      "1617/1755 : 62jQ72vsUsLWLp6ZHFUJKr Fuck the System System Of A Down System Of A Down/Steal This Album\n"
     ]
    },
    {
     "name": "stdout",
     "output_type": "stream",
     "text": [
      "1618/1755 : 2HVCLZ6dMDelXhloO5sAjV Ego Brain System Of A Down Steal This Album!\n",
      "1619/1755 : 6l17lK6a9LFqhOfh770wWg Thetawaves System Of A Down Steal This Album!\n",
      "1620/1755 : 1Ip1XhR9OPvA9rPfm8uFZU Roulette System Of A Down System Of A Down/Steal This Album\n"
     ]
    },
    {
     "name": "stdout",
     "output_type": "stream",
     "text": [
      "1621/1755 : 39rHfrVqCX6A55GF7uOZSC 1612 Vulfpeck Fugue State\n",
      "1622/1755 : 50R5Or6xMtvELGYfGUbVz4 3 on E Vulfpeck The Joy of Music. The Job of Real Estate.\n",
      "1623/1755 : 5KboIqx30dztT6wmEVFn17 Baby I Don’t Know Oh Oh (feat. Charles Jones) Vulfpeck Mr Finish Line\n",
      "1624/1755 : 1FwFVKRNX1IV4eEZSGGg5M Darwin Derby Vulfpeck Hill Climber\n"
     ]
    },
    {
     "name": "stdout",
     "output_type": "stream",
     "text": [
      "1625/1755 : 6egcs8AHSL7oPfq5TZ8w6n Test Drive - Instrumental Vulfpeck The Joy of Music. The Job of Real Estate.\n",
      "1626/1755 : 7BHPGtpuuWWsvE7cCaMuEU Naive The Kooks Inside In / Inside Out\n",
      "1627/1755 : 6E1gCX88g0FXzWMey57xlm 69 Parliament Medicaid Fraud Dogg\n",
      "1628/1755 : 2l0h4aBFLp9HdoaNdCTlbW Pull the Plug Death Leprosy (Deluxe Reissue)\n"
     ]
    },
    {
     "name": "stdout",
     "output_type": "stream",
     "text": [
      "1629/1755 : 5noSkaAhiPUZZpKqgFWiLi Astral Tale Of Us Astral\n",
      "1630/1755 : 15BQ7vEDv2LJuh8TxWIhtd The Passenger Iggy Pop Lust For Life\n",
      "artist:\"Duck Sauce\" album:\"Barbara Streisand\" track:\"Barbara Streisand\" not in spotify\n",
      "artist:\"Duck Sauce\" album:\"Barbara Streisand\" track:\"Barbara Streisand\" not in spotify\n"
     ]
    },
    {
     "name": "stdout",
     "output_type": "stream",
     "text": [
      "1632/1755 : 4MvGHDenL4t9JW1RHB4rK2 Gotta Go Home Boney M. Oceans Of Fantasy\n",
      "1633/1755 : 6Nm8h73ycDG2saCnZV8poF Dragula Rob Zombie Hellbilly Deluxe\n",
      "1634/1755 : 10V8XpuyMoEcSMfM79WDET Living Dead Girl Rob Zombie Hellbilly Deluxe\n",
      "1635/1755 : 4eNnMvUrSu2TRpySjVC0Pv Superbeast Rob Zombie Hellbilly Deluxe\n"
     ]
    },
    {
     "name": "stdout",
     "output_type": "stream",
     "text": [
      "1636/1755 : 2BzEsfwqucjlBSFu8s74sz Crushed Parkway Drive Ire\n",
      "1637/1755 : 6HQfFAupOMsmfWV4CbG1Kj The Shooting Star Gojira Magma\n",
      "1638/1755 : 7nCD5l7GrFyt6o1mstCUFr The Cell Gojira Magma\n"
     ]
    },
    {
     "name": "stdout",
     "output_type": "stream",
     "text": [
      "1639/1755 : 60fUDmIWuKhngaeBIVhqIV Stranded Gojira Magma\n",
      "1640/1755 : 52HGJjorrIfVRaIueVOdIk Yellow Stone Gojira Magma\n",
      "1641/1755 : 56iv5TqfvxVa4zLMs6SvmP Magma Gojira Magma\n",
      "1642/1755 : 4XPrEwXIu8UhlggytlSqPr Pray Gojira Magma\n"
     ]
    },
    {
     "name": "stdout",
     "output_type": "stream",
     "text": [
      "1643/1755 : 7MuPOXU2vjEe3Kh9LfbM5v Only Pain Gojira Magma\n",
      "1644/1755 : 6nJgZy8CATEMz9PNRAJGDt Low Lands Gojira Magma\n",
      "1645/1755 : 3Tgo5Ucay80sGvph0uedTS Liberation Gojira Magma\n"
     ]
    },
    {
     "name": "stdout",
     "output_type": "stream",
     "text": [
      "1646/1755 : 4qgDlkfqsbZ0q5tOSp0nqE Blood of Heroes Týr Valkyrja\n",
      "1647/1755 : 1KdCLvFxqkeSw6hSHjpEev Mare of My Night Týr Valkyrja\n",
      "1648/1755 : 44ak0MF2MT2G5ZMr05seRp Hel Hath No Fury Týr Valkyrja\n",
      "1649/1755 : 77O19ta9EhiPZmLpY8e8pf The Lay of Our Love Týr Valkyrja\n"
     ]
    },
    {
     "name": "stdout",
     "output_type": "stream",
     "text": [
      "1650/1755 : 4LB4Qth2yvaimEFdV6C1jA Calojira Ultra Vomit Panzer Surprise !\n",
      "1651/1755 : 1Bw7kDeY4ZPfUo5UY18tOO Reckoning Day - Remastered 2004 Megadeth Youthanasia\n",
      "1652/1755 : 03Yv8adIIOsRACDHLUYS9l Train Of Consequences - Remastered 2004 Megadeth Youthanasia\n",
      "1653/1755 : 4Ka1hOiCQw1a5RVyzW4Xu1 Addicted To Chaos Megadeth Youthanasia\n"
     ]
    },
    {
     "name": "stdout",
     "output_type": "stream",
     "text": [
      "1654/1755 : 6olS0TmHmsGr0hXtcBsiVM A Tout Le Monde - Remastered 2004 Megadeth Youthanasia\n",
      "1655/1755 : 4lU7OMm9xWPNjusCWVJcPY Elysian Fields Megadeth Youthanasia\n",
      "1656/1755 : 0jKqcTDzbUv7chWlJiAuR5 The Killing Road Megadeth Youthanasia\n",
      "1657/1755 : 4fPVJz7EYTqCqgXxLjQrSn Blood Of Heroes Megadeth Youthanasia\n"
     ]
    },
    {
     "name": "stdout",
     "output_type": "stream",
     "text": [
      "1658/1755 : 7FriPHzt3ALYFQhJdca1UL Family Tree Megadeth Youthanasia\n",
      "1659/1755 : 491FFHeud9a0KXZ66QunVn Youthanasia Megadeth Youthanasia\n"
     ]
    },
    {
     "name": "stdout",
     "output_type": "stream",
     "text": [
      "1660/1755 : 2GKvYk3zl0011ZhbuhdnYv I Thought I Knew It All Megadeth Youthanasia\n",
      "1661/1755 : 5lOV1OnHMswQkdYsiWlQTo Black Curtains Megadeth Youthanasia\n",
      "1662/1755 : 4kPF8KNfCkQQkL22YoOJir Victory Megadeth Youthanasia\n",
      "1663/1755 : 1xdmx0UEYQE5Wl7D7UUt5U Conquer Or Die Megadeth Dystopia\n"
     ]
    },
    {
     "name": "stdout",
     "output_type": "stream",
     "text": [
      "1664/1755 : 3koCCeSaVUyrRo3N2gHrd8 Let's Groove Earth, Wind & Fire Raise!\n",
      "1665/1755 : 4pZxYywHxZFOLchYIDHpK8 Handcuffs Parliament Gold\n",
      "1666/1755 : 1RLOZzuIv3i8g8SarCmEW2 Fafner's Gold Amon Amarth Berserker\n",
      "1667/1755 : 2eNKE4PW5uL0pIfGNw01SV It Gets Funkier IV Vulfpeck Hill Climber\n"
     ]
    },
    {
     "name": "stdout",
     "output_type": "stream",
     "text": [
      "1668/1755 : 3850dYVgOFIXJh5U4BFEWH Hung Up Madonna Confessions on a Dance Floor\n",
      "1669/1755 : 5W8YXBz9MTIDyrpYaCg2Ky Last Resort Papa Roach Infest\n",
      "1670/1755 : 1e7sKwOgiMF2FBgb8HmlRb Setting Me Up Dire Straits Dire Straits\n",
      "1671/1755 : 0iYtGebtnGzemwehimWusQ Rock Your Baby George McCrae Rock Your Baby\n"
     ]
    },
    {
     "name": "stdout",
     "output_type": "stream",
     "text": [
      "1672/1755 : 1FTSo4v6BOZH9QxKc3MbVM Song 2 - 2012 Remaster Blur Blur [Special Edition]\n",
      "1673/1755 : 2RSHsoi04658QL5xgQVov3 Bad Liar Imagine Dragons Origins (Deluxe)\n",
      "1674/1755 : 2ihCaVdNZmnHZWt0fvAM7B Little Talks Of Monsters and Men My Head Is An Animal\n"
     ]
    },
    {
     "name": "stdout",
     "output_type": "stream",
     "text": [
      "1675/1755 : 3tzU46wNOVaFiYRNtNYY66 Your Girlfriend Blossoms Foolish Loving Spaces (Deluxe Edition)\n",
      "1676/1755 : 5JWPUEov2wlX7c0jhYZpeB Lost In Yesterday Tame Impala The Slow Rush\n",
      "1677/1755 : 1TfqLAPs4K3s2rJMoCokcS Sweet Dreams (Are Made of This) - Remastered Eurythmics Sweet Dreams (Are Made Of This)\n"
     ]
    },
    {
     "name": "stdout",
     "output_type": "stream",
     "text": [
      "1678/1755 : 6mcxQ1Y3uQRU0IHsvdNLH1 Where Is My Mind? Pixies Surfer Rosa (Remastered)\n",
      "1679/1755 : 12lKM9xMB5DnfpCIr0JSN9 Call Me (Theme From American Gigolo) Blondie American Gigolo\n",
      "1680/1755 : 3npaSXO2jgqZ0psD5fIOAI Goody, Goody Ella Fitzgerald Get Happy! (Expanded Edition)\n"
     ]
    },
    {
     "name": "stdout",
     "output_type": "stream",
     "text": [
      "1681/1755 : 4ZhPLoMzZwewHLLjV1J15c 99 Luftballons Nena Nena\n",
      "1682/1755 : 2WfaOiMkCvy7F5fcp2zZ8L Take on Me a-ha Hunting High and Low\n",
      "artist:\"Stan Getz\" album:\"Like Someone In Love\" track:\"Like Someone In Love\" not in spotify\n",
      "artist:\"Stan Getz\" album:\"Like Someone In Love\" track:\"Like Someone In Love\" not in spotify\n"
     ]
    },
    {
     "name": "stdout",
     "output_type": "stream",
     "text": [
      "1684/1755 : 7N3PAbqfTjSEU1edb2tY8j Jump - 2015 Remaster Van Halen 1984 (Remastered)\n",
      "artist:\"AD/DC\" album:\"The Razor's Edge\" track:\"Thunderstruck\" not in spotify\n",
      "artist:\"AD/DC\" album:\"The Razors Edge\" track:\"Thunderstruck\" not in spotify\n",
      "artist:\"AD/DC\" album:\"The Razor's Edge\" track:\"Thunderstruck\" not in spotify\n"
     ]
    },
    {
     "name": "stdout",
     "output_type": "stream",
     "text": [
      "artist:\"AD/DC\" album:\"The Razors Edge\" track:\"Thunderstruck\" not in spotify\n",
      "artist:\"Depeche Mode\" album:\"Speak And Spell\" track:\"Just Can't Get Enough\" not in spotify\n",
      "1686/1755 : 0qi4b1l0eT3jpzeNHeFXDT Just Can't Get Enough Depeche Mode Speak And Spell (Deluxe)\n",
      "1687/1755 : 0dOg1ySSI7NkpAe89Zo0b9 Born in the U.S.A. Bruce Springsteen Born In The U.S.A.\n"
     ]
    },
    {
     "name": "stdout",
     "output_type": "stream",
     "text": [
      "1688/1755 : 6UB9mShVLbMm0W4e6vud4C Battery Metallica Master Of Puppets (Remastered)\n",
      "1689/1755 : 2MuWTIM3b0YEAskbeeFE1i Master Of Puppets Metallica Master Of Puppets (Remastered)\n",
      "1690/1755 : 6FDpQJtEKdYgtyN316VxLO The Thing That Should Not Be - Remastered Metallica Master Of Puppets (Deluxe Box Set / Remastered)\n"
     ]
    },
    {
     "name": "stdout",
     "output_type": "stream",
     "text": [
      "1691/1755 : 1FPSkRkDlthbAceSIIWc4C Welcome Home (Sanitarium) - Remastered Metallica Master Of Puppets (Deluxe Box Set / Remastered)\n",
      "1692/1755 : 6DKt7DVgBWadoaltUYlPz8 Disposable Heroes - Remastered Metallica Master Of Puppets (Deluxe Box Set / Remastered)\n",
      "1693/1755 : 6XN00D9ejjEt1cW1sY44Gu Leper Messiah Metallica Master Of Puppets (Remastered)\n"
     ]
    },
    {
     "name": "stdout",
     "output_type": "stream",
     "text": [
      "1694/1755 : 3z9e5b0P7zoIeV6I3iyX8O Orion - Remastered Metallica Master Of Puppets (Deluxe Box Set / Remastered)\n",
      "1695/1755 : 1ogUJHv5Nu9S6yC2Cv6Pvh Damage, Inc. - Remastered Metallica Master Of Puppets (Deluxe Box Set / Remastered)\n",
      "1696/1755 : 7dH9Qnbb7pwDahy1Vb9ZQa Yuve Yuve Yu The HU The Gereg\n"
     ]
    },
    {
     "name": "stdout",
     "output_type": "stream",
     "text": [
      "1697/1755 : 5hISmTJXBXdOes4htbUhGk Wolf Totem The HU The Gereg\n",
      "1698/1755 : 5BLSVhMrtqVBjKREM6rY1z North Side Star Mastodon Cold Dark Place\n",
      "1699/1755 : 60DY0OKJPAtAbXZydBxtXz Blue Walsh Mastodon Cold Dark Place\n",
      "1700/1755 : 3YB0iy5dI1gascvwhvT0dc Toe to Toes Mastodon Cold Dark Place\n"
     ]
    },
    {
     "name": "stdout",
     "output_type": "stream",
     "text": [
      "1701/1755 : 23CIAx7uGrtUH5CwRf3BC5 Cold Dark Place Mastodon Cold Dark Place\n",
      "1702/1755 : 7GDHK8YWdQOCt6rA7xBv4P Sixteen Tons Tennessee Ernie Ford Ford Favorites\n",
      "1703/1755 : 5I9sHwLDX28tLtzVgKLtpr Everybody Loves Somebody Dean Martin Everybody Loves Somebody\n",
      "artist:\"Dean Martin\" album:\"Dean Martin Sings\" track:\"That's Amore\" not in spotify\n"
     ]
    },
    {
     "name": "stdout",
     "output_type": "stream",
     "text": [
      "artist:\"Dean Martin\" album:\"Dean Martin Sings\" track:\"Thats Amore\" not in spotify\n",
      "artist:\"Dean Martin\" album:\"Dean Martin Sings\" track:\"That's Amore\" not in spotify\n",
      "artist:\"Dean Martin\" album:\"Dean Martin Sings\" track:\"Thats Amore\" not in spotify\n",
      "artist:\"Dean Martin\" track:\"Ain't That A Kick In The Head\" not in spotify\n"
     ]
    },
    {
     "name": "stdout",
     "output_type": "stream",
     "text": [
      "1705/1755 : 7BqvaaUUCWWDZNwWrRSJVB Ain't That A Kick In The Head - 1995 Remaster Dean Martin Crooners Hits\n",
      "1706/1755 : 3QyPsavxL681NX7SPVGd5T Sway (Quien Sera) Dean Martin Dean Martin: The Capitol Recordings, Vol. 5 (1954)\n",
      "1707/1755 : 7DuqCAxfOEKBfQgrnWfHrh Mambo Italiano Dean Martin Dean Martin: The Capitol Recordings, Vol. 5 (1954)\n",
      "1708/1755 : 0znQyUrJwmuLenUzJXawEY Gentle on My Mind Dean Martin The Reprise Years\n"
     ]
    },
    {
     "name": "stdout",
     "output_type": "stream",
     "text": [
      "1709/1755 : 15VRO9CQwMpbqUYA7e6Hwg The Man Who Sold The World Nirvana MTV Unplugged In New York\n",
      "1710/1755 : 6mib3N4E8PZHAGQ3xy7bho Moonage Daydream - 2012 Remaster David Bowie The Rise and Fall of Ziggy Stardust and the Spiders from Mars (2012 Remaster)\n",
      "1711/1755 : 4ZmX8elKMkH0MfniNi0Adu House of The Rising Sun Five Finger Death Punch The Wrong Side Of Heaven And The Righteous Side Of Hell, Volume 2\n"
     ]
    },
    {
     "name": "stdout",
     "output_type": "stream",
     "text": [
      "1712/1755 : 5aswWmjJLHBSYFknQjegfg Flash - Single Version Queen Flash Gordon (Deluxe Edition 2011 Remaster)\n",
      "1713/1755 : 5ZULALImTm80tzUbYQYM9d Dance Monkey Tones And I The Kids Are Coming\n",
      "1714/1755 : 7FJ7lHtpbWvPKe3zCoeAWC Kansas Gorillaz The Now Now\n",
      "1715/1755 : 2avKuMN2QXkaG9vvHa2JLt Take A Look Around Limp Bizkit Chocolate Starfish And The Hot Dog Flavored Water\n"
     ]
    },
    {
     "name": "stdout",
     "output_type": "stream",
     "text": [
      "1716/1755 : 0sjxRg1VlYfx4YG7uxurrq I Put A Spell On You Nina Simone I Put A Spell On You\n",
      "artist:\"AC/DC\" album:\"Dirty Deeds Done Dirt Cheap\" track:\"Jailbreak\" not in spotify\n",
      "artist:\"AC/DC\" album:\"Dirty Deeds Done Dirt Cheap\" track:\"Jailbreak\" not in spotify\n",
      "1718/1755 : 40rvBMQizxkIqnjPdEWY1v Down with the Sickness Disturbed The Sickness\n"
     ]
    },
    {
     "name": "stdout",
     "output_type": "stream",
     "text": [
      "1719/1755 : 5IyL3XOaRPpTgxVjRIAxXU Ziggy Stardust - 2012 Remaster David Bowie The Rise and Fall of Ziggy Stardust and the Spiders from Mars (2012 Remaster)\n",
      "1720/1755 : 5Z8EDau8uNcP1E8JvmfkZe School's Out Alice Cooper School's Out\n",
      "1721/1755 : 5XcZRgJv3zMhTqCyESjQrF Poison Alice Cooper Trash\n",
      "1722/1755 : 5D2eCwqbHcqOnfHOCM6TnV No More Mr. Nice Guy Alice Cooper Billion Dollar Babies (Deluxe Reissue)\n"
     ]
    },
    {
     "name": "stdout",
     "output_type": "stream",
     "text": [
      "artist:\"Alice Cooper\" album:\"Love It to Death\" track:\"I'm Eighteen\" not in spotify\n",
      "1723/1755 : 3YU9X8ryOR20beT7wOlDIJ I'm Eighteen Alice Cooper Love It to Death\n",
      "1724/1755 : 7gvFV0ndhy4s79EZSGIFXe Hey Stoopid Alice Cooper Hey Stoopid\n",
      "1725/1755 : 7LDTB4kVmrLCU5TqKjZnzm Feed My Frankenstein Alice Cooper Hey Stoopid\n"
     ]
    },
    {
     "name": "stdout",
     "output_type": "stream",
     "text": [
      "1726/1755 : 1QEEqeFIZktqIpPI4jSVSF More Than a Feeling Boston Boston\n",
      "1727/1755 : 57Y3UccJEJqT8w8RWkUAz0 Upside Down Diana Ross Diana\n"
     ]
    },
    {
     "name": "stdout",
     "output_type": "stream",
     "text": [
      "1728/1755 : 56NkIxSZZiMpFP5ZNSxtnT Someday The Strokes Is This It\n",
      "1729/1755 : 5dKBaysNJtfpyNTRa5lqDb A-Punk Vampire Weekend Vampire Weekend\n",
      "1730/1755 : 4jLTF119PfzzJoaNuj3d2p Take Me To The Top Mötley Crüe Too Fast For Love\n",
      "1731/1755 : 2j0zExWFB0PowLOeoZosjK Touch Too Much AC/DC Highway to Hell\n"
     ]
    },
    {
     "name": "stdout",
     "output_type": "stream",
     "text": [
      "1732/1755 : 5ohfpKB5tt275f4Y4lQ9F7 Angel Of Death Slayer Reign In Blood (Expanded)\n",
      "1733/1755 : 0IXpUl1fn2QZcBavfuq0H4 Living After Midnight Judas Priest British Steel\n",
      "1734/1755 : 4hLQfgtzEyxme6w5GiwAEy The Rover - 1993 Remaster Led Zeppelin Physical Graffiti (1994 Remaster)\n"
     ]
    },
    {
     "name": "stdout",
     "output_type": "stream",
     "text": [
      "1735/1755 : 6EPRKhUOdiFSQwGBRBbvsZ Ace of Spades Motörhead Ace of Spades (Expanded Edition)\n",
      "1736/1755 : 0X1sqQ652p1sceKM2nJlIJ Runaway Bon Jovi Bon Jovi\n",
      "1737/1755 : 0Y2i84QWPFiFHQfEQDgHya People = Shit Slipknot Iowa\n",
      "1738/1755 : 3U9gogDStAfWxSm91PJuxb South Of Heaven Slayer South Of Heaven\n"
     ]
    },
    {
     "name": "stdout",
     "output_type": "stream",
     "text": [
      "1739/1755 : 469rBLYJUZHMJLtq2Wch3h Hallowed Be Thy Name - 2015 Remaster Iron Maiden The Number of the Beast (2015 Remaster)\n",
      "1740/1755 : 4MbJlBkNTEXGJ0sL8U5ABN Armed To The Teeth Annihilator Armed To The Teeth\n",
      "1741/1755 : 1WjcX541kITk0ACPf5K6Bp Rats Ghost Prequelle\n",
      "1742/1755 : 2RaA6kIcvomt77qlIgGhCT Breaking the Law Judas Priest British Steel\n"
     ]
    },
    {
     "name": "stdout",
     "output_type": "stream",
     "text": [
      "1743/1755 : 63OFKbMaZSDZ4wtesuuq6f Born To Be Wild Steppenwolf Steppenwolf\n",
      "1744/1755 : 2WkHXAVVMgRnBmQ3HYAVla Alright - Remastered Jamiroquai Travelling Without Moving (Remastered)\n",
      "1745/1755 : 4QT3YKobBj4BI7xCYRLr9u Just an Illusion Imagination In the Heat of the Night\n",
      "1746/1755 : 5rc28C9Ym7zIAypx3QGcnv And the Beat Goes On The Whispers The Whispers / Happy Holidays to You\n"
     ]
    },
    {
     "name": "stdout",
     "output_type": "stream",
     "text": [
      "artist:\"Jamiroquai\" album:\"Dynamite\" track:\"(Don't) Give Hate a Chance\" not in spotify\n",
      "1747/1755 : 2IJk5fQC6Qiu2gRrCR2977 (Don't) Give Hate a Chance Jamiroquai Dynamite\n"
     ]
    },
    {
     "name": "stdout",
     "output_type": "stream",
     "text": [
      "1748/1755 : 1BrgMKcTfNFNVDIIp3d6N8 Rational Gaze Meshuggah Nothing\n",
      "1749/1755 : 3MjrueDQKVr6xDDseZwhEd Figure It Out Royal Blood Royal Blood\n",
      "1750/1755 : 3TETmhGNWOcquUTtcr6RIR The House of the Rising Sun The Animals The House of the Rising Sun: Best of The Animals\n",
      "1751/1755 : 7eJMfftS33KTjuF7lTsMCx death bed (coffee for your head) (feat. beabadoobee) Powfu death bed (coffee for your head) (feat. beabadoobee)\n"
     ]
    },
    {
     "name": "stdout",
     "output_type": "stream",
     "text": [
      "1752/1755 : 1HXy5I3HTWq8OvxCn0z7G7 Heaven Kane Brown Kane Brown (Deluxe Edition)\n",
      "1753/1755 : 4TCeFZNjGNQIpCuZmJkkE2 God's Country Blake Shelton Fully Loaded: God's Country\n",
      "artist:\"Conway Twitty\" album:\"Heart & Soul\" track:\"I'd Love to Lay You Down\" not in spotify\n",
      "artist:\"Conway Twitty\" album:\"Heart & Soul\" track:\"Id Love to Lay You Down\" not in spotify\n"
     ]
    },
    {
     "name": "stdout",
     "output_type": "stream",
     "text": [
      "artist:\"Conway Twitty\" album:\"Heart & Soul\" track:\"I'd Love to Lay You Down\" not in spotify\n",
      "artist:\"Conway Twitty\" album:\"Heart & Soul\" track:\"Id Love to Lay You Down\" not in spotify\n"
     ]
    }
   ],
   "source": [
    "bad_formats = []\n",
    "for idx, (_, content) in enumerate(df.index.to_frame().iterrows()):\n",
    "    # search = f\"artist:\\\"{content.artist}\\\" track:\\\"{content.song}\\\" album:\\\"{content.album}\\\"\"\n",
    "    searches = search_string(content)\n",
    "    bad_format = []\n",
    "    for search, market in searches:\n",
    "        try:\n",
    "            res = spotify.search(search, market=market)\n",
    "            track = res['tracks']['items'][0]\n",
    "        except IndexError as e:\n",
    "            print(f\"{search} not in spotify\")\n",
    "            bad_format.append((search, market))\n",
    "        else:\n",
    "            break\n",
    "    else:\n",
    "        bad_formats.append(bad_format)\n",
    "        ids.iloc[idx] = None\n",
    "        continue\n",
    "    album = track['album']['name']\n",
    "    name = track['name']\n",
    "    artist = track['artists'][0]['name']\n",
    "    id = track['id']\n",
    "    ids.iloc[idx] = id\n",
    "    print(f\"{idx:<4}/{len(df)} : {id} {name} {artist} {album}\")"
   ]
  },
  {
   "cell_type": "code",
   "execution_count": 38,
   "metadata": {
    "collapsed": false
   },
   "outputs": [],
   "source": [
    "ids = ids.rename(\"ids\")"
   ]
  },
  {
   "cell_type": "code",
   "execution_count": 47,
   "metadata": {
    "collapsed": false
   },
   "outputs": [],
   "source": [
    "ids.to_pickle(\"cache/ids.pkl\")"
   ]
  },
  {
   "cell_type": "code",
   "execution_count": 46,
   "metadata": {
    "collapsed": false
   },
   "outputs": [
    {
     "data": {
      "text/plain": [
       "genre    sub_genre  artist         album                        song                     \n",
       "Jazz     Fusion     Auracle        City Slickers                Bombs Away Ballet            None\n",
       "                                                                City of Penetrating Light    None\n",
       "                                                                Honey                        None\n",
       "                                                                Little City Slickers         None\n",
       "                                                                Rotary Andy's Raggedy        None\n",
       "                                                                                             ... \n",
       "                    Stan Getz      Like Someone In Love         Like Someone In Love         None\n",
       "Rock     Hard Rock  AD/DC          The Razor's Edge             Thunderstruck                None\n",
       "Pop                 Dean Martin    Dean Martin Sings            That's Amore                 None\n",
       "Rock     Hard Rock  AC/DC          Dirty Deeds Done Dirt Cheap  Jailbreak                    None\n",
       "Country             Conway Twitty  Heart & Soul                 I'd Love to Lay You Down     None\n",
       "Name: ids, Length: 123, dtype: object"
      ]
     },
     "execution_count": 46,
     "metadata": {},
     "output_type": "execute_result"
    }
   ],
   "source": [
    "ids[ids.isnull()]"
   ]
  },
  {
   "cell_type": "code",
   "execution_count": 33,
   "metadata": {
    "collapsed": false
   },
   "outputs": [
    {
     "data": {
      "text/plain": [
       "[[('artist:\"Auracle\" album:\"City Slickers\" track:\"Bombs Away Ballet\"', 'FR'),\n",
       "  ('artist:\"Auracle\" album:\"City Slickers\" track:\"Bombs Away Ballet\"', 'US')],\n",
       " [('artist:\"Auracle\" album:\"City Slickers\" track:\"City of Penetrating Light\"',\n",
       "   'FR'),\n",
       "  ('artist:\"Auracle\" album:\"City Slickers\" track:\"City of Penetrating Light\"',\n",
       "   'US')],\n",
       " [('artist:\"Auracle\" album:\"City Slickers\" track:\"Honey\"', 'FR'),\n",
       "  ('artist:\"Auracle\" album:\"City Slickers\" track:\"Honey\"', 'US')],\n",
       " [('artist:\"Auracle\" album:\"City Slickers\" track:\"Little City Slickers\"',\n",
       "   'FR'),\n",
       "  ('artist:\"Auracle\" album:\"City Slickers\" track:\"Little City Slickers\"',\n",
       "   'US')],\n",
       " [('artist:\"Auracle\" album:\"City Slickers\" track:\"Rotary Andy\\'s Raggedy\"',\n",
       "   'FR'),\n",
       "  ('artist:\"Auracle\" album:\"City Slickers\" track:\"Rotary Andys Raggedy\"',\n",
       "   'FR'),\n",
       "  ('artist:\"Auracle\" album:\"City Slickers\" track:\"Rotary Andy\\'s Raggedy\"',\n",
       "   'US'),\n",
       "  ('artist:\"Auracle\" album:\"City Slickers\" track:\"Rotary Andys Raggedy\"',\n",
       "   'US')],\n",
       " [('artist:\"Auracle\" album:\"City Slickers\" track:\"Sambanana\"', 'FR'),\n",
       "  ('artist:\"Auracle\" album:\"City Slickers\" track:\"Sambanana\"', 'US')],\n",
       " [('artist:\"Auracle\" album:\"City Slickers\" track:\"Tied Shoes\"', 'FR'),\n",
       "  ('artist:\"Auracle\" album:\"City Slickers\" track:\"Tied Shoes\"', 'US')],\n",
       " [('artist:\"B.J. Thomas\" album:\"Rain Drops Keep Fallin\\' On My Head\" track:\"Rain Drops Keep Falling on My Head\"',\n",
       "   'FR'),\n",
       "  ('artist:\"B.J. Thomas\" album:\"Rain Drops Keep Fallin On My Head\" track:\"Rain Drops Keep Falling on My Head\"',\n",
       "   'FR'),\n",
       "  ('artist:\"B.J. Thomas\" album:\"Rain Drops Keep Fallin\\' On My Head\" track:\"Rain Drops Keep Falling on My Head\"',\n",
       "   'US'),\n",
       "  ('artist:\"B.J. Thomas\" album:\"Rain Drops Keep Fallin On My Head\" track:\"Rain Drops Keep Falling on My Head\"',\n",
       "   'US')],\n",
       " [('artist:\"Casiopea\" album:\"Crosspoint\" track:\"Galactic Funk\"', 'FR'),\n",
       "  ('artist:\"Casiopea\" album:\"Crosspoint\" track:\"Galactic Funk\"', 'US')],\n",
       " [('artist:\"Casiopea\" album:\"Mint Jams\" track:\"Swear!\"', 'FR'),\n",
       "  ('artist:\"Casiopea\" album:\"Mint Jams\" track:\"Swear!\"', 'US')],\n",
       " [('artist:\"Début de Soirée\" album:\"Jardins d\\'enfants\" track:\"Nuit de Folie\"',\n",
       "   'FR'),\n",
       "  ('artist:\"Début de Soirée\" album:\"Jardins denfants\" track:\"Nuit de Folie\"',\n",
       "   'FR'),\n",
       "  ('artist:\"Début de Soirée\" album:\"Jardins d\\'enfants\" track:\"Nuit de Folie\"',\n",
       "   'US'),\n",
       "  ('artist:\"Début de Soirée\" album:\"Jardins denfants\" track:\"Nuit de Folie\"',\n",
       "   'US')],\n",
       " [('artist:\"Draconian\" album:\"Turning Season Within\" track:\"The Empy Stare / September Ashes\"',\n",
       "   'FR'),\n",
       "  ('artist:\"Draconian\" album:\"Turning Season Within\" track:\"The Empy Stare / September Ashes\"',\n",
       "   'US')],\n",
       " [('artist:\"Flamingosis\" album:\"A Groovy Thing\" track:\"A Groovy Intro\"', 'FR'),\n",
       "  ('artist:\"Flamingosis\" album:\"A Groovy Thing\" track:\"A Groovy Intro\"',\n",
       "   'US')],\n",
       " [('artist:\"Flamingosis\" album:\"A Groovy Thing\" track:\"A Groovy Thing\"', 'FR'),\n",
       "  ('artist:\"Flamingosis\" album:\"A Groovy Thing\" track:\"A Groovy Thing\"',\n",
       "   'US')],\n",
       " [('artist:\"Flamingosis\" album:\"A Groovy Thing\" track:\"Breezy\"', 'FR'),\n",
       "  ('artist:\"Flamingosis\" album:\"A Groovy Thing\" track:\"Breezy\"', 'US')],\n",
       " [('artist:\"Flamingosis\" album:\"A Groovy Thing\" track:\"Come & Get it\"', 'FR'),\n",
       "  ('artist:\"Flamingosis\" album:\"A Groovy Thing\" track:\"Come & Get it\"', 'US')],\n",
       " [('artist:\"Flamingosis\" album:\"A Groovy Thing\" track:\"Don’t Lose the Feeling\"',\n",
       "   'FR'),\n",
       "  ('artist:\"Flamingosis\" album:\"A Groovy Thing\" track:\"Don’t Lose the Feeling\"',\n",
       "   'US')],\n",
       " [('artist:\"Flamingosis\" album:\"A Groovy Thing\" track:\"Flute Salad\"', 'FR'),\n",
       "  ('artist:\"Flamingosis\" album:\"A Groovy Thing\" track:\"Flute Salad\"', 'US')],\n",
       " [('artist:\"Flamingosis\" album:\"A Groovy Thing\" track:\"Get Yourself Together\"',\n",
       "   'FR'),\n",
       "  ('artist:\"Flamingosis\" album:\"A Groovy Thing\" track:\"Get Yourself Together\"',\n",
       "   'US')],\n",
       " [('artist:\"Flamingosis\" album:\"A Groovy Thing\" track:\"Guilty Pleasure\"',\n",
       "   'FR'),\n",
       "  ('artist:\"Flamingosis\" album:\"A Groovy Thing\" track:\"Guilty Pleasure\"',\n",
       "   'US')],\n",
       " [('artist:\"Flamingosis\" album:\"A Groovy Thing\" track:\"High Tide\"', 'FR'),\n",
       "  ('artist:\"Flamingosis\" album:\"A Groovy Thing\" track:\"High Tide\"', 'US')],\n",
       " [('artist:\"Flamingosis\" album:\"A Groovy Thing\" track:\"Keep Shining\"', 'FR'),\n",
       "  ('artist:\"Flamingosis\" album:\"A Groovy Thing\" track:\"Keep Shining\"', 'US')],\n",
       " [('artist:\"Flamingosis\" album:\"A Groovy Thing\" track:\"Long Distance\"', 'FR'),\n",
       "  ('artist:\"Flamingosis\" album:\"A Groovy Thing\" track:\"Long Distance\"', 'US')],\n",
       " [('artist:\"Flamingosis\" album:\"A Groovy Thing\" track:\"Never Felt a Feeling Like This\"',\n",
       "   'FR'),\n",
       "  ('artist:\"Flamingosis\" album:\"A Groovy Thing\" track:\"Never Felt a Feeling Like This\"',\n",
       "   'US')],\n",
       " [('artist:\"Flamingosis\" album:\"A Groovy Thing\" track:\"Not Like the Others\"',\n",
       "   'FR'),\n",
       "  ('artist:\"Flamingosis\" album:\"A Groovy Thing\" track:\"Not Like the Others\"',\n",
       "   'US')],\n",
       " [('artist:\"Flamingosis\" album:\"A Groovy Thing\" track:\"Otaku Mode\"', 'FR'),\n",
       "  ('artist:\"Flamingosis\" album:\"A Groovy Thing\" track:\"Otaku Mode\"', 'US')],\n",
       " [('artist:\"Flamingosis\" album:\"A Groovy Thing\" track:\"Persevere\"', 'FR'),\n",
       "  ('artist:\"Flamingosis\" album:\"A Groovy Thing\" track:\"Persevere\"', 'US')],\n",
       " [('artist:\"Flamingosis\" album:\"A Groovy Thing\" track:\"Soul Crusade\"', 'FR'),\n",
       "  ('artist:\"Flamingosis\" album:\"A Groovy Thing\" track:\"Soul Crusade\"', 'US')],\n",
       " [('artist:\"Flamingosis\" album:\"A Groovy Thing\" track:\"That’s Cold\"', 'FR'),\n",
       "  ('artist:\"Flamingosis\" album:\"A Groovy Thing\" track:\"That’s Cold\"', 'US')],\n",
       " [('artist:\"Flamingosis\" album:\"A Groovy Thing\" track:\"Want Me (Need Me)\"',\n",
       "   'FR'),\n",
       "  ('artist:\"Flamingosis\" album:\"A Groovy Thing\" track:\"Want Me (Need Me)\"',\n",
       "   'US')],\n",
       " [('artist:\"François Valéry\" album:\"Mon pote le DJ\" track:\"Mon pote le DJ\"',\n",
       "   'FR'),\n",
       "  ('artist:\"François Valéry\" album:\"Mon pote le DJ\" track:\"Mon pote le DJ\"',\n",
       "   'US')],\n",
       " [('artist:\"Franzl Lang\" track:\"Auf und auf voll Lebenslust\"', 'FR'),\n",
       "  ('artist:\"Franzl Lang\" track:\"Auf und auf voll Lebenslust\"', 'US')],\n",
       " [('artist:\"Georges Brassens\" album:\"Le Vent\" track:\"Brave Margot\"', 'FR'),\n",
       "  ('artist:\"Georges Brassens\" album:\"Le Vent\" track:\"Brave Margot\"', 'US')],\n",
       " [('artist:\"Georges Brassens\" album:\"Les Copains D\\'Abord\" track:\"Les 4 z\\'arts\"',\n",
       "   'FR'),\n",
       "  ('artist:\"Georges Brassens\" album:\"Les Copains DAbord\" track:\"Les 4 zarts\"',\n",
       "   'FR'),\n",
       "  ('artist:\"Georges Brassens\" album:\"Les Copains D\\'Abord\" track:\"Les 4 z\\'arts\"',\n",
       "   'US'),\n",
       "  ('artist:\"Georges Brassens\" album:\"Les Copains DAbord\" track:\"Les 4 zarts\"',\n",
       "   'US')],\n",
       " [('artist:\"Georges Brassens\" album:\"Les Funérailles d\\'antan\" track:\"Le Bistrot\"',\n",
       "   'FR'),\n",
       "  ('artist:\"Georges Brassens\" album:\"Les Funérailles dantan\" track:\"Le Bistrot\"',\n",
       "   'FR'),\n",
       "  ('artist:\"Georges Brassens\" album:\"Les Funérailles d\\'antan\" track:\"Le Bistrot\"',\n",
       "   'US'),\n",
       "  ('artist:\"Georges Brassens\" album:\"Les Funérailles dantan\" track:\"Le Bistrot\"',\n",
       "   'US')],\n",
       " [('artist:\"GoGo Penguin\" album:\"Man Made Object\" track:\"Unspeakable Word\"',\n",
       "   'FR'),\n",
       "  ('artist:\"GoGo Penguin\" album:\"Man Made Object\" track:\"Unspeakable Word\"',\n",
       "   'US')],\n",
       " [('artist:\"Gorillaz\" album:\"Plastic Beach\" track:\"Pirate\\'s Progress\"', 'FR'),\n",
       "  ('artist:\"Gorillaz\" album:\"Plastic Beach\" track:\"Pirates Progress\"', 'FR'),\n",
       "  ('artist:\"Gorillaz\" album:\"Plastic Beach\" track:\"Pirate\\'s Progress\"', 'US'),\n",
       "  ('artist:\"Gorillaz\" album:\"Plastic Beach\" track:\"Pirates Progress\"', 'US')],\n",
       " [('artist:\"Haken\" album:\"Affinity\" track:\"affinity.exe / Initiate\"', 'FR'),\n",
       "  ('artist:\"Haken\" album:\"Affinity\" track:\"affinity.exe / Initiate\"', 'US')],\n",
       " [('artist:\"Happy End\" album:\"Kazemachi Roman\" track:\"Aiga wo\"', 'FR'),\n",
       "  ('artist:\"Happy End\" album:\"Kazemachi Roman\" track:\"Aiga wo\"', 'US')],\n",
       " [('artist:\"Happy End\" album:\"Kazemachi Roman\" track:\"Ashita tenki ni Naare\"',\n",
       "   'FR'),\n",
       "  ('artist:\"Happy End\" album:\"Kazemachi Roman\" track:\"Ashita tenki ni Naare\"',\n",
       "   'US')],\n",
       " [('artist:\"Happy End\" album:\"Kazemachi Roman\" track:\"Dakishimetai\"', 'FR'),\n",
       "  ('artist:\"Happy End\" album:\"Kazemachi Roman\" track:\"Dakishimetai\"', 'US')],\n",
       " [('artist:\"Happy End\" album:\"Kazemachi Roman\" track:\"Haikara Beautiful\"',\n",
       "   'FR'),\n",
       "  ('artist:\"Happy End\" album:\"Kazemachi Roman\" track:\"Haikara Beautiful\"',\n",
       "   'US')],\n",
       " [('artist:\"Happy End\" album:\"Kazemachi Roman\" track:\"Haikara Hakuchi\"', 'FR'),\n",
       "  ('artist:\"Happy End\" album:\"Kazemachi Roman\" track:\"Haikara Hakuchi\"',\n",
       "   'US')],\n",
       " [('artist:\"Happy End\" album:\"Kazemachi Roman\" track:\"Hanaichimonme\"', 'FR'),\n",
       "  ('artist:\"Happy End\" album:\"Kazemachi Roman\" track:\"Hanaichimonme\"', 'US')],\n",
       " [('artist:\"Happy End\" album:\"Kazemachi Roman\" track:\"Haru Ranman\"', 'FR'),\n",
       "  ('artist:\"Happy End\" album:\"Kazemachi Roman\" track:\"Haru Ranman\"', 'US')],\n",
       " [('artist:\"Happy End\" album:\"Kazemachi Roman\" track:\"Kaze wo Atsumete\"',\n",
       "   'FR'),\n",
       "  ('artist:\"Happy End\" album:\"Kazemachi Roman\" track:\"Kaze wo Atsumete\"',\n",
       "   'US')],\n",
       " [('artist:\"Happy End\" album:\"Kazemachi Roman\" track:\"Kurayamizaka Musasabi Henka\"',\n",
       "   'FR'),\n",
       "  ('artist:\"Happy End\" album:\"Kazemachi Roman\" track:\"Kurayamizaka Musasabi Henka\"',\n",
       "   'US')],\n",
       " [('artist:\"Happy End\" album:\"Kazemachi Roman\" track:\"Natsu nandesu\"', 'FR'),\n",
       "  ('artist:\"Happy End\" album:\"Kazemachi Roman\" track:\"Natsu nandesu\"', 'US')],\n",
       " [('artist:\"Happy End\" album:\"Kazemachi Roman\" track:\"Sorairo no Crayon\"',\n",
       "   'FR'),\n",
       "  ('artist:\"Happy End\" album:\"Kazemachi Roman\" track:\"Sorairo no Crayon\"',\n",
       "   'US')],\n",
       " [('artist:\"Happy End\" album:\"Kazemachi Roman\" track:\"Taifuu\"', 'FR'),\n",
       "  ('artist:\"Happy End\" album:\"Kazemachi Roman\" track:\"Taifuu\"', 'US')],\n",
       " [('artist:\"Incantation\" album:\"Pan Pipes of the Andes\" track:\"Cacharpaya\"',\n",
       "   'FR'),\n",
       "  ('artist:\"Incantation\" album:\"Pan Pipes of the Andes\" track:\"Cacharpaya\"',\n",
       "   'US')],\n",
       " [('artist:\"Jake Chudnow\" album:\"Short Stories\" track:\"Poodles\"', 'FR'),\n",
       "  ('artist:\"Jake Chudnow\" album:\"Short Stories\" track:\"Poodles\"', 'US')],\n",
       " [('artist:\"Jake Chudnow\" album:\"Short Stories\" track:\"Turquoise\"', 'FR'),\n",
       "  ('artist:\"Jake Chudnow\" album:\"Short Stories\" track:\"Turquoise\"', 'US')],\n",
       " [('artist:\"Jun Fukamachi\" album:\"Quark\" track:\"Desillusion\"', 'FR'),\n",
       "  ('artist:\"Jun Fukamachi\" album:\"Quark\" track:\"Desillusion\"', 'US')],\n",
       " [('artist:\"Jun Fukamachi\" album:\"Quark\" track:\"Insight\"', 'FR'),\n",
       "  ('artist:\"Jun Fukamachi\" album:\"Quark\" track:\"Insight\"', 'US')],\n",
       " [('artist:\"Jun Fukamachi\" album:\"Quark\" track:\"Perpetual (Movement)\"', 'FR'),\n",
       "  ('artist:\"Jun Fukamachi\" album:\"Quark\" track:\"Perpetual (Movement)\"', 'US')],\n",
       " [('artist:\"Jun Fukamachi\" album:\"Quark\" track:\"Quark\"', 'FR'),\n",
       "  ('artist:\"Jun Fukamachi\" album:\"Quark\" track:\"Quark\"', 'US')],\n",
       " [('artist:\"Kelly Bailey\" album:\"Half Life 2\" track:\"CP Violation\"', 'FR'),\n",
       "  ('artist:\"Kelly Bailey\" album:\"Half Life 2\" track:\"CP Violation\"', 'US')],\n",
       " [('artist:\"Kenichiro Nishihara\" album:\"Jazzy Folklore\" track:\"Magazine\"',\n",
       "   'FR'),\n",
       "  ('artist:\"Kenichiro Nishihara\" album:\"Jazzy Folklore\" track:\"Magazine\"',\n",
       "   'US')],\n",
       " [('artist:\"Kenichiro Nishihara\" album:\"Jazzy Folklore\" track:\"The Vibe\"',\n",
       "   'FR'),\n",
       "  ('artist:\"Kenichiro Nishihara\" album:\"Jazzy Folklore\" track:\"The Vibe\"',\n",
       "   'US')],\n",
       " [('artist:\"Koji Kondo\" album:\"Ocarina of Time\" track:\"Kokiri Forest\"', 'FR'),\n",
       "  ('artist:\"Koji Kondo\" album:\"Ocarina of Time\" track:\"Kokiri Forest\"', 'US')],\n",
       " [('artist:\"Kristofer Maddigan\" album:\"Cuphead\" track:\"Perilious Piers\"',\n",
       "   'FR'),\n",
       "  ('artist:\"Kristofer Maddigan\" album:\"Cuphead\" track:\"Perilious Piers\"',\n",
       "   'US')],\n",
       " [('artist:\"Lalo Schifrin\" album:\"Steal Away\" track:\"Serenata\"', 'FR'),\n",
       "  ('artist:\"Lalo Schifrin\" album:\"Steal Away\" track:\"Serenata\"', 'US')],\n",
       " [('artist:\"Leprous\" album:\"The Congregation\" track:\"Pixel\"', 'FR'),\n",
       "  ('artist:\"Leprous\" album:\"The Congregation\" track:\"Pixel\"', 'US')],\n",
       " [('artist:\"Lipps Inc.\" album:\"Mouth to Mouth\" track:\"Funkytown\"', 'FR'),\n",
       "  ('artist:\"Lipps Inc.\" album:\"Mouth to Mouth\" track:\"Funkytown\"', 'US')],\n",
       " [('artist:\"Luke Million\" track:\"Ice Ice Arnie (Cool Party)\"', 'FR'),\n",
       "  ('artist:\"Luke Million\" track:\"Ice Ice Arnie (Cool Party)\"', 'US')],\n",
       " [('artist:\"Mahito Yokota\" album:\"Super Mario Galaxy\" track:\"Gusty Gardens\"',\n",
       "   'FR'),\n",
       "  ('artist:\"Mahito Yokota\" album:\"Super Mario Galaxy\" track:\"Gusty Gardens\"',\n",
       "   'US')],\n",
       " [('artist:\"Mozart\" album:\"Requiem in D minor K 626\" track:\"2. Kyrie Eleison\"',\n",
       "   'FR'),\n",
       "  ('artist:\"Mozart\" album:\"Requiem in D minor K 626\" track:\"2. Kyrie Eleison\"',\n",
       "   'US')],\n",
       " [('artist:\"Mozart\" album:\"Requiem in D minor K 626\" track:\"3. Sequenta: Confutatis\"',\n",
       "   'FR'),\n",
       "  ('artist:\"Mozart\" album:\"Requiem in D minor K 626\" track:\"3. Sequenta: Confutatis\"',\n",
       "   'US')],\n",
       " [('artist:\"Mozart\" album:\"Requiem in D minor K 626\" track:\"3. Sequenta: Lacrimosa\"',\n",
       "   'FR'),\n",
       "  ('artist:\"Mozart\" album:\"Requiem in D minor K 626\" track:\"3. Sequenta: Lacrimosa\"',\n",
       "   'US')],\n",
       " [('artist:\"Mozart\" album:\"Requiem in D minor K 626\" track:\"3. Sequenta: Recordare\"',\n",
       "   'FR'),\n",
       "  ('artist:\"Mozart\" album:\"Requiem in D minor K 626\" track:\"3. Sequenta: Recordare\"',\n",
       "   'US')],\n",
       " [('artist:\"Mozart\" album:\"Requiem in D minor K 626\" track:\"3. Sequenta: Rex tremendae\"',\n",
       "   'FR'),\n",
       "  ('artist:\"Mozart\" album:\"Requiem in D minor K 626\" track:\"3. Sequenta: Rex tremendae\"',\n",
       "   'US')],\n",
       " [('artist:\"Mozart\" album:\"Requiem in D minor K 626\" track:\"3. Sequentia: Tubamirum\"',\n",
       "   'FR'),\n",
       "  ('artist:\"Mozart\" album:\"Requiem in D minor K 626\" track:\"3. Sequentia: Tubamirum\"',\n",
       "   'US')],\n",
       " [('artist:\"Mozart\" album:\"Requiem in D minor K 626\" track:\"3a. Sequienta: Dies irae\"',\n",
       "   'FR'),\n",
       "  ('artist:\"Mozart\" album:\"Requiem in D minor K 626\" track:\"3a. Sequienta: Dies irae\"',\n",
       "   'US')],\n",
       " [('artist:\"Porcupine Tree\" album:\"In Absentia\" track:\"Chloroform\"', 'FR'),\n",
       "  ('artist:\"Porcupine Tree\" album:\"In Absentia\" track:\"Chloroform\"', 'US')],\n",
       " [('artist:\"Porcupine Tree\" album:\"In Absentia\" track:\"Drown With Me\"', 'FR'),\n",
       "  ('artist:\"Porcupine Tree\" album:\"In Absentia\" track:\"Drown With Me\"', 'US')],\n",
       " [('artist:\"Porcupine Tree\" album:\"In Absentia\" track:\"Heartattack in a Lay By\"',\n",
       "   'FR'),\n",
       "  ('artist:\"Porcupine Tree\" album:\"In Absentia\" track:\"Heartattack in a Lay By\"',\n",
       "   'US')],\n",
       " [('artist:\"Pulko\" track:\"Du Lourd\"', 'FR'),\n",
       "  ('artist:\"Pulko\" track:\"Du Lourd\"', 'US')],\n",
       " [('artist:\"Santo & Johnny\" album:\"Santo & Johnny\" track:\"Sleep Walk\"', 'FR'),\n",
       "  ('artist:\"Santo & Johnny\" album:\"Santo & Johnny\" track:\"Sleep Walk\"', 'US')],\n",
       " [('artist:\"Snowy White And The White Flames\" album:\"No Faith Required\" track:\"Midnight Blues\"',\n",
       "   'FR'),\n",
       "  ('artist:\"Snowy White And The White Flames\" album:\"No Faith Required\" track:\"Midnight Blues\"',\n",
       "   'US')],\n",
       " [('artist:\"Stand High Patrol\" album:\"Summer on Mars\" track:\"Atmosphere\"',\n",
       "   'FR'),\n",
       "  ('artist:\"Stand High Patrol\" album:\"Summer on Mars\" track:\"Atmosphere\"',\n",
       "   'US')],\n",
       " [('artist:\"Stand High Patrol\" album:\"Summer on Mars\" track:\"Dreamcatcher\"',\n",
       "   'FR'),\n",
       "  ('artist:\"Stand High Patrol\" album:\"Summer on Mars\" track:\"Dreamcatcher\"',\n",
       "   'US')],\n",
       " [('artist:\"Stand High Patrol\" album:\"Summer on Mars\" track:\"Fragile\"', 'FR'),\n",
       "  ('artist:\"Stand High Patrol\" album:\"Summer on Mars\" track:\"Fragile\"', 'US')],\n",
       " [('artist:\"Stand High Patrol\" album:\"Summer on Mars\" track:\"Landlord\"', 'FR'),\n",
       "  ('artist:\"Stand High Patrol\" album:\"Summer on Mars\" track:\"Landlord\"',\n",
       "   'US')],\n",
       " [('artist:\"Stand High Patrol\" album:\"Summer on Mars\" track:\"Raw Lines\"',\n",
       "   'FR'),\n",
       "  ('artist:\"Stand High Patrol\" album:\"Summer on Mars\" track:\"Raw Lines\"',\n",
       "   'US')],\n",
       " [('artist:\"Stand High Patrol\" album:\"Summer on Mars\" track:\"Rosetta\"', 'FR'),\n",
       "  ('artist:\"Stand High Patrol\" album:\"Summer on Mars\" track:\"Rosetta\"', 'US')],\n",
       " [('artist:\"Stand High Patrol\" album:\"Summer on Mars\" track:\"Spring Rain\"',\n",
       "   'FR'),\n",
       "  ('artist:\"Stand High Patrol\" album:\"Summer on Mars\" track:\"Spring Rain\"',\n",
       "   'US')],\n",
       " [('artist:\"Stand High Patrol\" album:\"Summer on Mars\" track:\"Summer on Mars\"',\n",
       "   'FR'),\n",
       "  ('artist:\"Stand High Patrol\" album:\"Summer on Mars\" track:\"Summer on Mars\"',\n",
       "   'US')],\n",
       " [('artist:\"Stand High Patrol\" album:\"Summer on Mars\" track:\"Working Class\"',\n",
       "   'FR'),\n",
       "  ('artist:\"Stand High Patrol\" album:\"Summer on Mars\" track:\"Working Class\"',\n",
       "   'US')],\n",
       " [('artist:\"Steve\\'n\\'Seagulls\" album:\"Farm Machine\" track:\"Thunderstruck\"',\n",
       "   'FR'),\n",
       "  ('artist:\"StevenSeagulls\" album:\"Farm Machine\" track:\"Thunderstruck\"', 'FR'),\n",
       "  ('artist:\"Steve\\'n\\'Seagulls\" album:\"Farm Machine\" track:\"Thunderstruck\"',\n",
       "   'US'),\n",
       "  ('artist:\"StevenSeagulls\" album:\"Farm Machine\" track:\"Thunderstruck\"',\n",
       "   'US')],\n",
       " [('artist:\"Steven Wilson\" album:\"Hand. Cannot. Erase.\" track:\"Transcience\"',\n",
       "   'FR'),\n",
       "  ('artist:\"Steven Wilson\" album:\"Hand. Cannot. Erase.\" track:\"Transcience\"',\n",
       "   'US')],\n",
       " [('artist:\"Stupeflip\" album:\"Terror Maxi\" track:\"Les Ronces\"', 'FR'),\n",
       "  ('artist:\"Stupeflip\" album:\"Terror Maxi\" track:\"Les Ronces\"', 'US')],\n",
       " [('artist:\"Stupeflip\" album:\"Terror Maxi\" track:\"Stupeflip Vite !!!\"', 'FR'),\n",
       "  ('artist:\"Stupeflip\" album:\"Terror Maxi\" track:\"Stupeflip Vite !!!\"', 'US')],\n",
       " [('artist:\"Stupeflip\" album:\"The Hypnoflip Invasion\" track:\"C\\'est un Tube\"',\n",
       "   'FR'),\n",
       "  ('artist:\"Stupeflip\" album:\"The Hypnoflip Invasion\" track:\"Cest un Tube\"',\n",
       "   'FR'),\n",
       "  ('artist:\"Stupeflip\" album:\"The Hypnoflip Invasion\" track:\"C\\'est un Tube\"',\n",
       "   'US'),\n",
       "  ('artist:\"Stupeflip\" album:\"The Hypnoflip Invasion\" track:\"Cest un Tube\"',\n",
       "   'US')],\n",
       " [('artist:\"Stupeflip\" album:\"The Hypnoflip Invasion\" track:\"Cold World\"',\n",
       "   'FR'),\n",
       "  ('artist:\"Stupeflip\" album:\"The Hypnoflip Invasion\" track:\"Cold World\"',\n",
       "   'US')],\n",
       " [('artist:\"System Of A Down\" album:\"Dracula 2000\" track:\"The Metro\"', 'FR'),\n",
       "  ('artist:\"System Of A Down\" album:\"Dracula 2000\" track:\"The Metro\"', 'US')],\n",
       " [('artist:\"The Killers\" album:\"Hot Fuss\" track:\"Somedy Told Me\"', 'FR'),\n",
       "  ('artist:\"The Killers\" album:\"Hot Fuss\" track:\"Somedy Told Me\"', 'US')],\n",
       " [('artist:\"The Pretenders\" album:\"Break Up the Concrete\" track:\"Almost Perfect\"',\n",
       "   'FR'),\n",
       "  ('artist:\"The Pretenders\" album:\"Break Up the Concrete\" track:\"Almost Perfect\"',\n",
       "   'US')],\n",
       " [('artist:\"The Pretenders\" album:\"Break Up the Concrete\" track:\"Boots of Chinese Plastic\"',\n",
       "   'FR'),\n",
       "  ('artist:\"The Pretenders\" album:\"Break Up the Concrete\" track:\"Boots of Chinese Plastic\"',\n",
       "   'US')],\n",
       " [('artist:\"The Pretenders\" album:\"Break Up the Concrete\" track:\"Break Up the Concrete\"',\n",
       "   'FR'),\n",
       "  ('artist:\"The Pretenders\" album:\"Break Up the Concrete\" track:\"Break Up the Concrete\"',\n",
       "   'US')],\n",
       " [('artist:\"The Pretenders\" album:\"Break Up the Concrete\" track:\"Don\\'t Cut Your Hair\"',\n",
       "   'FR'),\n",
       "  ('artist:\"The Pretenders\" album:\"Break Up the Concrete\" track:\"Dont Cut Your Hair\"',\n",
       "   'FR'),\n",
       "  ('artist:\"The Pretenders\" album:\"Break Up the Concrete\" track:\"Don\\'t Cut Your Hair\"',\n",
       "   'US'),\n",
       "  ('artist:\"The Pretenders\" album:\"Break Up the Concrete\" track:\"Dont Cut Your Hair\"',\n",
       "   'US')],\n",
       " [('artist:\"The Pretenders\" album:\"Break Up the Concrete\" track:\"Don\\'t Lose Faith in Me\"',\n",
       "   'FR'),\n",
       "  ('artist:\"The Pretenders\" album:\"Break Up the Concrete\" track:\"Dont Lose Faith in Me\"',\n",
       "   'FR'),\n",
       "  ('artist:\"The Pretenders\" album:\"Break Up the Concrete\" track:\"Don\\'t Lose Faith in Me\"',\n",
       "   'US'),\n",
       "  ('artist:\"The Pretenders\" album:\"Break Up the Concrete\" track:\"Dont Lose Faith in Me\"',\n",
       "   'US')],\n",
       " [('artist:\"The Pretenders\" album:\"Break Up the Concrete\" track:\"Love\\'s a Mystery\"',\n",
       "   'FR'),\n",
       "  ('artist:\"The Pretenders\" album:\"Break Up the Concrete\" track:\"Loves a Mystery\"',\n",
       "   'FR'),\n",
       "  ('artist:\"The Pretenders\" album:\"Break Up the Concrete\" track:\"Love\\'s a Mystery\"',\n",
       "   'US'),\n",
       "  ('artist:\"The Pretenders\" album:\"Break Up the Concrete\" track:\"Loves a Mystery\"',\n",
       "   'US')],\n",
       " [('artist:\"The Pretenders\" album:\"Break Up the Concrete\" track:\"One thing never changed\"',\n",
       "   'FR'),\n",
       "  ('artist:\"The Pretenders\" album:\"Break Up the Concrete\" track:\"One thing never changed\"',\n",
       "   'US')],\n",
       " [('artist:\"The Pretenders\" album:\"Break Up the Concrete\" track:\"Rosalee\"',\n",
       "   'FR'),\n",
       "  ('artist:\"The Pretenders\" album:\"Break Up the Concrete\" track:\"Rosalee\"',\n",
       "   'US')],\n",
       " [('artist:\"The Pretenders\" album:\"Break Up the Concrete\" track:\"The Last Ride\"',\n",
       "   'FR'),\n",
       "  ('artist:\"The Pretenders\" album:\"Break Up the Concrete\" track:\"The Last Ride\"',\n",
       "   'US')],\n",
       " [('artist:\"The Pretenders\" album:\"Break Up the Concrete\" track:\"The Nothing Maker\"',\n",
       "   'FR'),\n",
       "  ('artist:\"The Pretenders\" album:\"Break Up the Concrete\" track:\"The Nothing Maker\"',\n",
       "   'US')],\n",
       " [('artist:\"The Pretenders\" album:\"Break Up the Concrete\" track:\"You Didn\\'t Have To\"',\n",
       "   'FR'),\n",
       "  ('artist:\"The Pretenders\" album:\"Break Up the Concrete\" track:\"You Didnt Have To\"',\n",
       "   'FR'),\n",
       "  ('artist:\"The Pretenders\" album:\"Break Up the Concrete\" track:\"You Didn\\'t Have To\"',\n",
       "   'US'),\n",
       "  ('artist:\"The Pretenders\" album:\"Break Up the Concrete\" track:\"You Didnt Have To\"',\n",
       "   'US')],\n",
       " [('artist:\"The Ramones\" album:\"Ramones\" track:\"Blitzkrieg Bop\"', 'FR'),\n",
       "  ('artist:\"The Ramones\" album:\"Ramones\" track:\"Blitzkrieg Bop\"', 'US')],\n",
       " [('artist:\"The Shutes\" album:\"Bright Blue Berlin Sky\" track:\"Echo Of Love\"',\n",
       "   'FR'),\n",
       "  ('artist:\"The Shutes\" album:\"Bright Blue Berlin Sky\" track:\"Echo Of Love\"',\n",
       "   'US')],\n",
       " [('artist:\"The Skints\" album:\"Swimming Lessons\" track:\"What Did I Learned Today?\"',\n",
       "   'FR'),\n",
       "  ('artist:\"The Skints\" album:\"Swimming Lessons\" track:\"What Did I Learned Today?\"',\n",
       "   'US')],\n",
       " [('artist:\"Todd Terje\" album:\"It\\'s Album Time\" track:\"Alfonso Muskender\"',\n",
       "   'FR'),\n",
       "  ('artist:\"Todd Terje\" album:\"Its Album Time\" track:\"Alfonso Muskender\"',\n",
       "   'FR'),\n",
       "  ('artist:\"Todd Terje\" album:\"It\\'s Album Time\" track:\"Alfonso Muskender\"',\n",
       "   'US'),\n",
       "  ('artist:\"Todd Terje\" album:\"Its Album Time\" track:\"Alfonso Muskender\"',\n",
       "   'US')],\n",
       " [('artist:\"Todd Terje\" album:\"It\\'s Album Time\" track:\"Dolorean Dynamite\"',\n",
       "   'FR'),\n",
       "  ('artist:\"Todd Terje\" album:\"Its Album Time\" track:\"Dolorean Dynamite\"',\n",
       "   'FR'),\n",
       "  ('artist:\"Todd Terje\" album:\"It\\'s Album Time\" track:\"Dolorean Dynamite\"',\n",
       "   'US'),\n",
       "  ('artist:\"Todd Terje\" album:\"Its Album Time\" track:\"Dolorean Dynamite\"',\n",
       "   'US')],\n",
       " [('artist:\"Twenty One Pilots\" album:\"Blurry Face\" track:\"Ride\"', 'FR'),\n",
       "  ('artist:\"Twenty One Pilots\" album:\"Blurry Face\" track:\"Ride\"', 'US')],\n",
       " [('artist:\"Weezer\" album:\"Weezer (Blue Album)\" track:\"Say It Ain\\'t So\"',\n",
       "   'FR'),\n",
       "  ('artist:\"Weezer\" album:\"Weezer (Blue Album)\" track:\"Say It Aint So\"', 'FR'),\n",
       "  ('artist:\"Weezer\" album:\"Weezer (Blue Album)\" track:\"Say It Ain\\'t So\"',\n",
       "   'US'),\n",
       "  ('artist:\"Weezer\" album:\"Weezer (Blue Album)\" track:\"Say It Aint So\"',\n",
       "   'US')],\n",
       " [('artist:\"Johnny \"Guitar\" Watson\" album:\"Love Jones\" track:\"Booty Ooty\"',\n",
       "   'FR'),\n",
       "  ('artist:\"Johnny \"Guitar\" Watson\" album:\"Love Jones\" track:\"Booty Ooty\"',\n",
       "   'US')],\n",
       " [('artist:\"Surface\" album:\"Falling In Love\" track:\"Falling In Love\"', 'FR'),\n",
       "  ('artist:\"Surface\" album:\"Falling In Love\" track:\"Falling In Love\"', 'US')],\n",
       " [('artist:\"Duck Sauce\" album:\"Barbara Streisand\" track:\"Barbara Streisand\"',\n",
       "   'FR'),\n",
       "  ('artist:\"Duck Sauce\" album:\"Barbara Streisand\" track:\"Barbara Streisand\"',\n",
       "   'US')],\n",
       " [('artist:\"Stan Getz\" album:\"Like Someone In Love\" track:\"Like Someone In Love\"',\n",
       "   'FR'),\n",
       "  ('artist:\"Stan Getz\" album:\"Like Someone In Love\" track:\"Like Someone In Love\"',\n",
       "   'US')],\n",
       " [('artist:\"AD/DC\" album:\"The Razor\\'s Edge\" track:\"Thunderstruck\"', 'FR'),\n",
       "  ('artist:\"AD/DC\" album:\"The Razors Edge\" track:\"Thunderstruck\"', 'FR'),\n",
       "  ('artist:\"AD/DC\" album:\"The Razor\\'s Edge\" track:\"Thunderstruck\"', 'US'),\n",
       "  ('artist:\"AD/DC\" album:\"The Razors Edge\" track:\"Thunderstruck\"', 'US')],\n",
       " [('artist:\"Dean Martin\" album:\"Dean Martin Sings\" track:\"That\\'s Amore\"',\n",
       "   'FR'),\n",
       "  ('artist:\"Dean Martin\" album:\"Dean Martin Sings\" track:\"Thats Amore\"', 'FR'),\n",
       "  ('artist:\"Dean Martin\" album:\"Dean Martin Sings\" track:\"That\\'s Amore\"',\n",
       "   'US'),\n",
       "  ('artist:\"Dean Martin\" album:\"Dean Martin Sings\" track:\"Thats Amore\"',\n",
       "   'US')],\n",
       " [('artist:\"AC/DC\" album:\"Dirty Deeds Done Dirt Cheap\" track:\"Jailbreak\"',\n",
       "   'FR'),\n",
       "  ('artist:\"AC/DC\" album:\"Dirty Deeds Done Dirt Cheap\" track:\"Jailbreak\"',\n",
       "   'US')],\n",
       " [('artist:\"Conway Twitty\" album:\"Heart & Soul\" track:\"I\\'d Love to Lay You Down\"',\n",
       "   'FR'),\n",
       "  ('artist:\"Conway Twitty\" album:\"Heart & Soul\" track:\"Id Love to Lay You Down\"',\n",
       "   'FR'),\n",
       "  ('artist:\"Conway Twitty\" album:\"Heart & Soul\" track:\"I\\'d Love to Lay You Down\"',\n",
       "   'US'),\n",
       "  ('artist:\"Conway Twitty\" album:\"Heart & Soul\" track:\"Id Love to Lay You Down\"',\n",
       "   'US')]]"
      ]
     },
     "execution_count": 33,
     "metadata": {},
     "output_type": "execute_result"
    }
   ],
   "source": [
    "bad_formats"
   ]
  },
  {
   "cell_type": "code",
   "execution_count": null,
   "metadata": {
    "collapsed": false
   },
   "outputs": [],
   "source": []
  }
 ],
 "metadata": {
  "kernelspec": {
   "argv": [
    "/home/gary/.virtualenvs/bot_dj/bin/python",
    "-m",
    "ipykernel_launcher",
    "-f",
    "{connection_file}"
   ],
   "display_name": "bot_dj",
   "env": null,
   "interrupt_mode": "signal",
   "language": "python",
   "metadata": null,
   "name": "bot_dj"
  },
  "name": "test_connect_spotify.ipynb"
 },
 "nbformat": 4,
 "nbformat_minor": 4
}
