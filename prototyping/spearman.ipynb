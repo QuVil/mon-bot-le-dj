{
 "cells": [
  {
   "cell_type": "code",
   "execution_count": 1,
   "metadata": {
    "pycharm": {
     "is_executing": false
    }
   },
   "outputs": [],
   "source": [
    "import numpy as np\n",
    "import pandas as pd"
   ]
  },
  {
   "cell_type": "code",
   "execution_count": 2,
   "metadata": {
    "pycharm": {
     "is_executing": false
    }
   },
   "outputs": [],
   "source": [
    "data = pd.read_csv(\"../data/csv/achmusik.csv\")"
   ]
  },
  {
   "cell_type": "code",
   "execution_count": 3,
   "metadata": {
    "pycharm": {
     "is_executing": false
    }
   },
   "outputs": [],
   "source": [
    "# Getting the decimals right -- commas to points and no more Nones\n",
    "data = data.set_index([\"genre\", \"sub_genre\", \"artist\", \"album\", \"song\"])\n",
    "data.fillna(value=\"\", inplace=True)\n",
    "\n",
    "for i in range(data.columns.size):\n",
    "    data[data.columns[i]] = pd.to_numeric(data[data.columns[i]], errors='coerce')\n"
   ]
  },
  {
   "cell_type": "code",
   "execution_count": 4,
   "metadata": {
    "pycharm": {
     "is_executing": false
    }
   },
   "outputs": [
    {
     "data": {
      "text/html": [
       "<div>\n",
       "<style scoped>\n",
       "    .dataframe tbody tr th:only-of-type {\n",
       "        vertical-align: middle;\n",
       "    }\n",
       "\n",
       "    .dataframe tbody tr th {\n",
       "        vertical-align: top;\n",
       "    }\n",
       "\n",
       "    .dataframe thead th {\n",
       "        text-align: right;\n",
       "    }\n",
       "</style>\n",
       "<table border=\"1\" class=\"dataframe\">\n",
       "  <thead>\n",
       "    <tr style=\"text-align: right;\">\n",
       "      <th></th>\n",
       "      <th>Qu</th>\n",
       "      <th>Gr</th>\n",
       "      <th>Vi</th>\n",
       "      <th>Ro</th>\n",
       "      <th>Sa</th>\n",
       "      <th>Gl</th>\n",
       "      <th>Cl</th>\n",
       "      <th>Lu</th>\n",
       "      <th>Gë</th>\n",
       "      <th>Et</th>\n",
       "      <th>Ti</th>\n",
       "      <th>Be</th>\n",
       "      <th>api:Spotify</th>\n",
       "      <th>alb?</th>\n",
       "    </tr>\n",
       "  </thead>\n",
       "  <tbody>\n",
       "    <tr>\n",
       "      <th>Qu</th>\n",
       "      <td>1.000000</td>\n",
       "      <td>0.500649</td>\n",
       "      <td>0.571460</td>\n",
       "      <td>0.186550</td>\n",
       "      <td>0.433386</td>\n",
       "      <td>0.365825</td>\n",
       "      <td>-0.276770</td>\n",
       "      <td>0.417986</td>\n",
       "      <td>0.238701</td>\n",
       "      <td>-0.331488</td>\n",
       "      <td>0.455814</td>\n",
       "      <td>NaN</td>\n",
       "      <td>NaN</td>\n",
       "      <td>-0.265900</td>\n",
       "    </tr>\n",
       "    <tr>\n",
       "      <th>Gr</th>\n",
       "      <td>0.500649</td>\n",
       "      <td>1.000000</td>\n",
       "      <td>0.330787</td>\n",
       "      <td>0.156764</td>\n",
       "      <td>0.232234</td>\n",
       "      <td>0.022699</td>\n",
       "      <td>0.102822</td>\n",
       "      <td>0.475727</td>\n",
       "      <td>0.325873</td>\n",
       "      <td>0.047227</td>\n",
       "      <td>0.316781</td>\n",
       "      <td>NaN</td>\n",
       "      <td>NaN</td>\n",
       "      <td>-0.184317</td>\n",
       "    </tr>\n",
       "    <tr>\n",
       "      <th>Vi</th>\n",
       "      <td>0.571460</td>\n",
       "      <td>0.330787</td>\n",
       "      <td>1.000000</td>\n",
       "      <td>0.040099</td>\n",
       "      <td>0.396822</td>\n",
       "      <td>0.545850</td>\n",
       "      <td>0.213845</td>\n",
       "      <td>0.600793</td>\n",
       "      <td>0.247739</td>\n",
       "      <td>0.329419</td>\n",
       "      <td>0.547551</td>\n",
       "      <td>NaN</td>\n",
       "      <td>NaN</td>\n",
       "      <td>-0.149188</td>\n",
       "    </tr>\n",
       "    <tr>\n",
       "      <th>Ro</th>\n",
       "      <td>0.186550</td>\n",
       "      <td>0.156764</td>\n",
       "      <td>0.040099</td>\n",
       "      <td>1.000000</td>\n",
       "      <td>-0.070297</td>\n",
       "      <td>0.186187</td>\n",
       "      <td>0.119175</td>\n",
       "      <td>0.733487</td>\n",
       "      <td>0.397397</td>\n",
       "      <td>0.527146</td>\n",
       "      <td>0.169265</td>\n",
       "      <td>NaN</td>\n",
       "      <td>NaN</td>\n",
       "      <td>-0.043291</td>\n",
       "    </tr>\n",
       "    <tr>\n",
       "      <th>Sa</th>\n",
       "      <td>0.433386</td>\n",
       "      <td>0.232234</td>\n",
       "      <td>0.396822</td>\n",
       "      <td>-0.070297</td>\n",
       "      <td>1.000000</td>\n",
       "      <td>0.226910</td>\n",
       "      <td>-0.015518</td>\n",
       "      <td>0.300000</td>\n",
       "      <td>0.108304</td>\n",
       "      <td>0.704794</td>\n",
       "      <td>0.082726</td>\n",
       "      <td>NaN</td>\n",
       "      <td>NaN</td>\n",
       "      <td>-0.028062</td>\n",
       "    </tr>\n",
       "    <tr>\n",
       "      <th>Gl</th>\n",
       "      <td>0.365825</td>\n",
       "      <td>0.022699</td>\n",
       "      <td>0.545850</td>\n",
       "      <td>0.186187</td>\n",
       "      <td>0.226910</td>\n",
       "      <td>1.000000</td>\n",
       "      <td>0.172280</td>\n",
       "      <td>0.800000</td>\n",
       "      <td>0.452002</td>\n",
       "      <td>0.564288</td>\n",
       "      <td>0.142733</td>\n",
       "      <td>NaN</td>\n",
       "      <td>NaN</td>\n",
       "      <td>0.102726</td>\n",
       "    </tr>\n",
       "    <tr>\n",
       "      <th>Cl</th>\n",
       "      <td>-0.276770</td>\n",
       "      <td>0.102822</td>\n",
       "      <td>0.213845</td>\n",
       "      <td>0.119175</td>\n",
       "      <td>-0.015518</td>\n",
       "      <td>0.172280</td>\n",
       "      <td>1.000000</td>\n",
       "      <td>0.400000</td>\n",
       "      <td>0.506942</td>\n",
       "      <td>0.210819</td>\n",
       "      <td>0.079772</td>\n",
       "      <td>NaN</td>\n",
       "      <td>NaN</td>\n",
       "      <td>-0.235756</td>\n",
       "    </tr>\n",
       "    <tr>\n",
       "      <th>Lu</th>\n",
       "      <td>0.417986</td>\n",
       "      <td>0.475727</td>\n",
       "      <td>0.600793</td>\n",
       "      <td>0.733487</td>\n",
       "      <td>0.300000</td>\n",
       "      <td>0.800000</td>\n",
       "      <td>0.400000</td>\n",
       "      <td>1.000000</td>\n",
       "      <td>0.723114</td>\n",
       "      <td>0.101543</td>\n",
       "      <td>0.460233</td>\n",
       "      <td>NaN</td>\n",
       "      <td>NaN</td>\n",
       "      <td>0.106067</td>\n",
       "    </tr>\n",
       "    <tr>\n",
       "      <th>Gë</th>\n",
       "      <td>0.238701</td>\n",
       "      <td>0.325873</td>\n",
       "      <td>0.247739</td>\n",
       "      <td>0.397397</td>\n",
       "      <td>0.108304</td>\n",
       "      <td>0.452002</td>\n",
       "      <td>0.506942</td>\n",
       "      <td>0.723114</td>\n",
       "      <td>1.000000</td>\n",
       "      <td>0.086958</td>\n",
       "      <td>0.170919</td>\n",
       "      <td>NaN</td>\n",
       "      <td>NaN</td>\n",
       "      <td>-0.088670</td>\n",
       "    </tr>\n",
       "    <tr>\n",
       "      <th>Et</th>\n",
       "      <td>-0.331488</td>\n",
       "      <td>0.047227</td>\n",
       "      <td>0.329419</td>\n",
       "      <td>0.527146</td>\n",
       "      <td>0.704794</td>\n",
       "      <td>0.564288</td>\n",
       "      <td>0.210819</td>\n",
       "      <td>0.101543</td>\n",
       "      <td>0.086958</td>\n",
       "      <td>1.000000</td>\n",
       "      <td>-0.063801</td>\n",
       "      <td>NaN</td>\n",
       "      <td>NaN</td>\n",
       "      <td>-0.359601</td>\n",
       "    </tr>\n",
       "    <tr>\n",
       "      <th>Ti</th>\n",
       "      <td>0.455814</td>\n",
       "      <td>0.316781</td>\n",
       "      <td>0.547551</td>\n",
       "      <td>0.169265</td>\n",
       "      <td>0.082726</td>\n",
       "      <td>0.142733</td>\n",
       "      <td>0.079772</td>\n",
       "      <td>0.460233</td>\n",
       "      <td>0.170919</td>\n",
       "      <td>-0.063801</td>\n",
       "      <td>1.000000</td>\n",
       "      <td>NaN</td>\n",
       "      <td>NaN</td>\n",
       "      <td>-0.116743</td>\n",
       "    </tr>\n",
       "    <tr>\n",
       "      <th>Be</th>\n",
       "      <td>NaN</td>\n",
       "      <td>NaN</td>\n",
       "      <td>NaN</td>\n",
       "      <td>NaN</td>\n",
       "      <td>NaN</td>\n",
       "      <td>NaN</td>\n",
       "      <td>NaN</td>\n",
       "      <td>NaN</td>\n",
       "      <td>NaN</td>\n",
       "      <td>NaN</td>\n",
       "      <td>NaN</td>\n",
       "      <td>NaN</td>\n",
       "      <td>NaN</td>\n",
       "      <td>NaN</td>\n",
       "    </tr>\n",
       "    <tr>\n",
       "      <th>api:Spotify</th>\n",
       "      <td>NaN</td>\n",
       "      <td>NaN</td>\n",
       "      <td>NaN</td>\n",
       "      <td>NaN</td>\n",
       "      <td>NaN</td>\n",
       "      <td>NaN</td>\n",
       "      <td>NaN</td>\n",
       "      <td>NaN</td>\n",
       "      <td>NaN</td>\n",
       "      <td>NaN</td>\n",
       "      <td>NaN</td>\n",
       "      <td>NaN</td>\n",
       "      <td>NaN</td>\n",
       "      <td>NaN</td>\n",
       "    </tr>\n",
       "    <tr>\n",
       "      <th>alb?</th>\n",
       "      <td>-0.265900</td>\n",
       "      <td>-0.184317</td>\n",
       "      <td>-0.149188</td>\n",
       "      <td>-0.043291</td>\n",
       "      <td>-0.028062</td>\n",
       "      <td>0.102726</td>\n",
       "      <td>-0.235756</td>\n",
       "      <td>0.106067</td>\n",
       "      <td>-0.088670</td>\n",
       "      <td>-0.359601</td>\n",
       "      <td>-0.116743</td>\n",
       "      <td>NaN</td>\n",
       "      <td>NaN</td>\n",
       "      <td>1.000000</td>\n",
       "    </tr>\n",
       "  </tbody>\n",
       "</table>\n",
       "</div>"
      ],
      "text/plain": [
       "                   Qu        Gr        Vi        Ro        Sa        Gl  \\\n",
       "Qu           1.000000  0.500649  0.571460  0.186550  0.433386  0.365825   \n",
       "Gr           0.500649  1.000000  0.330787  0.156764  0.232234  0.022699   \n",
       "Vi           0.571460  0.330787  1.000000  0.040099  0.396822  0.545850   \n",
       "Ro           0.186550  0.156764  0.040099  1.000000 -0.070297  0.186187   \n",
       "Sa           0.433386  0.232234  0.396822 -0.070297  1.000000  0.226910   \n",
       "Gl           0.365825  0.022699  0.545850  0.186187  0.226910  1.000000   \n",
       "Cl          -0.276770  0.102822  0.213845  0.119175 -0.015518  0.172280   \n",
       "Lu           0.417986  0.475727  0.600793  0.733487  0.300000  0.800000   \n",
       "Gë           0.238701  0.325873  0.247739  0.397397  0.108304  0.452002   \n",
       "Et          -0.331488  0.047227  0.329419  0.527146  0.704794  0.564288   \n",
       "Ti           0.455814  0.316781  0.547551  0.169265  0.082726  0.142733   \n",
       "Be                NaN       NaN       NaN       NaN       NaN       NaN   \n",
       "api:Spotify       NaN       NaN       NaN       NaN       NaN       NaN   \n",
       "alb?        -0.265900 -0.184317 -0.149188 -0.043291 -0.028062  0.102726   \n",
       "\n",
       "                   Cl        Lu        Gë        Et        Ti  Be  \\\n",
       "Qu          -0.276770  0.417986  0.238701 -0.331488  0.455814 NaN   \n",
       "Gr           0.102822  0.475727  0.325873  0.047227  0.316781 NaN   \n",
       "Vi           0.213845  0.600793  0.247739  0.329419  0.547551 NaN   \n",
       "Ro           0.119175  0.733487  0.397397  0.527146  0.169265 NaN   \n",
       "Sa          -0.015518  0.300000  0.108304  0.704794  0.082726 NaN   \n",
       "Gl           0.172280  0.800000  0.452002  0.564288  0.142733 NaN   \n",
       "Cl           1.000000  0.400000  0.506942  0.210819  0.079772 NaN   \n",
       "Lu           0.400000  1.000000  0.723114  0.101543  0.460233 NaN   \n",
       "Gë           0.506942  0.723114  1.000000  0.086958  0.170919 NaN   \n",
       "Et           0.210819  0.101543  0.086958  1.000000 -0.063801 NaN   \n",
       "Ti           0.079772  0.460233  0.170919 -0.063801  1.000000 NaN   \n",
       "Be                NaN       NaN       NaN       NaN       NaN NaN   \n",
       "api:Spotify       NaN       NaN       NaN       NaN       NaN NaN   \n",
       "alb?        -0.235756  0.106067 -0.088670 -0.359601 -0.116743 NaN   \n",
       "\n",
       "             api:Spotify      alb?  \n",
       "Qu                   NaN -0.265900  \n",
       "Gr                   NaN -0.184317  \n",
       "Vi                   NaN -0.149188  \n",
       "Ro                   NaN -0.043291  \n",
       "Sa                   NaN -0.028062  \n",
       "Gl                   NaN  0.102726  \n",
       "Cl                   NaN -0.235756  \n",
       "Lu                   NaN  0.106067  \n",
       "Gë                   NaN -0.088670  \n",
       "Et                   NaN -0.359601  \n",
       "Ti                   NaN -0.116743  \n",
       "Be                   NaN       NaN  \n",
       "api:Spotify          NaN       NaN  \n",
       "alb?                 NaN  1.000000  "
      ]
     },
     "execution_count": 4,
     "metadata": {},
     "output_type": "execute_result"
    }
   ],
   "source": [
    "data.corr(method=\"spearman\")"
   ]
  },
  {
   "cell_type": "code",
   "execution_count": 6,
   "metadata": {
    "pycharm": {
     "is_executing": false
    }
   },
   "outputs": [
    {
     "data": {
      "text/plain": [
       "Qu                       George Duke\n",
       "Gr             Derek and the Dominos\n",
       "Vi                      Eric Clapton\n",
       "Ro                      Battle Beast\n",
       "Sa                        Koji Kondo\n",
       "Gl                        Pink Floyd\n",
       "Rx                        Pink Floyd\n",
       "Cl                    Goran Bregović\n",
       "Lu                         Caballero\n",
       "Gë                       The Animals\n",
       "Et                    Michel Delpech\n",
       "Ti                         Lindemann\n",
       "api:Spotify                      NaN\n",
       "alb?                             C2C\n",
       "dtype: object"
      ]
     },
     "execution_count": 6,
     "metadata": {},
     "output_type": "execute_result"
    }
   ],
   "source": [
    "# data_sample = data.groupby(\"artist\").size()\n",
    "\n",
    "data.groupby(\"artist\").mean().idxmax()"
   ]
  },
  {
   "cell_type": "code",
   "execution_count": 9,
   "metadata": {
    "collapsed": false,
    "jupyter": {
     "outputs_hidden": false
    },
    "pycharm": {
     "is_executing": false,
     "name": "#%%\n"
    }
   },
   "outputs": [
    {
     "data": {
      "text/plain": [
       "Qu                         The Beatles\n",
       "Gr                         The Beatles\n",
       "Vi                         The Beatles\n",
       "Ro                      Marilyn Manson\n",
       "Sa                           Rammstein\n",
       "Gl             Wolfgang Amadeus Mozart\n",
       "Rx             Wolfgang Amadeus Mozart\n",
       "Cl                           Taiwan MC\n",
       "Lu                                10cc\n",
       "Gë                         The Beatles\n",
       "Et                          Alpha Wann\n",
       "Ti                           Rammstein\n",
       "api:Spotify                       10cc\n",
       "alb?                       The Beatles\n",
       "dtype: object"
      ]
     },
     "execution_count": 9,
     "metadata": {},
     "output_type": "execute_result"
    }
   ],
   "source": [
    "data.groupby(\"artist\").agg(\"count\").idxmax()"
   ]
  },
  {
   "cell_type": "code",
   "execution_count": null,
   "metadata": {
    "collapsed": false,
    "jupyter": {
     "outputs_hidden": false
    },
    "pycharm": {
     "name": "#%%\n"
    }
   },
   "outputs": [],
   "source": [
    "\n"
   ]
  }
 ],
 "metadata": {
  "kernelspec": {
   "display_name": "Python 3",
   "language": "python",
   "name": "python3"
  },
  "language_info": {
   "codemirror_mode": {
    "name": "ipython",
    "version": 3
   },
   "file_extension": ".py",
   "mimetype": "text/x-python",
   "name": "python",
   "nbconvert_exporter": "python",
   "pygments_lexer": "ipython3",
   "version": "3.9.1"
  },
  "pycharm": {
   "stem_cell": {
    "cell_type": "raw",
    "metadata": {
     "collapsed": false
    },
    "source": []
   }
  }
 },
 "nbformat": 4,
 "nbformat_minor": 4
}
