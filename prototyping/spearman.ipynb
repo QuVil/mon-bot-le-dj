{
 "cells": [
  {
   "cell_type": "code",
   "execution_count": 1,
   "metadata": {
    "pycharm": {
     "is_executing": false
    }
   },
   "outputs": [],
   "source": [
    "import numpy as np\n",
    "import pandas as pd"
   ]
  },
  {
   "cell_type": "code",
   "execution_count": 2,
   "metadata": {
    "pycharm": {
     "is_executing": false
    }
   },
   "outputs": [],
   "source": [
    "data = pd.read_csv(\"../data/csv/achmusik.csv\")"
   ]
  },
  {
   "cell_type": "code",
   "execution_count": 3,
   "metadata": {
    "pycharm": {
     "is_executing": false
    }
   },
   "outputs": [],
   "source": [
    "# Getting the decimals right -- commas to points and no more Nones\n",
    "data = data.set_index([\"genre\", \"sub_genre\", \"artist\", \"album\", \"song\"])\n",
    "data.fillna(value=\"\", inplace=True)\n",
    "\n",
    "for i in range(data.columns.size):\n",
    "    data[data.columns[i]] = pd.to_numeric(data[data.columns[i]], errors='coerce')\n"
   ]
  },
  {
   "cell_type": "code",
   "execution_count": 4,
   "metadata": {
    "pycharm": {
     "is_executing": false
    }
   },
   "outputs": [
    {
     "data": {
      "text/html": [
       "<div>\n",
       "<style scoped>\n",
       "    .dataframe tbody tr th:only-of-type {\n",
       "        vertical-align: middle;\n",
       "    }\n",
       "\n",
       "    .dataframe tbody tr th {\n",
       "        vertical-align: top;\n",
       "    }\n",
       "\n",
       "    .dataframe thead th {\n",
       "        text-align: right;\n",
       "    }\n",
       "</style>\n",
       "<table border=\"1\" class=\"dataframe\">\n",
       "  <thead>\n",
       "    <tr style=\"text-align: right;\">\n",
       "      <th></th>\n",
       "      <th>Qu</th>\n",
       "      <th>Gr</th>\n",
       "      <th>Vi</th>\n",
       "      <th>Ro</th>\n",
       "      <th>Sa</th>\n",
       "      <th>Gl</th>\n",
       "      <th>Cl</th>\n",
       "      <th>Lu</th>\n",
       "      <th>Gë</th>\n",
       "      <th>Et</th>\n",
       "      <th>Ti</th>\n",
       "      <th>Be</th>\n",
       "      <th>api:Spotify</th>\n",
       "      <th>alb?</th>\n",
       "    </tr>\n",
       "  </thead>\n",
       "  <tbody>\n",
       "    <tr>\n",
       "      <th>Qu</th>\n",
       "      <td>1.000000</td>\n",
       "      <td>0.497130</td>\n",
       "      <td>0.563577</td>\n",
       "      <td>0.169532</td>\n",
       "      <td>0.424843</td>\n",
       "      <td>0.371666</td>\n",
       "      <td>-0.282756</td>\n",
       "      <td>0.387698</td>\n",
       "      <td>0.221258</td>\n",
       "      <td>-0.266889</td>\n",
       "      <td>0.449957</td>\n",
       "      <td>NaN</td>\n",
       "      <td>NaN</td>\n",
       "      <td>-0.290003</td>\n",
       "    </tr>\n",
       "    <tr>\n",
       "      <th>Gr</th>\n",
       "      <td>0.497130</td>\n",
       "      <td>1.000000</td>\n",
       "      <td>0.331323</td>\n",
       "      <td>0.155964</td>\n",
       "      <td>0.232234</td>\n",
       "      <td>0.022699</td>\n",
       "      <td>0.102822</td>\n",
       "      <td>0.475727</td>\n",
       "      <td>0.325873</td>\n",
       "      <td>0.047227</td>\n",
       "      <td>0.316781</td>\n",
       "      <td>NaN</td>\n",
       "      <td>NaN</td>\n",
       "      <td>-0.184627</td>\n",
       "    </tr>\n",
       "    <tr>\n",
       "      <th>Vi</th>\n",
       "      <td>0.563577</td>\n",
       "      <td>0.331323</td>\n",
       "      <td>1.000000</td>\n",
       "      <td>0.051355</td>\n",
       "      <td>0.396603</td>\n",
       "      <td>0.542063</td>\n",
       "      <td>0.199324</td>\n",
       "      <td>0.434936</td>\n",
       "      <td>0.260377</td>\n",
       "      <td>0.305176</td>\n",
       "      <td>0.537070</td>\n",
       "      <td>NaN</td>\n",
       "      <td>NaN</td>\n",
       "      <td>-0.146195</td>\n",
       "    </tr>\n",
       "    <tr>\n",
       "      <th>Ro</th>\n",
       "      <td>0.169532</td>\n",
       "      <td>0.155964</td>\n",
       "      <td>0.051355</td>\n",
       "      <td>1.000000</td>\n",
       "      <td>-0.068431</td>\n",
       "      <td>0.186187</td>\n",
       "      <td>0.119175</td>\n",
       "      <td>0.733487</td>\n",
       "      <td>0.385987</td>\n",
       "      <td>0.527146</td>\n",
       "      <td>0.169568</td>\n",
       "      <td>NaN</td>\n",
       "      <td>NaN</td>\n",
       "      <td>-0.011719</td>\n",
       "    </tr>\n",
       "    <tr>\n",
       "      <th>Sa</th>\n",
       "      <td>0.424843</td>\n",
       "      <td>0.232234</td>\n",
       "      <td>0.396603</td>\n",
       "      <td>-0.068431</td>\n",
       "      <td>1.000000</td>\n",
       "      <td>0.226910</td>\n",
       "      <td>-0.015518</td>\n",
       "      <td>0.300000</td>\n",
       "      <td>0.108304</td>\n",
       "      <td>0.704794</td>\n",
       "      <td>0.082726</td>\n",
       "      <td>NaN</td>\n",
       "      <td>NaN</td>\n",
       "      <td>-0.030285</td>\n",
       "    </tr>\n",
       "    <tr>\n",
       "      <th>Gl</th>\n",
       "      <td>0.371666</td>\n",
       "      <td>0.022699</td>\n",
       "      <td>0.542063</td>\n",
       "      <td>0.186187</td>\n",
       "      <td>0.226910</td>\n",
       "      <td>1.000000</td>\n",
       "      <td>0.172280</td>\n",
       "      <td>0.800000</td>\n",
       "      <td>0.452002</td>\n",
       "      <td>0.564288</td>\n",
       "      <td>0.142733</td>\n",
       "      <td>NaN</td>\n",
       "      <td>NaN</td>\n",
       "      <td>0.071199</td>\n",
       "    </tr>\n",
       "    <tr>\n",
       "      <th>Cl</th>\n",
       "      <td>-0.282756</td>\n",
       "      <td>0.102822</td>\n",
       "      <td>0.199324</td>\n",
       "      <td>0.119175</td>\n",
       "      <td>-0.015518</td>\n",
       "      <td>0.172280</td>\n",
       "      <td>1.000000</td>\n",
       "      <td>0.400000</td>\n",
       "      <td>0.506942</td>\n",
       "      <td>0.210819</td>\n",
       "      <td>0.079772</td>\n",
       "      <td>NaN</td>\n",
       "      <td>NaN</td>\n",
       "      <td>-0.190573</td>\n",
       "    </tr>\n",
       "    <tr>\n",
       "      <th>Lu</th>\n",
       "      <td>0.387698</td>\n",
       "      <td>0.475727</td>\n",
       "      <td>0.434936</td>\n",
       "      <td>0.733487</td>\n",
       "      <td>0.300000</td>\n",
       "      <td>0.800000</td>\n",
       "      <td>0.400000</td>\n",
       "      <td>1.000000</td>\n",
       "      <td>0.723114</td>\n",
       "      <td>0.074075</td>\n",
       "      <td>0.460233</td>\n",
       "      <td>NaN</td>\n",
       "      <td>NaN</td>\n",
       "      <td>-0.002801</td>\n",
       "    </tr>\n",
       "    <tr>\n",
       "      <th>Gë</th>\n",
       "      <td>0.221258</td>\n",
       "      <td>0.325873</td>\n",
       "      <td>0.260377</td>\n",
       "      <td>0.385987</td>\n",
       "      <td>0.108304</td>\n",
       "      <td>0.452002</td>\n",
       "      <td>0.506942</td>\n",
       "      <td>0.723114</td>\n",
       "      <td>1.000000</td>\n",
       "      <td>0.086958</td>\n",
       "      <td>0.170919</td>\n",
       "      <td>NaN</td>\n",
       "      <td>NaN</td>\n",
       "      <td>-0.058024</td>\n",
       "    </tr>\n",
       "    <tr>\n",
       "      <th>Et</th>\n",
       "      <td>-0.266889</td>\n",
       "      <td>0.047227</td>\n",
       "      <td>0.305176</td>\n",
       "      <td>0.527146</td>\n",
       "      <td>0.704794</td>\n",
       "      <td>0.564288</td>\n",
       "      <td>0.210819</td>\n",
       "      <td>0.074075</td>\n",
       "      <td>0.086958</td>\n",
       "      <td>1.000000</td>\n",
       "      <td>-0.044082</td>\n",
       "      <td>NaN</td>\n",
       "      <td>NaN</td>\n",
       "      <td>-0.387289</td>\n",
       "    </tr>\n",
       "    <tr>\n",
       "      <th>Ti</th>\n",
       "      <td>0.449957</td>\n",
       "      <td>0.316781</td>\n",
       "      <td>0.537070</td>\n",
       "      <td>0.169568</td>\n",
       "      <td>0.082726</td>\n",
       "      <td>0.142733</td>\n",
       "      <td>0.079772</td>\n",
       "      <td>0.460233</td>\n",
       "      <td>0.170919</td>\n",
       "      <td>-0.044082</td>\n",
       "      <td>1.000000</td>\n",
       "      <td>NaN</td>\n",
       "      <td>NaN</td>\n",
       "      <td>-0.116703</td>\n",
       "    </tr>\n",
       "    <tr>\n",
       "      <th>Be</th>\n",
       "      <td>NaN</td>\n",
       "      <td>NaN</td>\n",
       "      <td>NaN</td>\n",
       "      <td>NaN</td>\n",
       "      <td>NaN</td>\n",
       "      <td>NaN</td>\n",
       "      <td>NaN</td>\n",
       "      <td>NaN</td>\n",
       "      <td>NaN</td>\n",
       "      <td>NaN</td>\n",
       "      <td>NaN</td>\n",
       "      <td>NaN</td>\n",
       "      <td>NaN</td>\n",
       "      <td>NaN</td>\n",
       "    </tr>\n",
       "    <tr>\n",
       "      <th>api:Spotify</th>\n",
       "      <td>NaN</td>\n",
       "      <td>NaN</td>\n",
       "      <td>NaN</td>\n",
       "      <td>NaN</td>\n",
       "      <td>NaN</td>\n",
       "      <td>NaN</td>\n",
       "      <td>NaN</td>\n",
       "      <td>NaN</td>\n",
       "      <td>NaN</td>\n",
       "      <td>NaN</td>\n",
       "      <td>NaN</td>\n",
       "      <td>NaN</td>\n",
       "      <td>NaN</td>\n",
       "      <td>NaN</td>\n",
       "    </tr>\n",
       "    <tr>\n",
       "      <th>alb?</th>\n",
       "      <td>-0.290003</td>\n",
       "      <td>-0.184627</td>\n",
       "      <td>-0.146195</td>\n",
       "      <td>-0.011719</td>\n",
       "      <td>-0.030285</td>\n",
       "      <td>0.071199</td>\n",
       "      <td>-0.190573</td>\n",
       "      <td>-0.002801</td>\n",
       "      <td>-0.058024</td>\n",
       "      <td>-0.387289</td>\n",
       "      <td>-0.116703</td>\n",
       "      <td>NaN</td>\n",
       "      <td>NaN</td>\n",
       "      <td>1.000000</td>\n",
       "    </tr>\n",
       "  </tbody>\n",
       "</table>\n",
       "</div>"
      ],
      "text/plain": [
       "                   Qu        Gr        Vi        Ro        Sa        Gl  \\\n",
       "Qu           1.000000  0.497130  0.563577  0.169532  0.424843  0.371666   \n",
       "Gr           0.497130  1.000000  0.331323  0.155964  0.232234  0.022699   \n",
       "Vi           0.563577  0.331323  1.000000  0.051355  0.396603  0.542063   \n",
       "Ro           0.169532  0.155964  0.051355  1.000000 -0.068431  0.186187   \n",
       "Sa           0.424843  0.232234  0.396603 -0.068431  1.000000  0.226910   \n",
       "Gl           0.371666  0.022699  0.542063  0.186187  0.226910  1.000000   \n",
       "Cl          -0.282756  0.102822  0.199324  0.119175 -0.015518  0.172280   \n",
       "Lu           0.387698  0.475727  0.434936  0.733487  0.300000  0.800000   \n",
       "Gë           0.221258  0.325873  0.260377  0.385987  0.108304  0.452002   \n",
       "Et          -0.266889  0.047227  0.305176  0.527146  0.704794  0.564288   \n",
       "Ti           0.449957  0.316781  0.537070  0.169568  0.082726  0.142733   \n",
       "Be                NaN       NaN       NaN       NaN       NaN       NaN   \n",
       "api:Spotify       NaN       NaN       NaN       NaN       NaN       NaN   \n",
       "alb?        -0.290003 -0.184627 -0.146195 -0.011719 -0.030285  0.071199   \n",
       "\n",
       "                   Cl        Lu        Gë        Et        Ti  Be  \\\n",
       "Qu          -0.282756  0.387698  0.221258 -0.266889  0.449957 NaN   \n",
       "Gr           0.102822  0.475727  0.325873  0.047227  0.316781 NaN   \n",
       "Vi           0.199324  0.434936  0.260377  0.305176  0.537070 NaN   \n",
       "Ro           0.119175  0.733487  0.385987  0.527146  0.169568 NaN   \n",
       "Sa          -0.015518  0.300000  0.108304  0.704794  0.082726 NaN   \n",
       "Gl           0.172280  0.800000  0.452002  0.564288  0.142733 NaN   \n",
       "Cl           1.000000  0.400000  0.506942  0.210819  0.079772 NaN   \n",
       "Lu           0.400000  1.000000  0.723114  0.074075  0.460233 NaN   \n",
       "Gë           0.506942  0.723114  1.000000  0.086958  0.170919 NaN   \n",
       "Et           0.210819  0.074075  0.086958  1.000000 -0.044082 NaN   \n",
       "Ti           0.079772  0.460233  0.170919 -0.044082  1.000000 NaN   \n",
       "Be                NaN       NaN       NaN       NaN       NaN NaN   \n",
       "api:Spotify       NaN       NaN       NaN       NaN       NaN NaN   \n",
       "alb?        -0.190573 -0.002801 -0.058024 -0.387289 -0.116703 NaN   \n",
       "\n",
       "             api:Spotify      alb?  \n",
       "Qu                   NaN -0.290003  \n",
       "Gr                   NaN -0.184627  \n",
       "Vi                   NaN -0.146195  \n",
       "Ro                   NaN -0.011719  \n",
       "Sa                   NaN -0.030285  \n",
       "Gl                   NaN  0.071199  \n",
       "Cl                   NaN -0.190573  \n",
       "Lu                   NaN -0.002801  \n",
       "Gë                   NaN -0.058024  \n",
       "Et                   NaN -0.387289  \n",
       "Ti                   NaN -0.116703  \n",
       "Be                   NaN       NaN  \n",
       "api:Spotify          NaN       NaN  \n",
       "alb?                 NaN  1.000000  "
      ]
     },
     "execution_count": 4,
     "metadata": {},
     "output_type": "execute_result"
    }
   ],
   "source": [
    "data.corr(method=\"spearman\")"
   ]
  },
  {
   "cell_type": "code",
   "execution_count": 5,
   "metadata": {
    "pycharm": {
     "is_executing": false
    }
   },
   "outputs": [
    {
     "data": {
      "text/plain": [
       "Qu                             George Duke\n",
       "Gr                   Derek and the Dominos\n",
       "Vi                            Eric Clapton\n",
       "Ro                            Battle Beast\n",
       "Sa                           Marcus Miller\n",
       "Gl                              Pink Floyd\n",
       "Cl                          Goran Bregović\n",
       "Lu                        Caligula's Horse\n",
       "Gë                             The Animals\n",
       "Et             Communistes En France Choir\n",
       "Ti                               Lindemann\n",
       "Be                                    1991\n",
       "api:Spotify                            NaN\n",
       "alb?                          Zeal & Ardor\n",
       "dtype: object"
      ]
     },
     "execution_count": 5,
     "metadata": {},
     "output_type": "execute_result"
    }
   ],
   "source": [
    "# data_sample = data.groupby(\"artist\").size()\n",
    "\n",
    "data.groupby(\"artist\").mean().idxmax()"
   ]
  },
  {
   "cell_type": "code",
   "execution_count": 6,
   "metadata": {
    "collapsed": false,
    "jupyter": {
     "outputs_hidden": false
    },
    "pycharm": {
     "is_executing": false,
     "name": "#%%\n"
    }
   },
   "outputs": [
    {
     "data": {
      "text/plain": [
       "Qu                                   The Beatles\n",
       "Gr                                   The Beatles\n",
       "Vi                                   The Beatles\n",
       "Ro                                Marilyn Manson\n",
       "Sa                                     Rammstein\n",
       "Gl                       Wolfgang Amadeus Mozart\n",
       "Cl                                     Taiwan MC\n",
       "Lu             Todd Masten, Semitone Media Group\n",
       "Gë                              System Of A Down\n",
       "Et                                    Alpha Wann\n",
       "Ti                                     Rammstein\n",
       "Be                                          1991\n",
       "api:Spotify                                 10cc\n",
       "alb?                                 The Beatles\n",
       "dtype: object"
      ]
     },
     "execution_count": 6,
     "metadata": {},
     "output_type": "execute_result"
    }
   ],
   "source": [
    "data.groupby(\"artist\").agg(\"count\").idxmax()"
   ]
  },
  {
   "cell_type": "code",
   "execution_count": null,
   "metadata": {
    "collapsed": false,
    "jupyter": {
     "outputs_hidden": false
    },
    "pycharm": {
     "name": "#%%\n"
    }
   },
   "outputs": [],
   "source": [
    "\n"
   ]
  }
 ],
 "metadata": {
  "kernelspec": {
   "display_name": "Python 3",
   "language": "python",
   "name": "python3"
  },
  "language_info": {
   "codemirror_mode": {
    "name": "ipython",
    "version": 3
   },
   "file_extension": ".py",
   "mimetype": "text/x-python",
   "name": "python",
   "nbconvert_exporter": "python",
   "pygments_lexer": "ipython3",
   "version": "3.9.1"
  },
  "pycharm": {
   "stem_cell": {
    "cell_type": "raw",
    "metadata": {
     "collapsed": false
    },
    "source": []
   }
  }
 },
 "nbformat": 4,
 "nbformat_minor": 4
}
