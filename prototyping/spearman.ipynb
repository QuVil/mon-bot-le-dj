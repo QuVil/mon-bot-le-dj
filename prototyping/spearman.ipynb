{
 "cells": [
  {
   "cell_type": "code",
   "execution_count": 1,
   "metadata": {
    "pycharm": {
     "is_executing": false
    }
   },
   "outputs": [],
   "source": [
    "import numpy as np\n",
    "import pandas as pd"
   ]
  },
  {
   "cell_type": "code",
   "execution_count": 2,
   "metadata": {
    "pycharm": {
     "is_executing": false
    }
   },
   "outputs": [],
   "source": [
    "data = pd.read_csv(\"../data/csv/achmusik.csv\")"
   ]
  },
  {
   "cell_type": "code",
   "execution_count": 3,
   "metadata": {
    "pycharm": {
     "is_executing": false
    }
   },
   "outputs": [],
   "source": [
    "# Getting the decimals right -- commas to points and no more Nones\n",
    "data = data.set_index([\"genre\", \"sub_genre\", \"artist\", \"album\", \"song\"])\n",
    "data.fillna(value=\"\", inplace=True)\n",
    "\n",
    "for i in range(data.columns.size):\n",
    "    data[data.columns[i]] = pd.to_numeric(data[data.columns[i]], errors='coerce')\n"
   ]
  },
  {
   "cell_type": "code",
   "execution_count": 4,
   "metadata": {
    "pycharm": {
     "is_executing": false
    }
   },
   "outputs": [
    {
     "data": {
      "text/html": [
       "<div>\n",
       "<style scoped>\n",
       "    .dataframe tbody tr th:only-of-type {\n",
       "        vertical-align: middle;\n",
       "    }\n",
       "\n",
       "    .dataframe tbody tr th {\n",
       "        vertical-align: top;\n",
       "    }\n",
       "\n",
       "    .dataframe thead th {\n",
       "        text-align: right;\n",
       "    }\n",
       "</style>\n",
       "<table border=\"1\" class=\"dataframe\">\n",
       "  <thead>\n",
       "    <tr style=\"text-align: right;\">\n",
       "      <th></th>\n",
       "      <th>Qu</th>\n",
       "      <th>Gr</th>\n",
       "      <th>Vi</th>\n",
       "      <th>Ro</th>\n",
       "      <th>Sa</th>\n",
       "      <th>Gl</th>\n",
       "      <th>Rx</th>\n",
       "      <th>Cl</th>\n",
       "      <th>Lu</th>\n",
       "      <th>Gë</th>\n",
       "      <th>Et</th>\n",
       "      <th>Ti</th>\n",
       "      <th>api:Spotify</th>\n",
       "      <th>alb?</th>\n",
       "    </tr>\n",
       "  </thead>\n",
       "  <tbody>\n",
       "    <tr>\n",
       "      <th>Qu</th>\n",
       "      <td>1.000000</td>\n",
       "      <td>0.509200</td>\n",
       "      <td>0.573316</td>\n",
       "      <td>0.209027</td>\n",
       "      <td>0.466992</td>\n",
       "      <td>0.367710</td>\n",
       "      <td>0.374173</td>\n",
       "      <td>-0.285602</td>\n",
       "      <td>0.423956</td>\n",
       "      <td>0.338898</td>\n",
       "      <td>-0.465460</td>\n",
       "      <td>0.482512</td>\n",
       "      <td>NaN</td>\n",
       "      <td>-0.211007</td>\n",
       "    </tr>\n",
       "    <tr>\n",
       "      <th>Gr</th>\n",
       "      <td>0.509200</td>\n",
       "      <td>1.000000</td>\n",
       "      <td>0.333125</td>\n",
       "      <td>0.154195</td>\n",
       "      <td>0.228022</td>\n",
       "      <td>0.066515</td>\n",
       "      <td>-0.088235</td>\n",
       "      <td>0.123222</td>\n",
       "      <td>0.375006</td>\n",
       "      <td>0.343137</td>\n",
       "      <td>-0.028422</td>\n",
       "      <td>0.318677</td>\n",
       "      <td>NaN</td>\n",
       "      <td>-0.186389</td>\n",
       "    </tr>\n",
       "    <tr>\n",
       "      <th>Vi</th>\n",
       "      <td>0.573316</td>\n",
       "      <td>0.333125</td>\n",
       "      <td>1.000000</td>\n",
       "      <td>0.037593</td>\n",
       "      <td>0.407216</td>\n",
       "      <td>0.547415</td>\n",
       "      <td>0.482418</td>\n",
       "      <td>0.221486</td>\n",
       "      <td>0.593065</td>\n",
       "      <td>0.226010</td>\n",
       "      <td>-0.192377</td>\n",
       "      <td>0.552889</td>\n",
       "      <td>NaN</td>\n",
       "      <td>-0.156369</td>\n",
       "    </tr>\n",
       "    <tr>\n",
       "      <th>Ro</th>\n",
       "      <td>0.209027</td>\n",
       "      <td>0.154195</td>\n",
       "      <td>0.037593</td>\n",
       "      <td>1.000000</td>\n",
       "      <td>-0.047969</td>\n",
       "      <td>0.187208</td>\n",
       "      <td>0.051299</td>\n",
       "      <td>0.097937</td>\n",
       "      <td>0.500000</td>\n",
       "      <td>0.371037</td>\n",
       "      <td>0.570390</td>\n",
       "      <td>0.172293</td>\n",
       "      <td>NaN</td>\n",
       "      <td>-0.033998</td>\n",
       "    </tr>\n",
       "    <tr>\n",
       "      <th>Sa</th>\n",
       "      <td>0.466992</td>\n",
       "      <td>0.228022</td>\n",
       "      <td>0.407216</td>\n",
       "      <td>-0.047969</td>\n",
       "      <td>1.000000</td>\n",
       "      <td>0.239003</td>\n",
       "      <td>1.000000</td>\n",
       "      <td>0.100802</td>\n",
       "      <td>0.800000</td>\n",
       "      <td>0.052079</td>\n",
       "      <td>0.666697</td>\n",
       "      <td>0.090836</td>\n",
       "      <td>NaN</td>\n",
       "      <td>0.073105</td>\n",
       "    </tr>\n",
       "    <tr>\n",
       "      <th>Gl</th>\n",
       "      <td>0.367710</td>\n",
       "      <td>0.066515</td>\n",
       "      <td>0.547415</td>\n",
       "      <td>0.187208</td>\n",
       "      <td>0.239003</td>\n",
       "      <td>1.000000</td>\n",
       "      <td>0.734051</td>\n",
       "      <td>0.346464</td>\n",
       "      <td>1.000000</td>\n",
       "      <td>0.419595</td>\n",
       "      <td>0.737865</td>\n",
       "      <td>0.142733</td>\n",
       "      <td>NaN</td>\n",
       "      <td>0.102726</td>\n",
       "    </tr>\n",
       "    <tr>\n",
       "      <th>Rx</th>\n",
       "      <td>0.374173</td>\n",
       "      <td>-0.088235</td>\n",
       "      <td>0.482418</td>\n",
       "      <td>0.051299</td>\n",
       "      <td>1.000000</td>\n",
       "      <td>0.734051</td>\n",
       "      <td>1.000000</td>\n",
       "      <td>NaN</td>\n",
       "      <td>NaN</td>\n",
       "      <td>NaN</td>\n",
       "      <td>NaN</td>\n",
       "      <td>1.000000</td>\n",
       "      <td>NaN</td>\n",
       "      <td>0.452932</td>\n",
       "    </tr>\n",
       "    <tr>\n",
       "      <th>Cl</th>\n",
       "      <td>-0.285602</td>\n",
       "      <td>0.123222</td>\n",
       "      <td>0.221486</td>\n",
       "      <td>0.097937</td>\n",
       "      <td>0.100802</td>\n",
       "      <td>0.346464</td>\n",
       "      <td>NaN</td>\n",
       "      <td>1.000000</td>\n",
       "      <td>0.500000</td>\n",
       "      <td>0.523799</td>\n",
       "      <td>0.500000</td>\n",
       "      <td>0.101930</td>\n",
       "      <td>NaN</td>\n",
       "      <td>-0.337577</td>\n",
       "    </tr>\n",
       "    <tr>\n",
       "      <th>Lu</th>\n",
       "      <td>0.423956</td>\n",
       "      <td>0.375006</td>\n",
       "      <td>0.593065</td>\n",
       "      <td>0.500000</td>\n",
       "      <td>0.800000</td>\n",
       "      <td>1.000000</td>\n",
       "      <td>NaN</td>\n",
       "      <td>0.500000</td>\n",
       "      <td>1.000000</td>\n",
       "      <td>0.846881</td>\n",
       "      <td>-0.500000</td>\n",
       "      <td>0.436441</td>\n",
       "      <td>NaN</td>\n",
       "      <td>-0.040124</td>\n",
       "    </tr>\n",
       "    <tr>\n",
       "      <th>Gë</th>\n",
       "      <td>0.338898</td>\n",
       "      <td>0.343137</td>\n",
       "      <td>0.226010</td>\n",
       "      <td>0.371037</td>\n",
       "      <td>0.052079</td>\n",
       "      <td>0.419595</td>\n",
       "      <td>NaN</td>\n",
       "      <td>0.523799</td>\n",
       "      <td>0.846881</td>\n",
       "      <td>1.000000</td>\n",
       "      <td>0.082572</td>\n",
       "      <td>0.003260</td>\n",
       "      <td>NaN</td>\n",
       "      <td>-0.023585</td>\n",
       "    </tr>\n",
       "    <tr>\n",
       "      <th>Et</th>\n",
       "      <td>-0.465460</td>\n",
       "      <td>-0.028422</td>\n",
       "      <td>-0.192377</td>\n",
       "      <td>0.570390</td>\n",
       "      <td>0.666697</td>\n",
       "      <td>0.737865</td>\n",
       "      <td>NaN</td>\n",
       "      <td>0.500000</td>\n",
       "      <td>-0.500000</td>\n",
       "      <td>0.082572</td>\n",
       "      <td>1.000000</td>\n",
       "      <td>-0.063801</td>\n",
       "      <td>NaN</td>\n",
       "      <td>0.374088</td>\n",
       "    </tr>\n",
       "    <tr>\n",
       "      <th>Ti</th>\n",
       "      <td>0.482512</td>\n",
       "      <td>0.318677</td>\n",
       "      <td>0.552889</td>\n",
       "      <td>0.172293</td>\n",
       "      <td>0.090836</td>\n",
       "      <td>0.142733</td>\n",
       "      <td>1.000000</td>\n",
       "      <td>0.101930</td>\n",
       "      <td>0.436441</td>\n",
       "      <td>0.003260</td>\n",
       "      <td>-0.063801</td>\n",
       "      <td>1.000000</td>\n",
       "      <td>NaN</td>\n",
       "      <td>-0.140130</td>\n",
       "    </tr>\n",
       "    <tr>\n",
       "      <th>api:Spotify</th>\n",
       "      <td>NaN</td>\n",
       "      <td>NaN</td>\n",
       "      <td>NaN</td>\n",
       "      <td>NaN</td>\n",
       "      <td>NaN</td>\n",
       "      <td>NaN</td>\n",
       "      <td>NaN</td>\n",
       "      <td>NaN</td>\n",
       "      <td>NaN</td>\n",
       "      <td>NaN</td>\n",
       "      <td>NaN</td>\n",
       "      <td>NaN</td>\n",
       "      <td>NaN</td>\n",
       "      <td>NaN</td>\n",
       "    </tr>\n",
       "    <tr>\n",
       "      <th>alb?</th>\n",
       "      <td>-0.211007</td>\n",
       "      <td>-0.186389</td>\n",
       "      <td>-0.156369</td>\n",
       "      <td>-0.033998</td>\n",
       "      <td>0.073105</td>\n",
       "      <td>0.102726</td>\n",
       "      <td>0.452932</td>\n",
       "      <td>-0.337577</td>\n",
       "      <td>-0.040124</td>\n",
       "      <td>-0.023585</td>\n",
       "      <td>0.374088</td>\n",
       "      <td>-0.140130</td>\n",
       "      <td>NaN</td>\n",
       "      <td>1.000000</td>\n",
       "    </tr>\n",
       "  </tbody>\n",
       "</table>\n",
       "</div>"
      ],
      "text/plain": [
       "                   Qu        Gr        Vi        Ro        Sa        Gl  \\\n",
       "Qu           1.000000  0.509200  0.573316  0.209027  0.466992  0.367710   \n",
       "Gr           0.509200  1.000000  0.333125  0.154195  0.228022  0.066515   \n",
       "Vi           0.573316  0.333125  1.000000  0.037593  0.407216  0.547415   \n",
       "Ro           0.209027  0.154195  0.037593  1.000000 -0.047969  0.187208   \n",
       "Sa           0.466992  0.228022  0.407216 -0.047969  1.000000  0.239003   \n",
       "Gl           0.367710  0.066515  0.547415  0.187208  0.239003  1.000000   \n",
       "Rx           0.374173 -0.088235  0.482418  0.051299  1.000000  0.734051   \n",
       "Cl          -0.285602  0.123222  0.221486  0.097937  0.100802  0.346464   \n",
       "Lu           0.423956  0.375006  0.593065  0.500000  0.800000  1.000000   \n",
       "Gë           0.338898  0.343137  0.226010  0.371037  0.052079  0.419595   \n",
       "Et          -0.465460 -0.028422 -0.192377  0.570390  0.666697  0.737865   \n",
       "Ti           0.482512  0.318677  0.552889  0.172293  0.090836  0.142733   \n",
       "api:Spotify       NaN       NaN       NaN       NaN       NaN       NaN   \n",
       "alb?        -0.211007 -0.186389 -0.156369 -0.033998  0.073105  0.102726   \n",
       "\n",
       "                   Rx        Cl        Lu        Gë        Et        Ti  \\\n",
       "Qu           0.374173 -0.285602  0.423956  0.338898 -0.465460  0.482512   \n",
       "Gr          -0.088235  0.123222  0.375006  0.343137 -0.028422  0.318677   \n",
       "Vi           0.482418  0.221486  0.593065  0.226010 -0.192377  0.552889   \n",
       "Ro           0.051299  0.097937  0.500000  0.371037  0.570390  0.172293   \n",
       "Sa           1.000000  0.100802  0.800000  0.052079  0.666697  0.090836   \n",
       "Gl           0.734051  0.346464  1.000000  0.419595  0.737865  0.142733   \n",
       "Rx           1.000000       NaN       NaN       NaN       NaN  1.000000   \n",
       "Cl                NaN  1.000000  0.500000  0.523799  0.500000  0.101930   \n",
       "Lu                NaN  0.500000  1.000000  0.846881 -0.500000  0.436441   \n",
       "Gë                NaN  0.523799  0.846881  1.000000  0.082572  0.003260   \n",
       "Et                NaN  0.500000 -0.500000  0.082572  1.000000 -0.063801   \n",
       "Ti           1.000000  0.101930  0.436441  0.003260 -0.063801  1.000000   \n",
       "api:Spotify       NaN       NaN       NaN       NaN       NaN       NaN   \n",
       "alb?         0.452932 -0.337577 -0.040124 -0.023585  0.374088 -0.140130   \n",
       "\n",
       "             api:Spotify      alb?  \n",
       "Qu                   NaN -0.211007  \n",
       "Gr                   NaN -0.186389  \n",
       "Vi                   NaN -0.156369  \n",
       "Ro                   NaN -0.033998  \n",
       "Sa                   NaN  0.073105  \n",
       "Gl                   NaN  0.102726  \n",
       "Rx                   NaN  0.452932  \n",
       "Cl                   NaN -0.337577  \n",
       "Lu                   NaN -0.040124  \n",
       "Gë                   NaN -0.023585  \n",
       "Et                   NaN  0.374088  \n",
       "Ti                   NaN -0.140130  \n",
       "api:Spotify          NaN       NaN  \n",
       "alb?                 NaN  1.000000  "
      ]
     },
     "execution_count": 4,
     "metadata": {},
     "output_type": "execute_result"
    }
   ],
   "source": [
    "data.corr(method=\"spearman\")"
   ]
  },
  {
   "cell_type": "code",
   "execution_count": 6,
   "metadata": {
    "pycharm": {
     "is_executing": false
    }
   },
   "outputs": [
    {
     "data": {
      "text/plain": [
       "Qu                       George Duke\n",
       "Gr             Derek and the Dominos\n",
       "Vi                      Eric Clapton\n",
       "Ro                      Battle Beast\n",
       "Sa                        Koji Kondo\n",
       "Gl                        Pink Floyd\n",
       "Rx                        Pink Floyd\n",
       "Cl                    Goran Bregović\n",
       "Lu                         Caballero\n",
       "Gë                       The Animals\n",
       "Et                    Michel Delpech\n",
       "Ti                         Lindemann\n",
       "api:Spotify                      NaN\n",
       "alb?                             C2C\n",
       "dtype: object"
      ]
     },
     "execution_count": 6,
     "metadata": {},
     "output_type": "execute_result"
    }
   ],
   "source": [
    "# data_sample = data.groupby(\"artist\").size()\n",
    "\n",
    "data.groupby(\"artist\").mean().idxmax()"
   ]
  },
  {
   "cell_type": "code",
   "execution_count": 9,
   "metadata": {
    "collapsed": false,
    "jupyter": {
     "outputs_hidden": false
    },
    "pycharm": {
     "is_executing": false,
     "name": "#%%\n"
    }
   },
   "outputs": [
    {
     "data": {
      "text/plain": [
       "Qu                         The Beatles\n",
       "Gr                         The Beatles\n",
       "Vi                         The Beatles\n",
       "Ro                      Marilyn Manson\n",
       "Sa                           Rammstein\n",
       "Gl             Wolfgang Amadeus Mozart\n",
       "Rx             Wolfgang Amadeus Mozart\n",
       "Cl                           Taiwan MC\n",
       "Lu                                10cc\n",
       "Gë                         The Beatles\n",
       "Et                          Alpha Wann\n",
       "Ti                           Rammstein\n",
       "api:Spotify                       10cc\n",
       "alb?                       The Beatles\n",
       "dtype: object"
      ]
     },
     "execution_count": 9,
     "metadata": {},
     "output_type": "execute_result"
    }
   ],
   "source": [
    "data.groupby(\"artist\").agg(\"count\").idxmax()"
   ]
  },
  {
   "cell_type": "code",
   "execution_count": null,
   "metadata": {
    "collapsed": false,
    "jupyter": {
     "outputs_hidden": false
    },
    "pycharm": {
     "name": "#%%\n"
    }
   },
   "outputs": [],
   "source": [
    "\n"
   ]
  }
 ],
 "metadata": {
  "kernelspec": {
   "display_name": "Python 3",
   "language": "python",
   "name": "python3"
  },
  "language_info": {
   "codemirror_mode": {
    "name": "ipython",
    "version": 3
   },
   "file_extension": ".py",
   "mimetype": "text/x-python",
   "name": "python",
   "nbconvert_exporter": "python",
   "pygments_lexer": "ipython3",
   "version": "3.9.1"
  },
  "pycharm": {
   "stem_cell": {
    "cell_type": "raw",
    "metadata": {
     "collapsed": false
    },
    "source": []
   }
  }
 },
 "nbformat": 4,
 "nbformat_minor": 4
}
