{
 "cells": [
  {
   "cell_type": "code",
   "execution_count": 1,
   "metadata": {
    "pycharm": {
     "is_executing": false
    }
   },
   "outputs": [],
   "source": [
    "import numpy as np\n",
    "import pandas as pd"
   ]
  },
  {
   "cell_type": "code",
   "execution_count": 2,
   "metadata": {
    "pycharm": {
     "is_executing": false
    }
   },
   "outputs": [],
   "source": [
    "data = pd.read_csv(\"../data/csv/achmusik.csv\")"
   ]
  },
  {
   "cell_type": "code",
   "execution_count": 3,
   "metadata": {
    "pycharm": {
     "is_executing": false
    }
   },
   "outputs": [],
   "source": [
    "# Getting the decimals right -- commas to points and no more Nones\n",
    "data = data.set_index([\"genre\", \"sub_genre\", \"artist\", \"album\", \"song\"])\n",
    "data.fillna(value=\"\", inplace=True)\n",
    "\n",
    "for i in range(data.columns.size):\n",
    "    data[data.columns[i]] = pd.to_numeric(data[data.columns[i]], errors='coerce')\n"
   ]
  },
  {
   "cell_type": "code",
   "execution_count": 4,
   "metadata": {
    "pycharm": {
     "is_executing": false
    }
   },
   "outputs": [
    {
     "data": {
      "text/html": [
       "<div>\n",
       "<style scoped>\n",
       "    .dataframe tbody tr th:only-of-type {\n",
       "        vertical-align: middle;\n",
       "    }\n",
       "\n",
       "    .dataframe tbody tr th {\n",
       "        vertical-align: top;\n",
       "    }\n",
       "\n",
       "    .dataframe thead th {\n",
       "        text-align: right;\n",
       "    }\n",
       "</style>\n",
       "<table border=\"1\" class=\"dataframe\">\n",
       "  <thead>\n",
       "    <tr style=\"text-align: right;\">\n",
       "      <th></th>\n",
       "      <th>Qu</th>\n",
       "      <th>Gr</th>\n",
       "      <th>Vi</th>\n",
       "      <th>Ro</th>\n",
       "      <th>Sa</th>\n",
       "      <th>Gl</th>\n",
       "      <th>Rx</th>\n",
       "      <th>Cl</th>\n",
       "      <th>Lu</th>\n",
       "      <th>Gë</th>\n",
       "      <th>Et</th>\n",
       "      <th>Ti</th>\n",
       "      <th>api:Spotify</th>\n",
       "      <th>alb?</th>\n",
       "    </tr>\n",
       "  </thead>\n",
       "  <tbody>\n",
       "    <tr>\n",
       "      <th>Qu</th>\n",
       "      <td>1.000000</td>\n",
       "      <td>0.509902</td>\n",
       "      <td>0.553576</td>\n",
       "      <td>0.204615</td>\n",
       "      <td>0.501310</td>\n",
       "      <td>0.462156</td>\n",
       "      <td>0.437073</td>\n",
       "      <td>-0.200957</td>\n",
       "      <td>0.458019</td>\n",
       "      <td>0.046917</td>\n",
       "      <td>0.092307</td>\n",
       "      <td>0.492674</td>\n",
       "      <td>NaN</td>\n",
       "      <td>-0.050058</td>\n",
       "    </tr>\n",
       "    <tr>\n",
       "      <th>Gr</th>\n",
       "      <td>0.509902</td>\n",
       "      <td>1.000000</td>\n",
       "      <td>0.313454</td>\n",
       "      <td>0.156212</td>\n",
       "      <td>0.207109</td>\n",
       "      <td>0.105440</td>\n",
       "      <td>-0.088235</td>\n",
       "      <td>-0.084129</td>\n",
       "      <td>0.375006</td>\n",
       "      <td>0.253078</td>\n",
       "      <td>0.011506</td>\n",
       "      <td>0.306484</td>\n",
       "      <td>NaN</td>\n",
       "      <td>-0.049234</td>\n",
       "    </tr>\n",
       "    <tr>\n",
       "      <th>Vi</th>\n",
       "      <td>0.553576</td>\n",
       "      <td>0.313454</td>\n",
       "      <td>1.000000</td>\n",
       "      <td>0.008088</td>\n",
       "      <td>0.416802</td>\n",
       "      <td>0.618725</td>\n",
       "      <td>0.617213</td>\n",
       "      <td>0.285368</td>\n",
       "      <td>0.586080</td>\n",
       "      <td>0.035731</td>\n",
       "      <td>-0.080696</td>\n",
       "      <td>0.513859</td>\n",
       "      <td>NaN</td>\n",
       "      <td>-0.066903</td>\n",
       "    </tr>\n",
       "    <tr>\n",
       "      <th>Ro</th>\n",
       "      <td>0.204615</td>\n",
       "      <td>0.156212</td>\n",
       "      <td>0.008088</td>\n",
       "      <td>1.000000</td>\n",
       "      <td>-0.150675</td>\n",
       "      <td>0.248385</td>\n",
       "      <td>0.051299</td>\n",
       "      <td>0.041575</td>\n",
       "      <td>0.800000</td>\n",
       "      <td>0.428351</td>\n",
       "      <td>0.689358</td>\n",
       "      <td>0.147272</td>\n",
       "      <td>NaN</td>\n",
       "      <td>0.008035</td>\n",
       "    </tr>\n",
       "    <tr>\n",
       "      <th>Sa</th>\n",
       "      <td>0.501310</td>\n",
       "      <td>0.207109</td>\n",
       "      <td>0.416802</td>\n",
       "      <td>-0.150675</td>\n",
       "      <td>1.000000</td>\n",
       "      <td>0.086003</td>\n",
       "      <td>1.000000</td>\n",
       "      <td>0.146096</td>\n",
       "      <td>1.000000</td>\n",
       "      <td>-0.632456</td>\n",
       "      <td>1.000000</td>\n",
       "      <td>0.179742</td>\n",
       "      <td>NaN</td>\n",
       "      <td>0.261883</td>\n",
       "    </tr>\n",
       "    <tr>\n",
       "      <th>Gl</th>\n",
       "      <td>0.462156</td>\n",
       "      <td>0.105440</td>\n",
       "      <td>0.618725</td>\n",
       "      <td>0.248385</td>\n",
       "      <td>0.086003</td>\n",
       "      <td>1.000000</td>\n",
       "      <td>0.734051</td>\n",
       "      <td>0.346464</td>\n",
       "      <td>1.000000</td>\n",
       "      <td>0.666886</td>\n",
       "      <td>0.737865</td>\n",
       "      <td>0.086389</td>\n",
       "      <td>NaN</td>\n",
       "      <td>0.060554</td>\n",
       "    </tr>\n",
       "    <tr>\n",
       "      <th>Rx</th>\n",
       "      <td>0.437073</td>\n",
       "      <td>-0.088235</td>\n",
       "      <td>0.617213</td>\n",
       "      <td>0.051299</td>\n",
       "      <td>1.000000</td>\n",
       "      <td>0.734051</td>\n",
       "      <td>1.000000</td>\n",
       "      <td>NaN</td>\n",
       "      <td>NaN</td>\n",
       "      <td>NaN</td>\n",
       "      <td>NaN</td>\n",
       "      <td>NaN</td>\n",
       "      <td>NaN</td>\n",
       "      <td>0.452932</td>\n",
       "    </tr>\n",
       "    <tr>\n",
       "      <th>Cl</th>\n",
       "      <td>-0.200957</td>\n",
       "      <td>-0.084129</td>\n",
       "      <td>0.285368</td>\n",
       "      <td>0.041575</td>\n",
       "      <td>0.146096</td>\n",
       "      <td>0.346464</td>\n",
       "      <td>NaN</td>\n",
       "      <td>1.000000</td>\n",
       "      <td>0.500000</td>\n",
       "      <td>0.331664</td>\n",
       "      <td>1.000000</td>\n",
       "      <td>-0.135859</td>\n",
       "      <td>NaN</td>\n",
       "      <td>-0.286217</td>\n",
       "    </tr>\n",
       "    <tr>\n",
       "      <th>Lu</th>\n",
       "      <td>0.458019</td>\n",
       "      <td>0.375006</td>\n",
       "      <td>0.586080</td>\n",
       "      <td>0.800000</td>\n",
       "      <td>1.000000</td>\n",
       "      <td>1.000000</td>\n",
       "      <td>NaN</td>\n",
       "      <td>0.500000</td>\n",
       "      <td>1.000000</td>\n",
       "      <td>1.000000</td>\n",
       "      <td>-0.500000</td>\n",
       "      <td>0.436441</td>\n",
       "      <td>NaN</td>\n",
       "      <td>0.506135</td>\n",
       "    </tr>\n",
       "    <tr>\n",
       "      <th>Gë</th>\n",
       "      <td>0.046917</td>\n",
       "      <td>0.253078</td>\n",
       "      <td>0.035731</td>\n",
       "      <td>0.428351</td>\n",
       "      <td>-0.632456</td>\n",
       "      <td>0.666886</td>\n",
       "      <td>NaN</td>\n",
       "      <td>0.331664</td>\n",
       "      <td>1.000000</td>\n",
       "      <td>1.000000</td>\n",
       "      <td>-1.000000</td>\n",
       "      <td>-0.248843</td>\n",
       "      <td>NaN</td>\n",
       "      <td>-0.011859</td>\n",
       "    </tr>\n",
       "    <tr>\n",
       "      <th>Et</th>\n",
       "      <td>0.092307</td>\n",
       "      <td>0.011506</td>\n",
       "      <td>-0.080696</td>\n",
       "      <td>0.689358</td>\n",
       "      <td>1.000000</td>\n",
       "      <td>0.737865</td>\n",
       "      <td>NaN</td>\n",
       "      <td>1.000000</td>\n",
       "      <td>-0.500000</td>\n",
       "      <td>-1.000000</td>\n",
       "      <td>1.000000</td>\n",
       "      <td>-0.095517</td>\n",
       "      <td>NaN</td>\n",
       "      <td>0.071052</td>\n",
       "    </tr>\n",
       "    <tr>\n",
       "      <th>Ti</th>\n",
       "      <td>0.492674</td>\n",
       "      <td>0.306484</td>\n",
       "      <td>0.513859</td>\n",
       "      <td>0.147272</td>\n",
       "      <td>0.179742</td>\n",
       "      <td>0.086389</td>\n",
       "      <td>NaN</td>\n",
       "      <td>-0.135859</td>\n",
       "      <td>0.436441</td>\n",
       "      <td>-0.248843</td>\n",
       "      <td>-0.095517</td>\n",
       "      <td>1.000000</td>\n",
       "      <td>NaN</td>\n",
       "      <td>-0.209369</td>\n",
       "    </tr>\n",
       "    <tr>\n",
       "      <th>api:Spotify</th>\n",
       "      <td>NaN</td>\n",
       "      <td>NaN</td>\n",
       "      <td>NaN</td>\n",
       "      <td>NaN</td>\n",
       "      <td>NaN</td>\n",
       "      <td>NaN</td>\n",
       "      <td>NaN</td>\n",
       "      <td>NaN</td>\n",
       "      <td>NaN</td>\n",
       "      <td>NaN</td>\n",
       "      <td>NaN</td>\n",
       "      <td>NaN</td>\n",
       "      <td>NaN</td>\n",
       "      <td>NaN</td>\n",
       "    </tr>\n",
       "    <tr>\n",
       "      <th>alb?</th>\n",
       "      <td>-0.050058</td>\n",
       "      <td>-0.049234</td>\n",
       "      <td>-0.066903</td>\n",
       "      <td>0.008035</td>\n",
       "      <td>0.261883</td>\n",
       "      <td>0.060554</td>\n",
       "      <td>0.452932</td>\n",
       "      <td>-0.286217</td>\n",
       "      <td>0.506135</td>\n",
       "      <td>-0.011859</td>\n",
       "      <td>0.071052</td>\n",
       "      <td>-0.209369</td>\n",
       "      <td>NaN</td>\n",
       "      <td>1.000000</td>\n",
       "    </tr>\n",
       "  </tbody>\n",
       "</table>\n",
       "</div>"
      ],
      "text/plain": [
       "                   Qu        Gr        Vi        Ro        Sa        Gl  \\\n",
       "Qu           1.000000  0.509902  0.553576  0.204615  0.501310  0.462156   \n",
       "Gr           0.509902  1.000000  0.313454  0.156212  0.207109  0.105440   \n",
       "Vi           0.553576  0.313454  1.000000  0.008088  0.416802  0.618725   \n",
       "Ro           0.204615  0.156212  0.008088  1.000000 -0.150675  0.248385   \n",
       "Sa           0.501310  0.207109  0.416802 -0.150675  1.000000  0.086003   \n",
       "Gl           0.462156  0.105440  0.618725  0.248385  0.086003  1.000000   \n",
       "Rx           0.437073 -0.088235  0.617213  0.051299  1.000000  0.734051   \n",
       "Cl          -0.200957 -0.084129  0.285368  0.041575  0.146096  0.346464   \n",
       "Lu           0.458019  0.375006  0.586080  0.800000  1.000000  1.000000   \n",
       "Gë           0.046917  0.253078  0.035731  0.428351 -0.632456  0.666886   \n",
       "Et           0.092307  0.011506 -0.080696  0.689358  1.000000  0.737865   \n",
       "Ti           0.492674  0.306484  0.513859  0.147272  0.179742  0.086389   \n",
       "api:Spotify       NaN       NaN       NaN       NaN       NaN       NaN   \n",
       "alb?        -0.050058 -0.049234 -0.066903  0.008035  0.261883  0.060554   \n",
       "\n",
       "                   Rx        Cl        Lu        Gë        Et        Ti  \\\n",
       "Qu           0.437073 -0.200957  0.458019  0.046917  0.092307  0.492674   \n",
       "Gr          -0.088235 -0.084129  0.375006  0.253078  0.011506  0.306484   \n",
       "Vi           0.617213  0.285368  0.586080  0.035731 -0.080696  0.513859   \n",
       "Ro           0.051299  0.041575  0.800000  0.428351  0.689358  0.147272   \n",
       "Sa           1.000000  0.146096  1.000000 -0.632456  1.000000  0.179742   \n",
       "Gl           0.734051  0.346464  1.000000  0.666886  0.737865  0.086389   \n",
       "Rx           1.000000       NaN       NaN       NaN       NaN       NaN   \n",
       "Cl                NaN  1.000000  0.500000  0.331664  1.000000 -0.135859   \n",
       "Lu                NaN  0.500000  1.000000  1.000000 -0.500000  0.436441   \n",
       "Gë                NaN  0.331664  1.000000  1.000000 -1.000000 -0.248843   \n",
       "Et                NaN  1.000000 -0.500000 -1.000000  1.000000 -0.095517   \n",
       "Ti                NaN -0.135859  0.436441 -0.248843 -0.095517  1.000000   \n",
       "api:Spotify       NaN       NaN       NaN       NaN       NaN       NaN   \n",
       "alb?         0.452932 -0.286217  0.506135 -0.011859  0.071052 -0.209369   \n",
       "\n",
       "             api:Spotify      alb?  \n",
       "Qu                   NaN -0.050058  \n",
       "Gr                   NaN -0.049234  \n",
       "Vi                   NaN -0.066903  \n",
       "Ro                   NaN  0.008035  \n",
       "Sa                   NaN  0.261883  \n",
       "Gl                   NaN  0.060554  \n",
       "Rx                   NaN  0.452932  \n",
       "Cl                   NaN -0.286217  \n",
       "Lu                   NaN  0.506135  \n",
       "Gë                   NaN -0.011859  \n",
       "Et                   NaN  0.071052  \n",
       "Ti                   NaN -0.209369  \n",
       "api:Spotify          NaN       NaN  \n",
       "alb?                 NaN  1.000000  "
      ]
     },
     "execution_count": 4,
     "metadata": {},
     "output_type": "execute_result"
    }
   ],
   "source": [
    "data.corr(method=\"spearman\")"
   ]
  },
  {
   "cell_type": "code",
   "execution_count": 7,
   "metadata": {
    "pycharm": {
     "is_executing": false
    }
   },
   "outputs": [
    {
     "data": {
      "text/plain": [
       "Qu                              George Duke\n",
       "Gr                    Derek and the Dominos\n",
       "Vi                             Eric Clapton\n",
       "Ro                             Battle Beast\n",
       "Sa                               Koji Kondo\n",
       "Gl                               Pink Floyd\n",
       "Rx                               Pink Floyd\n",
       "Cl                                    Atili\n",
       "Lu                                Caballero\n",
       "Gë                    The Mamas & The Papas\n",
       "Et                                      NaN\n",
       "Ti                                Lindemann\n",
       "api:Spotify                             NaN\n",
       "alb?           Creedence Clearwater Revival\n",
       "dtype: object"
      ]
     },
     "execution_count": 7,
     "metadata": {},
     "output_type": "execute_result"
    }
   ],
   "source": [
    "# data_sample = data.groupby(\"artist\").size()\n",
    "\n",
    "data.groupby(\"artist\").mean().idxmax()"
   ]
  },
  {
   "cell_type": "code",
   "execution_count": 8,
   "metadata": {
    "collapsed": false,
    "jupyter": {
     "outputs_hidden": false
    },
    "pycharm": {
     "is_executing": false,
     "name": "#%%\n"
    }
   },
   "outputs": [
    {
     "data": {
      "text/plain": [
       "Qu             The Beatles\n",
       "Gr             The Beatles\n",
       "Vi              Pink Floyd\n",
       "Ro               Powerwolf\n",
       "Sa               Rammstein\n",
       "Gl                  Mozart\n",
       "Rx                  Mozart\n",
       "Cl               Taiwan MC\n",
       "Lu                    10cc\n",
       "Gë                 Parcels\n",
       "Et                    10cc\n",
       "Ti               Rammstein\n",
       "api:Spotify           10cc\n",
       "alb?           The Beatles\n",
       "dtype: object"
      ]
     },
     "execution_count": 8,
     "metadata": {},
     "output_type": "execute_result"
    }
   ],
   "source": [
    "data.groupby(\"artist\").agg(\"count\").idxmax()"
   ]
  },
  {
   "cell_type": "code",
   "execution_count": null,
   "metadata": {
    "collapsed": false,
    "jupyter": {
     "outputs_hidden": false
    },
    "pycharm": {
     "name": "#%%\n"
    }
   },
   "outputs": [],
   "source": [
    "\n"
   ]
  }
 ],
 "metadata": {
  "kernelspec": {
   "display_name": "Python 3",
   "language": "python",
   "name": "python3"
  },
  "language_info": {
   "codemirror_mode": {
    "name": "ipython",
    "version": 3
   },
   "file_extension": ".py",
   "mimetype": "text/x-python",
   "name": "python",
   "nbconvert_exporter": "python",
   "pygments_lexer": "ipython3",
   "version": "3.8.2"
  },
  "pycharm": {
   "stem_cell": {
    "cell_type": "raw",
    "metadata": {
     "collapsed": false
    },
    "source": []
   }
  }
 },
 "nbformat": 4,
 "nbformat_minor": 4
}
