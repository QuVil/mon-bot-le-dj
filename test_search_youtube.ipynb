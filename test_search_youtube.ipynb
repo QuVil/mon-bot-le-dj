{
 "cells": [
  {
   "cell_type": "code",
   "execution_count": 1,
   "metadata": {
    "collapsed": false
   },
   "outputs": [],
   "source": [
    "# autoreload custom modules\n",
    "%load_ext autoreload\n",
    "%autoreload 2"
   ]
  },
  {
   "cell_type": "code",
   "execution_count": 66,
   "metadata": {
    "collapsed": false
   },
   "outputs": [],
   "source": [
    "import pandas as pd\n",
    "import requests\n",
    "import re\n",
    "import json\n",
    "import pprint"
   ]
  },
  {
   "cell_type": "code",
   "execution_count": 3,
   "metadata": {
    "collapsed": false
   },
   "outputs": [],
   "source": [
    "from prototyping.data import load_from_api"
   ]
  },
  {
   "cell_type": "code",
   "execution_count": 39,
   "metadata": {
    "collapsed": false
   },
   "outputs": [],
   "source": [
    "BASE_URL = \"https://www.youtube.com/results\""
   ]
  },
  {
   "cell_type": "code",
   "execution_count": 31,
   "metadata": {
    "collapsed": false
   },
   "outputs": [],
   "source": [
    "ach = load_from_api()\n",
    "ach.set_index(['genre', 'sub_genre', 'artist', 'album', 'song'], inplace=True)"
   ]
  },
  {
   "cell_type": "code",
   "execution_count": 32,
   "metadata": {
    "collapsed": false
   },
   "outputs": [],
   "source": [
    "new_songs = ach.index.to_frame().reset_index(drop=True)"
   ]
  },
  {
   "cell_type": "code",
   "execution_count": 33,
   "metadata": {
    "collapsed": false
   },
   "outputs": [],
   "source": [
    "indexs = pd.MultiIndex.from_frame(new_songs)\n",
    "songs = pd.DataFrame(data=new_songs.values, index=indexs,\n",
    "                        columns=new_songs.columns)\n",
    "ids = pd.Series(index=indexs,\n",
    "                dtype=str, name=\"ids\")"
   ]
  },
  {
   "cell_type": "code",
   "execution_count": 43,
   "metadata": {
    "collapsed": false
   },
   "outputs": [
    {
     "name": "stdout",
     "output_type": "stream",
     "text": [
      "{'search_query': 'Abba I do, I do, I do, I do, I do'}\n"
     ]
    }
   ],
   "source": [
    "for idx, (_, content) in enumerate(songs.iterrows()):\n",
    "    payload = {\n",
    "        \"search_query\": f\"{content['artist']} {content['song']}\"\n",
    "    }\n",
    "    res = requests.get(BASE_URL, params=payload)\n",
    "    print(payload)\n",
    "    break"
   ]
  },
  {
   "cell_type": "code",
   "execution_count": 55,
   "metadata": {
    "collapsed": false
   },
   "outputs": [],
   "source": [
    "data_re = re.compile(r'window\\[\\\"ytInitialData\\\"\\] = (.*);\\n')"
   ]
  },
  {
   "cell_type": "code",
   "execution_count": 62,
   "metadata": {
    "collapsed": false
   },
   "outputs": [],
   "source": [
    "data_str = data_re.search(res.text)"
   ]
  },
  {
   "cell_type": "code",
   "execution_count": 81,
   "metadata": {
    "collapsed": false
   },
   "outputs": [],
   "source": [
    "data = json.loads(data_str.group(1))"
   ]
  },
  {
   "cell_type": "code",
   "execution_count": 90,
   "metadata": {
    "collapsed": false
   },
   "outputs": [
    {
     "data": {
      "text/plain": [
       "21"
      ]
     },
     "execution_count": 90,
     "metadata": {},
     "output_type": "execute_result"
    }
   ],
   "source": [
    "len(reduced)"
   ]
  },
  {
   "cell_type": "code",
   "execution_count": 91,
   "metadata": {
    "collapsed": false
   },
   "outputs": [
    {
     "name": "stdout",
     "output_type": "stream",
     "text": [
      "{'videoRenderer': {'videoId': 'tW3HN_pvbE4',\n",
      "                   'thumbnail': {'thumbnails': [{'url': 'https://i.ytimg.com/vi/tW3HN_pvbE4/hqdefault.jpg?sqp=-oaymwEiCKgBEF5IWvKriqkDFQgBFQAAAAAYASUAAMhCPQCAokN4AQ==&rs=AOn4CLAze8n3CTOY6Y37BASdYyZ7gAwpEw',\n",
      "                                                 'width': 168,\n",
      "                                                 'height': 94},\n",
      "                                                {'url': 'https://i.ytimg.com/vi/tW3HN_pvbE4/hqdefault.jpg?sqp=-oaymwEiCMQBEG5IWvKriqkDFQgBFQAAAAAYASUAAMhCPQCAokN4AQ==&rs=AOn4CLAgbyjAssJhN3EAfsJNOvmyYHcfxA',\n",
      "                                                 'width': 196,\n",
      "                                                 'height': 110},\n",
      "                                                {'url': 'https://i.ytimg.com/vi/tW3HN_pvbE4/hqdefault.jpg?sqp=-oaymwEjCPYBEIoBSFryq4qpAxUIARUAAAAAGAElAADIQj0AgKJDeAE=&rs=AOn4CLD5pQJRlO5zRHKskEaSgo0aiSX60w',\n",
      "                                                 'width': 246,\n",
      "                                                 'height': 138},\n",
      "                                                {'url': 'https://i.ytimg.com/vi/tW3HN_pvbE4/hqdefault.jpg?sqp=-oaymwEjCNACELwBSFryq4qpAxUIARUAAAAAGAElAADIQj0AgKJDeAE=&rs=AOn4CLBczlIJM9K1LVwiVGStGx6nPEWgTg',\n",
      "                                                 'width': 336,\n",
      "                                                 'height': 188}]},\n",
      "                   'title': {'runs': [{'text': 'Abba - I Do, I Do, I Do, I Do, '\n",
      "                                               'I Do (Official Video)'}],\n",
      "                             'accessibility': {'accessibilityData': {'label': 'Abba '\n",
      "                                                                              '- '\n",
      "                                                                              'I '\n",
      "                                                                              'Do, '\n",
      "                                                                              'I '\n",
      "                                                                              'Do, '\n",
      "                                                                              'I '\n",
      "                                                                              'Do, '\n",
      "                                                                              'I '\n",
      "                                                                              'Do, '\n",
      "                                                                              'I '\n",
      "                                                                              'Do '\n",
      "                                                                              '(Official '\n",
      "                                                                              'Video) '\n",
      "                                                                              'av '\n",
      "                                                                              'ABBA '\n",
      "                                                                              'for '\n",
      "                                                                              '10 '\n",
      "                                                                              'år '\n",
      "                                                                              'siden '\n",
      "                                                                              '3 '\n",
      "                                                                              'minutter '\n",
      "                                                                              'og '\n",
      "                                                                              '17 '\n",
      "                                                                              'sekunder '\n",
      "                                                                              'Sett '\n",
      "                                                                              '17\\xa0'\n",
      "                                                                              '063\\xa0'\n",
      "                                                                              '150 '\n",
      "                                                                              'ganger'}}},\n",
      "                   'descriptionSnippet': {'runs': [{'text': 'Listen to '},\n",
      "                                                   {'text': 'ABBA',\n",
      "                                                    'bold': True},\n",
      "                                                   {'text': ': '\n",
      "                                                            'https://play.lnk.to/'},\n",
      "                                                   {'text': 'ABBA',\n",
      "                                                    'bold': True},\n",
      "                                                   {'text': ' Follow '},\n",
      "                                                   {'text': 'ABBA',\n",
      "                                                    'bold': True},\n",
      "                                                   {'text': ' Facebook: '\n",
      "                                                            'https://www.facebook.com/'},\n",
      "                                                   {'text': 'ABBA',\n",
      "                                                    'bold': True},\n",
      "                                                   {'text': '/ Instagram:\\xa0'\n",
      "                                                            '...'}]},\n",
      "                   'longBylineText': {'runs': [{'text': 'ABBA',\n",
      "                                                'navigationEndpoint': {'clickTrackingParams': 'CK8BENwwGAAiEwjCgf_OsbHqAhXPaJsKHaNtDOY=',\n",
      "                                                                       'commandMetadata': {'webCommandMetadata': {'url': '/channel/UCYPs4y5esNqx6ax1CxZws6Q',\n",
      "                                                                                                                  'webPageType': 'WEB_PAGE_TYPE_BROWSE',\n",
      "                                                                                                                  'rootVe': 3611}},\n",
      "                                                                       'browseEndpoint': {'browseId': 'UCYPs4y5esNqx6ax1CxZws6Q',\n",
      "                                                                                          'canonicalBaseUrl': '/channel/UCYPs4y5esNqx6ax1CxZws6Q'}}}]},\n",
      "                   'publishedTimeText': {'simpleText': 'for 10 år siden'},\n",
      "                   'lengthText': {'accessibility': {'accessibilityData': {'label': '3 '\n",
      "                                                                                   'minutter '\n",
      "                                                                                   'og '\n",
      "                                                                                   '17 '\n",
      "                                                                                   'sekunder'}},\n",
      "                                  'simpleText': '3:17'},\n",
      "                   'viewCountText': {'simpleText': 'Sett 17\\xa0063\\xa0150 '\n",
      "                                                   'ganger'},\n",
      "                   'navigationEndpoint': {'clickTrackingParams': 'CK8BENwwGAAiEwjCgf_OsbHqAhXPaJsKHaNtDOYyBnNlYXJjaFIdQWJiYSBJIGRvIEkgZG8gSSBkbyBJIGRvIEkgZG-aAQMQ9CQ=',\n",
      "                                          'commandMetadata': {'webCommandMetadata': {'url': '/watch?v=tW3HN_pvbE4',\n",
      "                                                                                     'webPageType': 'WEB_PAGE_TYPE_WATCH',\n",
      "                                                                                     'rootVe': 3832}},\n",
      "                                          'watchEndpoint': {'videoId': 'tW3HN_pvbE4'}},\n",
      "                   'ownerBadges': [{'metadataBadgeRenderer': {'icon': {'iconType': 'OFFICIAL_ARTIST_BADGE'},\n",
      "                                                              'style': 'BADGE_STYLE_TYPE_VERIFIED_ARTIST',\n",
      "                                                              'tooltip': 'Offisiell '\n",
      "                                                                         'artistkanal',\n",
      "                                                              'trackingParams': 'CK8BENwwGAAiEwjCgf_OsbHqAhXPaJsKHaNtDOY='}}],\n",
      "                   'ownerText': {'runs': [{'text': 'ABBA',\n",
      "                                           'navigationEndpoint': {'clickTrackingParams': 'CK8BENwwGAAiEwjCgf_OsbHqAhXPaJsKHaNtDOY=',\n",
      "                                                                  'commandMetadata': {'webCommandMetadata': {'url': '/channel/UCYPs4y5esNqx6ax1CxZws6Q',\n",
      "                                                                                                             'webPageType': 'WEB_PAGE_TYPE_BROWSE',\n",
      "                                                                                                             'rootVe': 3611}},\n",
      "                                                                  'browseEndpoint': {'browseId': 'UCYPs4y5esNqx6ax1CxZws6Q',\n",
      "                                                                                     'canonicalBaseUrl': '/channel/UCYPs4y5esNqx6ax1CxZws6Q'}}}]},\n",
      "                   'shortBylineText': {'runs': [{'text': 'ABBA',\n",
      "                                                 'navigationEndpoint': {'clickTrackingParams': 'CK8BENwwGAAiEwjCgf_OsbHqAhXPaJsKHaNtDOY=',\n",
      "                                                                        'commandMetadata': {'webCommandMetadata': {'url': '/channel/UCYPs4y5esNqx6ax1CxZws6Q',\n",
      "                                                                                                                   'webPageType': 'WEB_PAGE_TYPE_BROWSE',\n",
      "                                                                                                                   'rootVe': 3611}},\n",
      "                                                                        'browseEndpoint': {'browseId': 'UCYPs4y5esNqx6ax1CxZws6Q',\n",
      "                                                                                           'canonicalBaseUrl': '/channel/UCYPs4y5esNqx6ax1CxZws6Q'}}}]},\n",
      "                   'trackingParams': 'CK8BENwwGAAiEwjCgf_OsbHqAhXPaJsKHaNtDOZAzti90__m8ba1AQ==',\n",
      "                   'showActionMenu': False,\n",
      "                   'shortViewCountText': {'simpleText': 'Sett 17\\xa0mill. '\n",
      "                                                        'ganger'},\n",
      "                   'menu': {'menuRenderer': {'items': [{'menuServiceItemRenderer': {'text': {'runs': [{'text': 'Legg '\n",
      "                                                                                                               'i '\n",
      "                                                                                                               'køen'}]},\n",
      "                                                                                    'icon': {'iconType': 'ADD_TO_QUEUE_TAIL'},\n",
      "                                                                                    'serviceEndpoint': {'clickTrackingParams': 'CLIBEP6YBBgFIhMIwoH_zrGx6gIVz2ibCh2jbQzm',\n",
      "                                                                                                        'commandMetadata': {'webCommandMetadata': {'url': '/service_ajax',\n",
      "                                                                                                                                                   'sendPost': True}},\n",
      "                                                                                                        'signalServiceEndpoint': {'signal': 'CLIENT_SIGNAL',\n",
      "                                                                                                                                  'actions': [{'clickTrackingParams': 'CLIBEP6YBBgFIhMIwoH_zrGx6gIVz2ibCh2jbQzm',\n",
      "                                                                                                                                               'commandMetadata': {'webCommandMetadata': {}},\n",
      "                                                                                                                                               'addToPlaylistCommand': {'openMiniplayer': True,\n",
      "                                                                                                                                                                        'videoId': 'tW3HN_pvbE4',\n",
      "                                                                                                                                                                        'listType': 'PLAYLIST_EDIT_LIST_TYPE_QUEUE',\n",
      "                                                                                                                                                                        'onCreateListCommand': {'clickTrackingParams': 'CLIBEP6YBBgFIhMIwoH_zrGx6gIVz2ibCh2jbQzm',\n",
      "                                                                                                                                                                                                'commandMetadata': {'webCommandMetadata': {'url': '/service_ajax',\n",
      "                                                                                                                                                                                                                                           'sendPost': True,\n",
      "                                                                                                                                                                                                                                           'apiUrl': '/youtubei/v1/playlist/create'}},\n",
      "                                                                                                                                                                                                'createPlaylistServiceEndpoint': {'videoIds': ['tW3HN_pvbE4'],\n",
      "                                                                                                                                                                                                                                  'params': 'CAQ%3D'}},\n",
      "                                                                                                                                                                        'videoIds': ['tW3HN_pvbE4']}}]}},\n",
      "                                                                                    'trackingParams': 'CLIBEP6YBBgFIhMIwoH_zrGx6gIVz2ibCh2jbQzm'}}],\n",
      "                                             'trackingParams': 'CK8BENwwGAAiEwjCgf_OsbHqAhXPaJsKHaNtDOY=',\n",
      "                                             'accessibility': {'accessibilityData': {'label': 'Handlingsmeny'}}}},\n",
      "                   'channelThumbnailSupportedRenderers': {'channelThumbnailWithLinkRenderer': {'thumbnail': {'thumbnails': [{'url': 'https://yt3.ggpht.com/a-/AOh14Gi1LYke3duGSrrVAY_nCCuUlvcwohwX3Gdz4A=s68-c-k-c0x00ffffff-no-rj-mo',\n",
      "                                                                                                                             'width': 68,\n",
      "                                                                                                                             'height': 68}]},\n",
      "                                                                                               'navigationEndpoint': {'clickTrackingParams': 'CK8BENwwGAAiEwjCgf_OsbHqAhXPaJsKHaNtDOY=',\n",
      "                                                                                                                      'commandMetadata': {'webCommandMetadata': {'url': '/channel/UCYPs4y5esNqx6ax1CxZws6Q',\n",
      "                                                                                                                                                                 'webPageType': 'WEB_PAGE_TYPE_BROWSE',\n",
      "                                                                                                                                                                 'rootVe': 3611}},\n",
      "                                                                                                                      'browseEndpoint': {'browseId': 'UCYPs4y5esNqx6ax1CxZws6Q'}},\n",
      "                                                                                               'accessibility': {'accessibilityData': {'label': 'Gå '\n",
      "                                                                                                                                                'til '\n",
      "                                                                                                                                                'kanalen'}}}},\n",
      "                   'thumbnailOverlays': [{'thumbnailOverlayTimeStatusRenderer': {'text': {'accessibility': {'accessibilityData': {'label': '3 '\n",
      "                                                                                                                                           'minutter '\n",
      "                                                                                                                                           'og '\n",
      "                                                                                                                                           '17 '\n",
      "                                                                                                                                           'sekunder'}},\n",
      "                                                                                          'simpleText': '3:17'},\n",
      "                                                                                 'style': 'DEFAULT'}},\n",
      "                                         {'thumbnailOverlayToggleButtonRenderer': {'isToggled': False,\n",
      "                                                                                   'untoggledIcon': {'iconType': 'WATCH_LATER'},\n",
      "                                                                                   'toggledIcon': {'iconType': 'CHECK'},\n",
      "                                                                                   'untoggledTooltip': 'Se '\n",
      "                                                                                                       'senere',\n",
      "                                                                                   'toggledTooltip': 'Lagt '\n",
      "                                                                                                     'til',\n",
      "                                                                                   'untoggledServiceEndpoint': {'clickTrackingParams': 'CLEBEPnnAxgCIhMIwoH_zrGx6gIVz2ibCh2jbQzm',\n",
      "                                                                                                                'commandMetadata': {'webCommandMetadata': {'url': '/service_ajax',\n",
      "                                                                                                                                                           'sendPost': True,\n",
      "                                                                                                                                                           'apiUrl': '/youtubei/v1/browse/edit_playlist'}},\n",
      "                                                                                                                'playlistEditEndpoint': {'playlistId': 'WL',\n",
      "                                                                                                                                         'actions': [{'addedVideoId': 'tW3HN_pvbE4',\n",
      "                                                                                                                                                      'action': 'ACTION_ADD_VIDEO'}]}},\n",
      "                                                                                   'toggledServiceEndpoint': {'clickTrackingParams': 'CLEBEPnnAxgCIhMIwoH_zrGx6gIVz2ibCh2jbQzm',\n",
      "                                                                                                              'commandMetadata': {'webCommandMetadata': {'url': '/service_ajax',\n",
      "                                                                                                                                                         'sendPost': True,\n",
      "                                                                                                                                                         'apiUrl': '/youtubei/v1/browse/edit_playlist'}},\n",
      "                                                                                                              'playlistEditEndpoint': {'playlistId': 'WL',\n",
      "                                                                                                                                       'actions': [{'action': 'ACTION_REMOVE_VIDEO_BY_VIDEO_ID',\n",
      "                                                                                                                                                    'removedVideoId': 'tW3HN_pvbE4'}]}},\n",
      "                                                                                   'untoggledAccessibility': {'accessibilityData': {'label': 'Se '\n",
      "                                                                                                                                             'senere'}},\n",
      "                                                                                   'toggledAccessibility': {'accessibilityData': {'label': 'Lagt '\n",
      "                                                                                                                                           'til'}},\n",
      "                                                                                   'trackingParams': 'CLEBEPnnAxgCIhMIwoH_zrGx6gIVz2ibCh2jbQzm'}},\n",
      "                                         {'thumbnailOverlayToggleButtonRenderer': {'untoggledIcon': {'iconType': 'ADD_TO_QUEUE_TAIL'},\n",
      "                                                                                   'toggledIcon': {'iconType': 'PLAYLIST_ADD_CHECK'},\n",
      "                                                                                   'untoggledTooltip': 'Legg '\n",
      "                                                                                                       'i '\n",
      "                                                                                                       'køen',\n",
      "                                                                                   'toggledTooltip': 'Lagt '\n",
      "                                                                                                     'til',\n",
      "                                                                                   'untoggledServiceEndpoint': {'clickTrackingParams': 'CLABEMfsBBgDIhMIwoH_zrGx6gIVz2ibCh2jbQzm',\n",
      "                                                                                                                'commandMetadata': {'webCommandMetadata': {'url': '/service_ajax',\n",
      "                                                                                                                                                           'sendPost': True}},\n",
      "                                                                                                                'signalServiceEndpoint': {'signal': 'CLIENT_SIGNAL',\n",
      "                                                                                                                                          'actions': [{'clickTrackingParams': 'CLABEMfsBBgDIhMIwoH_zrGx6gIVz2ibCh2jbQzm',\n",
      "                                                                                                                                                       'commandMetadata': {'webCommandMetadata': {}},\n",
      "                                                                                                                                                       'addToPlaylistCommand': {'openMiniplayer': True,\n",
      "                                                                                                                                                                                'videoId': 'tW3HN_pvbE4',\n",
      "                                                                                                                                                                                'listType': 'PLAYLIST_EDIT_LIST_TYPE_QUEUE',\n",
      "                                                                                                                                                                                'onCreateListCommand': {'clickTrackingParams': 'CLABEMfsBBgDIhMIwoH_zrGx6gIVz2ibCh2jbQzm',\n",
      "                                                                                                                                                                                                        'commandMetadata': {'webCommandMetadata': {'url': '/service_ajax',\n",
      "                                                                                                                                                                                                                                                   'sendPost': True,\n",
      "                                                                                                                                                                                                                                                   'apiUrl': '/youtubei/v1/playlist/create'}},\n",
      "                                                                                                                                                                                                        'createPlaylistServiceEndpoint': {'videoIds': ['tW3HN_pvbE4'],\n",
      "                                                                                                                                                                                                                                          'params': 'CAQ%3D'}},\n",
      "                                                                                                                                                                                'videoIds': ['tW3HN_pvbE4']}}]}},\n",
      "                                                                                   'untoggledAccessibility': {'accessibilityData': {'label': 'Legg '\n",
      "                                                                                                                                             'i '\n",
      "                                                                                                                                             'køen'}},\n",
      "                                                                                   'toggledAccessibility': {'accessibilityData': {'label': 'Lagt '\n",
      "                                                                                                                                           'til'}},\n",
      "                                                                                   'trackingParams': 'CLABEMfsBBgDIhMIwoH_zrGx6gIVz2ibCh2jbQzm'}},\n",
      "                                         {'thumbnailOverlayNowPlayingRenderer': {'text': {'runs': [{'text': 'Spilles '\n",
      "                                                                                                            'av '\n",
      "                                                                                                            'nå'}]}}}]}}\n"
     ]
    }
   ],
   "source": [
    "videos = data[\"contents\"][\"twoColumnSearchResultsRenderer\"][\"primaryContents\"][\"sectionListRenderer\"][\"contents\"][0][\"itemSectionRenderer\"][\"contents\"]\n",
    "first_result = videos[0]\n",
    "pprint.pp(first_result)"
   ]
  },
  {
   "cell_type": "code",
   "execution_count": null,
   "metadata": {
    "collapsed": false
   },
   "outputs": [],
   "source": []
  }
 ],
 "metadata": {
  "kernelspec": {
   "argv": [
    "/home/gary/.virtualenvs/bot_dj/bin/python",
    "-m",
    "ipykernel_launcher",
    "-f",
    "{connection_file}"
   ],
   "display_name": "bot_dj",
   "env": null,
   "interrupt_mode": "signal",
   "language": "python",
   "metadata": null,
   "name": "bot_dj"
  },
  "name": "test_search_youtube.ipynb"
 },
 "nbformat": 4,
 "nbformat_minor": 4
}
