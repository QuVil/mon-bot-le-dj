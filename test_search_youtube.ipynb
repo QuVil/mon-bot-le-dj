{
 "cells": [
  {
   "cell_type": "code",
   "execution_count": 1,
   "metadata": {
    "collapsed": false
   },
   "outputs": [],
   "source": [
    "# autoreload custom modules\n",
    "%load_ext autoreload\n",
    "%autoreload 2"
   ]
  },
  {
   "cell_type": "code",
   "execution_count": 66,
   "metadata": {
    "collapsed": false
   },
   "outputs": [],
   "source": [
    "import pandas as pd\n",
    "import requests\n",
    "import re\n",
    "import json\n",
    "import pprint"
   ]
  },
  {
   "cell_type": "code",
   "execution_count": 3,
   "metadata": {
    "collapsed": false
   },
   "outputs": [],
   "source": [
    "from prototyping.data import load_from_api"
   ]
  },
  {
   "cell_type": "code",
   "execution_count": 39,
   "metadata": {
    "collapsed": false
   },
   "outputs": [],
   "source": [
    "BASE_URL = \"https://www.youtube.com/results\""
   ]
  },
  {
   "cell_type": "code",
   "execution_count": 31,
   "metadata": {
    "collapsed": false
   },
   "outputs": [],
   "source": [
    "ach = load_from_api()\n",
    "ach.set_index(['genre', 'sub_genre', 'artist', 'album', 'song'], inplace=True)"
   ]
  },
  {
   "cell_type": "code",
   "execution_count": 32,
   "metadata": {
    "collapsed": false
   },
   "outputs": [],
   "source": [
    "new_songs = ach.index.to_frame().reset_index(drop=True)"
   ]
  },
  {
   "cell_type": "code",
   "execution_count": 33,
   "metadata": {
    "collapsed": false
   },
   "outputs": [],
   "source": [
    "indexs = pd.MultiIndex.from_frame(new_songs)\n",
    "songs = pd.DataFrame(data=new_songs.values, index=indexs,\n",
    "                        columns=new_songs.columns)\n",
    "ids = pd.Series(index=indexs,\n",
    "                dtype=str, name=\"ids\")"
   ]
  },
  {
   "cell_type": "code",
   "execution_count": 94,
   "metadata": {
    "collapsed": false
   },
   "outputs": [],
   "source": [
    "data_re = re.compile(r'window\\[\\\"ytInitialData\\\"\\] = (.*);\\n')"
   ]
  },
  {
   "cell_type": "code",
   "execution_count": 110,
   "metadata": {
    "collapsed": false
   },
   "outputs": [
    {
     "name": "stdout",
     "output_type": "stream",
     "text": [
      "tW3HN_pvbE4 Abba I do, I do, I do, I do, I do topic\n"
     ]
    },
    {
     "name": "stdout",
     "output_type": "stream",
     "text": [
      "BogW-2X_X6k Abba Mamma Mia topic\n"
     ]
    },
    {
     "name": "stdout",
     "output_type": "stream",
     "text": [
      "NJzcqO77sW0 Abba SOS topic\n"
     ]
    },
    {
     "name": "stdout",
     "output_type": "stream",
     "text": [
      "Dpsn_mgEJ_w Abba Knowing me, knowing you topic\n"
     ]
    },
    {
     "name": "stdout",
     "output_type": "stream",
     "text": [
      "5mHzaIehRTE Abba Lay all your love on me topic\n"
     ]
    },
    {
     "name": "stdout",
     "output_type": "stream",
     "text": [
      "bHPrbfng_Nw Abba Super Trouper topic\n"
     ]
    },
    {
     "name": "stdout",
     "output_type": "stream",
     "text": [
      "j-YlndYkJl0 Abba The winner takes it all topic\n"
     ]
    },
    {
     "name": "stdout",
     "output_type": "stream",
     "text": [
      "72r32bceDzg Abba Take a chance on me topic\n"
     ]
    },
    {
     "name": "stdout",
     "output_type": "stream",
     "text": [
      "4NthieLHBCc Abba Waterloo topic\n"
     ]
    },
    {
     "name": "stdout",
     "output_type": "stream",
     "text": [
      "NhsK5WExrnE AC/DC T.N.T. topic\n"
     ]
    },
    {
     "name": "stdout",
     "output_type": "stream",
     "text": [
      "PhX8mTf1Du4 AC/DC Highway to Hell topic\n"
     ]
    },
    {
     "name": "stdout",
     "output_type": "stream",
     "text": [
      "IpEXM1Yziws Alice in Chains Angry Chair topic\n"
     ]
    },
    {
     "name": "stdout",
     "output_type": "stream",
     "text": [
      "UVFd4tpphvE Alice in Chains Dam That River topic\n"
     ]
    },
    {
     "name": "stdout",
     "output_type": "stream",
     "text": [
      "______________________NOT FOUD Alice in Chains Dirt topic\n"
     ]
    },
    {
     "name": "stdout",
     "output_type": "stream",
     "text": [
      "E17hqs4Un-k Alice in Chains Down In a Hole topic\n"
     ]
    },
    {
     "name": "stdout",
     "output_type": "stream",
     "text": [
      "Q0L_YzqdzjQ Alice in Chains God Smack topic\n"
     ]
    },
    {
     "name": "stdout",
     "output_type": "stream",
     "text": [
      "OMXwCR0-eyw Alice in Chains Hate to feel topic\n"
     ]
    },
    {
     "name": "stdout",
     "output_type": "stream",
     "text": [
      "bjOG0meK-vk Alice in Chains Junkhead topic\n"
     ]
    },
    {
     "name": "stdout",
     "output_type": "stream",
     "text": [
      "v8uJoLJJP70 Alice in Chains Rain when I die topic\n"
     ]
    },
    {
     "name": "stdout",
     "output_type": "stream",
     "text": [
      "WJRT-A52eH0 Alice in Chains Rooster topic\n"
     ]
    },
    {
     "name": "stdout",
     "output_type": "stream",
     "text": [
      "XTwi4GsfcHw Alice in Chains Sickman topic\n"
     ]
    },
    {
     "name": "stdout",
     "output_type": "stream",
     "text": [
      "wg6AlRJ77pc Alice in Chains Them Bones topic\n"
     ]
    },
    {
     "name": "stdout",
     "output_type": "stream",
     "text": [
      "wfCCgfRrT_c Alice in Chains Untitled topic\n"
     ]
    },
    {
     "name": "stdout",
     "output_type": "stream",
     "text": [
      "i34HBDGZSDQ Alice in Chains Would? topic\n"
     ]
    },
    {
     "name": "stdout",
     "output_type": "stream",
     "text": [
      "T_X-BbsXXAk Alkpote, Vald Plus haut - Les marches de l'empereur Saison 3 / épisode 1 topic\n"
     ]
    },
    {
     "name": "stdout",
     "output_type": "stream",
     "text": [
      "rVeMiVU77wo alt-J Breezeblocks topic\n"
     ]
    },
    {
     "name": "stdout",
     "output_type": "stream",
     "text": [
      "5cLFdIzMhn8 Amon Amarth Crack the Sky topic\n"
     ]
    },
    {
     "name": "stdout",
     "output_type": "stream",
     "text": [
      "H24S0nym-pE Amon Amarth Raven's Flight topic\n"
     ]
    },
    {
     "name": "stdout",
     "output_type": "stream",
     "text": [
      "mw0pylT0Tg0 Amon Amarth The Pursuit Of Vikings topic\n"
     ]
    },
    {
     "name": "stdout",
     "output_type": "stream",
     "text": [
      "Ndu33Uv7Aco Amon Amarth Raise Your Horns topic\n"
     ]
    },
    {
     "name": "stdout",
     "output_type": "stream",
     "text": [
      "wcI0BNVvCHQ Amon Amarth Masters Of War topic\n"
     ]
    },
    {
     "name": "stdout",
     "output_type": "stream",
     "text": [
      "JFYVcz7h3o0 Amon Amarth Twilight Of The Thunder God topic\n"
     ]
    },
    {
     "name": "stdout",
     "output_type": "stream",
     "text": [
      "M0Cdv-DD1S8 Andrew Bird Tin Foiled topic\n"
     ]
    },
    {
     "name": "stdout",
     "output_type": "stream",
     "text": [
      "uypxLv1t2MQ Arch Enemy Silent Wars topic\n"
     ]
    },
    {
     "name": "stdout",
     "output_type": "stream",
     "text": [
      "iZenHRtktoU Arch Enemy First Day in Hell topic\n"
     ]
    },
    {
     "name": "stdout",
     "output_type": "stream",
     "text": [
      "VoUWoctisfI Arch Enemy Saturnine topic\n"
     ]
    },
    {
     "name": "stdout",
     "output_type": "stream",
     "text": [
      "vVXIK1xCRpY Audioslave Show Me How to Live topic\n"
     ]
    },
    {
     "name": "stdout",
     "output_type": "stream",
     "text": [
      "FOBWalzqdMA Audioslave #1 Zero topic\n"
     ]
    },
    {
     "name": "stdout",
     "output_type": "stream",
     "text": [
      "_______________________ERROR Auracle Bombs Away Ballet topic\n"
     ]
    },
    {
     "name": "stdout",
     "output_type": "stream",
     "text": [
      "bNXV8bwME0M Auracle City of Penetrating Light topic\n"
     ]
    },
    {
     "name": "stdout",
     "output_type": "stream",
     "text": [
      "KC5eCero_PQ Auracle Honey topic\n"
     ]
    },
    {
     "name": "stdout",
     "output_type": "stream",
     "text": [
      "KC5eCero_PQ Auracle Little City Slickers topic\n"
     ]
    },
    {
     "name": "stdout",
     "output_type": "stream",
     "text": [
      "KC5eCero_PQ Auracle Rotary Andy's Raggedy topic\n"
     ]
    },
    {
     "name": "stdout",
     "output_type": "stream",
     "text": [
      "KC5eCero_PQ Auracle Sambanana topic\n"
     ]
    },
    {
     "name": "stdout",
     "output_type": "stream",
     "text": [
      "7BXMPJzQELU Auracle Tied Shoes topic\n"
     ]
    },
    {
     "name": "stdout",
     "output_type": "stream",
     "text": [
      "sySlY1XKlhM B.J. Thomas Rain Drops Keep Falling on My Head topic\n"
     ]
    },
    {
     "name": "stdout",
     "output_type": "stream",
     "text": [
      "8lKYdrL-AAw Battle Beast King For A Day topic\n"
     ]
    },
    {
     "name": "stdout",
     "output_type": "stream",
     "text": [
      "5PeyzXvvdmw Bill Withers Ain't No Sunshine topic\n"
     ]
    },
    {
     "name": "stdout",
     "output_type": "stream",
     "text": [
      "3LYSfq59_KM Billy Talent Fallen Leaves topic\n"
     ]
    },
    {
     "name": "stdout",
     "output_type": "stream",
     "text": [
      "iBuJe-wHv4I Billy Talent Red Flag topic\n"
     ]
    },
    {
     "name": "stdout",
     "output_type": "stream",
     "text": [
      "VBnpPH8l1GA Black Sabbath Behind the Wall of Sleep topic\n"
     ]
    },
    {
     "name": "stdout",
     "output_type": "stream",
     "text": [
      "______________________NOT FOUD Black Sabbath Black Sabbath topic\n"
     ]
    },
    {
     "name": "stdout",
     "output_type": "stream",
     "text": [
      "LfCpNwv-Ljg Black Sabbath Evil Woman topic\n"
     ]
    },
    {
     "name": "stdout",
     "output_type": "stream",
     "text": [
      "MN_iRopLuIE Black Sabbath N.I.B topic\n"
     ]
    },
    {
     "name": "stdout",
     "output_type": "stream",
     "text": [
      "5unr2J_XhLI Black Sabbath Sleeping Village topic\n"
     ]
    },
    {
     "name": "stdout",
     "output_type": "stream",
     "text": [
      "wkWbNYt_FNE Black Sabbath The Wizard topic\n"
     ]
    },
    {
     "name": "stdout",
     "output_type": "stream",
     "text": [
      "PgXbCRUfFCU Black Sabbath Warning topic\n"
     ]
    },
    {
     "name": "stdout",
     "output_type": "stream",
     "text": [
      "ArKjxzyC7RI Black Sabbath Into the Void topic\n"
     ]
    },
    {
     "name": "stdout",
     "output_type": "stream",
     "text": [
      "9PGmmkwq8Js Black Sabbath Electric Funeral topic\n"
     ]
    },
    {
     "name": "stdout",
     "output_type": "stream",
     "text": [
      "_______________________ERROR Black Sabbath Fairies Wear Boots topic\n"
     ]
    },
    {
     "name": "stdout",
     "output_type": "stream",
     "text": [
      "1Ad-QhUzjzs Black Sabbath Hand of Doom topic\n"
     ]
    },
    {
     "name": "stdout",
     "output_type": "stream",
     "text": [
      "jirnHvv1ACE Black Sabbath Iron Man topic\n"
     ]
    },
    {
     "name": "stdout",
     "output_type": "stream",
     "text": [
      "nDqpt4Pau8I Black Sabbath Paranoid topic\n"
     ]
    },
    {
     "name": "stdout",
     "output_type": "stream",
     "text": [
      "Vu9eQmGc1SY Black Sabbath Planet Caravan topic\n"
     ]
    },
    {
     "name": "stdout",
     "output_type": "stream",
     "text": [
      "M2LzRswsiHM Black Sabbath Rat Salad topic\n"
     ]
    },
    {
     "name": "stdout",
     "output_type": "stream",
     "text": [
      "vv4B3Rn5vWg Black Sabbath War Pigs topic\n"
     ]
    },
    {
     "name": "stdout",
     "output_type": "stream",
     "text": [
      "XSy6kQVWhfI Bloc Party Banquet topic\n"
     ]
    },
    {
     "name": "stdout",
     "output_type": "stream",
     "text": [
      "Dy4HA3vUv2c Blue Öyster Cult (Don't Fear) The Reaper topic\n"
     ]
    },
    {
     "name": "stdout",
     "output_type": "stream",
     "text": [
      "aW-WXVh1-lk Boney M. He Was a Steppenwolf topic\n"
     ]
    },
    {
     "name": "stdout",
     "output_type": "stream",
     "text": [
      "s1WLq_127dY Boney M. Nightflight to Venus topic\n"
     ]
    },
    {
     "name": "stdout",
     "output_type": "stream",
     "text": [
      "uwqpl4v6yn8 Boney M. Painter Man topic\n"
     ]
    },
    {
     "name": "stdout",
     "output_type": "stream",
     "text": [
      "6JhVo2zS8hU Boney M. Rasputin topic\n"
     ]
    },
    {
     "name": "stdout",
     "output_type": "stream",
     "text": [
      "ahdH8eTydWY Breakbot Baby I'm Yours topic\n"
     ]
    },
    {
     "name": "stdout",
     "output_type": "stream",
     "text": [
      "OVeDs5ExrF0 Breakwater Release The Beast topic\n"
     ]
    },
    {
     "name": "stdout",
     "output_type": "stream",
     "text": [
      "_______________________ERROR Bruce Springsteen Thunder Road topic\n"
     ]
    },
    {
     "name": "stdout",
     "output_type": "stream",
     "text": [
      "dDILEUYov-g Bruno Mars Treasure topic\n"
     ]
    },
    {
     "name": "stdout",
     "output_type": "stream",
     "text": [
      "0zvIJ2pPMRE Bullet for My Valentine Hand of Blood topic\n"
     ]
    },
    {
     "name": "stdout",
     "output_type": "stream",
     "text": [
      "EJKq51hscfo Butcher Babies The Huntsman topic\n"
     ]
    },
    {
     "name": "stdout",
     "output_type": "stream",
     "text": [
      "2GXcmi00Cjg Caballero Aight topic\n"
     ]
    },
    {
     "name": "stdout",
     "output_type": "stream",
     "text": [
      "QZRT_-KRjIg Caballero Baby Funk topic\n"
     ]
    },
    {
     "name": "stdout",
     "output_type": "stream",
     "text": [
      "xUh1BTJKB5c Caballero Bout du Tunnel topic\n"
     ]
    },
    {
     "name": "stdout",
     "output_type": "stream",
     "text": [
      "BMUSW7Alw58 Caballero C'est Aussi Simple Que Ça topic\n"
     ]
    },
    {
     "name": "stdout",
     "output_type": "stream",
     "text": [
      "EL-5NXs7tKw Caballero Chiens des Villes topic\n"
     ]
    },
    {
     "name": "stdout",
     "output_type": "stream",
     "text": [
      "55V76FH8qa8 Caballero Discret Mais Efficace topic\n"
     ]
    },
    {
     "name": "stdout",
     "output_type": "stream",
     "text": [
      "SVkBu0HaLmo Caballero Flottements topic\n"
     ]
    },
    {
     "name": "stdout",
     "output_type": "stream",
     "text": [
      "______________________NOT FOUD Caballero Foume Ça topic\n"
     ]
    },
    {
     "name": "stdout",
     "output_type": "stream",
     "text": [
      "6kXvYCEe9Zc Caballero Il Suffit topic\n"
     ]
    },
    {
     "name": "stdout",
     "output_type": "stream",
     "text": [
      "y-91ow6yFOY Caballero Inner Demons topic\n"
     ]
    },
    {
     "name": "stdout",
     "output_type": "stream",
     "text": [
      "_______________________ERROR Caballero Le Freestyle de la Cigarette Fumante topic\n"
     ]
    },
    {
     "name": "stdout",
     "output_type": "stream",
     "text": [
      "Orv_ZMlGuto Caballero Mailles du Filet topic\n"
     ]
    },
    {
     "name": "stdout",
     "output_type": "stream",
     "text": [
      "TXZRQxwKxvQ Caballero Médaille d'Or topic\n"
     ]
    },
    {
     "name": "stdout",
     "output_type": "stream",
     "text": [
      "yj4_h6ePpi8 Caballero Medley Goku topic\n"
     ]
    },
    {
     "name": "stdout",
     "output_type": "stream",
     "text": [
      "1wnn6jebu7w Caballero Medley Végéta topic\n"
     ]
    },
    {
     "name": "stdout",
     "output_type": "stream",
     "text": [
      "cYz92FmTdv8 Caballero Mission Accomplie topic\n"
     ]
    },
    {
     "name": "stdout",
     "output_type": "stream",
     "text": [
      "kPPuyFIxx-c Caballero Otaku topic\n"
     ]
    },
    {
     "name": "stdout",
     "output_type": "stream",
     "text": [
      "NLyt6VZzXRQ Caballero Patinoire topic\n"
     ]
    },
    {
     "name": "stdout",
     "output_type": "stream",
     "text": [
      "5ZQUanU_A-A Caballero Profondeurs topic\n"
     ]
    },
    {
     "name": "stdout",
     "output_type": "stream",
     "text": [
      "rAqkykKwbYw Caballero Qu'est-ce que tu nous Proposes? topic\n"
     ]
    },
    {
     "name": "stdout",
     "output_type": "stream",
     "text": [
      "______________________NOT FOUD Caballero Sortez couverts topic\n"
     ]
    },
    {
     "name": "stdout",
     "output_type": "stream",
     "text": [
      "pMGZPZhDkMc Caballero Téléportation topic\n"
     ]
    },
    {
     "name": "stdout",
     "output_type": "stream",
     "text": [
      "9mQHtO4wZ9A Caballero Viens Voir topic\n"
     ]
    },
    {
     "name": "stdout",
     "output_type": "stream",
     "text": [
      "cno20onK9dY Cake The Distance topic\n"
     ]
    },
    {
     "name": "stdout",
     "output_type": "stream",
     "text": [
      "fyGWEq8IXlQ Carpenters Please Mr. Postman topic\n"
     ]
    },
    {
     "name": "stdout",
     "output_type": "stream",
     "text": [
      "AKgjOCuW_MU Casiopea Galactic Funk topic\n"
     ]
    },
    {
     "name": "stdout",
     "output_type": "stream",
     "text": [
      "PLhnN_qQwqI Casiopea Swear! topic\n"
     ]
    },
    {
     "name": "stdout",
     "output_type": "stream",
     "text": [
      "sKxhR_aD6ZI Chet Baker I Married An Angel topic\n"
     ]
    },
    {
     "name": "stdout",
     "output_type": "stream",
     "text": [
      "xh0zl9YlSoI Chet Baker Strollin' topic\n"
     ]
    },
    {
     "name": "stdout",
     "output_type": "stream",
     "text": [
      "iPYH4s7_e34 Chicago 25 or 6 to 4 topic\n"
     ]
    },
    {
     "name": "stdout",
     "output_type": "stream",
     "text": [
      "mxroKP9fiZk Chick Corea Friends topic\n"
     ]
    },
    {
     "name": "stdout",
     "output_type": "stream",
     "text": [
      "sEhQTjgoTdU Chick Corea Spain topic\n"
     ]
    },
    {
     "name": "stdout",
     "output_type": "stream",
     "text": [
      "NeHFBX8YLSc Chinese Man Hold Tight topic\n"
     ]
    },
    {
     "name": "stdout",
     "output_type": "stream",
     "text": [
      "gbjde-KUhKU Choir Boy Complainer topic\n"
     ]
    },
    {
     "name": "stdout",
     "output_type": "stream",
     "text": [
      "______________________NOT FOUD Claude François C'est la même chanson topic\n"
     ]
    },
    {
     "name": "stdout",
     "output_type": "stream",
     "text": [
      "wxpg7Sw7Z5w Claude François Chanson Populaire (ça s'en va et ça revient) topic\n"
     ]
    },
    {
     "name": "stdout",
     "output_type": "stream",
     "text": [
      "AAkXgCG9bEE Claude François 17 ans topic\n"
     ]
    },
    {
     "name": "stdout",
     "output_type": "stream",
     "text": [
      "IMLw96xqLP0 Claude François Je vais à Rio topic\n"
     ]
    },
    {
     "name": "stdout",
     "output_type": "stream",
     "text": [
      "FNwXqbgLVE0 Claude François Toi et le soleil topic\n"
     ]
    },
    {
     "name": "stdout",
     "output_type": "stream",
     "text": [
      "4RGMivTUr7s Claude François Comme D'Habitude topic\n"
     ]
    },
    {
     "name": "stdout",
     "output_type": "stream",
     "text": [
      "GmslkQGmBNs Claude François Il fait beau, il fait bon topic\n"
     ]
    },
    {
     "name": "stdout",
     "output_type": "stream",
     "text": [
      "JoTeKwl5kX8 Claude François J'attendrai topic\n"
     ]
    },
    {
     "name": "stdout",
     "output_type": "stream",
     "text": [
      "krz0tfU8Ei0 Claude François La musique américaine topic\n"
     ]
    },
    {
     "name": "stdout",
     "output_type": "stream",
     "text": [
      "OYivvFU1qRQ Claude François Le chanteur malheureux topic\n"
     ]
    },
    {
     "name": "stdout",
     "output_type": "stream",
     "text": [
      "_______________________ERROR Claude François Bélinda topic\n"
     ]
    },
    {
     "name": "stdout",
     "output_type": "stream",
     "text": [
      "u2gYndiOTkg Claude François Le lundi au soleil topic\n"
     ]
    },
    {
     "name": "stdout",
     "output_type": "stream",
     "text": [
      "p2FRrhJcv5M Claude François Le mal aimé topic\n"
     ]
    },
    {
     "name": "stdout",
     "output_type": "stream",
     "text": [
      "icd06TA9InY Claude François Le téléphone pleure topic\n"
     ]
    },
    {
     "name": "stdout",
     "output_type": "stream",
     "text": [
      "L-9eikjl4bo Claude François Cette année-là topic\n"
     ]
    },
    {
     "name": "stdout",
     "output_type": "stream",
     "text": [
      "MCxfOV9C-vk Claude François Le Vagabond topic\n"
     ]
    },
    {
     "name": "stdout",
     "output_type": "stream",
     "text": [
      "IdVxliDBop8 Claude François Alexandrie Alexandra topic\n"
     ]
    },
    {
     "name": "stdout",
     "output_type": "stream",
     "text": [
      "_aaBeiSxS80 Claude François Magnolias For Ever topic\n"
     ]
    },
    {
     "name": "stdout",
     "output_type": "stream",
     "text": [
      "_eCcLFQ2mIk Claude François Je sais topic\n"
     ]
    },
    {
     "name": "stdout",
     "output_type": "stream",
     "text": [
      "AIz9zfebdns Claude François Même si tu revenais topic\n"
     ]
    },
    {
     "name": "stdout",
     "output_type": "stream",
     "text": [
      "BRZ5-avavkU Claude François Belles belles belles topic\n"
     ]
    },
    {
     "name": "stdout",
     "output_type": "stream",
     "text": [
      "pxb2W6-Nt1E Claude François Si j'avais un marteau topic\n"
     ]
    },
    {
     "name": "stdout",
     "output_type": "stream",
     "text": [
      "_______________________ERROR Coldplay The Scientist topic\n"
     ]
    },
    {
     "name": "stdout",
     "output_type": "stream",
     "text": [
      "y_u1eu6Lpds Cream Sunshine Of Your Love topic\n"
     ]
    },
    {
     "name": "stdout",
     "output_type": "stream",
     "text": [
      "l2zc4rSlBQ4 Creedence Clearwater Revival Born on the Bayou topic\n"
     ]
    },
    {
     "name": "stdout",
     "output_type": "stream",
     "text": [
      "ixqofv-Oi74 Creedence Clearwater Revival I Heard It Through The Grapevine topic\n"
     ]
    },
    {
     "name": "stdout",
     "output_type": "stream",
     "text": [
      "n4Ucq_JYtmg Creedence Clearwater Revival Green River topic\n"
     ]
    },
    {
     "name": "stdout",
     "output_type": "stream",
     "text": [
      "J2NU2iYYM18 Creedence Clearwater Revival Fortunate Son topic\n"
     ]
    },
    {
     "name": "stdout",
     "output_type": "stream",
     "text": [
      "Mjpu0-o9iek Daft Punk Aerodynamic topic\n"
     ]
    },
    {
     "name": "stdout",
     "output_type": "stream",
     "text": [
      "oor2uIqys8M Daft Punk Crescendolls topic\n"
     ]
    },
    {
     "name": "stdout",
     "output_type": "stream",
     "text": [
      "4whD6uAryMs Daft Punk Digital Love topic\n"
     ]
    },
    {
     "name": "stdout",
     "output_type": "stream",
     "text": [
      "UKYWWfR_GKA Daft Punk Face to Face topic\n"
     ]
    },
    {
     "name": "stdout",
     "output_type": "stream",
     "text": [
      "yydNF8tuVmU Daft Punk Harder, Better, Faster, Stronger topic\n"
     ]
    },
    {
     "name": "stdout",
     "output_type": "stream",
     "text": [
      "KlUtJOTmmk8 Daft Punk High Life topic\n"
     ]
    },
    {
     "name": "stdout",
     "output_type": "stream",
     "text": [
      "NQ-mm1H7uJw Daft Punk Nightvision topic\n"
     ]
    },
    {
     "name": "stdout",
     "output_type": "stream",
     "text": [
      "A2VpR8HahKc Daft Punk One More Time topic\n"
     ]
    },
    {
     "name": "stdout",
     "output_type": "stream",
     "text": [
      "9hhVnRTNVmM Daft Punk Short Circuit topic\n"
     ]
    },
    {
     "name": "stdout",
     "output_type": "stream",
     "text": [
      "_______________________ERROR Daft Punk Something About Us topic\n"
     ]
    },
    {
     "name": "stdout",
     "output_type": "stream",
     "text": [
      "UBGfS7S9BYg Daft Punk Superheroes topic\n"
     ]
    },
    {
     "name": "stdout",
     "output_type": "stream",
     "text": [
      "ROF4uNjrB4U Daft Punk Too Long topic\n"
     ]
    },
    {
     "name": "stdout",
     "output_type": "stream",
     "text": [
      "TCd6PfxOy0Y Daft Punk Veridis Quo topic\n"
     ]
    },
    {
     "name": "stdout",
     "output_type": "stream",
     "text": [
      "INbgG9M0WYE Daft Punk Voyager topic\n"
     ]
    },
    {
     "name": "stdout",
     "output_type": "stream",
     "text": [
      "3T0NqvdUiWI Daft Punk Beyond topic\n"
     ]
    },
    {
     "name": "stdout",
     "output_type": "stream",
     "text": [
      "______________________NOT FOUD Daft Punk Contact topic\n"
     ]
    },
    {
     "name": "stdout",
     "output_type": "stream",
     "text": [
      "LL-gyhZVvx0 Daft Punk Doin' It Right topic\n"
     ]
    },
    {
     "name": "stdout",
     "output_type": "stream",
     "text": [
      "_ScM9pKlCfo Daft Punk Fragments of Time topic\n"
     ]
    },
    {
     "name": "stdout",
     "output_type": "stream",
     "text": [
      "pMyG_H6sHlM Daft Punk Get Lucky topic\n"
     ]
    },
    {
     "name": "stdout",
     "output_type": "stream",
     "text": [
      "zhl-Cs1-sG4 Daft Punk Giorgio By Moroder topic\n"
     ]
    },
    {
     "name": "stdout",
     "output_type": "stream",
     "text": [
      "IluRBvnYMoY Daft Punk Give Life Back to Music topic\n"
     ]
    },
    {
     "name": "stdout",
     "output_type": "stream",
     "text": [
      "O9BK3xcRH1g Daft Punk Instant Crush topic\n"
     ]
    },
    {
     "name": "stdout",
     "output_type": "stream",
     "text": [
      "NF-kLy44Hls Daft Punk Lose Yourself to Dance topic\n"
     ]
    },
    {
     "name": "stdout",
     "output_type": "stream",
     "text": [
      "wz7YiQdNmZ8 Daft Punk Motherboard topic\n"
     ]
    },
    {
     "name": "stdout",
     "output_type": "stream",
     "text": [
      "ajGKWk0auOc Daft Punk The Game of Love topic\n"
     ]
    },
    {
     "name": "stdout",
     "output_type": "stream",
     "text": [
      "_______________________ERROR Daft Punk Touch topic\n"
     ]
    },
    {
     "name": "stdout",
     "output_type": "stream",
     "text": [
      "cuj__JnGWLg Daft Punk Within topic\n"
     ]
    },
    {
     "name": "stdout",
     "output_type": "stream",
     "text": [
      "PPlnHcw7s8M David Bowie Space Oddity topic\n"
     ]
    },
    {
     "name": "stdout",
     "output_type": "stream",
     "text": [
      "L0JmvGKP4H4 David Bowie Life on Mars topic\n"
     ]
    },
    {
     "name": "stdout",
     "output_type": "stream",
     "text": [
      "prA32KJMpMs Dead Or Alive You Spin Me Round (Like a Record) topic\n"
     ]
    },
    {
     "name": "stdout",
     "output_type": "stream",
     "text": [
      "7kQchNdvDIw Début de Soirée Nuit de Folie topic\n"
     ]
    },
    {
     "name": "stdout",
     "output_type": "stream",
     "text": [
      "jgbf03MJyS4 Deep Purple Burn topic\n"
     ]
    },
    {
     "name": "stdout",
     "output_type": "stream",
     "text": [
      "ne7vBIqhKdk Deep Purple You Fool No One topic\n"
     ]
    },
    {
     "name": "stdout",
     "output_type": "stream",
     "text": [
      "UEjAaLu8Dhs Deep Purple Child In Time topic\n"
     ]
    },
    {
     "name": "stdout",
     "output_type": "stream",
     "text": [
      "vjP3tZgUDmA Def Leppard Photograph topic\n"
     ]
    },
    {
     "name": "stdout",
     "output_type": "stream",
     "text": [
      "8yn3ViE6mhY Depeche Mode Precious topic\n"
     ]
    },
    {
     "name": "stdout",
     "output_type": "stream",
     "text": [
      "TngViNw2pOo Derek and the Dominos Layla topic\n"
     ]
    },
    {
     "name": "stdout",
     "output_type": "stream",
     "text": [
      "UjIasSAurB0 Die Ärzte Ist das noch Punkrock? topic\n"
     ]
    },
    {
     "name": "stdout",
     "output_type": "stream",
     "text": [
      "______________________NOT FOUD Dinos Arob@se topic\n"
     ]
    },
    {
     "name": "stdout",
     "output_type": "stream",
     "text": [
      "T-3qF8v9CTw Dire Straits Brothers In Arms topic\n"
     ]
    },
    {
     "name": "stdout",
     "output_type": "stream",
     "text": [
      "qmRzbKNbTsY Dire Straits Money For Nothing topic\n"
     ]
    },
    {
     "name": "stdout",
     "output_type": "stream",
     "text": [
      "_______________________ERROR Dire Straits Single Handed Sailor topic\n"
     ]
    },
    {
     "name": "stdout",
     "output_type": "stream",
     "text": [
      "9NQfNhiVUKE Dire Straits Sultans Of Swing topic\n"
     ]
    },
    {
     "name": "stdout",
     "output_type": "stream",
     "text": [
      "CiT0mUDCRMU Dire Straits Industrial Disease topic\n"
     ]
    },
    {
     "name": "stdout",
     "output_type": "stream",
     "text": [
      "MyA_ib0sReY Dire Straits It Never Rains topic\n"
     ]
    },
    {
     "name": "stdout",
     "output_type": "stream",
     "text": [
      "Ryv5vkPqHUk Dire Straits Love Over Gold topic\n"
     ]
    },
    {
     "name": "stdout",
     "output_type": "stream",
     "text": [
      "LiDWF8mMSek Dire Straits Private Investigations topic\n"
     ]
    },
    {
     "name": "stdout",
     "output_type": "stream",
     "text": [
      "1TTAXENxbM0 Dire Straits Telegraph Road topic\n"
     ]
    },
    {
     "name": "stdout",
     "output_type": "stream",
     "text": [
      "DW37bchwKgU Dire Straits Romeo And Juliet topic\n"
     ]
    },
    {
     "name": "stdout",
     "output_type": "stream",
     "text": [
      "_______________________ERROR Dire Straits Tunnel Of Love topic\n"
     ]
    },
    {
     "name": "stdout",
     "output_type": "stream",
     "text": [
      "Y49LnHVfuNk Dire Straits Calling Elvis topic\n"
     ]
    },
    {
     "name": "stdout",
     "output_type": "stream",
     "text": [
      "1GNa3dpfTuo Dire Straits Heavy Fuel topic\n"
     ]
    },
    {
     "name": "stdout",
     "output_type": "stream",
     "text": [
      "EE4IIhheWkM Dire Straits Planet Of New Orleans topic\n"
     ]
    },
    {
     "name": "stdout",
     "output_type": "stream",
     "text": [
      "3wafM4bzLmY Disiz La Peste J'pète les plombs topic\n"
     ]
    },
    {
     "name": "stdout",
     "output_type": "stream",
     "text": [
      "UXatqa_Scb4 Disiz La Peste Les 10 Commandements du MC topic\n"
     ]
    },
    {
     "name": "stdout",
     "output_type": "stream",
     "text": [
      "36EBd2Q4-gg DMX X Gon' Give It to Ya topic\n"
     ]
    },
    {
     "name": "stdout",
     "output_type": "stream",
     "text": [
      "4eRaRmrgYuc Draconian Bloodflower topic\n"
     ]
    },
    {
     "name": "stdout",
     "output_type": "stream",
     "text": [
      "jebc49qy6Q8 Draconian Earthbound topic\n"
     ]
    },
    {
     "name": "stdout",
     "output_type": "stream",
     "text": [
      "t8ZjnB3X6CQ Draconian Morphine Cloud topic\n"
     ]
    },
    {
     "name": "stdout",
     "output_type": "stream",
     "text": [
      "Kyrvvn5MFpo Draconian Not Breathing topic\n"
     ]
    },
    {
     "name": "stdout",
     "output_type": "stream",
     "text": [
      "_BQ69OWES34 Draconian Seasons Apart topic\n"
     ]
    },
    {
     "name": "stdout",
     "output_type": "stream",
     "text": [
      "______________________NOT FOUD Draconian The Empy Stare / September Ashes topic\n"
     ]
    },
    {
     "name": "stdout",
     "output_type": "stream",
     "text": [
      "2-tL48gLVzA Draconian The Failure Epiphany topic\n"
     ]
    },
    {
     "name": "stdout",
     "output_type": "stream",
     "text": [
      "lynG1ALi9Ck Draconian When I Wake topic\n"
     ]
    },
    {
     "name": "stdout",
     "output_type": "stream",
     "text": [
      "3cKtSlsYVEU Earth, Wind & Fire September topic\n"
     ]
    },
    {
     "name": "stdout",
     "output_type": "stream",
     "text": [
      "Up7suVJzNJw Editors Munich topic\n"
     ]
    },
    {
     "name": "stdout",
     "output_type": "stream",
     "text": [
      "BGthmYzpGv0 Eisbrecher Was ist hier los? topic\n"
     ]
    },
    {
     "name": "stdout",
     "output_type": "stream",
     "text": [
      "qXXZMebT3m8 Electric Light Orchestra Last Train to London topic\n"
     ]
    },
    {
     "name": "stdout",
     "output_type": "stream",
     "text": [
      "FSySb9yGhdA Electric Wizard Funeralopolis topic\n"
     ]
    },
    {
     "name": "stdout",
     "output_type": "stream",
     "text": [
      "Dw6dHlMJCPw Emerson, Lake & Palmer Tarkus topic\n"
     ]
    },
    {
     "name": "stdout",
     "output_type": "stream",
     "text": [
      "xzhl8eDkJHs Eric Burdon Colour Of The Sunset topic\n"
     ]
    },
    {
     "name": "stdout",
     "output_type": "stream",
     "text": [
      "bsrQa_bagZs Eric Clapton Cocaine topic\n"
     ]
    },
    {
     "name": "stdout",
     "output_type": "stream",
     "text": [
      "TngViNw2pOo Eric Clapton Layla topic\n"
     ]
    },
    {
     "name": "stdout",
     "output_type": "stream",
     "text": [
      "R99mjq1YqGc Feuerschwanz Hurra Hurra Die Pest ist da! topic\n"
     ]
    },
    {
     "name": "stdout",
     "output_type": "stream",
     "text": [
      "ReWCxtss5cQ Flamingosis A Groovy Intro topic\n"
     ]
    },
    {
     "name": "stdout",
     "output_type": "stream",
     "text": [
      "e6-HossxeWc Flamingosis A Groovy Thing topic\n"
     ]
    },
    {
     "name": "stdout",
     "output_type": "stream",
     "text": [
      "3Ll5Dk584d4 Flamingosis Breezy topic\n"
     ]
    },
    {
     "name": "stdout",
     "output_type": "stream",
     "text": [
      "_______________________ERROR Flamingosis Come & Get it topic\n"
     ]
    },
    {
     "name": "stdout",
     "output_type": "stream",
     "text": [
      "______________________NOT FOUD Flamingosis Don’t Lose the Feeling topic\n"
     ]
    },
    {
     "name": "stdout",
     "output_type": "stream",
     "text": [
      "Q5AdHEpA9r4 Flamingosis Flute Salad topic\n"
     ]
    },
    {
     "name": "stdout",
     "output_type": "stream",
     "text": [
      "kZXVlP0fEfU Flamingosis Get Yourself Together topic\n"
     ]
    },
    {
     "name": "stdout",
     "output_type": "stream",
     "text": [
      "clYPXzqlXJc Flamingosis Guilty Pleasure topic\n"
     ]
    },
    {
     "name": "stdout",
     "output_type": "stream",
     "text": [
      "KSUeszHtN4M Flamingosis High Tide topic\n"
     ]
    },
    {
     "name": "stdout",
     "output_type": "stream",
     "text": [
      "Y9JKODsioh4 Flamingosis Keep Shining topic\n"
     ]
    },
    {
     "name": "stdout",
     "output_type": "stream",
     "text": [
      "qgzfDzARHh0 Flamingosis Long Distance topic\n"
     ]
    },
    {
     "name": "stdout",
     "output_type": "stream",
     "text": [
      "neo42_D-GF4 Flamingosis Never Felt a Feeling Like This topic\n"
     ]
    },
    {
     "name": "stdout",
     "output_type": "stream",
     "text": [
      "YyYmtLvRXOY Flamingosis Not Like the Others topic\n"
     ]
    },
    {
     "name": "stdout",
     "output_type": "stream",
     "text": [
      "GXmtLBExRis Flamingosis Otaku Mode topic\n"
     ]
    },
    {
     "name": "stdout",
     "output_type": "stream",
     "text": [
      "mo-mtru3zkE Flamingosis Persevere topic\n"
     ]
    },
    {
     "name": "stdout",
     "output_type": "stream",
     "text": [
      "N98bqKITuyM Flamingosis Soul Crusade topic\n"
     ]
    },
    {
     "name": "stdout",
     "output_type": "stream",
     "text": [
      "G8R-zdcDoL0 Flamingosis That’s Cold topic\n"
     ]
    },
    {
     "name": "stdout",
     "output_type": "stream",
     "text": [
      "xNQF9JyKoPk Flamingosis Want Me (Need Me) topic\n"
     ]
    },
    {
     "name": "stdout",
     "output_type": "stream",
     "text": [
      "9YA2gJ2yL2Q Fleetwood Mac The Chain topic\n"
     ]
    },
    {
     "name": "stdout",
     "output_type": "stream",
     "text": [
      "GaxGMMy5Z-U François Valéry Mon pote le DJ topic\n"
     ]
    },
    {
     "name": "stdout",
     "output_type": "stream",
     "text": [
      "h_JR9kIw38U Franz Ferdinand Take Me Out topic\n"
     ]
    },
    {
     "name": "stdout",
     "output_type": "stream",
     "text": [
      "______________________NOT FOUD Franzl Lang Auf und auf vols Lebenslust topic\n"
     ]
    },
    {
     "name": "stdout",
     "output_type": "stream",
     "text": [
      "lSdBtoIIYT4 Free All Right Now topic\n"
     ]
    },
    {
     "name": "stdout",
     "output_type": "stream",
     "text": [
      "eOhLAnqtA5Y French 79 1979 topic\n"
     ]
    },
    {
     "name": "stdout",
     "output_type": "stream",
     "text": [
      "jKW4s02ib7s French 79 After Party topic\n"
     ]
    },
    {
     "name": "stdout",
     "output_type": "stream",
     "text": [
      "nyM-ZbmLeFo French 79 Between The Buttons topic\n"
     ]
    },
    {
     "name": "stdout",
     "output_type": "stream",
     "text": [
      "______________________NOT FOUD French 79 DDROPP topic\n"
     ]
    },
    {
     "name": "stdout",
     "output_type": "stream",
     "text": [
      "MyWXr1RbUe8 French 79 Diamond Veins topic\n"
     ]
    },
    {
     "name": "stdout",
     "output_type": "stream",
     "text": [
      "D3qjIFsvKJY French 79 Golden Times topic\n"
     ]
    },
    {
     "name": "stdout",
     "output_type": "stream",
     "text": [
      "Ab5hoCYzVME French 79 Hush Hush topic\n"
     ]
    },
    {
     "name": "stdout",
     "output_type": "stream",
     "text": [
      "IrgAWMamw1A French 79 Invisible Moon topic\n"
     ]
    },
    {
     "name": "stdout",
     "output_type": "stream",
     "text": [
      "MdjXljT13Bc French 79 Lovin' Feeling topic\n"
     ]
    },
    {
     "name": "stdout",
     "output_type": "stream",
     "text": [
      "2o-R3KnJlTg French 79 Olympic topic\n"
     ]
    },
    {
     "name": "stdout",
     "output_type": "stream",
     "text": [
      "lZjMbZ1vJo8 French 79 Pantheon Neon topic\n"
     ]
    },
    {
     "name": "stdout",
     "output_type": "stream",
     "text": [
      "hD9rzo6g5JU French 79 Vertigo Valley topic\n"
     ]
    },
    {
     "name": "stdout",
     "output_type": "stream",
     "text": [
      "gX3b2Fuup6s From Indian Lakes Blank Tapes topic\n"
     ]
    },
    {
     "name": "stdout",
     "output_type": "stream",
     "text": [
      "S38PTJ6-TIM Full Dub La Danse Des Parasites topic\n"
     ]
    },
    {
     "name": "stdout",
     "output_type": "stream",
     "text": [
      "exINm40Z0wM Genesis After the Ordeal topic\n"
     ]
    },
    {
     "name": "stdout",
     "output_type": "stream",
     "text": [
      "qUUohw7DYQA Genesis Aisle of Plenty topic\n"
     ]
    },
    {
     "name": "stdout",
     "output_type": "stream",
     "text": [
      "VCDdqXyunWE Genesis Dancing with the Moonlit Knight topic\n"
     ]
    },
    {
     "name": "stdout",
     "output_type": "stream",
     "text": [
      "tNUNS6w8NUA Genesis Firth of Fifth topic\n"
     ]
    },
    {
     "name": "stdout",
     "output_type": "stream",
     "text": [
      "o23UxVi7HEU Genesis I Know What I Like (In Your Wardrobe) topic\n"
     ]
    },
    {
     "name": "stdout",
     "output_type": "stream",
     "text": [
      "A6to6TAnmUo Genesis More Fool Me topic\n"
     ]
    },
    {
     "name": "stdout",
     "output_type": "stream",
     "text": [
      "2u2tt0NrfQo Genesis The Battle of Epping Forest topic\n"
     ]
    },
    {
     "name": "stdout",
     "output_type": "stream",
     "text": [
      "saCRbEGFSv4 Genesis The Cinema Show topic\n"
     ]
    },
    {
     "name": "stdout",
     "output_type": "stream",
     "text": [
      "LzlyBZqAUCA George Benson Affirmation topic\n"
     ]
    },
    {
     "name": "stdout",
     "output_type": "stream",
     "text": [
      "hGszoS9txzg George Benson Give Me the Night topic\n"
     ]
    },
    {
     "name": "stdout",
     "output_type": "stream",
     "text": [
      "ZYElT-ISaEo George Duke It's On topic\n"
     ]
    },
    {
     "name": "stdout",
     "output_type": "stream",
     "text": [
      "TKlErqvH3AA Georges Brassens Le Pornographe topic\n"
     ]
    },
    {
     "name": "stdout",
     "output_type": "stream",
     "text": [
      "MBcEsrhwvFE Georges Brassens Brave Margot topic\n"
     ]
    },
    {
     "name": "stdout",
     "output_type": "stream",
     "text": [
      "h7uUaYgmfec Georges Brassens Les 4 z'arts topic\n"
     ]
    },
    {
     "name": "stdout",
     "output_type": "stream",
     "text": [
      "u2aIqFe0b8c Georges Brassens Les Copains d'abord topic\n"
     ]
    },
    {
     "name": "stdout",
     "output_type": "stream",
     "text": [
      "-WdBOzln2zI Georges Brassens Le Bistrot topic\n"
     ]
    },
    {
     "name": "stdout",
     "output_type": "stream",
     "text": [
      "ZtesfTCQad0 Ghost Absolution topic\n"
     ]
    },
    {
     "name": "stdout",
     "output_type": "stream",
     "text": [
      "KOrXKiSy8ZY Ghost Cirice topic\n"
     ]
    },
    {
     "name": "stdout",
     "output_type": "stream",
     "text": [
      "gDr6ig2y3lo Ghost Deus in Absentia topic\n"
     ]
    },
    {
     "name": "stdout",
     "output_type": "stream",
     "text": [
      "rZdG1dUFtx0 Ghost Devil Church topic\n"
     ]
    },
    {
     "name": "stdout",
     "output_type": "stream",
     "text": [
      "_Tdlg2JXuaQ Ghost From the Pinnacle to the Pit topic\n"
     ]
    },
    {
     "name": "stdout",
     "output_type": "stream",
     "text": [
      "DKvu4aHha_I Ghost He is topic\n"
     ]
    },
    {
     "name": "stdout",
     "output_type": "stream",
     "text": [
      "qS5-QmkKzJQ Ghost Majesty topic\n"
     ]
    },
    {
     "name": "stdout",
     "output_type": "stream",
     "text": [
      "G5DBHxIsDM0 Ghost Mummy Dust topic\n"
     ]
    },
    {
     "name": "stdout",
     "output_type": "stream",
     "text": [
      "5Z-2CJksolo Ghost Spirit topic\n"
     ]
    },
    {
     "name": "stdout",
     "output_type": "stream",
     "text": [
      "dOIQWbMcJ6U Ghost Spöksonat topic\n"
     ]
    },
    {
     "name": "stdout",
     "output_type": "stream",
     "text": [
      "VqoyKzgkqR4 Ghost Square Hammer topic\n"
     ]
    },
    {
     "name": "stdout",
     "output_type": "stream",
     "text": [
      "8f4mytaXttw Gloria Gaynor I Will Survive topic\n"
     ]
    },
    {
     "name": "stdout",
     "output_type": "stream",
     "text": [
      "RRyKmWs2EoM GoGo Penguin Unspeakable Word topic\n"
     ]
    },
    {
     "name": "stdout",
     "output_type": "stream",
     "text": [
      "kYSQz82q8Ng Gojira Backbone topic\n"
     ]
    },
    {
     "name": "stdout",
     "output_type": "stream",
     "text": [
      "H0WyhJseftI Gojira Flying Whales topic\n"
     ]
    },
    {
     "name": "stdout",
     "output_type": "stream",
     "text": [
      "______________________NOT FOUD Gojira From Mars topic\n"
     ]
    },
    {
     "name": "stdout",
     "output_type": "stream",
     "text": [
      "al3zG3_eR7g Gojira From the Sky topic\n"
     ]
    },
    {
     "name": "stdout",
     "output_type": "stream",
     "text": [
      "_______________________ERROR Gojira Global Warming topic\n"
     ]
    },
    {
     "name": "stdout",
     "output_type": "stream",
     "text": [
      "tCIYwY2wax0 Gojira In the Wilderness topic\n"
     ]
    },
    {
     "name": "stdout",
     "output_type": "stream",
     "text": [
      "UvumbKmKuXM Gojira Ocean Planet topic\n"
     ]
    },
    {
     "name": "stdout",
     "output_type": "stream",
     "text": [
      "PA-c404jQx8 Gojira The Heaviest Matter of the Universe topic\n"
     ]
    },
    {
     "name": "stdout",
     "output_type": "stream",
     "text": [
      "TwoS1EcTvKI Gojira To Sirius topic\n"
     ]
    },
    {
     "name": "stdout",
     "output_type": "stream",
     "text": [
      "SJI0ahZl9d0 Gojira Unicorn topic\n"
     ]
    },
    {
     "name": "stdout",
     "output_type": "stream",
     "text": [
      "-8nBLopOSg8 Gojira Where Dragons Dwell topic\n"
     ]
    },
    {
     "name": "stdout",
     "output_type": "stream",
     "text": [
      "GUN4ocfSzTs Gojira World to Come topic\n"
     ]
    },
    {
     "name": "stdout",
     "output_type": "stream",
     "text": [
      "suG-c_i2fBQ Gojira Born in Winter topic\n"
     ]
    },
    {
     "name": "stdout",
     "output_type": "stream",
     "text": [
      "BI_va1NKQtw Gojira Explosia topic\n"
     ]
    },
    {
     "name": "stdout",
     "output_type": "stream",
     "text": [
      "______________________NOT FOUD Gojira L'Enfant Sauvage topic\n"
     ]
    },
    {
     "name": "stdout",
     "output_type": "stream",
     "text": [
      "_______________________ERROR Gojira Liquid Fire topic\n"
     ]
    },
    {
     "name": "stdout",
     "output_type": "stream",
     "text": [
      "33eLRxHFavk Gojira Mouth of Kala topic\n"
     ]
    },
    {
     "name": "stdout",
     "output_type": "stream",
     "text": [
      "qFZ_mDAZotA Gojira My Last Creation topic\n"
     ]
    },
    {
     "name": "stdout",
     "output_type": "stream",
     "text": [
      "g7k882l8yD8 Gojira Pain is a Master topic\n"
     ]
    },
    {
     "name": "stdout",
     "output_type": "stream",
     "text": [
      "0Lqmg7ImW4I Gojira Planned Obsolescence topic\n"
     ]
    },
    {
     "name": "stdout",
     "output_type": "stream",
     "text": [
      "0rhMnv2nKcw Gojira The Axe topic\n"
     ]
    },
    {
     "name": "stdout",
     "output_type": "stream",
     "text": [
      "wyiLaupEoI4 Gojira The Fall topic\n"
     ]
    },
    {
     "name": "stdout",
     "output_type": "stream",
     "text": [
      "qciMkZsCul8 Gojira The Gift of Guilt topic\n"
     ]
    },
    {
     "name": "stdout",
     "output_type": "stream",
     "text": [
      "d1uPRCoivsw Gojira The Wild Healer topic\n"
     ]
    },
    {
     "name": "stdout",
     "output_type": "stream",
     "text": [
      "vxtGk9_qi4g Gojira This Emptiness topic\n"
     ]
    },
    {
     "name": "stdout",
     "output_type": "stream",
     "text": [
      "WP7Ea6onLy4 Gojira Silvera topic\n"
     ]
    },
    {
     "name": "stdout",
     "output_type": "stream",
     "text": [
      "NWlYM0mY_K8 Gojira Connected topic\n"
     ]
    },
    {
     "name": "stdout",
     "output_type": "stream",
     "text": [
      "FTlPz6qD3Yk Gojira Dawn topic\n"
     ]
    },
    {
     "name": "stdout",
     "output_type": "stream",
     "text": [
      "bKAum6dD_Pw Gojira Death of Me topic\n"
     ]
    },
    {
     "name": "stdout",
     "output_type": "stream",
     "text": [
      "U7TWnasZhSQ Gojira Embrace the World topic\n"
     ]
    },
    {
     "name": "stdout",
     "output_type": "stream",
     "text": [
      "pnrkJqbQMsQ Gojira Indians topic\n"
     ]
    },
    {
     "name": "stdout",
     "output_type": "stream",
     "text": [
      "CD2nj--hHEg Gojira Inward Movement topic\n"
     ]
    },
    {
     "name": "stdout",
     "output_type": "stream",
     "text": [
      "rMt75BR7DfI Gojira Over the Flows topic\n"
     ]
    },
    {
     "name": "stdout",
     "output_type": "stream",
     "text": [
      "GtyrEGSdh_s Gojira Remembrance topic\n"
     ]
    },
    {
     "name": "stdout",
     "output_type": "stream",
     "text": [
      "JQzRTGpeYsU Gojira The Link topic\n"
     ]
    },
    {
     "name": "stdout",
     "output_type": "stream",
     "text": [
      "Ix2dHCVIs1M Gojira Torii topic\n"
     ]
    },
    {
     "name": "stdout",
     "output_type": "stream",
     "text": [
      "9ISbbbRRJvc Gojira Wisdom Comes topic\n"
     ]
    },
    {
     "name": "stdout",
     "output_type": "stream",
     "text": [
      "NG1uNbqRVlA Gojira A sight to behold topic\n"
     ]
    },
    {
     "name": "stdout",
     "output_type": "stream",
     "text": [
      "_______________________ERROR Gojira Adoration for none topic\n"
     ]
    },
    {
     "name": "stdout",
     "output_type": "stream",
     "text": [
      "mqT5yzmQLnQ Gojira All the tears topic\n"
     ]
    },
    {
     "name": "stdout",
     "output_type": "stream",
     "text": [
      "efofJjBGyNA Gojira Esoteric surgery topic\n"
     ]
    },
    {
     "name": "stdout",
     "output_type": "stream",
     "text": [
      "cJ03nypbOzo Gojira Oroborus topic\n"
     ]
    },
    {
     "name": "stdout",
     "output_type": "stream",
     "text": [
      "HTr7bqKHvgE Gojira The Art of Dying topic\n"
     ]
    },
    {
     "name": "stdout",
     "output_type": "stream",
     "text": [
      "wJQD2kNpPFE Gojira The silver cord topic\n"
     ]
    },
    {
     "name": "stdout",
     "output_type": "stream",
     "text": [
      "_______________________ERROR Gojira The way of all flesh topic\n"
     ]
    },
    {
     "name": "stdout",
     "output_type": "stream",
     "text": [
      "KR3qej0zmj8 Gojira Toxic garbage island topic\n"
     ]
    },
    {
     "name": "stdout",
     "output_type": "stream",
     "text": [
      "efQHga1BZz8 Gojira Vacuity topic\n"
     ]
    },
    {
     "name": "stdout",
     "output_type": "stream",
     "text": [
      "MUlkcpfEUDI Gojira Wolf down the earth topic\n"
     ]
    },
    {
     "name": "stdout",
     "output_type": "stream",
     "text": [
      "nLP96GwxqIg Gojira Yama's messengers topic\n"
     ]
    },
    {
     "name": "stdout",
     "output_type": "stream",
     "text": [
      "mbJYPDjV030 Golden Earring Are You Receiving Me topic\n"
     ]
    },
    {
     "name": "stdout",
     "output_type": "stream",
     "text": [
      "FxIjQ8Fs3s4 Golden Earring Candy's Going Bad topic\n"
     ]
    },
    {
     "name": "stdout",
     "output_type": "stream",
     "text": [
      "9YEJai4is1U Golden Earring Just Like Vince Taylor topic\n"
     ]
    },
    {
     "name": "stdout",
     "output_type": "stream",
     "text": [
      "ckM51xoTC2U Golden Earring Radar Love topic\n"
     ]
    },
    {
     "name": "stdout",
     "output_type": "stream",
     "text": [
      "_______________________ERROR Golden Earring Suzy Lunacy (Mental Rock) topic\n"
     ]
    },
    {
     "name": "stdout",
     "output_type": "stream",
     "text": [
      "2-wl-GtHzSQ Golden Earring Vanilla Queen topic\n"
     ]
    },
    {
     "name": "stdout",
     "output_type": "stream",
     "text": [
      "VHhND-BkWdk Gorillaz All Alone topic\n"
     ]
    },
    {
     "name": "stdout",
     "output_type": "stream",
     "text": [
      "rIq6i4-8Nww Gorillaz DARE topic\n"
     ]
    },
    {
     "name": "stdout",
     "output_type": "stream",
     "text": [
      "______________________NOT FOUD Gorillaz Demon Days topic\n"
     ]
    },
    {
     "name": "stdout",
     "output_type": "stream",
     "text": [
      "hBie-xdbLeM Gorillaz Dirty Harry topic\n"
     ]
    },
    {
     "name": "stdout",
     "output_type": "stream",
     "text": [
      "2hYMJ0qBj4Q Gorillaz Don't Get Lost in Heaven topic\n"
     ]
    },
    {
     "name": "stdout",
     "output_type": "stream",
     "text": [
      "TEB56tk7I88 Gorillaz El Mañana topic\n"
     ]
    },
    {
     "name": "stdout",
     "output_type": "stream",
     "text": [
      "eevt2glBfMg Gorillaz Every Planet We Reach Is Dead topic\n"
     ]
    },
    {
     "name": "stdout",
     "output_type": "stream",
     "text": [
      "ZxVw7bvMd3s Gorillaz Feel Good Inc. topic\n"
     ]
    },
    {
     "name": "stdout",
     "output_type": "stream",
     "text": [
      "LtQHIv2O8x0 Gorillaz Fire Coming out of the Monkey's Head topic\n"
     ]
    },
    {
     "name": "stdout",
     "output_type": "stream",
     "text": [
      "lcu6GtiVYG4 Gorillaz Intro topic\n"
     ]
    },
    {
     "name": "stdout",
     "output_type": "stream",
     "text": [
      "VCkFSe3voRc Gorillaz Kids With Guns topic\n"
     ]
    },
    {
     "name": "stdout",
     "output_type": "stream",
     "text": [
      "k7wIluiBvZE Gorillaz Last Living Souls topic\n"
     ]
    },
    {
     "name": "stdout",
     "output_type": "stream",
     "text": [
      "EGc9mgpvtxU Gorillaz November Has Come topic\n"
     ]
    },
    {
     "name": "stdout",
     "output_type": "stream",
     "text": [
      "tMt_YXr90AM Gorillaz O Green World topic\n"
     ]
    },
    {
     "name": "stdout",
     "output_type": "stream",
     "text": [
      "P91kQ8ADh5Q Gorillaz White Light topic\n"
     ]
    },
    {
     "name": "stdout",
     "output_type": "stream",
     "text": [
      "crC4DKiKPYY Gorillaz Broken topic\n"
     ]
    },
    {
     "name": "stdout",
     "output_type": "stream",
     "text": [
      "h7H73jpgX3U Gorillaz Cloud of Unknowing topic\n"
     ]
    },
    {
     "name": "stdout",
     "output_type": "stream",
     "text": [
      "dMvDSyDqEIk Gorillaz Doncamatic topic\n"
     ]
    },
    {
     "name": "stdout",
     "output_type": "stream",
     "text": [
      "GNth4yhlffU Gorillaz Empire Ants topic\n"
     ]
    },
    {
     "name": "stdout",
     "output_type": "stream",
     "text": [
      "DV7tqGOoIJM Gorillaz Glitter Freeze topic\n"
     ]
    },
    {
     "name": "stdout",
     "output_type": "stream",
     "text": [
      "BGn2oo-0Dqc Gorillaz On Melancholy Hill topic\n"
     ]
    },
    {
     "name": "stdout",
     "output_type": "stream",
     "text": [
      "KESIZbP4R8U Gorillaz Orchestral Intro topic\n"
     ]
    },
    {
     "name": "stdout",
     "output_type": "stream",
     "text": [
      "Xqqb0LGVKiI Gorillaz Pirate Jet topic\n"
     ]
    },
    {
     "name": "stdout",
     "output_type": "stream",
     "text": [
      "uUoo8cAZTzc Gorillaz Pirate's Progress topic\n"
     ]
    },
    {
     "name": "stdout",
     "output_type": "stream",
     "text": [
      "AGM8BMqBcTo Gorillaz Plastic Beach topic\n"
     ]
    },
    {
     "name": "stdout",
     "output_type": "stream",
     "text": [
      "7GdsftXc0yU Gorillaz Rhinestone Eyes topic\n"
     ]
    },
    {
     "name": "stdout",
     "output_type": "stream",
     "text": [
      "1KC2-EZ1ee0 Gorillaz Some Kind of Nature topic\n"
     ]
    },
    {
     "name": "stdout",
     "output_type": "stream",
     "text": [
      "-SxlD74hvRk Gorillaz Stylo topic\n"
     ]
    },
    {
     "name": "stdout",
     "output_type": "stream",
     "text": [
      "t6BPyilmanI Gorillaz Superfast Jellyfish topic\n"
     ]
    },
    {
     "name": "stdout",
     "output_type": "stream",
     "text": [
      "_Q3QUoSgBLs Gorillaz Sweepstakes topic\n"
     ]
    },
    {
     "name": "stdout",
     "output_type": "stream",
     "text": [
      "sY20vr7-MpM Gorillaz To Binge topic\n"
     ]
    },
    {
     "name": "stdout",
     "output_type": "stream",
     "text": [
      "VhXK74DY4DU Gorillaz Welcome to the World of the Plastic Beach topic\n"
     ]
    },
    {
     "name": "stdout",
     "output_type": "stream",
     "text": [
      "dQWT7fNrVqQ Gorillaz White Flag topic\n"
     ]
    },
    {
     "name": "stdout",
     "output_type": "stream",
     "text": [
      "PKXloFW_ZCA Gorillaz Aries topic\n"
     ]
    },
    {
     "name": "stdout",
     "output_type": "stream",
     "text": [
      "jax83cVKij0 Gorillaz Detroit topic\n"
     ]
    },
    {
     "name": "stdout",
     "output_type": "stream",
     "text": [
      "ZSBN0-61m_c Green Day American Idiot topic\n"
     ]
    },
    {
     "name": "stdout",
     "output_type": "stream",
     "text": [
      "Aiz2mBFwhXI Guns N' Roses Paradise City topic\n"
     ]
    },
    {
     "name": "stdout",
     "output_type": "stream",
     "text": [
      "V7aY2G7FvOM Guns N' Roses Sweet Child O' Mine topic\n"
     ]
    },
    {
     "name": "stdout",
     "output_type": "stream",
     "text": [
      "yW8nBlZZvxM Haken 1985 topic\n"
     ]
    },
    {
     "name": "stdout",
     "output_type": "stream",
     "text": [
      "Bm3UH_bzjlM Haken affinity.exe / Initiate topic\n"
     ]
    },
    {
     "name": "stdout",
     "output_type": "stream",
     "text": [
      "ax203gaiyCA Haken Bound By Gravity topic\n"
     ]
    },
    {
     "name": "stdout",
     "output_type": "stream",
     "text": [
      "X3Wf5EErtZ8 Haken Earthrise topic\n"
     ]
    },
    {
     "name": "stdout",
     "output_type": "stream",
     "text": [
      "I-L-qK9qQ28 Haken Lapse topic\n"
     ]
    },
    {
     "name": "stdout",
     "output_type": "stream",
     "text": [
      "9kXE4HroksQ Haken Red Giant topic\n"
     ]
    },
    {
     "name": "stdout",
     "output_type": "stream",
     "text": [
      "hiPNVVOTpe8 Haken The Architect topic\n"
     ]
    },
    {
     "name": "stdout",
     "output_type": "stream",
     "text": [
      "tMi0ujWf8hM Haken The Endless Knot topic\n"
     ]
    },
    {
     "name": "stdout",
     "output_type": "stream",
     "text": [
      "tnhrC7i3fVQ Happy End Aiga wo topic\n"
     ]
    },
    {
     "name": "stdout",
     "output_type": "stream",
     "text": [
      "6fvB4Ng6j30 Happy End Ashita tenki ni Naare topic\n"
     ]
    },
    {
     "name": "stdout",
     "output_type": "stream",
     "text": [
      "F-f2IMcxN5g Happy End Dakishimetai topic\n"
     ]
    },
    {
     "name": "stdout",
     "output_type": "stream",
     "text": [
      "YGKDKAoJyJU Happy End Haikara Beautiful topic\n"
     ]
    },
    {
     "name": "stdout",
     "output_type": "stream",
     "text": [
      "snLBls0tgCg Happy End Haikara Hakuchi topic\n"
     ]
    },
    {
     "name": "stdout",
     "output_type": "stream",
     "text": [
      "Li4vte8Vl70 Happy End Hanaichimonme topic\n"
     ]
    },
    {
     "name": "stdout",
     "output_type": "stream",
     "text": [
      "eSWOIDxjPd4 Happy End Haru Ranman topic\n"
     ]
    },
    {
     "name": "stdout",
     "output_type": "stream",
     "text": [
      "0b6inZfiGrw Happy End Kaze wo Atsumete topic\n"
     ]
    },
    {
     "name": "stdout",
     "output_type": "stream",
     "text": [
      "______________________NOT FOUD Happy End Kurayamizaka Musasabi Henka topic\n"
     ]
    },
    {
     "name": "stdout",
     "output_type": "stream",
     "text": [
      "VIo3uq8HAgc Happy End Natsu nandesu topic\n"
     ]
    },
    {
     "name": "stdout",
     "output_type": "stream",
     "text": [
      "_______________________ERROR Happy End Sorairo no Crayon topic\n"
     ]
    },
    {
     "name": "stdout",
     "output_type": "stream",
     "text": [
      "yrEUsl3LEh0 Happy End Taifuu topic\n"
     ]
    },
    {
     "name": "stdout",
     "output_type": "stream",
     "text": [
      "nFAuXLEa31s Heatwave Boogie Nights topic\n"
     ]
    },
    {
     "name": "stdout",
     "output_type": "stream",
     "text": [
      "WYRrIBqKsJ4 Herbie Hancock Chameleon topic\n"
     ]
    },
    {
     "name": "stdout",
     "output_type": "stream",
     "text": [
      "At1wCLEVdWI Herbie Hancock Sly topic\n"
     ]
    },
    {
     "name": "stdout",
     "output_type": "stream",
     "text": [
      "hcvb5muPPNA Herbie Hancock Vein Melter topic\n"
     ]
    },
    {
     "name": "stdout",
     "output_type": "stream",
     "text": [
      "ppJQKfqhFfE Herbie Hancock Watermelon Man topic\n"
     ]
    },
    {
     "name": "stdout",
     "output_type": "stream",
     "text": [
      "ohYHBwVAZgU Herbie Hancock Hidden Shadows topic\n"
     ]
    },
    {
     "name": "stdout",
     "output_type": "stream",
     "text": [
      "ZJGESmyIVo0 Herbie Hancock Hornets topic\n"
     ]
    },
    {
     "name": "stdout",
     "output_type": "stream",
     "text": [
      "g2hK6_o5Pdw Herbie Hancock Rain Dance topic\n"
     ]
    },
    {
     "name": "stdout",
     "output_type": "stream",
     "text": [
      "LUbPWiNcENE Hey Hey My My The One I Call topic\n"
     ]
    },
    {
     "name": "stdout",
     "output_type": "stream",
     "text": [
      "yKr2mEU7Ums Hugo TSR Périmètre topic\n"
     ]
    },
    {
     "name": "stdout",
     "output_type": "stream",
     "text": [
      "k-yn0DEGyaA IAM Bouger la tête topic\n"
     ]
    },
    {
     "name": "stdout",
     "output_type": "stream",
     "text": [
      "FNyNtH0UYms IAM Chez le mac topic\n"
     ]
    },
    {
     "name": "stdout",
     "output_type": "stream",
     "text": [
      "F5AgRuFJSRA IAM Dangereux topic\n"
     ]
    },
    {
     "name": "stdout",
     "output_type": "stream",
     "text": [
      "JaqLOsO6dTw IAM Demain, c'est loin topic\n"
     ]
    },
    {
     "name": "stdout",
     "output_type": "stream",
     "text": [
      "a3w7ZLCU_l4 IAM Elle donne son corps avant son nom topic\n"
     ]
    },
    {
     "name": "stdout",
     "output_type": "stream",
     "text": [
      "x4uHgwHdXOA IAM L'École du Micro d'Argent topic\n"
     ]
    },
    {
     "name": "stdout",
     "output_type": "stream",
     "text": [
      "okbp-Qf1t_c IAM L'empire du côté obscur topic\n"
     ]
    },
    {
     "name": "stdout",
     "output_type": "stream",
     "text": [
      "kZDrMkttpe4 IAM L'enfer topic\n"
     ]
    },
    {
     "name": "stdout",
     "output_type": "stream",
     "text": [
      "s7bU8Xs2OL0 IAM La Saga topic\n"
     ]
    },
    {
     "name": "stdout",
     "output_type": "stream",
     "text": [
      "P8uGkouJfwE IAM Libère mon imagination topic\n"
     ]
    },
    {
     "name": "stdout",
     "output_type": "stream",
     "text": [
      "dM2kHM5-xlw IAM Nés sous la même étoile topic\n"
     ]
    },
    {
     "name": "stdout",
     "output_type": "stream",
     "text": [
      "NonWfgHegDU IAM Petit Frère topic\n"
     ]
    },
    {
     "name": "stdout",
     "output_type": "stream",
     "text": [
      "5szFsGNOsIU IAM Quand tu allais, on revenait topic\n"
     ]
    },
    {
     "name": "stdout",
     "output_type": "stream",
     "text": [
      "YJ_qaqfOo88 IAM Regarde topic\n"
     ]
    },
    {
     "name": "stdout",
     "output_type": "stream",
     "text": [
      "HTKZasaOXf8 IAM Un bon son brut pour les truands topic\n"
     ]
    },
    {
     "name": "stdout",
     "output_type": "stream",
     "text": [
      "uKH1cizPkTs IAM Un cri court dans la nuit topic\n"
     ]
    },
    {
     "name": "stdout",
     "output_type": "stream",
     "text": [
      "_______________________ERROR Igorrr Downgrade Desert topic\n"
     ]
    },
    {
     "name": "stdout",
     "output_type": "stream",
     "text": [
      "BDNCMYg_rNk In Flames Only for the Weak topic\n"
     ]
    },
    {
     "name": "stdout",
     "output_type": "stream",
     "text": [
      "zSkYpzikcdM Incantation Cacharpaya topic\n"
     ]
    },
    {
     "name": "stdout",
     "output_type": "stream",
     "text": [
      "Pp6nqnRJ3hg Iron Maiden No More Lies topic\n"
     ]
    },
    {
     "name": "stdout",
     "output_type": "stream",
     "text": [
      "DokBeZKKeKI Jake Chudnow Poodles topic\n"
     ]
    },
    {
     "name": "stdout",
     "output_type": "stream",
     "text": [
      "J_vEDK4PJVs Jake Chudnow Turquoise topic\n"
     ]
    },
    {
     "name": "stdout",
     "output_type": "stream",
     "text": [
      "p-H0Cz4aseA Joan Jett and the Blackhearts I Love Rock 'N Roll topic\n"
     ]
    },
    {
     "name": "stdout",
     "output_type": "stream",
     "text": [
      "Yz7-U186oA4 Joe Dassin Les Champs Élysées topic\n"
     ]
    },
    {
     "name": "stdout",
     "output_type": "stream",
     "text": [
      "-UhOPXd-LYY Johann Sebastian Bach Toccata & Fugue D Minor, BWV 565 topic\n"
     ]
    },
    {
     "name": "stdout",
     "output_type": "stream",
     "text": [
      "eGz1AoyPW8M Johann Strauss II An Der Schönen, Blauen Donau - Walzer, Op. 314 topic\n"
     ]
    },
    {
     "name": "stdout",
     "output_type": "stream",
     "text": [
      "______________________NOT FOUD John Adams Finale  topic\n"
     ]
    },
    {
     "name": "stdout",
     "output_type": "stream",
     "text": [
      "1vrEljMfXYo John Denver Take Me Home, Country Roads topic\n"
     ]
    },
    {
     "name": "stdout",
     "output_type": "stream",
     "text": [
      "0DNwYnJivJw John Lennon Imagine topic\n"
     ]
    },
    {
     "name": "stdout",
     "output_type": "stream",
     "text": [
      "jPan651rVMs Joji Gimme Love topic\n"
     ]
    },
    {
     "name": "stdout",
     "output_type": "stream",
     "text": [
      "k43TrhN8Yt4 Jul Folie topic\n"
     ]
    },
    {
     "name": "stdout",
     "output_type": "stream",
     "text": [
      "q-3qus2pvJM Jul Sousou topic\n"
     ]
    },
    {
     "name": "stdout",
     "output_type": "stream",
     "text": [
      "J9aRK2kPsbE Jun Fukamachi Desillusion topic\n"
     ]
    },
    {
     "name": "stdout",
     "output_type": "stream",
     "text": [
      "wOr4gUJv5xA Jun Fukamachi Insight topic\n"
     ]
    },
    {
     "name": "stdout",
     "output_type": "stream",
     "text": [
      "tAq6fhi1uQc Jun Fukamachi Perpetual (Movement) topic\n"
     ]
    },
    {
     "name": "stdout",
     "output_type": "stream",
     "text": [
      "hRZch8wSeII Jun Fukamachi Quark topic\n"
     ]
    },
    {
     "name": "stdout",
     "output_type": "stream",
     "text": [
      "98h2NO4AQI4 Kalash Criminel Pronostic topic\n"
     ]
    },
    {
     "name": "stdout",
     "output_type": "stream",
     "text": [
      "_______________________ERROR Kelly Bailey CP Violation topic\n"
     ]
    },
    {
     "name": "stdout",
     "output_type": "stream",
     "text": [
      "vJKo87XKyk4 Kenichiro Nishihara Believe topic\n"
     ]
    },
    {
     "name": "stdout",
     "output_type": "stream",
     "text": [
      "4GGsbFS4l3g Kenichiro Nishihara Magazine topic\n"
     ]
    },
    {
     "name": "stdout",
     "output_type": "stream",
     "text": [
      "HCRbay_EbMw Kenichiro Nishihara My Leaving topic\n"
     ]
    },
    {
     "name": "stdout",
     "output_type": "stream",
     "text": [
      "_-2dif0U7G8 Kenichiro Nishihara My Love My Life topic\n"
     ]
    },
    {
     "name": "stdout",
     "output_type": "stream",
     "text": [
      "RkeCP7jFPNI Kenichiro Nishihara Pass the Tea topic\n"
     ]
    },
    {
     "name": "stdout",
     "output_type": "stream",
     "text": [
      "mecCL6YutKA Kenichiro Nishihara Piano Choir topic\n"
     ]
    },
    {
     "name": "stdout",
     "output_type": "stream",
     "text": [
      "fJgR1oBZBfQ Kenichiro Nishihara Prism Tale topic\n"
     ]
    },
    {
     "name": "stdout",
     "output_type": "stream",
     "text": [
      "zH0cRwg2-Bg Kenichiro Nishihara The Vibe topic\n"
     ]
    },
    {
     "name": "stdout",
     "output_type": "stream",
     "text": [
      "aRu4Cv-fT9A Kenichiro Nishihara Wave topic\n"
     ]
    },
    {
     "name": "stdout",
     "output_type": "stream",
     "text": [
      "cCvoCE8Dp3A Kenichiro Nishihara Yesternow Immigrants topic\n"
     ]
    },
    {
     "name": "stdout",
     "output_type": "stream",
     "text": [
      "4b89j6IacN0 Kiss I Was Made For Lovin' You topic\n"
     ]
    },
    {
     "name": "stdout",
     "output_type": "stream",
     "text": [
      "aQ6Fq-LfDZQ Koji Kondo Kokiri Forest topic\n"
     ]
    },
    {
     "name": "stdout",
     "output_type": "stream",
     "text": [
      "jghyKdwHnSg Kool & The Gang Fresh topic\n"
     ]
    },
    {
     "name": "stdout",
     "output_type": "stream",
     "text": [
      "B2APiSOiuD4 Kool & the Gang Get Down on It topic\n"
     ]
    },
    {
     "name": "stdout",
     "output_type": "stream",
     "text": [
      "dVTaRHjAFTM Korn Blind topic\n"
     ]
    },
    {
     "name": "stdout",
     "output_type": "stream",
     "text": [
      "BSYvOLNMMLc Korn Alone I Break topic\n"
     ]
    },
    {
     "name": "stdout",
     "output_type": "stream",
     "text": [
      "SySHQ2xUWEA Korn Beat It Upright topic\n"
     ]
    },
    {
     "name": "stdout",
     "output_type": "stream",
     "text": [
      "tHTZQBjHc_M Korn Blame topic\n"
     ]
    },
    {
     "name": "stdout",
     "output_type": "stream",
     "text": [
      "2zW9B-1W9nA Korn Bottled Up Inside topic\n"
     ]
    },
    {
     "name": "stdout",
     "output_type": "stream",
     "text": [
      "DtDYxH1bmqI Korn Embrace topic\n"
     ]
    },
    {
     "name": "stdout",
     "output_type": "stream",
     "text": [
      "uK0dwMCbw1Y Korn Hating topic\n"
     ]
    },
    {
     "name": "stdout",
     "output_type": "stream",
     "text": [
      "DbestXTUYFM Korn Here To Stay topic\n"
     ]
    },
    {
     "name": "stdout",
     "output_type": "stream",
     "text": [
      "f9VejccDPBw Korn Hollow Life topic\n"
     ]
    },
    {
     "name": "stdout",
     "output_type": "stream",
     "text": [
      "RgXCaVTrAcI Korn I'm Hiding topic\n"
     ]
    },
    {
     "name": "stdout",
     "output_type": "stream",
     "text": [
      "wvLrlNxXb78 Korn Make Believe topic\n"
     ]
    },
    {
     "name": "stdout",
     "output_type": "stream",
     "text": [
      "8gYJatiODnM Korn No One's There topic\n"
     ]
    },
    {
     "name": "stdout",
     "output_type": "stream",
     "text": [
      "Pzs1qkU1lkI Korn One More Time topic\n"
     ]
    },
    {
     "name": "stdout",
     "output_type": "stream",
     "text": [
      "t0keKk18sZE Korn Thoughtless topic\n"
     ]
    },
    {
     "name": "stdout",
     "output_type": "stream",
     "text": [
      "VbCJGCG7F-0 Korn Wake Up Hate topic\n"
     ]
    },
    {
     "name": "stdout",
     "output_type": "stream",
     "text": [
      "adPVaU0WCNU Kristofer Maddigan A Quick Break topic\n"
     ]
    },
    {
     "name": "stdout",
     "output_type": "stream",
     "text": [
      "0tjimqS9qI0 Kristofer Maddigan Admission To Perdition topic\n"
     ]
    },
    {
     "name": "stdout",
     "output_type": "stream",
     "text": [
      "Xugs-grBc0g Kristofer Maddigan All Bets Are Off topic\n"
     ]
    },
    {
     "name": "stdout",
     "output_type": "stream",
     "text": [
      "lC2LN2XjXn0 Kristofer Maddigan Aviary Action topic\n"
     ]
    },
    {
     "name": "stdout",
     "output_type": "stream",
     "text": [
      "ToR93aj9U7w Kristofer Maddigan Botanic Panic topic\n"
     ]
    },
    {
     "name": "stdout",
     "output_type": "stream",
     "text": [
      "ShRtTavUDi8 Kristofer Maddigan Carnival Kerfuffle topic\n"
     ]
    },
    {
     "name": "stdout",
     "output_type": "stream",
     "text": [
      "Eh28VMue_1M Kristofer Maddigan Chief Evil Officer topic\n"
     ]
    },
    {
     "name": "stdout",
     "output_type": "stream",
     "text": [
      "RRCiA55yZe0 Kristofer Maddigan Clip Joint Calamity topic\n"
     ]
    },
    {
     "name": "stdout",
     "output_type": "stream",
     "text": [
      "cdvSNkW3Uyk Kristofer Maddigan Closing Credits topic\n"
     ]
    },
    {
     "name": "stdout",
     "output_type": "stream",
     "text": [
      "OzDqXvI6uSI Kristofer Maddigan Coin-Op Bop topic\n"
     ]
    },
    {
     "name": "stdout",
     "output_type": "stream",
     "text": [
      "f9DLhlboCSU Kristofer Maddigan Die House topic\n"
     ]
    },
    {
     "name": "stdout",
     "output_type": "stream",
     "text": [
      "TeoYhdBD59A Kristofer Maddigan Don't Deal With The Devil (Instrumental) topic\n"
     ]
    },
    {
     "name": "stdout",
     "output_type": "stream",
     "text": [
      "Q0TIFoZjSIk Kristofer Maddigan Dramatic Fanatic topic\n"
     ]
    },
    {
     "name": "stdout",
     "output_type": "stream",
     "text": [
      "47IaGQJFeno Kristofer Maddigan Elder Kettle topic\n"
     ]
    },
    {
     "name": "stdout",
     "output_type": "stream",
     "text": [
      "47IaGQJFeno Kristofer Maddigan Elder Kettle (piano) topic\n"
     ]
    },
    {
     "name": "stdout",
     "output_type": "stream",
     "text": [
      "o1jhTTmA3AM Kristofer Maddigan Fiery Frolic topic\n"
     ]
    },
    {
     "name": "stdout",
     "output_type": "stream",
     "text": [
      "2clUY-OsCpY Kristofer Maddigan Floral Fury topic\n"
     ]
    },
    {
     "name": "stdout",
     "output_type": "stream",
     "text": [
      "S1VHnzHAJ94 Kristofer Maddigan Forest Follies topic\n"
     ]
    },
    {
     "name": "stdout",
     "output_type": "stream",
     "text": [
      "XeDhWSdPb4Q Kristofer Maddigan Funfair Fever topic\n"
     ]
    },
    {
     "name": "stdout",
     "output_type": "stream",
     "text": [
      "Z6tVmOgR-Xs Kristofer Maddigan Funhouse Frazzle topic\n"
     ]
    },
    {
     "name": "stdout",
     "output_type": "stream",
     "text": [
      "______________________NOT FOUD Kristofer Maddigan High Score topic\n"
     ]
    },
    {
     "name": "stdout",
     "output_type": "stream",
     "text": [
      "KQAb4mbyAnw Kristofer Maddigan High Seas Hi-Jinx topic\n"
     ]
    },
    {
     "name": "stdout",
     "output_type": "stream",
     "text": [
      "ITEunpP4zyo Kristofer Maddigan Honeycomb Herald topic\n"
     ]
    },
    {
     "name": "stdout",
     "output_type": "stream",
     "text": [
      "UcoFPclN4s0 Kristofer Maddigan Hurry Up topic\n"
     ]
    },
    {
     "name": "stdout",
     "output_type": "stream",
     "text": [
      "l_wxCbTd5zY Kristofer Maddigan Inkwell Hell topic\n"
     ]
    },
    {
     "name": "stdout",
     "output_type": "stream",
     "text": [
      "xYjEyVjRTGU Kristofer Maddigan Inkwell Hell (Piano) topic\n"
     ]
    },
    {
     "name": "stdout",
     "output_type": "stream",
     "text": [
      "jvOY2RvuvGs Kristofer Maddigan Inkwell Isle One topic\n"
     ]
    },
    {
     "name": "stdout",
     "output_type": "stream",
     "text": [
      "05GUPnQ5IEA Kristofer Maddigan Inkwell Isle One (Piano) topic\n"
     ]
    },
    {
     "name": "stdout",
     "output_type": "stream",
     "text": [
      "aPGWt2XGN78 Kristofer Maddigan Inkwell Isle Three topic\n"
     ]
    },
    {
     "name": "stdout",
     "output_type": "stream",
     "text": [
      "ihyfYvbu-Y4 Kristofer Maddigan Inkwell Isle Three (Piano) topic\n"
     ]
    },
    {
     "name": "stdout",
     "output_type": "stream",
     "text": [
      "Mgx6bKTrDBY Kristofer Maddigan Inkwell Isle Two topic\n"
     ]
    },
    {
     "name": "stdout",
     "output_type": "stream",
     "text": [
      "DmYfZNjKDvM Kristofer Maddigan Inkwell Isle Two (Piano) topic\n"
     ]
    },
    {
     "name": "stdout",
     "output_type": "stream",
     "text": [
      "_______________________ERROR Kristofer Maddigan Introduction topic\n"
     ]
    },
    {
     "name": "stdout",
     "output_type": "stream",
     "text": [
      "VdhEiRSB42U Kristofer Maddigan Junkyard Jive topic\n"
     ]
    },
    {
     "name": "stdout",
     "output_type": "stream",
     "text": [
      "JdMGaR8JUy0 Kristofer Maddigan Legendary Ghost topic\n"
     ]
    },
    {
     "name": "stdout",
     "output_type": "stream",
     "text": [
      "zhqMfAKLjuE Kristofer Maddigan Murine Corps topic\n"
     ]
    },
    {
     "name": "stdout",
     "output_type": "stream",
     "text": [
      "OiMtZO3zTGI Kristofer Maddigan Ominous Interlude topic\n"
     ]
    },
    {
     "name": "stdout",
     "output_type": "stream",
     "text": [
      "pOqsFMNFdDo Kristofer Maddigan One Hell Of A Time topic\n"
     ]
    },
    {
     "name": "stdout",
     "output_type": "stream",
     "text": [
      "______________________NOT FOUD Kristofer Maddigan Perilious Piers topic\n"
     ]
    },
    {
     "name": "stdout",
     "output_type": "stream",
     "text": [
      "ggjhmhGuOsY Kristofer Maddigan Porkrind's Shop topic\n"
     ]
    },
    {
     "name": "stdout",
     "output_type": "stream",
     "text": [
      "tPzaxe3KNzw Kristofer Maddigan Pyramid Peril topic\n"
     ]
    },
    {
     "name": "stdout",
     "output_type": "stream",
     "text": [
      "e_G_sGaJFpQ Kristofer Maddigan Railroad Wrath topic\n"
     ]
    },
    {
     "name": "stdout",
     "output_type": "stream",
     "text": [
      "hXv86U7f-TU Kristofer Maddigan Rugged Ridge topic\n"
     ]
    },
    {
     "name": "stdout",
     "output_type": "stream",
     "text": [
      "gVgJ6LiyPlM Kristofer Maddigan Ruse Of An Ooze topic\n"
     ]
    },
    {
     "name": "stdout",
     "output_type": "stream",
     "text": [
      "pTssUNgQZe8 Kristofer Maddigan Shootin n' Lootin topic\n"
     ]
    },
    {
     "name": "stdout",
     "output_type": "stream",
     "text": [
      "uxBsL4_xF1M Kristofer Maddigan Sugarland Shimmy topic\n"
     ]
    },
    {
     "name": "stdout",
     "output_type": "stream",
     "text": [
      "NKfkd2ZuH54 Kristofer Maddigan The Airship topic\n"
     ]
    },
    {
     "ename": "KeyError",
     "evalue": "'itemSectionRenderer'",
     "output_type": "error",
     "traceback": [
      "\u001b[0;31m\u001b[0m",
      "\u001b[0;31mKeyError\u001b[0mTraceback (most recent call last)",
      "\u001b[0;32m<ipython-input-110-0879ea6dc265>\u001b[0m in \u001b[0;36m<module>\u001b[0;34m\u001b[0m\n\u001b[1;32m     14\u001b[0m     \u001b[0msections\u001b[0m \u001b[0;34m=\u001b[0m \u001b[0mdata\u001b[0m\u001b[0;34m[\u001b[0m\u001b[0;34m\"contents\"\u001b[0m\u001b[0;34m]\u001b[0m\u001b[0;34m[\u001b[0m\u001b[0;34m\"twoColumnSearchResultsRenderer\"\u001b[0m\u001b[0;34m]\u001b[0m\u001b[0;34m[\u001b[0m\u001b[0;34m\"primaryContents\"\u001b[0m\u001b[0;34m]\u001b[0m\u001b[0;34m[\u001b[0m\u001b[0;34m\"sectionListRenderer\"\u001b[0m\u001b[0;34m]\u001b[0m\u001b[0;34m[\u001b[0m\u001b[0;34m\"contents\"\u001b[0m\u001b[0;34m]\u001b[0m\u001b[0;34m\u001b[0m\u001b[0;34m\u001b[0m\u001b[0m\n\u001b[1;32m     15\u001b[0m     \u001b[0;32mfor\u001b[0m \u001b[0msection\u001b[0m \u001b[0;32min\u001b[0m \u001b[0msections\u001b[0m\u001b[0;34m:\u001b[0m\u001b[0;34m\u001b[0m\u001b[0;34m\u001b[0m\u001b[0m\n\u001b[0;32m---> 16\u001b[0;31m         \u001b[0mfirst_result\u001b[0m \u001b[0;34m=\u001b[0m \u001b[0msection\u001b[0m\u001b[0;34m[\u001b[0m\u001b[0;34m\"itemSectionRenderer\"\u001b[0m\u001b[0;34m]\u001b[0m\u001b[0;34m[\u001b[0m\u001b[0;34m\"contents\"\u001b[0m\u001b[0;34m]\u001b[0m\u001b[0;34m[\u001b[0m\u001b[0;36m0\u001b[0m\u001b[0;34m]\u001b[0m\u001b[0;34m\u001b[0m\u001b[0;34m\u001b[0m\u001b[0m\n\u001b[0m\u001b[1;32m     17\u001b[0m         \u001b[0;32mtry\u001b[0m\u001b[0;34m:\u001b[0m\u001b[0;34m\u001b[0m\u001b[0;34m\u001b[0m\u001b[0m\n\u001b[1;32m     18\u001b[0m             \u001b[0mvideo_id\u001b[0m \u001b[0;34m=\u001b[0m \u001b[0mfirst_result\u001b[0m\u001b[0;34m[\u001b[0m\u001b[0;34m\"videoRenderer\"\u001b[0m\u001b[0;34m]\u001b[0m\u001b[0;34m[\u001b[0m\u001b[0;34m\"videoId\"\u001b[0m\u001b[0;34m]\u001b[0m\u001b[0;34m\u001b[0m\u001b[0;34m\u001b[0m\u001b[0m\n",
      "\u001b[0;31mKeyError\u001b[0m: 'itemSectionRenderer'"
     ]
    }
   ],
   "source": [
    "for idx, (_, content) in enumerate(songs.iterrows()):\n",
    "    search = f\"{content['artist']} {content['song']} topic\"\n",
    "    payload = {\n",
    "        \"search_query\": search\n",
    "    }\n",
    "    res = requests.get(BASE_URL, params=payload)\n",
    "    data_str = data_re.search(res.text)\n",
    "    try:\n",
    "        data = json.loads(data_str.group(1))\n",
    "    except AttributeError:\n",
    "        print(\"_______________________ERROR\", search)\n",
    "        ids[idx] = None\n",
    "        continue\n",
    "    sections = data[\"contents\"][\"twoColumnSearchResultsRenderer\"][\"primaryContents\"][\"sectionListRenderer\"][\"contents\"]\n",
    "    for section in sections:\n",
    "        first_result = section[\"itemSectionRenderer\"][\"contents\"][0]\n",
    "        try:\n",
    "            video_id = first_result[\"videoRenderer\"][\"videoId\"]\n",
    "        except KeyError:\n",
    "            continue\n",
    "        else:\n",
    "            break\n",
    "    else:\n",
    "        print(\"______________________NOT FOUD\", search)\n",
    "        ids[idx] = None\n",
    "        continue\n",
    "    ids[idx] = video_id\n",
    "    print(video_id, search)"
   ]
  },
  {
   "cell_type": "code",
   "execution_count": 100,
   "metadata": {
    "collapsed": false
   },
   "outputs": [
    {
     "data": {
      "text/plain": [
       "[{'promotedSparklesTextSearchRenderer': {'content': {'title': {'simpleText': 'Mamma Mia – Lei eller kjøp og streame på SF Anytime'},\n",
       "    'descriptionText': {'simpleText': 'Se de nyeste filmene fra 19 kr på SF Anytime! Kinofilm hjemme. Ingen månedlig avgift. Frakoblet på alt innhold.'},\n",
       "    'websiteText': {'runs': [{'text': 'www.sfanytime.com/',\n",
       "       'textColor': 4278607828}]},\n",
       "    'navigationEndpoint': {'clickTrackingParams': 'CMEBEKreAhgAIhMI0fan57ax6gIV1ACJCh31DwTz',\n",
       "     'commandMetadata': {'webCommandMetadata': {'url': 'https://www.google.com/aclk?sa=l&ai=DChcSEwjwk67ntrHqAhWIre0KHS1DBNUYABAAGgJkZw&sig=AOD64_2TT8Hqv4H91Y3__ZEoMgXB2KmHng&adurl=&ms=[CLICK_MS]&nx=[NX]&ny=[NY]&nb=[NB]',\n",
       "       'rootVe': 83769}},\n",
       "     'urlEndpoint': {'url': 'https://www.google.com/aclk?sa=l&ai=DChcSEwjwk67ntrHqAhWIre0KHS1DBNUYABAAGgJkZw&sig=AOD64_2TT8Hqv4H91Y3__ZEoMgXB2KmHng&adurl=&ms=[CLICK_MS]&nx=[NX]&ny=[NY]&nb=[NB]',\n",
       "      'target': 'TARGET_NEW_WINDOW'}},\n",
       "    'impressionEndpoints': [{'clickTrackingParams': 'CMEBEKreAhgAIhMI0fan57ax6gIV1ACJCh31DwTz',\n",
       "      'loggingUrls': [{'baseUrl': 'https://www.youtube.com/pagead/paralleladview?ai=Cc3YUyFL_XvHaF8_EywW7sJiQDwDIwoGRugUAEAEgAGDDBIIBF2NhLXB1Yi02MjE5ODExNzQ3MDQ5MzcxqAMEqgQXT9BZpL9FaoQH7YPl4aI0CIJU_FyM3rTSCAIQAbALAboLFggDEAMYDCALKAUwBUABSABgAGgAcAE&sigh=fVBnHvqnGrE&cid=CAASFeRoCzcLKotBd4HHdgmcZDsN0pyGPw&vt=0'},\n",
       "       {'baseUrl': 'https://www.youtube.com/api/stats/ads?ver=2&ns=1&event=2&device=1&content_v=&ei=yFL_XtHyFtSBpAT1n5CYDw&devicever=2.20200701.03.01&bti=9477942&format=18_5_0&break_type=0&sdkv=h.3.0.0&slot_pos=0&ad_len=0&asd=CBISBgoECBIQByAFKAMwCzgMShMI8d6o57ax6gIVT-KyCh07GAbyUgYIAxAAQAFYAQ'}],\n",
       "      'commandMetadata': {'webCommandMetadata': {}},\n",
       "      'pingingEndpoint': {'hack': True}}],\n",
       "    'closeButton': {'menuRenderer': {'items': [{'menuNavigationItemRenderer': {'text': {'runs': [{'text': 'Hvorfor vises akkurat denne annonsen?'}]},\n",
       "         'navigationEndpoint': {'clickTrackingParams': 'CMEBEKreAhgAIhMI0fan57ax6gIV1ACJCh31DwTz',\n",
       "          'commandMetadata': {'webCommandMetadata': {'ignoreNavigation': True}},\n",
       "          'adInfoDialogEndpoint': {'dialog': {'adInfoDialogRenderer': {'dialogMessage': {'runs': [{'text': 'Gå til Googles '},\n",
       "               {'text': 'annonseinnstillinger',\n",
       "                'navigationEndpoint': {'clickTrackingParams': 'CMMBEPWrAiITCNH2p-e2seoCFdQAiQod9Q8E8w==',\n",
       "                 'commandMetadata': {'webCommandMetadata': {'url': 'https://adssettings.google.com/',\n",
       "                   'rootVe': 83769}},\n",
       "                 'urlEndpoint': {'url': 'https://adssettings.google.com',\n",
       "                  'target': 'TARGET_NEW_WINDOW'}}},\n",
       "               {'text': ' for å få mer informasjon om hvordan annonser målrettes eller for å velge bort personlig tilpassede annonser.'}]},\n",
       "             'confirmLabel': {'runs': [{'text': 'Lukk'}]},\n",
       "             'trackingParams': 'CMMBEPWrAiITCNH2p-e2seoCFdQAiQod9Q8E8w==',\n",
       "             'title': {'runs': [{'text': 'Denne annonsen vises basert på:'}]},\n",
       "             'adReasons': [{'simpleText': 'De gjeldende søketermene dine.'}]}}}},\n",
       "         'trackingParams': 'CMEBEKreAhgAIhMI0fan57ax6gIV1ACJCh31DwTz'}},\n",
       "       {'menuNavigationItemRenderer': {'text': {'runs': [{'text': 'Kontrollér Google-annonsene dine'}]},\n",
       "         'icon': {'iconType': 'SETTINGS'},\n",
       "         'navigationEndpoint': {'clickTrackingParams': 'CMEBEKreAhgAIhMI0fan57ax6gIV1ACJCh31DwTz',\n",
       "          'commandMetadata': {'webCommandMetadata': {'url': 'https://adssettings.google.com/',\n",
       "            'rootVe': 83769}},\n",
       "          'urlEndpoint': {'url': 'https://adssettings.google.com',\n",
       "           'target': 'TARGET_NEW_WINDOW'}},\n",
       "         'trackingParams': 'CMEBEKreAhgAIhMI0fan57ax6gIV1ACJCh31DwTz'}}],\n",
       "      'trackingParams': 'CMEBEKreAhgAIhMI0fan57ax6gIV1ACJCh31DwTz',\n",
       "      'accessibility': {'accessibilityData': {'label': 'Handlingsmeny'}}}},\n",
       "    'clickTargetDelayMs': '0',\n",
       "    'borderInfo': {'left': {'flat': 0, 'percentage': 0.0099999998},\n",
       "     'right': {'flat': 0, 'percentage': 0.0099999998},\n",
       "     'top': {'flat': 0, 'percentage': 0.0099999998},\n",
       "     'bottom': {'flat': 0, 'percentage': 0.0099999998}},\n",
       "    'ctaButton': {'buttonRenderer': {'style': 'STYLE_SUGGESTIVE',\n",
       "      'text': {'simpleText': 'GÅ TIL NETTSTEDET'},\n",
       "      'icon': {'iconType': 'EXTERNAL_LINK'},\n",
       "      'navigationEndpoint': {'clickTrackingParams': 'CMIBEPBbIhMI0fan57ax6gIV1ACJCh31DwTz',\n",
       "       'commandMetadata': {'webCommandMetadata': {'url': 'https://www.google.com/aclk?sa=l&ai=DChcSEwjwk67ntrHqAhWIre0KHS1DBNUYABAAGgJkZw&sig=AOD64_2TT8Hqv4H91Y3__ZEoMgXB2KmHng&adurl=&ms=[CLICK_MS]&nx=[NX]&ny=[NY]&nb=[NB]',\n",
       "         'rootVe': 83769}},\n",
       "       'urlEndpoint': {'url': 'https://www.google.com/aclk?sa=l&ai=DChcSEwjwk67ntrHqAhWIre0KHS1DBNUYABAAGgJkZw&sig=AOD64_2TT8Hqv4H91Y3__ZEoMgXB2KmHng&adurl=&ms=[CLICK_MS]&nx=[NX]&ny=[NY]&nb=[NB]',\n",
       "        'target': 'TARGET_NEW_WINDOW'}},\n",
       "      'trackingParams': 'CMIBEPBbIhMI0fan57ax6gIV1ACJCh31DwTz',\n",
       "      'iconPosition': 'BUTTON_ICON_POSITION_TYPE_RIGHT_OF_TEXT'}}},\n",
       "   'clickLocationTargets': [{'location': 'PROMOTED_SPARKLES_CLICK_LOCATION_TITLE',\n",
       "     'code': 0,\n",
       "     'behaviorType': 'PROMOTED_SPARKLES_CLICK_BEHAVIOR_TYPE_OPEN_AD'},\n",
       "    {'location': 'PROMOTED_SPARKLES_CLICK_LOCATION_AD_BADGE',\n",
       "     'code': 31,\n",
       "     'behaviorType': 'PROMOTED_SPARKLES_CLICK_BEHAVIOR_TYPE_OPEN_AD'},\n",
       "    {'location': 'PROMOTED_SPARKLES_CLICK_LOCATION_THUMBNAIL',\n",
       "     'code': 9,\n",
       "     'behaviorType': 'PROMOTED_SPARKLES_CLICK_BEHAVIOR_TYPE_OPEN_AD'},\n",
       "    {'location': 'PROMOTED_SPARKLES_CLICK_LOCATION_DESCRIPTION',\n",
       "     'code': 7,\n",
       "     'behaviorType': 'PROMOTED_SPARKLES_CLICK_BEHAVIOR_TYPE_OPEN_AD'},\n",
       "    {'location': 'PROMOTED_SPARKLES_CLICK_LOCATION_ACTION_LABEL',\n",
       "     'code': 8,\n",
       "     'behaviorType': 'PROMOTED_SPARKLES_CLICK_BEHAVIOR_TYPE_OPEN_AD'},\n",
       "    {'location': 'PROMOTED_SPARKLES_CLICK_LOCATION_BACKGROUND',\n",
       "     'code': 2,\n",
       "     'behaviorType': 'PROMOTED_SPARKLES_CLICK_BEHAVIOR_TYPE_NOOP'},\n",
       "    {'location': 'PROMOTED_SPARKLES_CLICK_LOCATION_BORDER',\n",
       "     'code': 39,\n",
       "     'behaviorType': 'PROMOTED_SPARKLES_CLICK_BEHAVIOR_TYPE_NOOP'},\n",
       "    {'location': 'PROMOTED_SPARKLES_CLICK_LOCATION_INNER_BACKGROUND',\n",
       "     'code': 41,\n",
       "     'behaviorType': 'PROMOTED_SPARKLES_CLICK_BEHAVIOR_TYPE_NOOP'},\n",
       "    {'location': 'PROMOTED_SPARKLES_CLICK_LOCATION_TEXT_AD_WEBSITE',\n",
       "     'code': 1,\n",
       "     'behaviorType': 'PROMOTED_SPARKLES_CLICK_BEHAVIOR_TYPE_OPEN_AD'},\n",
       "    {'location': 'PROMOTED_SPARKLES_CLICK_LOCATION_TEXT_CTD_AD_RATING',\n",
       "     'code': 16,\n",
       "     'behaviorType': 'PROMOTED_SPARKLES_CLICK_BEHAVIOR_TYPE_OPEN_AD'},\n",
       "    {'location': 'PROMOTED_SPARKLES_CLICK_LOCATION_TEXT_CTD_AD_PRICE',\n",
       "     'code': 15,\n",
       "     'behaviorType': 'PROMOTED_SPARKLES_CLICK_BEHAVIOR_TYPE_OPEN_AD'},\n",
       "    {'location': 'PROMOTED_SPARKLES_CLICK_LOCATION_TEXT_CTD_AD_APP_STORE',\n",
       "     'code': 35,\n",
       "     'behaviorType': 'PROMOTED_SPARKLES_CLICK_BEHAVIOR_TYPE_OPEN_AD'},\n",
       "    {'location': 'PROMOTED_SPARKLES_CLICK_LOCATION_TEXT_PRODUCT_ADVERTISER',\n",
       "     'code': 20,\n",
       "     'behaviorType': 'PROMOTED_SPARKLES_CLICK_BEHAVIOR_TYPE_OPEN_AD'},\n",
       "    {'location': 'PROMOTED_SPARKLES_CLICK_LOCATION_TEXT_PRODUCT_PRICE',\n",
       "     'code': 15,\n",
       "     'behaviorType': 'PROMOTED_SPARKLES_CLICK_BEHAVIOR_TYPE_OPEN_AD'},\n",
       "    {'location': 'PROMOTED_SPARKLES_CLICK_LOCATION_CUSTOM_BADGE',\n",
       "     'code': 43,\n",
       "     'behaviorType': 'PROMOTED_SPARKLES_CLICK_BEHAVIOR_TYPE_OPEN_AD'},\n",
       "    {'location': 'PROMOTED_SPARKLES_CLICK_LOCATION_CAROUSEL_CARD_TITLE',\n",
       "     'code': 46,\n",
       "     'behaviorType': 'PROMOTED_SPARKLES_CLICK_BEHAVIOR_TYPE_OPEN_AD'},\n",
       "    {'location': 'PROMOTED_SPARKLES_CLICK_LOCATION_CAROUSEL_CARD_THUMBNAIL',\n",
       "     'code': 44,\n",
       "     'behaviorType': 'PROMOTED_SPARKLES_CLICK_BEHAVIOR_TYPE_OPEN_AD'},\n",
       "    {'location': 'PROMOTED_SPARKLES_CLICK_LOCATION_CAROUSEL_CARD_ACTION_LABEL',\n",
       "     'code': 45,\n",
       "     'behaviorType': 'PROMOTED_SPARKLES_CLICK_BEHAVIOR_TYPE_OPEN_AD'},\n",
       "    {'location': 'PROMOTED_SPARKLES_CLICK_LOCATION_CAROUSEL_CARD_BACKGROUND',\n",
       "     'code': 47,\n",
       "     'behaviorType': 'PROMOTED_SPARKLES_CLICK_BEHAVIOR_TYPE_NOOP'},\n",
       "    {'location': 'PROMOTED_SPARKLES_CLICK_LOCATION_ADVERTISER_AD_ICON',\n",
       "     'code': 19,\n",
       "     'behaviorType': 'PROMOTED_SPARKLES_CLICK_BEHAVIOR_TYPE_OPEN_AD'},\n",
       "    {'location': 'PROMOTED_SPARKLES_CLICK_LOCATION_TALKBACK_ACTIVATED',\n",
       "     'code': 17,\n",
       "     'behaviorType': 'PROMOTED_SPARKLES_CLICK_BEHAVIOR_TYPE_OPEN_AD'},\n",
       "    {'location': 'PROMOTED_SPARKLES_CLICK_LOCATION_ACTION_LABEL_TALKBACK_ACTIVATED',\n",
       "     'code': 8,\n",
       "     'behaviorType': 'PROMOTED_SPARKLES_CLICK_BEHAVIOR_TYPE_OPEN_AD'},\n",
       "    {'location': 'PROMOTED_SPARKLES_CLICK_LOCATION_SITELINK',\n",
       "     'code': 6,\n",
       "     'behaviorType': 'PROMOTED_SPARKLES_CLICK_BEHAVIOR_TYPE_OPEN_AD'}],\n",
       "   'trackingParams': 'CMEBEKreAhgAIhMI0fan57ax6gIV1ACJCh31DwTz'}}]"
      ]
     },
     "execution_count": 100,
     "metadata": {},
     "output_type": "execute_result"
    }
   ],
   "source": [
    "videos"
   ]
  },
  {
   "cell_type": "code",
   "execution_count": 101,
   "metadata": {
    "collapsed": false
   },
   "outputs": [
    {
     "data": {
      "text/plain": [
       "[{'itemSectionRenderer': {'contents': [{'promotedSparklesTextSearchRenderer': {'content': {'title': {'simpleText': 'Mamma Mia – Lei eller kjøp og streame på SF Anytime'},\n",
       "       'descriptionText': {'simpleText': 'Se de nyeste filmene fra 19 kr på SF Anytime! Kinofilm hjemme. Ingen månedlig avgift. Frakoblet på alt innhold.'},\n",
       "       'websiteText': {'runs': [{'text': 'www.sfanytime.com/',\n",
       "          'textColor': 4278607828}]},\n",
       "       'navigationEndpoint': {'clickTrackingParams': 'CMEBEKreAhgAIhMI0fan57ax6gIV1ACJCh31DwTz',\n",
       "        'commandMetadata': {'webCommandMetadata': {'url': 'https://www.google.com/aclk?sa=l&ai=DChcSEwjwk67ntrHqAhWIre0KHS1DBNUYABAAGgJkZw&sig=AOD64_2TT8Hqv4H91Y3__ZEoMgXB2KmHng&adurl=&ms=[CLICK_MS]&nx=[NX]&ny=[NY]&nb=[NB]',\n",
       "          'rootVe': 83769}},\n",
       "        'urlEndpoint': {'url': 'https://www.google.com/aclk?sa=l&ai=DChcSEwjwk67ntrHqAhWIre0KHS1DBNUYABAAGgJkZw&sig=AOD64_2TT8Hqv4H91Y3__ZEoMgXB2KmHng&adurl=&ms=[CLICK_MS]&nx=[NX]&ny=[NY]&nb=[NB]',\n",
       "         'target': 'TARGET_NEW_WINDOW'}},\n",
       "       'impressionEndpoints': [{'clickTrackingParams': 'CMEBEKreAhgAIhMI0fan57ax6gIV1ACJCh31DwTz',\n",
       "         'loggingUrls': [{'baseUrl': 'https://www.youtube.com/pagead/paralleladview?ai=Cc3YUyFL_XvHaF8_EywW7sJiQDwDIwoGRugUAEAEgAGDDBIIBF2NhLXB1Yi02MjE5ODExNzQ3MDQ5MzcxqAMEqgQXT9BZpL9FaoQH7YPl4aI0CIJU_FyM3rTSCAIQAbALAboLFggDEAMYDCALKAUwBUABSABgAGgAcAE&sigh=fVBnHvqnGrE&cid=CAASFeRoCzcLKotBd4HHdgmcZDsN0pyGPw&vt=0'},\n",
       "          {'baseUrl': 'https://www.youtube.com/api/stats/ads?ver=2&ns=1&event=2&device=1&content_v=&ei=yFL_XtHyFtSBpAT1n5CYDw&devicever=2.20200701.03.01&bti=9477942&format=18_5_0&break_type=0&sdkv=h.3.0.0&slot_pos=0&ad_len=0&asd=CBISBgoECBIQByAFKAMwCzgMShMI8d6o57ax6gIVT-KyCh07GAbyUgYIAxAAQAFYAQ'}],\n",
       "         'commandMetadata': {'webCommandMetadata': {}},\n",
       "         'pingingEndpoint': {'hack': True}}],\n",
       "       'closeButton': {'menuRenderer': {'items': [{'menuNavigationItemRenderer': {'text': {'runs': [{'text': 'Hvorfor vises akkurat denne annonsen?'}]},\n",
       "            'navigationEndpoint': {'clickTrackingParams': 'CMEBEKreAhgAIhMI0fan57ax6gIV1ACJCh31DwTz',\n",
       "             'commandMetadata': {'webCommandMetadata': {'ignoreNavigation': True}},\n",
       "             'adInfoDialogEndpoint': {'dialog': {'adInfoDialogRenderer': {'dialogMessage': {'runs': [{'text': 'Gå til Googles '},\n",
       "                  {'text': 'annonseinnstillinger',\n",
       "                   'navigationEndpoint': {'clickTrackingParams': 'CMMBEPWrAiITCNH2p-e2seoCFdQAiQod9Q8E8w==',\n",
       "                    'commandMetadata': {'webCommandMetadata': {'url': 'https://adssettings.google.com/',\n",
       "                      'rootVe': 83769}},\n",
       "                    'urlEndpoint': {'url': 'https://adssettings.google.com',\n",
       "                     'target': 'TARGET_NEW_WINDOW'}}},\n",
       "                  {'text': ' for å få mer informasjon om hvordan annonser målrettes eller for å velge bort personlig tilpassede annonser.'}]},\n",
       "                'confirmLabel': {'runs': [{'text': 'Lukk'}]},\n",
       "                'trackingParams': 'CMMBEPWrAiITCNH2p-e2seoCFdQAiQod9Q8E8w==',\n",
       "                'title': {'runs': [{'text': 'Denne annonsen vises basert på:'}]},\n",
       "                'adReasons': [{'simpleText': 'De gjeldende søketermene dine.'}]}}}},\n",
       "            'trackingParams': 'CMEBEKreAhgAIhMI0fan57ax6gIV1ACJCh31DwTz'}},\n",
       "          {'menuNavigationItemRenderer': {'text': {'runs': [{'text': 'Kontrollér Google-annonsene dine'}]},\n",
       "            'icon': {'iconType': 'SETTINGS'},\n",
       "            'navigationEndpoint': {'clickTrackingParams': 'CMEBEKreAhgAIhMI0fan57ax6gIV1ACJCh31DwTz',\n",
       "             'commandMetadata': {'webCommandMetadata': {'url': 'https://adssettings.google.com/',\n",
       "               'rootVe': 83769}},\n",
       "             'urlEndpoint': {'url': 'https://adssettings.google.com',\n",
       "              'target': 'TARGET_NEW_WINDOW'}},\n",
       "            'trackingParams': 'CMEBEKreAhgAIhMI0fan57ax6gIV1ACJCh31DwTz'}}],\n",
       "         'trackingParams': 'CMEBEKreAhgAIhMI0fan57ax6gIV1ACJCh31DwTz',\n",
       "         'accessibility': {'accessibilityData': {'label': 'Handlingsmeny'}}}},\n",
       "       'clickTargetDelayMs': '0',\n",
       "       'borderInfo': {'left': {'flat': 0, 'percentage': 0.0099999998},\n",
       "        'right': {'flat': 0, 'percentage': 0.0099999998},\n",
       "        'top': {'flat': 0, 'percentage': 0.0099999998},\n",
       "        'bottom': {'flat': 0, 'percentage': 0.0099999998}},\n",
       "       'ctaButton': {'buttonRenderer': {'style': 'STYLE_SUGGESTIVE',\n",
       "         'text': {'simpleText': 'GÅ TIL NETTSTEDET'},\n",
       "         'icon': {'iconType': 'EXTERNAL_LINK'},\n",
       "         'navigationEndpoint': {'clickTrackingParams': 'CMIBEPBbIhMI0fan57ax6gIV1ACJCh31DwTz',\n",
       "          'commandMetadata': {'webCommandMetadata': {'url': 'https://www.google.com/aclk?sa=l&ai=DChcSEwjwk67ntrHqAhWIre0KHS1DBNUYABAAGgJkZw&sig=AOD64_2TT8Hqv4H91Y3__ZEoMgXB2KmHng&adurl=&ms=[CLICK_MS]&nx=[NX]&ny=[NY]&nb=[NB]',\n",
       "            'rootVe': 83769}},\n",
       "          'urlEndpoint': {'url': 'https://www.google.com/aclk?sa=l&ai=DChcSEwjwk67ntrHqAhWIre0KHS1DBNUYABAAGgJkZw&sig=AOD64_2TT8Hqv4H91Y3__ZEoMgXB2KmHng&adurl=&ms=[CLICK_MS]&nx=[NX]&ny=[NY]&nb=[NB]',\n",
       "           'target': 'TARGET_NEW_WINDOW'}},\n",
       "         'trackingParams': 'CMIBEPBbIhMI0fan57ax6gIV1ACJCh31DwTz',\n",
       "         'iconPosition': 'BUTTON_ICON_POSITION_TYPE_RIGHT_OF_TEXT'}}},\n",
       "      'clickLocationTargets': [{'location': 'PROMOTED_SPARKLES_CLICK_LOCATION_TITLE',\n",
       "        'code': 0,\n",
       "        'behaviorType': 'PROMOTED_SPARKLES_CLICK_BEHAVIOR_TYPE_OPEN_AD'},\n",
       "       {'location': 'PROMOTED_SPARKLES_CLICK_LOCATION_AD_BADGE',\n",
       "        'code': 31,\n",
       "        'behaviorType': 'PROMOTED_SPARKLES_CLICK_BEHAVIOR_TYPE_OPEN_AD'},\n",
       "       {'location': 'PROMOTED_SPARKLES_CLICK_LOCATION_THUMBNAIL',\n",
       "        'code': 9,\n",
       "        'behaviorType': 'PROMOTED_SPARKLES_CLICK_BEHAVIOR_TYPE_OPEN_AD'},\n",
       "       {'location': 'PROMOTED_SPARKLES_CLICK_LOCATION_DESCRIPTION',\n",
       "        'code': 7,\n",
       "        'behaviorType': 'PROMOTED_SPARKLES_CLICK_BEHAVIOR_TYPE_OPEN_AD'},\n",
       "       {'location': 'PROMOTED_SPARKLES_CLICK_LOCATION_ACTION_LABEL',\n",
       "        'code': 8,\n",
       "        'behaviorType': 'PROMOTED_SPARKLES_CLICK_BEHAVIOR_TYPE_OPEN_AD'},\n",
       "       {'location': 'PROMOTED_SPARKLES_CLICK_LOCATION_BACKGROUND',\n",
       "        'code': 2,\n",
       "        'behaviorType': 'PROMOTED_SPARKLES_CLICK_BEHAVIOR_TYPE_NOOP'},\n",
       "       {'location': 'PROMOTED_SPARKLES_CLICK_LOCATION_BORDER',\n",
       "        'code': 39,\n",
       "        'behaviorType': 'PROMOTED_SPARKLES_CLICK_BEHAVIOR_TYPE_NOOP'},\n",
       "       {'location': 'PROMOTED_SPARKLES_CLICK_LOCATION_INNER_BACKGROUND',\n",
       "        'code': 41,\n",
       "        'behaviorType': 'PROMOTED_SPARKLES_CLICK_BEHAVIOR_TYPE_NOOP'},\n",
       "       {'location': 'PROMOTED_SPARKLES_CLICK_LOCATION_TEXT_AD_WEBSITE',\n",
       "        'code': 1,\n",
       "        'behaviorType': 'PROMOTED_SPARKLES_CLICK_BEHAVIOR_TYPE_OPEN_AD'},\n",
       "       {'location': 'PROMOTED_SPARKLES_CLICK_LOCATION_TEXT_CTD_AD_RATING',\n",
       "        'code': 16,\n",
       "        'behaviorType': 'PROMOTED_SPARKLES_CLICK_BEHAVIOR_TYPE_OPEN_AD'},\n",
       "       {'location': 'PROMOTED_SPARKLES_CLICK_LOCATION_TEXT_CTD_AD_PRICE',\n",
       "        'code': 15,\n",
       "        'behaviorType': 'PROMOTED_SPARKLES_CLICK_BEHAVIOR_TYPE_OPEN_AD'},\n",
       "       {'location': 'PROMOTED_SPARKLES_CLICK_LOCATION_TEXT_CTD_AD_APP_STORE',\n",
       "        'code': 35,\n",
       "        'behaviorType': 'PROMOTED_SPARKLES_CLICK_BEHAVIOR_TYPE_OPEN_AD'},\n",
       "       {'location': 'PROMOTED_SPARKLES_CLICK_LOCATION_TEXT_PRODUCT_ADVERTISER',\n",
       "        'code': 20,\n",
       "        'behaviorType': 'PROMOTED_SPARKLES_CLICK_BEHAVIOR_TYPE_OPEN_AD'},\n",
       "       {'location': 'PROMOTED_SPARKLES_CLICK_LOCATION_TEXT_PRODUCT_PRICE',\n",
       "        'code': 15,\n",
       "        'behaviorType': 'PROMOTED_SPARKLES_CLICK_BEHAVIOR_TYPE_OPEN_AD'},\n",
       "       {'location': 'PROMOTED_SPARKLES_CLICK_LOCATION_CUSTOM_BADGE',\n",
       "        'code': 43,\n",
       "        'behaviorType': 'PROMOTED_SPARKLES_CLICK_BEHAVIOR_TYPE_OPEN_AD'},\n",
       "       {'location': 'PROMOTED_SPARKLES_CLICK_LOCATION_CAROUSEL_CARD_TITLE',\n",
       "        'code': 46,\n",
       "        'behaviorType': 'PROMOTED_SPARKLES_CLICK_BEHAVIOR_TYPE_OPEN_AD'},\n",
       "       {'location': 'PROMOTED_SPARKLES_CLICK_LOCATION_CAROUSEL_CARD_THUMBNAIL',\n",
       "        'code': 44,\n",
       "        'behaviorType': 'PROMOTED_SPARKLES_CLICK_BEHAVIOR_TYPE_OPEN_AD'},\n",
       "       {'location': 'PROMOTED_SPARKLES_CLICK_LOCATION_CAROUSEL_CARD_ACTION_LABEL',\n",
       "        'code': 45,\n",
       "        'behaviorType': 'PROMOTED_SPARKLES_CLICK_BEHAVIOR_TYPE_OPEN_AD'},\n",
       "       {'location': 'PROMOTED_SPARKLES_CLICK_LOCATION_CAROUSEL_CARD_BACKGROUND',\n",
       "        'code': 47,\n",
       "        'behaviorType': 'PROMOTED_SPARKLES_CLICK_BEHAVIOR_TYPE_NOOP'},\n",
       "       {'location': 'PROMOTED_SPARKLES_CLICK_LOCATION_ADVERTISER_AD_ICON',\n",
       "        'code': 19,\n",
       "        'behaviorType': 'PROMOTED_SPARKLES_CLICK_BEHAVIOR_TYPE_OPEN_AD'},\n",
       "       {'location': 'PROMOTED_SPARKLES_CLICK_LOCATION_TALKBACK_ACTIVATED',\n",
       "        'code': 17,\n",
       "        'behaviorType': 'PROMOTED_SPARKLES_CLICK_BEHAVIOR_TYPE_OPEN_AD'},\n",
       "       {'location': 'PROMOTED_SPARKLES_CLICK_LOCATION_ACTION_LABEL_TALKBACK_ACTIVATED',\n",
       "        'code': 8,\n",
       "        'behaviorType': 'PROMOTED_SPARKLES_CLICK_BEHAVIOR_TYPE_OPEN_AD'},\n",
       "       {'location': 'PROMOTED_SPARKLES_CLICK_LOCATION_SITELINK',\n",
       "        'code': 6,\n",
       "        'behaviorType': 'PROMOTED_SPARKLES_CLICK_BEHAVIOR_TYPE_OPEN_AD'}],\n",
       "      'trackingParams': 'CMEBEKreAhgAIhMI0fan57ax6gIV1ACJCh31DwTz'}}],\n",
       "   'trackingParams': 'CMABELsvGAAiEwjR9qfntrHqAhXUAIkKHfUPBPM='}},\n",
       " {'itemSectionRenderer': {'contents': [{'promotedSparklesTextSearchRenderer': {'content': {'title': {'simpleText': 'Mamma Mia Here We Go Again - Film online på Viaplay.no'},\n",
       "       'descriptionText': {'simpleText': 'Lei & kjøp film på Viaplay nå! Velg blant de nyeste filmene & gamle klassikere. En strømme-tjeneste i beste kvalitet med noe for hele familien. Last ned & se offline. Avslutt når du vil. Populære reality-serier. Shows: Swedish Dicks, Veni Vidi Vici, Outlander, PAW Patrol, Hassel, Peppy Pals, The Thundermans.'},\n",
       "       'websiteText': {'runs': [{'text': 'www.viaplay.no/',\n",
       "          'textColor': 4278607828}]},\n",
       "       'navigationEndpoint': {'clickTrackingParams': 'CL0BEKreAhgAIhMI0fan57ax6gIV1ACJCh31DwTz',\n",
       "        'commandMetadata': {'webCommandMetadata': {'url': 'https://www.google.com/aclk?sa=l&ai=DChcSEwjwk67ntrHqAhWIre0KHS1DBNUYABABGgJkZw&sig=AOD64_2jq_Qr_a2YzcCkt2YlFTkfh03k4g&adurl=&ms=[CLICK_MS]&nx=[NX]&ny=[NY]&nb=[NB]',\n",
       "          'rootVe': 83769}},\n",
       "        'urlEndpoint': {'url': 'https://www.google.com/aclk?sa=l&ai=DChcSEwjwk67ntrHqAhWIre0KHS1DBNUYABABGgJkZw&sig=AOD64_2jq_Qr_a2YzcCkt2YlFTkfh03k4g&adurl=&ms=[CLICK_MS]&nx=[NX]&ny=[NY]&nb=[NB]',\n",
       "         'target': 'TARGET_NEW_WINDOW'}},\n",
       "       'impressionEndpoints': [{'clickTrackingParams': 'CL0BEKreAhgAIhMI0fan57ax6gIV1ACJCh31DwTz',\n",
       "         'loggingUrls': [{'baseUrl': 'https://www.youtube.com/pagead/paralleladview?ai=Cc3YUyFL_XvHaF8_EywW7sJiQDwDIwoGRugUAEAEgAGDDBIIBF2NhLXB1Yi02MjE5ODExNzQ3MDQ5MzcxqAMEqgQXT9BZpL9FaoQH7YPl4aI0CIJU_FyM3rTSCAIQAbALAboLFggDEAMYDCALKAUwBUABSABgAGgAcAE&sigh=fVBnHvqnGrE&cid=CAASFeRoCzcLKotBd4HHdgmcZDsN0pyGPw&vt=0'},\n",
       "          {'baseUrl': 'https://www.youtube.com/api/stats/ads?ver=2&ns=1&event=2&device=1&content_v=&ei=yFL_XtHyFtSBpAT1n5CYDw&devicever=2.20200701.03.01&bti=9477942&format=18_5_0&break_type=0&sdkv=h.3.0.0&slot_pos=0&ad_len=0&asd=CBISBgoECBIQByAFKAMwCzgMShMI8d6o57ax6gIVT-KyCh07GAbyUgYIAxAAQAFYAQ'}],\n",
       "         'commandMetadata': {'webCommandMetadata': {}},\n",
       "         'pingingEndpoint': {'hack': True}}],\n",
       "       'closeButton': {'menuRenderer': {'items': [{'menuNavigationItemRenderer': {'text': {'runs': [{'text': 'Hvorfor vises akkurat denne annonsen?'}]},\n",
       "            'navigationEndpoint': {'clickTrackingParams': 'CL0BEKreAhgAIhMI0fan57ax6gIV1ACJCh31DwTz',\n",
       "             'commandMetadata': {'webCommandMetadata': {'ignoreNavigation': True}},\n",
       "             'adInfoDialogEndpoint': {'dialog': {'adInfoDialogRenderer': {'dialogMessage': {'runs': [{'text': 'Gå til Googles '},\n",
       "                  {'text': 'annonseinnstillinger',\n",
       "                   'navigationEndpoint': {'clickTrackingParams': 'CL8BEPWrAiITCNH2p-e2seoCFdQAiQod9Q8E8w==',\n",
       "                    'commandMetadata': {'webCommandMetadata': {'url': 'https://adssettings.google.com/',\n",
       "                      'rootVe': 83769}},\n",
       "                    'urlEndpoint': {'url': 'https://adssettings.google.com',\n",
       "                     'target': 'TARGET_NEW_WINDOW'}}},\n",
       "                  {'text': ' for å få mer informasjon om hvordan annonser målrettes eller for å velge bort personlig tilpassede annonser.'}]},\n",
       "                'confirmLabel': {'runs': [{'text': 'Lukk'}]},\n",
       "                'trackingParams': 'CL8BEPWrAiITCNH2p-e2seoCFdQAiQod9Q8E8w==',\n",
       "                'title': {'runs': [{'text': 'Denne annonsen vises basert på:'}]},\n",
       "                'adReasons': [{'simpleText': 'De gjeldende søketermene dine.'}]}}}},\n",
       "            'trackingParams': 'CL0BEKreAhgAIhMI0fan57ax6gIV1ACJCh31DwTz'}},\n",
       "          {'menuNavigationItemRenderer': {'text': {'runs': [{'text': 'Kontrollér Google-annonsene dine'}]},\n",
       "            'icon': {'iconType': 'SETTINGS'},\n",
       "            'navigationEndpoint': {'clickTrackingParams': 'CL0BEKreAhgAIhMI0fan57ax6gIV1ACJCh31DwTz',\n",
       "             'commandMetadata': {'webCommandMetadata': {'url': 'https://adssettings.google.com/',\n",
       "               'rootVe': 83769}},\n",
       "             'urlEndpoint': {'url': 'https://adssettings.google.com',\n",
       "              'target': 'TARGET_NEW_WINDOW'}},\n",
       "            'trackingParams': 'CL0BEKreAhgAIhMI0fan57ax6gIV1ACJCh31DwTz'}}],\n",
       "         'trackingParams': 'CL0BEKreAhgAIhMI0fan57ax6gIV1ACJCh31DwTz',\n",
       "         'accessibility': {'accessibilityData': {'label': 'Handlingsmeny'}}}},\n",
       "       'clickTargetDelayMs': '0',\n",
       "       'borderInfo': {'left': {'flat': 0, 'percentage': 0.0099999998},\n",
       "        'right': {'flat': 0, 'percentage': 0.0099999998},\n",
       "        'top': {'flat': 0, 'percentage': 0.0099999998},\n",
       "        'bottom': {'flat': 0, 'percentage': 0.0099999998}},\n",
       "       'ctaButton': {'buttonRenderer': {'style': 'STYLE_SUGGESTIVE',\n",
       "         'text': {'simpleText': 'GÅ TIL NETTSTEDET'},\n",
       "         'icon': {'iconType': 'EXTERNAL_LINK'},\n",
       "         'navigationEndpoint': {'clickTrackingParams': 'CL4BEPBbIhMI0fan57ax6gIV1ACJCh31DwTz',\n",
       "          'commandMetadata': {'webCommandMetadata': {'url': 'https://www.google.com/aclk?sa=l&ai=DChcSEwjwk67ntrHqAhWIre0KHS1DBNUYABABGgJkZw&sig=AOD64_2jq_Qr_a2YzcCkt2YlFTkfh03k4g&adurl=&ms=[CLICK_MS]&nx=[NX]&ny=[NY]&nb=[NB]',\n",
       "            'rootVe': 83769}},\n",
       "          'urlEndpoint': {'url': 'https://www.google.com/aclk?sa=l&ai=DChcSEwjwk67ntrHqAhWIre0KHS1DBNUYABABGgJkZw&sig=AOD64_2jq_Qr_a2YzcCkt2YlFTkfh03k4g&adurl=&ms=[CLICK_MS]&nx=[NX]&ny=[NY]&nb=[NB]',\n",
       "           'target': 'TARGET_NEW_WINDOW'}},\n",
       "         'trackingParams': 'CL4BEPBbIhMI0fan57ax6gIV1ACJCh31DwTz',\n",
       "         'iconPosition': 'BUTTON_ICON_POSITION_TYPE_RIGHT_OF_TEXT'}}},\n",
       "      'clickLocationTargets': [{'location': 'PROMOTED_SPARKLES_CLICK_LOCATION_TITLE',\n",
       "        'code': 0,\n",
       "        'behaviorType': 'PROMOTED_SPARKLES_CLICK_BEHAVIOR_TYPE_OPEN_AD'},\n",
       "       {'location': 'PROMOTED_SPARKLES_CLICK_LOCATION_AD_BADGE',\n",
       "        'code': 31,\n",
       "        'behaviorType': 'PROMOTED_SPARKLES_CLICK_BEHAVIOR_TYPE_OPEN_AD'},\n",
       "       {'location': 'PROMOTED_SPARKLES_CLICK_LOCATION_THUMBNAIL',\n",
       "        'code': 9,\n",
       "        'behaviorType': 'PROMOTED_SPARKLES_CLICK_BEHAVIOR_TYPE_OPEN_AD'},\n",
       "       {'location': 'PROMOTED_SPARKLES_CLICK_LOCATION_DESCRIPTION',\n",
       "        'code': 7,\n",
       "        'behaviorType': 'PROMOTED_SPARKLES_CLICK_BEHAVIOR_TYPE_OPEN_AD'},\n",
       "       {'location': 'PROMOTED_SPARKLES_CLICK_LOCATION_ACTION_LABEL',\n",
       "        'code': 8,\n",
       "        'behaviorType': 'PROMOTED_SPARKLES_CLICK_BEHAVIOR_TYPE_OPEN_AD'},\n",
       "       {'location': 'PROMOTED_SPARKLES_CLICK_LOCATION_BACKGROUND',\n",
       "        'code': 2,\n",
       "        'behaviorType': 'PROMOTED_SPARKLES_CLICK_BEHAVIOR_TYPE_NOOP'},\n",
       "       {'location': 'PROMOTED_SPARKLES_CLICK_LOCATION_BORDER',\n",
       "        'code': 39,\n",
       "        'behaviorType': 'PROMOTED_SPARKLES_CLICK_BEHAVIOR_TYPE_NOOP'},\n",
       "       {'location': 'PROMOTED_SPARKLES_CLICK_LOCATION_INNER_BACKGROUND',\n",
       "        'code': 41,\n",
       "        'behaviorType': 'PROMOTED_SPARKLES_CLICK_BEHAVIOR_TYPE_NOOP'},\n",
       "       {'location': 'PROMOTED_SPARKLES_CLICK_LOCATION_TEXT_AD_WEBSITE',\n",
       "        'code': 1,\n",
       "        'behaviorType': 'PROMOTED_SPARKLES_CLICK_BEHAVIOR_TYPE_OPEN_AD'},\n",
       "       {'location': 'PROMOTED_SPARKLES_CLICK_LOCATION_TEXT_CTD_AD_RATING',\n",
       "        'code': 16,\n",
       "        'behaviorType': 'PROMOTED_SPARKLES_CLICK_BEHAVIOR_TYPE_OPEN_AD'},\n",
       "       {'location': 'PROMOTED_SPARKLES_CLICK_LOCATION_TEXT_CTD_AD_PRICE',\n",
       "        'code': 15,\n",
       "        'behaviorType': 'PROMOTED_SPARKLES_CLICK_BEHAVIOR_TYPE_OPEN_AD'},\n",
       "       {'location': 'PROMOTED_SPARKLES_CLICK_LOCATION_TEXT_CTD_AD_APP_STORE',\n",
       "        'code': 35,\n",
       "        'behaviorType': 'PROMOTED_SPARKLES_CLICK_BEHAVIOR_TYPE_OPEN_AD'},\n",
       "       {'location': 'PROMOTED_SPARKLES_CLICK_LOCATION_TEXT_PRODUCT_ADVERTISER',\n",
       "        'code': 20,\n",
       "        'behaviorType': 'PROMOTED_SPARKLES_CLICK_BEHAVIOR_TYPE_OPEN_AD'},\n",
       "       {'location': 'PROMOTED_SPARKLES_CLICK_LOCATION_TEXT_PRODUCT_PRICE',\n",
       "        'code': 15,\n",
       "        'behaviorType': 'PROMOTED_SPARKLES_CLICK_BEHAVIOR_TYPE_OPEN_AD'},\n",
       "       {'location': 'PROMOTED_SPARKLES_CLICK_LOCATION_CUSTOM_BADGE',\n",
       "        'code': 43,\n",
       "        'behaviorType': 'PROMOTED_SPARKLES_CLICK_BEHAVIOR_TYPE_OPEN_AD'},\n",
       "       {'location': 'PROMOTED_SPARKLES_CLICK_LOCATION_CAROUSEL_CARD_TITLE',\n",
       "        'code': 46,\n",
       "        'behaviorType': 'PROMOTED_SPARKLES_CLICK_BEHAVIOR_TYPE_OPEN_AD'},\n",
       "       {'location': 'PROMOTED_SPARKLES_CLICK_LOCATION_CAROUSEL_CARD_THUMBNAIL',\n",
       "        'code': 44,\n",
       "        'behaviorType': 'PROMOTED_SPARKLES_CLICK_BEHAVIOR_TYPE_OPEN_AD'},\n",
       "       {'location': 'PROMOTED_SPARKLES_CLICK_LOCATION_CAROUSEL_CARD_ACTION_LABEL',\n",
       "        'code': 45,\n",
       "        'behaviorType': 'PROMOTED_SPARKLES_CLICK_BEHAVIOR_TYPE_OPEN_AD'},\n",
       "       {'location': 'PROMOTED_SPARKLES_CLICK_LOCATION_CAROUSEL_CARD_BACKGROUND',\n",
       "        'code': 47,\n",
       "        'behaviorType': 'PROMOTED_SPARKLES_CLICK_BEHAVIOR_TYPE_NOOP'},\n",
       "       {'location': 'PROMOTED_SPARKLES_CLICK_LOCATION_ADVERTISER_AD_ICON',\n",
       "        'code': 19,\n",
       "        'behaviorType': 'PROMOTED_SPARKLES_CLICK_BEHAVIOR_TYPE_OPEN_AD'},\n",
       "       {'location': 'PROMOTED_SPARKLES_CLICK_LOCATION_TALKBACK_ACTIVATED',\n",
       "        'code': 17,\n",
       "        'behaviorType': 'PROMOTED_SPARKLES_CLICK_BEHAVIOR_TYPE_OPEN_AD'},\n",
       "       {'location': 'PROMOTED_SPARKLES_CLICK_LOCATION_ACTION_LABEL_TALKBACK_ACTIVATED',\n",
       "        'code': 8,\n",
       "        'behaviorType': 'PROMOTED_SPARKLES_CLICK_BEHAVIOR_TYPE_OPEN_AD'},\n",
       "       {'location': 'PROMOTED_SPARKLES_CLICK_LOCATION_SITELINK',\n",
       "        'code': 6,\n",
       "        'behaviorType': 'PROMOTED_SPARKLES_CLICK_BEHAVIOR_TYPE_OPEN_AD'}],\n",
       "      'trackingParams': 'CL0BEKreAhgAIhMI0fan57ax6gIV1ACJCh31DwTz'}}],\n",
       "   'trackingParams': 'CLwBELsvGAEiEwjR9qfntrHqAhXUAIkKHfUPBPM='}},\n",
       " {'itemSectionRenderer': {'contents': [{'videoRenderer': {'videoId': 'unfzfe8f9NI',\n",
       "      'thumbnail': {'thumbnails': [{'url': 'https://i.ytimg.com/vi/unfzfe8f9NI/hq720.jpg?sqp=-oaymwEjCOgCEMoBSFryq4qpAxUIARUAAAAAGAElAADIQj0AgKJDeAE=&rs=AOn4CLDgqGIGdfFS-t42nkeXmHghX6HTFg',\n",
       "         'width': 360,\n",
       "         'height': 202},\n",
       "        {'url': 'https://i.ytimg.com/vi/unfzfe8f9NI/hq720.jpg?sqp=-oaymwEXCNAFEJQDSFryq4qpAwkIARUAAIhCGAE=&rs=AOn4CLC1aCnROFpzQ2fTI7jYWGb4cv_Y1Q',\n",
       "         'width': 720,\n",
       "         'height': 404}]},\n",
       "      'title': {'runs': [{'text': 'Abba - Mamma Mia (Official Video)'}],\n",
       "       'accessibility': {'accessibilityData': {'label': 'Abba - Mamma Mia (Official Video) av ABBA for 10 år siden 3 minutter og 31 sekunder Sett 199\\xa0991\\xa0861 ganger'}}},\n",
       "      'descriptionSnippet': {'runs': [{'text': 'Listen to '},\n",
       "        {'text': 'ABBA', 'bold': True},\n",
       "        {'text': ': https://play.lnk.to/'},\n",
       "        {'text': 'ABBA', 'bold': True},\n",
       "        {'text': ' Follow '},\n",
       "        {'text': 'ABBA', 'bold': True},\n",
       "        {'text': ' Facebook: https://www.facebook.com/'},\n",
       "        {'text': 'ABBA', 'bold': True},\n",
       "        {'text': '/ Instagram:\\xa0...'}]},\n",
       "      'longBylineText': {'runs': [{'text': 'ABBA',\n",
       "         'navigationEndpoint': {'clickTrackingParams': 'CLgBENwwGAAiEwjR9qfntrHqAhXUAIkKHfUPBPM=',\n",
       "          'commandMetadata': {'webCommandMetadata': {'url': '/channel/UCYPs4y5esNqx6ax1CxZws6Q',\n",
       "            'webPageType': 'WEB_PAGE_TYPE_BROWSE',\n",
       "            'rootVe': 3611}},\n",
       "          'browseEndpoint': {'browseId': 'UCYPs4y5esNqx6ax1CxZws6Q',\n",
       "           'canonicalBaseUrl': '/channel/UCYPs4y5esNqx6ax1CxZws6Q'}}}]},\n",
       "      'publishedTimeText': {'simpleText': 'for 10 år siden'},\n",
       "      'lengthText': {'accessibility': {'accessibilityData': {'label': '3 minutter og 31 sekunder'}},\n",
       "       'simpleText': '3:31'},\n",
       "      'viewCountText': {'simpleText': 'Sett 199\\xa0991\\xa0861 ganger'},\n",
       "      'navigationEndpoint': {'clickTrackingParams': 'CLgBENwwGAAiEwjR9qfntrHqAhXUAIkKHfUPBPMyBnNlYXJjaFIOQWJiYSBNYW1tYSBNaWGaAQMQ9CQ=',\n",
       "       'commandMetadata': {'webCommandMetadata': {'url': '/watch?v=unfzfe8f9NI',\n",
       "         'webPageType': 'WEB_PAGE_TYPE_WATCH',\n",
       "         'rootVe': 3832}},\n",
       "       'watchEndpoint': {'videoId': 'unfzfe8f9NI'}},\n",
       "      'ownerBadges': [{'metadataBadgeRenderer': {'icon': {'iconType': 'OFFICIAL_ARTIST_BADGE'},\n",
       "         'style': 'BADGE_STYLE_TYPE_VERIFIED_ARTIST',\n",
       "         'tooltip': 'Offisiell artistkanal',\n",
       "         'trackingParams': 'CLgBENwwGAAiEwjR9qfntrHqAhXUAIkKHfUPBPM='}}],\n",
       "      'ownerText': {'runs': [{'text': 'ABBA',\n",
       "         'navigationEndpoint': {'clickTrackingParams': 'CLgBENwwGAAiEwjR9qfntrHqAhXUAIkKHfUPBPM=',\n",
       "          'commandMetadata': {'webCommandMetadata': {'url': '/channel/UCYPs4y5esNqx6ax1CxZws6Q',\n",
       "            'webPageType': 'WEB_PAGE_TYPE_BROWSE',\n",
       "            'rootVe': 3611}},\n",
       "          'browseEndpoint': {'browseId': 'UCYPs4y5esNqx6ax1CxZws6Q',\n",
       "           'canonicalBaseUrl': '/channel/UCYPs4y5esNqx6ax1CxZws6Q'}}}]},\n",
       "      'shortBylineText': {'runs': [{'text': 'ABBA',\n",
       "         'navigationEndpoint': {'clickTrackingParams': 'CLgBENwwGAAiEwjR9qfntrHqAhXUAIkKHfUPBPM=',\n",
       "          'commandMetadata': {'webCommandMetadata': {'url': '/channel/UCYPs4y5esNqx6ax1CxZws6Q',\n",
       "            'webPageType': 'WEB_PAGE_TYPE_BROWSE',\n",
       "            'rootVe': 3611}},\n",
       "          'browseEndpoint': {'browseId': 'UCYPs4y5esNqx6ax1CxZws6Q',\n",
       "           'canonicalBaseUrl': '/channel/UCYPs4y5esNqx6ax1CxZws6Q'}}}]},\n",
       "      'trackingParams': 'CLgBENwwGAAiEwjR9qfntrHqAhXUAIkKHfUPBPNA0un_-N7v_Lu6AQ==',\n",
       "      'showActionMenu': False,\n",
       "      'shortViewCountText': {'simpleText': 'Sett 199\\xa0mill. ganger'},\n",
       "      'menu': {'menuRenderer': {'items': [{'menuServiceItemRenderer': {'text': {'runs': [{'text': 'Legg i køen'}]},\n",
       "           'icon': {'iconType': 'ADD_TO_QUEUE_TAIL'},\n",
       "           'serviceEndpoint': {'clickTrackingParams': 'CLsBEP6YBBgFIhMI0fan57ax6gIV1ACJCh31DwTz',\n",
       "            'commandMetadata': {'webCommandMetadata': {'url': '/service_ajax',\n",
       "              'sendPost': True}},\n",
       "            'signalServiceEndpoint': {'signal': 'CLIENT_SIGNAL',\n",
       "             'actions': [{'clickTrackingParams': 'CLsBEP6YBBgFIhMI0fan57ax6gIV1ACJCh31DwTz',\n",
       "               'commandMetadata': {'webCommandMetadata': {}},\n",
       "               'addToPlaylistCommand': {'openMiniplayer': True,\n",
       "                'videoId': 'unfzfe8f9NI',\n",
       "                'listType': 'PLAYLIST_EDIT_LIST_TYPE_QUEUE',\n",
       "                'onCreateListCommand': {'clickTrackingParams': 'CLsBEP6YBBgFIhMI0fan57ax6gIV1ACJCh31DwTz',\n",
       "                 'commandMetadata': {'webCommandMetadata': {'url': '/service_ajax',\n",
       "                   'sendPost': True,\n",
       "                   'apiUrl': '/youtubei/v1/playlist/create'}},\n",
       "                 'createPlaylistServiceEndpoint': {'videoIds': ['unfzfe8f9NI'],\n",
       "                  'params': 'CAQ%3D'}},\n",
       "                'videoIds': ['unfzfe8f9NI']}}]}},\n",
       "           'trackingParams': 'CLsBEP6YBBgFIhMI0fan57ax6gIV1ACJCh31DwTz'}}],\n",
       "        'trackingParams': 'CLgBENwwGAAiEwjR9qfntrHqAhXUAIkKHfUPBPM=',\n",
       "        'accessibility': {'accessibilityData': {'label': 'Handlingsmeny'}}}},\n",
       "      'channelThumbnailSupportedRenderers': {'channelThumbnailWithLinkRenderer': {'thumbnail': {'thumbnails': [{'url': 'https://yt3.ggpht.com/a-/AOh14Gi1LYke3duGSrrVAY_nCCuUlvcwohwX3Gdz4A=s68-c-k-c0x00ffffff-no-rj-mo',\n",
       "           'width': 68,\n",
       "           'height': 68}]},\n",
       "        'navigationEndpoint': {'clickTrackingParams': 'CLgBENwwGAAiEwjR9qfntrHqAhXUAIkKHfUPBPM=',\n",
       "         'commandMetadata': {'webCommandMetadata': {'url': '/channel/UCYPs4y5esNqx6ax1CxZws6Q',\n",
       "           'webPageType': 'WEB_PAGE_TYPE_BROWSE',\n",
       "           'rootVe': 3611}},\n",
       "         'browseEndpoint': {'browseId': 'UCYPs4y5esNqx6ax1CxZws6Q'}},\n",
       "        'accessibility': {'accessibilityData': {'label': 'Gå til kanalen'}}}},\n",
       "      'thumbnailOverlays': [{'thumbnailOverlayTimeStatusRenderer': {'text': {'accessibility': {'accessibilityData': {'label': '3 minutter og 31 sekunder'}},\n",
       "          'simpleText': '3:31'},\n",
       "         'style': 'DEFAULT'}},\n",
       "       {'thumbnailOverlayToggleButtonRenderer': {'isToggled': False,\n",
       "         'untoggledIcon': {'iconType': 'WATCH_LATER'},\n",
       "         'toggledIcon': {'iconType': 'CHECK'},\n",
       "         'untoggledTooltip': 'Se senere',\n",
       "         'toggledTooltip': 'Lagt til',\n",
       "         'untoggledServiceEndpoint': {'clickTrackingParams': 'CLoBEPnnAxgCIhMI0fan57ax6gIV1ACJCh31DwTz',\n",
       "          'commandMetadata': {'webCommandMetadata': {'url': '/service_ajax',\n",
       "            'sendPost': True,\n",
       "            'apiUrl': '/youtubei/v1/browse/edit_playlist'}},\n",
       "          'playlistEditEndpoint': {'playlistId': 'WL',\n",
       "           'actions': [{'addedVideoId': 'unfzfe8f9NI',\n",
       "             'action': 'ACTION_ADD_VIDEO'}]}},\n",
       "         'toggledServiceEndpoint': {'clickTrackingParams': 'CLoBEPnnAxgCIhMI0fan57ax6gIV1ACJCh31DwTz',\n",
       "          'commandMetadata': {'webCommandMetadata': {'url': '/service_ajax',\n",
       "            'sendPost': True,\n",
       "            'apiUrl': '/youtubei/v1/browse/edit_playlist'}},\n",
       "          'playlistEditEndpoint': {'playlistId': 'WL',\n",
       "           'actions': [{'action': 'ACTION_REMOVE_VIDEO_BY_VIDEO_ID',\n",
       "             'removedVideoId': 'unfzfe8f9NI'}]}},\n",
       "         'untoggledAccessibility': {'accessibilityData': {'label': 'Se senere'}},\n",
       "         'toggledAccessibility': {'accessibilityData': {'label': 'Lagt til'}},\n",
       "         'trackingParams': 'CLoBEPnnAxgCIhMI0fan57ax6gIV1ACJCh31DwTz'}},\n",
       "       {'thumbnailOverlayToggleButtonRenderer': {'untoggledIcon': {'iconType': 'ADD_TO_QUEUE_TAIL'},\n",
       "         'toggledIcon': {'iconType': 'PLAYLIST_ADD_CHECK'},\n",
       "         'untoggledTooltip': 'Legg i køen',\n",
       "         'toggledTooltip': 'Lagt til',\n",
       "         'untoggledServiceEndpoint': {'clickTrackingParams': 'CLkBEMfsBBgDIhMI0fan57ax6gIV1ACJCh31DwTz',\n",
       "          'commandMetadata': {'webCommandMetadata': {'url': '/service_ajax',\n",
       "            'sendPost': True}},\n",
       "          'signalServiceEndpoint': {'signal': 'CLIENT_SIGNAL',\n",
       "           'actions': [{'clickTrackingParams': 'CLkBEMfsBBgDIhMI0fan57ax6gIV1ACJCh31DwTz',\n",
       "             'commandMetadata': {'webCommandMetadata': {}},\n",
       "             'addToPlaylistCommand': {'openMiniplayer': True,\n",
       "              'videoId': 'unfzfe8f9NI',\n",
       "              'listType': 'PLAYLIST_EDIT_LIST_TYPE_QUEUE',\n",
       "              'onCreateListCommand': {'clickTrackingParams': 'CLkBEMfsBBgDIhMI0fan57ax6gIV1ACJCh31DwTz',\n",
       "               'commandMetadata': {'webCommandMetadata': {'url': '/service_ajax',\n",
       "                 'sendPost': True,\n",
       "                 'apiUrl': '/youtubei/v1/playlist/create'}},\n",
       "               'createPlaylistServiceEndpoint': {'videoIds': ['unfzfe8f9NI'],\n",
       "                'params': 'CAQ%3D'}},\n",
       "              'videoIds': ['unfzfe8f9NI']}}]}},\n",
       "         'untoggledAccessibility': {'accessibilityData': {'label': 'Legg i køen'}},\n",
       "         'toggledAccessibility': {'accessibilityData': {'label': 'Lagt til'}},\n",
       "         'trackingParams': 'CLkBEMfsBBgDIhMI0fan57ax6gIV1ACJCh31DwTz'}},\n",
       "       {'thumbnailOverlayNowPlayingRenderer': {'text': {'runs': [{'text': 'Spilles av nå'}]}}}]}},\n",
       "    {'videoRenderer': {'videoId': 'u_2MJHcn5AY',\n",
       "      'thumbnail': {'thumbnails': [{'url': 'https://i.ytimg.com/vi/u_2MJHcn5AY/hq720.jpg?sqp=-oaymwEjCOgCEMoBSFryq4qpAxUIARUAAAAAGAElAADIQj0AgKJDeAE=&rs=AOn4CLAuxPITr5CLfz8aIJTJST-p2-E4Lg',\n",
       "         'width': 360,\n",
       "         'height': 202},\n",
       "        {'url': 'https://i.ytimg.com/vi/u_2MJHcn5AY/hq720.jpg?sqp=-oaymwEXCNAFEJQDSFryq4qpAwkIARUAAIhCGAE=&rs=AOn4CLCcaV446IuMAbk1nxsAVWZ8iBjGeg',\n",
       "         'width': 720,\n",
       "         'height': 404}]},\n",
       "      'title': {'runs': [{'text': 'Mamma Mia Soundtrack ♡♡ Mamma Mia Soundtrack Playlist ♡♡ Mamma Mia Album Soundtrack Playlist 2020'}],\n",
       "       'accessibility': {'accessibilityData': {'label': 'Mamma Mia Soundtrack ♡♡ Mamma Mia Soundtrack Playlist ♡♡ Mamma Mia Album Soundtrack Playlist 2020 av Best Orchestra for 4 måneder siden 1 time og 27 minutter Sett 2\\xa0346\\xa0038 ganger'}}},\n",
       "      'descriptionSnippet': {'runs': [{'text': 'Mamma Mia', 'bold': True},\n",
       "        {'text': ' Soundtrack ♡♡ '},\n",
       "        {'text': 'Mamma Mia', 'bold': True},\n",
       "        {'text': ' Soundtrack Playlist ♡♡ '},\n",
       "        {'text': 'Mamma Mia', 'bold': True},\n",
       "        {'text': ' Album Soundtrack Playlist 2020 '},\n",
       "        {'text': 'Mamma Mia', 'bold': True},\n",
       "        {'text': '\\xa0...'}]},\n",
       "      'longBylineText': {'runs': [{'text': 'Best Orchestra',\n",
       "         'navigationEndpoint': {'clickTrackingParams': 'CLQBENwwGAEiEwjR9qfntrHqAhXUAIkKHfUPBPM=',\n",
       "          'commandMetadata': {'webCommandMetadata': {'url': '/channel/UCc-6VXbl_jBCCF4GcJkOe9w',\n",
       "            'webPageType': 'WEB_PAGE_TYPE_BROWSE',\n",
       "            'rootVe': 3611}},\n",
       "          'browseEndpoint': {'browseId': 'UCc-6VXbl_jBCCF4GcJkOe9w'}}}]},\n",
       "      'publishedTimeText': {'simpleText': 'for 4 måneder siden'},\n",
       "      'lengthText': {'accessibility': {'accessibilityData': {'label': '1 time, 27 minutter og 15 sekunder'}},\n",
       "       'simpleText': '1:27:15'},\n",
       "      'viewCountText': {'simpleText': 'Sett 2\\xa0346\\xa0038 ganger'},\n",
       "      'navigationEndpoint': {'clickTrackingParams': 'CLQBENwwGAEiEwjR9qfntrHqAhXUAIkKHfUPBPMyBnNlYXJjaFIOQWJiYSBNYW1tYSBNaWGaAQMQ9CQ=',\n",
       "       'commandMetadata': {'webCommandMetadata': {'url': '/watch?v=u_2MJHcn5AY',\n",
       "         'webPageType': 'WEB_PAGE_TYPE_WATCH',\n",
       "         'rootVe': 3832}},\n",
       "       'watchEndpoint': {'videoId': 'u_2MJHcn5AY'}},\n",
       "      'ownerText': {'runs': [{'text': 'Best Orchestra',\n",
       "         'navigationEndpoint': {'clickTrackingParams': 'CLQBENwwGAEiEwjR9qfntrHqAhXUAIkKHfUPBPM=',\n",
       "          'commandMetadata': {'webCommandMetadata': {'url': '/channel/UCc-6VXbl_jBCCF4GcJkOe9w',\n",
       "            'webPageType': 'WEB_PAGE_TYPE_BROWSE',\n",
       "            'rootVe': 3611}},\n",
       "          'browseEndpoint': {'browseId': 'UCc-6VXbl_jBCCF4GcJkOe9w'}}}]},\n",
       "      'shortBylineText': {'runs': [{'text': 'Best Orchestra',\n",
       "         'navigationEndpoint': {'clickTrackingParams': 'CLQBENwwGAEiEwjR9qfntrHqAhXUAIkKHfUPBPM=',\n",
       "          'commandMetadata': {'webCommandMetadata': {'url': '/channel/UCc-6VXbl_jBCCF4GcJkOe9w',\n",
       "            'webPageType': 'WEB_PAGE_TYPE_BROWSE',\n",
       "            'rootVe': 3611}},\n",
       "          'browseEndpoint': {'browseId': 'UCc-6VXbl_jBCCF4GcJkOe9w'}}}]},\n",
       "      'trackingParams': 'CLQBENwwGAEiEwjR9qfntrHqAhXUAIkKHfUPBPNAhsifuceE4_67AQ==',\n",
       "      'showActionMenu': False,\n",
       "      'shortViewCountText': {'simpleText': 'Sett 2,3\\xa0mill. ganger'},\n",
       "      'menu': {'menuRenderer': {'items': [{'menuServiceItemRenderer': {'text': {'runs': [{'text': 'Legg i køen'}]},\n",
       "           'icon': {'iconType': 'ADD_TO_QUEUE_TAIL'},\n",
       "           'serviceEndpoint': {'clickTrackingParams': 'CLcBEP6YBBgEIhMI0fan57ax6gIV1ACJCh31DwTz',\n",
       "            'commandMetadata': {'webCommandMetadata': {'url': '/service_ajax',\n",
       "              'sendPost': True}},\n",
       "            'signalServiceEndpoint': {'signal': 'CLIENT_SIGNAL',\n",
       "             'actions': [{'clickTrackingParams': 'CLcBEP6YBBgEIhMI0fan57ax6gIV1ACJCh31DwTz',\n",
       "               'commandMetadata': {'webCommandMetadata': {}},\n",
       "               'addToPlaylistCommand': {'openMiniplayer': True,\n",
       "                'videoId': 'u_2MJHcn5AY',\n",
       "                'listType': 'PLAYLIST_EDIT_LIST_TYPE_QUEUE',\n",
       "                'onCreateListCommand': {'clickTrackingParams': 'CLcBEP6YBBgEIhMI0fan57ax6gIV1ACJCh31DwTz',\n",
       "                 'commandMetadata': {'webCommandMetadata': {'url': '/service_ajax',\n",
       "                   'sendPost': True,\n",
       "                   'apiUrl': '/youtubei/v1/playlist/create'}},\n",
       "                 'createPlaylistServiceEndpoint': {'videoIds': ['u_2MJHcn5AY'],\n",
       "                  'params': 'CAQ%3D'}},\n",
       "                'videoIds': ['u_2MJHcn5AY']}}]}},\n",
       "           'trackingParams': 'CLcBEP6YBBgEIhMI0fan57ax6gIV1ACJCh31DwTz'}}],\n",
       "        'trackingParams': 'CLQBENwwGAEiEwjR9qfntrHqAhXUAIkKHfUPBPM=',\n",
       "        'accessibility': {'accessibilityData': {'label': 'Handlingsmeny'}}}},\n",
       "      'channelThumbnailSupportedRenderers': {'channelThumbnailWithLinkRenderer': {'thumbnail': {'thumbnails': [{'url': 'https://yt3.ggpht.com/a-/AOh14GhCY5fhAaWIrHgXq2fhi12ScM5yae6eKU_rGw=s68-c-k-c0x00ffffff-no-rj-mo',\n",
       "           'width': 68,\n",
       "           'height': 68}]},\n",
       "        'navigationEndpoint': {'clickTrackingParams': 'CLQBENwwGAEiEwjR9qfntrHqAhXUAIkKHfUPBPM=',\n",
       "         'commandMetadata': {'webCommandMetadata': {'url': '/channel/UCc-6VXbl_jBCCF4GcJkOe9w',\n",
       "           'webPageType': 'WEB_PAGE_TYPE_BROWSE',\n",
       "           'rootVe': 3611}},\n",
       "         'browseEndpoint': {'browseId': 'UCc-6VXbl_jBCCF4GcJkOe9w'}},\n",
       "        'accessibility': {'accessibilityData': {'label': 'Gå til kanalen'}}}},\n",
       "      'thumbnailOverlays': [{'thumbnailOverlayTimeStatusRenderer': {'text': {'accessibility': {'accessibilityData': {'label': '1 time, 27 minutter og 15 sekunder'}},\n",
       "          'simpleText': '1:27:15'},\n",
       "         'style': 'DEFAULT'}},\n",
       "       {'thumbnailOverlayToggleButtonRenderer': {'isToggled': False,\n",
       "         'untoggledIcon': {'iconType': 'WATCH_LATER'},\n",
       "         'toggledIcon': {'iconType': 'CHECK'},\n",
       "         'untoggledTooltip': 'Se senere',\n",
       "         'toggledTooltip': 'Lagt til',\n",
       "         'untoggledServiceEndpoint': {'clickTrackingParams': 'CLYBEPnnAxgBIhMI0fan57ax6gIV1ACJCh31DwTz',\n",
       "          'commandMetadata': {'webCommandMetadata': {'url': '/service_ajax',\n",
       "            'sendPost': True,\n",
       "            'apiUrl': '/youtubei/v1/browse/edit_playlist'}},\n",
       "          'playlistEditEndpoint': {'playlistId': 'WL',\n",
       "           'actions': [{'addedVideoId': 'u_2MJHcn5AY',\n",
       "             'action': 'ACTION_ADD_VIDEO'}]}},\n",
       "         'toggledServiceEndpoint': {'clickTrackingParams': 'CLYBEPnnAxgBIhMI0fan57ax6gIV1ACJCh31DwTz',\n",
       "          'commandMetadata': {'webCommandMetadata': {'url': '/service_ajax',\n",
       "            'sendPost': True,\n",
       "            'apiUrl': '/youtubei/v1/browse/edit_playlist'}},\n",
       "          'playlistEditEndpoint': {'playlistId': 'WL',\n",
       "           'actions': [{'action': 'ACTION_REMOVE_VIDEO_BY_VIDEO_ID',\n",
       "             'removedVideoId': 'u_2MJHcn5AY'}]}},\n",
       "         'untoggledAccessibility': {'accessibilityData': {'label': 'Se senere'}},\n",
       "         'toggledAccessibility': {'accessibilityData': {'label': 'Lagt til'}},\n",
       "         'trackingParams': 'CLYBEPnnAxgBIhMI0fan57ax6gIV1ACJCh31DwTz'}},\n",
       "       {'thumbnailOverlayToggleButtonRenderer': {'untoggledIcon': {'iconType': 'ADD_TO_QUEUE_TAIL'},\n",
       "         'toggledIcon': {'iconType': 'PLAYLIST_ADD_CHECK'},\n",
       "         'untoggledTooltip': 'Legg i køen',\n",
       "         'toggledTooltip': 'Lagt til',\n",
       "         'untoggledServiceEndpoint': {'clickTrackingParams': 'CLUBEMfsBBgCIhMI0fan57ax6gIV1ACJCh31DwTz',\n",
       "          'commandMetadata': {'webCommandMetadata': {'url': '/service_ajax',\n",
       "            'sendPost': True}},\n",
       "          'signalServiceEndpoint': {'signal': 'CLIENT_SIGNAL',\n",
       "           'actions': [{'clickTrackingParams': 'CLUBEMfsBBgCIhMI0fan57ax6gIV1ACJCh31DwTz',\n",
       "             'commandMetadata': {'webCommandMetadata': {}},\n",
       "             'addToPlaylistCommand': {'openMiniplayer': True,\n",
       "              'videoId': 'u_2MJHcn5AY',\n",
       "              'listType': 'PLAYLIST_EDIT_LIST_TYPE_QUEUE',\n",
       "              'onCreateListCommand': {'clickTrackingParams': 'CLUBEMfsBBgCIhMI0fan57ax6gIV1ACJCh31DwTz',\n",
       "               'commandMetadata': {'webCommandMetadata': {'url': '/service_ajax',\n",
       "                 'sendPost': True,\n",
       "                 'apiUrl': '/youtubei/v1/playlist/create'}},\n",
       "               'createPlaylistServiceEndpoint': {'videoIds': ['u_2MJHcn5AY'],\n",
       "                'params': 'CAQ%3D'}},\n",
       "              'videoIds': ['u_2MJHcn5AY']}}]}},\n",
       "         'untoggledAccessibility': {'accessibilityData': {'label': 'Legg i køen'}},\n",
       "         'toggledAccessibility': {'accessibilityData': {'label': 'Lagt til'}},\n",
       "         'trackingParams': 'CLUBEMfsBBgCIhMI0fan57ax6gIV1ACJCh31DwTz'}},\n",
       "       {'thumbnailOverlayNowPlayingRenderer': {'text': {'runs': [{'text': 'Spilles av nå'}]}}}]}},\n",
       "    {'playlistRenderer': {'playlistId': 'PL713HBU_i690Egd790P3wlLPiq9w5sAcy',\n",
       "      'title': {'simpleText': 'Mamma Mia.  All songs'},\n",
       "      'thumbnails': [{'thumbnails': [{'url': 'https://i.ytimg.com/vi/R0LI-w9NLSM/hqdefault.jpg?sqp=-oaymwEWCKgBEF5IWvKriqkDCQgBFQAAiEIYAQ==&rs=AOn4CLBv1ZXms20Wh1E23PbjgzYFeWVF5g',\n",
       "          'width': 168,\n",
       "          'height': 94},\n",
       "         {'url': 'https://i.ytimg.com/vi/R0LI-w9NLSM/hqdefault.jpg?sqp=-oaymwEWCMQBEG5IWvKriqkDCQgBFQAAiEIYAQ==&rs=AOn4CLCTg0zaj0VBXPIYjv1Fz4SSMypJmw',\n",
       "          'width': 196,\n",
       "          'height': 110},\n",
       "         {'url': 'https://i.ytimg.com/vi/R0LI-w9NLSM/hqdefault.jpg?sqp=-oaymwEXCPYBEIoBSFryq4qpAwkIARUAAIhCGAE=&rs=AOn4CLC3P1uJ6MPdnZd277WRoVcgXChwZg',\n",
       "          'width': 246,\n",
       "          'height': 138},\n",
       "         {'url': 'https://i.ytimg.com/vi/R0LI-w9NLSM/hqdefault.jpg?sqp=-oaymwEXCNACELwBSFryq4qpAwkIARUAAIhCGAE=&rs=AOn4CLC97gmwEBUQ3R766ree__590oWpsQ',\n",
       "          'width': 336,\n",
       "          'height': 188}]},\n",
       "       {'thumbnails': [{'url': 'https://i.ytimg.com/vi/ztD_9cp10EM/default.jpg',\n",
       "          'width': 43,\n",
       "          'height': 20}]},\n",
       "       {'thumbnails': [{'url': 'https://i.ytimg.com/vi/pLjPUSyUzvQ/default.jpg',\n",
       "          'width': 43,\n",
       "          'height': 20}]},\n",
       "       {'thumbnails': [{'url': 'https://i.ytimg.com/vi/Do8oqR2TR1M/default.jpg',\n",
       "          'width': 43,\n",
       "          'height': 20}]},\n",
       "       {'thumbnails': [{'url': 'https://i.ytimg.com/vi/whi2E5Kt2k8/default.jpg',\n",
       "          'width': 43,\n",
       "          'height': 20}]}],\n",
       "      'videoCount': '21',\n",
       "      'navigationEndpoint': {'clickTrackingParams': 'CLMBENswGAIiEwjR9qfntrHqAhXUAIkKHfUPBPMyBnNlYXJjaA==',\n",
       "       'commandMetadata': {'webCommandMetadata': {'url': '/watch?v=R0LI-w9NLSM&list=PL713HBU_i690Egd790P3wlLPiq9w5sAcy',\n",
       "         'webPageType': 'WEB_PAGE_TYPE_WATCH',\n",
       "         'rootVe': 3832}},\n",
       "       'watchEndpoint': {'videoId': 'R0LI-w9NLSM',\n",
       "        'playlistId': 'PL713HBU_i690Egd790P3wlLPiq9w5sAcy',\n",
       "        'params': 'OAI%3D'}},\n",
       "      'viewPlaylistText': {'runs': [{'text': 'Se hele spillelisten',\n",
       "         'navigationEndpoint': {'clickTrackingParams': 'CLMBENswGAIiEwjR9qfntrHqAhXUAIkKHfUPBPMyBnNlYXJjaA==',\n",
       "          'commandMetadata': {'webCommandMetadata': {'url': '/playlist?list=PL713HBU_i690Egd790P3wlLPiq9w5sAcy',\n",
       "            'webPageType': 'WEB_PAGE_TYPE_BROWSE',\n",
       "            'rootVe': 5754}},\n",
       "          'browseEndpoint': {'browseId': 'VLPL713HBU_i690Egd790P3wlLPiq9w5sAcy'}}}]},\n",
       "      'shortBylineText': {'runs': [{'text': 'Amanda Seyfried Fan',\n",
       "         'navigationEndpoint': {'clickTrackingParams': 'CLMBENswGAIiEwjR9qfntrHqAhXUAIkKHfUPBPMyBnNlYXJjaA==',\n",
       "          'commandMetadata': {'webCommandMetadata': {'url': '/channel/UCyRVLj9WnuiNGTo5wbk_nAg',\n",
       "            'webPageType': 'WEB_PAGE_TYPE_BROWSE',\n",
       "            'rootVe': 3611}},\n",
       "          'browseEndpoint': {'browseId': 'UCyRVLj9WnuiNGTo5wbk_nAg'}}}]},\n",
       "      'videos': [{'childVideoRenderer': {'title': {'simpleText': 'Mamma Mia! - Honey, Honey - Amanda Seyfried, Ashley Lilley & Rachel McDowall'},\n",
       "         'navigationEndpoint': {'clickTrackingParams': 'CLMBENswGAIiEwjR9qfntrHqAhXUAIkKHfUPBPMyBnNlYXJjaA==',\n",
       "          'commandMetadata': {'webCommandMetadata': {'url': '/watch?v=R0LI-w9NLSM&list=PL713HBU_i690Egd790P3wlLPiq9w5sAcy',\n",
       "            'webPageType': 'WEB_PAGE_TYPE_WATCH',\n",
       "            'rootVe': 3832}},\n",
       "          'watchEndpoint': {'videoId': 'R0LI-w9NLSM',\n",
       "           'playlistId': 'PL713HBU_i690Egd790P3wlLPiq9w5sAcy'}},\n",
       "         'lengthText': {'accessibility': {'accessibilityData': {'label': '3 minutter og 8 sekunder'}},\n",
       "          'simpleText': '3:08'},\n",
       "         'videoId': 'R0LI-w9NLSM'}},\n",
       "       {'childVideoRenderer': {'title': {'simpleText': 'Mamma Mia Movie - Money, Money, Money (Full Song)'},\n",
       "         'navigationEndpoint': {'clickTrackingParams': 'CLMBENswGAIiEwjR9qfntrHqAhXUAIkKHfUPBPMyBnNlYXJjaA==',\n",
       "          'commandMetadata': {'webCommandMetadata': {'url': '/watch?v=ztD_9cp10EM&list=PL713HBU_i690Egd790P3wlLPiq9w5sAcy',\n",
       "            'webPageType': 'WEB_PAGE_TYPE_WATCH',\n",
       "            'rootVe': 3832}},\n",
       "          'watchEndpoint': {'videoId': 'ztD_9cp10EM',\n",
       "           'playlistId': 'PL713HBU_i690Egd790P3wlLPiq9w5sAcy'}},\n",
       "         'lengthText': {'accessibility': {'accessibilityData': {'label': '3 minutter og 7 sekunder'}},\n",
       "          'simpleText': '3:07'},\n",
       "         'videoId': 'ztD_9cp10EM'}}],\n",
       "      'videoCountText': {'runs': [{'text': '21'}, {'text': ' videoer'}]},\n",
       "      'trackingParams': 'CLMBENswGAIiEwjR9qfntrHqAhXUAIkKHfUPBPM=',\n",
       "      'thumbnailText': {'runs': [{'text': '21', 'bold': True},\n",
       "        {'text': ' videoer'}]},\n",
       "      'longBylineText': {'runs': [{'text': 'Amanda Seyfried Fan',\n",
       "         'navigationEndpoint': {'clickTrackingParams': 'CLMBENswGAIiEwjR9qfntrHqAhXUAIkKHfUPBPMyBnNlYXJjaA==',\n",
       "          'commandMetadata': {'webCommandMetadata': {'url': '/channel/UCyRVLj9WnuiNGTo5wbk_nAg',\n",
       "            'webPageType': 'WEB_PAGE_TYPE_BROWSE',\n",
       "            'rootVe': 3611}},\n",
       "          'browseEndpoint': {'browseId': 'UCyRVLj9WnuiNGTo5wbk_nAg'}}}]},\n",
       "      'thumbnailRenderer': {'playlistVideoThumbnailRenderer': {'thumbnail': {'thumbnails': [{'url': 'https://i.ytimg.com/vi/R0LI-w9NLSM/hqdefault.jpg?sqp=-oaymwEWCKgBEF5IWvKriqkDCQgBFQAAiEIYAQ==&rs=AOn4CLBv1ZXms20Wh1E23PbjgzYFeWVF5g',\n",
       "           'width': 168,\n",
       "           'height': 94},\n",
       "          {'url': 'https://i.ytimg.com/vi/R0LI-w9NLSM/hqdefault.jpg?sqp=-oaymwEWCMQBEG5IWvKriqkDCQgBFQAAiEIYAQ==&rs=AOn4CLCTg0zaj0VBXPIYjv1Fz4SSMypJmw',\n",
       "           'width': 196,\n",
       "           'height': 110},\n",
       "          {'url': 'https://i.ytimg.com/vi/R0LI-w9NLSM/hqdefault.jpg?sqp=-oaymwEXCPYBEIoBSFryq4qpAwkIARUAAIhCGAE=&rs=AOn4CLC3P1uJ6MPdnZd277WRoVcgXChwZg',\n",
       "           'width': 246,\n",
       "           'height': 138},\n",
       "          {'url': 'https://i.ytimg.com/vi/R0LI-w9NLSM/hqdefault.jpg?sqp=-oaymwEXCNACELwBSFryq4qpAwkIARUAAIhCGAE=&rs=AOn4CLC97gmwEBUQ3R766ree__590oWpsQ',\n",
       "           'width': 336,\n",
       "           'height': 188}]}}},\n",
       "      'thumbnailOverlays': [{'thumbnailOverlaySidePanelRenderer': {'text': {'simpleText': '21'},\n",
       "         'icon': {'iconType': 'PLAYLISTS'}}},\n",
       "       {'thumbnailOverlayHoverTextRenderer': {'text': {'runs': [{'text': 'Spill av alle'}]},\n",
       "         'icon': {'iconType': 'PLAY_ALL'}}},\n",
       "       {'thumbnailOverlayNowPlayingRenderer': {'text': {'runs': [{'text': 'Spilles av nå'}]}}}]}},\n",
       "    {'videoRenderer': {'videoId': '6OwPHD61Y3s',\n",
       "      'thumbnail': {'thumbnails': [{'url': 'https://i.ytimg.com/vi/6OwPHD61Y3s/hq720.jpg?sqp=-oaymwEjCOgCEMoBSFryq4qpAxUIARUAAAAAGAElAADIQj0AgKJDeAE=&rs=AOn4CLAudrafFYMrWPgOGpCCerS9PuHJcg',\n",
       "         'width': 360,\n",
       "         'height': 202},\n",
       "        {'url': 'https://i.ytimg.com/vi/6OwPHD61Y3s/hq720.jpg?sqp=-oaymwEXCNAFEJQDSFryq4qpAwkIARUAAIhCGAE=&rs=AOn4CLAS5UxbI_RrRjMtJ8lor1MJuiuYyw',\n",
       "         'width': 720,\n",
       "         'height': 404}]},\n",
       "      'title': {'runs': [{'text': 'Mamma Mia - ABBA (with lyrics)'}],\n",
       "       'accessibility': {'accessibilityData': {'label': 'Mamma Mia - ABBA (with lyrics) av rainbow4121 for 7 år siden 3 minutter og 36 sekunder Sett 8\\xa0246\\xa0265 ganger'}}},\n",
       "      'descriptionSnippet': {'runs': [{'text': 'Mamma Mia', 'bold': True},\n",
       "        {'text': ' by '},\n",
       "        {'text': 'ABBA', 'bold': True},\n",
       "        {'text': ' with lyrics on screen.'}]},\n",
       "      'longBylineText': {'runs': [{'text': 'rainbow4121',\n",
       "         'navigationEndpoint': {'clickTrackingParams': 'CK8BENwwGAMiEwjR9qfntrHqAhXUAIkKHfUPBPM=',\n",
       "          'commandMetadata': {'webCommandMetadata': {'url': '/user/rainbow4121',\n",
       "            'webPageType': 'WEB_PAGE_TYPE_BROWSE',\n",
       "            'rootVe': 3611}},\n",
       "          'browseEndpoint': {'browseId': 'UCRURi9Yw-RjhOaYW7E7cTJA',\n",
       "           'canonicalBaseUrl': '/user/rainbow4121'}}}]},\n",
       "      'publishedTimeText': {'simpleText': 'for 7 år siden'},\n",
       "      'lengthText': {'accessibility': {'accessibilityData': {'label': '3 minutter og 36 sekunder'}},\n",
       "       'simpleText': '3:36'},\n",
       "      'viewCountText': {'simpleText': 'Sett 8\\xa0246\\xa0265 ganger'},\n",
       "      'navigationEndpoint': {'clickTrackingParams': 'CK8BENwwGAMiEwjR9qfntrHqAhXUAIkKHfUPBPMyBnNlYXJjaFIOQWJiYSBNYW1tYSBNaWGaAQMQ9CQ=',\n",
       "       'commandMetadata': {'webCommandMetadata': {'url': '/watch?v=6OwPHD61Y3s',\n",
       "         'webPageType': 'WEB_PAGE_TYPE_WATCH',\n",
       "         'rootVe': 3832}},\n",
       "       'watchEndpoint': {'videoId': '6OwPHD61Y3s'}},\n",
       "      'ownerText': {'runs': [{'text': 'rainbow4121',\n",
       "         'navigationEndpoint': {'clickTrackingParams': 'CK8BENwwGAMiEwjR9qfntrHqAhXUAIkKHfUPBPM=',\n",
       "          'commandMetadata': {'webCommandMetadata': {'url': '/user/rainbow4121',\n",
       "            'webPageType': 'WEB_PAGE_TYPE_BROWSE',\n",
       "            'rootVe': 3611}},\n",
       "          'browseEndpoint': {'browseId': 'UCRURi9Yw-RjhOaYW7E7cTJA',\n",
       "           'canonicalBaseUrl': '/user/rainbow4121'}}}]},\n",
       "      'shortBylineText': {'runs': [{'text': 'rainbow4121',\n",
       "         'navigationEndpoint': {'clickTrackingParams': 'CK8BENwwGAMiEwjR9qfntrHqAhXUAIkKHfUPBPM=',\n",
       "          'commandMetadata': {'webCommandMetadata': {'url': '/user/rainbow4121',\n",
       "            'webPageType': 'WEB_PAGE_TYPE_BROWSE',\n",
       "            'rootVe': 3611}},\n",
       "          'browseEndpoint': {'browseId': 'UCRURi9Yw-RjhOaYW7E7cTJA',\n",
       "           'canonicalBaseUrl': '/user/rainbow4121'}}}]},\n",
       "      'trackingParams': 'CK8BENwwGAMiEwjR9qfntrHqAhXUAIkKHfUPBPNA-8bV9cPjg_boAQ==',\n",
       "      'showActionMenu': False,\n",
       "      'shortViewCountText': {'simpleText': 'Sett 8,2\\xa0mill. ganger'},\n",
       "      'menu': {'menuRenderer': {'items': [{'menuServiceItemRenderer': {'text': {'runs': [{'text': 'Legg i køen'}]},\n",
       "           'icon': {'iconType': 'ADD_TO_QUEUE_TAIL'},\n",
       "           'serviceEndpoint': {'clickTrackingParams': 'CLIBEP6YBBgEIhMI0fan57ax6gIV1ACJCh31DwTz',\n",
       "            'commandMetadata': {'webCommandMetadata': {'url': '/service_ajax',\n",
       "              'sendPost': True}},\n",
       "            'signalServiceEndpoint': {'signal': 'CLIENT_SIGNAL',\n",
       "             'actions': [{'clickTrackingParams': 'CLIBEP6YBBgEIhMI0fan57ax6gIV1ACJCh31DwTz',\n",
       "               'commandMetadata': {'webCommandMetadata': {}},\n",
       "               'addToPlaylistCommand': {'openMiniplayer': True,\n",
       "                'videoId': '6OwPHD61Y3s',\n",
       "                'listType': 'PLAYLIST_EDIT_LIST_TYPE_QUEUE',\n",
       "                'onCreateListCommand': {'clickTrackingParams': 'CLIBEP6YBBgEIhMI0fan57ax6gIV1ACJCh31DwTz',\n",
       "                 'commandMetadata': {'webCommandMetadata': {'url': '/service_ajax',\n",
       "                   'sendPost': True,\n",
       "                   'apiUrl': '/youtubei/v1/playlist/create'}},\n",
       "                 'createPlaylistServiceEndpoint': {'videoIds': ['6OwPHD61Y3s'],\n",
       "                  'params': 'CAQ%3D'}},\n",
       "                'videoIds': ['6OwPHD61Y3s']}}]}},\n",
       "           'trackingParams': 'CLIBEP6YBBgEIhMI0fan57ax6gIV1ACJCh31DwTz'}}],\n",
       "        'trackingParams': 'CK8BENwwGAMiEwjR9qfntrHqAhXUAIkKHfUPBPM=',\n",
       "        'accessibility': {'accessibilityData': {'label': 'Handlingsmeny'}}}},\n",
       "      'channelThumbnailSupportedRenderers': {'channelThumbnailWithLinkRenderer': {'thumbnail': {'thumbnails': [{'url': 'https://yt3.ggpht.com/a-/AOh14Ggt9fdbGy4v-OuX2mY2iebX6ZmEdPx88GmNQQ=s68-c-k-c0x00ffffff-no-rj-mo',\n",
       "           'width': 68,\n",
       "           'height': 68}]},\n",
       "        'navigationEndpoint': {'clickTrackingParams': 'CK8BENwwGAMiEwjR9qfntrHqAhXUAIkKHfUPBPM=',\n",
       "         'commandMetadata': {'webCommandMetadata': {'url': '/user/rainbow4121',\n",
       "           'webPageType': 'WEB_PAGE_TYPE_BROWSE',\n",
       "           'rootVe': 3611}},\n",
       "         'browseEndpoint': {'browseId': 'UCRURi9Yw-RjhOaYW7E7cTJA',\n",
       "          'canonicalBaseUrl': '/user/rainbow4121'}},\n",
       "        'accessibility': {'accessibilityData': {'label': 'Gå til kanalen'}}}},\n",
       "      'thumbnailOverlays': [{'thumbnailOverlayTimeStatusRenderer': {'text': {'accessibility': {'accessibilityData': {'label': '3 minutter og 36 sekunder'}},\n",
       "          'simpleText': '3:36'},\n",
       "         'style': 'DEFAULT'}},\n",
       "       {'thumbnailOverlayToggleButtonRenderer': {'isToggled': False,\n",
       "         'untoggledIcon': {'iconType': 'WATCH_LATER'},\n",
       "         'toggledIcon': {'iconType': 'CHECK'},\n",
       "         'untoggledTooltip': 'Se senere',\n",
       "         'toggledTooltip': 'Lagt til',\n",
       "         'untoggledServiceEndpoint': {'clickTrackingParams': 'CLEBEPnnAxgBIhMI0fan57ax6gIV1ACJCh31DwTz',\n",
       "          'commandMetadata': {'webCommandMetadata': {'url': '/service_ajax',\n",
       "            'sendPost': True,\n",
       "            'apiUrl': '/youtubei/v1/browse/edit_playlist'}},\n",
       "          'playlistEditEndpoint': {'playlistId': 'WL',\n",
       "           'actions': [{'addedVideoId': '6OwPHD61Y3s',\n",
       "             'action': 'ACTION_ADD_VIDEO'}]}},\n",
       "         'toggledServiceEndpoint': {'clickTrackingParams': 'CLEBEPnnAxgBIhMI0fan57ax6gIV1ACJCh31DwTz',\n",
       "          'commandMetadata': {'webCommandMetadata': {'url': '/service_ajax',\n",
       "            'sendPost': True,\n",
       "            'apiUrl': '/youtubei/v1/browse/edit_playlist'}},\n",
       "          'playlistEditEndpoint': {'playlistId': 'WL',\n",
       "           'actions': [{'action': 'ACTION_REMOVE_VIDEO_BY_VIDEO_ID',\n",
       "             'removedVideoId': '6OwPHD61Y3s'}]}},\n",
       "         'untoggledAccessibility': {'accessibilityData': {'label': 'Se senere'}},\n",
       "         'toggledAccessibility': {'accessibilityData': {'label': 'Lagt til'}},\n",
       "         'trackingParams': 'CLEBEPnnAxgBIhMI0fan57ax6gIV1ACJCh31DwTz'}},\n",
       "       {'thumbnailOverlayToggleButtonRenderer': {'untoggledIcon': {'iconType': 'ADD_TO_QUEUE_TAIL'},\n",
       "         'toggledIcon': {'iconType': 'PLAYLIST_ADD_CHECK'},\n",
       "         'untoggledTooltip': 'Legg i køen',\n",
       "         'toggledTooltip': 'Lagt til',\n",
       "         'untoggledServiceEndpoint': {'clickTrackingParams': 'CLABEMfsBBgCIhMI0fan57ax6gIV1ACJCh31DwTz',\n",
       "          'commandMetadata': {'webCommandMetadata': {'url': '/service_ajax',\n",
       "            'sendPost': True}},\n",
       "          'signalServiceEndpoint': {'signal': 'CLIENT_SIGNAL',\n",
       "           'actions': [{'clickTrackingParams': 'CLABEMfsBBgCIhMI0fan57ax6gIV1ACJCh31DwTz',\n",
       "             'commandMetadata': {'webCommandMetadata': {}},\n",
       "             'addToPlaylistCommand': {'openMiniplayer': True,\n",
       "              'videoId': '6OwPHD61Y3s',\n",
       "              'listType': 'PLAYLIST_EDIT_LIST_TYPE_QUEUE',\n",
       "              'onCreateListCommand': {'clickTrackingParams': 'CLABEMfsBBgCIhMI0fan57ax6gIV1ACJCh31DwTz',\n",
       "               'commandMetadata': {'webCommandMetadata': {'url': '/service_ajax',\n",
       "                 'sendPost': True,\n",
       "                 'apiUrl': '/youtubei/v1/playlist/create'}},\n",
       "               'createPlaylistServiceEndpoint': {'videoIds': ['6OwPHD61Y3s'],\n",
       "                'params': 'CAQ%3D'}},\n",
       "              'videoIds': ['6OwPHD61Y3s']}}]}},\n",
       "         'untoggledAccessibility': {'accessibilityData': {'label': 'Legg i køen'}},\n",
       "         'toggledAccessibility': {'accessibilityData': {'label': 'Lagt til'}},\n",
       "         'trackingParams': 'CLABEMfsBBgCIhMI0fan57ax6gIV1ACJCh31DwTz'}},\n",
       "       {'thumbnailOverlayNowPlayingRenderer': {'text': {'runs': [{'text': 'Spilles av nå'}]}}}]}},\n",
       "    {'playlistRenderer': {'playlistId': 'PLBEA362DAD76373B7',\n",
       "      'title': {'simpleText': 'ABBA GOLD GREATEST HITS'},\n",
       "      'thumbnails': [{'thumbnails': [{'url': 'https://i.ytimg.com/vi/2ZUX3j6WLiQ/hqdefault.jpg?sqp=-oaymwEWCKgBEF5IWvKriqkDCQgBFQAAiEIYAQ==&rs=AOn4CLCwBd-CyxANJwo43Qgi2I_U3stQKg',\n",
       "          'width': 168,\n",
       "          'height': 94},\n",
       "         {'url': 'https://i.ytimg.com/vi/2ZUX3j6WLiQ/hqdefault.jpg?sqp=-oaymwEWCMQBEG5IWvKriqkDCQgBFQAAiEIYAQ==&rs=AOn4CLALyPEt55-RtXkNy82PdCpc601qRA',\n",
       "          'width': 196,\n",
       "          'height': 110},\n",
       "         {'url': 'https://i.ytimg.com/vi/2ZUX3j6WLiQ/hqdefault.jpg?sqp=-oaymwEXCPYBEIoBSFryq4qpAwkIARUAAIhCGAE=&rs=AOn4CLA5guTm7rUb8jQA6lQ2hMuOgXxLxg',\n",
       "          'width': 246,\n",
       "          'height': 138},\n",
       "         {'url': 'https://i.ytimg.com/vi/2ZUX3j6WLiQ/hqdefault.jpg?sqp=-oaymwEXCNACELwBSFryq4qpAwkIARUAAIhCGAE=&rs=AOn4CLDlPhJT6GPxjESZz3mBQ9uvHnQs_g',\n",
       "          'width': 336,\n",
       "          'height': 188}]},\n",
       "       {'thumbnails': [{'url': 'https://i.ytimg.com/vi/Dpsn_mgEJ_w/default.jpg',\n",
       "          'width': 43,\n",
       "          'height': 20}]},\n",
       "       {'thumbnails': [{'url': 'https://i.ytimg.com/vi/72r32bceDzg/default.jpg',\n",
       "          'width': 43,\n",
       "          'height': 20}]},\n",
       "       {'thumbnails': [{'url': 'https://i.ytimg.com/vi/BogW-2X_X6k/default.jpg',\n",
       "          'width': 43,\n",
       "          'height': 20}]},\n",
       "       {'thumbnails': [{'url': 'https://i.ytimg.com/vi/2seCB54Bv-c/default.jpg',\n",
       "          'width': 43,\n",
       "          'height': 20}]}],\n",
       "      'videoCount': '17',\n",
       "      'navigationEndpoint': {'clickTrackingParams': 'CK4BENswGAQiEwjR9qfntrHqAhXUAIkKHfUPBPMyBnNlYXJjaA==',\n",
       "       'commandMetadata': {'webCommandMetadata': {'url': '/watch?v=2ZUX3j6WLiQ&list=PLBEA362DAD76373B7',\n",
       "         'webPageType': 'WEB_PAGE_TYPE_WATCH',\n",
       "         'rootVe': 3832}},\n",
       "       'watchEndpoint': {'videoId': '2ZUX3j6WLiQ',\n",
       "        'playlistId': 'PLBEA362DAD76373B7',\n",
       "        'params': 'OAI%3D'}},\n",
       "      'viewPlaylistText': {'runs': [{'text': 'Se hele spillelisten',\n",
       "         'navigationEndpoint': {'clickTrackingParams': 'CK4BENswGAQiEwjR9qfntrHqAhXUAIkKHfUPBPMyBnNlYXJjaA==',\n",
       "          'commandMetadata': {'webCommandMetadata': {'url': '/playlist?list=PLBEA362DAD76373B7',\n",
       "            'webPageType': 'WEB_PAGE_TYPE_BROWSE',\n",
       "            'rootVe': 5754}},\n",
       "          'browseEndpoint': {'browseId': 'VLPLBEA362DAD76373B7'}}}]},\n",
       "      'shortBylineText': {'runs': [{'text': 'Craig Gagné',\n",
       "         'navigationEndpoint': {'clickTrackingParams': 'CK4BENswGAQiEwjR9qfntrHqAhXUAIkKHfUPBPMyBnNlYXJjaA==',\n",
       "          'commandMetadata': {'webCommandMetadata': {'url': '/user/70csgagne',\n",
       "            'webPageType': 'WEB_PAGE_TYPE_BROWSE',\n",
       "            'rootVe': 3611}},\n",
       "          'browseEndpoint': {'browseId': 'UC8WYi1-XDzMBhXQxPM7cpzw',\n",
       "           'canonicalBaseUrl': '/user/70csgagne'}}}]},\n",
       "      'videos': [{'childVideoRenderer': {'title': {'simpleText': 'ABBA Dancing Queen'},\n",
       "         'navigationEndpoint': {'clickTrackingParams': 'CK4BENswGAQiEwjR9qfntrHqAhXUAIkKHfUPBPMyBnNlYXJjaA==',\n",
       "          'commandMetadata': {'webCommandMetadata': {'url': '/watch?v=2ZUX3j6WLiQ&list=PLBEA362DAD76373B7',\n",
       "            'webPageType': 'WEB_PAGE_TYPE_WATCH',\n",
       "            'rootVe': 3832}},\n",
       "          'watchEndpoint': {'videoId': '2ZUX3j6WLiQ',\n",
       "           'playlistId': 'PLBEA362DAD76373B7'}},\n",
       "         'lengthText': {'accessibility': {'accessibilityData': {'label': '3 minutter og 53 sekunder'}},\n",
       "          'simpleText': '3:53'},\n",
       "         'videoId': '2ZUX3j6WLiQ'}},\n",
       "       {'childVideoRenderer': {'title': {'simpleText': 'ABBA Knowing Me, Knowing You'},\n",
       "         'navigationEndpoint': {'clickTrackingParams': 'CK4BENswGAQiEwjR9qfntrHqAhXUAIkKHfUPBPMyBnNlYXJjaA==',\n",
       "          'commandMetadata': {'webCommandMetadata': {'url': '/watch?v=Dpsn_mgEJ_w&list=PLBEA362DAD76373B7',\n",
       "            'webPageType': 'WEB_PAGE_TYPE_WATCH',\n",
       "            'rootVe': 3832}},\n",
       "          'watchEndpoint': {'videoId': 'Dpsn_mgEJ_w',\n",
       "           'playlistId': 'PLBEA362DAD76373B7'}},\n",
       "         'lengthText': {'accessibility': {'accessibilityData': {'label': '4 minutter og 3 sekunder'}},\n",
       "          'simpleText': '4:03'},\n",
       "         'videoId': 'Dpsn_mgEJ_w'}}],\n",
       "      'videoCountText': {'runs': [{'text': '17'}, {'text': ' videoer'}]},\n",
       "      'trackingParams': 'CK4BENswGAQiEwjR9qfntrHqAhXUAIkKHfUPBPM=',\n",
       "      'thumbnailText': {'runs': [{'text': '17', 'bold': True},\n",
       "        {'text': ' videoer'}]},\n",
       "      'longBylineText': {'runs': [{'text': 'Craig Gagné',\n",
       "         'navigationEndpoint': {'clickTrackingParams': 'CK4BENswGAQiEwjR9qfntrHqAhXUAIkKHfUPBPMyBnNlYXJjaA==',\n",
       "          'commandMetadata': {'webCommandMetadata': {'url': '/user/70csgagne',\n",
       "            'webPageType': 'WEB_PAGE_TYPE_BROWSE',\n",
       "            'rootVe': 3611}},\n",
       "          'browseEndpoint': {'browseId': 'UC8WYi1-XDzMBhXQxPM7cpzw',\n",
       "           'canonicalBaseUrl': '/user/70csgagne'}}}]},\n",
       "      'thumbnailRenderer': {'playlistVideoThumbnailRenderer': {'thumbnail': {'thumbnails': [{'url': 'https://i.ytimg.com/vi/2ZUX3j6WLiQ/hqdefault.jpg?sqp=-oaymwEWCKgBEF5IWvKriqkDCQgBFQAAiEIYAQ==&rs=AOn4CLCwBd-CyxANJwo43Qgi2I_U3stQKg',\n",
       "           'width': 168,\n",
       "           'height': 94},\n",
       "          {'url': 'https://i.ytimg.com/vi/2ZUX3j6WLiQ/hqdefault.jpg?sqp=-oaymwEWCMQBEG5IWvKriqkDCQgBFQAAiEIYAQ==&rs=AOn4CLALyPEt55-RtXkNy82PdCpc601qRA',\n",
       "           'width': 196,\n",
       "           'height': 110},\n",
       "          {'url': 'https://i.ytimg.com/vi/2ZUX3j6WLiQ/hqdefault.jpg?sqp=-oaymwEXCPYBEIoBSFryq4qpAwkIARUAAIhCGAE=&rs=AOn4CLA5guTm7rUb8jQA6lQ2hMuOgXxLxg',\n",
       "           'width': 246,\n",
       "           'height': 138},\n",
       "          {'url': 'https://i.ytimg.com/vi/2ZUX3j6WLiQ/hqdefault.jpg?sqp=-oaymwEXCNACELwBSFryq4qpAwkIARUAAIhCGAE=&rs=AOn4CLDlPhJT6GPxjESZz3mBQ9uvHnQs_g',\n",
       "           'width': 336,\n",
       "           'height': 188}]}}},\n",
       "      'thumbnailOverlays': [{'thumbnailOverlaySidePanelRenderer': {'text': {'simpleText': '17'},\n",
       "         'icon': {'iconType': 'PLAYLISTS'}}},\n",
       "       {'thumbnailOverlayHoverTextRenderer': {'text': {'runs': [{'text': 'Spill av alle'}]},\n",
       "         'icon': {'iconType': 'PLAY_ALL'}}},\n",
       "       {'thumbnailOverlayNowPlayingRenderer': {'text': {'runs': [{'text': 'Spilles av nå'}]}}}]}},\n",
       "    {'videoRenderer': {'videoId': 'QRoWiTcO7dk',\n",
       "      'thumbnail': {'thumbnails': [{'url': 'https://i.ytimg.com/vi/QRoWiTcO7dk/hq720.jpg?sqp=-oaymwEjCOgCEMoBSFryq4qpAxUIARUAAAAAGAElAADIQj0AgKJDeAE=&rs=AOn4CLBkqeS4jVnHWgLLHLcCTdkQLz4aNw',\n",
       "         'width': 360,\n",
       "         'height': 202},\n",
       "        {'url': 'https://i.ytimg.com/vi/QRoWiTcO7dk/hq720.jpg?sqp=-oaymwEXCNAFEJQDSFryq4qpAwkIARUAAIhCGAE=&rs=AOn4CLA2vKZy9MJxibMM55JqFJU9fYdHrA',\n",
       "         'width': 720,\n",
       "         'height': 404}]},\n",
       "      'title': {'runs': [{'text': 'Mamma Mia! (2008) - Dancing Queen Scene (3/10) | Movieclips'}],\n",
       "       'accessibility': {'accessibilityData': {'label': 'Mamma Mia! (2008) - Dancing Queen Scene (3/10) | Movieclips av Movieclips for 1 år siden 4 minutter og 3 sekunder Sett 21\\xa0416\\xa0877 ganger'}}},\n",
       "      'descriptionSnippet': {'runs': [{'text': 'Mamma Mia', 'bold': True},\n",
       "        {'text': '! - Dancing Queen: Everyone dances along with Donna (Meryl Streep) and her friends to \"Dancing Queen.\" BUY THE\\xa0...'}]},\n",
       "      'longBylineText': {'runs': [{'text': 'Movieclips',\n",
       "         'navigationEndpoint': {'clickTrackingParams': 'CKoBENwwGAUiEwjR9qfntrHqAhXUAIkKHfUPBPM=',\n",
       "          'commandMetadata': {'webCommandMetadata': {'url': '/user/movieclips',\n",
       "            'webPageType': 'WEB_PAGE_TYPE_BROWSE',\n",
       "            'rootVe': 3611}},\n",
       "          'browseEndpoint': {'browseId': 'UC3gNmTGu-TTbFPpfSs5kNkg',\n",
       "           'canonicalBaseUrl': '/user/movieclips'}}}]},\n",
       "      'publishedTimeText': {'simpleText': 'for 1 år siden'},\n",
       "      'lengthText': {'accessibility': {'accessibilityData': {'label': '4 minutter og 3 sekunder'}},\n",
       "       'simpleText': '4:03'},\n",
       "      'viewCountText': {'simpleText': 'Sett 21\\xa0416\\xa0877 ganger'},\n",
       "      'navigationEndpoint': {'clickTrackingParams': 'CKoBENwwGAUiEwjR9qfntrHqAhXUAIkKHfUPBPMyBnNlYXJjaFIOQWJiYSBNYW1tYSBNaWGaAQMQ9CQ=',\n",
       "       'commandMetadata': {'webCommandMetadata': {'url': '/watch?v=QRoWiTcO7dk',\n",
       "         'webPageType': 'WEB_PAGE_TYPE_WATCH',\n",
       "         'rootVe': 3832}},\n",
       "       'watchEndpoint': {'videoId': 'QRoWiTcO7dk'}},\n",
       "      'ownerBadges': [{'metadataBadgeRenderer': {'icon': {'iconType': 'CHECK_CIRCLE_THICK'},\n",
       "         'style': 'BADGE_STYLE_TYPE_VERIFIED',\n",
       "         'tooltip': 'Bekreftet',\n",
       "         'trackingParams': 'CKoBENwwGAUiEwjR9qfntrHqAhXUAIkKHfUPBPM='}}],\n",
       "      'ownerText': {'runs': [{'text': 'Movieclips',\n",
       "         'navigationEndpoint': {'clickTrackingParams': 'CKoBENwwGAUiEwjR9qfntrHqAhXUAIkKHfUPBPM=',\n",
       "          'commandMetadata': {'webCommandMetadata': {'url': '/user/movieclips',\n",
       "            'webPageType': 'WEB_PAGE_TYPE_BROWSE',\n",
       "            'rootVe': 3611}},\n",
       "          'browseEndpoint': {'browseId': 'UC3gNmTGu-TTbFPpfSs5kNkg',\n",
       "           'canonicalBaseUrl': '/user/movieclips'}}}]},\n",
       "      'shortBylineText': {'runs': [{'text': 'Movieclips',\n",
       "         'navigationEndpoint': {'clickTrackingParams': 'CKoBENwwGAUiEwjR9qfntrHqAhXUAIkKHfUPBPM=',\n",
       "          'commandMetadata': {'webCommandMetadata': {'url': '/user/movieclips',\n",
       "            'webPageType': 'WEB_PAGE_TYPE_BROWSE',\n",
       "            'rootVe': 3611}},\n",
       "          'browseEndpoint': {'browseId': 'UC3gNmTGu-TTbFPpfSs5kNkg',\n",
       "           'canonicalBaseUrl': '/user/movieclips'}}}]},\n",
       "      'trackingParams': 'CKoBENwwGAUiEwjR9qfntrHqAhXUAIkKHfUPBPNA2du7uJPRhY1B',\n",
       "      'showActionMenu': False,\n",
       "      'shortViewCountText': {'simpleText': 'Sett 21\\xa0mill. ganger'},\n",
       "      'menu': {'menuRenderer': {'items': [{'menuServiceItemRenderer': {'text': {'runs': [{'text': 'Legg i køen'}]},\n",
       "           'icon': {'iconType': 'ADD_TO_QUEUE_TAIL'},\n",
       "           'serviceEndpoint': {'clickTrackingParams': 'CK0BEP6YBBgFIhMI0fan57ax6gIV1ACJCh31DwTz',\n",
       "            'commandMetadata': {'webCommandMetadata': {'url': '/service_ajax',\n",
       "              'sendPost': True}},\n",
       "            'signalServiceEndpoint': {'signal': 'CLIENT_SIGNAL',\n",
       "             'actions': [{'clickTrackingParams': 'CK0BEP6YBBgFIhMI0fan57ax6gIV1ACJCh31DwTz',\n",
       "               'commandMetadata': {'webCommandMetadata': {}},\n",
       "               'addToPlaylistCommand': {'openMiniplayer': True,\n",
       "                'videoId': 'QRoWiTcO7dk',\n",
       "                'listType': 'PLAYLIST_EDIT_LIST_TYPE_QUEUE',\n",
       "                'onCreateListCommand': {'clickTrackingParams': 'CK0BEP6YBBgFIhMI0fan57ax6gIV1ACJCh31DwTz',\n",
       "                 'commandMetadata': {'webCommandMetadata': {'url': '/service_ajax',\n",
       "                   'sendPost': True,\n",
       "                   'apiUrl': '/youtubei/v1/playlist/create'}},\n",
       "                 'createPlaylistServiceEndpoint': {'videoIds': ['QRoWiTcO7dk'],\n",
       "                  'params': 'CAQ%3D'}},\n",
       "                'videoIds': ['QRoWiTcO7dk']}}]}},\n",
       "           'trackingParams': 'CK0BEP6YBBgFIhMI0fan57ax6gIV1ACJCh31DwTz'}}],\n",
       "        'trackingParams': 'CKoBENwwGAUiEwjR9qfntrHqAhXUAIkKHfUPBPM=',\n",
       "        'accessibility': {'accessibilityData': {'label': 'Handlingsmeny'}}}},\n",
       "      'channelThumbnailSupportedRenderers': {'channelThumbnailWithLinkRenderer': {'thumbnail': {'thumbnails': [{'url': 'https://yt3.ggpht.com/a-/AOh14GiWdbmUuGSqP-qubfRN2Y9z5zny69GjaCMlcw=s68-c-k-c0x00ffffff-no-rj-mo',\n",
       "           'width': 68,\n",
       "           'height': 68}]},\n",
       "        'navigationEndpoint': {'clickTrackingParams': 'CKoBENwwGAUiEwjR9qfntrHqAhXUAIkKHfUPBPM=',\n",
       "         'commandMetadata': {'webCommandMetadata': {'url': '/user/movieclips',\n",
       "           'webPageType': 'WEB_PAGE_TYPE_BROWSE',\n",
       "           'rootVe': 3611}},\n",
       "         'browseEndpoint': {'browseId': 'UC3gNmTGu-TTbFPpfSs5kNkg',\n",
       "          'canonicalBaseUrl': '/user/movieclips'}},\n",
       "        'accessibility': {'accessibilityData': {'label': 'Gå til kanalen'}}}},\n",
       "      'thumbnailOverlays': [{'thumbnailOverlayTimeStatusRenderer': {'text': {'accessibility': {'accessibilityData': {'label': '4 minutter og 3 sekunder'}},\n",
       "          'simpleText': '4:03'},\n",
       "         'style': 'DEFAULT'}},\n",
       "       {'thumbnailOverlayToggleButtonRenderer': {'isToggled': False,\n",
       "         'untoggledIcon': {'iconType': 'WATCH_LATER'},\n",
       "         'toggledIcon': {'iconType': 'CHECK'},\n",
       "         'untoggledTooltip': 'Se senere',\n",
       "         'toggledTooltip': 'Lagt til',\n",
       "         'untoggledServiceEndpoint': {'clickTrackingParams': 'CKwBEPnnAxgCIhMI0fan57ax6gIV1ACJCh31DwTz',\n",
       "          'commandMetadata': {'webCommandMetadata': {'url': '/service_ajax',\n",
       "            'sendPost': True,\n",
       "            'apiUrl': '/youtubei/v1/browse/edit_playlist'}},\n",
       "          'playlistEditEndpoint': {'playlistId': 'WL',\n",
       "           'actions': [{'addedVideoId': 'QRoWiTcO7dk',\n",
       "             'action': 'ACTION_ADD_VIDEO'}]}},\n",
       "         'toggledServiceEndpoint': {'clickTrackingParams': 'CKwBEPnnAxgCIhMI0fan57ax6gIV1ACJCh31DwTz',\n",
       "          'commandMetadata': {'webCommandMetadata': {'url': '/service_ajax',\n",
       "            'sendPost': True,\n",
       "            'apiUrl': '/youtubei/v1/browse/edit_playlist'}},\n",
       "          'playlistEditEndpoint': {'playlistId': 'WL',\n",
       "           'actions': [{'action': 'ACTION_REMOVE_VIDEO_BY_VIDEO_ID',\n",
       "             'removedVideoId': 'QRoWiTcO7dk'}]}},\n",
       "         'untoggledAccessibility': {'accessibilityData': {'label': 'Se senere'}},\n",
       "         'toggledAccessibility': {'accessibilityData': {'label': 'Lagt til'}},\n",
       "         'trackingParams': 'CKwBEPnnAxgCIhMI0fan57ax6gIV1ACJCh31DwTz'}},\n",
       "       {'thumbnailOverlayToggleButtonRenderer': {'untoggledIcon': {'iconType': 'ADD_TO_QUEUE_TAIL'},\n",
       "         'toggledIcon': {'iconType': 'PLAYLIST_ADD_CHECK'},\n",
       "         'untoggledTooltip': 'Legg i køen',\n",
       "         'toggledTooltip': 'Lagt til',\n",
       "         'untoggledServiceEndpoint': {'clickTrackingParams': 'CKsBEMfsBBgDIhMI0fan57ax6gIV1ACJCh31DwTz',\n",
       "          'commandMetadata': {'webCommandMetadata': {'url': '/service_ajax',\n",
       "            'sendPost': True}},\n",
       "          'signalServiceEndpoint': {'signal': 'CLIENT_SIGNAL',\n",
       "           'actions': [{'clickTrackingParams': 'CKsBEMfsBBgDIhMI0fan57ax6gIV1ACJCh31DwTz',\n",
       "             'commandMetadata': {'webCommandMetadata': {}},\n",
       "             'addToPlaylistCommand': {'openMiniplayer': True,\n",
       "              'videoId': 'QRoWiTcO7dk',\n",
       "              'listType': 'PLAYLIST_EDIT_LIST_TYPE_QUEUE',\n",
       "              'onCreateListCommand': {'clickTrackingParams': 'CKsBEMfsBBgDIhMI0fan57ax6gIV1ACJCh31DwTz',\n",
       "               'commandMetadata': {'webCommandMetadata': {'url': '/service_ajax',\n",
       "                 'sendPost': True,\n",
       "                 'apiUrl': '/youtubei/v1/playlist/create'}},\n",
       "               'createPlaylistServiceEndpoint': {'videoIds': ['QRoWiTcO7dk'],\n",
       "                'params': 'CAQ%3D'}},\n",
       "              'videoIds': ['QRoWiTcO7dk']}}]}},\n",
       "         'untoggledAccessibility': {'accessibilityData': {'label': 'Legg i køen'}},\n",
       "         'toggledAccessibility': {'accessibilityData': {'label': 'Lagt til'}},\n",
       "         'trackingParams': 'CKsBEMfsBBgDIhMI0fan57ax6gIV1ACJCh31DwTz'}},\n",
       "       {'thumbnailOverlayNowPlayingRenderer': {'text': {'runs': [{'text': 'Spilles av nå'}]}}}]}},\n",
       "    {'videoRenderer': {'videoId': '2a6viOdDf9w',\n",
       "      'thumbnail': {'thumbnails': [{'url': 'https://i.ytimg.com/vi/2a6viOdDf9w/hqdefault.jpg?sqp=-oaymwEjCOADEI4CSFryq4qpAxUIARUAAAAAGAElAADIQj0AgKJDeAE=&rs=AOn4CLDugwev73BPcicxAsv5ei_K7mWvPA',\n",
       "         'width': 480,\n",
       "         'height': 270}]},\n",
       "      'title': {'runs': [{'text': 'SLIPPING THROUGH MY FINGERS (ABBA) Mamma Mia +Lyrics'}],\n",
       "       'accessibility': {'accessibilityData': {'label': 'SLIPPING THROUGH MY FINGERS (ABBA) Mamma Mia +Lyrics av Ine RP Braat for 2 år siden 5 minutter og 9 sekunder Sett 1\\xa0471\\xa0507 ganger'}}},\n",
       "      'descriptionSnippet': {'runs': [{'text': 'SLIPPING THROUGH MY FINGERS ('},\n",
       "        {'text': 'ABBA', 'bold': True},\n",
       "        {'text': ') '},\n",
       "        {'text': 'Mamma Mia', 'bold': True},\n",
       "        {'text': ' Edited 2013-08\\xa0...'}]},\n",
       "      'longBylineText': {'runs': [{'text': 'Ine RP Braat',\n",
       "         'navigationEndpoint': {'clickTrackingParams': 'CKYBENwwGAYiEwjR9qfntrHqAhXUAIkKHfUPBPM=',\n",
       "          'commandMetadata': {'webCommandMetadata': {'url': '/channel/UC6JJGfhT2uUxhuktPwlMhnA',\n",
       "            'webPageType': 'WEB_PAGE_TYPE_BROWSE',\n",
       "            'rootVe': 3611}},\n",
       "          'browseEndpoint': {'browseId': 'UC6JJGfhT2uUxhuktPwlMhnA'}}}]},\n",
       "      'publishedTimeText': {'simpleText': 'for 2 år siden'},\n",
       "      'lengthText': {'accessibility': {'accessibilityData': {'label': '5 minutter og 9 sekunder'}},\n",
       "       'simpleText': '5:09'},\n",
       "      'viewCountText': {'simpleText': 'Sett 1\\xa0471\\xa0507 ganger'},\n",
       "      'navigationEndpoint': {'clickTrackingParams': 'CKYBENwwGAYiEwjR9qfntrHqAhXUAIkKHfUPBPMyBnNlYXJjaFIOQWJiYSBNYW1tYSBNaWGaAQMQ9CQ=',\n",
       "       'commandMetadata': {'webCommandMetadata': {'url': '/watch?v=2a6viOdDf9w',\n",
       "         'webPageType': 'WEB_PAGE_TYPE_WATCH',\n",
       "         'rootVe': 3832}},\n",
       "       'watchEndpoint': {'videoId': '2a6viOdDf9w'}},\n",
       "      'ownerText': {'runs': [{'text': 'Ine RP Braat',\n",
       "         'navigationEndpoint': {'clickTrackingParams': 'CKYBENwwGAYiEwjR9qfntrHqAhXUAIkKHfUPBPM=',\n",
       "          'commandMetadata': {'webCommandMetadata': {'url': '/channel/UC6JJGfhT2uUxhuktPwlMhnA',\n",
       "            'webPageType': 'WEB_PAGE_TYPE_BROWSE',\n",
       "            'rootVe': 3611}},\n",
       "          'browseEndpoint': {'browseId': 'UC6JJGfhT2uUxhuktPwlMhnA'}}}]},\n",
       "      'shortBylineText': {'runs': [{'text': 'Ine RP Braat',\n",
       "         'navigationEndpoint': {'clickTrackingParams': 'CKYBENwwGAYiEwjR9qfntrHqAhXUAIkKHfUPBPM=',\n",
       "          'commandMetadata': {'webCommandMetadata': {'url': '/channel/UC6JJGfhT2uUxhuktPwlMhnA',\n",
       "            'webPageType': 'WEB_PAGE_TYPE_BROWSE',\n",
       "            'rootVe': 3611}},\n",
       "          'browseEndpoint': {'browseId': 'UC6JJGfhT2uUxhuktPwlMhnA'}}}]},\n",
       "      'trackingParams': 'CKYBENwwGAYiEwjR9qfntrHqAhXUAIkKHfUPBPNA3P-Nuo7xq9fZAQ==',\n",
       "      'showActionMenu': False,\n",
       "      'shortViewCountText': {'simpleText': 'Sett 1,4\\xa0mill. ganger'},\n",
       "      'menu': {'menuRenderer': {'items': [{'menuServiceItemRenderer': {'text': {'runs': [{'text': 'Legg i køen'}]},\n",
       "           'icon': {'iconType': 'ADD_TO_QUEUE_TAIL'},\n",
       "           'serviceEndpoint': {'clickTrackingParams': 'CKkBEP6YBBgEIhMI0fan57ax6gIV1ACJCh31DwTz',\n",
       "            'commandMetadata': {'webCommandMetadata': {'url': '/service_ajax',\n",
       "              'sendPost': True}},\n",
       "            'signalServiceEndpoint': {'signal': 'CLIENT_SIGNAL',\n",
       "             'actions': [{'clickTrackingParams': 'CKkBEP6YBBgEIhMI0fan57ax6gIV1ACJCh31DwTz',\n",
       "               'commandMetadata': {'webCommandMetadata': {}},\n",
       "               'addToPlaylistCommand': {'openMiniplayer': True,\n",
       "                'videoId': '2a6viOdDf9w',\n",
       "                'listType': 'PLAYLIST_EDIT_LIST_TYPE_QUEUE',\n",
       "                'onCreateListCommand': {'clickTrackingParams': 'CKkBEP6YBBgEIhMI0fan57ax6gIV1ACJCh31DwTz',\n",
       "                 'commandMetadata': {'webCommandMetadata': {'url': '/service_ajax',\n",
       "                   'sendPost': True,\n",
       "                   'apiUrl': '/youtubei/v1/playlist/create'}},\n",
       "                 'createPlaylistServiceEndpoint': {'videoIds': ['2a6viOdDf9w'],\n",
       "                  'params': 'CAQ%3D'}},\n",
       "                'videoIds': ['2a6viOdDf9w']}}]}},\n",
       "           'trackingParams': 'CKkBEP6YBBgEIhMI0fan57ax6gIV1ACJCh31DwTz'}}],\n",
       "        'trackingParams': 'CKYBENwwGAYiEwjR9qfntrHqAhXUAIkKHfUPBPM=',\n",
       "        'accessibility': {'accessibilityData': {'label': 'Handlingsmeny'}}}},\n",
       "      'channelThumbnailSupportedRenderers': {'channelThumbnailWithLinkRenderer': {'thumbnail': {'thumbnails': [{'url': 'https://yt3.ggpht.com/a-/AOh14GhCNW4Lu0Xuc-FhIEd952tqzgYGLKnTHKshEQ=s68-c-k-c0x00ffffff-no-rj-mo',\n",
       "           'width': 68,\n",
       "           'height': 68}]},\n",
       "        'navigationEndpoint': {'clickTrackingParams': 'CKYBENwwGAYiEwjR9qfntrHqAhXUAIkKHfUPBPM=',\n",
       "         'commandMetadata': {'webCommandMetadata': {'url': '/channel/UC6JJGfhT2uUxhuktPwlMhnA',\n",
       "           'webPageType': 'WEB_PAGE_TYPE_BROWSE',\n",
       "           'rootVe': 3611}},\n",
       "         'browseEndpoint': {'browseId': 'UC6JJGfhT2uUxhuktPwlMhnA'}},\n",
       "        'accessibility': {'accessibilityData': {'label': 'Gå til kanalen'}}}},\n",
       "      'thumbnailOverlays': [{'thumbnailOverlayTimeStatusRenderer': {'text': {'accessibility': {'accessibilityData': {'label': '5 minutter og 9 sekunder'}},\n",
       "          'simpleText': '5:09'},\n",
       "         'style': 'DEFAULT'}},\n",
       "       {'thumbnailOverlayToggleButtonRenderer': {'isToggled': False,\n",
       "         'untoggledIcon': {'iconType': 'WATCH_LATER'},\n",
       "         'toggledIcon': {'iconType': 'CHECK'},\n",
       "         'untoggledTooltip': 'Se senere',\n",
       "         'toggledTooltip': 'Lagt til',\n",
       "         'untoggledServiceEndpoint': {'clickTrackingParams': 'CKgBEPnnAxgBIhMI0fan57ax6gIV1ACJCh31DwTz',\n",
       "          'commandMetadata': {'webCommandMetadata': {'url': '/service_ajax',\n",
       "            'sendPost': True,\n",
       "            'apiUrl': '/youtubei/v1/browse/edit_playlist'}},\n",
       "          'playlistEditEndpoint': {'playlistId': 'WL',\n",
       "           'actions': [{'addedVideoId': '2a6viOdDf9w',\n",
       "             'action': 'ACTION_ADD_VIDEO'}]}},\n",
       "         'toggledServiceEndpoint': {'clickTrackingParams': 'CKgBEPnnAxgBIhMI0fan57ax6gIV1ACJCh31DwTz',\n",
       "          'commandMetadata': {'webCommandMetadata': {'url': '/service_ajax',\n",
       "            'sendPost': True,\n",
       "            'apiUrl': '/youtubei/v1/browse/edit_playlist'}},\n",
       "          'playlistEditEndpoint': {'playlistId': 'WL',\n",
       "           'actions': [{'action': 'ACTION_REMOVE_VIDEO_BY_VIDEO_ID',\n",
       "             'removedVideoId': '2a6viOdDf9w'}]}},\n",
       "         'untoggledAccessibility': {'accessibilityData': {'label': 'Se senere'}},\n",
       "         'toggledAccessibility': {'accessibilityData': {'label': 'Lagt til'}},\n",
       "         'trackingParams': 'CKgBEPnnAxgBIhMI0fan57ax6gIV1ACJCh31DwTz'}},\n",
       "       {'thumbnailOverlayToggleButtonRenderer': {'untoggledIcon': {'iconType': 'ADD_TO_QUEUE_TAIL'},\n",
       "         'toggledIcon': {'iconType': 'PLAYLIST_ADD_CHECK'},\n",
       "         'untoggledTooltip': 'Legg i køen',\n",
       "         'toggledTooltip': 'Lagt til',\n",
       "         'untoggledServiceEndpoint': {'clickTrackingParams': 'CKcBEMfsBBgCIhMI0fan57ax6gIV1ACJCh31DwTz',\n",
       "          'commandMetadata': {'webCommandMetadata': {'url': '/service_ajax',\n",
       "            'sendPost': True}},\n",
       "          'signalServiceEndpoint': {'signal': 'CLIENT_SIGNAL',\n",
       "           'actions': [{'clickTrackingParams': 'CKcBEMfsBBgCIhMI0fan57ax6gIV1ACJCh31DwTz',\n",
       "             'commandMetadata': {'webCommandMetadata': {}},\n",
       "             'addToPlaylistCommand': {'openMiniplayer': True,\n",
       "              'videoId': '2a6viOdDf9w',\n",
       "              'listType': 'PLAYLIST_EDIT_LIST_TYPE_QUEUE',\n",
       "              'onCreateListCommand': {'clickTrackingParams': 'CKcBEMfsBBgCIhMI0fan57ax6gIV1ACJCh31DwTz',\n",
       "               'commandMetadata': {'webCommandMetadata': {'url': '/service_ajax',\n",
       "                 'sendPost': True,\n",
       "                 'apiUrl': '/youtubei/v1/playlist/create'}},\n",
       "               'createPlaylistServiceEndpoint': {'videoIds': ['2a6viOdDf9w'],\n",
       "                'params': 'CAQ%3D'}},\n",
       "              'videoIds': ['2a6viOdDf9w']}}]}},\n",
       "         'untoggledAccessibility': {'accessibilityData': {'label': 'Legg i køen'}},\n",
       "         'toggledAccessibility': {'accessibilityData': {'label': 'Lagt til'}},\n",
       "         'trackingParams': 'CKcBEMfsBBgCIhMI0fan57ax6gIV1ACJCh31DwTz'}},\n",
       "       {'thumbnailOverlayNowPlayingRenderer': {'text': {'runs': [{'text': 'Spilles av nå'}]}}}]}},\n",
       "    {'videoRenderer': {'videoId': 'RGSk51ejdUQ',\n",
       "      'thumbnail': {'thumbnails': [{'url': 'https://i.ytimg.com/vi/RGSk51ejdUQ/hq720.jpg?sqp=-oaymwEjCOgCEMoBSFryq4qpAxUIARUAAAAAGAElAADIQj0AgKJDeAE=&rs=AOn4CLA311qNTb1eLD_azSq37MxKSiJ03Q',\n",
       "         'width': 360,\n",
       "         'height': 202},\n",
       "        {'url': 'https://i.ytimg.com/vi/RGSk51ejdUQ/hq720.jpg?sqp=-oaymwEXCNAFEJQDSFryq4qpAwkIARUAAIhCGAE=&rs=AOn4CLCpIoO_XwxbXGbB9kX48ftyW1zvWA',\n",
       "         'width': 720,\n",
       "         'height': 404}]},\n",
       "      'title': {'runs': [{'text': 'Mamma Mia! - Lay All Your Love On Me (ABBA Cover) - BluRay'}],\n",
       "       'accessibility': {'accessibilityData': {'label': 'Mamma Mia! - Lay All Your Love On Me (ABBA Cover) - BluRay av Ciqify for 6 år siden 3 minutter og 15 sekunder Sett 1\\xa0324\\xa0011 ganger'}}},\n",
       "      'descriptionSnippet': {'runs': [{'text': 'Sung and performed by Dominic Cooper, Amanda Seyfried and Martin Lowe. (C) 2008 Littlestar Services Limited, Under\\xa0...'}]},\n",
       "      'longBylineText': {'runs': [{'text': 'Ciqify',\n",
       "         'navigationEndpoint': {'clickTrackingParams': 'CKIBENwwGAciEwjR9qfntrHqAhXUAIkKHfUPBPM=',\n",
       "          'commandMetadata': {'webCommandMetadata': {'url': '/user/Ciqify',\n",
       "            'webPageType': 'WEB_PAGE_TYPE_BROWSE',\n",
       "            'rootVe': 3611}},\n",
       "          'browseEndpoint': {'browseId': 'UCl8fZxoKq9qtqFAQaNt5hEA',\n",
       "           'canonicalBaseUrl': '/user/Ciqify'}}}]},\n",
       "      'publishedTimeText': {'simpleText': 'for 6 år siden'},\n",
       "      'lengthText': {'accessibility': {'accessibilityData': {'label': '3 minutter og 15 sekunder'}},\n",
       "       'simpleText': '3:15'},\n",
       "      'viewCountText': {'simpleText': 'Sett 1\\xa0324\\xa0011 ganger'},\n",
       "      'navigationEndpoint': {'clickTrackingParams': 'CKIBENwwGAciEwjR9qfntrHqAhXUAIkKHfUPBPMyBnNlYXJjaFIOQWJiYSBNYW1tYSBNaWGaAQMQ9CQ=',\n",
       "       'commandMetadata': {'webCommandMetadata': {'url': '/watch?v=RGSk51ejdUQ',\n",
       "         'webPageType': 'WEB_PAGE_TYPE_WATCH',\n",
       "         'rootVe': 3832}},\n",
       "       'watchEndpoint': {'videoId': 'RGSk51ejdUQ'}},\n",
       "      'ownerText': {'runs': [{'text': 'Ciqify',\n",
       "         'navigationEndpoint': {'clickTrackingParams': 'CKIBENwwGAciEwjR9qfntrHqAhXUAIkKHfUPBPM=',\n",
       "          'commandMetadata': {'webCommandMetadata': {'url': '/user/Ciqify',\n",
       "            'webPageType': 'WEB_PAGE_TYPE_BROWSE',\n",
       "            'rootVe': 3611}},\n",
       "          'browseEndpoint': {'browseId': 'UCl8fZxoKq9qtqFAQaNt5hEA',\n",
       "           'canonicalBaseUrl': '/user/Ciqify'}}}]},\n",
       "      'shortBylineText': {'runs': [{'text': 'Ciqify',\n",
       "         'navigationEndpoint': {'clickTrackingParams': 'CKIBENwwGAciEwjR9qfntrHqAhXUAIkKHfUPBPM=',\n",
       "          'commandMetadata': {'webCommandMetadata': {'url': '/user/Ciqify',\n",
       "            'webPageType': 'WEB_PAGE_TYPE_BROWSE',\n",
       "            'rootVe': 3611}},\n",
       "          'browseEndpoint': {'browseId': 'UCl8fZxoKq9qtqFAQaNt5hEA',\n",
       "           'canonicalBaseUrl': '/user/Ciqify'}}}]},\n",
       "      'trackingParams': 'CKIBENwwGAciEwjR9qfntrHqAhXUAIkKHfUPBPNAxOqNvfWcqbJE',\n",
       "      'showActionMenu': False,\n",
       "      'shortViewCountText': {'simpleText': 'Sett 1,3\\xa0mill. ganger'},\n",
       "      'menu': {'menuRenderer': {'items': [{'menuServiceItemRenderer': {'text': {'runs': [{'text': 'Legg i køen'}]},\n",
       "           'icon': {'iconType': 'ADD_TO_QUEUE_TAIL'},\n",
       "           'serviceEndpoint': {'clickTrackingParams': 'CKUBEP6YBBgEIhMI0fan57ax6gIV1ACJCh31DwTz',\n",
       "            'commandMetadata': {'webCommandMetadata': {'url': '/service_ajax',\n",
       "              'sendPost': True}},\n",
       "            'signalServiceEndpoint': {'signal': 'CLIENT_SIGNAL',\n",
       "             'actions': [{'clickTrackingParams': 'CKUBEP6YBBgEIhMI0fan57ax6gIV1ACJCh31DwTz',\n",
       "               'commandMetadata': {'webCommandMetadata': {}},\n",
       "               'addToPlaylistCommand': {'openMiniplayer': True,\n",
       "                'videoId': 'RGSk51ejdUQ',\n",
       "                'listType': 'PLAYLIST_EDIT_LIST_TYPE_QUEUE',\n",
       "                'onCreateListCommand': {'clickTrackingParams': 'CKUBEP6YBBgEIhMI0fan57ax6gIV1ACJCh31DwTz',\n",
       "                 'commandMetadata': {'webCommandMetadata': {'url': '/service_ajax',\n",
       "                   'sendPost': True,\n",
       "                   'apiUrl': '/youtubei/v1/playlist/create'}},\n",
       "                 'createPlaylistServiceEndpoint': {'videoIds': ['RGSk51ejdUQ'],\n",
       "                  'params': 'CAQ%3D'}},\n",
       "                'videoIds': ['RGSk51ejdUQ']}}]}},\n",
       "           'trackingParams': 'CKUBEP6YBBgEIhMI0fan57ax6gIV1ACJCh31DwTz'}}],\n",
       "        'trackingParams': 'CKIBENwwGAciEwjR9qfntrHqAhXUAIkKHfUPBPM=',\n",
       "        'accessibility': {'accessibilityData': {'label': 'Handlingsmeny'}}}},\n",
       "      'channelThumbnailSupportedRenderers': {'channelThumbnailWithLinkRenderer': {'thumbnail': {'thumbnails': [{'url': 'https://yt3.ggpht.com/a-/AOh14Gi9KKim3g6Pxbpc_W13Wl9Z8vbQIxbv4651OA=s68-c-k-c0x00ffffff-no-rj-mo',\n",
       "           'width': 68,\n",
       "           'height': 68}]},\n",
       "        'navigationEndpoint': {'clickTrackingParams': 'CKIBENwwGAciEwjR9qfntrHqAhXUAIkKHfUPBPM=',\n",
       "         'commandMetadata': {'webCommandMetadata': {'url': '/user/Ciqify',\n",
       "           'webPageType': 'WEB_PAGE_TYPE_BROWSE',\n",
       "           'rootVe': 3611}},\n",
       "         'browseEndpoint': {'browseId': 'UCl8fZxoKq9qtqFAQaNt5hEA',\n",
       "          'canonicalBaseUrl': '/user/Ciqify'}},\n",
       "        'accessibility': {'accessibilityData': {'label': 'Gå til kanalen'}}}},\n",
       "      'thumbnailOverlays': [{'thumbnailOverlayTimeStatusRenderer': {'text': {'accessibility': {'accessibilityData': {'label': '3 minutter og 15 sekunder'}},\n",
       "          'simpleText': '3:15'},\n",
       "         'style': 'DEFAULT'}},\n",
       "       {'thumbnailOverlayToggleButtonRenderer': {'isToggled': False,\n",
       "         'untoggledIcon': {'iconType': 'WATCH_LATER'},\n",
       "         'toggledIcon': {'iconType': 'CHECK'},\n",
       "         'untoggledTooltip': 'Se senere',\n",
       "         'toggledTooltip': 'Lagt til',\n",
       "         'untoggledServiceEndpoint': {'clickTrackingParams': 'CKQBEPnnAxgBIhMI0fan57ax6gIV1ACJCh31DwTz',\n",
       "          'commandMetadata': {'webCommandMetadata': {'url': '/service_ajax',\n",
       "            'sendPost': True,\n",
       "            'apiUrl': '/youtubei/v1/browse/edit_playlist'}},\n",
       "          'playlistEditEndpoint': {'playlistId': 'WL',\n",
       "           'actions': [{'addedVideoId': 'RGSk51ejdUQ',\n",
       "             'action': 'ACTION_ADD_VIDEO'}]}},\n",
       "         'toggledServiceEndpoint': {'clickTrackingParams': 'CKQBEPnnAxgBIhMI0fan57ax6gIV1ACJCh31DwTz',\n",
       "          'commandMetadata': {'webCommandMetadata': {'url': '/service_ajax',\n",
       "            'sendPost': True,\n",
       "            'apiUrl': '/youtubei/v1/browse/edit_playlist'}},\n",
       "          'playlistEditEndpoint': {'playlistId': 'WL',\n",
       "           'actions': [{'action': 'ACTION_REMOVE_VIDEO_BY_VIDEO_ID',\n",
       "             'removedVideoId': 'RGSk51ejdUQ'}]}},\n",
       "         'untoggledAccessibility': {'accessibilityData': {'label': 'Se senere'}},\n",
       "         'toggledAccessibility': {'accessibilityData': {'label': 'Lagt til'}},\n",
       "         'trackingParams': 'CKQBEPnnAxgBIhMI0fan57ax6gIV1ACJCh31DwTz'}},\n",
       "       {'thumbnailOverlayToggleButtonRenderer': {'untoggledIcon': {'iconType': 'ADD_TO_QUEUE_TAIL'},\n",
       "         'toggledIcon': {'iconType': 'PLAYLIST_ADD_CHECK'},\n",
       "         'untoggledTooltip': 'Legg i køen',\n",
       "         'toggledTooltip': 'Lagt til',\n",
       "         'untoggledServiceEndpoint': {'clickTrackingParams': 'CKMBEMfsBBgCIhMI0fan57ax6gIV1ACJCh31DwTz',\n",
       "          'commandMetadata': {'webCommandMetadata': {'url': '/service_ajax',\n",
       "            'sendPost': True}},\n",
       "          'signalServiceEndpoint': {'signal': 'CLIENT_SIGNAL',\n",
       "           'actions': [{'clickTrackingParams': 'CKMBEMfsBBgCIhMI0fan57ax6gIV1ACJCh31DwTz',\n",
       "             'commandMetadata': {'webCommandMetadata': {}},\n",
       "             'addToPlaylistCommand': {'openMiniplayer': True,\n",
       "              'videoId': 'RGSk51ejdUQ',\n",
       "              'listType': 'PLAYLIST_EDIT_LIST_TYPE_QUEUE',\n",
       "              'onCreateListCommand': {'clickTrackingParams': 'CKMBEMfsBBgCIhMI0fan57ax6gIV1ACJCh31DwTz',\n",
       "               'commandMetadata': {'webCommandMetadata': {'url': '/service_ajax',\n",
       "                 'sendPost': True,\n",
       "                 'apiUrl': '/youtubei/v1/playlist/create'}},\n",
       "               'createPlaylistServiceEndpoint': {'videoIds': ['RGSk51ejdUQ'],\n",
       "                'params': 'CAQ%3D'}},\n",
       "              'videoIds': ['RGSk51ejdUQ']}}]}},\n",
       "         'untoggledAccessibility': {'accessibilityData': {'label': 'Legg i køen'}},\n",
       "         'toggledAccessibility': {'accessibilityData': {'label': 'Lagt til'}},\n",
       "         'trackingParams': 'CKMBEMfsBBgCIhMI0fan57ax6gIV1ACJCh31DwTz'}},\n",
       "       {'thumbnailOverlayNowPlayingRenderer': {'text': {'runs': [{'text': 'Spilles av nå'}]}}}]}},\n",
       "    {'videoRenderer': {'videoId': 'kewXtkGmDtw',\n",
       "      'thumbnail': {'thumbnails': [{'url': 'https://i.ytimg.com/vi/kewXtkGmDtw/hq720.jpg?sqp=-oaymwEjCOgCEMoBSFryq4qpAxUIARUAAAAAGAElAADIQj0AgKJDeAE=&rs=AOn4CLBmcM3kDsd4glwucvMnZjljLVoGgQ',\n",
       "         'width': 360,\n",
       "         'height': 202},\n",
       "        {'url': 'https://i.ytimg.com/vi/kewXtkGmDtw/hq720.jpg?sqp=-oaymwEXCNAFEJQDSFryq4qpAwkIARUAAIhCGAE=&rs=AOn4CLAnjAUbrT6uBHw6k7iBj0Tl-4EfPw',\n",
       "         'width': 720,\n",
       "         'height': 404}]},\n",
       "      'title': {'runs': [{'text': 'THIS MAN FLEW TO JAPAN TO SING ABBA IN A BIG COLD RIVER - Austin Weber - Official Video'}],\n",
       "       'accessibility': {'accessibilityData': {'label': 'THIS MAN FLEW TO JAPAN TO SING ABBA IN A BIG COLD RIVER - Austin Weber - Official Video av Austin Weber for 1 år siden 3 minutter og 50 sekunder Sett 7\\xa0762\\xa0811 ganger'}}},\n",
       "      'descriptionSnippet': {'runs': [{'text': 'official music video for \"'},\n",
       "        {'text': 'Mamma Mia', 'bold': True},\n",
       "        {'text': '\" by Austin Weber '},\n",
       "        {'text': 'MAMMA MIA', 'bold': True},\n",
       "        {'text': ' on SPOTIFY: https://spoti.fi/2QjSEXD connect with Austin\\xa0...'}]},\n",
       "      'longBylineText': {'runs': [{'text': 'Austin Weber',\n",
       "         'navigationEndpoint': {'clickTrackingParams': 'CJ4BENwwGAgiEwjR9qfntrHqAhXUAIkKHfUPBPM=',\n",
       "          'commandMetadata': {'webCommandMetadata': {'url': '/channel/UC40_SSGhqltppQC0HhYMjTA',\n",
       "            'webPageType': 'WEB_PAGE_TYPE_BROWSE',\n",
       "            'rootVe': 3611}},\n",
       "          'browseEndpoint': {'browseId': 'UC40_SSGhqltppQC0HhYMjTA',\n",
       "           'canonicalBaseUrl': '/channel/UC40_SSGhqltppQC0HhYMjTA'}}}]},\n",
       "      'publishedTimeText': {'simpleText': 'for 1 år siden'},\n",
       "      'lengthText': {'accessibility': {'accessibilityData': {'label': '3 minutter og 50 sekunder'}},\n",
       "       'simpleText': '3:50'},\n",
       "      'viewCountText': {'simpleText': 'Sett 7\\xa0762\\xa0811 ganger'},\n",
       "      'navigationEndpoint': {'clickTrackingParams': 'CJ4BENwwGAgiEwjR9qfntrHqAhXUAIkKHfUPBPMyBnNlYXJjaFIOQWJiYSBNYW1tYSBNaWGaAQMQ9CQ=',\n",
       "       'commandMetadata': {'webCommandMetadata': {'url': '/watch?v=kewXtkGmDtw',\n",
       "         'webPageType': 'WEB_PAGE_TYPE_WATCH',\n",
       "         'rootVe': 3832}},\n",
       "       'watchEndpoint': {'videoId': 'kewXtkGmDtw'}},\n",
       "      'ownerBadges': [{'metadataBadgeRenderer': {'icon': {'iconType': 'OFFICIAL_ARTIST_BADGE'},\n",
       "         'style': 'BADGE_STYLE_TYPE_VERIFIED_ARTIST',\n",
       "         'tooltip': 'Offisiell artistkanal',\n",
       "         'trackingParams': 'CJ4BENwwGAgiEwjR9qfntrHqAhXUAIkKHfUPBPM='}}],\n",
       "      'ownerText': {'runs': [{'text': 'Austin Weber',\n",
       "         'navigationEndpoint': {'clickTrackingParams': 'CJ4BENwwGAgiEwjR9qfntrHqAhXUAIkKHfUPBPM=',\n",
       "          'commandMetadata': {'webCommandMetadata': {'url': '/channel/UC40_SSGhqltppQC0HhYMjTA',\n",
       "            'webPageType': 'WEB_PAGE_TYPE_BROWSE',\n",
       "            'rootVe': 3611}},\n",
       "          'browseEndpoint': {'browseId': 'UC40_SSGhqltppQC0HhYMjTA',\n",
       "           'canonicalBaseUrl': '/channel/UC40_SSGhqltppQC0HhYMjTA'}}}]},\n",
       "      'shortBylineText': {'runs': [{'text': 'Austin Weber',\n",
       "         'navigationEndpoint': {'clickTrackingParams': 'CJ4BENwwGAgiEwjR9qfntrHqAhXUAIkKHfUPBPM=',\n",
       "          'commandMetadata': {'webCommandMetadata': {'url': '/channel/UC40_SSGhqltppQC0HhYMjTA',\n",
       "            'webPageType': 'WEB_PAGE_TYPE_BROWSE',\n",
       "            'rootVe': 3611}},\n",
       "          'browseEndpoint': {'browseId': 'UC40_SSGhqltppQC0HhYMjTA',\n",
       "           'canonicalBaseUrl': '/channel/UC40_SSGhqltppQC0HhYMjTA'}}}]},\n",
       "      'trackingParams': 'CJ4BENwwGAgiEwjR9qfntrHqAhXUAIkKHfUPBPNA3J2YjeT2hfaRAQ==',\n",
       "      'showActionMenu': False,\n",
       "      'shortViewCountText': {'simpleText': 'Sett 7,7\\xa0mill. ganger'},\n",
       "      'menu': {'menuRenderer': {'items': [{'menuServiceItemRenderer': {'text': {'runs': [{'text': 'Legg i køen'}]},\n",
       "           'icon': {'iconType': 'ADD_TO_QUEUE_TAIL'},\n",
       "           'serviceEndpoint': {'clickTrackingParams': 'CKEBEP6YBBgFIhMI0fan57ax6gIV1ACJCh31DwTz',\n",
       "            'commandMetadata': {'webCommandMetadata': {'url': '/service_ajax',\n",
       "              'sendPost': True}},\n",
       "            'signalServiceEndpoint': {'signal': 'CLIENT_SIGNAL',\n",
       "             'actions': [{'clickTrackingParams': 'CKEBEP6YBBgFIhMI0fan57ax6gIV1ACJCh31DwTz',\n",
       "               'commandMetadata': {'webCommandMetadata': {}},\n",
       "               'addToPlaylistCommand': {'openMiniplayer': True,\n",
       "                'videoId': 'kewXtkGmDtw',\n",
       "                'listType': 'PLAYLIST_EDIT_LIST_TYPE_QUEUE',\n",
       "                'onCreateListCommand': {'clickTrackingParams': 'CKEBEP6YBBgFIhMI0fan57ax6gIV1ACJCh31DwTz',\n",
       "                 'commandMetadata': {'webCommandMetadata': {'url': '/service_ajax',\n",
       "                   'sendPost': True,\n",
       "                   'apiUrl': '/youtubei/v1/playlist/create'}},\n",
       "                 'createPlaylistServiceEndpoint': {'videoIds': ['kewXtkGmDtw'],\n",
       "                  'params': 'CAQ%3D'}},\n",
       "                'videoIds': ['kewXtkGmDtw']}}]}},\n",
       "           'trackingParams': 'CKEBEP6YBBgFIhMI0fan57ax6gIV1ACJCh31DwTz'}}],\n",
       "        'trackingParams': 'CJ4BENwwGAgiEwjR9qfntrHqAhXUAIkKHfUPBPM=',\n",
       "        'accessibility': {'accessibilityData': {'label': 'Handlingsmeny'}}}},\n",
       "      'channelThumbnailSupportedRenderers': {'channelThumbnailWithLinkRenderer': {'thumbnail': {'thumbnails': [{'url': 'https://yt3.ggpht.com/a-/AOh14Gj6zllP32YDoyrpMc24Qo-vwQkIb1cbkwZe-Q=s68-c-k-c0x00ffffff-no-rj-mo',\n",
       "           'width': 68,\n",
       "           'height': 68}]},\n",
       "        'navigationEndpoint': {'clickTrackingParams': 'CJ4BENwwGAgiEwjR9qfntrHqAhXUAIkKHfUPBPM=',\n",
       "         'commandMetadata': {'webCommandMetadata': {'url': '/channel/UC40_SSGhqltppQC0HhYMjTA',\n",
       "           'webPageType': 'WEB_PAGE_TYPE_BROWSE',\n",
       "           'rootVe': 3611}},\n",
       "         'browseEndpoint': {'browseId': 'UC40_SSGhqltppQC0HhYMjTA'}},\n",
       "        'accessibility': {'accessibilityData': {'label': 'Gå til kanalen'}}}},\n",
       "      'thumbnailOverlays': [{'thumbnailOverlayTimeStatusRenderer': {'text': {'accessibility': {'accessibilityData': {'label': '3 minutter og 50 sekunder'}},\n",
       "          'simpleText': '3:50'},\n",
       "         'style': 'DEFAULT'}},\n",
       "       {'thumbnailOverlayToggleButtonRenderer': {'isToggled': False,\n",
       "         'untoggledIcon': {'iconType': 'WATCH_LATER'},\n",
       "         'toggledIcon': {'iconType': 'CHECK'},\n",
       "         'untoggledTooltip': 'Se senere',\n",
       "         'toggledTooltip': 'Lagt til',\n",
       "         'untoggledServiceEndpoint': {'clickTrackingParams': 'CKABEPnnAxgCIhMI0fan57ax6gIV1ACJCh31DwTz',\n",
       "          'commandMetadata': {'webCommandMetadata': {'url': '/service_ajax',\n",
       "            'sendPost': True,\n",
       "            'apiUrl': '/youtubei/v1/browse/edit_playlist'}},\n",
       "          'playlistEditEndpoint': {'playlistId': 'WL',\n",
       "           'actions': [{'addedVideoId': 'kewXtkGmDtw',\n",
       "             'action': 'ACTION_ADD_VIDEO'}]}},\n",
       "         'toggledServiceEndpoint': {'clickTrackingParams': 'CKABEPnnAxgCIhMI0fan57ax6gIV1ACJCh31DwTz',\n",
       "          'commandMetadata': {'webCommandMetadata': {'url': '/service_ajax',\n",
       "            'sendPost': True,\n",
       "            'apiUrl': '/youtubei/v1/browse/edit_playlist'}},\n",
       "          'playlistEditEndpoint': {'playlistId': 'WL',\n",
       "           'actions': [{'action': 'ACTION_REMOVE_VIDEO_BY_VIDEO_ID',\n",
       "             'removedVideoId': 'kewXtkGmDtw'}]}},\n",
       "         'untoggledAccessibility': {'accessibilityData': {'label': 'Se senere'}},\n",
       "         'toggledAccessibility': {'accessibilityData': {'label': 'Lagt til'}},\n",
       "         'trackingParams': 'CKABEPnnAxgCIhMI0fan57ax6gIV1ACJCh31DwTz'}},\n",
       "       {'thumbnailOverlayToggleButtonRenderer': {'untoggledIcon': {'iconType': 'ADD_TO_QUEUE_TAIL'},\n",
       "         'toggledIcon': {'iconType': 'PLAYLIST_ADD_CHECK'},\n",
       "         'untoggledTooltip': 'Legg i køen',\n",
       "         'toggledTooltip': 'Lagt til',\n",
       "         'untoggledServiceEndpoint': {'clickTrackingParams': 'CJ8BEMfsBBgDIhMI0fan57ax6gIV1ACJCh31DwTz',\n",
       "          'commandMetadata': {'webCommandMetadata': {'url': '/service_ajax',\n",
       "            'sendPost': True}},\n",
       "          'signalServiceEndpoint': {'signal': 'CLIENT_SIGNAL',\n",
       "           'actions': [{'clickTrackingParams': 'CJ8BEMfsBBgDIhMI0fan57ax6gIV1ACJCh31DwTz',\n",
       "             'commandMetadata': {'webCommandMetadata': {}},\n",
       "             'addToPlaylistCommand': {'openMiniplayer': True,\n",
       "              'videoId': 'kewXtkGmDtw',\n",
       "              'listType': 'PLAYLIST_EDIT_LIST_TYPE_QUEUE',\n",
       "              'onCreateListCommand': {'clickTrackingParams': 'CJ8BEMfsBBgDIhMI0fan57ax6gIV1ACJCh31DwTz',\n",
       "               'commandMetadata': {'webCommandMetadata': {'url': '/service_ajax',\n",
       "                 'sendPost': True,\n",
       "                 'apiUrl': '/youtubei/v1/playlist/create'}},\n",
       "               'createPlaylistServiceEndpoint': {'videoIds': ['kewXtkGmDtw'],\n",
       "                'params': 'CAQ%3D'}},\n",
       "              'videoIds': ['kewXtkGmDtw']}}]}},\n",
       "         'untoggledAccessibility': {'accessibilityData': {'label': 'Legg i køen'}},\n",
       "         'toggledAccessibility': {'accessibilityData': {'label': 'Lagt til'}},\n",
       "         'trackingParams': 'CJ8BEMfsBBgDIhMI0fan57ax6gIV1ACJCh31DwTz'}},\n",
       "       {'thumbnailOverlayNowPlayingRenderer': {'text': {'runs': [{'text': 'Spilles av nå'}]}}}]}},\n",
       "    {'horizontalCardListRenderer': {'cards': [{'searchRefinementCardRenderer': {'thumbnail': {'thumbnails': [{'url': '//i.ytimg.com/vi/xFrGuyw1V8s/mqdefault.jpg',\n",
       "            'width': 320,\n",
       "            'height': 180}]},\n",
       "         'query': {'runs': [{'text': 'Dancing Queen'}]},\n",
       "         'searchEndpoint': {'clickTrackingParams': 'CJ0BEJJaGAAiEwjR9qfntrHqAhXUAIkKHfUPBPM=',\n",
       "          'commandMetadata': {'webCommandMetadata': {'url': '/results?search_query=dancing+queen&sp=EiGSAR4KDS9nLzExYzNtdDFfZncqDWRhbmNpbmcgcXVlZW54AQ%253D%253D',\n",
       "            'webPageType': 'WEB_PAGE_TYPE_SEARCH',\n",
       "            'rootVe': 4724}},\n",
       "          'searchEndpoint': {'query': 'dancing queen',\n",
       "           'params': 'EiGSAR4KDS9nLzExYzNtdDFfZncqDWRhbmNpbmcgcXVlZW54AQ%3D%3D'}},\n",
       "         'trackingParams': 'CJ0BEJJaGAAiEwjR9qfntrHqAhXUAIkKHfUPBPM='}},\n",
       "       {'searchRefinementCardRenderer': {'thumbnail': {'thumbnails': [{'url': '//i.ytimg.com/vi/dQsjAbZDx-4/mqdefault.jpg',\n",
       "            'width': 320,\n",
       "            'height': 180}]},\n",
       "         'query': {'runs': [{'text': 'Fernando'}]},\n",
       "         'searchEndpoint': {'clickTrackingParams': 'CJwBEJJaGAEiEwjR9qfntrHqAhXUAIkKHfUPBPM=',\n",
       "          'commandMetadata': {'webCommandMetadata': {'url': '/results?search_query=fernando&sp=EhuSARgKDC9nLzFzMDVtX3ZnXyoIZmVybmFuZG94AQ%253D%253D',\n",
       "            'webPageType': 'WEB_PAGE_TYPE_SEARCH',\n",
       "            'rootVe': 4724}},\n",
       "          'searchEndpoint': {'query': 'fernando',\n",
       "           'params': 'EhuSARgKDC9nLzFzMDVtX3ZnXyoIZmVybmFuZG94AQ%3D%3D'}},\n",
       "         'trackingParams': 'CJwBEJJaGAEiEwjR9qfntrHqAhXUAIkKHfUPBPM='}},\n",
       "       {'searchRefinementCardRenderer': {'thumbnail': {'thumbnails': [{'url': '//i.ytimg.com/vi/p4QqMKe3rwY/mqdefault.jpg',\n",
       "            'width': 320,\n",
       "            'height': 180}]},\n",
       "         'query': {'runs': [{'text': 'Chiquitita'}]},\n",
       "         'searchEndpoint': {'clickTrackingParams': 'CJsBEJJaGAIiEwjR9qfntrHqAhXUAIkKHfUPBPM=',\n",
       "          'commandMetadata': {'webCommandMetadata': {'url': '/results?search_query=chiquitita&sp=Eh2SARoKDC9nLzFzMDVxejJ3OCoKY2hpcXVpdGl0YXgB',\n",
       "            'webPageType': 'WEB_PAGE_TYPE_SEARCH',\n",
       "            'rootVe': 4724}},\n",
       "          'searchEndpoint': {'query': 'chiquitita',\n",
       "           'params': 'Eh2SARoKDC9nLzFzMDVxejJ3OCoKY2hpcXVpdGl0YXgB'}},\n",
       "         'trackingParams': 'CJsBEJJaGAIiEwjR9qfntrHqAhXUAIkKHfUPBPM='}},\n",
       "       {'searchRefinementCardRenderer': {'thumbnail': {'thumbnails': [{'url': '//i.ytimg.com/vi/-crgQGdpZR0/mqdefault.jpg',\n",
       "            'width': 320,\n",
       "            'height': 180}]},\n",
       "         'query': {'runs': [{'text': 'Take A Chance On Me'}]},\n",
       "         'searchEndpoint': {'clickTrackingParams': 'CJoBEJJaGAMiEwjR9qfntrHqAhXUAIkKHfUPBPM=',\n",
       "          'commandMetadata': {'webCommandMetadata': {'url': '/results?search_query=take+a+chance+on+me&sp=EieSASQKDS9nLzExYzZ6MTBxZGgqE3Rha2UgYSBjaGFuY2Ugb24gbWV4AQ%253D%253D',\n",
       "            'webPageType': 'WEB_PAGE_TYPE_SEARCH',\n",
       "            'rootVe': 4724}},\n",
       "          'searchEndpoint': {'query': 'take a chance on me',\n",
       "           'params': 'EieSASQKDS9nLzExYzZ6MTBxZGgqE3Rha2UgYSBjaGFuY2Ugb24gbWV4AQ%3D%3D'}},\n",
       "         'trackingParams': 'CJoBEJJaGAMiEwjR9qfntrHqAhXUAIkKHfUPBPM='}},\n",
       "       {'searchRefinementCardRenderer': {'thumbnail': {'thumbnails': [{'url': '//i.ytimg.com/vi/BshxCIjNEjY/mqdefault.jpg',\n",
       "            'width': 320,\n",
       "            'height': 180}]},\n",
       "         'query': {'runs': [{'text': 'Super Trouper'}]},\n",
       "         'searchEndpoint': {'clickTrackingParams': 'CJkBEJJaGAQiEwjR9qfntrHqAhXUAIkKHfUPBPM=',\n",
       "          'commandMetadata': {'webCommandMetadata': {'url': '/results?search_query=super+trouper&sp=EiCSAR0KDC9nLzFxNWo0MWhmeSoNc3VwZXIgdHJvdXBlcngB',\n",
       "            'webPageType': 'WEB_PAGE_TYPE_SEARCH',\n",
       "            'rootVe': 4724}},\n",
       "          'searchEndpoint': {'query': 'super trouper',\n",
       "           'params': 'EiCSAR0KDC9nLzFxNWo0MWhmeSoNc3VwZXIgdHJvdXBlcngB'}},\n",
       "         'trackingParams': 'CJkBEJJaGAQiEwjR9qfntrHqAhXUAIkKHfUPBPM='}},\n",
       "       {'searchRefinementCardRenderer': {'thumbnail': {'thumbnails': [{'url': '//i.ytimg.com/vi/iyIOl-s7JTU/mqdefault.jpg',\n",
       "            'width': 320,\n",
       "            'height': 180}]},\n",
       "         'query': {'runs': [{'text': 'The Winner Takes It All'}]},\n",
       "         'searchEndpoint': {'clickTrackingParams': 'CJgBEJJaGAUiEwjR9qfntrHqAhXUAIkKHfUPBPM=',\n",
       "          'commandMetadata': {'webCommandMetadata': {'url': '/results?search_query=the+winner+takes+it+all&sp=EiqSAScKDC9nLzFxNWpnZzJyaioXdGhlIHdpbm5lciB0YWtlcyBpdCBhbGx4AQ%253D%253D',\n",
       "            'webPageType': 'WEB_PAGE_TYPE_SEARCH',\n",
       "            'rootVe': 4724}},\n",
       "          'searchEndpoint': {'query': 'the winner takes it all',\n",
       "           'params': 'EiqSAScKDC9nLzFxNWpnZzJyaioXdGhlIHdpbm5lciB0YWtlcyBpdCBhbGx4AQ%3D%3D'}},\n",
       "         'trackingParams': 'CJgBEJJaGAUiEwjR9qfntrHqAhXUAIkKHfUPBPM='}},\n",
       "       {'searchRefinementCardRenderer': {'thumbnail': {'thumbnails': [{'url': '//i.ytimg.com/vi/Sj_9CiNkkn4/mqdefault.jpg',\n",
       "            'width': 320,\n",
       "            'height': 180}]},\n",
       "         'query': {'runs': [{'text': 'Waterloo'}]},\n",
       "         'searchEndpoint': {'clickTrackingParams': 'CJcBEJJaGAYiEwjR9qfntrHqAhXUAIkKHfUPBPM=',\n",
       "          'commandMetadata': {'webCommandMetadata': {'url': '/results?search_query=waterloo&sp=EhuSARgKDC9nLzFxNWpiN2NzeCoId2F0ZXJsb294AQ%253D%253D',\n",
       "            'webPageType': 'WEB_PAGE_TYPE_SEARCH',\n",
       "            'rootVe': 4724}},\n",
       "          'searchEndpoint': {'query': 'waterloo',\n",
       "           'params': 'EhuSARgKDC9nLzFxNWpiN2NzeCoId2F0ZXJsb294AQ%3D%3D'}},\n",
       "         'trackingParams': 'CJcBEJJaGAYiEwjR9qfntrHqAhXUAIkKHfUPBPM='}},\n",
       "       {'searchRefinementCardRenderer': {'thumbnail': {'thumbnails': [{'url': '//i.ytimg.com/vi/0dcbw4IEY5w/mqdefault.jpg',\n",
       "            'width': 320,\n",
       "            'height': 180}]},\n",
       "         'query': {'runs': [{'text': 'Thank You for the Music'}]},\n",
       "         'searchEndpoint': {'clickTrackingParams': 'CJYBEJJaGAciEwjR9qfntrHqAhXUAIkKHfUPBPM=',\n",
       "          'commandMetadata': {'webCommandMetadata': {'url': '/results?search_query=thank+you+for+the+music&sp=EiqSAScKDC9nLzFzMDVtZGdjeSoXdGhhbmsgeW91IGZvciB0aGUgbXVzaWN4AQ%253D%253D',\n",
       "            'webPageType': 'WEB_PAGE_TYPE_SEARCH',\n",
       "            'rootVe': 4724}},\n",
       "          'searchEndpoint': {'query': 'thank you for the music',\n",
       "           'params': 'EiqSAScKDC9nLzFzMDVtZGdjeSoXdGhhbmsgeW91IGZvciB0aGUgbXVzaWN4AQ%3D%3D'}},\n",
       "         'trackingParams': 'CJYBEJJaGAciEwjR9qfntrHqAhXUAIkKHfUPBPM='}},\n",
       "       {'searchRefinementCardRenderer': {'thumbnail': {'thumbnails': [{'url': '//i.ytimg.com/vi/tTGfX-aDS5Q/mqdefault.jpg',\n",
       "            'width': 320,\n",
       "            'height': 180}]},\n",
       "         'query': {'runs': [{'text': 'Honey Honey'}]},\n",
       "         'searchEndpoint': {'clickTrackingParams': 'CJUBEJJaGAgiEwjR9qfntrHqAhXUAIkKHfUPBPM=',\n",
       "          'commandMetadata': {'webCommandMetadata': {'url': '/results?search_query=honey+honey&sp=Eh6SARsKDC9nLzFzMDV0X3YxbSoLaG9uZXkgaG9uZXl4AQ%253D%253D',\n",
       "            'webPageType': 'WEB_PAGE_TYPE_SEARCH',\n",
       "            'rootVe': 4724}},\n",
       "          'searchEndpoint': {'query': 'honey honey',\n",
       "           'params': 'Eh6SARsKDC9nLzFzMDV0X3YxbSoLaG9uZXkgaG9uZXl4AQ%3D%3D'}},\n",
       "         'trackingParams': 'CJUBEJJaGAgiEwjR9qfntrHqAhXUAIkKHfUPBPM='}},\n",
       "       {'searchRefinementCardRenderer': {'thumbnail': {'thumbnails': [{'url': '//i.ytimg.com/vi/2seCB54Bv-c/mqdefault.jpg',\n",
       "            'width': 320,\n",
       "            'height': 180}]},\n",
       "         'query': {'runs': [{'text': 'Lay All Your Love On Me'}]},\n",
       "         'searchEndpoint': {'clickTrackingParams': 'CJQBEJJaGAkiEwjR9qfntrHqAhXUAIkKHfUPBPM=',\n",
       "          'commandMetadata': {'webCommandMetadata': {'url': '/results?search_query=lay+all+your+love+on+me&sp=EiqSAScKDC9nLzFxNWp4ZmQweSoXbGF5IGFsbCB5b3VyIGxvdmUgb24gbWV4AQ%253D%253D',\n",
       "            'webPageType': 'WEB_PAGE_TYPE_SEARCH',\n",
       "            'rootVe': 4724}},\n",
       "          'searchEndpoint': {'query': 'lay all your love on me',\n",
       "           'params': 'EiqSAScKDC9nLzFxNWp4ZmQweSoXbGF5IGFsbCB5b3VyIGxvdmUgb24gbWV4AQ%3D%3D'}},\n",
       "         'trackingParams': 'CJQBEJJaGAkiEwjR9qfntrHqAhXUAIkKHfUPBPM='}},\n",
       "       {'searchRefinementCardRenderer': {'thumbnail': {'thumbnails': [{'url': '//i.ytimg.com/vi/WkL7Fkigfn8/mqdefault.jpg',\n",
       "            'width': 320,\n",
       "            'height': 180}]},\n",
       "         'query': {'runs': [{'text': 'Does Your Mother Know'}]},\n",
       "         'searchEndpoint': {'clickTrackingParams': 'CJMBEJJaGAoiEwjR9qfntrHqAhXUAIkKHfUPBPM=',\n",
       "          'commandMetadata': {'webCommandMetadata': {'url': '/results?search_query=does+your+mother+know&sp=EiiSASUKDC9nLzFzMDVtcGp3bCoVZG9lcyB5b3VyIG1vdGhlciBrbm93eAE%253D',\n",
       "            'webPageType': 'WEB_PAGE_TYPE_SEARCH',\n",
       "            'rootVe': 4724}},\n",
       "          'searchEndpoint': {'query': 'does your mother know',\n",
       "           'params': 'EiiSASUKDC9nLzFzMDVtcGp3bCoVZG9lcyB5b3VyIG1vdGhlciBrbm93eAE%3D'}},\n",
       "         'trackingParams': 'CJMBEJJaGAoiEwjR9qfntrHqAhXUAIkKHfUPBPM='}},\n",
       "       {'searchRefinementCardRenderer': {'thumbnail': {'thumbnails': [{'url': '//i.ytimg.com/vi/TL0EoXdpOqg/mqdefault.jpg',\n",
       "            'width': 320,\n",
       "            'height': 180}]},\n",
       "         'query': {'runs': [{'text': 'Ring Ring'}]},\n",
       "         'searchEndpoint': {'clickTrackingParams': 'CJIBEJJaGAsiEwjR9qfntrHqAhXUAIkKHfUPBPM=',\n",
       "          'commandMetadata': {'webCommandMetadata': {'url': '/results?search_query=ring+ring&sp=EhySARkKDC9nLzFzMDV0MjFicyoJcmluZyByaW5neAE%253D',\n",
       "            'webPageType': 'WEB_PAGE_TYPE_SEARCH',\n",
       "            'rootVe': 4724}},\n",
       "          'searchEndpoint': {'query': 'ring ring',\n",
       "           'params': 'EhySARkKDC9nLzFzMDV0MjFicyoJcmluZyByaW5neAE%3D'}},\n",
       "         'trackingParams': 'CJIBEJJaGAsiEwjR9qfntrHqAhXUAIkKHfUPBPM='}},\n",
       "       {'searchRefinementCardRenderer': {'thumbnail': {'thumbnails': [{'url': '//i.ytimg.com/vi/IIKAe8Wi0S0/mqdefault.jpg',\n",
       "            'width': 320,\n",
       "            'height': 180}]},\n",
       "         'query': {'runs': [{'text': 'One of Us'}]},\n",
       "         'searchEndpoint': {'clickTrackingParams': 'CJEBEJJaGAwiEwjR9qfntrHqAhXUAIkKHfUPBPM=',\n",
       "          'commandMetadata': {'webCommandMetadata': {'url': '/results?search_query=one+of+us&sp=EhySARkKDC9nLzFxNWo3ODYwOCoJb25lIG9mIHVzeAE%253D',\n",
       "            'webPageType': 'WEB_PAGE_TYPE_SEARCH',\n",
       "            'rootVe': 4724}},\n",
       "          'searchEndpoint': {'query': 'one of us',\n",
       "           'params': 'EhySARkKDC9nLzFxNWo3ODYwOCoJb25lIG9mIHVzeAE%3D'}},\n",
       "         'trackingParams': 'CJEBEJJaGAwiEwjR9qfntrHqAhXUAIkKHfUPBPM='}},\n",
       "       {'searchRefinementCardRenderer': {'thumbnail': {'thumbnails': [{'url': '//i.ytimg.com/vi/zqv3YesdtRU/mqdefault.jpg',\n",
       "            'width': 320,\n",
       "            'height': 180}]},\n",
       "         'query': {'runs': [{'text': 'Super Trouper'}]},\n",
       "         'searchEndpoint': {'clickTrackingParams': 'CJABEJJaGA0iEwjR9qfntrHqAhXUAIkKHfUPBPM=',\n",
       "          'commandMetadata': {'webCommandMetadata': {'url': '/results?search_query=super+trouper&sp=EiGSAR4KDS9nLzExYzNrbXp4dnMqDXN1cGVyIHRyb3VwZXJ4AQ%253D%253D',\n",
       "            'webPageType': 'WEB_PAGE_TYPE_SEARCH',\n",
       "            'rootVe': 4724}},\n",
       "          'searchEndpoint': {'query': 'super trouper',\n",
       "           'params': 'EiGSAR4KDS9nLzExYzNrbXp4dnMqDXN1cGVyIHRyb3VwZXJ4AQ%3D%3D'}},\n",
       "         'trackingParams': 'CJABEJJaGA0iEwjR9qfntrHqAhXUAIkKHfUPBPM='}},\n",
       "       {'searchRefinementCardRenderer': {'thumbnail': {'thumbnails': [{'url': '//i.ytimg.com/vi/fNFzfwLM72c/mqdefault.jpg',\n",
       "            'width': 320,\n",
       "            'height': 180}]},\n",
       "         'query': {'runs': [{'text': \"Stayin' Alive\"}]},\n",
       "         'searchEndpoint': {'clickTrackingParams': 'CI8BEJJaGA4iEwjR9qfntrHqAhXUAIkKHfUPBPM=',\n",
       "          'commandMetadata': {'webCommandMetadata': {'url': '/results?search_query=staying+alive&sp=EiGSAR4KDS9nLzExZjI2N3Q3ejMqDXN0YXlpbmcgYWxpdmV4AQ%253D%253D',\n",
       "            'webPageType': 'WEB_PAGE_TYPE_SEARCH',\n",
       "            'rootVe': 4724}},\n",
       "          'searchEndpoint': {'query': 'staying alive',\n",
       "           'params': 'EiGSAR4KDS9nLzExZjI2N3Q3ejMqDXN0YXlpbmcgYWxpdmV4AQ%3D%3D'}},\n",
       "         'trackingParams': 'CI8BEJJaGA4iEwjR9qfntrHqAhXUAIkKHfUPBPM='}}],\n",
       "      'trackingParams': 'CI0BEJFaGAkiEwjR9qfntrHqAhXUAIkKHfUPBPM=',\n",
       "      'header': {'richListHeaderRenderer': {'title': {'simpleText': 'Andre søker også etter'},\n",
       "        'trackingParams': 'CI4BEK2qASITCNH2p-e2seoCFdQAiQod9Q8E8w=='}},\n",
       "      'style': {'type': 'HORIZONTAL_CARD_LIST_STYLE_TYPE_NARROW_SHELF'}}},\n",
       "    {'movieRenderer': {'videoId': 'xZijMBNz56I',\n",
       "      'thumbnail': {'thumbnails': [{'url': 'https://i.ytimg.com/vi/xZijMBNz56I/movieposter.jpg',\n",
       "         'width': 279,\n",
       "         'height': 402}]},\n",
       "      'title': {'runs': [{'text': 'Mamma Mia!'}],\n",
       "       'accessibility': {'accessibilityData': {'label': 'Mamma Mia! av YouTube-filmer for 6 år siden 1 time og 48 minutter'}}},\n",
       "      'descriptionSnippet': {'runs': [{'text': 'Have the time of your life with Meryl Streep and an all-star cast in this undeniably fun celebration of mothers and daughters, old\\xa0...'}]},\n",
       "      'longBylineText': {'runs': [{'text': 'YouTube-filmer',\n",
       "         'navigationEndpoint': {'clickTrackingParams': 'CIgBEIszGAoiEwjR9qfntrHqAhXUAIkKHfUPBPM=',\n",
       "          'commandMetadata': {'webCommandMetadata': {'url': '/channel/UClgRkhTL3_hImCAmdLfDE4g',\n",
       "            'webPageType': 'WEB_PAGE_TYPE_BROWSE',\n",
       "            'rootVe': 3611}},\n",
       "          'browseEndpoint': {'browseId': 'UClgRkhTL3_hImCAmdLfDE4g'}}}]},\n",
       "      'shortBylineText': {'runs': [{'text': 'YouTube-filmer',\n",
       "         'navigationEndpoint': {'clickTrackingParams': 'CIgBEIszGAoiEwjR9qfntrHqAhXUAIkKHfUPBPM=',\n",
       "          'commandMetadata': {'webCommandMetadata': {'url': '/channel/UClgRkhTL3_hImCAmdLfDE4g',\n",
       "            'webPageType': 'WEB_PAGE_TYPE_BROWSE',\n",
       "            'rootVe': 3611}},\n",
       "          'browseEndpoint': {'browseId': 'UClgRkhTL3_hImCAmdLfDE4g'}}}]},\n",
       "      'lengthText': {'accessibility': {'accessibilityData': {'label': '1 time, 48 minutter og 42 sekunder'}},\n",
       "       'simpleText': '1:48:42'},\n",
       "      'navigationEndpoint': {'clickTrackingParams': 'CIgBEIszGAoiEwjR9qfntrHqAhXUAIkKHfUPBPMyBnNlYXJjaFIOQWJiYSBNYW1tYSBNaWGaAQMQ9CQ=',\n",
       "       'commandMetadata': {'webCommandMetadata': {'url': '/watch?v=xZijMBNz56I',\n",
       "         'webPageType': 'WEB_PAGE_TYPE_WATCH',\n",
       "         'rootVe': 3832}},\n",
       "       'watchEndpoint': {'videoId': 'xZijMBNz56I'}},\n",
       "      'badges': [{'metadataBadgeRenderer': {'style': 'BADGE_STYLE_TYPE_SIMPLE',\n",
       "         'label': 'Teksting',\n",
       "         'trackingParams': 'CIgBEIszGAoiEwjR9qfntrHqAhXUAIkKHfUPBPM='}}],\n",
       "      'ownerBadges': [{'metadataBadgeRenderer': {'icon': {'iconType': 'CHECK_CIRCLE_THICK'},\n",
       "         'style': 'BADGE_STYLE_TYPE_VERIFIED',\n",
       "         'tooltip': 'Bekreftet',\n",
       "         'trackingParams': 'CIgBEIszGAoiEwjR9qfntrHqAhXUAIkKHfUPBPM='}}],\n",
       "      'trackingParams': 'CIgBEIszGAoiEwjR9qfntrHqAhXUAIkKHfUPBPM=',\n",
       "      'menu': {'menuRenderer': {'items': [{'menuServiceItemRenderer': {'text': {'runs': [{'text': 'Legg i køen'}]},\n",
       "           'icon': {'iconType': 'ADD_TO_QUEUE_TAIL'},\n",
       "           'serviceEndpoint': {'clickTrackingParams': 'CIwBEP6YBBgGIhMI0fan57ax6gIV1ACJCh31DwTz',\n",
       "            'commandMetadata': {'webCommandMetadata': {'url': '/service_ajax',\n",
       "              'sendPost': True}},\n",
       "            'signalServiceEndpoint': {'signal': 'CLIENT_SIGNAL',\n",
       "             'actions': [{'clickTrackingParams': 'CIwBEP6YBBgGIhMI0fan57ax6gIV1ACJCh31DwTz',\n",
       "               'commandMetadata': {'webCommandMetadata': {}},\n",
       "               'addToPlaylistCommand': {'openMiniplayer': True,\n",
       "                'videoId': 'xZijMBNz56I',\n",
       "                'listType': 'PLAYLIST_EDIT_LIST_TYPE_QUEUE',\n",
       "                'onCreateListCommand': {'clickTrackingParams': 'CIwBEP6YBBgGIhMI0fan57ax6gIV1ACJCh31DwTz',\n",
       "                 'commandMetadata': {'webCommandMetadata': {'url': '/service_ajax',\n",
       "                   'sendPost': True,\n",
       "                   'apiUrl': '/youtubei/v1/playlist/create'}},\n",
       "                 'createPlaylistServiceEndpoint': {'videoIds': ['xZijMBNz56I'],\n",
       "                  'params': 'CAQ%3D'}},\n",
       "                'videoIds': ['xZijMBNz56I']}}]}},\n",
       "           'trackingParams': 'CIwBEP6YBBgGIhMI0fan57ax6gIV1ACJCh31DwTz'}}],\n",
       "        'trackingParams': 'CIgBEIszGAoiEwjR9qfntrHqAhXUAIkKHfUPBPM=',\n",
       "        'accessibility': {'accessibilityData': {'label': 'Handlingsmeny'}}}},\n",
       "      'topMetadataItems': [{'simpleText': 'Musikk · 2008 · 12 · engelsk tale'}],\n",
       "      'bottomMetadataItems': [{'simpleText': 'Skuespillere: Meryl Streep, Pierce Brosnan, Colin Firth'},\n",
       "       {'simpleText': 'Regissør: Phyllida Lloyd'}],\n",
       "      'useVerticalPoster': True,\n",
       "      'offerButton': {'buttonRenderer': {'style': 'STYLE_PRIMARY',\n",
       "        'size': 'SIZE_LARGE',\n",
       "        'text': {'simpleText': 'Kjøp eller lei'},\n",
       "        'navigationEndpoint': {'clickTrackingParams': 'CIsBEPBbIhMI0fan57ax6gIV1ACJCh31DwTzMg95cGNfdHJhbnNhY3Rpb24=',\n",
       "         'commandMetadata': {'webCommandMetadata': {'url': 'https://accounts.google.com/ServiceLogin?service=youtube&uilel=3&passive=true&continue=https%3A%2F%2Fwww.youtube.com%2Fsignin%3Faction_handle_signin%3Dtrue%26app%3Ddesktop%26hl%3Dno%26next%3Dhttps%253A%252F%252Fwww.youtube.com%252Fresults%253Fsearch_query%253DAbba%252BMamma%252BMia%2526ypc_goe%253DAIhNbf4Xg-_Qqy3LGhU1_tQS6wyVDZHUGAQhmDYgUlL-bUOOe0mOmfwC-6A1etSAByytXL-PWcaCwPucBG67Yehlohoft9Ed6JPAGZt3hCyEL6iEJidz9w0&hl=no',\n",
       "           'rootVe': 83769}},\n",
       "         'signInEndpoint': {'nextEndpoint': {'clickTrackingParams': 'CIsBEPBbIhMI0fan57ax6gIV1ACJCh31DwTz',\n",
       "           'commandMetadata': {'webCommandMetadata': {'url': 'https://www.youtube.com/results?search_query=Abba+Mamma+Mia&ypc_goe=AIhNbf4Xg-_Qqy3LGhU1_tQS6wyVDZHUGAQhmDYgUlL-bUOOe0mOmfwC-6A1etSAByytXL-PWcaCwPucBG67Yehlohoft9Ed6JPAGZt3hCyEL6iEJidz9w0',\n",
       "             'rootVe': 83769}},\n",
       "           'urlEndpoint': {'url': 'https://www.youtube.com/results?search_query=Abba+Mamma+Mia&ypc_goe=AIhNbf4Xg-_Qqy3LGhU1_tQS6wyVDZHUGAQhmDYgUlL-bUOOe0mOmfwC-6A1etSAByytXL-PWcaCwPucBG67Yehlohoft9Ed6JPAGZt3hCyEL6iEJidz9w0'}}}},\n",
       "        'trackingParams': 'CIsBEPBbIhMI0fan57ax6gIV1ACJCh31DwTz'}},\n",
       "      'showActionMenu': False,\n",
       "      'thumbnailOverlays': [{'thumbnailOverlayTimeStatusRenderer': {'text': {'accessibility': {'accessibilityData': {'label': '1 time, 48 minutter og 42 sekunder'}},\n",
       "          'simpleText': '1:48:42'},\n",
       "         'style': 'DEFAULT'}},\n",
       "       {'thumbnailOverlayToggleButtonRenderer': {'isToggled': False,\n",
       "         'untoggledIcon': {'iconType': 'WATCH_LATER'},\n",
       "         'toggledIcon': {'iconType': 'CHECK'},\n",
       "         'untoggledTooltip': 'Se senere',\n",
       "         'toggledTooltip': 'Lagt til',\n",
       "         'untoggledServiceEndpoint': {'clickTrackingParams': 'CIoBEPnnAxgDIhMI0fan57ax6gIV1ACJCh31DwTz',\n",
       "          'commandMetadata': {'webCommandMetadata': {'url': '/service_ajax',\n",
       "            'sendPost': True,\n",
       "            'apiUrl': '/youtubei/v1/browse/edit_playlist'}},\n",
       "          'playlistEditEndpoint': {'playlistId': 'WL',\n",
       "           'actions': [{'addedVideoId': 'xZijMBNz56I',\n",
       "             'action': 'ACTION_ADD_VIDEO'}]}},\n",
       "         'toggledServiceEndpoint': {'clickTrackingParams': 'CIoBEPnnAxgDIhMI0fan57ax6gIV1ACJCh31DwTz',\n",
       "          'commandMetadata': {'webCommandMetadata': {'url': '/service_ajax',\n",
       "            'sendPost': True,\n",
       "            'apiUrl': '/youtubei/v1/browse/edit_playlist'}},\n",
       "          'playlistEditEndpoint': {'playlistId': 'WL',\n",
       "           'actions': [{'action': 'ACTION_REMOVE_VIDEO_BY_VIDEO_ID',\n",
       "             'removedVideoId': 'xZijMBNz56I'}]}},\n",
       "         'untoggledAccessibility': {'accessibilityData': {'label': 'Se senere'}},\n",
       "         'toggledAccessibility': {'accessibilityData': {'label': 'Lagt til'}},\n",
       "         'trackingParams': 'CIoBEPnnAxgDIhMI0fan57ax6gIV1ACJCh31DwTz'}},\n",
       "       {'thumbnailOverlayToggleButtonRenderer': {'untoggledIcon': {'iconType': 'ADD_TO_QUEUE_TAIL'},\n",
       "         'toggledIcon': {'iconType': 'PLAYLIST_ADD_CHECK'},\n",
       "         'untoggledTooltip': 'Legg i køen',\n",
       "         'toggledTooltip': 'Lagt til',\n",
       "         'untoggledServiceEndpoint': {'clickTrackingParams': 'CIkBEMfsBBgEIhMI0fan57ax6gIV1ACJCh31DwTz',\n",
       "          'commandMetadata': {'webCommandMetadata': {'url': '/service_ajax',\n",
       "            'sendPost': True}},\n",
       "          'signalServiceEndpoint': {'signal': 'CLIENT_SIGNAL',\n",
       "           'actions': [{'clickTrackingParams': 'CIkBEMfsBBgEIhMI0fan57ax6gIV1ACJCh31DwTz',\n",
       "             'commandMetadata': {'webCommandMetadata': {}},\n",
       "             'addToPlaylistCommand': {'openMiniplayer': True,\n",
       "              'videoId': 'xZijMBNz56I',\n",
       "              'listType': 'PLAYLIST_EDIT_LIST_TYPE_QUEUE',\n",
       "              'onCreateListCommand': {'clickTrackingParams': 'CIkBEMfsBBgEIhMI0fan57ax6gIV1ACJCh31DwTz',\n",
       "               'commandMetadata': {'webCommandMetadata': {'url': '/service_ajax',\n",
       "                 'sendPost': True,\n",
       "                 'apiUrl': '/youtubei/v1/playlist/create'}},\n",
       "               'createPlaylistServiceEndpoint': {'videoIds': ['xZijMBNz56I'],\n",
       "                'params': 'CAQ%3D'}},\n",
       "              'videoIds': ['xZijMBNz56I']}}]}},\n",
       "         'untoggledAccessibility': {'accessibilityData': {'label': 'Legg i køen'}},\n",
       "         'toggledAccessibility': {'accessibilityData': {'label': 'Lagt til'}},\n",
       "         'trackingParams': 'CIkBEMfsBBgEIhMI0fan57ax6gIV1ACJCh31DwTz'}},\n",
       "       {'thumbnailOverlayNowPlayingRenderer': {'text': {'runs': [{'text': 'Spilles av nå'}]}}}]}},\n",
       "    {'playlistRenderer': {'playlistId': 'PLrrQclmFn_7cfbELsVdc1F5SoKdNWCIWf',\n",
       "      'title': {'simpleText': 'Mamma Mia soundtrack'},\n",
       "      'thumbnails': [{'thumbnails': [{'url': 'https://i.ytimg.com/vi/b6Zh-sD3Wg0/hqdefault.jpg?sqp=-oaymwEWCKgBEF5IWvKriqkDCQgBFQAAiEIYAQ==&rs=AOn4CLC3Loa9unYJR5aJdndpWCNKSiCq8g',\n",
       "          'width': 168,\n",
       "          'height': 94},\n",
       "         {'url': 'https://i.ytimg.com/vi/b6Zh-sD3Wg0/hqdefault.jpg?sqp=-oaymwEWCMQBEG5IWvKriqkDCQgBFQAAiEIYAQ==&rs=AOn4CLDmry_ixNI6HhL3YisfZFB-1kwygQ',\n",
       "          'width': 196,\n",
       "          'height': 110},\n",
       "         {'url': 'https://i.ytimg.com/vi/b6Zh-sD3Wg0/hqdefault.jpg?sqp=-oaymwEXCPYBEIoBSFryq4qpAwkIARUAAIhCGAE=&rs=AOn4CLC8ZncYE4TeDC5tIAwqqaIV-gaEhA',\n",
       "          'width': 246,\n",
       "          'height': 138},\n",
       "         {'url': 'https://i.ytimg.com/vi/b6Zh-sD3Wg0/hqdefault.jpg?sqp=-oaymwEXCNACELwBSFryq4qpAwkIARUAAIhCGAE=&rs=AOn4CLDaAAXSSDnHpxcBn7000Li2YYy1Tw',\n",
       "          'width': 336,\n",
       "          'height': 188}]},\n",
       "       {'thumbnails': [{'url': 'https://i.ytimg.com/vi/y6h5BUSo9Vw/default.jpg',\n",
       "          'width': 43,\n",
       "          'height': 20}]},\n",
       "       {'thumbnails': [{'url': 'https://i.ytimg.com/vi/MFKqiFG6HVs/default.jpg',\n",
       "          'width': 43,\n",
       "          'height': 20}]},\n",
       "       {'thumbnails': [{'url': 'https://i.ytimg.com/vi/Do8oqR2TR1M/default.jpg',\n",
       "          'width': 43,\n",
       "          'height': 20}]},\n",
       "       {'thumbnails': [{'url': 'https://i.ytimg.com/vi/g-qF3GuAozw/default.jpg',\n",
       "          'width': 43,\n",
       "          'height': 20}]}],\n",
       "      'videoCount': '19',\n",
       "      'navigationEndpoint': {'clickTrackingParams': 'CIcBENswGAsiEwjR9qfntrHqAhXUAIkKHfUPBPMyBnNlYXJjaA==',\n",
       "       'commandMetadata': {'webCommandMetadata': {'url': '/watch?v=b6Zh-sD3Wg0&list=PLrrQclmFn_7cfbELsVdc1F5SoKdNWCIWf',\n",
       "         'webPageType': 'WEB_PAGE_TYPE_WATCH',\n",
       "         'rootVe': 3832}},\n",
       "       'watchEndpoint': {'videoId': 'b6Zh-sD3Wg0',\n",
       "        'playlistId': 'PLrrQclmFn_7cfbELsVdc1F5SoKdNWCIWf',\n",
       "        'params': 'OAI%3D'}},\n",
       "      'viewPlaylistText': {'runs': [{'text': 'Se hele spillelisten',\n",
       "         'navigationEndpoint': {'clickTrackingParams': 'CIcBENswGAsiEwjR9qfntrHqAhXUAIkKHfUPBPMyBnNlYXJjaA==',\n",
       "          'commandMetadata': {'webCommandMetadata': {'url': '/playlist?list=PLrrQclmFn_7cfbELsVdc1F5SoKdNWCIWf',\n",
       "            'webPageType': 'WEB_PAGE_TYPE_BROWSE',\n",
       "            'rootVe': 5754}},\n",
       "          'browseEndpoint': {'browseId': 'VLPLrrQclmFn_7cfbELsVdc1F5SoKdNWCIWf'}}}]},\n",
       "      'shortBylineText': {'runs': [{'text': 'That singing girl',\n",
       "         'navigationEndpoint': {'clickTrackingParams': 'CIcBENswGAsiEwjR9qfntrHqAhXUAIkKHfUPBPMyBnNlYXJjaA==',\n",
       "          'commandMetadata': {'webCommandMetadata': {'url': '/user/lulu20024',\n",
       "            'webPageType': 'WEB_PAGE_TYPE_BROWSE',\n",
       "            'rootVe': 3611}},\n",
       "          'browseEndpoint': {'browseId': 'UCLzvvhASB-in1gISBa65_mA',\n",
       "           'canonicalBaseUrl': '/user/lulu20024'}}}]},\n",
       "      'videos': [{'childVideoRenderer': {'title': {'simpleText': \"Honey, Honey (From 'Mamma Mia!' Original Motion Picture Soundtrack)\"},\n",
       "         'navigationEndpoint': {'clickTrackingParams': 'CIcBENswGAsiEwjR9qfntrHqAhXUAIkKHfUPBPMyBnNlYXJjaA==',\n",
       "          'commandMetadata': {'webCommandMetadata': {'url': '/watch?v=b6Zh-sD3Wg0&list=PLrrQclmFn_7cfbELsVdc1F5SoKdNWCIWf',\n",
       "            'webPageType': 'WEB_PAGE_TYPE_WATCH',\n",
       "            'rootVe': 3832}},\n",
       "          'watchEndpoint': {'videoId': 'b6Zh-sD3Wg0',\n",
       "           'playlistId': 'PLrrQclmFn_7cfbELsVdc1F5SoKdNWCIWf'}},\n",
       "         'lengthText': {'accessibility': {'accessibilityData': {'label': '3 minutter og 8 sekunder'}},\n",
       "          'simpleText': '3:08'},\n",
       "         'videoId': 'b6Zh-sD3Wg0'}},\n",
       "       {'childVideoRenderer': {'title': {'simpleText': \"Money, Money, Money (From 'Mamma Mia!' Original Motion Picture Soundtrack)\"},\n",
       "         'navigationEndpoint': {'clickTrackingParams': 'CIcBENswGAsiEwjR9qfntrHqAhXUAIkKHfUPBPMyBnNlYXJjaA==',\n",
       "          'commandMetadata': {'webCommandMetadata': {'url': '/watch?v=y6h5BUSo9Vw&list=PLrrQclmFn_7cfbELsVdc1F5SoKdNWCIWf',\n",
       "            'webPageType': 'WEB_PAGE_TYPE_WATCH',\n",
       "            'rootVe': 3832}},\n",
       "          'watchEndpoint': {'videoId': 'y6h5BUSo9Vw',\n",
       "           'playlistId': 'PLrrQclmFn_7cfbELsVdc1F5SoKdNWCIWf'}},\n",
       "         'lengthText': {'accessibility': {'accessibilityData': {'label': '3 minutter og 7 sekunder'}},\n",
       "          'simpleText': '3:07'},\n",
       "         'videoId': 'y6h5BUSo9Vw'}}],\n",
       "      'videoCountText': {'runs': [{'text': '19'}, {'text': ' videoer'}]},\n",
       "      'trackingParams': 'CIcBENswGAsiEwjR9qfntrHqAhXUAIkKHfUPBPM=',\n",
       "      'thumbnailText': {'runs': [{'text': '19', 'bold': True},\n",
       "        {'text': ' videoer'}]},\n",
       "      'longBylineText': {'runs': [{'text': 'That singing girl',\n",
       "         'navigationEndpoint': {'clickTrackingParams': 'CIcBENswGAsiEwjR9qfntrHqAhXUAIkKHfUPBPMyBnNlYXJjaA==',\n",
       "          'commandMetadata': {'webCommandMetadata': {'url': '/user/lulu20024',\n",
       "            'webPageType': 'WEB_PAGE_TYPE_BROWSE',\n",
       "            'rootVe': 3611}},\n",
       "          'browseEndpoint': {'browseId': 'UCLzvvhASB-in1gISBa65_mA',\n",
       "           'canonicalBaseUrl': '/user/lulu20024'}}}]},\n",
       "      'thumbnailRenderer': {'playlistVideoThumbnailRenderer': {'thumbnail': {'thumbnails': [{'url': 'https://i.ytimg.com/vi/b6Zh-sD3Wg0/hqdefault.jpg?sqp=-oaymwEWCKgBEF5IWvKriqkDCQgBFQAAiEIYAQ==&rs=AOn4CLC3Loa9unYJR5aJdndpWCNKSiCq8g',\n",
       "           'width': 168,\n",
       "           'height': 94},\n",
       "          {'url': 'https://i.ytimg.com/vi/b6Zh-sD3Wg0/hqdefault.jpg?sqp=-oaymwEWCMQBEG5IWvKriqkDCQgBFQAAiEIYAQ==&rs=AOn4CLDmry_ixNI6HhL3YisfZFB-1kwygQ',\n",
       "           'width': 196,\n",
       "           'height': 110},\n",
       "          {'url': 'https://i.ytimg.com/vi/b6Zh-sD3Wg0/hqdefault.jpg?sqp=-oaymwEXCPYBEIoBSFryq4qpAwkIARUAAIhCGAE=&rs=AOn4CLC8ZncYE4TeDC5tIAwqqaIV-gaEhA',\n",
       "           'width': 246,\n",
       "           'height': 138},\n",
       "          {'url': 'https://i.ytimg.com/vi/b6Zh-sD3Wg0/hqdefault.jpg?sqp=-oaymwEXCNACELwBSFryq4qpAwkIARUAAIhCGAE=&rs=AOn4CLDaAAXSSDnHpxcBn7000Li2YYy1Tw',\n",
       "           'width': 336,\n",
       "           'height': 188}]}}},\n",
       "      'thumbnailOverlays': [{'thumbnailOverlaySidePanelRenderer': {'text': {'simpleText': '19'},\n",
       "         'icon': {'iconType': 'PLAYLISTS'}}},\n",
       "       {'thumbnailOverlayHoverTextRenderer': {'text': {'runs': [{'text': 'Spill av alle'}]},\n",
       "         'icon': {'iconType': 'PLAY_ALL'}}},\n",
       "       {'thumbnailOverlayNowPlayingRenderer': {'text': {'runs': [{'text': 'Spilles av nå'}]}}}]}},\n",
       "    {'videoRenderer': {'videoId': 'jq_tO6NAlPI',\n",
       "      'thumbnail': {'thumbnails': [{'url': 'https://i.ytimg.com/vi/jq_tO6NAlPI/hq720.jpg?sqp=-oaymwEjCOgCEMoBSFryq4qpAxUIARUAAAAAGAElAADIQj0AgKJDeAE=&rs=AOn4CLBBC91AME0S1TwBrxfPPvOoRu2vOw',\n",
       "         'width': 360,\n",
       "         'height': 202},\n",
       "        {'url': 'https://i.ytimg.com/vi/jq_tO6NAlPI/hq720.jpg?sqp=-oaymwEXCNAFEJQDSFryq4qpAwkIARUAAIhCGAE=&rs=AOn4CLB4WJp4yQiKXd7oh7vGv4T0m249cg',\n",
       "         'width': 720,\n",
       "         'height': 404}]},\n",
       "      'title': {'runs': [{'text': 'Mamma Mia! Here We Go Again (2018) - Mamma Mia Scene (5/10) | Movieclips'}],\n",
       "       'accessibility': {'accessibilityData': {'label': 'Mamma Mia! Here We Go Again (2018) - Mamma Mia Scene (5/10) | Movieclips av Movieclips for 1 år siden 3 minutter og 15 sekunder Sett 7\\xa0815\\xa0656 ganger'}}},\n",
       "      'descriptionSnippet': {'runs': [{'text': 'Mamma Mia', 'bold': True},\n",
       "        {'text': '! Here We Go Again - '},\n",
       "        {'text': 'Mamma Mia', 'bold': True},\n",
       "        {'text': ': Rosie (Alexa Davies) and Tanya (Jessica Keenan Wynn) help cheer Donna (Lily\\xa0...'}]},\n",
       "      'longBylineText': {'runs': [{'text': 'Movieclips',\n",
       "         'navigationEndpoint': {'clickTrackingParams': 'CIMBENwwGAwiEwjR9qfntrHqAhXUAIkKHfUPBPM=',\n",
       "          'commandMetadata': {'webCommandMetadata': {'url': '/user/movieclips',\n",
       "            'webPageType': 'WEB_PAGE_TYPE_BROWSE',\n",
       "            'rootVe': 3611}},\n",
       "          'browseEndpoint': {'browseId': 'UC3gNmTGu-TTbFPpfSs5kNkg',\n",
       "           'canonicalBaseUrl': '/user/movieclips'}}}]},\n",
       "      'publishedTimeText': {'simpleText': 'for 1 år siden'},\n",
       "      'lengthText': {'accessibility': {'accessibilityData': {'label': '3 minutter og 15 sekunder'}},\n",
       "       'simpleText': '3:15'},\n",
       "      'viewCountText': {'simpleText': 'Sett 7\\xa0815\\xa0656 ganger'},\n",
       "      'navigationEndpoint': {'clickTrackingParams': 'CIMBENwwGAwiEwjR9qfntrHqAhXUAIkKHfUPBPMyBnNlYXJjaFIOQWJiYSBNYW1tYSBNaWGaAQMQ9CQ=',\n",
       "       'commandMetadata': {'webCommandMetadata': {'url': '/watch?v=jq_tO6NAlPI',\n",
       "         'webPageType': 'WEB_PAGE_TYPE_WATCH',\n",
       "         'rootVe': 3832}},\n",
       "       'watchEndpoint': {'videoId': 'jq_tO6NAlPI'}},\n",
       "      'ownerBadges': [{'metadataBadgeRenderer': {'icon': {'iconType': 'CHECK_CIRCLE_THICK'},\n",
       "         'style': 'BADGE_STYLE_TYPE_VERIFIED',\n",
       "         'tooltip': 'Bekreftet',\n",
       "         'trackingParams': 'CIMBENwwGAwiEwjR9qfntrHqAhXUAIkKHfUPBPM='}}],\n",
       "      'ownerText': {'runs': [{'text': 'Movieclips',\n",
       "         'navigationEndpoint': {'clickTrackingParams': 'CIMBENwwGAwiEwjR9qfntrHqAhXUAIkKHfUPBPM=',\n",
       "          'commandMetadata': {'webCommandMetadata': {'url': '/user/movieclips',\n",
       "            'webPageType': 'WEB_PAGE_TYPE_BROWSE',\n",
       "            'rootVe': 3611}},\n",
       "          'browseEndpoint': {'browseId': 'UC3gNmTGu-TTbFPpfSs5kNkg',\n",
       "           'canonicalBaseUrl': '/user/movieclips'}}}]},\n",
       "      'shortBylineText': {'runs': [{'text': 'Movieclips',\n",
       "         'navigationEndpoint': {'clickTrackingParams': 'CIMBENwwGAwiEwjR9qfntrHqAhXUAIkKHfUPBPM=',\n",
       "          'commandMetadata': {'webCommandMetadata': {'url': '/user/movieclips',\n",
       "            'webPageType': 'WEB_PAGE_TYPE_BROWSE',\n",
       "            'rootVe': 3611}},\n",
       "          'browseEndpoint': {'browseId': 'UC3gNmTGu-TTbFPpfSs5kNkg',\n",
       "           'canonicalBaseUrl': '/user/movieclips'}}}]},\n",
       "      'trackingParams': 'CIMBENwwGAwiEwjR9qfntrHqAhXUAIkKHfUPBPNA8qmCmrqn-9eOAQ==',\n",
       "      'showActionMenu': False,\n",
       "      'shortViewCountText': {'simpleText': 'Sett 7,8\\xa0mill. ganger'},\n",
       "      'menu': {'menuRenderer': {'items': [{'menuServiceItemRenderer': {'text': {'runs': [{'text': 'Legg i køen'}]},\n",
       "           'icon': {'iconType': 'ADD_TO_QUEUE_TAIL'},\n",
       "           'serviceEndpoint': {'clickTrackingParams': 'CIYBEP6YBBgFIhMI0fan57ax6gIV1ACJCh31DwTz',\n",
       "            'commandMetadata': {'webCommandMetadata': {'url': '/service_ajax',\n",
       "              'sendPost': True}},\n",
       "            'signalServiceEndpoint': {'signal': 'CLIENT_SIGNAL',\n",
       "             'actions': [{'clickTrackingParams': 'CIYBEP6YBBgFIhMI0fan57ax6gIV1ACJCh31DwTz',\n",
       "               'commandMetadata': {'webCommandMetadata': {}},\n",
       "               'addToPlaylistCommand': {'openMiniplayer': True,\n",
       "                'videoId': 'jq_tO6NAlPI',\n",
       "                'listType': 'PLAYLIST_EDIT_LIST_TYPE_QUEUE',\n",
       "                'onCreateListCommand': {'clickTrackingParams': 'CIYBEP6YBBgFIhMI0fan57ax6gIV1ACJCh31DwTz',\n",
       "                 'commandMetadata': {'webCommandMetadata': {'url': '/service_ajax',\n",
       "                   'sendPost': True,\n",
       "                   'apiUrl': '/youtubei/v1/playlist/create'}},\n",
       "                 'createPlaylistServiceEndpoint': {'videoIds': ['jq_tO6NAlPI'],\n",
       "                  'params': 'CAQ%3D'}},\n",
       "                'videoIds': ['jq_tO6NAlPI']}}]}},\n",
       "           'trackingParams': 'CIYBEP6YBBgFIhMI0fan57ax6gIV1ACJCh31DwTz'}}],\n",
       "        'trackingParams': 'CIMBENwwGAwiEwjR9qfntrHqAhXUAIkKHfUPBPM=',\n",
       "        'accessibility': {'accessibilityData': {'label': 'Handlingsmeny'}}}},\n",
       "      'channelThumbnailSupportedRenderers': {'channelThumbnailWithLinkRenderer': {'thumbnail': {'thumbnails': [{'url': 'https://yt3.ggpht.com/a-/AOh14GiWdbmUuGSqP-qubfRN2Y9z5zny69GjaCMlcw=s68-c-k-c0x00ffffff-no-rj-mo',\n",
       "           'width': 68,\n",
       "           'height': 68}]},\n",
       "        'navigationEndpoint': {'clickTrackingParams': 'CIMBENwwGAwiEwjR9qfntrHqAhXUAIkKHfUPBPM=',\n",
       "         'commandMetadata': {'webCommandMetadata': {'url': '/user/movieclips',\n",
       "           'webPageType': 'WEB_PAGE_TYPE_BROWSE',\n",
       "           'rootVe': 3611}},\n",
       "         'browseEndpoint': {'browseId': 'UC3gNmTGu-TTbFPpfSs5kNkg',\n",
       "          'canonicalBaseUrl': '/user/movieclips'}},\n",
       "        'accessibility': {'accessibilityData': {'label': 'Gå til kanalen'}}}},\n",
       "      'thumbnailOverlays': [{'thumbnailOverlayTimeStatusRenderer': {'text': {'accessibility': {'accessibilityData': {'label': '3 minutter og 15 sekunder'}},\n",
       "          'simpleText': '3:15'},\n",
       "         'style': 'DEFAULT'}},\n",
       "       {'thumbnailOverlayToggleButtonRenderer': {'isToggled': False,\n",
       "         'untoggledIcon': {'iconType': 'WATCH_LATER'},\n",
       "         'toggledIcon': {'iconType': 'CHECK'},\n",
       "         'untoggledTooltip': 'Se senere',\n",
       "         'toggledTooltip': 'Lagt til',\n",
       "         'untoggledServiceEndpoint': {'clickTrackingParams': 'CIUBEPnnAxgCIhMI0fan57ax6gIV1ACJCh31DwTz',\n",
       "          'commandMetadata': {'webCommandMetadata': {'url': '/service_ajax',\n",
       "            'sendPost': True,\n",
       "            'apiUrl': '/youtubei/v1/browse/edit_playlist'}},\n",
       "          'playlistEditEndpoint': {'playlistId': 'WL',\n",
       "           'actions': [{'addedVideoId': 'jq_tO6NAlPI',\n",
       "             'action': 'ACTION_ADD_VIDEO'}]}},\n",
       "         'toggledServiceEndpoint': {'clickTrackingParams': 'CIUBEPnnAxgCIhMI0fan57ax6gIV1ACJCh31DwTz',\n",
       "          'commandMetadata': {'webCommandMetadata': {'url': '/service_ajax',\n",
       "            'sendPost': True,\n",
       "            'apiUrl': '/youtubei/v1/browse/edit_playlist'}},\n",
       "          'playlistEditEndpoint': {'playlistId': 'WL',\n",
       "           'actions': [{'action': 'ACTION_REMOVE_VIDEO_BY_VIDEO_ID',\n",
       "             'removedVideoId': 'jq_tO6NAlPI'}]}},\n",
       "         'untoggledAccessibility': {'accessibilityData': {'label': 'Se senere'}},\n",
       "         'toggledAccessibility': {'accessibilityData': {'label': 'Lagt til'}},\n",
       "         'trackingParams': 'CIUBEPnnAxgCIhMI0fan57ax6gIV1ACJCh31DwTz'}},\n",
       "       {'thumbnailOverlayToggleButtonRenderer': {'untoggledIcon': {'iconType': 'ADD_TO_QUEUE_TAIL'},\n",
       "         'toggledIcon': {'iconType': 'PLAYLIST_ADD_CHECK'},\n",
       "         'untoggledTooltip': 'Legg i køen',\n",
       "         'toggledTooltip': 'Lagt til',\n",
       "         'untoggledServiceEndpoint': {'clickTrackingParams': 'CIQBEMfsBBgDIhMI0fan57ax6gIV1ACJCh31DwTz',\n",
       "          'commandMetadata': {'webCommandMetadata': {'url': '/service_ajax',\n",
       "            'sendPost': True}},\n",
       "          'signalServiceEndpoint': {'signal': 'CLIENT_SIGNAL',\n",
       "           'actions': [{'clickTrackingParams': 'CIQBEMfsBBgDIhMI0fan57ax6gIV1ACJCh31DwTz',\n",
       "             'commandMetadata': {'webCommandMetadata': {}},\n",
       "             'addToPlaylistCommand': {'openMiniplayer': True,\n",
       "              'videoId': 'jq_tO6NAlPI',\n",
       "              'listType': 'PLAYLIST_EDIT_LIST_TYPE_QUEUE',\n",
       "              'onCreateListCommand': {'clickTrackingParams': 'CIQBEMfsBBgDIhMI0fan57ax6gIV1ACJCh31DwTz',\n",
       "               'commandMetadata': {'webCommandMetadata': {'url': '/service_ajax',\n",
       "                 'sendPost': True,\n",
       "                 'apiUrl': '/youtubei/v1/playlist/create'}},\n",
       "               'createPlaylistServiceEndpoint': {'videoIds': ['jq_tO6NAlPI'],\n",
       "                'params': 'CAQ%3D'}},\n",
       "              'videoIds': ['jq_tO6NAlPI']}}]}},\n",
       "         'untoggledAccessibility': {'accessibilityData': {'label': 'Legg i køen'}},\n",
       "         'toggledAccessibility': {'accessibilityData': {'label': 'Lagt til'}},\n",
       "         'trackingParams': 'CIQBEMfsBBgDIhMI0fan57ax6gIV1ACJCh31DwTz'}},\n",
       "       {'thumbnailOverlayNowPlayingRenderer': {'text': {'runs': [{'text': 'Spilles av nå'}]}}}]}},\n",
       "    {'shelfRenderer': {'title': {'simpleText': 'Relatert til søket ditt'},\n",
       "      'content': {'verticalListRenderer': {'items': [{'videoRenderer': {'videoId': 'BLY6HkRuGTY',\n",
       "           'thumbnail': {'thumbnails': [{'url': 'https://i.ytimg.com/vi/BLY6HkRuGTY/hq720.jpg?sqp=-oaymwEjCOgCEMoBSFryq4qpAxUIARUAAAAAGAElAADIQj0AgKJDeAE=&rs=AOn4CLB95iLs2p2I9lPR4DaDaqfw1BSr6w',\n",
       "              'width': 360,\n",
       "              'height': 202},\n",
       "             {'url': 'https://i.ytimg.com/vi/BLY6HkRuGTY/hq720.jpg?sqp=-oaymwEXCNAFEJQDSFryq4qpAwkIARUAAIhCGAE=&rs=AOn4CLCbqwJXJ2WqiyjjbXSYFA8z0hrmWw',\n",
       "              'width': 720,\n",
       "              'height': 404}]},\n",
       "           'title': {'runs': [{'text': 'Mamma Mia! Here We Go Again - Fernando (Lyrics) 1080pHD'}],\n",
       "            'accessibility': {'accessibilityData': {'label': 'Mamma Mia! Here We Go Again - Fernando (Lyrics) 1080pHD av Lise LS_01 for 1 år siden 3 minutter og 45 sekunder Sett 6\\xa0439\\xa0172 ganger'}}},\n",
       "           'descriptionSnippet': {'runs': [{'text': 'Cher & Andy Garcia - Fernando (Lyrics) 1080pHD.'}]},\n",
       "           'longBylineText': {'runs': [{'text': 'Lise LS_01',\n",
       "              'navigationEndpoint': {'clickTrackingParams': 'CH8Q3DAYACITCNH2p-e2seoCFdQAiQod9Q8E8w==',\n",
       "               'commandMetadata': {'webCommandMetadata': {'url': '/channel/UC-mi63_RZT6mWrYUQqnxjSA',\n",
       "                 'webPageType': 'WEB_PAGE_TYPE_BROWSE',\n",
       "                 'rootVe': 3611}},\n",
       "               'browseEndpoint': {'browseId': 'UC-mi63_RZT6mWrYUQqnxjSA'}}}]},\n",
       "           'publishedTimeText': {'simpleText': 'for 1 år siden'},\n",
       "           'lengthText': {'accessibility': {'accessibilityData': {'label': '3 minutter og 45 sekunder'}},\n",
       "            'simpleText': '3:45'},\n",
       "           'viewCountText': {'simpleText': 'Sett 6\\xa0439\\xa0172 ganger'},\n",
       "           'navigationEndpoint': {'clickTrackingParams': 'CH8Q3DAYACITCNH2p-e2seoCFdQAiQod9Q8E8zIGc2VhcmNoUg5BYmJhIE1hbW1hIE1pYZoBAxD0JA==',\n",
       "            'commandMetadata': {'webCommandMetadata': {'url': '/watch?v=BLY6HkRuGTY',\n",
       "              'webPageType': 'WEB_PAGE_TYPE_WATCH',\n",
       "              'rootVe': 3832}},\n",
       "            'watchEndpoint': {'videoId': 'BLY6HkRuGTY'}},\n",
       "           'ownerText': {'runs': [{'text': 'Lise LS_01',\n",
       "              'navigationEndpoint': {'clickTrackingParams': 'CH8Q3DAYACITCNH2p-e2seoCFdQAiQod9Q8E8w==',\n",
       "               'commandMetadata': {'webCommandMetadata': {'url': '/channel/UC-mi63_RZT6mWrYUQqnxjSA',\n",
       "                 'webPageType': 'WEB_PAGE_TYPE_BROWSE',\n",
       "                 'rootVe': 3611}},\n",
       "               'browseEndpoint': {'browseId': 'UC-mi63_RZT6mWrYUQqnxjSA'}}}]},\n",
       "           'shortBylineText': {'runs': [{'text': 'Lise LS_01',\n",
       "              'navigationEndpoint': {'clickTrackingParams': 'CH8Q3DAYACITCNH2p-e2seoCFdQAiQod9Q8E8w==',\n",
       "               'commandMetadata': {'webCommandMetadata': {'url': '/channel/UC-mi63_RZT6mWrYUQqnxjSA',\n",
       "                 'webPageType': 'WEB_PAGE_TYPE_BROWSE',\n",
       "                 'rootVe': 3611}},\n",
       "               'browseEndpoint': {'browseId': 'UC-mi63_RZT6mWrYUQqnxjSA'}}}]},\n",
       "           'trackingParams': 'CH8Q3DAYACITCNH2p-e2seoCFdQAiQod9Q8E80C2srij5MOO2wQ=',\n",
       "           'showActionMenu': False,\n",
       "           'shortViewCountText': {'simpleText': 'Sett 6,4\\xa0mill. ganger'},\n",
       "           'menu': {'menuRenderer': {'items': [{'menuServiceItemRenderer': {'text': {'runs': [{'text': 'Legg i køen'}]},\n",
       "                'icon': {'iconType': 'ADD_TO_QUEUE_TAIL'},\n",
       "                'serviceEndpoint': {'clickTrackingParams': 'CIIBEP6YBBgEIhMI0fan57ax6gIV1ACJCh31DwTz',\n",
       "                 'commandMetadata': {'webCommandMetadata': {'url': '/service_ajax',\n",
       "                   'sendPost': True}},\n",
       "                 'signalServiceEndpoint': {'signal': 'CLIENT_SIGNAL',\n",
       "                  'actions': [{'clickTrackingParams': 'CIIBEP6YBBgEIhMI0fan57ax6gIV1ACJCh31DwTz',\n",
       "                    'commandMetadata': {'webCommandMetadata': {}},\n",
       "                    'addToPlaylistCommand': {'openMiniplayer': True,\n",
       "                     'videoId': 'BLY6HkRuGTY',\n",
       "                     'listType': 'PLAYLIST_EDIT_LIST_TYPE_QUEUE',\n",
       "                     'onCreateListCommand': {'clickTrackingParams': 'CIIBEP6YBBgEIhMI0fan57ax6gIV1ACJCh31DwTz',\n",
       "                      'commandMetadata': {'webCommandMetadata': {'url': '/service_ajax',\n",
       "                        'sendPost': True,\n",
       "                        'apiUrl': '/youtubei/v1/playlist/create'}},\n",
       "                      'createPlaylistServiceEndpoint': {'videoIds': ['BLY6HkRuGTY'],\n",
       "                       'params': 'CAQ%3D'}},\n",
       "                     'videoIds': ['BLY6HkRuGTY']}}]}},\n",
       "                'trackingParams': 'CIIBEP6YBBgEIhMI0fan57ax6gIV1ACJCh31DwTz'}}],\n",
       "             'trackingParams': 'CH8Q3DAYACITCNH2p-e2seoCFdQAiQod9Q8E8w==',\n",
       "             'accessibility': {'accessibilityData': {'label': 'Handlingsmeny'}}}},\n",
       "           'channelThumbnailSupportedRenderers': {'channelThumbnailWithLinkRenderer': {'thumbnail': {'thumbnails': [{'url': 'https://yt3.ggpht.com/a-/AOh14GjrxjE1VWdstAf-TwnRaa7pcTvLqgWFhUR6Ig=s68-c-k-c0x00ffffff-no-rj-mo',\n",
       "                'width': 68,\n",
       "                'height': 68}]},\n",
       "             'navigationEndpoint': {'clickTrackingParams': 'CH8Q3DAYACITCNH2p-e2seoCFdQAiQod9Q8E8w==',\n",
       "              'commandMetadata': {'webCommandMetadata': {'url': '/channel/UC-mi63_RZT6mWrYUQqnxjSA',\n",
       "                'webPageType': 'WEB_PAGE_TYPE_BROWSE',\n",
       "                'rootVe': 3611}},\n",
       "              'browseEndpoint': {'browseId': 'UC-mi63_RZT6mWrYUQqnxjSA'}},\n",
       "             'accessibility': {'accessibilityData': {'label': 'Gå til kanalen'}}}},\n",
       "           'thumbnailOverlays': [{'thumbnailOverlayTimeStatusRenderer': {'text': {'accessibility': {'accessibilityData': {'label': '3 minutter og 45 sekunder'}},\n",
       "               'simpleText': '3:45'},\n",
       "              'style': 'DEFAULT'}},\n",
       "            {'thumbnailOverlayToggleButtonRenderer': {'isToggled': False,\n",
       "              'untoggledIcon': {'iconType': 'WATCH_LATER'},\n",
       "              'toggledIcon': {'iconType': 'CHECK'},\n",
       "              'untoggledTooltip': 'Se senere',\n",
       "              'toggledTooltip': 'Lagt til',\n",
       "              'untoggledServiceEndpoint': {'clickTrackingParams': 'CIEBEPnnAxgBIhMI0fan57ax6gIV1ACJCh31DwTz',\n",
       "               'commandMetadata': {'webCommandMetadata': {'url': '/service_ajax',\n",
       "                 'sendPost': True,\n",
       "                 'apiUrl': '/youtubei/v1/browse/edit_playlist'}},\n",
       "               'playlistEditEndpoint': {'playlistId': 'WL',\n",
       "                'actions': [{'addedVideoId': 'BLY6HkRuGTY',\n",
       "                  'action': 'ACTION_ADD_VIDEO'}]}},\n",
       "              'toggledServiceEndpoint': {'clickTrackingParams': 'CIEBEPnnAxgBIhMI0fan57ax6gIV1ACJCh31DwTz',\n",
       "               'commandMetadata': {'webCommandMetadata': {'url': '/service_ajax',\n",
       "                 'sendPost': True,\n",
       "                 'apiUrl': '/youtubei/v1/browse/edit_playlist'}},\n",
       "               'playlistEditEndpoint': {'playlistId': 'WL',\n",
       "                'actions': [{'action': 'ACTION_REMOVE_VIDEO_BY_VIDEO_ID',\n",
       "                  'removedVideoId': 'BLY6HkRuGTY'}]}},\n",
       "              'untoggledAccessibility': {'accessibilityData': {'label': 'Se senere'}},\n",
       "              'toggledAccessibility': {'accessibilityData': {'label': 'Lagt til'}},\n",
       "              'trackingParams': 'CIEBEPnnAxgBIhMI0fan57ax6gIV1ACJCh31DwTz'}},\n",
       "            {'thumbnailOverlayToggleButtonRenderer': {'untoggledIcon': {'iconType': 'ADD_TO_QUEUE_TAIL'},\n",
       "              'toggledIcon': {'iconType': 'PLAYLIST_ADD_CHECK'},\n",
       "              'untoggledTooltip': 'Legg i køen',\n",
       "              'toggledTooltip': 'Lagt til',\n",
       "              'untoggledServiceEndpoint': {'clickTrackingParams': 'CIABEMfsBBgCIhMI0fan57ax6gIV1ACJCh31DwTz',\n",
       "               'commandMetadata': {'webCommandMetadata': {'url': '/service_ajax',\n",
       "                 'sendPost': True}},\n",
       "               'signalServiceEndpoint': {'signal': 'CLIENT_SIGNAL',\n",
       "                'actions': [{'clickTrackingParams': 'CIABEMfsBBgCIhMI0fan57ax6gIV1ACJCh31DwTz',\n",
       "                  'commandMetadata': {'webCommandMetadata': {}},\n",
       "                  'addToPlaylistCommand': {'openMiniplayer': True,\n",
       "                   'videoId': 'BLY6HkRuGTY',\n",
       "                   'listType': 'PLAYLIST_EDIT_LIST_TYPE_QUEUE',\n",
       "                   'onCreateListCommand': {'clickTrackingParams': 'CIABEMfsBBgCIhMI0fan57ax6gIV1ACJCh31DwTz',\n",
       "                    'commandMetadata': {'webCommandMetadata': {'url': '/service_ajax',\n",
       "                      'sendPost': True,\n",
       "                      'apiUrl': '/youtubei/v1/playlist/create'}},\n",
       "                    'createPlaylistServiceEndpoint': {'videoIds': ['BLY6HkRuGTY'],\n",
       "                     'params': 'CAQ%3D'}},\n",
       "                   'videoIds': ['BLY6HkRuGTY']}}]}},\n",
       "              'untoggledAccessibility': {'accessibilityData': {'label': 'Legg i køen'}},\n",
       "              'toggledAccessibility': {'accessibilityData': {'label': 'Lagt til'}},\n",
       "              'trackingParams': 'CIABEMfsBBgCIhMI0fan57ax6gIV1ACJCh31DwTz'}},\n",
       "            {'thumbnailOverlayNowPlayingRenderer': {'text': {'runs': [{'text': 'Spilles av nå'}]}}}]}},\n",
       "         {'videoRenderer': {'videoId': '4GTjMMYl1T8',\n",
       "           'thumbnail': {'thumbnails': [{'url': 'https://i.ytimg.com/vi/4GTjMMYl1T8/hqdefault.jpg?sqp=-oaymwEjCOADEI4CSFryq4qpAxUIARUAAAAAGAElAADIQj0AgKJDeAE=&rs=AOn4CLCckJVzBfuaUL-0fDzHwnz7asaIfg',\n",
       "              'width': 480,\n",
       "              'height': 270}]},\n",
       "           'title': {'runs': [{'text': 'Mamma Mia! Here We Go Again - Andante, Andante (Lyrics) 1080pHD'}],\n",
       "            'accessibility': {'accessibilityData': {'label': 'Mamma Mia! Here We Go Again - Andante, Andante (Lyrics) 1080pHD av Lise LS_01 for 1 år siden 2 minutter og 49 sekunder Sett 6\\xa0073\\xa0539 ganger'}}},\n",
       "           'descriptionSnippet': {'runs': [{'text': 'Lily James - Andante, Andante (Lyrics) 1080pHD.'}]},\n",
       "           'longBylineText': {'runs': [{'text': 'Lise LS_01',\n",
       "              'navigationEndpoint': {'clickTrackingParams': 'CHsQ3DAYASITCNH2p-e2seoCFdQAiQod9Q8E8w==',\n",
       "               'commandMetadata': {'webCommandMetadata': {'url': '/channel/UC-mi63_RZT6mWrYUQqnxjSA',\n",
       "                 'webPageType': 'WEB_PAGE_TYPE_BROWSE',\n",
       "                 'rootVe': 3611}},\n",
       "               'browseEndpoint': {'browseId': 'UC-mi63_RZT6mWrYUQqnxjSA'}}}]},\n",
       "           'publishedTimeText': {'simpleText': 'for 1 år siden'},\n",
       "           'lengthText': {'accessibility': {'accessibilityData': {'label': '2 minutter og 49 sekunder'}},\n",
       "            'simpleText': '2:49'},\n",
       "           'viewCountText': {'simpleText': 'Sett 6\\xa0073\\xa0539 ganger'},\n",
       "           'navigationEndpoint': {'clickTrackingParams': 'CHsQ3DAYASITCNH2p-e2seoCFdQAiQod9Q8E8zIGc2VhcmNoUg5BYmJhIE1hbW1hIE1pYZoBAxD0JA==',\n",
       "            'commandMetadata': {'webCommandMetadata': {'url': '/watch?v=4GTjMMYl1T8',\n",
       "              'webPageType': 'WEB_PAGE_TYPE_WATCH',\n",
       "              'rootVe': 3832}},\n",
       "            'watchEndpoint': {'videoId': '4GTjMMYl1T8'}},\n",
       "           'ownerText': {'runs': [{'text': 'Lise LS_01',\n",
       "              'navigationEndpoint': {'clickTrackingParams': 'CHsQ3DAYASITCNH2p-e2seoCFdQAiQod9Q8E8w==',\n",
       "               'commandMetadata': {'webCommandMetadata': {'url': '/channel/UC-mi63_RZT6mWrYUQqnxjSA',\n",
       "                 'webPageType': 'WEB_PAGE_TYPE_BROWSE',\n",
       "                 'rootVe': 3611}},\n",
       "               'browseEndpoint': {'browseId': 'UC-mi63_RZT6mWrYUQqnxjSA'}}}]},\n",
       "           'shortBylineText': {'runs': [{'text': 'Lise LS_01',\n",
       "              'navigationEndpoint': {'clickTrackingParams': 'CHsQ3DAYASITCNH2p-e2seoCFdQAiQod9Q8E8w==',\n",
       "               'commandMetadata': {'webCommandMetadata': {'url': '/channel/UC-mi63_RZT6mWrYUQqnxjSA',\n",
       "                 'webPageType': 'WEB_PAGE_TYPE_BROWSE',\n",
       "                 'rootVe': 3611}},\n",
       "               'browseEndpoint': {'browseId': 'UC-mi63_RZT6mWrYUQqnxjSA'}}}]},\n",
       "           'trackingParams': 'CHsQ3DAYASITCNH2p-e2seoCFdQAiQod9Q8E80C_qpexjOa4suAB',\n",
       "           'showActionMenu': False,\n",
       "           'shortViewCountText': {'simpleText': 'Sett 6\\xa0mill. ganger'},\n",
       "           'menu': {'menuRenderer': {'items': [{'menuServiceItemRenderer': {'text': {'runs': [{'text': 'Legg i køen'}]},\n",
       "                'icon': {'iconType': 'ADD_TO_QUEUE_TAIL'},\n",
       "                'serviceEndpoint': {'clickTrackingParams': 'CH4Q_pgEGAQiEwjR9qfntrHqAhXUAIkKHfUPBPM=',\n",
       "                 'commandMetadata': {'webCommandMetadata': {'url': '/service_ajax',\n",
       "                   'sendPost': True}},\n",
       "                 'signalServiceEndpoint': {'signal': 'CLIENT_SIGNAL',\n",
       "                  'actions': [{'clickTrackingParams': 'CH4Q_pgEGAQiEwjR9qfntrHqAhXUAIkKHfUPBPM=',\n",
       "                    'commandMetadata': {'webCommandMetadata': {}},\n",
       "                    'addToPlaylistCommand': {'openMiniplayer': True,\n",
       "                     'videoId': '4GTjMMYl1T8',\n",
       "                     'listType': 'PLAYLIST_EDIT_LIST_TYPE_QUEUE',\n",
       "                     'onCreateListCommand': {'clickTrackingParams': 'CH4Q_pgEGAQiEwjR9qfntrHqAhXUAIkKHfUPBPM=',\n",
       "                      'commandMetadata': {'webCommandMetadata': {'url': '/service_ajax',\n",
       "                        'sendPost': True,\n",
       "                        'apiUrl': '/youtubei/v1/playlist/create'}},\n",
       "                      'createPlaylistServiceEndpoint': {'videoIds': ['4GTjMMYl1T8'],\n",
       "                       'params': 'CAQ%3D'}},\n",
       "                     'videoIds': ['4GTjMMYl1T8']}}]}},\n",
       "                'trackingParams': 'CH4Q_pgEGAQiEwjR9qfntrHqAhXUAIkKHfUPBPM='}}],\n",
       "             'trackingParams': 'CHsQ3DAYASITCNH2p-e2seoCFdQAiQod9Q8E8w==',\n",
       "             'accessibility': {'accessibilityData': {'label': 'Handlingsmeny'}}}},\n",
       "           'channelThumbnailSupportedRenderers': {'channelThumbnailWithLinkRenderer': {'thumbnail': {'thumbnails': [{'url': 'https://yt3.ggpht.com/a-/AOh14GjrxjE1VWdstAf-TwnRaa7pcTvLqgWFhUR6Ig=s68-c-k-c0x00ffffff-no-rj-mo',\n",
       "                'width': 68,\n",
       "                'height': 68}]},\n",
       "             'navigationEndpoint': {'clickTrackingParams': 'CHsQ3DAYASITCNH2p-e2seoCFdQAiQod9Q8E8w==',\n",
       "              'commandMetadata': {'webCommandMetadata': {'url': '/channel/UC-mi63_RZT6mWrYUQqnxjSA',\n",
       "                'webPageType': 'WEB_PAGE_TYPE_BROWSE',\n",
       "                'rootVe': 3611}},\n",
       "              'browseEndpoint': {'browseId': 'UC-mi63_RZT6mWrYUQqnxjSA'}},\n",
       "             'accessibility': {'accessibilityData': {'label': 'Gå til kanalen'}}}},\n",
       "           'thumbnailOverlays': [{'thumbnailOverlayTimeStatusRenderer': {'text': {'accessibility': {'accessibilityData': {'label': '2 minutter og 49 sekunder'}},\n",
       "               'simpleText': '2:49'},\n",
       "              'style': 'DEFAULT'}},\n",
       "            {'thumbnailOverlayToggleButtonRenderer': {'isToggled': False,\n",
       "              'untoggledIcon': {'iconType': 'WATCH_LATER'},\n",
       "              'toggledIcon': {'iconType': 'CHECK'},\n",
       "              'untoggledTooltip': 'Se senere',\n",
       "              'toggledTooltip': 'Lagt til',\n",
       "              'untoggledServiceEndpoint': {'clickTrackingParams': 'CH0Q-ecDGAEiEwjR9qfntrHqAhXUAIkKHfUPBPM=',\n",
       "               'commandMetadata': {'webCommandMetadata': {'url': '/service_ajax',\n",
       "                 'sendPost': True,\n",
       "                 'apiUrl': '/youtubei/v1/browse/edit_playlist'}},\n",
       "               'playlistEditEndpoint': {'playlistId': 'WL',\n",
       "                'actions': [{'addedVideoId': '4GTjMMYl1T8',\n",
       "                  'action': 'ACTION_ADD_VIDEO'}]}},\n",
       "              'toggledServiceEndpoint': {'clickTrackingParams': 'CH0Q-ecDGAEiEwjR9qfntrHqAhXUAIkKHfUPBPM=',\n",
       "               'commandMetadata': {'webCommandMetadata': {'url': '/service_ajax',\n",
       "                 'sendPost': True,\n",
       "                 'apiUrl': '/youtubei/v1/browse/edit_playlist'}},\n",
       "               'playlistEditEndpoint': {'playlistId': 'WL',\n",
       "                'actions': [{'action': 'ACTION_REMOVE_VIDEO_BY_VIDEO_ID',\n",
       "                  'removedVideoId': '4GTjMMYl1T8'}]}},\n",
       "              'untoggledAccessibility': {'accessibilityData': {'label': 'Se senere'}},\n",
       "              'toggledAccessibility': {'accessibilityData': {'label': 'Lagt til'}},\n",
       "              'trackingParams': 'CH0Q-ecDGAEiEwjR9qfntrHqAhXUAIkKHfUPBPM='}},\n",
       "            {'thumbnailOverlayToggleButtonRenderer': {'untoggledIcon': {'iconType': 'ADD_TO_QUEUE_TAIL'},\n",
       "              'toggledIcon': {'iconType': 'PLAYLIST_ADD_CHECK'},\n",
       "              'untoggledTooltip': 'Legg i køen',\n",
       "              'toggledTooltip': 'Lagt til',\n",
       "              'untoggledServiceEndpoint': {'clickTrackingParams': 'CHwQx-wEGAIiEwjR9qfntrHqAhXUAIkKHfUPBPM=',\n",
       "               'commandMetadata': {'webCommandMetadata': {'url': '/service_ajax',\n",
       "                 'sendPost': True}},\n",
       "               'signalServiceEndpoint': {'signal': 'CLIENT_SIGNAL',\n",
       "                'actions': [{'clickTrackingParams': 'CHwQx-wEGAIiEwjR9qfntrHqAhXUAIkKHfUPBPM=',\n",
       "                  'commandMetadata': {'webCommandMetadata': {}},\n",
       "                  'addToPlaylistCommand': {'openMiniplayer': True,\n",
       "                   'videoId': '4GTjMMYl1T8',\n",
       "                   'listType': 'PLAYLIST_EDIT_LIST_TYPE_QUEUE',\n",
       "                   'onCreateListCommand': {'clickTrackingParams': 'CHwQx-wEGAIiEwjR9qfntrHqAhXUAIkKHfUPBPM=',\n",
       "                    'commandMetadata': {'webCommandMetadata': {'url': '/service_ajax',\n",
       "                      'sendPost': True,\n",
       "                      'apiUrl': '/youtubei/v1/playlist/create'}},\n",
       "                    'createPlaylistServiceEndpoint': {'videoIds': ['4GTjMMYl1T8'],\n",
       "                     'params': 'CAQ%3D'}},\n",
       "                   'videoIds': ['4GTjMMYl1T8']}}]}},\n",
       "              'untoggledAccessibility': {'accessibilityData': {'label': 'Legg i køen'}},\n",
       "              'toggledAccessibility': {'accessibilityData': {'label': 'Lagt til'}},\n",
       "              'trackingParams': 'CHwQx-wEGAIiEwjR9qfntrHqAhXUAIkKHfUPBPM='}},\n",
       "            {'thumbnailOverlayNowPlayingRenderer': {'text': {'runs': [{'text': 'Spilles av nå'}]}}}]}},\n",
       "         {'videoRenderer': {'videoId': 'lJ8huJwtbVk',\n",
       "           'thumbnail': {'thumbnails': [{'url': 'https://i.ytimg.com/vi/lJ8huJwtbVk/hq720.jpg?sqp=-oaymwEjCOgCEMoBSFryq4qpAxUIARUAAAAAGAElAADIQj0AgKJDeAE=&rs=AOn4CLCmahwlCaRr0mTY9kgN0RmAkhLyEw',\n",
       "              'width': 360,\n",
       "              'height': 202},\n",
       "             {'url': 'https://i.ytimg.com/vi/lJ8huJwtbVk/hq720.jpg?sqp=-oaymwEXCNAFEJQDSFryq4qpAwkIARUAAIhCGAE=&rs=AOn4CLC7VFR23JBqSXjfRFLuFB5doufA2A',\n",
       "              'width': 720,\n",
       "              'height': 404}]},\n",
       "           'title': {'runs': [{'text': 'Mamma Mia! Here We Go Again - Why Did It Have To Be Me (Lyrics) 1080pHD'}],\n",
       "            'accessibility': {'accessibilityData': {'label': 'Mamma Mia! Here We Go Again - Why Did It Have To Be Me (Lyrics) 1080pHD av Lise LS_01 for 1 år siden 2 minutter og 35 sekunder Sett 5\\xa0059\\xa0933 ganger'}}},\n",
       "           'descriptionSnippet': {'runs': [{'text': 'Josh Dylan, Lily James & Hugh Skinner - Why Did It Have To Be Me (Lyrics) 1080pHD.'}]},\n",
       "           'longBylineText': {'runs': [{'text': 'Lise LS_01',\n",
       "              'navigationEndpoint': {'clickTrackingParams': 'CHcQ3DAYAiITCNH2p-e2seoCFdQAiQod9Q8E8w==',\n",
       "               'commandMetadata': {'webCommandMetadata': {'url': '/channel/UC-mi63_RZT6mWrYUQqnxjSA',\n",
       "                 'webPageType': 'WEB_PAGE_TYPE_BROWSE',\n",
       "                 'rootVe': 3611}},\n",
       "               'browseEndpoint': {'browseId': 'UC-mi63_RZT6mWrYUQqnxjSA'}}}]},\n",
       "           'publishedTimeText': {'simpleText': 'for 1 år siden'},\n",
       "           'lengthText': {'accessibility': {'accessibilityData': {'label': '2 minutter og 35 sekunder'}},\n",
       "            'simpleText': '2:35'},\n",
       "           'viewCountText': {'simpleText': 'Sett 5\\xa0059\\xa0933 ganger'},\n",
       "           'navigationEndpoint': {'clickTrackingParams': 'CHcQ3DAYAiITCNH2p-e2seoCFdQAiQod9Q8E8zIGc2VhcmNoUg5BYmJhIE1hbW1hIE1pYZoBAxD0JA==',\n",
       "            'commandMetadata': {'webCommandMetadata': {'url': '/watch?v=lJ8huJwtbVk',\n",
       "              'webPageType': 'WEB_PAGE_TYPE_WATCH',\n",
       "              'rootVe': 3832}},\n",
       "            'watchEndpoint': {'videoId': 'lJ8huJwtbVk'}},\n",
       "           'ownerText': {'runs': [{'text': 'Lise LS_01',\n",
       "              'navigationEndpoint': {'clickTrackingParams': 'CHcQ3DAYAiITCNH2p-e2seoCFdQAiQod9Q8E8w==',\n",
       "               'commandMetadata': {'webCommandMetadata': {'url': '/channel/UC-mi63_RZT6mWrYUQqnxjSA',\n",
       "                 'webPageType': 'WEB_PAGE_TYPE_BROWSE',\n",
       "                 'rootVe': 3611}},\n",
       "               'browseEndpoint': {'browseId': 'UC-mi63_RZT6mWrYUQqnxjSA'}}}]},\n",
       "           'shortBylineText': {'runs': [{'text': 'Lise LS_01',\n",
       "              'navigationEndpoint': {'clickTrackingParams': 'CHcQ3DAYAiITCNH2p-e2seoCFdQAiQod9Q8E8w==',\n",
       "               'commandMetadata': {'webCommandMetadata': {'url': '/channel/UC-mi63_RZT6mWrYUQqnxjSA',\n",
       "                 'webPageType': 'WEB_PAGE_TYPE_BROWSE',\n",
       "                 'rootVe': 3611}},\n",
       "               'browseEndpoint': {'browseId': 'UC-mi63_RZT6mWrYUQqnxjSA'}}}]},\n",
       "           'trackingParams': 'CHcQ3DAYAiITCNH2p-e2seoCFdQAiQod9Q8E80DZ2rXhibfIz5QB',\n",
       "           'showActionMenu': False,\n",
       "           'shortViewCountText': {'simpleText': 'Sett 5\\xa0mill. ganger'},\n",
       "           'menu': {'menuRenderer': {'items': [{'menuServiceItemRenderer': {'text': {'runs': [{'text': 'Legg i køen'}]},\n",
       "                'icon': {'iconType': 'ADD_TO_QUEUE_TAIL'},\n",
       "                'serviceEndpoint': {'clickTrackingParams': 'CHoQ_pgEGAQiEwjR9qfntrHqAhXUAIkKHfUPBPM=',\n",
       "                 'commandMetadata': {'webCommandMetadata': {'url': '/service_ajax',\n",
       "                   'sendPost': True}},\n",
       "                 'signalServiceEndpoint': {'signal': 'CLIENT_SIGNAL',\n",
       "                  'actions': [{'clickTrackingParams': 'CHoQ_pgEGAQiEwjR9qfntrHqAhXUAIkKHfUPBPM=',\n",
       "                    'commandMetadata': {'webCommandMetadata': {}},\n",
       "                    'addToPlaylistCommand': {'openMiniplayer': True,\n",
       "                     'videoId': 'lJ8huJwtbVk',\n",
       "                     'listType': 'PLAYLIST_EDIT_LIST_TYPE_QUEUE',\n",
       "                     'onCreateListCommand': {'clickTrackingParams': 'CHoQ_pgEGAQiEwjR9qfntrHqAhXUAIkKHfUPBPM=',\n",
       "                      'commandMetadata': {'webCommandMetadata': {'url': '/service_ajax',\n",
       "                        'sendPost': True,\n",
       "                        'apiUrl': '/youtubei/v1/playlist/create'}},\n",
       "                      'createPlaylistServiceEndpoint': {'videoIds': ['lJ8huJwtbVk'],\n",
       "                       'params': 'CAQ%3D'}},\n",
       "                     'videoIds': ['lJ8huJwtbVk']}}]}},\n",
       "                'trackingParams': 'CHoQ_pgEGAQiEwjR9qfntrHqAhXUAIkKHfUPBPM='}}],\n",
       "             'trackingParams': 'CHcQ3DAYAiITCNH2p-e2seoCFdQAiQod9Q8E8w==',\n",
       "             'accessibility': {'accessibilityData': {'label': 'Handlingsmeny'}}}},\n",
       "           'channelThumbnailSupportedRenderers': {'channelThumbnailWithLinkRenderer': {'thumbnail': {'thumbnails': [{'url': 'https://yt3.ggpht.com/a-/AOh14GjrxjE1VWdstAf-TwnRaa7pcTvLqgWFhUR6Ig=s68-c-k-c0x00ffffff-no-rj-mo',\n",
       "                'width': 68,\n",
       "                'height': 68}]},\n",
       "             'navigationEndpoint': {'clickTrackingParams': 'CHcQ3DAYAiITCNH2p-e2seoCFdQAiQod9Q8E8w==',\n",
       "              'commandMetadata': {'webCommandMetadata': {'url': '/channel/UC-mi63_RZT6mWrYUQqnxjSA',\n",
       "                'webPageType': 'WEB_PAGE_TYPE_BROWSE',\n",
       "                'rootVe': 3611}},\n",
       "              'browseEndpoint': {'browseId': 'UC-mi63_RZT6mWrYUQqnxjSA'}},\n",
       "             'accessibility': {'accessibilityData': {'label': 'Gå til kanalen'}}}},\n",
       "           'thumbnailOverlays': [{'thumbnailOverlayTimeStatusRenderer': {'text': {'accessibility': {'accessibilityData': {'label': '2 minutter og 35 sekunder'}},\n",
       "               'simpleText': '2:35'},\n",
       "              'style': 'DEFAULT'}},\n",
       "            {'thumbnailOverlayToggleButtonRenderer': {'isToggled': False,\n",
       "              'untoggledIcon': {'iconType': 'WATCH_LATER'},\n",
       "              'toggledIcon': {'iconType': 'CHECK'},\n",
       "              'untoggledTooltip': 'Se senere',\n",
       "              'toggledTooltip': 'Lagt til',\n",
       "              'untoggledServiceEndpoint': {'clickTrackingParams': 'CHkQ-ecDGAEiEwjR9qfntrHqAhXUAIkKHfUPBPM=',\n",
       "               'commandMetadata': {'webCommandMetadata': {'url': '/service_ajax',\n",
       "                 'sendPost': True,\n",
       "                 'apiUrl': '/youtubei/v1/browse/edit_playlist'}},\n",
       "               'playlistEditEndpoint': {'playlistId': 'WL',\n",
       "                'actions': [{'addedVideoId': 'lJ8huJwtbVk',\n",
       "                  'action': 'ACTION_ADD_VIDEO'}]}},\n",
       "              'toggledServiceEndpoint': {'clickTrackingParams': 'CHkQ-ecDGAEiEwjR9qfntrHqAhXUAIkKHfUPBPM=',\n",
       "               'commandMetadata': {'webCommandMetadata': {'url': '/service_ajax',\n",
       "                 'sendPost': True,\n",
       "                 'apiUrl': '/youtubei/v1/browse/edit_playlist'}},\n",
       "               'playlistEditEndpoint': {'playlistId': 'WL',\n",
       "                'actions': [{'action': 'ACTION_REMOVE_VIDEO_BY_VIDEO_ID',\n",
       "                  'removedVideoId': 'lJ8huJwtbVk'}]}},\n",
       "              'untoggledAccessibility': {'accessibilityData': {'label': 'Se senere'}},\n",
       "              'toggledAccessibility': {'accessibilityData': {'label': 'Lagt til'}},\n",
       "              'trackingParams': 'CHkQ-ecDGAEiEwjR9qfntrHqAhXUAIkKHfUPBPM='}},\n",
       "            {'thumbnailOverlayToggleButtonRenderer': {'untoggledIcon': {'iconType': 'ADD_TO_QUEUE_TAIL'},\n",
       "              'toggledIcon': {'iconType': 'PLAYLIST_ADD_CHECK'},\n",
       "              'untoggledTooltip': 'Legg i køen',\n",
       "              'toggledTooltip': 'Lagt til',\n",
       "              'untoggledServiceEndpoint': {'clickTrackingParams': 'CHgQx-wEGAIiEwjR9qfntrHqAhXUAIkKHfUPBPM=',\n",
       "               'commandMetadata': {'webCommandMetadata': {'url': '/service_ajax',\n",
       "                 'sendPost': True}},\n",
       "               'signalServiceEndpoint': {'signal': 'CLIENT_SIGNAL',\n",
       "                'actions': [{'clickTrackingParams': 'CHgQx-wEGAIiEwjR9qfntrHqAhXUAIkKHfUPBPM=',\n",
       "                  'commandMetadata': {'webCommandMetadata': {}},\n",
       "                  'addToPlaylistCommand': {'openMiniplayer': True,\n",
       "                   'videoId': 'lJ8huJwtbVk',\n",
       "                   'listType': 'PLAYLIST_EDIT_LIST_TYPE_QUEUE',\n",
       "                   'onCreateListCommand': {'clickTrackingParams': 'CHgQx-wEGAIiEwjR9qfntrHqAhXUAIkKHfUPBPM=',\n",
       "                    'commandMetadata': {'webCommandMetadata': {'url': '/service_ajax',\n",
       "                      'sendPost': True,\n",
       "                      'apiUrl': '/youtubei/v1/playlist/create'}},\n",
       "                    'createPlaylistServiceEndpoint': {'videoIds': ['lJ8huJwtbVk'],\n",
       "                     'params': 'CAQ%3D'}},\n",
       "                   'videoIds': ['lJ8huJwtbVk']}}]}},\n",
       "              'untoggledAccessibility': {'accessibilityData': {'label': 'Legg i køen'}},\n",
       "              'toggledAccessibility': {'accessibilityData': {'label': 'Lagt til'}},\n",
       "              'trackingParams': 'CHgQx-wEGAIiEwjR9qfntrHqAhXUAIkKHfUPBPM='}},\n",
       "            {'thumbnailOverlayNowPlayingRenderer': {'text': {'runs': [{'text': 'Spilles av nå'}]}}}]}},\n",
       "         {'videoRenderer': {'videoId': 'Sj_9CiNkkn4',\n",
       "           'thumbnail': {'thumbnails': [{'url': 'https://i.ytimg.com/vi/Sj_9CiNkkn4/hq720.jpg?sqp=-oaymwEjCOgCEMoBSFryq4qpAxUIARUAAAAAGAElAADIQj0AgKJDeAE=&rs=AOn4CLDVNUDbrxmTs8Qh19-M7kH1JSaPMQ',\n",
       "              'width': 360,\n",
       "              'height': 202},\n",
       "             {'url': 'https://i.ytimg.com/vi/Sj_9CiNkkn4/hq720.jpg?sqp=-oaymwEXCNAFEJQDSFryq4qpAwkIARUAAIhCGAE=&rs=AOn4CLCbYV5cq3f9nUgbB-cE4CO8G13zYg',\n",
       "              'width': 720,\n",
       "              'height': 404}]},\n",
       "           'title': {'runs': [{'text': 'Abba - Waterloo'}],\n",
       "            'accessibility': {'accessibilityData': {'label': 'Abba - Waterloo av ABBA for 10 år siden 2 minutter og 47 sekunder Sett 51\\xa0481\\xa0726 ganger'}}},\n",
       "           'descriptionSnippet': {'runs': [{'text': 'Listen to '},\n",
       "             {'text': 'ABBA', 'bold': True},\n",
       "             {'text': ': https://play.lnk.to/'},\n",
       "             {'text': 'ABBA', 'bold': True},\n",
       "             {'text': ' Follow '},\n",
       "             {'text': 'ABBA', 'bold': True},\n",
       "             {'text': ' Facebook: https://www.facebook.com/'},\n",
       "             {'text': 'ABBA', 'bold': True},\n",
       "             {'text': '/ Instagram:\\xa0...'}]},\n",
       "           'longBylineText': {'runs': [{'text': 'ABBA',\n",
       "              'navigationEndpoint': {'clickTrackingParams': 'CHMQ3DAYAyITCNH2p-e2seoCFdQAiQod9Q8E8w==',\n",
       "               'commandMetadata': {'webCommandMetadata': {'url': '/channel/UCYPs4y5esNqx6ax1CxZws6Q',\n",
       "                 'webPageType': 'WEB_PAGE_TYPE_BROWSE',\n",
       "                 'rootVe': 3611}},\n",
       "               'browseEndpoint': {'browseId': 'UCYPs4y5esNqx6ax1CxZws6Q',\n",
       "                'canonicalBaseUrl': '/channel/UCYPs4y5esNqx6ax1CxZws6Q'}}}]},\n",
       "           'publishedTimeText': {'simpleText': 'for 10 år siden'},\n",
       "           'lengthText': {'accessibility': {'accessibilityData': {'label': '2 minutter og 47 sekunder'}},\n",
       "            'simpleText': '2:47'},\n",
       "           'viewCountText': {'simpleText': 'Sett 51\\xa0481\\xa0726 ganger'},\n",
       "           'navigationEndpoint': {'clickTrackingParams': 'CHMQ3DAYAyITCNH2p-e2seoCFdQAiQod9Q8E8zIGc2VhcmNoUg5BYmJhIE1hbW1hIE1pYZoBAxD0JA==',\n",
       "            'commandMetadata': {'webCommandMetadata': {'url': '/watch?v=Sj_9CiNkkn4',\n",
       "              'webPageType': 'WEB_PAGE_TYPE_WATCH',\n",
       "              'rootVe': 3832}},\n",
       "            'watchEndpoint': {'videoId': 'Sj_9CiNkkn4'}},\n",
       "           'badges': [{'metadataBadgeRenderer': {'style': 'BADGE_STYLE_TYPE_SIMPLE',\n",
       "              'label': 'Teksting',\n",
       "              'trackingParams': 'CHMQ3DAYAyITCNH2p-e2seoCFdQAiQod9Q8E8w=='}}],\n",
       "           'ownerBadges': [{'metadataBadgeRenderer': {'icon': {'iconType': 'OFFICIAL_ARTIST_BADGE'},\n",
       "              'style': 'BADGE_STYLE_TYPE_VERIFIED_ARTIST',\n",
       "              'tooltip': 'Offisiell artistkanal',\n",
       "              'trackingParams': 'CHMQ3DAYAyITCNH2p-e2seoCFdQAiQod9Q8E8w=='}}],\n",
       "           'ownerText': {'runs': [{'text': 'ABBA',\n",
       "              'navigationEndpoint': {'clickTrackingParams': 'CHMQ3DAYAyITCNH2p-e2seoCFdQAiQod9Q8E8w==',\n",
       "               'commandMetadata': {'webCommandMetadata': {'url': '/channel/UCYPs4y5esNqx6ax1CxZws6Q',\n",
       "                 'webPageType': 'WEB_PAGE_TYPE_BROWSE',\n",
       "                 'rootVe': 3611}},\n",
       "               'browseEndpoint': {'browseId': 'UCYPs4y5esNqx6ax1CxZws6Q',\n",
       "                'canonicalBaseUrl': '/channel/UCYPs4y5esNqx6ax1CxZws6Q'}}}]},\n",
       "           'shortBylineText': {'runs': [{'text': 'ABBA',\n",
       "              'navigationEndpoint': {'clickTrackingParams': 'CHMQ3DAYAyITCNH2p-e2seoCFdQAiQod9Q8E8w==',\n",
       "               'commandMetadata': {'webCommandMetadata': {'url': '/channel/UCYPs4y5esNqx6ax1CxZws6Q',\n",
       "                 'webPageType': 'WEB_PAGE_TYPE_BROWSE',\n",
       "                 'rootVe': 3611}},\n",
       "               'browseEndpoint': {'browseId': 'UCYPs4y5esNqx6ax1CxZws6Q',\n",
       "                'canonicalBaseUrl': '/channel/UCYPs4y5esNqx6ax1CxZws6Q'}}}]},\n",
       "           'trackingParams': 'CHMQ3DAYAyITCNH2p-e2seoCFdQAiQod9Q8E80D-pJKboqH_n0o=',\n",
       "           'showActionMenu': False,\n",
       "           'shortViewCountText': {'simpleText': 'Sett 51\\xa0mill. ganger'},\n",
       "           'menu': {'menuRenderer': {'items': [{'menuServiceItemRenderer': {'text': {'runs': [{'text': 'Legg i køen'}]},\n",
       "                'icon': {'iconType': 'ADD_TO_QUEUE_TAIL'},\n",
       "                'serviceEndpoint': {'clickTrackingParams': 'CHYQ_pgEGAYiEwjR9qfntrHqAhXUAIkKHfUPBPM=',\n",
       "                 'commandMetadata': {'webCommandMetadata': {'url': '/service_ajax',\n",
       "                   'sendPost': True}},\n",
       "                 'signalServiceEndpoint': {'signal': 'CLIENT_SIGNAL',\n",
       "                  'actions': [{'clickTrackingParams': 'CHYQ_pgEGAYiEwjR9qfntrHqAhXUAIkKHfUPBPM=',\n",
       "                    'commandMetadata': {'webCommandMetadata': {}},\n",
       "                    'addToPlaylistCommand': {'openMiniplayer': True,\n",
       "                     'videoId': 'Sj_9CiNkkn4',\n",
       "                     'listType': 'PLAYLIST_EDIT_LIST_TYPE_QUEUE',\n",
       "                     'onCreateListCommand': {'clickTrackingParams': 'CHYQ_pgEGAYiEwjR9qfntrHqAhXUAIkKHfUPBPM=',\n",
       "                      'commandMetadata': {'webCommandMetadata': {'url': '/service_ajax',\n",
       "                        'sendPost': True,\n",
       "                        'apiUrl': '/youtubei/v1/playlist/create'}},\n",
       "                      'createPlaylistServiceEndpoint': {'videoIds': ['Sj_9CiNkkn4'],\n",
       "                       'params': 'CAQ%3D'}},\n",
       "                     'videoIds': ['Sj_9CiNkkn4']}}]}},\n",
       "                'trackingParams': 'CHYQ_pgEGAYiEwjR9qfntrHqAhXUAIkKHfUPBPM='}}],\n",
       "             'trackingParams': 'CHMQ3DAYAyITCNH2p-e2seoCFdQAiQod9Q8E8w==',\n",
       "             'accessibility': {'accessibilityData': {'label': 'Handlingsmeny'}}}},\n",
       "           'channelThumbnailSupportedRenderers': {'channelThumbnailWithLinkRenderer': {'thumbnail': {'thumbnails': [{'url': 'https://yt3.ggpht.com/a-/AOh14Gi1LYke3duGSrrVAY_nCCuUlvcwohwX3Gdz4A=s68-c-k-c0x00ffffff-no-rj-mo',\n",
       "                'width': 68,\n",
       "                'height': 68}]},\n",
       "             'navigationEndpoint': {'clickTrackingParams': 'CHMQ3DAYAyITCNH2p-e2seoCFdQAiQod9Q8E8w==',\n",
       "              'commandMetadata': {'webCommandMetadata': {'url': '/channel/UCYPs4y5esNqx6ax1CxZws6Q',\n",
       "                'webPageType': 'WEB_PAGE_TYPE_BROWSE',\n",
       "                'rootVe': 3611}},\n",
       "              'browseEndpoint': {'browseId': 'UCYPs4y5esNqx6ax1CxZws6Q'}},\n",
       "             'accessibility': {'accessibilityData': {'label': 'Gå til kanalen'}}}},\n",
       "           'thumbnailOverlays': [{'thumbnailOverlayTimeStatusRenderer': {'text': {'accessibility': {'accessibilityData': {'label': '2 minutter og 47 sekunder'}},\n",
       "               'simpleText': '2:47'},\n",
       "              'style': 'DEFAULT'}},\n",
       "            {'thumbnailOverlayToggleButtonRenderer': {'isToggled': False,\n",
       "              'untoggledIcon': {'iconType': 'WATCH_LATER'},\n",
       "              'toggledIcon': {'iconType': 'CHECK'},\n",
       "              'untoggledTooltip': 'Se senere',\n",
       "              'toggledTooltip': 'Lagt til',\n",
       "              'untoggledServiceEndpoint': {'clickTrackingParams': 'CHUQ-ecDGAMiEwjR9qfntrHqAhXUAIkKHfUPBPM=',\n",
       "               'commandMetadata': {'webCommandMetadata': {'url': '/service_ajax',\n",
       "                 'sendPost': True,\n",
       "                 'apiUrl': '/youtubei/v1/browse/edit_playlist'}},\n",
       "               'playlistEditEndpoint': {'playlistId': 'WL',\n",
       "                'actions': [{'addedVideoId': 'Sj_9CiNkkn4',\n",
       "                  'action': 'ACTION_ADD_VIDEO'}]}},\n",
       "              'toggledServiceEndpoint': {'clickTrackingParams': 'CHUQ-ecDGAMiEwjR9qfntrHqAhXUAIkKHfUPBPM=',\n",
       "               'commandMetadata': {'webCommandMetadata': {'url': '/service_ajax',\n",
       "                 'sendPost': True,\n",
       "                 'apiUrl': '/youtubei/v1/browse/edit_playlist'}},\n",
       "               'playlistEditEndpoint': {'playlistId': 'WL',\n",
       "                'actions': [{'action': 'ACTION_REMOVE_VIDEO_BY_VIDEO_ID',\n",
       "                  'removedVideoId': 'Sj_9CiNkkn4'}]}},\n",
       "              'untoggledAccessibility': {'accessibilityData': {'label': 'Se senere'}},\n",
       "              'toggledAccessibility': {'accessibilityData': {'label': 'Lagt til'}},\n",
       "              'trackingParams': 'CHUQ-ecDGAMiEwjR9qfntrHqAhXUAIkKHfUPBPM='}},\n",
       "            {'thumbnailOverlayToggleButtonRenderer': {'untoggledIcon': {'iconType': 'ADD_TO_QUEUE_TAIL'},\n",
       "              'toggledIcon': {'iconType': 'PLAYLIST_ADD_CHECK'},\n",
       "              'untoggledTooltip': 'Legg i køen',\n",
       "              'toggledTooltip': 'Lagt til',\n",
       "              'untoggledServiceEndpoint': {'clickTrackingParams': 'CHQQx-wEGAQiEwjR9qfntrHqAhXUAIkKHfUPBPM=',\n",
       "               'commandMetadata': {'webCommandMetadata': {'url': '/service_ajax',\n",
       "                 'sendPost': True}},\n",
       "               'signalServiceEndpoint': {'signal': 'CLIENT_SIGNAL',\n",
       "                'actions': [{'clickTrackingParams': 'CHQQx-wEGAQiEwjR9qfntrHqAhXUAIkKHfUPBPM=',\n",
       "                  'commandMetadata': {'webCommandMetadata': {}},\n",
       "                  'addToPlaylistCommand': {'openMiniplayer': True,\n",
       "                   'videoId': 'Sj_9CiNkkn4',\n",
       "                   'listType': 'PLAYLIST_EDIT_LIST_TYPE_QUEUE',\n",
       "                   'onCreateListCommand': {'clickTrackingParams': 'CHQQx-wEGAQiEwjR9qfntrHqAhXUAIkKHfUPBPM=',\n",
       "                    'commandMetadata': {'webCommandMetadata': {'url': '/service_ajax',\n",
       "                      'sendPost': True,\n",
       "                      'apiUrl': '/youtubei/v1/playlist/create'}},\n",
       "                    'createPlaylistServiceEndpoint': {'videoIds': ['Sj_9CiNkkn4'],\n",
       "                     'params': 'CAQ%3D'}},\n",
       "                   'videoIds': ['Sj_9CiNkkn4']}}]}},\n",
       "              'untoggledAccessibility': {'accessibilityData': {'label': 'Legg i køen'}},\n",
       "              'toggledAccessibility': {'accessibilityData': {'label': 'Lagt til'}},\n",
       "              'trackingParams': 'CHQQx-wEGAQiEwjR9qfntrHqAhXUAIkKHfUPBPM='}},\n",
       "            {'thumbnailOverlayNowPlayingRenderer': {'text': {'runs': [{'text': 'Spilles av nå'}]}}}]}},\n",
       "         {'videoRenderer': {'videoId': 'XEjLoHdbVeE',\n",
       "           'thumbnail': {'thumbnails': [{'url': 'https://i.ytimg.com/vi/XEjLoHdbVeE/hqdefault.jpg?sqp=-oaymwEjCOADEI4CSFryq4qpAxUIARUAAAAAGAElAADIQj0AgKJDeAE=&rs=AOn4CLBX-GJXSOTvTAEtsN1-BwfSarjXaw',\n",
       "              'width': 480,\n",
       "              'height': 270}]},\n",
       "           'title': {'runs': [{'text': 'Abba - Gimme! Gimme! Gimme! (A Man After Midnight)'}],\n",
       "            'accessibility': {'accessibilityData': {'label': 'Abba - Gimme! Gimme! Gimme! (A Man After Midnight) av ABBA for 10 år siden 3 minutter og 30 sekunder Sett 173\\xa0156\\xa0842 ganger'}}},\n",
       "           'descriptionSnippet': {'runs': [{'text': 'Music video by '},\n",
       "             {'text': 'Abba', 'bold': True},\n",
       "             {'text': ' performing Gimme! Gimme! Gimme! (A Man After Midnight). (C) 1979 Polar Music International AB.'}]},\n",
       "           'longBylineText': {'runs': [{'text': 'ABBA',\n",
       "              'navigationEndpoint': {'clickTrackingParams': 'CG8Q3DAYBCITCNH2p-e2seoCFdQAiQod9Q8E8w==',\n",
       "               'commandMetadata': {'webCommandMetadata': {'url': '/channel/UCYPs4y5esNqx6ax1CxZws6Q',\n",
       "                 'webPageType': 'WEB_PAGE_TYPE_BROWSE',\n",
       "                 'rootVe': 3611}},\n",
       "               'browseEndpoint': {'browseId': 'UCYPs4y5esNqx6ax1CxZws6Q',\n",
       "                'canonicalBaseUrl': '/channel/UCYPs4y5esNqx6ax1CxZws6Q'}}}]},\n",
       "           'publishedTimeText': {'simpleText': 'for 10 år siden'},\n",
       "           'lengthText': {'accessibility': {'accessibilityData': {'label': '3 minutter og 30 sekunder'}},\n",
       "            'simpleText': '3:30'},\n",
       "           'viewCountText': {'simpleText': 'Sett 173\\xa0156\\xa0842 ganger'},\n",
       "           'navigationEndpoint': {'clickTrackingParams': 'CG8Q3DAYBCITCNH2p-e2seoCFdQAiQod9Q8E8zIGc2VhcmNoUg5BYmJhIE1hbW1hIE1pYZoBAxD0JA==',\n",
       "            'commandMetadata': {'webCommandMetadata': {'url': '/watch?v=XEjLoHdbVeE',\n",
       "              'webPageType': 'WEB_PAGE_TYPE_WATCH',\n",
       "              'rootVe': 3832}},\n",
       "            'watchEndpoint': {'videoId': 'XEjLoHdbVeE'}},\n",
       "           'ownerBadges': [{'metadataBadgeRenderer': {'icon': {'iconType': 'OFFICIAL_ARTIST_BADGE'},\n",
       "              'style': 'BADGE_STYLE_TYPE_VERIFIED_ARTIST',\n",
       "              'tooltip': 'Offisiell artistkanal',\n",
       "              'trackingParams': 'CG8Q3DAYBCITCNH2p-e2seoCFdQAiQod9Q8E8w=='}}],\n",
       "           'ownerText': {'runs': [{'text': 'ABBA',\n",
       "              'navigationEndpoint': {'clickTrackingParams': 'CG8Q3DAYBCITCNH2p-e2seoCFdQAiQod9Q8E8w==',\n",
       "               'commandMetadata': {'webCommandMetadata': {'url': '/channel/UCYPs4y5esNqx6ax1CxZws6Q',\n",
       "                 'webPageType': 'WEB_PAGE_TYPE_BROWSE',\n",
       "                 'rootVe': 3611}},\n",
       "               'browseEndpoint': {'browseId': 'UCYPs4y5esNqx6ax1CxZws6Q',\n",
       "                'canonicalBaseUrl': '/channel/UCYPs4y5esNqx6ax1CxZws6Q'}}}]},\n",
       "           'shortBylineText': {'runs': [{'text': 'ABBA',\n",
       "              'navigationEndpoint': {'clickTrackingParams': 'CG8Q3DAYBCITCNH2p-e2seoCFdQAiQod9Q8E8w==',\n",
       "               'commandMetadata': {'webCommandMetadata': {'url': '/channel/UCYPs4y5esNqx6ax1CxZws6Q',\n",
       "                 'webPageType': 'WEB_PAGE_TYPE_BROWSE',\n",
       "                 'rootVe': 3611}},\n",
       "               'browseEndpoint': {'browseId': 'UCYPs4y5esNqx6ax1CxZws6Q',\n",
       "                'canonicalBaseUrl': '/channel/UCYPs4y5esNqx6ax1CxZws6Q'}}}]},\n",
       "           'trackingParams': 'CG8Q3DAYBCITCNH2p-e2seoCFdQAiQod9Q8E80Dhq-26h_SypFw=',\n",
       "           'showActionMenu': False,\n",
       "           'shortViewCountText': {'simpleText': 'Sett 173\\xa0mill. ganger'},\n",
       "           'menu': {'menuRenderer': {'items': [{'menuServiceItemRenderer': {'text': {'runs': [{'text': 'Legg i køen'}]},\n",
       "                'icon': {'iconType': 'ADD_TO_QUEUE_TAIL'},\n",
       "                'serviceEndpoint': {'clickTrackingParams': 'CHIQ_pgEGAUiEwjR9qfntrHqAhXUAIkKHfUPBPM=',\n",
       "                 'commandMetadata': {'webCommandMetadata': {'url': '/service_ajax',\n",
       "                   'sendPost': True}},\n",
       "                 'signalServiceEndpoint': {'signal': 'CLIENT_SIGNAL',\n",
       "                  'actions': [{'clickTrackingParams': 'CHIQ_pgEGAUiEwjR9qfntrHqAhXUAIkKHfUPBPM=',\n",
       "                    'commandMetadata': {'webCommandMetadata': {}},\n",
       "                    'addToPlaylistCommand': {'openMiniplayer': True,\n",
       "                     'videoId': 'XEjLoHdbVeE',\n",
       "                     'listType': 'PLAYLIST_EDIT_LIST_TYPE_QUEUE',\n",
       "                     'onCreateListCommand': {'clickTrackingParams': 'CHIQ_pgEGAUiEwjR9qfntrHqAhXUAIkKHfUPBPM=',\n",
       "                      'commandMetadata': {'webCommandMetadata': {'url': '/service_ajax',\n",
       "                        'sendPost': True,\n",
       "                        'apiUrl': '/youtubei/v1/playlist/create'}},\n",
       "                      'createPlaylistServiceEndpoint': {'videoIds': ['XEjLoHdbVeE'],\n",
       "                       'params': 'CAQ%3D'}},\n",
       "                     'videoIds': ['XEjLoHdbVeE']}}]}},\n",
       "                'trackingParams': 'CHIQ_pgEGAUiEwjR9qfntrHqAhXUAIkKHfUPBPM='}}],\n",
       "             'trackingParams': 'CG8Q3DAYBCITCNH2p-e2seoCFdQAiQod9Q8E8w==',\n",
       "             'accessibility': {'accessibilityData': {'label': 'Handlingsmeny'}}}},\n",
       "           'channelThumbnailSupportedRenderers': {'channelThumbnailWithLinkRenderer': {'thumbnail': {'thumbnails': [{'url': 'https://yt3.ggpht.com/a-/AOh14Gi1LYke3duGSrrVAY_nCCuUlvcwohwX3Gdz4A=s68-c-k-c0x00ffffff-no-rj-mo',\n",
       "                'width': 68,\n",
       "                'height': 68}]},\n",
       "             'navigationEndpoint': {'clickTrackingParams': 'CG8Q3DAYBCITCNH2p-e2seoCFdQAiQod9Q8E8w==',\n",
       "              'commandMetadata': {'webCommandMetadata': {'url': '/channel/UCYPs4y5esNqx6ax1CxZws6Q',\n",
       "                'webPageType': 'WEB_PAGE_TYPE_BROWSE',\n",
       "                'rootVe': 3611}},\n",
       "              'browseEndpoint': {'browseId': 'UCYPs4y5esNqx6ax1CxZws6Q'}},\n",
       "             'accessibility': {'accessibilityData': {'label': 'Gå til kanalen'}}}},\n",
       "           'thumbnailOverlays': [{'thumbnailOverlayTimeStatusRenderer': {'text': {'accessibility': {'accessibilityData': {'label': '3 minutter og 30 sekunder'}},\n",
       "               'simpleText': '3:30'},\n",
       "              'style': 'DEFAULT'}},\n",
       "            {'thumbnailOverlayToggleButtonRenderer': {'isToggled': False,\n",
       "              'untoggledIcon': {'iconType': 'WATCH_LATER'},\n",
       "              'toggledIcon': {'iconType': 'CHECK'},\n",
       "              'untoggledTooltip': 'Se senere',\n",
       "              'toggledTooltip': 'Lagt til',\n",
       "              'untoggledServiceEndpoint': {'clickTrackingParams': 'CHEQ-ecDGAIiEwjR9qfntrHqAhXUAIkKHfUPBPM=',\n",
       "               'commandMetadata': {'webCommandMetadata': {'url': '/service_ajax',\n",
       "                 'sendPost': True,\n",
       "                 'apiUrl': '/youtubei/v1/browse/edit_playlist'}},\n",
       "               'playlistEditEndpoint': {'playlistId': 'WL',\n",
       "                'actions': [{'addedVideoId': 'XEjLoHdbVeE',\n",
       "                  'action': 'ACTION_ADD_VIDEO'}]}},\n",
       "              'toggledServiceEndpoint': {'clickTrackingParams': 'CHEQ-ecDGAIiEwjR9qfntrHqAhXUAIkKHfUPBPM=',\n",
       "               'commandMetadata': {'webCommandMetadata': {'url': '/service_ajax',\n",
       "                 'sendPost': True,\n",
       "                 'apiUrl': '/youtubei/v1/browse/edit_playlist'}},\n",
       "               'playlistEditEndpoint': {'playlistId': 'WL',\n",
       "                'actions': [{'action': 'ACTION_REMOVE_VIDEO_BY_VIDEO_ID',\n",
       "                  'removedVideoId': 'XEjLoHdbVeE'}]}},\n",
       "              'untoggledAccessibility': {'accessibilityData': {'label': 'Se senere'}},\n",
       "              'toggledAccessibility': {'accessibilityData': {'label': 'Lagt til'}},\n",
       "              'trackingParams': 'CHEQ-ecDGAIiEwjR9qfntrHqAhXUAIkKHfUPBPM='}},\n",
       "            {'thumbnailOverlayToggleButtonRenderer': {'untoggledIcon': {'iconType': 'ADD_TO_QUEUE_TAIL'},\n",
       "              'toggledIcon': {'iconType': 'PLAYLIST_ADD_CHECK'},\n",
       "              'untoggledTooltip': 'Legg i køen',\n",
       "              'toggledTooltip': 'Lagt til',\n",
       "              'untoggledServiceEndpoint': {'clickTrackingParams': 'CHAQx-wEGAMiEwjR9qfntrHqAhXUAIkKHfUPBPM=',\n",
       "               'commandMetadata': {'webCommandMetadata': {'url': '/service_ajax',\n",
       "                 'sendPost': True}},\n",
       "               'signalServiceEndpoint': {'signal': 'CLIENT_SIGNAL',\n",
       "                'actions': [{'clickTrackingParams': 'CHAQx-wEGAMiEwjR9qfntrHqAhXUAIkKHfUPBPM=',\n",
       "                  'commandMetadata': {'webCommandMetadata': {}},\n",
       "                  'addToPlaylistCommand': {'openMiniplayer': True,\n",
       "                   'videoId': 'XEjLoHdbVeE',\n",
       "                   'listType': 'PLAYLIST_EDIT_LIST_TYPE_QUEUE',\n",
       "                   'onCreateListCommand': {'clickTrackingParams': 'CHAQx-wEGAMiEwjR9qfntrHqAhXUAIkKHfUPBPM=',\n",
       "                    'commandMetadata': {'webCommandMetadata': {'url': '/service_ajax',\n",
       "                      'sendPost': True,\n",
       "                      'apiUrl': '/youtubei/v1/playlist/create'}},\n",
       "                    'createPlaylistServiceEndpoint': {'videoIds': ['XEjLoHdbVeE'],\n",
       "                     'params': 'CAQ%3D'}},\n",
       "                   'videoIds': ['XEjLoHdbVeE']}}]}},\n",
       "              'untoggledAccessibility': {'accessibilityData': {'label': 'Legg i køen'}},\n",
       "              'toggledAccessibility': {'accessibilityData': {'label': 'Lagt til'}},\n",
       "              'trackingParams': 'CHAQx-wEGAMiEwjR9qfntrHqAhXUAIkKHfUPBPM='}},\n",
       "            {'thumbnailOverlayNowPlayingRenderer': {'text': {'runs': [{'text': 'Spilles av nå'}]}}}]}},\n",
       "         {'videoRenderer': {'videoId': 'Jv2B26475WE',\n",
       "           'thumbnail': {'thumbnails': [{'url': 'https://i.ytimg.com/vi/Jv2B26475WE/hqdefault.jpg?sqp=-oaymwEjCOADEI4CSFryq4qpAxUIARUAAAAAGAElAADIQj0AgKJDeAE=&rs=AOn4CLDOHkSFT5qgoxwqx085xofkuGykyA',\n",
       "              'width': 480,\n",
       "              'height': 270}]},\n",
       "           'title': {'runs': [{'text': 'Mamma Mia! Here We Go Again - Angel Eyes (Lyrics) 1080pHD'}],\n",
       "            'accessibility': {'accessibilityData': {'label': 'Mamma Mia! Here We Go Again - Angel Eyes (Lyrics) 1080pHD av Lise LS_01 for 1 år siden 2 minutter og 45 sekunder Sett 12\\xa0787\\xa0384 ganger'}}},\n",
       "           'descriptionSnippet': {'runs': [{'text': 'Christine Baranski, Julie Walters & Amanda Seyfried - Angel Eyes (Lyrics) 1080pHD.'}]},\n",
       "           'longBylineText': {'runs': [{'text': 'Lise LS_01',\n",
       "              'navigationEndpoint': {'clickTrackingParams': 'CGsQ3DAYBSITCNH2p-e2seoCFdQAiQod9Q8E8w==',\n",
       "               'commandMetadata': {'webCommandMetadata': {'url': '/channel/UC-mi63_RZT6mWrYUQqnxjSA',\n",
       "                 'webPageType': 'WEB_PAGE_TYPE_BROWSE',\n",
       "                 'rootVe': 3611}},\n",
       "               'browseEndpoint': {'browseId': 'UC-mi63_RZT6mWrYUQqnxjSA'}}}]},\n",
       "           'publishedTimeText': {'simpleText': 'for 1 år siden'},\n",
       "           'lengthText': {'accessibility': {'accessibilityData': {'label': '2 minutter og 45 sekunder'}},\n",
       "            'simpleText': '2:45'},\n",
       "           'viewCountText': {'simpleText': 'Sett 12\\xa0787\\xa0384 ganger'},\n",
       "           'navigationEndpoint': {'clickTrackingParams': 'CGsQ3DAYBSITCNH2p-e2seoCFdQAiQod9Q8E8zIGc2VhcmNoUg5BYmJhIE1hbW1hIE1pYZoBAxD0JA==',\n",
       "            'commandMetadata': {'webCommandMetadata': {'url': '/watch?v=Jv2B26475WE',\n",
       "              'webPageType': 'WEB_PAGE_TYPE_WATCH',\n",
       "              'rootVe': 3832}},\n",
       "            'watchEndpoint': {'videoId': 'Jv2B26475WE'}},\n",
       "           'ownerText': {'runs': [{'text': 'Lise LS_01',\n",
       "              'navigationEndpoint': {'clickTrackingParams': 'CGsQ3DAYBSITCNH2p-e2seoCFdQAiQod9Q8E8w==',\n",
       "               'commandMetadata': {'webCommandMetadata': {'url': '/channel/UC-mi63_RZT6mWrYUQqnxjSA',\n",
       "                 'webPageType': 'WEB_PAGE_TYPE_BROWSE',\n",
       "                 'rootVe': 3611}},\n",
       "               'browseEndpoint': {'browseId': 'UC-mi63_RZT6mWrYUQqnxjSA'}}}]},\n",
       "           'shortBylineText': {'runs': [{'text': 'Lise LS_01',\n",
       "              'navigationEndpoint': {'clickTrackingParams': 'CGsQ3DAYBSITCNH2p-e2seoCFdQAiQod9Q8E8w==',\n",
       "               'commandMetadata': {'webCommandMetadata': {'url': '/channel/UC-mi63_RZT6mWrYUQqnxjSA',\n",
       "                 'webPageType': 'WEB_PAGE_TYPE_BROWSE',\n",
       "                 'rootVe': 3611}},\n",
       "               'browseEndpoint': {'browseId': 'UC-mi63_RZT6mWrYUQqnxjSA'}}}]},\n",
       "           'trackingParams': 'CGsQ3DAYBSITCNH2p-e2seoCFdQAiQod9Q8E80Dhyu_xurvg_iY=',\n",
       "           'showActionMenu': False,\n",
       "           'shortViewCountText': {'simpleText': 'Sett 12\\xa0mill. ganger'},\n",
       "           'menu': {'menuRenderer': {'items': [{'menuServiceItemRenderer': {'text': {'runs': [{'text': 'Legg i køen'}]},\n",
       "                'icon': {'iconType': 'ADD_TO_QUEUE_TAIL'},\n",
       "                'serviceEndpoint': {'clickTrackingParams': 'CG4Q_pgEGAQiEwjR9qfntrHqAhXUAIkKHfUPBPM=',\n",
       "                 'commandMetadata': {'webCommandMetadata': {'url': '/service_ajax',\n",
       "                   'sendPost': True}},\n",
       "                 'signalServiceEndpoint': {'signal': 'CLIENT_SIGNAL',\n",
       "                  'actions': [{'clickTrackingParams': 'CG4Q_pgEGAQiEwjR9qfntrHqAhXUAIkKHfUPBPM=',\n",
       "                    'commandMetadata': {'webCommandMetadata': {}},\n",
       "                    'addToPlaylistCommand': {'openMiniplayer': True,\n",
       "                     'videoId': 'Jv2B26475WE',\n",
       "                     'listType': 'PLAYLIST_EDIT_LIST_TYPE_QUEUE',\n",
       "                     'onCreateListCommand': {'clickTrackingParams': 'CG4Q_pgEGAQiEwjR9qfntrHqAhXUAIkKHfUPBPM=',\n",
       "                      'commandMetadata': {'webCommandMetadata': {'url': '/service_ajax',\n",
       "                        'sendPost': True,\n",
       "                        'apiUrl': '/youtubei/v1/playlist/create'}},\n",
       "                      'createPlaylistServiceEndpoint': {'videoIds': ['Jv2B26475WE'],\n",
       "                       'params': 'CAQ%3D'}},\n",
       "                     'videoIds': ['Jv2B26475WE']}}]}},\n",
       "                'trackingParams': 'CG4Q_pgEGAQiEwjR9qfntrHqAhXUAIkKHfUPBPM='}}],\n",
       "             'trackingParams': 'CGsQ3DAYBSITCNH2p-e2seoCFdQAiQod9Q8E8w==',\n",
       "             'accessibility': {'accessibilityData': {'label': 'Handlingsmeny'}}}},\n",
       "           'channelThumbnailSupportedRenderers': {'channelThumbnailWithLinkRenderer': {'thumbnail': {'thumbnails': [{'url': 'https://yt3.ggpht.com/a-/AOh14GjrxjE1VWdstAf-TwnRaa7pcTvLqgWFhUR6Ig=s68-c-k-c0x00ffffff-no-rj-mo',\n",
       "                'width': 68,\n",
       "                'height': 68}]},\n",
       "             'navigationEndpoint': {'clickTrackingParams': 'CGsQ3DAYBSITCNH2p-e2seoCFdQAiQod9Q8E8w==',\n",
       "              'commandMetadata': {'webCommandMetadata': {'url': '/channel/UC-mi63_RZT6mWrYUQqnxjSA',\n",
       "                'webPageType': 'WEB_PAGE_TYPE_BROWSE',\n",
       "                'rootVe': 3611}},\n",
       "              'browseEndpoint': {'browseId': 'UC-mi63_RZT6mWrYUQqnxjSA'}},\n",
       "             'accessibility': {'accessibilityData': {'label': 'Gå til kanalen'}}}},\n",
       "           'thumbnailOverlays': [{'thumbnailOverlayTimeStatusRenderer': {'text': {'accessibility': {'accessibilityData': {'label': '2 minutter og 45 sekunder'}},\n",
       "               'simpleText': '2:45'},\n",
       "              'style': 'DEFAULT'}},\n",
       "            {'thumbnailOverlayToggleButtonRenderer': {'isToggled': False,\n",
       "              'untoggledIcon': {'iconType': 'WATCH_LATER'},\n",
       "              'toggledIcon': {'iconType': 'CHECK'},\n",
       "              'untoggledTooltip': 'Se senere',\n",
       "              'toggledTooltip': 'Lagt til',\n",
       "              'untoggledServiceEndpoint': {'clickTrackingParams': 'CG0Q-ecDGAEiEwjR9qfntrHqAhXUAIkKHfUPBPM=',\n",
       "               'commandMetadata': {'webCommandMetadata': {'url': '/service_ajax',\n",
       "                 'sendPost': True,\n",
       "                 'apiUrl': '/youtubei/v1/browse/edit_playlist'}},\n",
       "               'playlistEditEndpoint': {'playlistId': 'WL',\n",
       "                'actions': [{'addedVideoId': 'Jv2B26475WE',\n",
       "                  'action': 'ACTION_ADD_VIDEO'}]}},\n",
       "              'toggledServiceEndpoint': {'clickTrackingParams': 'CG0Q-ecDGAEiEwjR9qfntrHqAhXUAIkKHfUPBPM=',\n",
       "               'commandMetadata': {'webCommandMetadata': {'url': '/service_ajax',\n",
       "                 'sendPost': True,\n",
       "                 'apiUrl': '/youtubei/v1/browse/edit_playlist'}},\n",
       "               'playlistEditEndpoint': {'playlistId': 'WL',\n",
       "                'actions': [{'action': 'ACTION_REMOVE_VIDEO_BY_VIDEO_ID',\n",
       "                  'removedVideoId': 'Jv2B26475WE'}]}},\n",
       "              'untoggledAccessibility': {'accessibilityData': {'label': 'Se senere'}},\n",
       "              'toggledAccessibility': {'accessibilityData': {'label': 'Lagt til'}},\n",
       "              'trackingParams': 'CG0Q-ecDGAEiEwjR9qfntrHqAhXUAIkKHfUPBPM='}},\n",
       "            {'thumbnailOverlayToggleButtonRenderer': {'untoggledIcon': {'iconType': 'ADD_TO_QUEUE_TAIL'},\n",
       "              'toggledIcon': {'iconType': 'PLAYLIST_ADD_CHECK'},\n",
       "              'untoggledTooltip': 'Legg i køen',\n",
       "              'toggledTooltip': 'Lagt til',\n",
       "              'untoggledServiceEndpoint': {'clickTrackingParams': 'CGwQx-wEGAIiEwjR9qfntrHqAhXUAIkKHfUPBPM=',\n",
       "               'commandMetadata': {'webCommandMetadata': {'url': '/service_ajax',\n",
       "                 'sendPost': True}},\n",
       "               'signalServiceEndpoint': {'signal': 'CLIENT_SIGNAL',\n",
       "                'actions': [{'clickTrackingParams': 'CGwQx-wEGAIiEwjR9qfntrHqAhXUAIkKHfUPBPM=',\n",
       "                  'commandMetadata': {'webCommandMetadata': {}},\n",
       "                  'addToPlaylistCommand': {'openMiniplayer': True,\n",
       "                   'videoId': 'Jv2B26475WE',\n",
       "                   'listType': 'PLAYLIST_EDIT_LIST_TYPE_QUEUE',\n",
       "                   'onCreateListCommand': {'clickTrackingParams': 'CGwQx-wEGAIiEwjR9qfntrHqAhXUAIkKHfUPBPM=',\n",
       "                    'commandMetadata': {'webCommandMetadata': {'url': '/service_ajax',\n",
       "                      'sendPost': True,\n",
       "                      'apiUrl': '/youtubei/v1/playlist/create'}},\n",
       "                    'createPlaylistServiceEndpoint': {'videoIds': ['Jv2B26475WE'],\n",
       "                     'params': 'CAQ%3D'}},\n",
       "                   'videoIds': ['Jv2B26475WE']}}]}},\n",
       "              'untoggledAccessibility': {'accessibilityData': {'label': 'Legg i køen'}},\n",
       "              'toggledAccessibility': {'accessibilityData': {'label': 'Lagt til'}},\n",
       "              'trackingParams': 'CGwQx-wEGAIiEwjR9qfntrHqAhXUAIkKHfUPBPM='}},\n",
       "            {'thumbnailOverlayNowPlayingRenderer': {'text': {'runs': [{'text': 'Spilles av nå'}]}}}]}},\n",
       "         {'videoRenderer': {'videoId': 'bu9YxTb6gf8',\n",
       "           'thumbnail': {'thumbnails': [{'url': 'https://i.ytimg.com/vi/bu9YxTb6gf8/hq720.jpg?sqp=-oaymwEjCOgCEMoBSFryq4qpAxUIARUAAAAAGAElAADIQj0AgKJDeAE=&rs=AOn4CLCjd3_ueyGVHTuEufGrGZQrkazZpA',\n",
       "              'width': 360,\n",
       "              'height': 202},\n",
       "             {'url': 'https://i.ytimg.com/vi/bu9YxTb6gf8/hq720.jpg?sqp=-oaymwEXCNAFEJQDSFryq4qpAwkIARUAAIhCGAE=&rs=AOn4CLDITy2H-9bCUQHug_CsksKGt9hKWA',\n",
       "              'width': 720,\n",
       "              'height': 404}]},\n",
       "           'title': {'runs': [{'text': 'Mamma Mia! (2008) - SOS Scene (7/10) | Movieclips'}],\n",
       "            'accessibility': {'accessibilityData': {'label': 'Mamma Mia! (2008) - SOS Scene (7/10) | Movieclips av Movieclips for 1 år siden 2 minutter og 36 sekunder Sett 1\\xa0629\\xa0207 ganger'}}},\n",
       "           'descriptionSnippet': {'runs': [{'text': 'Mamma Mia', 'bold': True},\n",
       "             {'text': '! - SOS: Sam (Pierce Brosnan) and Donna (Meryl Streep) play cat and mouse with their feelings. BUY THE MOVIE:\\xa0...'}]},\n",
       "           'longBylineText': {'runs': [{'text': 'Movieclips',\n",
       "              'navigationEndpoint': {'clickTrackingParams': 'CGcQ3DAYBiITCNH2p-e2seoCFdQAiQod9Q8E8w==',\n",
       "               'commandMetadata': {'webCommandMetadata': {'url': '/user/movieclips',\n",
       "                 'webPageType': 'WEB_PAGE_TYPE_BROWSE',\n",
       "                 'rootVe': 3611}},\n",
       "               'browseEndpoint': {'browseId': 'UC3gNmTGu-TTbFPpfSs5kNkg',\n",
       "                'canonicalBaseUrl': '/user/movieclips'}}}]},\n",
       "           'publishedTimeText': {'simpleText': 'for 1 år siden'},\n",
       "           'lengthText': {'accessibility': {'accessibilityData': {'label': '2 minutter og 36 sekunder'}},\n",
       "            'simpleText': '2:36'},\n",
       "           'viewCountText': {'simpleText': 'Sett 1\\xa0629\\xa0207 ganger'},\n",
       "           'navigationEndpoint': {'clickTrackingParams': 'CGcQ3DAYBiITCNH2p-e2seoCFdQAiQod9Q8E8zIGc2VhcmNoUg5BYmJhIE1hbW1hIE1pYZoBAxD0JA==',\n",
       "            'commandMetadata': {'webCommandMetadata': {'url': '/watch?v=bu9YxTb6gf8',\n",
       "              'webPageType': 'WEB_PAGE_TYPE_WATCH',\n",
       "              'rootVe': 3832}},\n",
       "            'watchEndpoint': {'videoId': 'bu9YxTb6gf8'}},\n",
       "           'ownerBadges': [{'metadataBadgeRenderer': {'icon': {'iconType': 'CHECK_CIRCLE_THICK'},\n",
       "              'style': 'BADGE_STYLE_TYPE_VERIFIED',\n",
       "              'tooltip': 'Bekreftet',\n",
       "              'trackingParams': 'CGcQ3DAYBiITCNH2p-e2seoCFdQAiQod9Q8E8w=='}}],\n",
       "           'ownerText': {'runs': [{'text': 'Movieclips',\n",
       "              'navigationEndpoint': {'clickTrackingParams': 'CGcQ3DAYBiITCNH2p-e2seoCFdQAiQod9Q8E8w==',\n",
       "               'commandMetadata': {'webCommandMetadata': {'url': '/user/movieclips',\n",
       "                 'webPageType': 'WEB_PAGE_TYPE_BROWSE',\n",
       "                 'rootVe': 3611}},\n",
       "               'browseEndpoint': {'browseId': 'UC3gNmTGu-TTbFPpfSs5kNkg',\n",
       "                'canonicalBaseUrl': '/user/movieclips'}}}]},\n",
       "           'shortBylineText': {'runs': [{'text': 'Movieclips',\n",
       "              'navigationEndpoint': {'clickTrackingParams': 'CGcQ3DAYBiITCNH2p-e2seoCFdQAiQod9Q8E8w==',\n",
       "               'commandMetadata': {'webCommandMetadata': {'url': '/user/movieclips',\n",
       "                 'webPageType': 'WEB_PAGE_TYPE_BROWSE',\n",
       "                 'rootVe': 3611}},\n",
       "               'browseEndpoint': {'browseId': 'UC3gNmTGu-TTbFPpfSs5kNkg',\n",
       "                'canonicalBaseUrl': '/user/movieclips'}}}]},\n",
       "           'trackingParams': 'CGcQ3DAYBiITCNH2p-e2seoCFdQAiQod9Q8E80D_g-q305jW924=',\n",
       "           'showActionMenu': False,\n",
       "           'shortViewCountText': {'simpleText': 'Sett 1,6\\xa0mill. ganger'},\n",
       "           'menu': {'menuRenderer': {'items': [{'menuServiceItemRenderer': {'text': {'runs': [{'text': 'Legg i køen'}]},\n",
       "                'icon': {'iconType': 'ADD_TO_QUEUE_TAIL'},\n",
       "                'serviceEndpoint': {'clickTrackingParams': 'CGoQ_pgEGAUiEwjR9qfntrHqAhXUAIkKHfUPBPM=',\n",
       "                 'commandMetadata': {'webCommandMetadata': {'url': '/service_ajax',\n",
       "                   'sendPost': True}},\n",
       "                 'signalServiceEndpoint': {'signal': 'CLIENT_SIGNAL',\n",
       "                  'actions': [{'clickTrackingParams': 'CGoQ_pgEGAUiEwjR9qfntrHqAhXUAIkKHfUPBPM=',\n",
       "                    'commandMetadata': {'webCommandMetadata': {}},\n",
       "                    'addToPlaylistCommand': {'openMiniplayer': True,\n",
       "                     'videoId': 'bu9YxTb6gf8',\n",
       "                     'listType': 'PLAYLIST_EDIT_LIST_TYPE_QUEUE',\n",
       "                     'onCreateListCommand': {'clickTrackingParams': 'CGoQ_pgEGAUiEwjR9qfntrHqAhXUAIkKHfUPBPM=',\n",
       "                      'commandMetadata': {'webCommandMetadata': {'url': '/service_ajax',\n",
       "                        'sendPost': True,\n",
       "                        'apiUrl': '/youtubei/v1/playlist/create'}},\n",
       "                      'createPlaylistServiceEndpoint': {'videoIds': ['bu9YxTb6gf8'],\n",
       "                       'params': 'CAQ%3D'}},\n",
       "                     'videoIds': ['bu9YxTb6gf8']}}]}},\n",
       "                'trackingParams': 'CGoQ_pgEGAUiEwjR9qfntrHqAhXUAIkKHfUPBPM='}}],\n",
       "             'trackingParams': 'CGcQ3DAYBiITCNH2p-e2seoCFdQAiQod9Q8E8w==',\n",
       "             'accessibility': {'accessibilityData': {'label': 'Handlingsmeny'}}}},\n",
       "           'channelThumbnailSupportedRenderers': {'channelThumbnailWithLinkRenderer': {'thumbnail': {'thumbnails': [{'url': 'https://yt3.ggpht.com/a-/AOh14GiWdbmUuGSqP-qubfRN2Y9z5zny69GjaCMlcw=s68-c-k-c0x00ffffff-no-rj-mo',\n",
       "                'width': 68,\n",
       "                'height': 68}]},\n",
       "             'navigationEndpoint': {'clickTrackingParams': 'CGcQ3DAYBiITCNH2p-e2seoCFdQAiQod9Q8E8w==',\n",
       "              'commandMetadata': {'webCommandMetadata': {'url': '/user/movieclips',\n",
       "                'webPageType': 'WEB_PAGE_TYPE_BROWSE',\n",
       "                'rootVe': 3611}},\n",
       "              'browseEndpoint': {'browseId': 'UC3gNmTGu-TTbFPpfSs5kNkg',\n",
       "               'canonicalBaseUrl': '/user/movieclips'}},\n",
       "             'accessibility': {'accessibilityData': {'label': 'Gå til kanalen'}}}},\n",
       "           'thumbnailOverlays': [{'thumbnailOverlayTimeStatusRenderer': {'text': {'accessibility': {'accessibilityData': {'label': '2 minutter og 36 sekunder'}},\n",
       "               'simpleText': '2:36'},\n",
       "              'style': 'DEFAULT'}},\n",
       "            {'thumbnailOverlayToggleButtonRenderer': {'isToggled': False,\n",
       "              'untoggledIcon': {'iconType': 'WATCH_LATER'},\n",
       "              'toggledIcon': {'iconType': 'CHECK'},\n",
       "              'untoggledTooltip': 'Se senere',\n",
       "              'toggledTooltip': 'Lagt til',\n",
       "              'untoggledServiceEndpoint': {'clickTrackingParams': 'CGkQ-ecDGAIiEwjR9qfntrHqAhXUAIkKHfUPBPM=',\n",
       "               'commandMetadata': {'webCommandMetadata': {'url': '/service_ajax',\n",
       "                 'sendPost': True,\n",
       "                 'apiUrl': '/youtubei/v1/browse/edit_playlist'}},\n",
       "               'playlistEditEndpoint': {'playlistId': 'WL',\n",
       "                'actions': [{'addedVideoId': 'bu9YxTb6gf8',\n",
       "                  'action': 'ACTION_ADD_VIDEO'}]}},\n",
       "              'toggledServiceEndpoint': {'clickTrackingParams': 'CGkQ-ecDGAIiEwjR9qfntrHqAhXUAIkKHfUPBPM=',\n",
       "               'commandMetadata': {'webCommandMetadata': {'url': '/service_ajax',\n",
       "                 'sendPost': True,\n",
       "                 'apiUrl': '/youtubei/v1/browse/edit_playlist'}},\n",
       "               'playlistEditEndpoint': {'playlistId': 'WL',\n",
       "                'actions': [{'action': 'ACTION_REMOVE_VIDEO_BY_VIDEO_ID',\n",
       "                  'removedVideoId': 'bu9YxTb6gf8'}]}},\n",
       "              'untoggledAccessibility': {'accessibilityData': {'label': 'Se senere'}},\n",
       "              'toggledAccessibility': {'accessibilityData': {'label': 'Lagt til'}},\n",
       "              'trackingParams': 'CGkQ-ecDGAIiEwjR9qfntrHqAhXUAIkKHfUPBPM='}},\n",
       "            {'thumbnailOverlayToggleButtonRenderer': {'untoggledIcon': {'iconType': 'ADD_TO_QUEUE_TAIL'},\n",
       "              'toggledIcon': {'iconType': 'PLAYLIST_ADD_CHECK'},\n",
       "              'untoggledTooltip': 'Legg i køen',\n",
       "              'toggledTooltip': 'Lagt til',\n",
       "              'untoggledServiceEndpoint': {'clickTrackingParams': 'CGgQx-wEGAMiEwjR9qfntrHqAhXUAIkKHfUPBPM=',\n",
       "               'commandMetadata': {'webCommandMetadata': {'url': '/service_ajax',\n",
       "                 'sendPost': True}},\n",
       "               'signalServiceEndpoint': {'signal': 'CLIENT_SIGNAL',\n",
       "                'actions': [{'clickTrackingParams': 'CGgQx-wEGAMiEwjR9qfntrHqAhXUAIkKHfUPBPM=',\n",
       "                  'commandMetadata': {'webCommandMetadata': {}},\n",
       "                  'addToPlaylistCommand': {'openMiniplayer': True,\n",
       "                   'videoId': 'bu9YxTb6gf8',\n",
       "                   'listType': 'PLAYLIST_EDIT_LIST_TYPE_QUEUE',\n",
       "                   'onCreateListCommand': {'clickTrackingParams': 'CGgQx-wEGAMiEwjR9qfntrHqAhXUAIkKHfUPBPM=',\n",
       "                    'commandMetadata': {'webCommandMetadata': {'url': '/service_ajax',\n",
       "                      'sendPost': True,\n",
       "                      'apiUrl': '/youtubei/v1/playlist/create'}},\n",
       "                    'createPlaylistServiceEndpoint': {'videoIds': ['bu9YxTb6gf8'],\n",
       "                     'params': 'CAQ%3D'}},\n",
       "                   'videoIds': ['bu9YxTb6gf8']}}]}},\n",
       "              'untoggledAccessibility': {'accessibilityData': {'label': 'Legg i køen'}},\n",
       "              'toggledAccessibility': {'accessibilityData': {'label': 'Lagt til'}},\n",
       "              'trackingParams': 'CGgQx-wEGAMiEwjR9qfntrHqAhXUAIkKHfUPBPM='}},\n",
       "            {'thumbnailOverlayNowPlayingRenderer': {'text': {'runs': [{'text': 'Spilles av nå'}]}}}]}},\n",
       "         {'videoRenderer': {'videoId': 'IQDJyKmqej8',\n",
       "           'thumbnail': {'thumbnails': [{'url': 'https://i.ytimg.com/vi/IQDJyKmqej8/hq720.jpg?sqp=-oaymwEjCOgCEMoBSFryq4qpAxUIARUAAAAAGAElAADIQj0AgKJDeAE=&rs=AOn4CLDYqjze07YDocWpygBIf8mkDpKFbA',\n",
       "              'width': 360,\n",
       "              'height': 202},\n",
       "             {'url': 'https://i.ytimg.com/vi/IQDJyKmqej8/hq720.jpg?sqp=-oaymwEXCNAFEJQDSFryq4qpAwkIARUAAIhCGAE=&rs=AOn4CLDyyNydg9Uupdw-sCrnIQPLBkIhww',\n",
       "              'width': 720,\n",
       "              'height': 404}]},\n",
       "           'title': {'runs': [{'text': 'Mamma Mia! Here We Go Again - Waterloo (Lyrics) 1080pHD'}],\n",
       "            'accessibility': {'accessibilityData': {'label': 'Mamma Mia! Here We Go Again - Waterloo (Lyrics) 1080pHD av Lise LS_01 for 1 år siden 3 minutter Sett 11\\xa0069\\xa0451 ganger'}}},\n",
       "           'descriptionSnippet': {'runs': [{'text': 'Hugh Skinner & Lily James - Waterloo (Lyrics) 1080pHD.'}]},\n",
       "           'longBylineText': {'runs': [{'text': 'Lise LS_01',\n",
       "              'navigationEndpoint': {'clickTrackingParams': 'CGMQ3DAYByITCNH2p-e2seoCFdQAiQod9Q8E8w==',\n",
       "               'commandMetadata': {'webCommandMetadata': {'url': '/channel/UC-mi63_RZT6mWrYUQqnxjSA',\n",
       "                 'webPageType': 'WEB_PAGE_TYPE_BROWSE',\n",
       "                 'rootVe': 3611}},\n",
       "               'browseEndpoint': {'browseId': 'UC-mi63_RZT6mWrYUQqnxjSA'}}}]},\n",
       "           'publishedTimeText': {'simpleText': 'for 1 år siden'},\n",
       "           'lengthText': {'accessibility': {'accessibilityData': {'label': '3 minutter og 0 sekunder'}},\n",
       "            'simpleText': '3:00'},\n",
       "           'viewCountText': {'simpleText': 'Sett 11\\xa0069\\xa0451 ganger'},\n",
       "           'navigationEndpoint': {'clickTrackingParams': 'CGMQ3DAYByITCNH2p-e2seoCFdQAiQod9Q8E8zIGc2VhcmNoUg5BYmJhIE1hbW1hIE1pYZoBAxD0JA==',\n",
       "            'commandMetadata': {'webCommandMetadata': {'url': '/watch?v=IQDJyKmqej8',\n",
       "              'webPageType': 'WEB_PAGE_TYPE_WATCH',\n",
       "              'rootVe': 3832}},\n",
       "            'watchEndpoint': {'videoId': 'IQDJyKmqej8'}},\n",
       "           'ownerText': {'runs': [{'text': 'Lise LS_01',\n",
       "              'navigationEndpoint': {'clickTrackingParams': 'CGMQ3DAYByITCNH2p-e2seoCFdQAiQod9Q8E8w==',\n",
       "               'commandMetadata': {'webCommandMetadata': {'url': '/channel/UC-mi63_RZT6mWrYUQqnxjSA',\n",
       "                 'webPageType': 'WEB_PAGE_TYPE_BROWSE',\n",
       "                 'rootVe': 3611}},\n",
       "               'browseEndpoint': {'browseId': 'UC-mi63_RZT6mWrYUQqnxjSA'}}}]},\n",
       "           'shortBylineText': {'runs': [{'text': 'Lise LS_01',\n",
       "              'navigationEndpoint': {'clickTrackingParams': 'CGMQ3DAYByITCNH2p-e2seoCFdQAiQod9Q8E8w==',\n",
       "               'commandMetadata': {'webCommandMetadata': {'url': '/channel/UC-mi63_RZT6mWrYUQqnxjSA',\n",
       "                 'webPageType': 'WEB_PAGE_TYPE_BROWSE',\n",
       "                 'rootVe': 3611}},\n",
       "               'browseEndpoint': {'browseId': 'UC-mi63_RZT6mWrYUQqnxjSA'}}}]},\n",
       "           'trackingParams': 'CGMQ3DAYByITCNH2p-e2seoCFdQAiQod9Q8E80C_9KnNirmygCE=',\n",
       "           'showActionMenu': False,\n",
       "           'shortViewCountText': {'simpleText': 'Sett 11\\xa0mill. ganger'},\n",
       "           'menu': {'menuRenderer': {'items': [{'menuServiceItemRenderer': {'text': {'runs': [{'text': 'Legg i køen'}]},\n",
       "                'icon': {'iconType': 'ADD_TO_QUEUE_TAIL'},\n",
       "                'serviceEndpoint': {'clickTrackingParams': 'CGYQ_pgEGAQiEwjR9qfntrHqAhXUAIkKHfUPBPM=',\n",
       "                 'commandMetadata': {'webCommandMetadata': {'url': '/service_ajax',\n",
       "                   'sendPost': True}},\n",
       "                 'signalServiceEndpoint': {'signal': 'CLIENT_SIGNAL',\n",
       "                  'actions': [{'clickTrackingParams': 'CGYQ_pgEGAQiEwjR9qfntrHqAhXUAIkKHfUPBPM=',\n",
       "                    'commandMetadata': {'webCommandMetadata': {}},\n",
       "                    'addToPlaylistCommand': {'openMiniplayer': True,\n",
       "                     'videoId': 'IQDJyKmqej8',\n",
       "                     'listType': 'PLAYLIST_EDIT_LIST_TYPE_QUEUE',\n",
       "                     'onCreateListCommand': {'clickTrackingParams': 'CGYQ_pgEGAQiEwjR9qfntrHqAhXUAIkKHfUPBPM=',\n",
       "                      'commandMetadata': {'webCommandMetadata': {'url': '/service_ajax',\n",
       "                        'sendPost': True,\n",
       "                        'apiUrl': '/youtubei/v1/playlist/create'}},\n",
       "                      'createPlaylistServiceEndpoint': {'videoIds': ['IQDJyKmqej8'],\n",
       "                       'params': 'CAQ%3D'}},\n",
       "                     'videoIds': ['IQDJyKmqej8']}}]}},\n",
       "                'trackingParams': 'CGYQ_pgEGAQiEwjR9qfntrHqAhXUAIkKHfUPBPM='}}],\n",
       "             'trackingParams': 'CGMQ3DAYByITCNH2p-e2seoCFdQAiQod9Q8E8w==',\n",
       "             'accessibility': {'accessibilityData': {'label': 'Handlingsmeny'}}}},\n",
       "           'channelThumbnailSupportedRenderers': {'channelThumbnailWithLinkRenderer': {'thumbnail': {'thumbnails': [{'url': 'https://yt3.ggpht.com/a-/AOh14GjrxjE1VWdstAf-TwnRaa7pcTvLqgWFhUR6Ig=s68-c-k-c0x00ffffff-no-rj-mo',\n",
       "                'width': 68,\n",
       "                'height': 68}]},\n",
       "             'navigationEndpoint': {'clickTrackingParams': 'CGMQ3DAYByITCNH2p-e2seoCFdQAiQod9Q8E8w==',\n",
       "              'commandMetadata': {'webCommandMetadata': {'url': '/channel/UC-mi63_RZT6mWrYUQqnxjSA',\n",
       "                'webPageType': 'WEB_PAGE_TYPE_BROWSE',\n",
       "                'rootVe': 3611}},\n",
       "              'browseEndpoint': {'browseId': 'UC-mi63_RZT6mWrYUQqnxjSA'}},\n",
       "             'accessibility': {'accessibilityData': {'label': 'Gå til kanalen'}}}},\n",
       "           'thumbnailOverlays': [{'thumbnailOverlayTimeStatusRenderer': {'text': {'accessibility': {'accessibilityData': {'label': '3 minutter og 0 sekunder'}},\n",
       "               'simpleText': '3:00'},\n",
       "              'style': 'DEFAULT'}},\n",
       "            {'thumbnailOverlayToggleButtonRenderer': {'isToggled': False,\n",
       "              'untoggledIcon': {'iconType': 'WATCH_LATER'},\n",
       "              'toggledIcon': {'iconType': 'CHECK'},\n",
       "              'untoggledTooltip': 'Se senere',\n",
       "              'toggledTooltip': 'Lagt til',\n",
       "              'untoggledServiceEndpoint': {'clickTrackingParams': 'CGUQ-ecDGAEiEwjR9qfntrHqAhXUAIkKHfUPBPM=',\n",
       "               'commandMetadata': {'webCommandMetadata': {'url': '/service_ajax',\n",
       "                 'sendPost': True,\n",
       "                 'apiUrl': '/youtubei/v1/browse/edit_playlist'}},\n",
       "               'playlistEditEndpoint': {'playlistId': 'WL',\n",
       "                'actions': [{'addedVideoId': 'IQDJyKmqej8',\n",
       "                  'action': 'ACTION_ADD_VIDEO'}]}},\n",
       "              'toggledServiceEndpoint': {'clickTrackingParams': 'CGUQ-ecDGAEiEwjR9qfntrHqAhXUAIkKHfUPBPM=',\n",
       "               'commandMetadata': {'webCommandMetadata': {'url': '/service_ajax',\n",
       "                 'sendPost': True,\n",
       "                 'apiUrl': '/youtubei/v1/browse/edit_playlist'}},\n",
       "               'playlistEditEndpoint': {'playlistId': 'WL',\n",
       "                'actions': [{'action': 'ACTION_REMOVE_VIDEO_BY_VIDEO_ID',\n",
       "                  'removedVideoId': 'IQDJyKmqej8'}]}},\n",
       "              'untoggledAccessibility': {'accessibilityData': {'label': 'Se senere'}},\n",
       "              'toggledAccessibility': {'accessibilityData': {'label': 'Lagt til'}},\n",
       "              'trackingParams': 'CGUQ-ecDGAEiEwjR9qfntrHqAhXUAIkKHfUPBPM='}},\n",
       "            {'thumbnailOverlayToggleButtonRenderer': {'untoggledIcon': {'iconType': 'ADD_TO_QUEUE_TAIL'},\n",
       "              'toggledIcon': {'iconType': 'PLAYLIST_ADD_CHECK'},\n",
       "              'untoggledTooltip': 'Legg i køen',\n",
       "              'toggledTooltip': 'Lagt til',\n",
       "              'untoggledServiceEndpoint': {'clickTrackingParams': 'CGQQx-wEGAIiEwjR9qfntrHqAhXUAIkKHfUPBPM=',\n",
       "               'commandMetadata': {'webCommandMetadata': {'url': '/service_ajax',\n",
       "                 'sendPost': True}},\n",
       "               'signalServiceEndpoint': {'signal': 'CLIENT_SIGNAL',\n",
       "                'actions': [{'clickTrackingParams': 'CGQQx-wEGAIiEwjR9qfntrHqAhXUAIkKHfUPBPM=',\n",
       "                  'commandMetadata': {'webCommandMetadata': {}},\n",
       "                  'addToPlaylistCommand': {'openMiniplayer': True,\n",
       "                   'videoId': 'IQDJyKmqej8',\n",
       "                   'listType': 'PLAYLIST_EDIT_LIST_TYPE_QUEUE',\n",
       "                   'onCreateListCommand': {'clickTrackingParams': 'CGQQx-wEGAIiEwjR9qfntrHqAhXUAIkKHfUPBPM=',\n",
       "                    'commandMetadata': {'webCommandMetadata': {'url': '/service_ajax',\n",
       "                      'sendPost': True,\n",
       "                      'apiUrl': '/youtubei/v1/playlist/create'}},\n",
       "                    'createPlaylistServiceEndpoint': {'videoIds': ['IQDJyKmqej8'],\n",
       "                     'params': 'CAQ%3D'}},\n",
       "                   'videoIds': ['IQDJyKmqej8']}}]}},\n",
       "              'untoggledAccessibility': {'accessibilityData': {'label': 'Legg i køen'}},\n",
       "              'toggledAccessibility': {'accessibilityData': {'label': 'Lagt til'}},\n",
       "              'trackingParams': 'CGQQx-wEGAIiEwjR9qfntrHqAhXUAIkKHfUPBPM='}},\n",
       "            {'thumbnailOverlayNowPlayingRenderer': {'text': {'runs': [{'text': 'Spilles av nå'}]}}}]}},\n",
       "         {'videoRenderer': {'videoId': '-crgQGdpZR0',\n",
       "           'thumbnail': {'thumbnails': [{'url': 'https://i.ytimg.com/vi/-crgQGdpZR0/hq720.jpg?sqp=-oaymwEjCOgCEMoBSFryq4qpAxUIARUAAAAAGAElAADIQj0AgKJDeAE=&rs=AOn4CLBt-rZ4wEhFstBXHt_UWMdyeyJPnw',\n",
       "              'width': 360,\n",
       "              'height': 202},\n",
       "             {'url': 'https://i.ytimg.com/vi/-crgQGdpZR0/hq720.jpg?sqp=-oaymwEXCNAFEJQDSFryq4qpAwkIARUAAIhCGAE=&rs=AOn4CLAiJa_O8CyM7I9_G4rxrR-_qmylIg',\n",
       "              'width': 720,\n",
       "              'height': 404}]},\n",
       "           'title': {'runs': [{'text': 'Abba - Take A Chance On Me (Official Video)'}],\n",
       "            'accessibility': {'accessibilityData': {'label': 'Abba - Take A Chance On Me (Official Video) av ABBA for 10 år siden 4 minutter og 5 sekunder Sett 101\\xa0640\\xa0466 ganger'}}},\n",
       "           'descriptionSnippet': {'runs': [{'text': 'Listen to '},\n",
       "             {'text': 'ABBA', 'bold': True},\n",
       "             {'text': ': https://play.lnk.to/'},\n",
       "             {'text': 'ABBA', 'bold': True},\n",
       "             {'text': ' Follow '},\n",
       "             {'text': 'ABBA', 'bold': True},\n",
       "             {'text': ' Facebook: https://www.facebook.com/'},\n",
       "             {'text': 'ABBA', 'bold': True},\n",
       "             {'text': '/ Instagram:\\xa0...'}]},\n",
       "           'longBylineText': {'runs': [{'text': 'ABBA',\n",
       "              'navigationEndpoint': {'clickTrackingParams': 'CF8Q3DAYCCITCNH2p-e2seoCFdQAiQod9Q8E8w==',\n",
       "               'commandMetadata': {'webCommandMetadata': {'url': '/channel/UCYPs4y5esNqx6ax1CxZws6Q',\n",
       "                 'webPageType': 'WEB_PAGE_TYPE_BROWSE',\n",
       "                 'rootVe': 3611}},\n",
       "               'browseEndpoint': {'browseId': 'UCYPs4y5esNqx6ax1CxZws6Q',\n",
       "                'canonicalBaseUrl': '/channel/UCYPs4y5esNqx6ax1CxZws6Q'}}}]},\n",
       "           'publishedTimeText': {'simpleText': 'for 10 år siden'},\n",
       "           'lengthText': {'accessibility': {'accessibilityData': {'label': '4 minutter og 5 sekunder'}},\n",
       "            'simpleText': '4:05'},\n",
       "           'viewCountText': {'simpleText': 'Sett 101\\xa0640\\xa0466 ganger'},\n",
       "           'navigationEndpoint': {'clickTrackingParams': 'CF8Q3DAYCCITCNH2p-e2seoCFdQAiQod9Q8E8zIGc2VhcmNoUg5BYmJhIE1hbW1hIE1pYZoBAxD0JA==',\n",
       "            'commandMetadata': {'webCommandMetadata': {'url': '/watch?v=-crgQGdpZR0',\n",
       "              'webPageType': 'WEB_PAGE_TYPE_WATCH',\n",
       "              'rootVe': 3832}},\n",
       "            'watchEndpoint': {'videoId': '-crgQGdpZR0'}},\n",
       "           'ownerBadges': [{'metadataBadgeRenderer': {'icon': {'iconType': 'OFFICIAL_ARTIST_BADGE'},\n",
       "              'style': 'BADGE_STYLE_TYPE_VERIFIED_ARTIST',\n",
       "              'tooltip': 'Offisiell artistkanal',\n",
       "              'trackingParams': 'CF8Q3DAYCCITCNH2p-e2seoCFdQAiQod9Q8E8w=='}}],\n",
       "           'ownerText': {'runs': [{'text': 'ABBA',\n",
       "              'navigationEndpoint': {'clickTrackingParams': 'CF8Q3DAYCCITCNH2p-e2seoCFdQAiQod9Q8E8w==',\n",
       "               'commandMetadata': {'webCommandMetadata': {'url': '/channel/UCYPs4y5esNqx6ax1CxZws6Q',\n",
       "                 'webPageType': 'WEB_PAGE_TYPE_BROWSE',\n",
       "                 'rootVe': 3611}},\n",
       "               'browseEndpoint': {'browseId': 'UCYPs4y5esNqx6ax1CxZws6Q',\n",
       "                'canonicalBaseUrl': '/channel/UCYPs4y5esNqx6ax1CxZws6Q'}}}]},\n",
       "           'shortBylineText': {'runs': [{'text': 'ABBA',\n",
       "              'navigationEndpoint': {'clickTrackingParams': 'CF8Q3DAYCCITCNH2p-e2seoCFdQAiQod9Q8E8w==',\n",
       "               'commandMetadata': {'webCommandMetadata': {'url': '/channel/UCYPs4y5esNqx6ax1CxZws6Q',\n",
       "                 'webPageType': 'WEB_PAGE_TYPE_BROWSE',\n",
       "                 'rootVe': 3611}},\n",
       "               'browseEndpoint': {'browseId': 'UCYPs4y5esNqx6ax1CxZws6Q',\n",
       "                'canonicalBaseUrl': '/channel/UCYPs4y5esNqx6ax1CxZws6Q'}}}]},\n",
       "           'trackingParams': 'CF8Q3DAYCCITCNH2p-e2seoCFdQAiQod9Q8E80CdyqW7hoi45fkB',\n",
       "           'showActionMenu': False,\n",
       "           'shortViewCountText': {'simpleText': 'Sett 101\\xa0mill. ganger'},\n",
       "           'menu': {'menuRenderer': {'items': [{'menuServiceItemRenderer': {'text': {'runs': [{'text': 'Legg i køen'}]},\n",
       "                'icon': {'iconType': 'ADD_TO_QUEUE_TAIL'},\n",
       "                'serviceEndpoint': {'clickTrackingParams': 'CGIQ_pgEGAUiEwjR9qfntrHqAhXUAIkKHfUPBPM=',\n",
       "                 'commandMetadata': {'webCommandMetadata': {'url': '/service_ajax',\n",
       "                   'sendPost': True}},\n",
       "                 'signalServiceEndpoint': {'signal': 'CLIENT_SIGNAL',\n",
       "                  'actions': [{'clickTrackingParams': 'CGIQ_pgEGAUiEwjR9qfntrHqAhXUAIkKHfUPBPM=',\n",
       "                    'commandMetadata': {'webCommandMetadata': {}},\n",
       "                    'addToPlaylistCommand': {'openMiniplayer': True,\n",
       "                     'videoId': '-crgQGdpZR0',\n",
       "                     'listType': 'PLAYLIST_EDIT_LIST_TYPE_QUEUE',\n",
       "                     'onCreateListCommand': {'clickTrackingParams': 'CGIQ_pgEGAUiEwjR9qfntrHqAhXUAIkKHfUPBPM=',\n",
       "                      'commandMetadata': {'webCommandMetadata': {'url': '/service_ajax',\n",
       "                        'sendPost': True,\n",
       "                        'apiUrl': '/youtubei/v1/playlist/create'}},\n",
       "                      'createPlaylistServiceEndpoint': {'videoIds': ['-crgQGdpZR0'],\n",
       "                       'params': 'CAQ%3D'}},\n",
       "                     'videoIds': ['-crgQGdpZR0']}}]}},\n",
       "                'trackingParams': 'CGIQ_pgEGAUiEwjR9qfntrHqAhXUAIkKHfUPBPM='}}],\n",
       "             'trackingParams': 'CF8Q3DAYCCITCNH2p-e2seoCFdQAiQod9Q8E8w==',\n",
       "             'accessibility': {'accessibilityData': {'label': 'Handlingsmeny'}}}},\n",
       "           'channelThumbnailSupportedRenderers': {'channelThumbnailWithLinkRenderer': {'thumbnail': {'thumbnails': [{'url': 'https://yt3.ggpht.com/a-/AOh14Gi1LYke3duGSrrVAY_nCCuUlvcwohwX3Gdz4A=s68-c-k-c0x00ffffff-no-rj-mo',\n",
       "                'width': 68,\n",
       "                'height': 68}]},\n",
       "             'navigationEndpoint': {'clickTrackingParams': 'CF8Q3DAYCCITCNH2p-e2seoCFdQAiQod9Q8E8w==',\n",
       "              'commandMetadata': {'webCommandMetadata': {'url': '/channel/UCYPs4y5esNqx6ax1CxZws6Q',\n",
       "                'webPageType': 'WEB_PAGE_TYPE_BROWSE',\n",
       "                'rootVe': 3611}},\n",
       "              'browseEndpoint': {'browseId': 'UCYPs4y5esNqx6ax1CxZws6Q'}},\n",
       "             'accessibility': {'accessibilityData': {'label': 'Gå til kanalen'}}}},\n",
       "           'thumbnailOverlays': [{'thumbnailOverlayTimeStatusRenderer': {'text': {'accessibility': {'accessibilityData': {'label': '4 minutter og 5 sekunder'}},\n",
       "               'simpleText': '4:05'},\n",
       "              'style': 'DEFAULT'}},\n",
       "            {'thumbnailOverlayToggleButtonRenderer': {'isToggled': False,\n",
       "              'untoggledIcon': {'iconType': 'WATCH_LATER'},\n",
       "              'toggledIcon': {'iconType': 'CHECK'},\n",
       "              'untoggledTooltip': 'Se senere',\n",
       "              'toggledTooltip': 'Lagt til',\n",
       "              'untoggledServiceEndpoint': {'clickTrackingParams': 'CGEQ-ecDGAIiEwjR9qfntrHqAhXUAIkKHfUPBPM=',\n",
       "               'commandMetadata': {'webCommandMetadata': {'url': '/service_ajax',\n",
       "                 'sendPost': True,\n",
       "                 'apiUrl': '/youtubei/v1/browse/edit_playlist'}},\n",
       "               'playlistEditEndpoint': {'playlistId': 'WL',\n",
       "                'actions': [{'addedVideoId': '-crgQGdpZR0',\n",
       "                  'action': 'ACTION_ADD_VIDEO'}]}},\n",
       "              'toggledServiceEndpoint': {'clickTrackingParams': 'CGEQ-ecDGAIiEwjR9qfntrHqAhXUAIkKHfUPBPM=',\n",
       "               'commandMetadata': {'webCommandMetadata': {'url': '/service_ajax',\n",
       "                 'sendPost': True,\n",
       "                 'apiUrl': '/youtubei/v1/browse/edit_playlist'}},\n",
       "               'playlistEditEndpoint': {'playlistId': 'WL',\n",
       "                'actions': [{'action': 'ACTION_REMOVE_VIDEO_BY_VIDEO_ID',\n",
       "                  'removedVideoId': '-crgQGdpZR0'}]}},\n",
       "              'untoggledAccessibility': {'accessibilityData': {'label': 'Se senere'}},\n",
       "              'toggledAccessibility': {'accessibilityData': {'label': 'Lagt til'}},\n",
       "              'trackingParams': 'CGEQ-ecDGAIiEwjR9qfntrHqAhXUAIkKHfUPBPM='}},\n",
       "            {'thumbnailOverlayToggleButtonRenderer': {'untoggledIcon': {'iconType': 'ADD_TO_QUEUE_TAIL'},\n",
       "              'toggledIcon': {'iconType': 'PLAYLIST_ADD_CHECK'},\n",
       "              'untoggledTooltip': 'Legg i køen',\n",
       "              'toggledTooltip': 'Lagt til',\n",
       "              'untoggledServiceEndpoint': {'clickTrackingParams': 'CGAQx-wEGAMiEwjR9qfntrHqAhXUAIkKHfUPBPM=',\n",
       "               'commandMetadata': {'webCommandMetadata': {'url': '/service_ajax',\n",
       "                 'sendPost': True}},\n",
       "               'signalServiceEndpoint': {'signal': 'CLIENT_SIGNAL',\n",
       "                'actions': [{'clickTrackingParams': 'CGAQx-wEGAMiEwjR9qfntrHqAhXUAIkKHfUPBPM=',\n",
       "                  'commandMetadata': {'webCommandMetadata': {}},\n",
       "                  'addToPlaylistCommand': {'openMiniplayer': True,\n",
       "                   'videoId': '-crgQGdpZR0',\n",
       "                   'listType': 'PLAYLIST_EDIT_LIST_TYPE_QUEUE',\n",
       "                   'onCreateListCommand': {'clickTrackingParams': 'CGAQx-wEGAMiEwjR9qfntrHqAhXUAIkKHfUPBPM=',\n",
       "                    'commandMetadata': {'webCommandMetadata': {'url': '/service_ajax',\n",
       "                      'sendPost': True,\n",
       "                      'apiUrl': '/youtubei/v1/playlist/create'}},\n",
       "                    'createPlaylistServiceEndpoint': {'videoIds': ['-crgQGdpZR0'],\n",
       "                     'params': 'CAQ%3D'}},\n",
       "                   'videoIds': ['-crgQGdpZR0']}}]}},\n",
       "              'untoggledAccessibility': {'accessibilityData': {'label': 'Legg i køen'}},\n",
       "              'toggledAccessibility': {'accessibilityData': {'label': 'Lagt til'}},\n",
       "              'trackingParams': 'CGAQx-wEGAMiEwjR9qfntrHqAhXUAIkKHfUPBPM='}},\n",
       "            {'thumbnailOverlayNowPlayingRenderer': {'text': {'runs': [{'text': 'Spilles av nå'}]}}}]}},\n",
       "         {'videoRenderer': {'videoId': 'v9WGfVweWFo',\n",
       "           'thumbnail': {'thumbnails': [{'url': 'https://i.ytimg.com/vi/v9WGfVweWFo/hq720.jpg?sqp=-oaymwEjCOgCEMoBSFryq4qpAxUIARUAAAAAGAElAADIQj0AgKJDeAE=&rs=AOn4CLDZEfcC5AXJ3IolI_zBuaXKUfpYTA',\n",
       "              'width': 360,\n",
       "              'height': 202},\n",
       "             {'url': 'https://i.ytimg.com/vi/v9WGfVweWFo/hq720.jpg?sqp=-oaymwEXCNAFEJQDSFryq4qpAwkIARUAAIhCGAE=&rs=AOn4CLCvyxK8cxg128o2NybScHExEja3kg',\n",
       "              'width': 720,\n",
       "              'height': 404}]},\n",
       "           'title': {'runs': [{'text': \"Mamma Mia! Here We Go Again - I've Been Waiting For You (Lyrics) 1080pHD\"}],\n",
       "            'accessibility': {'accessibilityData': {'label': \"Mamma Mia! Here We Go Again - I've Been Waiting For You (Lyrics) 1080pHD av Lise LS_01 for 1 år siden 3 minutter og 11 sekunder Sett 14\\xa0284\\xa0084 ganger\"}}},\n",
       "           'descriptionSnippet': {'runs': [{'text': \"Amanda Seyfried, Christine Baranski & Julie Walters - I've Been Waiting For You (Lyrics) 1080pHD.\"}]},\n",
       "           'longBylineText': {'runs': [{'text': 'Lise LS_01',\n",
       "              'navigationEndpoint': {'clickTrackingParams': 'CFsQ3DAYCSITCNH2p-e2seoCFdQAiQod9Q8E8w==',\n",
       "               'commandMetadata': {'webCommandMetadata': {'url': '/channel/UC-mi63_RZT6mWrYUQqnxjSA',\n",
       "                 'webPageType': 'WEB_PAGE_TYPE_BROWSE',\n",
       "                 'rootVe': 3611}},\n",
       "               'browseEndpoint': {'browseId': 'UC-mi63_RZT6mWrYUQqnxjSA'}}}]},\n",
       "           'publishedTimeText': {'simpleText': 'for 1 år siden'},\n",
       "           'lengthText': {'accessibility': {'accessibilityData': {'label': '3 minutter og 11 sekunder'}},\n",
       "            'simpleText': '3:11'},\n",
       "           'viewCountText': {'simpleText': 'Sett 14\\xa0284\\xa0084 ganger'},\n",
       "           'navigationEndpoint': {'clickTrackingParams': 'CFsQ3DAYCSITCNH2p-e2seoCFdQAiQod9Q8E8zIGc2VhcmNoUg5BYmJhIE1hbW1hIE1pYZoBAxD0JA==',\n",
       "            'commandMetadata': {'webCommandMetadata': {'url': '/watch?v=v9WGfVweWFo',\n",
       "              'webPageType': 'WEB_PAGE_TYPE_WATCH',\n",
       "              'rootVe': 3832}},\n",
       "            'watchEndpoint': {'videoId': 'v9WGfVweWFo'}},\n",
       "           'ownerText': {'runs': [{'text': 'Lise LS_01',\n",
       "              'navigationEndpoint': {'clickTrackingParams': 'CFsQ3DAYCSITCNH2p-e2seoCFdQAiQod9Q8E8w==',\n",
       "               'commandMetadata': {'webCommandMetadata': {'url': '/channel/UC-mi63_RZT6mWrYUQqnxjSA',\n",
       "                 'webPageType': 'WEB_PAGE_TYPE_BROWSE',\n",
       "                 'rootVe': 3611}},\n",
       "               'browseEndpoint': {'browseId': 'UC-mi63_RZT6mWrYUQqnxjSA'}}}]},\n",
       "           'shortBylineText': {'runs': [{'text': 'Lise LS_01',\n",
       "              'navigationEndpoint': {'clickTrackingParams': 'CFsQ3DAYCSITCNH2p-e2seoCFdQAiQod9Q8E8w==',\n",
       "               'commandMetadata': {'webCommandMetadata': {'url': '/channel/UC-mi63_RZT6mWrYUQqnxjSA',\n",
       "                 'webPageType': 'WEB_PAGE_TYPE_BROWSE',\n",
       "                 'rootVe': 3611}},\n",
       "               'browseEndpoint': {'browseId': 'UC-mi63_RZT6mWrYUQqnxjSA'}}}]},\n",
       "           'trackingParams': 'CFsQ3DAYCSITCNH2p-e2seoCFdQAiQod9Q8E80DasPng1c_h6r8B',\n",
       "           'showActionMenu': False,\n",
       "           'shortViewCountText': {'simpleText': 'Sett 14\\xa0mill. ganger'},\n",
       "           'menu': {'menuRenderer': {'items': [{'menuServiceItemRenderer': {'text': {'runs': [{'text': 'Legg i køen'}]},\n",
       "                'icon': {'iconType': 'ADD_TO_QUEUE_TAIL'},\n",
       "                'serviceEndpoint': {'clickTrackingParams': 'CF4Q_pgEGAQiEwjR9qfntrHqAhXUAIkKHfUPBPM=',\n",
       "                 'commandMetadata': {'webCommandMetadata': {'url': '/service_ajax',\n",
       "                   'sendPost': True}},\n",
       "                 'signalServiceEndpoint': {'signal': 'CLIENT_SIGNAL',\n",
       "                  'actions': [{'clickTrackingParams': 'CF4Q_pgEGAQiEwjR9qfntrHqAhXUAIkKHfUPBPM=',\n",
       "                    'commandMetadata': {'webCommandMetadata': {}},\n",
       "                    'addToPlaylistCommand': {'openMiniplayer': True,\n",
       "                     'videoId': 'v9WGfVweWFo',\n",
       "                     'listType': 'PLAYLIST_EDIT_LIST_TYPE_QUEUE',\n",
       "                     'onCreateListCommand': {'clickTrackingParams': 'CF4Q_pgEGAQiEwjR9qfntrHqAhXUAIkKHfUPBPM=',\n",
       "                      'commandMetadata': {'webCommandMetadata': {'url': '/service_ajax',\n",
       "                        'sendPost': True,\n",
       "                        'apiUrl': '/youtubei/v1/playlist/create'}},\n",
       "                      'createPlaylistServiceEndpoint': {'videoIds': ['v9WGfVweWFo'],\n",
       "                       'params': 'CAQ%3D'}},\n",
       "                     'videoIds': ['v9WGfVweWFo']}}]}},\n",
       "                'trackingParams': 'CF4Q_pgEGAQiEwjR9qfntrHqAhXUAIkKHfUPBPM='}}],\n",
       "             'trackingParams': 'CFsQ3DAYCSITCNH2p-e2seoCFdQAiQod9Q8E8w==',\n",
       "             'accessibility': {'accessibilityData': {'label': 'Handlingsmeny'}}}},\n",
       "           'channelThumbnailSupportedRenderers': {'channelThumbnailWithLinkRenderer': {'thumbnail': {'thumbnails': [{'url': 'https://yt3.ggpht.com/a-/AOh14GjrxjE1VWdstAf-TwnRaa7pcTvLqgWFhUR6Ig=s68-c-k-c0x00ffffff-no-rj-mo',\n",
       "                'width': 68,\n",
       "                'height': 68}]},\n",
       "             'navigationEndpoint': {'clickTrackingParams': 'CFsQ3DAYCSITCNH2p-e2seoCFdQAiQod9Q8E8w==',\n",
       "              'commandMetadata': {'webCommandMetadata': {'url': '/channel/UC-mi63_RZT6mWrYUQqnxjSA',\n",
       "                'webPageType': 'WEB_PAGE_TYPE_BROWSE',\n",
       "                'rootVe': 3611}},\n",
       "              'browseEndpoint': {'browseId': 'UC-mi63_RZT6mWrYUQqnxjSA'}},\n",
       "             'accessibility': {'accessibilityData': {'label': 'Gå til kanalen'}}}},\n",
       "           'thumbnailOverlays': [{'thumbnailOverlayTimeStatusRenderer': {'text': {'accessibility': {'accessibilityData': {'label': '3 minutter og 11 sekunder'}},\n",
       "               'simpleText': '3:11'},\n",
       "              'style': 'DEFAULT'}},\n",
       "            {'thumbnailOverlayToggleButtonRenderer': {'isToggled': False,\n",
       "              'untoggledIcon': {'iconType': 'WATCH_LATER'},\n",
       "              'toggledIcon': {'iconType': 'CHECK'},\n",
       "              'untoggledTooltip': 'Se senere',\n",
       "              'toggledTooltip': 'Lagt til',\n",
       "              'untoggledServiceEndpoint': {'clickTrackingParams': 'CF0Q-ecDGAEiEwjR9qfntrHqAhXUAIkKHfUPBPM=',\n",
       "               'commandMetadata': {'webCommandMetadata': {'url': '/service_ajax',\n",
       "                 'sendPost': True,\n",
       "                 'apiUrl': '/youtubei/v1/browse/edit_playlist'}},\n",
       "               'playlistEditEndpoint': {'playlistId': 'WL',\n",
       "                'actions': [{'addedVideoId': 'v9WGfVweWFo',\n",
       "                  'action': 'ACTION_ADD_VIDEO'}]}},\n",
       "              'toggledServiceEndpoint': {'clickTrackingParams': 'CF0Q-ecDGAEiEwjR9qfntrHqAhXUAIkKHfUPBPM=',\n",
       "               'commandMetadata': {'webCommandMetadata': {'url': '/service_ajax',\n",
       "                 'sendPost': True,\n",
       "                 'apiUrl': '/youtubei/v1/browse/edit_playlist'}},\n",
       "               'playlistEditEndpoint': {'playlistId': 'WL',\n",
       "                'actions': [{'action': 'ACTION_REMOVE_VIDEO_BY_VIDEO_ID',\n",
       "                  'removedVideoId': 'v9WGfVweWFo'}]}},\n",
       "              'untoggledAccessibility': {'accessibilityData': {'label': 'Se senere'}},\n",
       "              'toggledAccessibility': {'accessibilityData': {'label': 'Lagt til'}},\n",
       "              'trackingParams': 'CF0Q-ecDGAEiEwjR9qfntrHqAhXUAIkKHfUPBPM='}},\n",
       "            {'thumbnailOverlayToggleButtonRenderer': {'untoggledIcon': {'iconType': 'ADD_TO_QUEUE_TAIL'},\n",
       "              'toggledIcon': {'iconType': 'PLAYLIST_ADD_CHECK'},\n",
       "              'untoggledTooltip': 'Legg i køen',\n",
       "              'toggledTooltip': 'Lagt til',\n",
       "              'untoggledServiceEndpoint': {'clickTrackingParams': 'CFwQx-wEGAIiEwjR9qfntrHqAhXUAIkKHfUPBPM=',\n",
       "               'commandMetadata': {'webCommandMetadata': {'url': '/service_ajax',\n",
       "                 'sendPost': True}},\n",
       "               'signalServiceEndpoint': {'signal': 'CLIENT_SIGNAL',\n",
       "                'actions': [{'clickTrackingParams': 'CFwQx-wEGAIiEwjR9qfntrHqAhXUAIkKHfUPBPM=',\n",
       "                  'commandMetadata': {'webCommandMetadata': {}},\n",
       "                  'addToPlaylistCommand': {'openMiniplayer': True,\n",
       "                   'videoId': 'v9WGfVweWFo',\n",
       "                   'listType': 'PLAYLIST_EDIT_LIST_TYPE_QUEUE',\n",
       "                   'onCreateListCommand': {'clickTrackingParams': 'CFwQx-wEGAIiEwjR9qfntrHqAhXUAIkKHfUPBPM=',\n",
       "                    'commandMetadata': {'webCommandMetadata': {'url': '/service_ajax',\n",
       "                      'sendPost': True,\n",
       "                      'apiUrl': '/youtubei/v1/playlist/create'}},\n",
       "                    'createPlaylistServiceEndpoint': {'videoIds': ['v9WGfVweWFo'],\n",
       "                     'params': 'CAQ%3D'}},\n",
       "                   'videoIds': ['v9WGfVweWFo']}}]}},\n",
       "              'untoggledAccessibility': {'accessibilityData': {'label': 'Legg i køen'}},\n",
       "              'toggledAccessibility': {'accessibilityData': {'label': 'Lagt til'}},\n",
       "              'trackingParams': 'CFwQx-wEGAIiEwjR9qfntrHqAhXUAIkKHfUPBPM='}},\n",
       "            {'thumbnailOverlayNowPlayingRenderer': {'text': {'runs': [{'text': 'Spilles av nå'}]}}}]}}],\n",
       "        'collapsedItemCount': 3,\n",
       "        'collapsedStateButtonText': {'runs': [{'text': '+'},\n",
       "          {'text': '7'},\n",
       "          {'text': ' til'}],\n",
       "         'accessibility': {'accessibilityData': {'label': '+7 til'}}},\n",
       "        'trackingParams': 'CFoQuj4iEwjR9qfntrHqAhXUAIkKHfUPBPM='}},\n",
       "      'trackingParams': 'CFkQ3BwYDSITCNH2p-e2seoCFdQAiQod9Q8E8w=='}},\n",
       "    {'videoRenderer': {'videoId': 'BogW-2X_X6k',\n",
       "      'thumbnail': {'thumbnails': [{'url': 'https://i.ytimg.com/vi/BogW-2X_X6k/hqdefault.jpg?sqp=-oaymwEjCOADEI4CSFryq4qpAxUIARUAAAAAGAElAADIQj0AgKJDeAE=&rs=AOn4CLDAPjB46XDutLWPbTdFSQxPiAn71g',\n",
       "         'width': 480,\n",
       "         'height': 270}]},\n",
       "      'title': {'runs': [{'text': 'ABBA Mamma Mia'}],\n",
       "       'accessibility': {'accessibilityData': {'label': 'ABBA Mamma Mia av Craig Gagné for 8 år siden 3 minutter og 34 sekunder Sett 7\\xa0250\\xa0081 ganger'}}},\n",
       "      'descriptionSnippet': {'runs': [{'text': 'ABBA Mamma Mia', 'bold': True},\n",
       "        {'text': '.'}]},\n",
       "      'longBylineText': {'runs': [{'text': 'Craig Gagné',\n",
       "         'navigationEndpoint': {'clickTrackingParams': 'CFUQ3DAYDiITCNH2p-e2seoCFdQAiQod9Q8E8w==',\n",
       "          'commandMetadata': {'webCommandMetadata': {'url': '/user/70csgagne',\n",
       "            'webPageType': 'WEB_PAGE_TYPE_BROWSE',\n",
       "            'rootVe': 3611}},\n",
       "          'browseEndpoint': {'browseId': 'UC8WYi1-XDzMBhXQxPM7cpzw',\n",
       "           'canonicalBaseUrl': '/user/70csgagne'}}}]},\n",
       "      'publishedTimeText': {'simpleText': 'for 8 år siden'},\n",
       "      'lengthText': {'accessibility': {'accessibilityData': {'label': '3 minutter og 34 sekunder'}},\n",
       "       'simpleText': '3:34'},\n",
       "      'viewCountText': {'simpleText': 'Sett 7\\xa0250\\xa0081 ganger'},\n",
       "      'navigationEndpoint': {'clickTrackingParams': 'CFUQ3DAYDiITCNH2p-e2seoCFdQAiQod9Q8E8zIGc2VhcmNoUg5BYmJhIE1hbW1hIE1pYZoBAxD0JA==',\n",
       "       'commandMetadata': {'webCommandMetadata': {'url': '/watch?v=BogW-2X_X6k',\n",
       "         'webPageType': 'WEB_PAGE_TYPE_WATCH',\n",
       "         'rootVe': 3832}},\n",
       "       'watchEndpoint': {'videoId': 'BogW-2X_X6k'}},\n",
       "      'ownerText': {'runs': [{'text': 'Craig Gagné',\n",
       "         'navigationEndpoint': {'clickTrackingParams': 'CFUQ3DAYDiITCNH2p-e2seoCFdQAiQod9Q8E8w==',\n",
       "          'commandMetadata': {'webCommandMetadata': {'url': '/user/70csgagne',\n",
       "            'webPageType': 'WEB_PAGE_TYPE_BROWSE',\n",
       "            'rootVe': 3611}},\n",
       "          'browseEndpoint': {'browseId': 'UC8WYi1-XDzMBhXQxPM7cpzw',\n",
       "           'canonicalBaseUrl': '/user/70csgagne'}}}]},\n",
       "      'shortBylineText': {'runs': [{'text': 'Craig Gagné',\n",
       "         'navigationEndpoint': {'clickTrackingParams': 'CFUQ3DAYDiITCNH2p-e2seoCFdQAiQod9Q8E8w==',\n",
       "          'commandMetadata': {'webCommandMetadata': {'url': '/user/70csgagne',\n",
       "            'webPageType': 'WEB_PAGE_TYPE_BROWSE',\n",
       "            'rootVe': 3611}},\n",
       "          'browseEndpoint': {'browseId': 'UC8WYi1-XDzMBhXQxPM7cpzw',\n",
       "           'canonicalBaseUrl': '/user/70csgagne'}}}]},\n",
       "      'trackingParams': 'CFUQ3DAYDiITCNH2p-e2seoCFdQAiQod9Q8E80Cpv_2vtt-FxAY=',\n",
       "      'showActionMenu': False,\n",
       "      'shortViewCountText': {'simpleText': 'Sett 7,2\\xa0mill. ganger'},\n",
       "      'menu': {'menuRenderer': {'items': [{'menuServiceItemRenderer': {'text': {'runs': [{'text': 'Legg i køen'}]},\n",
       "           'icon': {'iconType': 'ADD_TO_QUEUE_TAIL'},\n",
       "           'serviceEndpoint': {'clickTrackingParams': 'CFgQ_pgEGAQiEwjR9qfntrHqAhXUAIkKHfUPBPM=',\n",
       "            'commandMetadata': {'webCommandMetadata': {'url': '/service_ajax',\n",
       "              'sendPost': True}},\n",
       "            'signalServiceEndpoint': {'signal': 'CLIENT_SIGNAL',\n",
       "             'actions': [{'clickTrackingParams': 'CFgQ_pgEGAQiEwjR9qfntrHqAhXUAIkKHfUPBPM=',\n",
       "               'commandMetadata': {'webCommandMetadata': {}},\n",
       "               'addToPlaylistCommand': {'openMiniplayer': True,\n",
       "                'videoId': 'BogW-2X_X6k',\n",
       "                'listType': 'PLAYLIST_EDIT_LIST_TYPE_QUEUE',\n",
       "                'onCreateListCommand': {'clickTrackingParams': 'CFgQ_pgEGAQiEwjR9qfntrHqAhXUAIkKHfUPBPM=',\n",
       "                 'commandMetadata': {'webCommandMetadata': {'url': '/service_ajax',\n",
       "                   'sendPost': True,\n",
       "                   'apiUrl': '/youtubei/v1/playlist/create'}},\n",
       "                 'createPlaylistServiceEndpoint': {'videoIds': ['BogW-2X_X6k'],\n",
       "                  'params': 'CAQ%3D'}},\n",
       "                'videoIds': ['BogW-2X_X6k']}}]}},\n",
       "           'trackingParams': 'CFgQ_pgEGAQiEwjR9qfntrHqAhXUAIkKHfUPBPM='}}],\n",
       "        'trackingParams': 'CFUQ3DAYDiITCNH2p-e2seoCFdQAiQod9Q8E8w==',\n",
       "        'accessibility': {'accessibilityData': {'label': 'Handlingsmeny'}}}},\n",
       "      'channelThumbnailSupportedRenderers': {'channelThumbnailWithLinkRenderer': {'thumbnail': {'thumbnails': [{'url': 'https://yt3.ggpht.com/a-/AOh14Gg8f-CqZPRf1jCCOx5A9_8w34GWzz9txEd9KQ=s68-c-k-c0x00ffffff-no-rj-mo',\n",
       "           'width': 68,\n",
       "           'height': 68}]},\n",
       "        'navigationEndpoint': {'clickTrackingParams': 'CFUQ3DAYDiITCNH2p-e2seoCFdQAiQod9Q8E8w==',\n",
       "         'commandMetadata': {'webCommandMetadata': {'url': '/user/70csgagne',\n",
       "           'webPageType': 'WEB_PAGE_TYPE_BROWSE',\n",
       "           'rootVe': 3611}},\n",
       "         'browseEndpoint': {'browseId': 'UC8WYi1-XDzMBhXQxPM7cpzw',\n",
       "          'canonicalBaseUrl': '/user/70csgagne'}},\n",
       "        'accessibility': {'accessibilityData': {'label': 'Gå til kanalen'}}}},\n",
       "      'thumbnailOverlays': [{'thumbnailOverlayTimeStatusRenderer': {'text': {'accessibility': {'accessibilityData': {'label': '3 minutter og 34 sekunder'}},\n",
       "          'simpleText': '3:34'},\n",
       "         'style': 'DEFAULT'}},\n",
       "       {'thumbnailOverlayToggleButtonRenderer': {'isToggled': False,\n",
       "         'untoggledIcon': {'iconType': 'WATCH_LATER'},\n",
       "         'toggledIcon': {'iconType': 'CHECK'},\n",
       "         'untoggledTooltip': 'Se senere',\n",
       "         'toggledTooltip': 'Lagt til',\n",
       "         'untoggledServiceEndpoint': {'clickTrackingParams': 'CFcQ-ecDGAEiEwjR9qfntrHqAhXUAIkKHfUPBPM=',\n",
       "          'commandMetadata': {'webCommandMetadata': {'url': '/service_ajax',\n",
       "            'sendPost': True,\n",
       "            'apiUrl': '/youtubei/v1/browse/edit_playlist'}},\n",
       "          'playlistEditEndpoint': {'playlistId': 'WL',\n",
       "           'actions': [{'addedVideoId': 'BogW-2X_X6k',\n",
       "             'action': 'ACTION_ADD_VIDEO'}]}},\n",
       "         'toggledServiceEndpoint': {'clickTrackingParams': 'CFcQ-ecDGAEiEwjR9qfntrHqAhXUAIkKHfUPBPM=',\n",
       "          'commandMetadata': {'webCommandMetadata': {'url': '/service_ajax',\n",
       "            'sendPost': True,\n",
       "            'apiUrl': '/youtubei/v1/browse/edit_playlist'}},\n",
       "          'playlistEditEndpoint': {'playlistId': 'WL',\n",
       "           'actions': [{'action': 'ACTION_REMOVE_VIDEO_BY_VIDEO_ID',\n",
       "             'removedVideoId': 'BogW-2X_X6k'}]}},\n",
       "         'untoggledAccessibility': {'accessibilityData': {'label': 'Se senere'}},\n",
       "         'toggledAccessibility': {'accessibilityData': {'label': 'Lagt til'}},\n",
       "         'trackingParams': 'CFcQ-ecDGAEiEwjR9qfntrHqAhXUAIkKHfUPBPM='}},\n",
       "       {'thumbnailOverlayToggleButtonRenderer': {'untoggledIcon': {'iconType': 'ADD_TO_QUEUE_TAIL'},\n",
       "         'toggledIcon': {'iconType': 'PLAYLIST_ADD_CHECK'},\n",
       "         'untoggledTooltip': 'Legg i køen',\n",
       "         'toggledTooltip': 'Lagt til',\n",
       "         'untoggledServiceEndpoint': {'clickTrackingParams': 'CFYQx-wEGAIiEwjR9qfntrHqAhXUAIkKHfUPBPM=',\n",
       "          'commandMetadata': {'webCommandMetadata': {'url': '/service_ajax',\n",
       "            'sendPost': True}},\n",
       "          'signalServiceEndpoint': {'signal': 'CLIENT_SIGNAL',\n",
       "           'actions': [{'clickTrackingParams': 'CFYQx-wEGAIiEwjR9qfntrHqAhXUAIkKHfUPBPM=',\n",
       "             'commandMetadata': {'webCommandMetadata': {}},\n",
       "             'addToPlaylistCommand': {'openMiniplayer': True,\n",
       "              'videoId': 'BogW-2X_X6k',\n",
       "              'listType': 'PLAYLIST_EDIT_LIST_TYPE_QUEUE',\n",
       "              'onCreateListCommand': {'clickTrackingParams': 'CFYQx-wEGAIiEwjR9qfntrHqAhXUAIkKHfUPBPM=',\n",
       "               'commandMetadata': {'webCommandMetadata': {'url': '/service_ajax',\n",
       "                 'sendPost': True,\n",
       "                 'apiUrl': '/youtubei/v1/playlist/create'}},\n",
       "               'createPlaylistServiceEndpoint': {'videoIds': ['BogW-2X_X6k'],\n",
       "                'params': 'CAQ%3D'}},\n",
       "              'videoIds': ['BogW-2X_X6k']}}]}},\n",
       "         'untoggledAccessibility': {'accessibilityData': {'label': 'Legg i køen'}},\n",
       "         'toggledAccessibility': {'accessibilityData': {'label': 'Lagt til'}},\n",
       "         'trackingParams': 'CFYQx-wEGAIiEwjR9qfntrHqAhXUAIkKHfUPBPM='}},\n",
       "       {'thumbnailOverlayNowPlayingRenderer': {'text': {'runs': [{'text': 'Spilles av nå'}]}}}]}},\n",
       "    {'videoRenderer': {'videoId': 'iyIOl-s7JTU',\n",
       "      'thumbnail': {'thumbnails': [{'url': 'https://i.ytimg.com/vi/iyIOl-s7JTU/hq720.jpg?sqp=-oaymwEjCOgCEMoBSFryq4qpAxUIARUAAAAAGAElAADIQj0AgKJDeAE=&rs=AOn4CLCeY7UMItwwLJwpJ_25plF6MKHNmg',\n",
       "         'width': 360,\n",
       "         'height': 202},\n",
       "        {'url': 'https://i.ytimg.com/vi/iyIOl-s7JTU/hq720.jpg?sqp=-oaymwEXCNAFEJQDSFryq4qpAwkIARUAAIhCGAE=&rs=AOn4CLBxaWY10D_Wxu2JV-mGKp5iQmv1gg',\n",
       "         'width': 720,\n",
       "         'height': 404}]},\n",
       "      'title': {'runs': [{'text': 'ABBA - The Winner Takes It All (1980) HD 0815007'}],\n",
       "       'accessibility': {'accessibilityData': {'label': 'ABBA - The Winner Takes It All (1980) HD 0815007 av ForbiddenInGermany2 for 9 år siden 4 minutter og 49 sekunder Sett 113\\xa0631\\xa0737 ganger'}}},\n",
       "      'descriptionSnippet': {'runs': [{'text': 'ABBA', 'bold': True},\n",
       "        {'text': ' - The Winner Takes It All (1980). Audio-CD-Sound zu Video-Material aus TV-Show. HQ-Video.'}]},\n",
       "      'longBylineText': {'runs': [{'text': 'ForbiddenInGermany2',\n",
       "         'navigationEndpoint': {'clickTrackingParams': 'CFEQ3DAYDyITCNH2p-e2seoCFdQAiQod9Q8E8w==',\n",
       "          'commandMetadata': {'webCommandMetadata': {'url': '/user/ForbiddenInGermany2',\n",
       "            'webPageType': 'WEB_PAGE_TYPE_BROWSE',\n",
       "            'rootVe': 3611}},\n",
       "          'browseEndpoint': {'browseId': 'UCiw0MAiWKuNnixxfJ7iRavQ',\n",
       "           'canonicalBaseUrl': '/user/ForbiddenInGermany2'}}}]},\n",
       "      'publishedTimeText': {'simpleText': 'for 9 år siden'},\n",
       "      'lengthText': {'accessibility': {'accessibilityData': {'label': '4 minutter og 49 sekunder'}},\n",
       "       'simpleText': '4:49'},\n",
       "      'viewCountText': {'simpleText': 'Sett 113\\xa0631\\xa0737 ganger'},\n",
       "      'navigationEndpoint': {'clickTrackingParams': 'CFEQ3DAYDyITCNH2p-e2seoCFdQAiQod9Q8E8zIGc2VhcmNoUg5BYmJhIE1hbW1hIE1pYZoBAxD0JA==',\n",
       "       'commandMetadata': {'webCommandMetadata': {'url': '/watch?v=iyIOl-s7JTU',\n",
       "         'webPageType': 'WEB_PAGE_TYPE_WATCH',\n",
       "         'rootVe': 3832}},\n",
       "       'watchEndpoint': {'videoId': 'iyIOl-s7JTU'}},\n",
       "      'ownerText': {'runs': [{'text': 'ForbiddenInGermany2',\n",
       "         'navigationEndpoint': {'clickTrackingParams': 'CFEQ3DAYDyITCNH2p-e2seoCFdQAiQod9Q8E8w==',\n",
       "          'commandMetadata': {'webCommandMetadata': {'url': '/user/ForbiddenInGermany2',\n",
       "            'webPageType': 'WEB_PAGE_TYPE_BROWSE',\n",
       "            'rootVe': 3611}},\n",
       "          'browseEndpoint': {'browseId': 'UCiw0MAiWKuNnixxfJ7iRavQ',\n",
       "           'canonicalBaseUrl': '/user/ForbiddenInGermany2'}}}]},\n",
       "      'shortBylineText': {'runs': [{'text': 'ForbiddenInGermany2',\n",
       "         'navigationEndpoint': {'clickTrackingParams': 'CFEQ3DAYDyITCNH2p-e2seoCFdQAiQod9Q8E8w==',\n",
       "          'commandMetadata': {'webCommandMetadata': {'url': '/user/ForbiddenInGermany2',\n",
       "            'webPageType': 'WEB_PAGE_TYPE_BROWSE',\n",
       "            'rootVe': 3611}},\n",
       "          'browseEndpoint': {'browseId': 'UCiw0MAiWKuNnixxfJ7iRavQ',\n",
       "           'canonicalBaseUrl': '/user/ForbiddenInGermany2'}}}]},\n",
       "      'trackingParams': 'CFEQ3DAYDyITCNH2p-e2seoCFdQAiQod9Q8E80C1yuzZ_tKDkYsB',\n",
       "      'showActionMenu': False,\n",
       "      'shortViewCountText': {'simpleText': 'Sett 113\\xa0mill. ganger'},\n",
       "      'menu': {'menuRenderer': {'items': [{'menuServiceItemRenderer': {'text': {'runs': [{'text': 'Legg i køen'}]},\n",
       "           'icon': {'iconType': 'ADD_TO_QUEUE_TAIL'},\n",
       "           'serviceEndpoint': {'clickTrackingParams': 'CFQQ_pgEGAQiEwjR9qfntrHqAhXUAIkKHfUPBPM=',\n",
       "            'commandMetadata': {'webCommandMetadata': {'url': '/service_ajax',\n",
       "              'sendPost': True}},\n",
       "            'signalServiceEndpoint': {'signal': 'CLIENT_SIGNAL',\n",
       "             'actions': [{'clickTrackingParams': 'CFQQ_pgEGAQiEwjR9qfntrHqAhXUAIkKHfUPBPM=',\n",
       "               'commandMetadata': {'webCommandMetadata': {}},\n",
       "               'addToPlaylistCommand': {'openMiniplayer': True,\n",
       "                'videoId': 'iyIOl-s7JTU',\n",
       "                'listType': 'PLAYLIST_EDIT_LIST_TYPE_QUEUE',\n",
       "                'onCreateListCommand': {'clickTrackingParams': 'CFQQ_pgEGAQiEwjR9qfntrHqAhXUAIkKHfUPBPM=',\n",
       "                 'commandMetadata': {'webCommandMetadata': {'url': '/service_ajax',\n",
       "                   'sendPost': True,\n",
       "                   'apiUrl': '/youtubei/v1/playlist/create'}},\n",
       "                 'createPlaylistServiceEndpoint': {'videoIds': ['iyIOl-s7JTU'],\n",
       "                  'params': 'CAQ%3D'}},\n",
       "                'videoIds': ['iyIOl-s7JTU']}}]}},\n",
       "           'trackingParams': 'CFQQ_pgEGAQiEwjR9qfntrHqAhXUAIkKHfUPBPM='}}],\n",
       "        'trackingParams': 'CFEQ3DAYDyITCNH2p-e2seoCFdQAiQod9Q8E8w==',\n",
       "        'accessibility': {'accessibilityData': {'label': 'Handlingsmeny'}}}},\n",
       "      'channelThumbnailSupportedRenderers': {'channelThumbnailWithLinkRenderer': {'thumbnail': {'thumbnails': [{'url': 'https://yt3.ggpht.com/a-/AOh14Gj5BJ9-WBM5CZxCewXP3j0dUylvNltlafWQkw=s68-c-k-c0x00ffffff-no-rj-mo',\n",
       "           'width': 68,\n",
       "           'height': 68}]},\n",
       "        'navigationEndpoint': {'clickTrackingParams': 'CFEQ3DAYDyITCNH2p-e2seoCFdQAiQod9Q8E8w==',\n",
       "         'commandMetadata': {'webCommandMetadata': {'url': '/user/ForbiddenInGermany2',\n",
       "           'webPageType': 'WEB_PAGE_TYPE_BROWSE',\n",
       "           'rootVe': 3611}},\n",
       "         'browseEndpoint': {'browseId': 'UCiw0MAiWKuNnixxfJ7iRavQ',\n",
       "          'canonicalBaseUrl': '/user/ForbiddenInGermany2'}},\n",
       "        'accessibility': {'accessibilityData': {'label': 'Gå til kanalen'}}}},\n",
       "      'thumbnailOverlays': [{'thumbnailOverlayTimeStatusRenderer': {'text': {'accessibility': {'accessibilityData': {'label': '4 minutter og 49 sekunder'}},\n",
       "          'simpleText': '4:49'},\n",
       "         'style': 'DEFAULT'}},\n",
       "       {'thumbnailOverlayToggleButtonRenderer': {'isToggled': False,\n",
       "         'untoggledIcon': {'iconType': 'WATCH_LATER'},\n",
       "         'toggledIcon': {'iconType': 'CHECK'},\n",
       "         'untoggledTooltip': 'Se senere',\n",
       "         'toggledTooltip': 'Lagt til',\n",
       "         'untoggledServiceEndpoint': {'clickTrackingParams': 'CFMQ-ecDGAEiEwjR9qfntrHqAhXUAIkKHfUPBPM=',\n",
       "          'commandMetadata': {'webCommandMetadata': {'url': '/service_ajax',\n",
       "            'sendPost': True,\n",
       "            'apiUrl': '/youtubei/v1/browse/edit_playlist'}},\n",
       "          'playlistEditEndpoint': {'playlistId': 'WL',\n",
       "           'actions': [{'addedVideoId': 'iyIOl-s7JTU',\n",
       "             'action': 'ACTION_ADD_VIDEO'}]}},\n",
       "         'toggledServiceEndpoint': {'clickTrackingParams': 'CFMQ-ecDGAEiEwjR9qfntrHqAhXUAIkKHfUPBPM=',\n",
       "          'commandMetadata': {'webCommandMetadata': {'url': '/service_ajax',\n",
       "            'sendPost': True,\n",
       "            'apiUrl': '/youtubei/v1/browse/edit_playlist'}},\n",
       "          'playlistEditEndpoint': {'playlistId': 'WL',\n",
       "           'actions': [{'action': 'ACTION_REMOVE_VIDEO_BY_VIDEO_ID',\n",
       "             'removedVideoId': 'iyIOl-s7JTU'}]}},\n",
       "         'untoggledAccessibility': {'accessibilityData': {'label': 'Se senere'}},\n",
       "         'toggledAccessibility': {'accessibilityData': {'label': 'Lagt til'}},\n",
       "         'trackingParams': 'CFMQ-ecDGAEiEwjR9qfntrHqAhXUAIkKHfUPBPM='}},\n",
       "       {'thumbnailOverlayToggleButtonRenderer': {'untoggledIcon': {'iconType': 'ADD_TO_QUEUE_TAIL'},\n",
       "         'toggledIcon': {'iconType': 'PLAYLIST_ADD_CHECK'},\n",
       "         'untoggledTooltip': 'Legg i køen',\n",
       "         'toggledTooltip': 'Lagt til',\n",
       "         'untoggledServiceEndpoint': {'clickTrackingParams': 'CFIQx-wEGAIiEwjR9qfntrHqAhXUAIkKHfUPBPM=',\n",
       "          'commandMetadata': {'webCommandMetadata': {'url': '/service_ajax',\n",
       "            'sendPost': True}},\n",
       "          'signalServiceEndpoint': {'signal': 'CLIENT_SIGNAL',\n",
       "           'actions': [{'clickTrackingParams': 'CFIQx-wEGAIiEwjR9qfntrHqAhXUAIkKHfUPBPM=',\n",
       "             'commandMetadata': {'webCommandMetadata': {}},\n",
       "             'addToPlaylistCommand': {'openMiniplayer': True,\n",
       "              'videoId': 'iyIOl-s7JTU',\n",
       "              'listType': 'PLAYLIST_EDIT_LIST_TYPE_QUEUE',\n",
       "              'onCreateListCommand': {'clickTrackingParams': 'CFIQx-wEGAIiEwjR9qfntrHqAhXUAIkKHfUPBPM=',\n",
       "               'commandMetadata': {'webCommandMetadata': {'url': '/service_ajax',\n",
       "                 'sendPost': True,\n",
       "                 'apiUrl': '/youtubei/v1/playlist/create'}},\n",
       "               'createPlaylistServiceEndpoint': {'videoIds': ['iyIOl-s7JTU'],\n",
       "                'params': 'CAQ%3D'}},\n",
       "              'videoIds': ['iyIOl-s7JTU']}}]}},\n",
       "         'untoggledAccessibility': {'accessibilityData': {'label': 'Legg i køen'}},\n",
       "         'toggledAccessibility': {'accessibilityData': {'label': 'Lagt til'}},\n",
       "         'trackingParams': 'CFIQx-wEGAIiEwjR9qfntrHqAhXUAIkKHfUPBPM='}},\n",
       "       {'thumbnailOverlayNowPlayingRenderer': {'text': {'runs': [{'text': 'Spilles av nå'}]}}}]}},\n",
       "    {'videoRenderer': {'videoId': '0P9odR9_FQ4',\n",
       "      'thumbnail': {'thumbnails': [{'url': 'https://i.ytimg.com/vi/0P9odR9_FQ4/hq720.jpg?sqp=-oaymwEjCOgCEMoBSFryq4qpAxUIARUAAAAAGAElAADIQj0AgKJDeAE=&rs=AOn4CLDG96JW6YpPJohqFG913d62zt9I4A',\n",
       "         'width': 360,\n",
       "         'height': 202},\n",
       "        {'url': 'https://i.ytimg.com/vi/0P9odR9_FQ4/hq720.jpg?sqp=-oaymwEXCNAFEJQDSFryq4qpAwkIARUAAIhCGAE=&rs=AOn4CLBQO9N5yvXETp5Vm7N2GJOg2pqgmA',\n",
       "         'width': 720,\n",
       "         'height': 404}]},\n",
       "      'title': {'runs': [{'text': 'THE WINNER TAKES IT ALL (ABBA) - MAMMA MIA + Lyrics'}],\n",
       "       'accessibility': {'accessibilityData': {'label': 'THE WINNER TAKES IT ALL (ABBA) - MAMMA MIA + Lyrics av Ine RP Braat for 3 år siden 4 minutter og 48 sekunder Sett 7\\xa0748\\xa0143 ganger'}}},\n",
       "      'descriptionSnippet': {'runs': [{'text': 'Recall and enjoy: \"The Winner Takes It All\" with lyrics. Edited 2013\\xa0...'}]},\n",
       "      'longBylineText': {'runs': [{'text': 'Ine RP Braat',\n",
       "         'navigationEndpoint': {'clickTrackingParams': 'CE0Q3DAYECITCNH2p-e2seoCFdQAiQod9Q8E8w==',\n",
       "          'commandMetadata': {'webCommandMetadata': {'url': '/channel/UC6JJGfhT2uUxhuktPwlMhnA',\n",
       "            'webPageType': 'WEB_PAGE_TYPE_BROWSE',\n",
       "            'rootVe': 3611}},\n",
       "          'browseEndpoint': {'browseId': 'UC6JJGfhT2uUxhuktPwlMhnA'}}}]},\n",
       "      'publishedTimeText': {'simpleText': 'for 3 år siden'},\n",
       "      'lengthText': {'accessibility': {'accessibilityData': {'label': '4 minutter og 48 sekunder'}},\n",
       "       'simpleText': '4:48'},\n",
       "      'viewCountText': {'simpleText': 'Sett 7\\xa0748\\xa0143 ganger'},\n",
       "      'navigationEndpoint': {'clickTrackingParams': 'CE0Q3DAYECITCNH2p-e2seoCFdQAiQod9Q8E8zIGc2VhcmNoUg5BYmJhIE1hbW1hIE1pYZoBAxD0JA==',\n",
       "       'commandMetadata': {'webCommandMetadata': {'url': '/watch?v=0P9odR9_FQ4',\n",
       "         'webPageType': 'WEB_PAGE_TYPE_WATCH',\n",
       "         'rootVe': 3832}},\n",
       "       'watchEndpoint': {'videoId': '0P9odR9_FQ4'}},\n",
       "      'ownerText': {'runs': [{'text': 'Ine RP Braat',\n",
       "         'navigationEndpoint': {'clickTrackingParams': 'CE0Q3DAYECITCNH2p-e2seoCFdQAiQod9Q8E8w==',\n",
       "          'commandMetadata': {'webCommandMetadata': {'url': '/channel/UC6JJGfhT2uUxhuktPwlMhnA',\n",
       "            'webPageType': 'WEB_PAGE_TYPE_BROWSE',\n",
       "            'rootVe': 3611}},\n",
       "          'browseEndpoint': {'browseId': 'UC6JJGfhT2uUxhuktPwlMhnA'}}}]},\n",
       "      'shortBylineText': {'runs': [{'text': 'Ine RP Braat',\n",
       "         'navigationEndpoint': {'clickTrackingParams': 'CE0Q3DAYECITCNH2p-e2seoCFdQAiQod9Q8E8w==',\n",
       "          'commandMetadata': {'webCommandMetadata': {'url': '/channel/UC6JJGfhT2uUxhuktPwlMhnA',\n",
       "            'webPageType': 'WEB_PAGE_TYPE_BROWSE',\n",
       "            'rootVe': 3611}},\n",
       "          'browseEndpoint': {'browseId': 'UC6JJGfhT2uUxhuktPwlMhnA'}}}]},\n",
       "      'trackingParams': 'CE0Q3DAYECITCNH2p-e2seoCFdQAiQod9Q8E80COqvz70Y7a_9AB',\n",
       "      'showActionMenu': False,\n",
       "      'shortViewCountText': {'simpleText': 'Sett 7,7\\xa0mill. ganger'},\n",
       "      'menu': {'menuRenderer': {'items': [{'menuServiceItemRenderer': {'text': {'runs': [{'text': 'Legg i køen'}]},\n",
       "           'icon': {'iconType': 'ADD_TO_QUEUE_TAIL'},\n",
       "           'serviceEndpoint': {'clickTrackingParams': 'CFAQ_pgEGAQiEwjR9qfntrHqAhXUAIkKHfUPBPM=',\n",
       "            'commandMetadata': {'webCommandMetadata': {'url': '/service_ajax',\n",
       "              'sendPost': True}},\n",
       "            'signalServiceEndpoint': {'signal': 'CLIENT_SIGNAL',\n",
       "             'actions': [{'clickTrackingParams': 'CFAQ_pgEGAQiEwjR9qfntrHqAhXUAIkKHfUPBPM=',\n",
       "               'commandMetadata': {'webCommandMetadata': {}},\n",
       "               'addToPlaylistCommand': {'openMiniplayer': True,\n",
       "                'videoId': '0P9odR9_FQ4',\n",
       "                'listType': 'PLAYLIST_EDIT_LIST_TYPE_QUEUE',\n",
       "                'onCreateListCommand': {'clickTrackingParams': 'CFAQ_pgEGAQiEwjR9qfntrHqAhXUAIkKHfUPBPM=',\n",
       "                 'commandMetadata': {'webCommandMetadata': {'url': '/service_ajax',\n",
       "                   'sendPost': True,\n",
       "                   'apiUrl': '/youtubei/v1/playlist/create'}},\n",
       "                 'createPlaylistServiceEndpoint': {'videoIds': ['0P9odR9_FQ4'],\n",
       "                  'params': 'CAQ%3D'}},\n",
       "                'videoIds': ['0P9odR9_FQ4']}}]}},\n",
       "           'trackingParams': 'CFAQ_pgEGAQiEwjR9qfntrHqAhXUAIkKHfUPBPM='}}],\n",
       "        'trackingParams': 'CE0Q3DAYECITCNH2p-e2seoCFdQAiQod9Q8E8w==',\n",
       "        'accessibility': {'accessibilityData': {'label': 'Handlingsmeny'}}}},\n",
       "      'channelThumbnailSupportedRenderers': {'channelThumbnailWithLinkRenderer': {'thumbnail': {'thumbnails': [{'url': 'https://yt3.ggpht.com/a-/AOh14GhCNW4Lu0Xuc-FhIEd952tqzgYGLKnTHKshEQ=s68-c-k-c0x00ffffff-no-rj-mo',\n",
       "           'width': 68,\n",
       "           'height': 68}]},\n",
       "        'navigationEndpoint': {'clickTrackingParams': 'CE0Q3DAYECITCNH2p-e2seoCFdQAiQod9Q8E8w==',\n",
       "         'commandMetadata': {'webCommandMetadata': {'url': '/channel/UC6JJGfhT2uUxhuktPwlMhnA',\n",
       "           'webPageType': 'WEB_PAGE_TYPE_BROWSE',\n",
       "           'rootVe': 3611}},\n",
       "         'browseEndpoint': {'browseId': 'UC6JJGfhT2uUxhuktPwlMhnA'}},\n",
       "        'accessibility': {'accessibilityData': {'label': 'Gå til kanalen'}}}},\n",
       "      'thumbnailOverlays': [{'thumbnailOverlayTimeStatusRenderer': {'text': {'accessibility': {'accessibilityData': {'label': '4 minutter og 48 sekunder'}},\n",
       "          'simpleText': '4:48'},\n",
       "         'style': 'DEFAULT'}},\n",
       "       {'thumbnailOverlayToggleButtonRenderer': {'isToggled': False,\n",
       "         'untoggledIcon': {'iconType': 'WATCH_LATER'},\n",
       "         'toggledIcon': {'iconType': 'CHECK'},\n",
       "         'untoggledTooltip': 'Se senere',\n",
       "         'toggledTooltip': 'Lagt til',\n",
       "         'untoggledServiceEndpoint': {'clickTrackingParams': 'CE8Q-ecDGAEiEwjR9qfntrHqAhXUAIkKHfUPBPM=',\n",
       "          'commandMetadata': {'webCommandMetadata': {'url': '/service_ajax',\n",
       "            'sendPost': True,\n",
       "            'apiUrl': '/youtubei/v1/browse/edit_playlist'}},\n",
       "          'playlistEditEndpoint': {'playlistId': 'WL',\n",
       "           'actions': [{'addedVideoId': '0P9odR9_FQ4',\n",
       "             'action': 'ACTION_ADD_VIDEO'}]}},\n",
       "         'toggledServiceEndpoint': {'clickTrackingParams': 'CE8Q-ecDGAEiEwjR9qfntrHqAhXUAIkKHfUPBPM=',\n",
       "          'commandMetadata': {'webCommandMetadata': {'url': '/service_ajax',\n",
       "            'sendPost': True,\n",
       "            'apiUrl': '/youtubei/v1/browse/edit_playlist'}},\n",
       "          'playlistEditEndpoint': {'playlistId': 'WL',\n",
       "           'actions': [{'action': 'ACTION_REMOVE_VIDEO_BY_VIDEO_ID',\n",
       "             'removedVideoId': '0P9odR9_FQ4'}]}},\n",
       "         'untoggledAccessibility': {'accessibilityData': {'label': 'Se senere'}},\n",
       "         'toggledAccessibility': {'accessibilityData': {'label': 'Lagt til'}},\n",
       "         'trackingParams': 'CE8Q-ecDGAEiEwjR9qfntrHqAhXUAIkKHfUPBPM='}},\n",
       "       {'thumbnailOverlayToggleButtonRenderer': {'untoggledIcon': {'iconType': 'ADD_TO_QUEUE_TAIL'},\n",
       "         'toggledIcon': {'iconType': 'PLAYLIST_ADD_CHECK'},\n",
       "         'untoggledTooltip': 'Legg i køen',\n",
       "         'toggledTooltip': 'Lagt til',\n",
       "         'untoggledServiceEndpoint': {'clickTrackingParams': 'CE4Qx-wEGAIiEwjR9qfntrHqAhXUAIkKHfUPBPM=',\n",
       "          'commandMetadata': {'webCommandMetadata': {'url': '/service_ajax',\n",
       "            'sendPost': True}},\n",
       "          'signalServiceEndpoint': {'signal': 'CLIENT_SIGNAL',\n",
       "           'actions': [{'clickTrackingParams': 'CE4Qx-wEGAIiEwjR9qfntrHqAhXUAIkKHfUPBPM=',\n",
       "             'commandMetadata': {'webCommandMetadata': {}},\n",
       "             'addToPlaylistCommand': {'openMiniplayer': True,\n",
       "              'videoId': '0P9odR9_FQ4',\n",
       "              'listType': 'PLAYLIST_EDIT_LIST_TYPE_QUEUE',\n",
       "              'onCreateListCommand': {'clickTrackingParams': 'CE4Qx-wEGAIiEwjR9qfntrHqAhXUAIkKHfUPBPM=',\n",
       "               'commandMetadata': {'webCommandMetadata': {'url': '/service_ajax',\n",
       "                 'sendPost': True,\n",
       "                 'apiUrl': '/youtubei/v1/playlist/create'}},\n",
       "               'createPlaylistServiceEndpoint': {'videoIds': ['0P9odR9_FQ4'],\n",
       "                'params': 'CAQ%3D'}},\n",
       "              'videoIds': ['0P9odR9_FQ4']}}]}},\n",
       "         'untoggledAccessibility': {'accessibilityData': {'label': 'Legg i køen'}},\n",
       "         'toggledAccessibility': {'accessibilityData': {'label': 'Lagt til'}},\n",
       "         'trackingParams': 'CE4Qx-wEGAIiEwjR9qfntrHqAhXUAIkKHfUPBPM='}},\n",
       "       {'thumbnailOverlayNowPlayingRenderer': {'text': {'runs': [{'text': 'Spilles av nå'}]}}}]}},\n",
       "    {'videoRenderer': {'videoId': 'lWpmALY8Z_s',\n",
       "      'thumbnail': {'thumbnails': [{'url': 'https://i.ytimg.com/vi/lWpmALY8Z_s/hq720.jpg?sqp=-oaymwEjCOgCEMoBSFryq4qpAxUIARUAAAAAGAElAADIQj0AgKJDeAE=&rs=AOn4CLDsN_-so4i3vtGDCMEMKEmCT9FtFg',\n",
       "         'width': 360,\n",
       "         'height': 202},\n",
       "        {'url': 'https://i.ytimg.com/vi/lWpmALY8Z_s/hq720.jpg?sqp=-oaymwEXCNAFEJQDSFryq4qpAwkIARUAAIhCGAE=&rs=AOn4CLBQGXEXz02YZa43ZOcAPlq89sHqCQ',\n",
       "         'width': 720,\n",
       "         'height': 404}]},\n",
       "      'title': {'runs': [{'text': 'Mamma Mia - ABBA Cover'}],\n",
       "       'accessibility': {'accessibilityData': {'label': 'Mamma Mia - ABBA Cover av Josh Turner Guitar for 7 måneder siden 4 minutter og 22 sekunder Sett 1\\xa0165\\xa0702 ganger'}}},\n",
       "      'descriptionSnippet': {'runs': [{'text': 'Mamma Mia', 'bold': True},\n",
       "        {'text': ' - '},\n",
       "        {'text': 'ABBA', 'bold': True},\n",
       "        {'text': ' Cover | Josh Turner Guitar Support on Patreon: https://www.patreon.com/JoshTurnerGuitar Subscribe:\\xa0...'}]},\n",
       "      'longBylineText': {'runs': [{'text': 'Josh Turner Guitar',\n",
       "         'navigationEndpoint': {'clickTrackingParams': 'CEkQ3DAYESITCNH2p-e2seoCFdQAiQod9Q8E8w==',\n",
       "          'commandMetadata': {'webCommandMetadata': {'url': '/channel/UC3Wj9aO8VS5ZuXrtWfJf81w',\n",
       "            'webPageType': 'WEB_PAGE_TYPE_BROWSE',\n",
       "            'rootVe': 3611}},\n",
       "          'browseEndpoint': {'browseId': 'UC3Wj9aO8VS5ZuXrtWfJf81w',\n",
       "           'canonicalBaseUrl': '/channel/UC3Wj9aO8VS5ZuXrtWfJf81w'}}}]},\n",
       "      'publishedTimeText': {'simpleText': 'for 7 måneder siden'},\n",
       "      'lengthText': {'accessibility': {'accessibilityData': {'label': '4 minutter og 22 sekunder'}},\n",
       "       'simpleText': '4:22'},\n",
       "      'viewCountText': {'simpleText': 'Sett 1\\xa0165\\xa0702 ganger'},\n",
       "      'navigationEndpoint': {'clickTrackingParams': 'CEkQ3DAYESITCNH2p-e2seoCFdQAiQod9Q8E8zIGc2VhcmNoUg5BYmJhIE1hbW1hIE1pYZoBAxD0JA==',\n",
       "       'commandMetadata': {'webCommandMetadata': {'url': '/watch?v=lWpmALY8Z_s',\n",
       "         'webPageType': 'WEB_PAGE_TYPE_WATCH',\n",
       "         'rootVe': 3832}},\n",
       "       'watchEndpoint': {'videoId': 'lWpmALY8Z_s'}},\n",
       "      'badges': [{'metadataBadgeRenderer': {'style': 'BADGE_STYLE_TYPE_SIMPLE',\n",
       "         'label': '4K',\n",
       "         'trackingParams': 'CEkQ3DAYESITCNH2p-e2seoCFdQAiQod9Q8E8w=='}}],\n",
       "      'ownerBadges': [{'metadataBadgeRenderer': {'icon': {'iconType': 'OFFICIAL_ARTIST_BADGE'},\n",
       "         'style': 'BADGE_STYLE_TYPE_VERIFIED_ARTIST',\n",
       "         'tooltip': 'Offisiell artistkanal',\n",
       "         'trackingParams': 'CEkQ3DAYESITCNH2p-e2seoCFdQAiQod9Q8E8w=='}}],\n",
       "      'ownerText': {'runs': [{'text': 'Josh Turner Guitar',\n",
       "         'navigationEndpoint': {'clickTrackingParams': 'CEkQ3DAYESITCNH2p-e2seoCFdQAiQod9Q8E8w==',\n",
       "          'commandMetadata': {'webCommandMetadata': {'url': '/channel/UC3Wj9aO8VS5ZuXrtWfJf81w',\n",
       "            'webPageType': 'WEB_PAGE_TYPE_BROWSE',\n",
       "            'rootVe': 3611}},\n",
       "          'browseEndpoint': {'browseId': 'UC3Wj9aO8VS5ZuXrtWfJf81w',\n",
       "           'canonicalBaseUrl': '/channel/UC3Wj9aO8VS5ZuXrtWfJf81w'}}}]},\n",
       "      'shortBylineText': {'runs': [{'text': 'Josh Turner Guitar',\n",
       "         'navigationEndpoint': {'clickTrackingParams': 'CEkQ3DAYESITCNH2p-e2seoCFdQAiQod9Q8E8w==',\n",
       "          'commandMetadata': {'webCommandMetadata': {'url': '/channel/UC3Wj9aO8VS5ZuXrtWfJf81w',\n",
       "            'webPageType': 'WEB_PAGE_TYPE_BROWSE',\n",
       "            'rootVe': 3611}},\n",
       "          'browseEndpoint': {'browseId': 'UC3Wj9aO8VS5ZuXrtWfJf81w',\n",
       "           'canonicalBaseUrl': '/channel/UC3Wj9aO8VS5ZuXrtWfJf81w'}}}]},\n",
       "      'trackingParams': 'CEkQ3DAYESITCNH2p-e2seoCFdQAiQod9Q8E80D7z_Gxi8CZtZUB',\n",
       "      'showActionMenu': False,\n",
       "      'shortViewCountText': {'simpleText': 'Sett 1,1\\xa0mill. ganger'},\n",
       "      'menu': {'menuRenderer': {'items': [{'menuServiceItemRenderer': {'text': {'runs': [{'text': 'Legg i køen'}]},\n",
       "           'icon': {'iconType': 'ADD_TO_QUEUE_TAIL'},\n",
       "           'serviceEndpoint': {'clickTrackingParams': 'CEwQ_pgEGAYiEwjR9qfntrHqAhXUAIkKHfUPBPM=',\n",
       "            'commandMetadata': {'webCommandMetadata': {'url': '/service_ajax',\n",
       "              'sendPost': True}},\n",
       "            'signalServiceEndpoint': {'signal': 'CLIENT_SIGNAL',\n",
       "             'actions': [{'clickTrackingParams': 'CEwQ_pgEGAYiEwjR9qfntrHqAhXUAIkKHfUPBPM=',\n",
       "               'commandMetadata': {'webCommandMetadata': {}},\n",
       "               'addToPlaylistCommand': {'openMiniplayer': True,\n",
       "                'videoId': 'lWpmALY8Z_s',\n",
       "                'listType': 'PLAYLIST_EDIT_LIST_TYPE_QUEUE',\n",
       "                'onCreateListCommand': {'clickTrackingParams': 'CEwQ_pgEGAYiEwjR9qfntrHqAhXUAIkKHfUPBPM=',\n",
       "                 'commandMetadata': {'webCommandMetadata': {'url': '/service_ajax',\n",
       "                   'sendPost': True,\n",
       "                   'apiUrl': '/youtubei/v1/playlist/create'}},\n",
       "                 'createPlaylistServiceEndpoint': {'videoIds': ['lWpmALY8Z_s'],\n",
       "                  'params': 'CAQ%3D'}},\n",
       "                'videoIds': ['lWpmALY8Z_s']}}]}},\n",
       "           'trackingParams': 'CEwQ_pgEGAYiEwjR9qfntrHqAhXUAIkKHfUPBPM='}}],\n",
       "        'trackingParams': 'CEkQ3DAYESITCNH2p-e2seoCFdQAiQod9Q8E8w==',\n",
       "        'accessibility': {'accessibilityData': {'label': 'Handlingsmeny'}}}},\n",
       "      'channelThumbnailSupportedRenderers': {'channelThumbnailWithLinkRenderer': {'thumbnail': {'thumbnails': [{'url': 'https://yt3.ggpht.com/a-/AOh14Gj6xd8mrUj8bLJlnQzyHf21VIO1OUA43lGXqw=s68-c-k-c0x00ffffff-no-rj-mo',\n",
       "           'width': 68,\n",
       "           'height': 68}]},\n",
       "        'navigationEndpoint': {'clickTrackingParams': 'CEkQ3DAYESITCNH2p-e2seoCFdQAiQod9Q8E8w==',\n",
       "         'commandMetadata': {'webCommandMetadata': {'url': '/channel/UC3Wj9aO8VS5ZuXrtWfJf81w',\n",
       "           'webPageType': 'WEB_PAGE_TYPE_BROWSE',\n",
       "           'rootVe': 3611}},\n",
       "         'browseEndpoint': {'browseId': 'UC3Wj9aO8VS5ZuXrtWfJf81w'}},\n",
       "        'accessibility': {'accessibilityData': {'label': 'Gå til kanalen'}}}},\n",
       "      'thumbnailOverlays': [{'thumbnailOverlayTimeStatusRenderer': {'text': {'accessibility': {'accessibilityData': {'label': '4 minutter og 22 sekunder'}},\n",
       "          'simpleText': '4:22'},\n",
       "         'style': 'DEFAULT'}},\n",
       "       {'thumbnailOverlayToggleButtonRenderer': {'isToggled': False,\n",
       "         'untoggledIcon': {'iconType': 'WATCH_LATER'},\n",
       "         'toggledIcon': {'iconType': 'CHECK'},\n",
       "         'untoggledTooltip': 'Se senere',\n",
       "         'toggledTooltip': 'Lagt til',\n",
       "         'untoggledServiceEndpoint': {'clickTrackingParams': 'CEsQ-ecDGAMiEwjR9qfntrHqAhXUAIkKHfUPBPM=',\n",
       "          'commandMetadata': {'webCommandMetadata': {'url': '/service_ajax',\n",
       "            'sendPost': True,\n",
       "            'apiUrl': '/youtubei/v1/browse/edit_playlist'}},\n",
       "          'playlistEditEndpoint': {'playlistId': 'WL',\n",
       "           'actions': [{'addedVideoId': 'lWpmALY8Z_s',\n",
       "             'action': 'ACTION_ADD_VIDEO'}]}},\n",
       "         'toggledServiceEndpoint': {'clickTrackingParams': 'CEsQ-ecDGAMiEwjR9qfntrHqAhXUAIkKHfUPBPM=',\n",
       "          'commandMetadata': {'webCommandMetadata': {'url': '/service_ajax',\n",
       "            'sendPost': True,\n",
       "            'apiUrl': '/youtubei/v1/browse/edit_playlist'}},\n",
       "          'playlistEditEndpoint': {'playlistId': 'WL',\n",
       "           'actions': [{'action': 'ACTION_REMOVE_VIDEO_BY_VIDEO_ID',\n",
       "             'removedVideoId': 'lWpmALY8Z_s'}]}},\n",
       "         'untoggledAccessibility': {'accessibilityData': {'label': 'Se senere'}},\n",
       "         'toggledAccessibility': {'accessibilityData': {'label': 'Lagt til'}},\n",
       "         'trackingParams': 'CEsQ-ecDGAMiEwjR9qfntrHqAhXUAIkKHfUPBPM='}},\n",
       "       {'thumbnailOverlayToggleButtonRenderer': {'untoggledIcon': {'iconType': 'ADD_TO_QUEUE_TAIL'},\n",
       "         'toggledIcon': {'iconType': 'PLAYLIST_ADD_CHECK'},\n",
       "         'untoggledTooltip': 'Legg i køen',\n",
       "         'toggledTooltip': 'Lagt til',\n",
       "         'untoggledServiceEndpoint': {'clickTrackingParams': 'CEoQx-wEGAQiEwjR9qfntrHqAhXUAIkKHfUPBPM=',\n",
       "          'commandMetadata': {'webCommandMetadata': {'url': '/service_ajax',\n",
       "            'sendPost': True}},\n",
       "          'signalServiceEndpoint': {'signal': 'CLIENT_SIGNAL',\n",
       "           'actions': [{'clickTrackingParams': 'CEoQx-wEGAQiEwjR9qfntrHqAhXUAIkKHfUPBPM=',\n",
       "             'commandMetadata': {'webCommandMetadata': {}},\n",
       "             'addToPlaylistCommand': {'openMiniplayer': True,\n",
       "              'videoId': 'lWpmALY8Z_s',\n",
       "              'listType': 'PLAYLIST_EDIT_LIST_TYPE_QUEUE',\n",
       "              'onCreateListCommand': {'clickTrackingParams': 'CEoQx-wEGAQiEwjR9qfntrHqAhXUAIkKHfUPBPM=',\n",
       "               'commandMetadata': {'webCommandMetadata': {'url': '/service_ajax',\n",
       "                 'sendPost': True,\n",
       "                 'apiUrl': '/youtubei/v1/playlist/create'}},\n",
       "               'createPlaylistServiceEndpoint': {'videoIds': ['lWpmALY8Z_s'],\n",
       "                'params': 'CAQ%3D'}},\n",
       "              'videoIds': ['lWpmALY8Z_s']}}]}},\n",
       "         'untoggledAccessibility': {'accessibilityData': {'label': 'Legg i køen'}},\n",
       "         'toggledAccessibility': {'accessibilityData': {'label': 'Lagt til'}},\n",
       "         'trackingParams': 'CEoQx-wEGAQiEwjR9qfntrHqAhXUAIkKHfUPBPM='}},\n",
       "       {'thumbnailOverlayNowPlayingRenderer': {'text': {'runs': [{'text': 'Spilles av nå'}]}}}]}},\n",
       "    {'radioRenderer': {'playlistId': 'RDunfzfe8f9NI',\n",
       "      'title': {'simpleText': 'Miks – Abba - Mamma Mia (Official Video)'},\n",
       "      'thumbnail': {'thumbnails': [{'url': 'https://i.ytimg.com/vi/unfzfe8f9NI/hqdefault.jpg?sqp=-oaymwEWCKgBEF5IWvKriqkDCQgBFQAAiEIYAQ==&rs=AOn4CLBffeVm0CVo9WZN1V7cyjBBnBUA7w',\n",
       "         'width': 168,\n",
       "         'height': 94},\n",
       "        {'url': 'https://i.ytimg.com/vi/unfzfe8f9NI/hqdefault.jpg?sqp=-oaymwEWCMQBEG5IWvKriqkDCQgBFQAAiEIYAQ==&rs=AOn4CLCI6KmYMgDA95bJYt3WDsMBqji2dw',\n",
       "         'width': 196,\n",
       "         'height': 110},\n",
       "        {'url': 'https://i.ytimg.com/vi/unfzfe8f9NI/hqdefault.jpg?sqp=-oaymwEXCPYBEIoBSFryq4qpAwkIARUAAIhCGAE=&rs=AOn4CLC9N6zY15AEJ9DOjQCiO6qYeYicXg',\n",
       "         'width': 246,\n",
       "         'height': 138},\n",
       "        {'url': 'https://i.ytimg.com/vi/unfzfe8f9NI/hqdefault.jpg?sqp=-oaymwEXCNACELwBSFryq4qpAwkIARUAAIhCGAE=&rs=AOn4CLBLvQcBgNbfeANLEU1u5MTydZ9rCA',\n",
       "         'width': 336,\n",
       "         'height': 188}]},\n",
       "      'videoCountText': {'runs': [{'text': 'Mer enn 50 videoer'}]},\n",
       "      'navigationEndpoint': {'clickTrackingParams': 'CEgQuzcYEiITCNH2p-e2seoCFdQAiQod9Q8E8zIGc2VhcmNo',\n",
       "       'commandMetadata': {'webCommandMetadata': {'url': '/watch?v=unfzfe8f9NI&list=RDunfzfe8f9NI&start_radio=1',\n",
       "         'webPageType': 'WEB_PAGE_TYPE_WATCH',\n",
       "         'rootVe': 3832}},\n",
       "       'watchEndpoint': {'videoId': 'unfzfe8f9NI',\n",
       "        'playlistId': 'RDunfzfe8f9NI',\n",
       "        'params': 'OALAAQE%3D',\n",
       "        'continuePlayback': True}},\n",
       "      'shortBylineText': {'simpleText': 'YouTube'},\n",
       "      'trackingParams': 'CEgQuzcYEiITCNH2p-e2seoCFdQAiQod9Q8E8w==',\n",
       "      'videos': [{'childVideoRenderer': {'title': {'simpleText': 'Abba - Mamma Mia (Official Video)'},\n",
       "         'navigationEndpoint': {'clickTrackingParams': 'CEgQuzcYEiITCNH2p-e2seoCFdQAiQod9Q8E8zIGc2VhcmNo',\n",
       "          'commandMetadata': {'webCommandMetadata': {'url': '/watch?v=unfzfe8f9NI&list=RDunfzfe8f9NI&start_radio=1',\n",
       "            'webPageType': 'WEB_PAGE_TYPE_WATCH',\n",
       "            'rootVe': 3832}},\n",
       "          'watchEndpoint': {'videoId': 'unfzfe8f9NI',\n",
       "           'playlistId': 'RDunfzfe8f9NI',\n",
       "           'params': 'wAEB'}},\n",
       "         'lengthText': {'accessibility': {'accessibilityData': {'label': '3 minutter og 31 sekunder'}},\n",
       "          'simpleText': '3:31'},\n",
       "         'videoId': 'unfzfe8f9NI'}},\n",
       "       {'childVideoRenderer': {'title': {'simpleText': 'Earth, Wind & Fire - September'},\n",
       "         'navigationEndpoint': {'clickTrackingParams': 'CEgQuzcYEiITCNH2p-e2seoCFdQAiQod9Q8E8zIGc2VhcmNo',\n",
       "          'commandMetadata': {'webCommandMetadata': {'url': '/watch?v=Gs069dndIYk&list=RDunfzfe8f9NI&start_radio=1',\n",
       "            'webPageType': 'WEB_PAGE_TYPE_WATCH',\n",
       "            'rootVe': 3832}},\n",
       "          'watchEndpoint': {'videoId': 'Gs069dndIYk',\n",
       "           'playlistId': 'RDunfzfe8f9NI',\n",
       "           'params': 'wAEB'}},\n",
       "         'lengthText': {'accessibility': {'accessibilityData': {'label': '3 minutter og 36 sekunder'}},\n",
       "          'simpleText': '3:36'},\n",
       "         'videoId': 'Gs069dndIYk'}}],\n",
       "      'thumbnailText': {'runs': [{'text': 'Over 50', 'bold': True},\n",
       "        {'text': ' videoer'}]},\n",
       "      'longBylineText': {'simpleText': 'YouTube'},\n",
       "      'thumbnailOverlays': [{'thumbnailOverlaySidePanelRenderer': {'text': {'runs': [{'text': '50+'}]},\n",
       "         'icon': {'iconType': 'MIX'}}},\n",
       "       {'thumbnailOverlayHoverTextRenderer': {'text': {'runs': [{'text': 'Spill av alle'}]},\n",
       "         'icon': {'iconType': 'PLAY_ALL'}}},\n",
       "       {'thumbnailOverlayNowPlayingRenderer': {'text': {'runs': [{'text': 'Spilles av nå'}]}}}],\n",
       "      'videoCountShortText': {'runs': [{'text': '50+'}]}}},\n",
       "    {'videoRenderer': {'videoId': 'xFrGuyw1V8s',\n",
       "      'thumbnail': {'thumbnails': [{'url': 'https://i.ytimg.com/vi/xFrGuyw1V8s/hq720.jpg?sqp=-oaymwEjCOgCEMoBSFryq4qpAxUIARUAAAAAGAElAADIQj0AgKJDeAE=&rs=AOn4CLAmeZiUGSxlTfNT0SpdF7fJuAV_1Q',\n",
       "         'width': 360,\n",
       "         'height': 202},\n",
       "        {'url': 'https://i.ytimg.com/vi/xFrGuyw1V8s/hq720.jpg?sqp=-oaymwEXCNAFEJQDSFryq4qpAwkIARUAAIhCGAE=&rs=AOn4CLAarhyImlTU6DLg7nlNG48aJcxzkQ',\n",
       "         'width': 720,\n",
       "         'height': 404}]},\n",
       "      'title': {'runs': [{'text': 'Abba - Dancing Queen (Official Video)'}],\n",
       "       'accessibility': {'accessibilityData': {'label': 'Abba - Dancing Queen (Official Video) av ABBA for 10 år siden 3 minutter og 52 sekunder Sett 426\\xa0736\\xa0421 ganger'}}},\n",
       "      'descriptionSnippet': {'runs': [{'text': 'Listen to '},\n",
       "        {'text': 'ABBA', 'bold': True},\n",
       "        {'text': ': https://play.lnk.to/'},\n",
       "        {'text': 'ABBA', 'bold': True},\n",
       "        {'text': ' Follow '},\n",
       "        {'text': 'ABBA', 'bold': True},\n",
       "        {'text': ' Facebook: https://www.facebook.com/'},\n",
       "        {'text': 'ABBA', 'bold': True},\n",
       "        {'text': '/ Instagram:\\xa0...'}]},\n",
       "      'longBylineText': {'runs': [{'text': 'ABBA',\n",
       "         'navigationEndpoint': {'clickTrackingParams': 'CEQQ3DAYEyITCNH2p-e2seoCFdQAiQod9Q8E8w==',\n",
       "          'commandMetadata': {'webCommandMetadata': {'url': '/channel/UCYPs4y5esNqx6ax1CxZws6Q',\n",
       "            'webPageType': 'WEB_PAGE_TYPE_BROWSE',\n",
       "            'rootVe': 3611}},\n",
       "          'browseEndpoint': {'browseId': 'UCYPs4y5esNqx6ax1CxZws6Q',\n",
       "           'canonicalBaseUrl': '/channel/UCYPs4y5esNqx6ax1CxZws6Q'}}}]},\n",
       "      'publishedTimeText': {'simpleText': 'for 10 år siden'},\n",
       "      'lengthText': {'accessibility': {'accessibilityData': {'label': '3 minutter og 52 sekunder'}},\n",
       "       'simpleText': '3:52'},\n",
       "      'viewCountText': {'simpleText': 'Sett 426\\xa0736\\xa0421 ganger'},\n",
       "      'navigationEndpoint': {'clickTrackingParams': 'CEQQ3DAYEyITCNH2p-e2seoCFdQAiQod9Q8E8zIGc2VhcmNoUg5BYmJhIE1hbW1hIE1pYZoBAxD0JA==',\n",
       "       'commandMetadata': {'webCommandMetadata': {'url': '/watch?v=xFrGuyw1V8s',\n",
       "         'webPageType': 'WEB_PAGE_TYPE_WATCH',\n",
       "         'rootVe': 3832}},\n",
       "       'watchEndpoint': {'videoId': 'xFrGuyw1V8s'}},\n",
       "      'badges': [{'metadataBadgeRenderer': {'style': 'BADGE_STYLE_TYPE_SIMPLE',\n",
       "         'label': 'Teksting',\n",
       "         'trackingParams': 'CEQQ3DAYEyITCNH2p-e2seoCFdQAiQod9Q8E8w=='}}],\n",
       "      'ownerBadges': [{'metadataBadgeRenderer': {'icon': {'iconType': 'OFFICIAL_ARTIST_BADGE'},\n",
       "         'style': 'BADGE_STYLE_TYPE_VERIFIED_ARTIST',\n",
       "         'tooltip': 'Offisiell artistkanal',\n",
       "         'trackingParams': 'CEQQ3DAYEyITCNH2p-e2seoCFdQAiQod9Q8E8w=='}}],\n",
       "      'ownerText': {'runs': [{'text': 'ABBA',\n",
       "         'navigationEndpoint': {'clickTrackingParams': 'CEQQ3DAYEyITCNH2p-e2seoCFdQAiQod9Q8E8w==',\n",
       "          'commandMetadata': {'webCommandMetadata': {'url': '/channel/UCYPs4y5esNqx6ax1CxZws6Q',\n",
       "            'webPageType': 'WEB_PAGE_TYPE_BROWSE',\n",
       "            'rootVe': 3611}},\n",
       "          'browseEndpoint': {'browseId': 'UCYPs4y5esNqx6ax1CxZws6Q',\n",
       "           'canonicalBaseUrl': '/channel/UCYPs4y5esNqx6ax1CxZws6Q'}}}]},\n",
       "      'shortBylineText': {'runs': [{'text': 'ABBA',\n",
       "         'navigationEndpoint': {'clickTrackingParams': 'CEQQ3DAYEyITCNH2p-e2seoCFdQAiQod9Q8E8w==',\n",
       "          'commandMetadata': {'webCommandMetadata': {'url': '/channel/UCYPs4y5esNqx6ax1CxZws6Q',\n",
       "            'webPageType': 'WEB_PAGE_TYPE_BROWSE',\n",
       "            'rootVe': 3611}},\n",
       "          'browseEndpoint': {'browseId': 'UCYPs4y5esNqx6ax1CxZws6Q',\n",
       "           'canonicalBaseUrl': '/channel/UCYPs4y5esNqx6ax1CxZws6Q'}}}]},\n",
       "      'trackingParams': 'CEQQ3DAYEyITCNH2p-e2seoCFdQAiQod9Q8E80DLr9XhstexrcQB',\n",
       "      'showActionMenu': False,\n",
       "      'shortViewCountText': {'simpleText': 'Sett 426\\xa0mill. ganger'},\n",
       "      'menu': {'menuRenderer': {'items': [{'menuServiceItemRenderer': {'text': {'runs': [{'text': 'Legg i køen'}]},\n",
       "           'icon': {'iconType': 'ADD_TO_QUEUE_TAIL'},\n",
       "           'serviceEndpoint': {'clickTrackingParams': 'CEcQ_pgEGAYiEwjR9qfntrHqAhXUAIkKHfUPBPM=',\n",
       "            'commandMetadata': {'webCommandMetadata': {'url': '/service_ajax',\n",
       "              'sendPost': True}},\n",
       "            'signalServiceEndpoint': {'signal': 'CLIENT_SIGNAL',\n",
       "             'actions': [{'clickTrackingParams': 'CEcQ_pgEGAYiEwjR9qfntrHqAhXUAIkKHfUPBPM=',\n",
       "               'commandMetadata': {'webCommandMetadata': {}},\n",
       "               'addToPlaylistCommand': {'openMiniplayer': True,\n",
       "                'videoId': 'xFrGuyw1V8s',\n",
       "                'listType': 'PLAYLIST_EDIT_LIST_TYPE_QUEUE',\n",
       "                'onCreateListCommand': {'clickTrackingParams': 'CEcQ_pgEGAYiEwjR9qfntrHqAhXUAIkKHfUPBPM=',\n",
       "                 'commandMetadata': {'webCommandMetadata': {'url': '/service_ajax',\n",
       "                   'sendPost': True,\n",
       "                   'apiUrl': '/youtubei/v1/playlist/create'}},\n",
       "                 'createPlaylistServiceEndpoint': {'videoIds': ['xFrGuyw1V8s'],\n",
       "                  'params': 'CAQ%3D'}},\n",
       "                'videoIds': ['xFrGuyw1V8s']}}]}},\n",
       "           'trackingParams': 'CEcQ_pgEGAYiEwjR9qfntrHqAhXUAIkKHfUPBPM='}}],\n",
       "        'trackingParams': 'CEQQ3DAYEyITCNH2p-e2seoCFdQAiQod9Q8E8w==',\n",
       "        'accessibility': {'accessibilityData': {'label': 'Handlingsmeny'}}}},\n",
       "      'channelThumbnailSupportedRenderers': {'channelThumbnailWithLinkRenderer': {'thumbnail': {'thumbnails': [{'url': 'https://yt3.ggpht.com/a-/AOh14Gi1LYke3duGSrrVAY_nCCuUlvcwohwX3Gdz4A=s68-c-k-c0x00ffffff-no-rj-mo',\n",
       "           'width': 68,\n",
       "           'height': 68}]},\n",
       "        'navigationEndpoint': {'clickTrackingParams': 'CEQQ3DAYEyITCNH2p-e2seoCFdQAiQod9Q8E8w==',\n",
       "         'commandMetadata': {'webCommandMetadata': {'url': '/channel/UCYPs4y5esNqx6ax1CxZws6Q',\n",
       "           'webPageType': 'WEB_PAGE_TYPE_BROWSE',\n",
       "           'rootVe': 3611}},\n",
       "         'browseEndpoint': {'browseId': 'UCYPs4y5esNqx6ax1CxZws6Q'}},\n",
       "        'accessibility': {'accessibilityData': {'label': 'Gå til kanalen'}}}},\n",
       "      'thumbnailOverlays': [{'thumbnailOverlayTimeStatusRenderer': {'text': {'accessibility': {'accessibilityData': {'label': '3 minutter og 52 sekunder'}},\n",
       "          'simpleText': '3:52'},\n",
       "         'style': 'DEFAULT'}},\n",
       "       {'thumbnailOverlayToggleButtonRenderer': {'isToggled': False,\n",
       "         'untoggledIcon': {'iconType': 'WATCH_LATER'},\n",
       "         'toggledIcon': {'iconType': 'CHECK'},\n",
       "         'untoggledTooltip': 'Se senere',\n",
       "         'toggledTooltip': 'Lagt til',\n",
       "         'untoggledServiceEndpoint': {'clickTrackingParams': 'CEYQ-ecDGAMiEwjR9qfntrHqAhXUAIkKHfUPBPM=',\n",
       "          'commandMetadata': {'webCommandMetadata': {'url': '/service_ajax',\n",
       "            'sendPost': True,\n",
       "            'apiUrl': '/youtubei/v1/browse/edit_playlist'}},\n",
       "          'playlistEditEndpoint': {'playlistId': 'WL',\n",
       "           'actions': [{'addedVideoId': 'xFrGuyw1V8s',\n",
       "             'action': 'ACTION_ADD_VIDEO'}]}},\n",
       "         'toggledServiceEndpoint': {'clickTrackingParams': 'CEYQ-ecDGAMiEwjR9qfntrHqAhXUAIkKHfUPBPM=',\n",
       "          'commandMetadata': {'webCommandMetadata': {'url': '/service_ajax',\n",
       "            'sendPost': True,\n",
       "            'apiUrl': '/youtubei/v1/browse/edit_playlist'}},\n",
       "          'playlistEditEndpoint': {'playlistId': 'WL',\n",
       "           'actions': [{'action': 'ACTION_REMOVE_VIDEO_BY_VIDEO_ID',\n",
       "             'removedVideoId': 'xFrGuyw1V8s'}]}},\n",
       "         'untoggledAccessibility': {'accessibilityData': {'label': 'Se senere'}},\n",
       "         'toggledAccessibility': {'accessibilityData': {'label': 'Lagt til'}},\n",
       "         'trackingParams': 'CEYQ-ecDGAMiEwjR9qfntrHqAhXUAIkKHfUPBPM='}},\n",
       "       {'thumbnailOverlayToggleButtonRenderer': {'untoggledIcon': {'iconType': 'ADD_TO_QUEUE_TAIL'},\n",
       "         'toggledIcon': {'iconType': 'PLAYLIST_ADD_CHECK'},\n",
       "         'untoggledTooltip': 'Legg i køen',\n",
       "         'toggledTooltip': 'Lagt til',\n",
       "         'untoggledServiceEndpoint': {'clickTrackingParams': 'CEUQx-wEGAQiEwjR9qfntrHqAhXUAIkKHfUPBPM=',\n",
       "          'commandMetadata': {'webCommandMetadata': {'url': '/service_ajax',\n",
       "            'sendPost': True}},\n",
       "          'signalServiceEndpoint': {'signal': 'CLIENT_SIGNAL',\n",
       "           'actions': [{'clickTrackingParams': 'CEUQx-wEGAQiEwjR9qfntrHqAhXUAIkKHfUPBPM=',\n",
       "             'commandMetadata': {'webCommandMetadata': {}},\n",
       "             'addToPlaylistCommand': {'openMiniplayer': True,\n",
       "              'videoId': 'xFrGuyw1V8s',\n",
       "              'listType': 'PLAYLIST_EDIT_LIST_TYPE_QUEUE',\n",
       "              'onCreateListCommand': {'clickTrackingParams': 'CEUQx-wEGAQiEwjR9qfntrHqAhXUAIkKHfUPBPM=',\n",
       "               'commandMetadata': {'webCommandMetadata': {'url': '/service_ajax',\n",
       "                 'sendPost': True,\n",
       "                 'apiUrl': '/youtubei/v1/playlist/create'}},\n",
       "               'createPlaylistServiceEndpoint': {'videoIds': ['xFrGuyw1V8s'],\n",
       "                'params': 'CAQ%3D'}},\n",
       "              'videoIds': ['xFrGuyw1V8s']}}]}},\n",
       "         'untoggledAccessibility': {'accessibilityData': {'label': 'Legg i køen'}},\n",
       "         'toggledAccessibility': {'accessibilityData': {'label': 'Lagt til'}},\n",
       "         'trackingParams': 'CEUQx-wEGAQiEwjR9qfntrHqAhXUAIkKHfUPBPM='}},\n",
       "       {'thumbnailOverlayNowPlayingRenderer': {'text': {'runs': [{'text': 'Spilles av nå'}]}}}]}},\n",
       "    {'videoRenderer': {'videoId': 'miSZwiA0rV0',\n",
       "      'thumbnail': {'thumbnails': [{'url': 'https://i.ytimg.com/vi/miSZwiA0rV0/hq720.jpg?sqp=-oaymwEjCOgCEMoBSFryq4qpAxUIARUAAAAAGAElAADIQj0AgKJDeAE=&rs=AOn4CLCBMUlForN9ZxaAY08qOWoz0qbwYg',\n",
       "         'width': 360,\n",
       "         'height': 202},\n",
       "        {'url': 'https://i.ytimg.com/vi/miSZwiA0rV0/hq720.jpg?sqp=-oaymwEXCNAFEJQDSFryq4qpAwkIARUAAIhCGAE=&rs=AOn4CLDGej-NNNYUDIpHjIHPN1GFZ-SohA',\n",
       "         'width': 720,\n",
       "         'height': 404}]},\n",
       "      'title': {'runs': [{'text': 'ABBA - Mamma Mia   [HD quality]  1976'}],\n",
       "       'accessibility': {'accessibilityData': {'label': 'ABBA - Mamma Mia   [HD quality]  1976 av Thaapa1 for 5 år siden 3 minutter og 30 sekunder Sett 154\\xa0244 ganger'}}},\n",
       "      'descriptionSnippet': {'runs': [{'text': '\"'},\n",
       "        {'text': 'Mamma Mia', 'bold': True},\n",
       "        {'text': '\" is a single by '},\n",
       "        {'text': 'ABBA', 'bold': True},\n",
       "        {'text': ' from the album \"'},\n",
       "        {'text': 'ABBA', 'bold': True},\n",
       "        {'text': '\", released in 21 April 1975. It became the band second UK number one\\xa0...'}]},\n",
       "      'longBylineText': {'runs': [{'text': 'Thaapa1',\n",
       "         'navigationEndpoint': {'clickTrackingParams': 'CEAQ3DAYFCITCNH2p-e2seoCFdQAiQod9Q8E8w==',\n",
       "          'commandMetadata': {'webCommandMetadata': {'url': '/user/Thaapa1',\n",
       "            'webPageType': 'WEB_PAGE_TYPE_BROWSE',\n",
       "            'rootVe': 3611}},\n",
       "          'browseEndpoint': {'browseId': 'UCaTzBhurbyfutlxutGjcuFQ',\n",
       "           'canonicalBaseUrl': '/user/Thaapa1'}}}]},\n",
       "      'publishedTimeText': {'simpleText': 'for 5 år siden'},\n",
       "      'lengthText': {'accessibility': {'accessibilityData': {'label': '3 minutter og 30 sekunder'}},\n",
       "       'simpleText': '3:30'},\n",
       "      'viewCountText': {'simpleText': 'Sett 154\\xa0244 ganger'},\n",
       "      'navigationEndpoint': {'clickTrackingParams': 'CEAQ3DAYFCITCNH2p-e2seoCFdQAiQod9Q8E8zIGc2VhcmNoUg5BYmJhIE1hbW1hIE1pYZoBAxD0JA==',\n",
       "       'commandMetadata': {'webCommandMetadata': {'url': '/watch?v=miSZwiA0rV0',\n",
       "         'webPageType': 'WEB_PAGE_TYPE_WATCH',\n",
       "         'rootVe': 3832}},\n",
       "       'watchEndpoint': {'videoId': 'miSZwiA0rV0'}},\n",
       "      'ownerText': {'runs': [{'text': 'Thaapa1',\n",
       "         'navigationEndpoint': {'clickTrackingParams': 'CEAQ3DAYFCITCNH2p-e2seoCFdQAiQod9Q8E8w==',\n",
       "          'commandMetadata': {'webCommandMetadata': {'url': '/user/Thaapa1',\n",
       "            'webPageType': 'WEB_PAGE_TYPE_BROWSE',\n",
       "            'rootVe': 3611}},\n",
       "          'browseEndpoint': {'browseId': 'UCaTzBhurbyfutlxutGjcuFQ',\n",
       "           'canonicalBaseUrl': '/user/Thaapa1'}}}]},\n",
       "      'shortBylineText': {'runs': [{'text': 'Thaapa1',\n",
       "         'navigationEndpoint': {'clickTrackingParams': 'CEAQ3DAYFCITCNH2p-e2seoCFdQAiQod9Q8E8w==',\n",
       "          'commandMetadata': {'webCommandMetadata': {'url': '/user/Thaapa1',\n",
       "            'webPageType': 'WEB_PAGE_TYPE_BROWSE',\n",
       "            'rootVe': 3611}},\n",
       "          'browseEndpoint': {'browseId': 'UCaTzBhurbyfutlxutGjcuFQ',\n",
       "           'canonicalBaseUrl': '/user/Thaapa1'}}}]},\n",
       "      'trackingParams': 'CEAQ3DAYFCITCNH2p-e2seoCFdQAiQod9Q8E80Dd2tKBorimkpoB',\n",
       "      'showActionMenu': False,\n",
       "      'shortViewCountText': {'simpleText': 'Sett 154k ganger'},\n",
       "      'menu': {'menuRenderer': {'items': [{'menuServiceItemRenderer': {'text': {'runs': [{'text': 'Legg i køen'}]},\n",
       "           'icon': {'iconType': 'ADD_TO_QUEUE_TAIL'},\n",
       "           'serviceEndpoint': {'clickTrackingParams': 'CEMQ_pgEGAQiEwjR9qfntrHqAhXUAIkKHfUPBPM=',\n",
       "            'commandMetadata': {'webCommandMetadata': {'url': '/service_ajax',\n",
       "              'sendPost': True}},\n",
       "            'signalServiceEndpoint': {'signal': 'CLIENT_SIGNAL',\n",
       "             'actions': [{'clickTrackingParams': 'CEMQ_pgEGAQiEwjR9qfntrHqAhXUAIkKHfUPBPM=',\n",
       "               'commandMetadata': {'webCommandMetadata': {}},\n",
       "               'addToPlaylistCommand': {'openMiniplayer': True,\n",
       "                'videoId': 'miSZwiA0rV0',\n",
       "                'listType': 'PLAYLIST_EDIT_LIST_TYPE_QUEUE',\n",
       "                'onCreateListCommand': {'clickTrackingParams': 'CEMQ_pgEGAQiEwjR9qfntrHqAhXUAIkKHfUPBPM=',\n",
       "                 'commandMetadata': {'webCommandMetadata': {'url': '/service_ajax',\n",
       "                   'sendPost': True,\n",
       "                   'apiUrl': '/youtubei/v1/playlist/create'}},\n",
       "                 'createPlaylistServiceEndpoint': {'videoIds': ['miSZwiA0rV0'],\n",
       "                  'params': 'CAQ%3D'}},\n",
       "                'videoIds': ['miSZwiA0rV0']}}]}},\n",
       "           'trackingParams': 'CEMQ_pgEGAQiEwjR9qfntrHqAhXUAIkKHfUPBPM='}}],\n",
       "        'trackingParams': 'CEAQ3DAYFCITCNH2p-e2seoCFdQAiQod9Q8E8w==',\n",
       "        'accessibility': {'accessibilityData': {'label': 'Handlingsmeny'}}}},\n",
       "      'channelThumbnailSupportedRenderers': {'channelThumbnailWithLinkRenderer': {'thumbnail': {'thumbnails': [{'url': 'https://yt3.ggpht.com/a-/AOh14GjyCIdCZUPJwEmSQmAyIsBEZ2JIZ8GVj9ucUg=s68-c-k-c0x00ffffff-no-rj-mo',\n",
       "           'width': 68,\n",
       "           'height': 68}]},\n",
       "        'navigationEndpoint': {'clickTrackingParams': 'CEAQ3DAYFCITCNH2p-e2seoCFdQAiQod9Q8E8w==',\n",
       "         'commandMetadata': {'webCommandMetadata': {'url': '/user/Thaapa1',\n",
       "           'webPageType': 'WEB_PAGE_TYPE_BROWSE',\n",
       "           'rootVe': 3611}},\n",
       "         'browseEndpoint': {'browseId': 'UCaTzBhurbyfutlxutGjcuFQ',\n",
       "          'canonicalBaseUrl': '/user/Thaapa1'}},\n",
       "        'accessibility': {'accessibilityData': {'label': 'Gå til kanalen'}}}},\n",
       "      'thumbnailOverlays': [{'thumbnailOverlayTimeStatusRenderer': {'text': {'accessibility': {'accessibilityData': {'label': '3 minutter og 30 sekunder'}},\n",
       "          'simpleText': '3:30'},\n",
       "         'style': 'DEFAULT'}},\n",
       "       {'thumbnailOverlayToggleButtonRenderer': {'isToggled': False,\n",
       "         'untoggledIcon': {'iconType': 'WATCH_LATER'},\n",
       "         'toggledIcon': {'iconType': 'CHECK'},\n",
       "         'untoggledTooltip': 'Se senere',\n",
       "         'toggledTooltip': 'Lagt til',\n",
       "         'untoggledServiceEndpoint': {'clickTrackingParams': 'CEIQ-ecDGAEiEwjR9qfntrHqAhXUAIkKHfUPBPM=',\n",
       "          'commandMetadata': {'webCommandMetadata': {'url': '/service_ajax',\n",
       "            'sendPost': True,\n",
       "            'apiUrl': '/youtubei/v1/browse/edit_playlist'}},\n",
       "          'playlistEditEndpoint': {'playlistId': 'WL',\n",
       "           'actions': [{'addedVideoId': 'miSZwiA0rV0',\n",
       "             'action': 'ACTION_ADD_VIDEO'}]}},\n",
       "         'toggledServiceEndpoint': {'clickTrackingParams': 'CEIQ-ecDGAEiEwjR9qfntrHqAhXUAIkKHfUPBPM=',\n",
       "          'commandMetadata': {'webCommandMetadata': {'url': '/service_ajax',\n",
       "            'sendPost': True,\n",
       "            'apiUrl': '/youtubei/v1/browse/edit_playlist'}},\n",
       "          'playlistEditEndpoint': {'playlistId': 'WL',\n",
       "           'actions': [{'action': 'ACTION_REMOVE_VIDEO_BY_VIDEO_ID',\n",
       "             'removedVideoId': 'miSZwiA0rV0'}]}},\n",
       "         'untoggledAccessibility': {'accessibilityData': {'label': 'Se senere'}},\n",
       "         'toggledAccessibility': {'accessibilityData': {'label': 'Lagt til'}},\n",
       "         'trackingParams': 'CEIQ-ecDGAEiEwjR9qfntrHqAhXUAIkKHfUPBPM='}},\n",
       "       {'thumbnailOverlayToggleButtonRenderer': {'untoggledIcon': {'iconType': 'ADD_TO_QUEUE_TAIL'},\n",
       "         'toggledIcon': {'iconType': 'PLAYLIST_ADD_CHECK'},\n",
       "         'untoggledTooltip': 'Legg i køen',\n",
       "         'toggledTooltip': 'Lagt til',\n",
       "         'untoggledServiceEndpoint': {'clickTrackingParams': 'CEEQx-wEGAIiEwjR9qfntrHqAhXUAIkKHfUPBPM=',\n",
       "          'commandMetadata': {'webCommandMetadata': {'url': '/service_ajax',\n",
       "            'sendPost': True}},\n",
       "          'signalServiceEndpoint': {'signal': 'CLIENT_SIGNAL',\n",
       "           'actions': [{'clickTrackingParams': 'CEEQx-wEGAIiEwjR9qfntrHqAhXUAIkKHfUPBPM=',\n",
       "             'commandMetadata': {'webCommandMetadata': {}},\n",
       "             'addToPlaylistCommand': {'openMiniplayer': True,\n",
       "              'videoId': 'miSZwiA0rV0',\n",
       "              'listType': 'PLAYLIST_EDIT_LIST_TYPE_QUEUE',\n",
       "              'onCreateListCommand': {'clickTrackingParams': 'CEEQx-wEGAIiEwjR9qfntrHqAhXUAIkKHfUPBPM=',\n",
       "               'commandMetadata': {'webCommandMetadata': {'url': '/service_ajax',\n",
       "                 'sendPost': True,\n",
       "                 'apiUrl': '/youtubei/v1/playlist/create'}},\n",
       "               'createPlaylistServiceEndpoint': {'videoIds': ['miSZwiA0rV0'],\n",
       "                'params': 'CAQ%3D'}},\n",
       "              'videoIds': ['miSZwiA0rV0']}}]}},\n",
       "         'untoggledAccessibility': {'accessibilityData': {'label': 'Legg i køen'}},\n",
       "         'toggledAccessibility': {'accessibilityData': {'label': 'Lagt til'}},\n",
       "         'trackingParams': 'CEEQx-wEGAIiEwjR9qfntrHqAhXUAIkKHfUPBPM='}},\n",
       "       {'thumbnailOverlayNowPlayingRenderer': {'text': {'runs': [{'text': 'Spilles av nå'}]}}}]}},\n",
       "    {'videoRenderer': {'videoId': 'eGScDixmUQM',\n",
       "      'thumbnail': {'thumbnails': [{'url': 'https://i.ytimg.com/vi/eGScDixmUQM/hqdefault.jpg?sqp=-oaymwEjCOADEI4CSFryq4qpAxUIARUAAAAAGAElAADIQj0AgKJDeAE=&rs=AOn4CLCvu4VolOcBE2DFZenD1SM3F3zlVg',\n",
       "         'width': 480,\n",
       "         'height': 270}]},\n",
       "      'title': {'runs': [{'text': 'Clip - Super Trouper - Mamma Mia Movie - DVD - Complete'}],\n",
       "       'accessibility': {'accessibilityData': {'label': 'Clip - Super Trouper - Mamma Mia Movie - DVD - Complete av MammaMiaBrazil for 11 år siden 3 minutter og 12 sekunder Sett 10\\xa0378\\xa0535 ganger'}}},\n",
       "      'descriptionSnippet': {'runs': [{'text': 'Clip - Super Trouper - '},\n",
       "        {'text': 'Mamma Mia', 'bold': True},\n",
       "        {'text': ' Movie - DVD - Version Complete.'}]},\n",
       "      'longBylineText': {'runs': [{'text': 'MammaMiaBrazil',\n",
       "         'navigationEndpoint': {'clickTrackingParams': 'CDwQ3DAYFSITCNH2p-e2seoCFdQAiQod9Q8E8w==',\n",
       "          'commandMetadata': {'webCommandMetadata': {'url': '/user/MammaMiaBrazil',\n",
       "            'webPageType': 'WEB_PAGE_TYPE_BROWSE',\n",
       "            'rootVe': 3611}},\n",
       "          'browseEndpoint': {'browseId': 'UCCfWxlvL5130SvSBqX6dweQ',\n",
       "           'canonicalBaseUrl': '/user/MammaMiaBrazil'}}}]},\n",
       "      'publishedTimeText': {'simpleText': 'for 11 år siden'},\n",
       "      'lengthText': {'accessibility': {'accessibilityData': {'label': '3 minutter og 12 sekunder'}},\n",
       "       'simpleText': '3:12'},\n",
       "      'viewCountText': {'simpleText': 'Sett 10\\xa0378\\xa0535 ganger'},\n",
       "      'navigationEndpoint': {'clickTrackingParams': 'CDwQ3DAYFSITCNH2p-e2seoCFdQAiQod9Q8E8zIGc2VhcmNoUg5BYmJhIE1hbW1hIE1pYZoBAxD0JA==',\n",
       "       'commandMetadata': {'webCommandMetadata': {'url': '/watch?v=eGScDixmUQM',\n",
       "         'webPageType': 'WEB_PAGE_TYPE_WATCH',\n",
       "         'rootVe': 3832}},\n",
       "       'watchEndpoint': {'videoId': 'eGScDixmUQM'}},\n",
       "      'ownerText': {'runs': [{'text': 'MammaMiaBrazil',\n",
       "         'navigationEndpoint': {'clickTrackingParams': 'CDwQ3DAYFSITCNH2p-e2seoCFdQAiQod9Q8E8w==',\n",
       "          'commandMetadata': {'webCommandMetadata': {'url': '/user/MammaMiaBrazil',\n",
       "            'webPageType': 'WEB_PAGE_TYPE_BROWSE',\n",
       "            'rootVe': 3611}},\n",
       "          'browseEndpoint': {'browseId': 'UCCfWxlvL5130SvSBqX6dweQ',\n",
       "           'canonicalBaseUrl': '/user/MammaMiaBrazil'}}}]},\n",
       "      'shortBylineText': {'runs': [{'text': 'MammaMiaBrazil',\n",
       "         'navigationEndpoint': {'clickTrackingParams': 'CDwQ3DAYFSITCNH2p-e2seoCFdQAiQod9Q8E8w==',\n",
       "          'commandMetadata': {'webCommandMetadata': {'url': '/user/MammaMiaBrazil',\n",
       "            'webPageType': 'WEB_PAGE_TYPE_BROWSE',\n",
       "            'rootVe': 3611}},\n",
       "          'browseEndpoint': {'browseId': 'UCCfWxlvL5130SvSBqX6dweQ',\n",
       "           'canonicalBaseUrl': '/user/MammaMiaBrazil'}}}]},\n",
       "      'trackingParams': 'CDwQ3DAYFSITCNH2p-e2seoCFdQAiQod9Q8E80CDopnj4oGnsng=',\n",
       "      'showActionMenu': False,\n",
       "      'shortViewCountText': {'simpleText': 'Sett 10\\xa0mill. ganger'},\n",
       "      'menu': {'menuRenderer': {'items': [{'menuServiceItemRenderer': {'text': {'runs': [{'text': 'Legg i køen'}]},\n",
       "           'icon': {'iconType': 'ADD_TO_QUEUE_TAIL'},\n",
       "           'serviceEndpoint': {'clickTrackingParams': 'CD8Q_pgEGAQiEwjR9qfntrHqAhXUAIkKHfUPBPM=',\n",
       "            'commandMetadata': {'webCommandMetadata': {'url': '/service_ajax',\n",
       "              'sendPost': True}},\n",
       "            'signalServiceEndpoint': {'signal': 'CLIENT_SIGNAL',\n",
       "             'actions': [{'clickTrackingParams': 'CD8Q_pgEGAQiEwjR9qfntrHqAhXUAIkKHfUPBPM=',\n",
       "               'commandMetadata': {'webCommandMetadata': {}},\n",
       "               'addToPlaylistCommand': {'openMiniplayer': True,\n",
       "                'videoId': 'eGScDixmUQM',\n",
       "                'listType': 'PLAYLIST_EDIT_LIST_TYPE_QUEUE',\n",
       "                'onCreateListCommand': {'clickTrackingParams': 'CD8Q_pgEGAQiEwjR9qfntrHqAhXUAIkKHfUPBPM=',\n",
       "                 'commandMetadata': {'webCommandMetadata': {'url': '/service_ajax',\n",
       "                   'sendPost': True,\n",
       "                   'apiUrl': '/youtubei/v1/playlist/create'}},\n",
       "                 'createPlaylistServiceEndpoint': {'videoIds': ['eGScDixmUQM'],\n",
       "                  'params': 'CAQ%3D'}},\n",
       "                'videoIds': ['eGScDixmUQM']}}]}},\n",
       "           'trackingParams': 'CD8Q_pgEGAQiEwjR9qfntrHqAhXUAIkKHfUPBPM='}}],\n",
       "        'trackingParams': 'CDwQ3DAYFSITCNH2p-e2seoCFdQAiQod9Q8E8w==',\n",
       "        'accessibility': {'accessibilityData': {'label': 'Handlingsmeny'}}}},\n",
       "      'channelThumbnailSupportedRenderers': {'channelThumbnailWithLinkRenderer': {'thumbnail': {'thumbnails': [{'url': 'https://yt3.ggpht.com/a-/AOh14GgeaRDNs6InAIhDFm427MWgRxQc7v0Urd2pRQ=s68-c-k-c0x00ffffff-no-rj-mo',\n",
       "           'width': 68,\n",
       "           'height': 68}]},\n",
       "        'navigationEndpoint': {'clickTrackingParams': 'CDwQ3DAYFSITCNH2p-e2seoCFdQAiQod9Q8E8w==',\n",
       "         'commandMetadata': {'webCommandMetadata': {'url': '/user/MammaMiaBrazil',\n",
       "           'webPageType': 'WEB_PAGE_TYPE_BROWSE',\n",
       "           'rootVe': 3611}},\n",
       "         'browseEndpoint': {'browseId': 'UCCfWxlvL5130SvSBqX6dweQ',\n",
       "          'canonicalBaseUrl': '/user/MammaMiaBrazil'}},\n",
       "        'accessibility': {'accessibilityData': {'label': 'Gå til kanalen'}}}},\n",
       "      'thumbnailOverlays': [{'thumbnailOverlayTimeStatusRenderer': {'text': {'accessibility': {'accessibilityData': {'label': '3 minutter og 12 sekunder'}},\n",
       "          'simpleText': '3:12'},\n",
       "         'style': 'DEFAULT'}},\n",
       "       {'thumbnailOverlayToggleButtonRenderer': {'isToggled': False,\n",
       "         'untoggledIcon': {'iconType': 'WATCH_LATER'},\n",
       "         'toggledIcon': {'iconType': 'CHECK'},\n",
       "         'untoggledTooltip': 'Se senere',\n",
       "         'toggledTooltip': 'Lagt til',\n",
       "         'untoggledServiceEndpoint': {'clickTrackingParams': 'CD4Q-ecDGAEiEwjR9qfntrHqAhXUAIkKHfUPBPM=',\n",
       "          'commandMetadata': {'webCommandMetadata': {'url': '/service_ajax',\n",
       "            'sendPost': True,\n",
       "            'apiUrl': '/youtubei/v1/browse/edit_playlist'}},\n",
       "          'playlistEditEndpoint': {'playlistId': 'WL',\n",
       "           'actions': [{'addedVideoId': 'eGScDixmUQM',\n",
       "             'action': 'ACTION_ADD_VIDEO'}]}},\n",
       "         'toggledServiceEndpoint': {'clickTrackingParams': 'CD4Q-ecDGAEiEwjR9qfntrHqAhXUAIkKHfUPBPM=',\n",
       "          'commandMetadata': {'webCommandMetadata': {'url': '/service_ajax',\n",
       "            'sendPost': True,\n",
       "            'apiUrl': '/youtubei/v1/browse/edit_playlist'}},\n",
       "          'playlistEditEndpoint': {'playlistId': 'WL',\n",
       "           'actions': [{'action': 'ACTION_REMOVE_VIDEO_BY_VIDEO_ID',\n",
       "             'removedVideoId': 'eGScDixmUQM'}]}},\n",
       "         'untoggledAccessibility': {'accessibilityData': {'label': 'Se senere'}},\n",
       "         'toggledAccessibility': {'accessibilityData': {'label': 'Lagt til'}},\n",
       "         'trackingParams': 'CD4Q-ecDGAEiEwjR9qfntrHqAhXUAIkKHfUPBPM='}},\n",
       "       {'thumbnailOverlayToggleButtonRenderer': {'untoggledIcon': {'iconType': 'ADD_TO_QUEUE_TAIL'},\n",
       "         'toggledIcon': {'iconType': 'PLAYLIST_ADD_CHECK'},\n",
       "         'untoggledTooltip': 'Legg i køen',\n",
       "         'toggledTooltip': 'Lagt til',\n",
       "         'untoggledServiceEndpoint': {'clickTrackingParams': 'CD0Qx-wEGAIiEwjR9qfntrHqAhXUAIkKHfUPBPM=',\n",
       "          'commandMetadata': {'webCommandMetadata': {'url': '/service_ajax',\n",
       "            'sendPost': True}},\n",
       "          'signalServiceEndpoint': {'signal': 'CLIENT_SIGNAL',\n",
       "           'actions': [{'clickTrackingParams': 'CD0Qx-wEGAIiEwjR9qfntrHqAhXUAIkKHfUPBPM=',\n",
       "             'commandMetadata': {'webCommandMetadata': {}},\n",
       "             'addToPlaylistCommand': {'openMiniplayer': True,\n",
       "              'videoId': 'eGScDixmUQM',\n",
       "              'listType': 'PLAYLIST_EDIT_LIST_TYPE_QUEUE',\n",
       "              'onCreateListCommand': {'clickTrackingParams': 'CD0Qx-wEGAIiEwjR9qfntrHqAhXUAIkKHfUPBPM=',\n",
       "               'commandMetadata': {'webCommandMetadata': {'url': '/service_ajax',\n",
       "                 'sendPost': True,\n",
       "                 'apiUrl': '/youtubei/v1/playlist/create'}},\n",
       "               'createPlaylistServiceEndpoint': {'videoIds': ['eGScDixmUQM'],\n",
       "                'params': 'CAQ%3D'}},\n",
       "              'videoIds': ['eGScDixmUQM']}}]}},\n",
       "         'untoggledAccessibility': {'accessibilityData': {'label': 'Legg i køen'}},\n",
       "         'toggledAccessibility': {'accessibilityData': {'label': 'Lagt til'}},\n",
       "         'trackingParams': 'CD0Qx-wEGAIiEwjR9qfntrHqAhXUAIkKHfUPBPM='}},\n",
       "       {'thumbnailOverlayNowPlayingRenderer': {'text': {'runs': [{'text': 'Spilles av nå'}]}}}]}}],\n",
       "   'continuations': [{'nextContinuationData': {'continuation': 'EvkDEg5BYmJhIE1hbW1hIE1pYRrIA1NCU0NBUXQxYm1aNlptVTRaamxPU1lJQkMzVmZNazFLU0dOdU5VRlpnZ0VpVUV3M01UTklRbFZmYVRZNU1FVm5aRGM1TUZBemQyeE1VR2x4T1hjMWMwRmplWUlCQ3paUGQxQklSRFl4V1ROemdnRVNVRXhDUlVFek5qSkVRVVEzTmpNM00wSTNnZ0VMVVZKdlYybFVZMDgzWkd1Q0FRc3lZVFoyYVU5a1JHWTVkNElCQzFKSFUyczFNV1ZxWkZWUmdnRUxhMlYzV0hSclIyMUVkSGVDQVF0NFdtbHFUVUpPZWpVMlNZSUJJbEJNY25KUlkyeHRSbTVmTjJObVlrVk1jMVprWXpGR05WTnZTMlJPVjBOSlYyYUNBUXRxY1Y5MFR6Wk9RV3hRU1lJQkMwSnZaMWN0TWxoZldEWnJnZ0VMYVhsSlQyd3RjemRLVkZXQ0FRc3dVRGx2WkZJNVgwWlJOSUlCQzJ4WGNHMUJURms0V2w5emdnRU5Va1IxYm1aNlptVTRaamxPU1lJQkMzaEdja2QxZVhjeFZqaHpnZ0VMYldsVFduZHBRVEJ5VmpDQ0FRdGxSMU5qUkdsNGJWVlJUUSUzRCUzRMoBGxoXaHR0cHM6Ly93d3cueW91dHViZS5jb20iABi83ugY',\n",
       "      'clickTrackingParams': 'CDsQybcCIhMI0fan57ax6gIV1ACJCh31DwTz',\n",
       "      'label': {'runs': [{'text': 'Vis mer'}]}}}],\n",
       "   'trackingParams': 'CDoQuy8YAiITCNH2p-e2seoCFdQAiQod9Q8E8w=='}}]"
      ]
     },
     "execution_count": 101,
     "metadata": {},
     "output_type": "execute_result"
    }
   ],
   "source": [
    "data[\"contents\"][\"twoColumnSearchResultsRenderer\"][\"primaryContents\"][\"sectionListRenderer\"][\"contents\"]\n"
   ]
  }
 ],
 "metadata": {
  "kernelspec": {
   "argv": [
    "/home/gary/.virtualenvs/bot_dj/bin/python",
    "-m",
    "ipykernel_launcher",
    "-f",
    "{connection_file}"
   ],
   "display_name": "bot_dj",
   "env": null,
   "interrupt_mode": "signal",
   "language": "python",
   "metadata": null,
   "name": "bot_dj"
  },
  "name": "test_search_youtube.ipynb"
 },
 "nbformat": 4,
 "nbformat_minor": 4
}
