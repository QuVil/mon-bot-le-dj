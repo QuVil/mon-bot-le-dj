{
 "cells": [
  {
   "cell_type": "code",
   "execution_count": 1,
   "metadata": {
    "collapsed": false
   },
   "outputs": [],
   "source": [
    "import pandas as pd\n",
    "import numpy as np\n",
    "import pprint\n",
    "import base64"
   ]
  },
  {
   "cell_type": "code",
   "execution_count": 2,
   "metadata": {
    "collapsed": false
   },
   "outputs": [],
   "source": [
    "# autoreload custom modules\n",
    "%load_ext autoreload\n",
    "%autoreload 2"
   ]
  },
  {
   "cell_type": "code",
   "execution_count": 3,
   "metadata": {
    "collapsed": false
   },
   "outputs": [],
   "source": [
    "from src.muzik import Muzik\n",
    "from prototyping.data import load_from_api\n",
    "from prototyping.playlist import create_playlist"
   ]
  },
  {
   "cell_type": "code",
   "execution_count": 4,
   "metadata": {
    "collapsed": false
   },
   "outputs": [
    {
     "name": "stdout",
     "output_type": "stream",
     "text": [
      "Reading data from cache file cache/ids.pkl\n",
      "Local library contains 1784 songs\n"
     ]
    }
   ],
   "source": [
    "muzik = Muzik()\n",
    "ids = muzik.ids"
   ]
  },
  {
   "cell_type": "code",
   "execution_count": 40,
   "metadata": {
    "collapsed": false
   },
   "outputs": [
    {
     "name": "stdout",
     "output_type": "stream",
     "text": [
      "Loading data from API...\n"
     ]
    },
    {
     "name": "stdout",
     "output_type": "stream",
     "text": [
      "Analyzing data...\n",
      "Creating playlist...\n"
     ]
    }
   ],
   "source": [
    "playlist = create_playlist()"
   ]
  },
  {
   "cell_type": "code",
   "execution_count": 6,
   "metadata": {
    "collapsed": false
   },
   "outputs": [],
   "source": [
    "ach = load_from_api()"
   ]
  },
  {
   "cell_type": "code",
   "execution_count": 7,
   "metadata": {
    "collapsed": false
   },
   "outputs": [],
   "source": [
    "# index preprocessing, should be done beforehand\n",
    "# (load_from_api)\n",
    "ach.set_index(['genre', 'sub_genre', 'artist', 'album', 'song'], inplace=True)"
   ]
  },
  {
   "cell_type": "code",
   "execution_count": 61,
   "metadata": {
    "collapsed": false
   },
   "outputs": [
    {
     "name": "stdout",
     "output_type": "stream",
     "text": [
      "Local list already updated\n"
     ]
    }
   ],
   "source": [
    "muzik.update(ach)"
   ]
  },
  {
   "cell_type": "code",
   "execution_count": 10,
   "metadata": {
    "collapsed": false
   },
   "outputs": [],
   "source": [
    "ids = muzik.ids"
   ]
  },
  {
   "cell_type": "code",
   "execution_count": 41,
   "metadata": {
    "collapsed": false
   },
   "outputs": [
    {
     "name": "stdout",
     "output_type": "stream",
     "text": [
      "Using playlist Mon Bot le DJ : 7DqVei9McyRhUNZW4mlS5e\n",
      "Adding 280 tracks, Missing 20 tracks\n",
      "Inserting 280 songs in the playlist...\n",
      "0/3 batch inserting...\n",
      "2/3 batch inserting...\n"
     ]
    },
    {
     "name": "stdout",
     "output_type": "stream",
     "text": [
      "3/3 batch inserting...\n",
      "Playlist done\n"
     ]
    }
   ],
   "source": [
    "muzik.create_playlist(playlist)"
   ]
  }
 ],
 "metadata": {
  "kernelspec": {
   "argv": [
    "/home/gary/.virtualenvs/bot_dj/bin/python",
    "-m",
    "ipykernel_launcher",
    "-f",
    "{connection_file}"
   ],
   "display_name": "bot_dj",
   "env": null,
   "interrupt_mode": "signal",
   "language": "python",
   "metadata": null,
   "name": "bot_dj"
  },
  "name": "test_api_class.ipynb"
 },
 "nbformat": 4,
 "nbformat_minor": 4
}
